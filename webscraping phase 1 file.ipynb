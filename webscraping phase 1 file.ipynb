{
 "cells": [
  {
   "cell_type": "code",
   "execution_count": 1,
   "id": "83875852-2bbc-4eb1-a4b0-df94a51631d5",
   "metadata": {
    "tags": []
   },
   "outputs": [
    {
     "name": "stdout",
     "output_type": "stream",
     "text": [
      "Defaulting to user installation because normal site-packages is not writeable\n",
      "Requirement already satisfied: selenium in c:\\programdata\\anaconda3\\lib\\site-packages (4.10.0)\n",
      "Requirement already satisfied: urllib3[socks]<3,>=1.26 in c:\\programdata\\anaconda3\\lib\\site-packages (from selenium) (1.26.16)\n",
      "Requirement already satisfied: trio~=0.17 in c:\\programdata\\anaconda3\\lib\\site-packages (from selenium) (0.22.2)\n",
      "Requirement already satisfied: trio-websocket~=0.9 in c:\\programdata\\anaconda3\\lib\\site-packages (from selenium) (0.10.3)\n",
      "Requirement already satisfied: certifi>=2021.10.8 in c:\\programdata\\anaconda3\\lib\\site-packages (from selenium) (2023.5.7)\n",
      "Requirement already satisfied: attrs>=20.1.0 in c:\\programdata\\anaconda3\\lib\\site-packages (from trio~=0.17->selenium) (22.1.0)\n",
      "Requirement already satisfied: sortedcontainers in c:\\programdata\\anaconda3\\lib\\site-packages (from trio~=0.17->selenium) (2.4.0)\n",
      "Requirement already satisfied: idna in c:\\programdata\\anaconda3\\lib\\site-packages (from trio~=0.17->selenium) (3.4)\n",
      "Requirement already satisfied: outcome in c:\\programdata\\anaconda3\\lib\\site-packages (from trio~=0.17->selenium) (1.2.0)\n",
      "Requirement already satisfied: sniffio in c:\\programdata\\anaconda3\\lib\\site-packages (from trio~=0.17->selenium) (1.2.0)\n",
      "Requirement already satisfied: cffi>=1.14 in c:\\programdata\\anaconda3\\lib\\site-packages (from trio~=0.17->selenium) (1.15.1)\n",
      "Requirement already satisfied: exceptiongroup in c:\\programdata\\anaconda3\\lib\\site-packages (from trio-websocket~=0.9->selenium) (1.1.2)\n",
      "Requirement already satisfied: wsproto>=0.14 in c:\\programdata\\anaconda3\\lib\\site-packages (from trio-websocket~=0.9->selenium) (1.2.0)\n",
      "Requirement already satisfied: PySocks!=1.5.7,<2.0,>=1.5.6 in c:\\programdata\\anaconda3\\lib\\site-packages (from urllib3[socks]<3,>=1.26->selenium) (1.7.1)\n",
      "Requirement already satisfied: pycparser in c:\\programdata\\anaconda3\\lib\\site-packages (from cffi>=1.14->trio~=0.17->selenium) (2.21)\n",
      "Requirement already satisfied: h11<1,>=0.9.0 in c:\\programdata\\anaconda3\\lib\\site-packages (from wsproto>=0.14->trio-websocket~=0.9->selenium) (0.14.0)\n",
      "Note: you may need to restart the kernel to use updated packages.\n"
     ]
    }
   ],
   "source": [
    "pip install selenium"
   ]
  },
  {
   "cell_type": "code",
   "execution_count": 1,
   "id": "04bd3832-50f4-48ef-bdc3-83a858406c2f",
   "metadata": {
    "tags": []
   },
   "outputs": [
    {
     "name": "stdout",
     "output_type": "stream",
     "text": [
      "Defaulting to user installation because normal site-packages is not writeable\n",
      "Requirement already satisfied: webdriver-manager in c:\\users\\achu narayan\\appdata\\roaming\\python\\python311\\site-packages (4.0.1)\n",
      "Requirement already satisfied: requests in c:\\programdata\\anaconda3\\lib\\site-packages (from webdriver-manager) (2.29.0)\n",
      "Requirement already satisfied: python-dotenv in c:\\programdata\\anaconda3\\lib\\site-packages (from webdriver-manager) (1.0.0)\n",
      "Requirement already satisfied: packaging in c:\\programdata\\anaconda3\\lib\\site-packages (from webdriver-manager) (23.0)\n",
      "Requirement already satisfied: charset-normalizer<4,>=2 in c:\\programdata\\anaconda3\\lib\\site-packages (from requests->webdriver-manager) (2.0.4)\n",
      "Requirement already satisfied: idna<4,>=2.5 in c:\\programdata\\anaconda3\\lib\\site-packages (from requests->webdriver-manager) (3.4)\n",
      "Requirement already satisfied: urllib3<1.27,>=1.21.1 in c:\\programdata\\anaconda3\\lib\\site-packages (from requests->webdriver-manager) (1.26.16)\n",
      "Requirement already satisfied: certifi>=2017.4.17 in c:\\programdata\\anaconda3\\lib\\site-packages (from requests->webdriver-manager) (2023.5.7)\n"
     ]
    }
   ],
   "source": [
    "!pip install webdriver-manager"
   ]
  },
  {
   "cell_type": "code",
   "execution_count": 2,
   "id": "0c351147-38fe-40ba-934d-de2913f4c168",
   "metadata": {
    "tags": []
   },
   "outputs": [
    {
     "name": "stdout",
     "output_type": "stream",
     "text": [
      "Defaulting to user installation because normal site-packages is not writeable\n",
      "Requirement already satisfied: selenium in c:\\programdata\\anaconda3\\lib\\site-packages (4.10.0)\n",
      "Requirement already satisfied: beautifulsoup4 in c:\\programdata\\anaconda3\\lib\\site-packages (4.12.2)\n",
      "Requirement already satisfied: pandas in c:\\programdata\\anaconda3\\lib\\site-packages (1.5.3)\n",
      "Requirement already satisfied: urllib3[socks]<3,>=1.26 in c:\\programdata\\anaconda3\\lib\\site-packages (from selenium) (1.26.16)\n",
      "Requirement already satisfied: trio~=0.17 in c:\\programdata\\anaconda3\\lib\\site-packages (from selenium) (0.22.2)\n",
      "Requirement already satisfied: trio-websocket~=0.9 in c:\\programdata\\anaconda3\\lib\\site-packages (from selenium) (0.10.3)\n",
      "Requirement already satisfied: certifi>=2021.10.8 in c:\\programdata\\anaconda3\\lib\\site-packages (from selenium) (2023.5.7)\n",
      "Requirement already satisfied: soupsieve>1.2 in c:\\programdata\\anaconda3\\lib\\site-packages (from beautifulsoup4) (2.4)\n",
      "Requirement already satisfied: python-dateutil>=2.8.1 in c:\\programdata\\anaconda3\\lib\\site-packages (from pandas) (2.8.2)\n",
      "Requirement already satisfied: pytz>=2020.1 in c:\\programdata\\anaconda3\\lib\\site-packages (from pandas) (2022.7)\n",
      "Requirement already satisfied: numpy>=1.21.0 in c:\\programdata\\anaconda3\\lib\\site-packages (from pandas) (1.24.3)\n",
      "Requirement already satisfied: six>=1.5 in c:\\programdata\\anaconda3\\lib\\site-packages (from python-dateutil>=2.8.1->pandas) (1.16.0)\n",
      "Requirement already satisfied: attrs>=20.1.0 in c:\\programdata\\anaconda3\\lib\\site-packages (from trio~=0.17->selenium) (22.1.0)\n",
      "Requirement already satisfied: sortedcontainers in c:\\programdata\\anaconda3\\lib\\site-packages (from trio~=0.17->selenium) (2.4.0)\n",
      "Requirement already satisfied: idna in c:\\programdata\\anaconda3\\lib\\site-packages (from trio~=0.17->selenium) (3.4)\n",
      "Requirement already satisfied: outcome in c:\\programdata\\anaconda3\\lib\\site-packages (from trio~=0.17->selenium) (1.2.0)\n",
      "Requirement already satisfied: sniffio in c:\\programdata\\anaconda3\\lib\\site-packages (from trio~=0.17->selenium) (1.2.0)\n",
      "Requirement already satisfied: cffi>=1.14 in c:\\programdata\\anaconda3\\lib\\site-packages (from trio~=0.17->selenium) (1.15.1)\n",
      "Requirement already satisfied: exceptiongroup in c:\\programdata\\anaconda3\\lib\\site-packages (from trio-websocket~=0.9->selenium) (1.1.2)\n",
      "Requirement already satisfied: wsproto>=0.14 in c:\\programdata\\anaconda3\\lib\\site-packages (from trio-websocket~=0.9->selenium) (1.2.0)\n",
      "Requirement already satisfied: PySocks!=1.5.7,<2.0,>=1.5.6 in c:\\programdata\\anaconda3\\lib\\site-packages (from urllib3[socks]<3,>=1.26->selenium) (1.7.1)\n",
      "Requirement already satisfied: pycparser in c:\\programdata\\anaconda3\\lib\\site-packages (from cffi>=1.14->trio~=0.17->selenium) (2.21)\n",
      "Requirement already satisfied: h11<1,>=0.9.0 in c:\\programdata\\anaconda3\\lib\\site-packages (from wsproto>=0.14->trio-websocket~=0.9->selenium) (0.14.0)\n",
      "Note: you may need to restart the kernel to use updated packages.\n"
     ]
    }
   ],
   "source": [
    "pip install selenium beautifulsoup4 pandas"
   ]
  },
  {
   "cell_type": "code",
   "execution_count": 1,
   "id": "4a6a048a-7a51-4fc0-9eee-a2b4bbe7d942",
   "metadata": {
    "tags": []
   },
   "outputs": [
    {
     "name": "stdout",
     "output_type": "stream",
     "text": [
      "Defaulting to user installation because normal site-packages is not writeable\n",
      "Requirement already satisfied: webdriver_manager in c:\\users\\achu narayan\\appdata\\roaming\\python\\python311\\site-packages (4.0.1)\n",
      "Requirement already satisfied: requests in c:\\programdata\\anaconda3\\lib\\site-packages (from webdriver_manager) (2.29.0)\n",
      "Requirement already satisfied: python-dotenv in c:\\programdata\\anaconda3\\lib\\site-packages (from webdriver_manager) (1.0.0)\n",
      "Requirement already satisfied: packaging in c:\\programdata\\anaconda3\\lib\\site-packages (from webdriver_manager) (23.0)\n",
      "Requirement already satisfied: charset-normalizer<4,>=2 in c:\\programdata\\anaconda3\\lib\\site-packages (from requests->webdriver_manager) (2.0.4)\n",
      "Requirement already satisfied: idna<4,>=2.5 in c:\\programdata\\anaconda3\\lib\\site-packages (from requests->webdriver_manager) (3.4)\n",
      "Requirement already satisfied: urllib3<1.27,>=1.21.1 in c:\\programdata\\anaconda3\\lib\\site-packages (from requests->webdriver_manager) (1.26.16)\n",
      "Requirement already satisfied: certifi>=2017.4.17 in c:\\programdata\\anaconda3\\lib\\site-packages (from requests->webdriver_manager) (2023.5.7)\n",
      "Note: you may need to restart the kernel to use updated packages.\n"
     ]
    }
   ],
   "source": [
    "pip install --upgrade webdriver_manager"
   ]
  },
  {
   "cell_type": "code",
   "execution_count": 1,
   "id": "854cf878-5cc2-4e1c-b71e-45f92014da14",
   "metadata": {
    "tags": []
   },
   "outputs": [
    {
     "name": "stdout",
     "output_type": "stream",
     "text": [
      "Defaulting to user installation because normal site-packages is not writeable\n",
      "Requirement already satisfied: bs4 in c:\\users\\achu narayan\\appdata\\roaming\\python\\python311\\site-packages (0.0.1)\n",
      "Requirement already satisfied: beautifulsoup4 in c:\\programdata\\anaconda3\\lib\\site-packages (from bs4) (4.12.2)\n",
      "Requirement already satisfied: soupsieve>1.2 in c:\\programdata\\anaconda3\\lib\\site-packages (from beautifulsoup4->bs4) (2.4)\n",
      "Defaulting to user installation because normal site-packages is not writeable\n",
      "Requirement already satisfied: requests in c:\\programdata\\anaconda3\\lib\\site-packages (2.29.0)\n",
      "Requirement already satisfied: charset-normalizer<4,>=2 in c:\\programdata\\anaconda3\\lib\\site-packages (from requests) (2.0.4)\n",
      "Requirement already satisfied: idna<4,>=2.5 in c:\\programdata\\anaconda3\\lib\\site-packages (from requests) (3.4)\n",
      "Requirement already satisfied: urllib3<1.27,>=1.21.1 in c:\\programdata\\anaconda3\\lib\\site-packages (from requests) (1.26.16)\n",
      "Requirement already satisfied: certifi>=2017.4.17 in c:\\programdata\\anaconda3\\lib\\site-packages (from requests) (2023.5.7)\n"
     ]
    }
   ],
   "source": [
    "!pip install bs4\n",
    "!pip install requests"
   ]
  },
  {
   "cell_type": "code",
   "execution_count": 2,
   "id": "d61d2e59-8140-4962-820d-77f1f5c910b9",
   "metadata": {
    "tags": []
   },
   "outputs": [],
   "source": [
    "from selenium import webdriver\n",
    "from selenium.webdriver.common.by import By\n",
    "from selenium.webdriver.support.ui import WebDriverWait\n",
    "from webdriver_manager.chrome import ChromeDriverManager\n",
    "from selenium.webdriver.support import expected_conditions as EC\n",
    "from selenium.webdriver.chrome.service import Service\n",
    "from selenium.webdriver.chrome.options import Options\n",
    "from selenium.webdriver.chrome.webdriver import WebDriver\n",
    "import pandas as pd\n",
    "import time\n",
    "import warnings\n",
    "warnings.filterwarnings(\"ignore\")"
   ]
  },
  {
   "cell_type": "code",
   "execution_count": 3,
   "id": "1f8d4c2d-556c-4e9f-96a2-fe7618166b39",
   "metadata": {
    "tags": []
   },
   "outputs": [],
   "source": [
    "driver = webdriver.Chrome(service=Service(ChromeDriverManager().install()))\n"
   ]
  },
  {
   "cell_type": "code",
   "execution_count": 29,
   "id": "456b5e85-2206-498e-a43c-a9587cdc0f86",
   "metadata": {},
   "outputs": [],
   "source": [
    "driver.get(\"https://www.nike.com\")"
   ]
  },
  {
   "cell_type": "code",
   "execution_count": 4,
   "id": "c80df1c7-ab7a-4233-b023-bfe60fb1fb9f",
   "metadata": {
    "tags": []
   },
   "outputs": [],
   "source": [
    "search_keyword = driver.find_element(By.XPATH, '//*[@id=\"VisualSearchInput\"]')\n",
    "search_keyword.clear()\n",
    "search_keyword.send_keys('Men Shoes')\n"
   ]
  },
  {
   "cell_type": "code",
   "execution_count": 5,
   "id": "60bdf7b5-17f7-4469-9f2d-7f22d4b5db17",
   "metadata": {
    "tags": []
   },
   "outputs": [],
   "source": [
    "search_keyword = driver.find_element(By.XPATH, '//*[@id=\"gen-nav-commerce-header-v2\"]/div[3]/header/div[1]/div[2]/div/div/div[1]/div/div/button[2]')\n",
    "search_keyword.click()"
   ]
  },
  {
   "cell_type": "code",
   "execution_count": 6,
   "id": "03128776-ccea-4260-bd85-285275952b07",
   "metadata": {
    "tags": []
   },
   "outputs": [],
   "source": [
    "search_keyword = driver.find_element(By.XPATH, '//*[@id=\"wallNavFG0\"]/a[1]/div')\n",
    "search_keyword.click()"
   ]
  },
  {
   "cell_type": "code",
   "execution_count": 7,
   "id": "1e97828d-e1a8-426f-b648-806761e8bcce",
   "metadata": {
    "tags": []
   },
   "outputs": [],
   "source": [
    "ShoeName = [] \n",
    "no_of_colors = []\n",
    "price = []\n",
    "category = []"
   ]
  },
  {
   "cell_type": "code",
   "execution_count": 8,
   "id": "68933045-412a-45ed-bd2b-fb1a08ece871",
   "metadata": {
    "tags": []
   },
   "outputs": [],
   "source": [
    "title_tags=driver.find_elements(By.CLASS_NAME,'product_msg_info')\n",
    "for i in title_tags[0:50]:\n",
    "    title=i.text\n",
    "    ShoeName.append(title)"
   ]
  },
  {
   "cell_type": "code",
   "execution_count": 9,
   "id": "ffe4204e-007f-47c3-8aaa-7a37b9923c1e",
   "metadata": {
    "tags": []
   },
   "outputs": [],
   "source": [
    "title_tags=driver.find_elements(By.CLASS_NAME,'product-card__product-count')\n",
    "for i in title_tags[0:50]:\n",
    "    title=i.text\n",
    "    no_of_colors.append(title)"
   ]
  },
  {
   "cell_type": "code",
   "execution_count": 10,
   "id": "226b01b7-4ca0-4220-8afc-b9ae40f91308",
   "metadata": {
    "tags": []
   },
   "outputs": [],
   "source": [
    "title_tags=driver.find_elements(By.CLASS_NAME,'product-card__price-wrapper')\n",
    "for i in title_tags[0:50]:\n",
    "    title=i.text\n",
    "    price.append(title)"
   ]
  },
  {
   "cell_type": "code",
   "execution_count": 11,
   "id": "0e3d2c9b-bfd5-4756-aa55-3a1644cd213d",
   "metadata": {
    "tags": []
   },
   "outputs": [],
   "source": [
    "title_tags=driver.find_elements(By.CLASS_NAME,'product-card__subtitle')\n",
    "for i in title_tags[0:50]:\n",
    "    title=i.text\n",
    "    category.append(title)"
   ]
  },
  {
   "cell_type": "code",
   "execution_count": 12,
   "id": "9ea88ef9-617d-4e28-a671-63e3de02bcc0",
   "metadata": {
    "tags": []
   },
   "outputs": [],
   "source": [
    "print = (len(ShoeName),len(no_of_colors), len(price),len(category))"
   ]
  },
  {
   "cell_type": "code",
   "execution_count": 13,
   "id": "dc38aa76-219d-4f5b-8262-30a60a31a868",
   "metadata": {
    "tags": []
   },
   "outputs": [
    {
     "data": {
      "text/plain": [
       "(24, 24, 24, 24)"
      ]
     },
     "execution_count": 13,
     "metadata": {},
     "output_type": "execute_result"
    }
   ],
   "source": [
    "print"
   ]
  },
  {
   "cell_type": "code",
   "execution_count": 14,
   "id": "dc52fac1-f1bb-48b9-8542-f6a840589cb9",
   "metadata": {
    "tags": []
   },
   "outputs": [
    {
     "data": {
      "text/html": [
       "<div>\n",
       "<style scoped>\n",
       "    .dataframe tbody tr th:only-of-type {\n",
       "        vertical-align: middle;\n",
       "    }\n",
       "\n",
       "    .dataframe tbody tr th {\n",
       "        vertical-align: top;\n",
       "    }\n",
       "\n",
       "    .dataframe thead th {\n",
       "        text-align: right;\n",
       "    }\n",
       "</style>\n",
       "<table border=\"1\" class=\"dataframe\">\n",
       "  <thead>\n",
       "    <tr style=\"text-align: right;\">\n",
       "      <th></th>\n",
       "      <th>ShoeName</th>\n",
       "      <th>no_of_colors</th>\n",
       "      <th>price</th>\n",
       "      <th>category</th>\n",
       "    </tr>\n",
       "  </thead>\n",
       "  <tbody>\n",
       "    <tr>\n",
       "      <th>0</th>\n",
       "      <td>Bestseller\\nNike Dunk Low Retro Premium\\nMen's...</td>\n",
       "      <td>1 Colour</td>\n",
       "      <td>MRP : ₹ 9 695.00</td>\n",
       "      <td>Men's Shoes</td>\n",
       "    </tr>\n",
       "    <tr>\n",
       "      <th>1</th>\n",
       "      <td>Nike Blazer Low '77 Vintage\\nMen's Shoes</td>\n",
       "      <td>3 Colours</td>\n",
       "      <td>MRP : ₹ 7 195.00</td>\n",
       "      <td>Men's Shoes</td>\n",
       "    </tr>\n",
       "    <tr>\n",
       "      <th>2</th>\n",
       "      <td>Bestseller\\nNike Air Force 1 '07\\nMen's Shoes</td>\n",
       "      <td>2 Colours</td>\n",
       "      <td>MRP : ₹ 7 495.00</td>\n",
       "      <td>Men's Shoes</td>\n",
       "    </tr>\n",
       "    <tr>\n",
       "      <th>3</th>\n",
       "      <td>Just In\\nNike Air Force 1 '07 Pro Tech\\nMen's ...</td>\n",
       "      <td>3 Colours</td>\n",
       "      <td>MRP : ₹ 13 995.00</td>\n",
       "      <td>Men's Shoes</td>\n",
       "    </tr>\n",
       "    <tr>\n",
       "      <th>4</th>\n",
       "      <td>Nike Court Vision Low\\nMen's Shoes</td>\n",
       "      <td>1 Colour</td>\n",
       "      <td>MRP : ₹ 5 695.00</td>\n",
       "      <td>Men's Shoes</td>\n",
       "    </tr>\n",
       "    <tr>\n",
       "      <th>5</th>\n",
       "      <td>Bestseller\\nNike Air Force 1 '07 LV8\\nMen's Shoes</td>\n",
       "      <td>2 Colours</td>\n",
       "      <td>MRP : ₹ 10 795.00</td>\n",
       "      <td>Men's Shoes</td>\n",
       "    </tr>\n",
       "    <tr>\n",
       "      <th>6</th>\n",
       "      <td>Just In\\nNike Air Max 1\\nMen's shoes</td>\n",
       "      <td>5 Colours</td>\n",
       "      <td>MRP : ₹ 12 795.00</td>\n",
       "      <td>Men's shoes</td>\n",
       "    </tr>\n",
       "    <tr>\n",
       "      <th>7</th>\n",
       "      <td>Sustainable Materials\\nNikeCourt Legacy\\nMen's...</td>\n",
       "      <td>4 Colours</td>\n",
       "      <td>MRP : ₹ 5 695.00</td>\n",
       "      <td>Men's Shoes</td>\n",
       "    </tr>\n",
       "    <tr>\n",
       "      <th>8</th>\n",
       "      <td>Nike Air Max SC Leather\\nMen's Shoes</td>\n",
       "      <td>2 Colours</td>\n",
       "      <td>MRP : ₹ 6 795.00</td>\n",
       "      <td>Men's Shoes</td>\n",
       "    </tr>\n",
       "    <tr>\n",
       "      <th>9</th>\n",
       "      <td>Nike Killshot 2 Leather\\nMen's Shoe</td>\n",
       "      <td>2 Colours</td>\n",
       "      <td>MRP : ₹ 7 995.00</td>\n",
       "      <td>Men's Shoe</td>\n",
       "    </tr>\n",
       "    <tr>\n",
       "      <th>10</th>\n",
       "      <td>Bestseller\\nNike Blazer Low '77 Jumbo\\nMen's S...</td>\n",
       "      <td>2 Colours</td>\n",
       "      <td>MRP : ₹ 8 595.00</td>\n",
       "      <td>Men's Shoes</td>\n",
       "    </tr>\n",
       "    <tr>\n",
       "      <th>11</th>\n",
       "      <td>Bestseller\\nNike SB Zoom Blazer Low Pro GT\\nSk...</td>\n",
       "      <td>3 Colours</td>\n",
       "      <td>MRP : ₹ 6 795.00</td>\n",
       "      <td>Skate Shoes</td>\n",
       "    </tr>\n",
       "    <tr>\n",
       "      <th>12</th>\n",
       "      <td>Nike Air Force 1 React\\nMen's Shoes</td>\n",
       "      <td>1 Colour</td>\n",
       "      <td>MRP : ₹ 11 995.00</td>\n",
       "      <td>Men's Shoes</td>\n",
       "    </tr>\n",
       "    <tr>\n",
       "      <th>13</th>\n",
       "      <td>Nike Air Max Cirro\\nMen's Slides</td>\n",
       "      <td>4 Colours</td>\n",
       "      <td>MRP : ₹ 3 695.00</td>\n",
       "      <td>Men's Slides</td>\n",
       "    </tr>\n",
       "    <tr>\n",
       "      <th>14</th>\n",
       "      <td>Jordan Max Aura 5\\nMen's Shoes</td>\n",
       "      <td>5 Colours</td>\n",
       "      <td>MRP : ₹ 11 895.00</td>\n",
       "      <td>Men's Shoes</td>\n",
       "    </tr>\n",
       "    <tr>\n",
       "      <th>15</th>\n",
       "      <td>Customise\\nNike Air Force 1 Mid By You\\nMen's ...</td>\n",
       "      <td>6 Colours</td>\n",
       "      <td>MRP : ₹ 12 795.00</td>\n",
       "      <td>Men's Custom Shoes</td>\n",
       "    </tr>\n",
       "    <tr>\n",
       "      <th>16</th>\n",
       "      <td>Sustainable Materials\\nNike Revolution 7\\nMen'...</td>\n",
       "      <td>6 Colours</td>\n",
       "      <td>MRP : ₹ 3 695.00</td>\n",
       "      <td>Men's Road Running Shoes</td>\n",
       "    </tr>\n",
       "    <tr>\n",
       "      <th>17</th>\n",
       "      <td>Bestseller\\nAir Jordan Legacy 312 Low\\nMen's S...</td>\n",
       "      <td>3 Colours</td>\n",
       "      <td>MRP : ₹ 12 995.00</td>\n",
       "      <td>Men's Shoes</td>\n",
       "    </tr>\n",
       "    <tr>\n",
       "      <th>18</th>\n",
       "      <td>Promo Exclusion\\nNike ACG Mountain Fly 2 Low\\n...</td>\n",
       "      <td>2 Colours</td>\n",
       "      <td>MRP : ₹ 13 995.00</td>\n",
       "      <td>Men's Shoes</td>\n",
       "    </tr>\n",
       "    <tr>\n",
       "      <th>19</th>\n",
       "      <td>Bestseller\\nNike Dunk Low\\nMen's Shoes</td>\n",
       "      <td>1 Colour</td>\n",
       "      <td>MRP : ₹ 8 695.00</td>\n",
       "      <td>Men's Shoes</td>\n",
       "    </tr>\n",
       "    <tr>\n",
       "      <th>20</th>\n",
       "      <td>Nike SB Force 58\\nSkate Shoes</td>\n",
       "      <td>2 Colours</td>\n",
       "      <td>MRP : ₹ 6 295.00</td>\n",
       "      <td>Skate Shoes</td>\n",
       "    </tr>\n",
       "    <tr>\n",
       "      <th>21</th>\n",
       "      <td>Bestseller\\nJordan Nu Retro 1 Low\\nMen's Shoes</td>\n",
       "      <td>2 Colours</td>\n",
       "      <td>MRP : ₹ 9 195.00</td>\n",
       "      <td>Men's Shoes</td>\n",
       "    </tr>\n",
       "    <tr>\n",
       "      <th>22</th>\n",
       "      <td>Bestseller\\nJordan One Take 4 PF\\nMen's Shoes</td>\n",
       "      <td>3 Colours</td>\n",
       "      <td>MRP : ₹ 8 695.00</td>\n",
       "      <td>Men's Shoes</td>\n",
       "    </tr>\n",
       "    <tr>\n",
       "      <th>23</th>\n",
       "      <td>Bestseller\\nNike Precision 6\\nBasketball Shoes</td>\n",
       "      <td>4 Colours</td>\n",
       "      <td>MRP : ₹ 5 695.00</td>\n",
       "      <td>Basketball Shoes</td>\n",
       "    </tr>\n",
       "  </tbody>\n",
       "</table>\n",
       "</div>"
      ],
      "text/plain": [
       "                                             ShoeName no_of_colors  \\\n",
       "0   Bestseller\\nNike Dunk Low Retro Premium\\nMen's...     1 Colour   \n",
       "1            Nike Blazer Low '77 Vintage\\nMen's Shoes    3 Colours   \n",
       "2       Bestseller\\nNike Air Force 1 '07\\nMen's Shoes    2 Colours   \n",
       "3   Just In\\nNike Air Force 1 '07 Pro Tech\\nMen's ...    3 Colours   \n",
       "4                  Nike Court Vision Low\\nMen's Shoes     1 Colour   \n",
       "5   Bestseller\\nNike Air Force 1 '07 LV8\\nMen's Shoes    2 Colours   \n",
       "6                Just In\\nNike Air Max 1\\nMen's shoes    5 Colours   \n",
       "7   Sustainable Materials\\nNikeCourt Legacy\\nMen's...    4 Colours   \n",
       "8                Nike Air Max SC Leather\\nMen's Shoes    2 Colours   \n",
       "9                 Nike Killshot 2 Leather\\nMen's Shoe    2 Colours   \n",
       "10  Bestseller\\nNike Blazer Low '77 Jumbo\\nMen's S...    2 Colours   \n",
       "11  Bestseller\\nNike SB Zoom Blazer Low Pro GT\\nSk...    3 Colours   \n",
       "12                Nike Air Force 1 React\\nMen's Shoes     1 Colour   \n",
       "13                   Nike Air Max Cirro\\nMen's Slides    4 Colours   \n",
       "14                     Jordan Max Aura 5\\nMen's Shoes    5 Colours   \n",
       "15  Customise\\nNike Air Force 1 Mid By You\\nMen's ...    6 Colours   \n",
       "16  Sustainable Materials\\nNike Revolution 7\\nMen'...    6 Colours   \n",
       "17  Bestseller\\nAir Jordan Legacy 312 Low\\nMen's S...    3 Colours   \n",
       "18  Promo Exclusion\\nNike ACG Mountain Fly 2 Low\\n...    2 Colours   \n",
       "19             Bestseller\\nNike Dunk Low\\nMen's Shoes     1 Colour   \n",
       "20                      Nike SB Force 58\\nSkate Shoes    2 Colours   \n",
       "21     Bestseller\\nJordan Nu Retro 1 Low\\nMen's Shoes    2 Colours   \n",
       "22      Bestseller\\nJordan One Take 4 PF\\nMen's Shoes    3 Colours   \n",
       "23     Bestseller\\nNike Precision 6\\nBasketball Shoes    4 Colours   \n",
       "\n",
       "                price                  category  \n",
       "0    MRP : ₹ 9 695.00               Men's Shoes  \n",
       "1    MRP : ₹ 7 195.00               Men's Shoes  \n",
       "2    MRP : ₹ 7 495.00               Men's Shoes  \n",
       "3   MRP : ₹ 13 995.00               Men's Shoes  \n",
       "4    MRP : ₹ 5 695.00               Men's Shoes  \n",
       "5   MRP : ₹ 10 795.00               Men's Shoes  \n",
       "6   MRP : ₹ 12 795.00               Men's shoes  \n",
       "7    MRP : ₹ 5 695.00               Men's Shoes  \n",
       "8    MRP : ₹ 6 795.00               Men's Shoes  \n",
       "9    MRP : ₹ 7 995.00                Men's Shoe  \n",
       "10   MRP : ₹ 8 595.00               Men's Shoes  \n",
       "11   MRP : ₹ 6 795.00               Skate Shoes  \n",
       "12  MRP : ₹ 11 995.00               Men's Shoes  \n",
       "13   MRP : ₹ 3 695.00              Men's Slides  \n",
       "14  MRP : ₹ 11 895.00               Men's Shoes  \n",
       "15  MRP : ₹ 12 795.00        Men's Custom Shoes  \n",
       "16   MRP : ₹ 3 695.00  Men's Road Running Shoes  \n",
       "17  MRP : ₹ 12 995.00               Men's Shoes  \n",
       "18  MRP : ₹ 13 995.00               Men's Shoes  \n",
       "19   MRP : ₹ 8 695.00               Men's Shoes  \n",
       "20   MRP : ₹ 6 295.00               Skate Shoes  \n",
       "21   MRP : ₹ 9 195.00               Men's Shoes  \n",
       "22   MRP : ₹ 8 695.00               Men's Shoes  \n",
       "23   MRP : ₹ 5 695.00          Basketball Shoes  "
      ]
     },
     "execution_count": 14,
     "metadata": {},
     "output_type": "execute_result"
    }
   ],
   "source": [
    "import pandas as pd\n",
    "df=pd.DataFrame({'ShoeName':ShoeName,'no_of_colors':no_of_colors, 'price':price, 'category':category})\n",
    "df"
   ]
  },
  {
   "cell_type": "code",
   "execution_count": 30,
   "id": "f6337e4a-3419-4810-ad93-2bc41cdd9317",
   "metadata": {
    "tags": []
   },
   "outputs": [],
   "source": [
    "search_keyword = driver.find_element(By.XPATH, '//*[@id=\"VisualSearchInput\"]')\n",
    "search_keyword.clear()\n",
    "search_keyword.send_keys('Women Shoes')"
   ]
  },
  {
   "cell_type": "code",
   "execution_count": 31,
   "id": "68f9dab5-c809-4510-8b6c-30854c3b8384",
   "metadata": {
    "tags": []
   },
   "outputs": [],
   "source": [
    "search_keyword = driver.find_element(By.XPATH, '//*[@id=\"gen-nav-commerce-header-v2\"]/div[3]/header/div[1]/div[2]/div/div/div[1]/div/div/button[2]')\n",
    "search_keyword.click()"
   ]
  },
  {
   "cell_type": "code",
   "execution_count": 34,
   "id": "136f4d14-d722-43fc-98d0-44b31263b972",
   "metadata": {
    "tags": []
   },
   "outputs": [],
   "source": [
    "search_keyword = driver.find_element(By.XPATH, '//*[@id=\"wallNavFG0\"]/a[2]/div')\n",
    "search_keyword.click()"
   ]
  },
  {
   "cell_type": "code",
   "execution_count": 35,
   "id": "231d3040-c90f-4bd9-bc30-4621367f8db0",
   "metadata": {
    "tags": []
   },
   "outputs": [],
   "source": [
    "ShoeName = [] \n",
    "no_of_colors = []\n",
    "price = []\n",
    "category = []"
   ]
  },
  {
   "cell_type": "code",
   "execution_count": 36,
   "id": "d3c9eee5-c55c-46e1-8e52-51b935d08f00",
   "metadata": {
    "tags": []
   },
   "outputs": [],
   "source": [
    "title_tags=driver.find_elements(By.CLASS_NAME,'product_msg_info')\n",
    "for i in title_tags[0:100]:\n",
    "    title=i.text\n",
    "    ShoeName.append(title)"
   ]
  },
  {
   "cell_type": "code",
   "execution_count": 37,
   "id": "15d311db-8bd0-48a0-b8ab-85eaff0983b9",
   "metadata": {
    "tags": []
   },
   "outputs": [],
   "source": [
    "title_tags=driver.find_elements(By.CLASS_NAME,'product-card__product-count')\n",
    "for i in title_tags[0:100]:\n",
    "    title=i.text\n",
    "    no_of_colors.append(title)"
   ]
  },
  {
   "cell_type": "code",
   "execution_count": 38,
   "id": "a06f3c4c-b58d-4601-9c7a-619449af36d3",
   "metadata": {
    "tags": []
   },
   "outputs": [],
   "source": [
    "title_tags=driver.find_elements(By.CLASS_NAME,'product-card__price-wrapper')\n",
    "for i in title_tags[0:100]:\n",
    "    title=i.text\n",
    "    price.append(title)"
   ]
  },
  {
   "cell_type": "code",
   "execution_count": 39,
   "id": "177e4052-7e20-45bb-9961-77fe03f66a5f",
   "metadata": {
    "tags": []
   },
   "outputs": [],
   "source": [
    "title_tags=driver.find_elements(By.CLASS_NAME,'product-card__subtitle')\n",
    "for i in title_tags[0:100]:\n",
    "    title=i.text\n",
    "    category.append(title)"
   ]
  },
  {
   "cell_type": "code",
   "execution_count": 40,
   "id": "3c124bfd-ad5a-4dd5-967c-42d928645f5b",
   "metadata": {
    "tags": []
   },
   "outputs": [],
   "source": [
    "print = (len(ShoeName),len(no_of_colors), len(price),len(category))"
   ]
  },
  {
   "cell_type": "code",
   "execution_count": 41,
   "id": "e2accb3b-aad0-4037-84b3-3614b395b31f",
   "metadata": {
    "tags": []
   },
   "outputs": [
    {
     "data": {
      "text/plain": [
       "(24, 24, 24, 24)"
      ]
     },
     "execution_count": 41,
     "metadata": {},
     "output_type": "execute_result"
    }
   ],
   "source": [
    "print"
   ]
  },
  {
   "cell_type": "code",
   "execution_count": 42,
   "id": "31aa7341-b907-446d-8a7a-f8f99ac5e9ab",
   "metadata": {
    "tags": []
   },
   "outputs": [
    {
     "data": {
      "text/html": [
       "<div>\n",
       "<style scoped>\n",
       "    .dataframe tbody tr th:only-of-type {\n",
       "        vertical-align: middle;\n",
       "    }\n",
       "\n",
       "    .dataframe tbody tr th {\n",
       "        vertical-align: top;\n",
       "    }\n",
       "\n",
       "    .dataframe thead th {\n",
       "        text-align: right;\n",
       "    }\n",
       "</style>\n",
       "<table border=\"1\" class=\"dataframe\">\n",
       "  <thead>\n",
       "    <tr style=\"text-align: right;\">\n",
       "      <th></th>\n",
       "      <th>ShoeName</th>\n",
       "      <th>no_of_colors</th>\n",
       "      <th>price</th>\n",
       "      <th>category</th>\n",
       "    </tr>\n",
       "  </thead>\n",
       "  <tbody>\n",
       "    <tr>\n",
       "      <th>0</th>\n",
       "      <td>Air Jordan 1 Low SE\\nWomen's Shoes</td>\n",
       "      <td>1 Colour</td>\n",
       "      <td>MRP : ₹ 10 295.00</td>\n",
       "      <td>Women's Shoes</td>\n",
       "    </tr>\n",
       "    <tr>\n",
       "      <th>1</th>\n",
       "      <td>Nike Dunk Low\\nWomen's Shoes</td>\n",
       "      <td>1 Colour</td>\n",
       "      <td>MRP : ₹ 8 695.00</td>\n",
       "      <td>Women's Shoes</td>\n",
       "    </tr>\n",
       "    <tr>\n",
       "      <th>2</th>\n",
       "      <td>Just In\\nJordan Stadium 90\\nWomen's Shoes</td>\n",
       "      <td>4 Colours</td>\n",
       "      <td>MRP : ₹ 12 795.00</td>\n",
       "      <td>Women's Shoes</td>\n",
       "    </tr>\n",
       "    <tr>\n",
       "      <th>3</th>\n",
       "      <td>Nike Dunk Low SE\\nWomen's Shoes</td>\n",
       "      <td>1 Colour</td>\n",
       "      <td>MRP : ₹ 9 695.00</td>\n",
       "      <td>Women's Shoes</td>\n",
       "    </tr>\n",
       "    <tr>\n",
       "      <th>4</th>\n",
       "      <td>Nike Zoom Vomero 5\\nWomen's Shoes</td>\n",
       "      <td>1 Colour</td>\n",
       "      <td>MRP : ₹ 16 995.00</td>\n",
       "      <td>Women's Shoes</td>\n",
       "    </tr>\n",
       "    <tr>\n",
       "      <th>5</th>\n",
       "      <td>Nike Air Force 1 '07\\nWomen's Shoes</td>\n",
       "      <td>1 Colour</td>\n",
       "      <td>MRP : ₹ 9 695.00</td>\n",
       "      <td>Women's Shoes</td>\n",
       "    </tr>\n",
       "    <tr>\n",
       "      <th>6</th>\n",
       "      <td>Nike Air Max SC SE\\nWomen's Shoes</td>\n",
       "      <td>1 Colour</td>\n",
       "      <td>MRP : ₹ 7 495.00</td>\n",
       "      <td>Women's Shoes</td>\n",
       "    </tr>\n",
       "    <tr>\n",
       "      <th>7</th>\n",
       "      <td>Just In\\nNike Air Max 1\\nWomen's shoes</td>\n",
       "      <td>5 Colours</td>\n",
       "      <td>MRP : ₹ 12 795.00</td>\n",
       "      <td>Women's shoes</td>\n",
       "    </tr>\n",
       "    <tr>\n",
       "      <th>8</th>\n",
       "      <td>Bestseller\\nAir Jordan 1 Low SE\\nWomen's Shoes</td>\n",
       "      <td>2 Colours</td>\n",
       "      <td>MRP : ₹ 10 295.00</td>\n",
       "      <td>Women's Shoes</td>\n",
       "    </tr>\n",
       "    <tr>\n",
       "      <th>9</th>\n",
       "      <td>Promo Exclusion\\nNike Air Max 1 LX\\nWomen's Shoes</td>\n",
       "      <td>2 Colours</td>\n",
       "      <td>MRP : ₹ 14 995.00</td>\n",
       "      <td>Women's Shoes</td>\n",
       "    </tr>\n",
       "    <tr>\n",
       "      <th>10</th>\n",
       "      <td>Nike Dunk Low SE\\nWomen's Shoes</td>\n",
       "      <td>1 Colour</td>\n",
       "      <td>MRP : ₹ 9 695.00</td>\n",
       "      <td>Women's Shoes</td>\n",
       "    </tr>\n",
       "    <tr>\n",
       "      <th>11</th>\n",
       "      <td>Promo Exclusion\\nNike Dunk Low Twist\\nWomen's ...</td>\n",
       "      <td>5 Colours</td>\n",
       "      <td>MRP : ₹ 9 695.00</td>\n",
       "      <td>Women's Shoes</td>\n",
       "    </tr>\n",
       "    <tr>\n",
       "      <th>12</th>\n",
       "      <td>Bestseller\\nNike SB Zoom Blazer Low Pro GT\\nSk...</td>\n",
       "      <td>3 Colours</td>\n",
       "      <td>MRP : ₹ 6 795.00</td>\n",
       "      <td>Skate Shoes</td>\n",
       "    </tr>\n",
       "    <tr>\n",
       "      <th>13</th>\n",
       "      <td>Nike Air Force 1 Shadow\\nWomen's Shoes</td>\n",
       "      <td>2 Colours</td>\n",
       "      <td>MRP : ₹ 8 995.00</td>\n",
       "      <td>Women's Shoes</td>\n",
       "    </tr>\n",
       "    <tr>\n",
       "      <th>14</th>\n",
       "      <td>Just In\\nNike SuperRep Go 3 Flyknit Next Natur...</td>\n",
       "      <td>6 Colours</td>\n",
       "      <td>MRP : ₹ 8 895.00</td>\n",
       "      <td>Women's Workout Shoes</td>\n",
       "    </tr>\n",
       "    <tr>\n",
       "      <th>15</th>\n",
       "      <td>Nike Dunk High\\nWomen's Shoes</td>\n",
       "      <td>1 Colour</td>\n",
       "      <td>MRP : ₹ 9 295.00</td>\n",
       "      <td>Women's Shoes</td>\n",
       "    </tr>\n",
       "    <tr>\n",
       "      <th>16</th>\n",
       "      <td>Sustainable Materials\\nNikeCourt Legacy Next N...</td>\n",
       "      <td>4 Colours</td>\n",
       "      <td>MRP : ₹ 5 695.00</td>\n",
       "      <td>Women's Shoes</td>\n",
       "    </tr>\n",
       "    <tr>\n",
       "      <th>17</th>\n",
       "      <td>Sustainable Materials\\nNike Tiempo Legend 10 A...</td>\n",
       "      <td>3 Colours</td>\n",
       "      <td>MRP : ₹ 7 495.00</td>\n",
       "      <td>Multi-Ground Low-Top Football Boot</td>\n",
       "    </tr>\n",
       "    <tr>\n",
       "      <th>18</th>\n",
       "      <td>Nike Dunk High Premium\\nWomen's Shoes</td>\n",
       "      <td>1 Colour</td>\n",
       "      <td>MRP : ₹ 12 295.00</td>\n",
       "      <td>Women's Shoes</td>\n",
       "    </tr>\n",
       "    <tr>\n",
       "      <th>19</th>\n",
       "      <td>Promo Exclusion\\nNike ACG Mountain Fly 2 Low\\n...</td>\n",
       "      <td>2 Colours</td>\n",
       "      <td>MRP : ₹ 13 995.00</td>\n",
       "      <td>Men's Shoes</td>\n",
       "    </tr>\n",
       "    <tr>\n",
       "      <th>20</th>\n",
       "      <td>Sustainable Materials\\nNike Calm\\nMen's Mules</td>\n",
       "      <td>1 Colour</td>\n",
       "      <td>MRP : ₹ 5 695.00</td>\n",
       "      <td>Men's Mules</td>\n",
       "    </tr>\n",
       "    <tr>\n",
       "      <th>21</th>\n",
       "      <td>Nike Waffle Debut Vintage\\nWomen's Shoes</td>\n",
       "      <td>1 Colour</td>\n",
       "      <td>MRP : ₹ 7 095.00</td>\n",
       "      <td>Women's Shoes</td>\n",
       "    </tr>\n",
       "    <tr>\n",
       "      <th>22</th>\n",
       "      <td>Nike Waffle Debut\\nWomen's Shoes</td>\n",
       "      <td>3 Colours</td>\n",
       "      <td>MRP : ₹ 5 695.00</td>\n",
       "      <td>Women's Shoes</td>\n",
       "    </tr>\n",
       "    <tr>\n",
       "      <th>23</th>\n",
       "      <td>Nike SB Force 58\\nSkate Shoes</td>\n",
       "      <td>2 Colours</td>\n",
       "      <td>MRP : ₹ 6 295.00</td>\n",
       "      <td>Skate Shoes</td>\n",
       "    </tr>\n",
       "  </tbody>\n",
       "</table>\n",
       "</div>"
      ],
      "text/plain": [
       "                                             ShoeName no_of_colors  \\\n",
       "0                  Air Jordan 1 Low SE\\nWomen's Shoes     1 Colour   \n",
       "1                        Nike Dunk Low\\nWomen's Shoes     1 Colour   \n",
       "2           Just In\\nJordan Stadium 90\\nWomen's Shoes    4 Colours   \n",
       "3                     Nike Dunk Low SE\\nWomen's Shoes     1 Colour   \n",
       "4                   Nike Zoom Vomero 5\\nWomen's Shoes     1 Colour   \n",
       "5                 Nike Air Force 1 '07\\nWomen's Shoes     1 Colour   \n",
       "6                   Nike Air Max SC SE\\nWomen's Shoes     1 Colour   \n",
       "7              Just In\\nNike Air Max 1\\nWomen's shoes    5 Colours   \n",
       "8      Bestseller\\nAir Jordan 1 Low SE\\nWomen's Shoes    2 Colours   \n",
       "9   Promo Exclusion\\nNike Air Max 1 LX\\nWomen's Shoes    2 Colours   \n",
       "10                    Nike Dunk Low SE\\nWomen's Shoes     1 Colour   \n",
       "11  Promo Exclusion\\nNike Dunk Low Twist\\nWomen's ...    5 Colours   \n",
       "12  Bestseller\\nNike SB Zoom Blazer Low Pro GT\\nSk...    3 Colours   \n",
       "13             Nike Air Force 1 Shadow\\nWomen's Shoes    2 Colours   \n",
       "14  Just In\\nNike SuperRep Go 3 Flyknit Next Natur...    6 Colours   \n",
       "15                      Nike Dunk High\\nWomen's Shoes     1 Colour   \n",
       "16  Sustainable Materials\\nNikeCourt Legacy Next N...    4 Colours   \n",
       "17  Sustainable Materials\\nNike Tiempo Legend 10 A...    3 Colours   \n",
       "18              Nike Dunk High Premium\\nWomen's Shoes     1 Colour   \n",
       "19  Promo Exclusion\\nNike ACG Mountain Fly 2 Low\\n...    2 Colours   \n",
       "20      Sustainable Materials\\nNike Calm\\nMen's Mules     1 Colour   \n",
       "21           Nike Waffle Debut Vintage\\nWomen's Shoes     1 Colour   \n",
       "22                   Nike Waffle Debut\\nWomen's Shoes    3 Colours   \n",
       "23                      Nike SB Force 58\\nSkate Shoes    2 Colours   \n",
       "\n",
       "                price                            category  \n",
       "0   MRP : ₹ 10 295.00                       Women's Shoes  \n",
       "1    MRP : ₹ 8 695.00                       Women's Shoes  \n",
       "2   MRP : ₹ 12 795.00                       Women's Shoes  \n",
       "3    MRP : ₹ 9 695.00                       Women's Shoes  \n",
       "4   MRP : ₹ 16 995.00                       Women's Shoes  \n",
       "5    MRP : ₹ 9 695.00                       Women's Shoes  \n",
       "6    MRP : ₹ 7 495.00                       Women's Shoes  \n",
       "7   MRP : ₹ 12 795.00                       Women's shoes  \n",
       "8   MRP : ₹ 10 295.00                       Women's Shoes  \n",
       "9   MRP : ₹ 14 995.00                       Women's Shoes  \n",
       "10   MRP : ₹ 9 695.00                       Women's Shoes  \n",
       "11   MRP : ₹ 9 695.00                       Women's Shoes  \n",
       "12   MRP : ₹ 6 795.00                         Skate Shoes  \n",
       "13   MRP : ₹ 8 995.00                       Women's Shoes  \n",
       "14   MRP : ₹ 8 895.00               Women's Workout Shoes  \n",
       "15   MRP : ₹ 9 295.00                       Women's Shoes  \n",
       "16   MRP : ₹ 5 695.00                       Women's Shoes  \n",
       "17   MRP : ₹ 7 495.00  Multi-Ground Low-Top Football Boot  \n",
       "18  MRP : ₹ 12 295.00                       Women's Shoes  \n",
       "19  MRP : ₹ 13 995.00                         Men's Shoes  \n",
       "20   MRP : ₹ 5 695.00                         Men's Mules  \n",
       "21   MRP : ₹ 7 095.00                       Women's Shoes  \n",
       "22   MRP : ₹ 5 695.00                       Women's Shoes  \n",
       "23   MRP : ₹ 6 295.00                         Skate Shoes  "
      ]
     },
     "execution_count": 42,
     "metadata": {},
     "output_type": "execute_result"
    }
   ],
   "source": [
    "import pandas as pd\n",
    "df1=pd.DataFrame({'ShoeName':ShoeName,'no_of_colors':no_of_colors, 'price':price, 'category':category})\n",
    "df1"
   ]
  },
  {
   "cell_type": "code",
   "execution_count": 49,
   "id": "40771c4f-0477-476e-9e06-94df62e9a7c3",
   "metadata": {
    "tags": []
   },
   "outputs": [],
   "source": [
    "driver = webdriver.Chrome(service=Service(ChromeDriverManager().install()))"
   ]
  },
  {
   "cell_type": "code",
   "execution_count": 50,
   "id": "0c1e9512-36aa-4fb6-9a01-a5ad5f8ab961",
   "metadata": {
    "tags": []
   },
   "outputs": [],
   "source": [
    "driver.get(\"https://www.adidas.com\")"
   ]
  },
  {
   "cell_type": "code",
   "execution_count": 51,
   "id": "6666260c-b44f-49b2-b9f9-26b119123850",
   "metadata": {
    "tags": []
   },
   "outputs": [],
   "source": [
    "search_keyword = driver.find_element(By.XPATH, '//*[@id=\"__next\"]/div[2]/div[2]/div/header/div[2]/div/div[2]/div/input')\n",
    "search_keyword.clear()\n",
    "search_keyword.send_keys('Shoes Men')"
   ]
  },
  {
   "cell_type": "code",
   "execution_count": 52,
   "id": "135eee05-28ea-4d1d-a5ad-de07c085b770",
   "metadata": {
    "tags": []
   },
   "outputs": [],
   "source": [
    "search_keyword = driver.find_element(By.XPATH, '//*[@id=\"__next\"]/div[2]/div[2]/div/header/div[2]/div/div[2]/div/div[2]/div/div[1]/div[2]/a[2]/div[1]/span[2]/strong')\n",
    "search_keyword.click()"
   ]
  },
  {
   "cell_type": "code",
   "execution_count": 75,
   "id": "96ccb991-1a23-4399-89e6-25ad705bb3ca",
   "metadata": {
    "tags": []
   },
   "outputs": [],
   "source": [
    "ShoeName = [] \n",
    "no_of_colors = []\n",
    "price = []\n",
    "category = []"
   ]
  },
  {
   "cell_type": "code",
   "execution_count": 76,
   "id": "f1ab65b2-2e86-4465-b6b6-bfc63fd07b2e",
   "metadata": {
    "tags": []
   },
   "outputs": [],
   "source": [
    "title_tags=driver.find_elements(By.CLASS_NAME,'glass-product-card__title')\n",
    "for i in title_tags[0:50]:\n",
    "    title=i.text\n",
    "    ShoeName.append(title)"
   ]
  },
  {
   "cell_type": "code",
   "execution_count": 77,
   "id": "3a911715-dd9f-44c1-ac48-195db87d98e5",
   "metadata": {
    "tags": []
   },
   "outputs": [],
   "source": [
    "title_tags=driver.find_elements(By.CLASS_NAME,'glass-product-card__category')\n",
    "for i in title_tags[0:50]:\n",
    "    title=i.text\n",
    "    category.append(title)"
   ]
  },
  {
   "cell_type": "code",
   "execution_count": 78,
   "id": "23c279ea-9998-42c0-aa1c-6d5d01b9a54b",
   "metadata": {
    "tags": []
   },
   "outputs": [],
   "source": [
    "title_tags=driver.find_elements(By.CLASS_NAME,'glass-product-card__label')\n",
    "for i in title_tags[0:50]:\n",
    "    title=i.text\n",
    "    no_of_colors.append(title)"
   ]
  },
  {
   "cell_type": "code",
   "execution_count": 79,
   "id": "9a8537ea-eaf4-4596-ae5a-77feefe08a7f",
   "metadata": {
    "tags": []
   },
   "outputs": [],
   "source": [
    "title_tags=driver.find_elements(By.CLASS_NAME,'product-card-content-badges-wrapper___2RWqS')\n",
    "for i in title_tags[0:50]:\n",
    "    title=i.text\n",
    "    price.append(title)"
   ]
  },
  {
   "cell_type": "code",
   "execution_count": 80,
   "id": "ec486526-d29f-4893-ac58-4e650baf101a",
   "metadata": {
    "tags": []
   },
   "outputs": [],
   "source": [
    "print = (len(ShoeName),len(no_of_colors), len(price),len(category))"
   ]
  },
  {
   "cell_type": "code",
   "execution_count": 81,
   "id": "5ed4fcb7-655c-4a61-89cb-f3e65decf4bc",
   "metadata": {
    "tags": []
   },
   "outputs": [
    {
     "data": {
      "text/plain": [
       "(48, 48, 48, 48)"
      ]
     },
     "execution_count": 81,
     "metadata": {},
     "output_type": "execute_result"
    }
   ],
   "source": [
    "print"
   ]
  },
  {
   "cell_type": "code",
   "execution_count": 82,
   "id": "7d866641-a1b4-4fee-9091-cf3d1e5296c2",
   "metadata": {
    "tags": []
   },
   "outputs": [
    {
     "data": {
      "text/html": [
       "<div>\n",
       "<style scoped>\n",
       "    .dataframe tbody tr th:only-of-type {\n",
       "        vertical-align: middle;\n",
       "    }\n",
       "\n",
       "    .dataframe tbody tr th {\n",
       "        vertical-align: top;\n",
       "    }\n",
       "\n",
       "    .dataframe thead th {\n",
       "        text-align: right;\n",
       "    }\n",
       "</style>\n",
       "<table border=\"1\" class=\"dataframe\">\n",
       "  <thead>\n",
       "    <tr style=\"text-align: right;\">\n",
       "      <th></th>\n",
       "      <th>ShoeName</th>\n",
       "      <th>no_of_colors</th>\n",
       "      <th>price</th>\n",
       "      <th>category</th>\n",
       "    </tr>\n",
       "  </thead>\n",
       "  <tbody>\n",
       "    <tr>\n",
       "      <th>0</th>\n",
       "      <td>Superstar Shoes</td>\n",
       "      <td>2 colours</td>\n",
       "      <td>₹8 999.00</td>\n",
       "      <td>originals</td>\n",
       "    </tr>\n",
       "    <tr>\n",
       "      <th>1</th>\n",
       "      <td>Samba OG Shoes</td>\n",
       "      <td>4 colours</td>\n",
       "      <td>₹10 999.00</td>\n",
       "      <td>originals</td>\n",
       "    </tr>\n",
       "    <tr>\n",
       "      <th>2</th>\n",
       "      <td>Samba OG Shoes</td>\n",
       "      <td>4 colours</td>\n",
       "      <td>₹11 999.00</td>\n",
       "      <td>originals</td>\n",
       "    </tr>\n",
       "    <tr>\n",
       "      <th>3</th>\n",
       "      <td>Superstar Shoes</td>\n",
       "      <td>2 colours</td>\n",
       "      <td>₹8 999.00</td>\n",
       "      <td>Men originals</td>\n",
       "    </tr>\n",
       "    <tr>\n",
       "      <th>4</th>\n",
       "      <td>Superstar Shoes</td>\n",
       "      <td></td>\n",
       "      <td>-50 %\\n₹9 999.00\\n₹4 999.50</td>\n",
       "      <td>Men originals</td>\n",
       "    </tr>\n",
       "    <tr>\n",
       "      <th>5</th>\n",
       "      <td>Ultraboost Light</td>\n",
       "      <td>3 colours</td>\n",
       "      <td>₹19 999.00</td>\n",
       "      <td>Men Running</td>\n",
       "    </tr>\n",
       "    <tr>\n",
       "      <th>6</th>\n",
       "      <td>Ultimashow Shoes</td>\n",
       "      <td>6 colours</td>\n",
       "      <td>-30 %\\n₹5 599.00\\n₹3 919.50</td>\n",
       "      <td>Men sportswear</td>\n",
       "    </tr>\n",
       "    <tr>\n",
       "      <th>7</th>\n",
       "      <td>WIND RAISER SHOES</td>\n",
       "      <td>2 colours</td>\n",
       "      <td>-45 %\\n₹3 599.00\\n₹1 979.50</td>\n",
       "      <td>Men Running</td>\n",
       "    </tr>\n",
       "    <tr>\n",
       "      <th>8</th>\n",
       "      <td>Alphaboost V1 Shoes</td>\n",
       "      <td>7 colours</td>\n",
       "      <td>-40 %\\n₹11 999.00\\n₹7 199.50</td>\n",
       "      <td>Men sportswear</td>\n",
       "    </tr>\n",
       "    <tr>\n",
       "      <th>9</th>\n",
       "      <td>FLUIDFLOW 2.0 RUNNING SHOE</td>\n",
       "      <td></td>\n",
       "      <td>-45 %\\n₹4 299.00\\n₹2 364.50</td>\n",
       "      <td>Men Running</td>\n",
       "    </tr>\n",
       "    <tr>\n",
       "      <th>10</th>\n",
       "      <td>Ultraboost 1.0 Shoes</td>\n",
       "      <td></td>\n",
       "      <td>₹17 999.00</td>\n",
       "      <td>Men sportswear</td>\n",
       "    </tr>\n",
       "    <tr>\n",
       "      <th>11</th>\n",
       "      <td>RESTOUND SHOES</td>\n",
       "      <td>3 colours</td>\n",
       "      <td>-60 %\\n₹3 599.00\\n₹1 440.00</td>\n",
       "      <td>Men Running</td>\n",
       "    </tr>\n",
       "    <tr>\n",
       "      <th>12</th>\n",
       "      <td>ADI ZOOM SHOES</td>\n",
       "      <td>5 colours</td>\n",
       "      <td>-50 %\\n₹3 299.00\\n₹1 649.50</td>\n",
       "      <td>Men Running</td>\n",
       "    </tr>\n",
       "    <tr>\n",
       "      <th>13</th>\n",
       "      <td>HYPERON 1.0 SHOES</td>\n",
       "      <td>2 colours</td>\n",
       "      <td>-50 %\\n₹2 999.00\\n₹1 499.50</td>\n",
       "      <td>Men Running</td>\n",
       "    </tr>\n",
       "    <tr>\n",
       "      <th>14</th>\n",
       "      <td>Grand Court Cloudfoam Comfort Shoes</td>\n",
       "      <td>3 colours</td>\n",
       "      <td>-30 %\\n₹7 999.00\\n₹5 599.50</td>\n",
       "      <td>Men sportswear</td>\n",
       "    </tr>\n",
       "    <tr>\n",
       "      <th>15</th>\n",
       "      <td>Pureboost 22 Shoes</td>\n",
       "      <td>3 colours</td>\n",
       "      <td>-60 %\\n₹11 999.00\\n₹4 800.00</td>\n",
       "      <td>Running</td>\n",
       "    </tr>\n",
       "    <tr>\n",
       "      <th>16</th>\n",
       "      <td>Ultraboost 1.0 Shoes</td>\n",
       "      <td>4 colours</td>\n",
       "      <td>₹17 999.00</td>\n",
       "      <td>Men sportswear</td>\n",
       "    </tr>\n",
       "    <tr>\n",
       "      <th>17</th>\n",
       "      <td>RAYRUN SHOES</td>\n",
       "      <td></td>\n",
       "      <td>-40 %\\n₹3 999.00\\n₹2 399.50</td>\n",
       "      <td>Men Running</td>\n",
       "    </tr>\n",
       "    <tr>\n",
       "      <th>18</th>\n",
       "      <td>HALICON SHOES</td>\n",
       "      <td>3 colours</td>\n",
       "      <td>-50 %\\n₹3 999.00\\n₹1 999.50</td>\n",
       "      <td>Men Walking</td>\n",
       "    </tr>\n",
       "    <tr>\n",
       "      <th>19</th>\n",
       "      <td>Lite Racer Adapt 4.0 Cloudfoam Slip-On Shoes</td>\n",
       "      <td>5 colours</td>\n",
       "      <td>-50 %\\n₹6 999.00\\n₹3 499.50</td>\n",
       "      <td>Men Running</td>\n",
       "    </tr>\n",
       "    <tr>\n",
       "      <th>20</th>\n",
       "      <td>FLODEAN SHOES</td>\n",
       "      <td>3 colours</td>\n",
       "      <td>₹3 299.00</td>\n",
       "      <td>Men Walking</td>\n",
       "    </tr>\n",
       "    <tr>\n",
       "      <th>21</th>\n",
       "      <td>Adilette Comfort Slides</td>\n",
       "      <td>4 colours</td>\n",
       "      <td>₹3 999.00</td>\n",
       "      <td>sportswear</td>\n",
       "    </tr>\n",
       "    <tr>\n",
       "      <th>22</th>\n",
       "      <td>Ozelle Cloudfoam Shoes</td>\n",
       "      <td>8 colours</td>\n",
       "      <td>-50 %\\n₹7 999.00\\n₹3 999.50</td>\n",
       "      <td>Men Running</td>\n",
       "    </tr>\n",
       "    <tr>\n",
       "      <th>23</th>\n",
       "      <td>Adilette Comfort Slides</td>\n",
       "      <td>3 colours</td>\n",
       "      <td>-60 %\\n₹3 999.00\\n₹1 600.00</td>\n",
       "      <td>sportswear</td>\n",
       "    </tr>\n",
       "    <tr>\n",
       "      <th>24</th>\n",
       "      <td>EXPEREO SHOES</td>\n",
       "      <td>2 colours</td>\n",
       "      <td>-55 %\\n₹5 299.00\\n₹2 385.00</td>\n",
       "      <td>Men Running</td>\n",
       "    </tr>\n",
       "    <tr>\n",
       "      <th>25</th>\n",
       "      <td>NMD_R1 Shoes</td>\n",
       "      <td>3 colours</td>\n",
       "      <td>-50 %\\n₹12 999.00\\n₹6 499.50</td>\n",
       "      <td>Men originals</td>\n",
       "    </tr>\n",
       "    <tr>\n",
       "      <th>26</th>\n",
       "      <td>RUNNING UNIFLOW SHOES</td>\n",
       "      <td></td>\n",
       "      <td>-50 %\\n₹3 299.00\\n₹1 649.50</td>\n",
       "      <td>Men Running</td>\n",
       "    </tr>\n",
       "    <tr>\n",
       "      <th>27</th>\n",
       "      <td>Ultimashow Shoes</td>\n",
       "      <td>6 colours</td>\n",
       "      <td>-50 %\\n₹5 599.00\\n₹2 799.50</td>\n",
       "      <td>Men sportswear</td>\n",
       "    </tr>\n",
       "    <tr>\n",
       "      <th>28</th>\n",
       "      <td>NMD_V3 Shoes</td>\n",
       "      <td></td>\n",
       "      <td>-50 %\\n₹15 999.00\\n₹7 999.50</td>\n",
       "      <td>Men originals</td>\n",
       "    </tr>\n",
       "    <tr>\n",
       "      <th>29</th>\n",
       "      <td>Asweetrain Shoes</td>\n",
       "      <td></td>\n",
       "      <td>-45 %\\n₹7 999.00\\n₹4 399.50</td>\n",
       "      <td>Men Training</td>\n",
       "    </tr>\n",
       "    <tr>\n",
       "      <th>30</th>\n",
       "      <td>Tracefinder Trail Running Shoes</td>\n",
       "      <td></td>\n",
       "      <td>-45 %\\n₹7 999.00\\n₹4 399.50</td>\n",
       "      <td>Men Outdoor</td>\n",
       "    </tr>\n",
       "    <tr>\n",
       "      <th>31</th>\n",
       "      <td>EXPEREO SHOES</td>\n",
       "      <td>2 colours</td>\n",
       "      <td>-50 %\\n₹5 299.00\\n₹2 649.50</td>\n",
       "      <td>Men Running</td>\n",
       "    </tr>\n",
       "    <tr>\n",
       "      <th>32</th>\n",
       "      <td>Ultra 4DFWD Shoes</td>\n",
       "      <td>effortless forward motion</td>\n",
       "      <td>₹21 999.00</td>\n",
       "      <td>Running</td>\n",
       "    </tr>\n",
       "    <tr>\n",
       "      <th>33</th>\n",
       "      <td>NMD_R1 Shoes</td>\n",
       "      <td>3 colours</td>\n",
       "      <td>-50 %\\n₹12 999.00\\n₹6 499.50</td>\n",
       "      <td>Men originals</td>\n",
       "    </tr>\n",
       "    <tr>\n",
       "      <th>34</th>\n",
       "      <td>Ultimashow Shoes</td>\n",
       "      <td>6 colours</td>\n",
       "      <td>-30 %\\n₹5 599.00\\n₹3 919.50</td>\n",
       "      <td>Men sportswear</td>\n",
       "    </tr>\n",
       "    <tr>\n",
       "      <th>35</th>\n",
       "      <td>VS Pace 2.0 Shoes</td>\n",
       "      <td>6 colours</td>\n",
       "      <td>-30 %\\n₹4 999.00\\n₹3 499.50</td>\n",
       "      <td>Men Skateboarding</td>\n",
       "    </tr>\n",
       "    <tr>\n",
       "      <th>36</th>\n",
       "      <td>Advantage Base Court Lifestyle Shoes</td>\n",
       "      <td>2 colours</td>\n",
       "      <td>-50 %\\n₹6 599.00\\n₹3 299.50</td>\n",
       "      <td>Men sportswear</td>\n",
       "    </tr>\n",
       "    <tr>\n",
       "      <th>37</th>\n",
       "      <td>Gazelle Shoes</td>\n",
       "      <td></td>\n",
       "      <td>₹10 999.00</td>\n",
       "      <td>originals</td>\n",
       "    </tr>\n",
       "    <tr>\n",
       "      <th>38</th>\n",
       "      <td>Web BOOST Shoes</td>\n",
       "      <td>2 colours</td>\n",
       "      <td>-45 %\\n₹14 999.00\\n₹8 249.50</td>\n",
       "      <td>Running</td>\n",
       "    </tr>\n",
       "    <tr>\n",
       "      <th>39</th>\n",
       "      <td>NMD_R1 Shoes</td>\n",
       "      <td>3 colours</td>\n",
       "      <td>-50 %\\n₹12 999.00\\n₹6 499.50</td>\n",
       "      <td>Men originals</td>\n",
       "    </tr>\n",
       "    <tr>\n",
       "      <th>40</th>\n",
       "      <td>NMD_R1 Shoes</td>\n",
       "      <td>3 colours</td>\n",
       "      <td>₹14 999.00</td>\n",
       "      <td>originals</td>\n",
       "    </tr>\n",
       "    <tr>\n",
       "      <th>41</th>\n",
       "      <td>Samba Shoes</td>\n",
       "      <td>7 colours · new</td>\n",
       "      <td>₹14 999.00</td>\n",
       "      <td>Men originals</td>\n",
       "    </tr>\n",
       "    <tr>\n",
       "      <th>42</th>\n",
       "      <td>Samba OG Shoes</td>\n",
       "      <td>4 colours · new</td>\n",
       "      <td>₹10 999.00</td>\n",
       "      <td>Men originals</td>\n",
       "    </tr>\n",
       "    <tr>\n",
       "      <th>43</th>\n",
       "      <td>Ultraboost Light Shoes</td>\n",
       "      <td>16 colours · responsive run</td>\n",
       "      <td>₹18 999.00</td>\n",
       "      <td>Running</td>\n",
       "    </tr>\n",
       "    <tr>\n",
       "      <th>44</th>\n",
       "      <td>Y-3 Gendo Pro Model</td>\n",
       "      <td>2 colours</td>\n",
       "      <td>₹69 999.00</td>\n",
       "      <td>Lifestyle</td>\n",
       "    </tr>\n",
       "    <tr>\n",
       "      <th>45</th>\n",
       "      <td>Y-3 Gendo Pro Model</td>\n",
       "      <td>2 colours</td>\n",
       "      <td>₹69 999.00</td>\n",
       "      <td>Lifestyle</td>\n",
       "    </tr>\n",
       "    <tr>\n",
       "      <th>46</th>\n",
       "      <td>Ultraboost 1.0 ATR Shoes</td>\n",
       "      <td>2 colours · running inspired</td>\n",
       "      <td>₹19 999.00</td>\n",
       "      <td>sportswear</td>\n",
       "    </tr>\n",
       "    <tr>\n",
       "      <th>47</th>\n",
       "      <td>Stan Smith Shoes</td>\n",
       "      <td>3 colours</td>\n",
       "      <td>₹8 999.00</td>\n",
       "      <td>originals</td>\n",
       "    </tr>\n",
       "  </tbody>\n",
       "</table>\n",
       "</div>"
      ],
      "text/plain": [
       "                                        ShoeName  \\\n",
       "0                                Superstar Shoes   \n",
       "1                                 Samba OG Shoes   \n",
       "2                                 Samba OG Shoes   \n",
       "3                                Superstar Shoes   \n",
       "4                                Superstar Shoes   \n",
       "5                               Ultraboost Light   \n",
       "6                               Ultimashow Shoes   \n",
       "7                              WIND RAISER SHOES   \n",
       "8                            Alphaboost V1 Shoes   \n",
       "9                     FLUIDFLOW 2.0 RUNNING SHOE   \n",
       "10                          Ultraboost 1.0 Shoes   \n",
       "11                                RESTOUND SHOES   \n",
       "12                                ADI ZOOM SHOES   \n",
       "13                             HYPERON 1.0 SHOES   \n",
       "14           Grand Court Cloudfoam Comfort Shoes   \n",
       "15                            Pureboost 22 Shoes   \n",
       "16                          Ultraboost 1.0 Shoes   \n",
       "17                                  RAYRUN SHOES   \n",
       "18                                 HALICON SHOES   \n",
       "19  Lite Racer Adapt 4.0 Cloudfoam Slip-On Shoes   \n",
       "20                                 FLODEAN SHOES   \n",
       "21                       Adilette Comfort Slides   \n",
       "22                        Ozelle Cloudfoam Shoes   \n",
       "23                       Adilette Comfort Slides   \n",
       "24                                 EXPEREO SHOES   \n",
       "25                                  NMD_R1 Shoes   \n",
       "26                         RUNNING UNIFLOW SHOES   \n",
       "27                              Ultimashow Shoes   \n",
       "28                                  NMD_V3 Shoes   \n",
       "29                              Asweetrain Shoes   \n",
       "30               Tracefinder Trail Running Shoes   \n",
       "31                                 EXPEREO SHOES   \n",
       "32                             Ultra 4DFWD Shoes   \n",
       "33                                  NMD_R1 Shoes   \n",
       "34                              Ultimashow Shoes   \n",
       "35                             VS Pace 2.0 Shoes   \n",
       "36          Advantage Base Court Lifestyle Shoes   \n",
       "37                                 Gazelle Shoes   \n",
       "38                               Web BOOST Shoes   \n",
       "39                                  NMD_R1 Shoes   \n",
       "40                                  NMD_R1 Shoes   \n",
       "41                                   Samba Shoes   \n",
       "42                                Samba OG Shoes   \n",
       "43                        Ultraboost Light Shoes   \n",
       "44                           Y-3 Gendo Pro Model   \n",
       "45                           Y-3 Gendo Pro Model   \n",
       "46                      Ultraboost 1.0 ATR Shoes   \n",
       "47                              Stan Smith Shoes   \n",
       "\n",
       "                    no_of_colors                         price  \\\n",
       "0                      2 colours                     ₹8 999.00   \n",
       "1                      4 colours                    ₹10 999.00   \n",
       "2                      4 colours                    ₹11 999.00   \n",
       "3                      2 colours                     ₹8 999.00   \n",
       "4                                  -50 %\\n₹9 999.00\\n₹4 999.50   \n",
       "5                      3 colours                    ₹19 999.00   \n",
       "6                      6 colours   -30 %\\n₹5 599.00\\n₹3 919.50   \n",
       "7                      2 colours   -45 %\\n₹3 599.00\\n₹1 979.50   \n",
       "8                      7 colours  -40 %\\n₹11 999.00\\n₹7 199.50   \n",
       "9                                  -45 %\\n₹4 299.00\\n₹2 364.50   \n",
       "10                                                  ₹17 999.00   \n",
       "11                     3 colours   -60 %\\n₹3 599.00\\n₹1 440.00   \n",
       "12                     5 colours   -50 %\\n₹3 299.00\\n₹1 649.50   \n",
       "13                     2 colours   -50 %\\n₹2 999.00\\n₹1 499.50   \n",
       "14                     3 colours   -30 %\\n₹7 999.00\\n₹5 599.50   \n",
       "15                     3 colours  -60 %\\n₹11 999.00\\n₹4 800.00   \n",
       "16                     4 colours                    ₹17 999.00   \n",
       "17                                 -40 %\\n₹3 999.00\\n₹2 399.50   \n",
       "18                     3 colours   -50 %\\n₹3 999.00\\n₹1 999.50   \n",
       "19                     5 colours   -50 %\\n₹6 999.00\\n₹3 499.50   \n",
       "20                     3 colours                     ₹3 299.00   \n",
       "21                     4 colours                     ₹3 999.00   \n",
       "22                     8 colours   -50 %\\n₹7 999.00\\n₹3 999.50   \n",
       "23                     3 colours   -60 %\\n₹3 999.00\\n₹1 600.00   \n",
       "24                     2 colours   -55 %\\n₹5 299.00\\n₹2 385.00   \n",
       "25                     3 colours  -50 %\\n₹12 999.00\\n₹6 499.50   \n",
       "26                                 -50 %\\n₹3 299.00\\n₹1 649.50   \n",
       "27                     6 colours   -50 %\\n₹5 599.00\\n₹2 799.50   \n",
       "28                                -50 %\\n₹15 999.00\\n₹7 999.50   \n",
       "29                                 -45 %\\n₹7 999.00\\n₹4 399.50   \n",
       "30                                 -45 %\\n₹7 999.00\\n₹4 399.50   \n",
       "31                     2 colours   -50 %\\n₹5 299.00\\n₹2 649.50   \n",
       "32     effortless forward motion                    ₹21 999.00   \n",
       "33                     3 colours  -50 %\\n₹12 999.00\\n₹6 499.50   \n",
       "34                     6 colours   -30 %\\n₹5 599.00\\n₹3 919.50   \n",
       "35                     6 colours   -30 %\\n₹4 999.00\\n₹3 499.50   \n",
       "36                     2 colours   -50 %\\n₹6 599.00\\n₹3 299.50   \n",
       "37                                                  ₹10 999.00   \n",
       "38                     2 colours  -45 %\\n₹14 999.00\\n₹8 249.50   \n",
       "39                     3 colours  -50 %\\n₹12 999.00\\n₹6 499.50   \n",
       "40                     3 colours                    ₹14 999.00   \n",
       "41               7 colours · new                    ₹14 999.00   \n",
       "42               4 colours · new                    ₹10 999.00   \n",
       "43   16 colours · responsive run                    ₹18 999.00   \n",
       "44                     2 colours                    ₹69 999.00   \n",
       "45                     2 colours                    ₹69 999.00   \n",
       "46  2 colours · running inspired                    ₹19 999.00   \n",
       "47                     3 colours                     ₹8 999.00   \n",
       "\n",
       "             category  \n",
       "0           originals  \n",
       "1           originals  \n",
       "2           originals  \n",
       "3       Men originals  \n",
       "4       Men originals  \n",
       "5         Men Running  \n",
       "6      Men sportswear  \n",
       "7         Men Running  \n",
       "8      Men sportswear  \n",
       "9         Men Running  \n",
       "10     Men sportswear  \n",
       "11        Men Running  \n",
       "12        Men Running  \n",
       "13        Men Running  \n",
       "14     Men sportswear  \n",
       "15            Running  \n",
       "16     Men sportswear  \n",
       "17        Men Running  \n",
       "18        Men Walking  \n",
       "19        Men Running  \n",
       "20        Men Walking  \n",
       "21         sportswear  \n",
       "22        Men Running  \n",
       "23         sportswear  \n",
       "24        Men Running  \n",
       "25      Men originals  \n",
       "26        Men Running  \n",
       "27     Men sportswear  \n",
       "28      Men originals  \n",
       "29       Men Training  \n",
       "30        Men Outdoor  \n",
       "31        Men Running  \n",
       "32            Running  \n",
       "33      Men originals  \n",
       "34     Men sportswear  \n",
       "35  Men Skateboarding  \n",
       "36     Men sportswear  \n",
       "37          originals  \n",
       "38            Running  \n",
       "39      Men originals  \n",
       "40          originals  \n",
       "41      Men originals  \n",
       "42      Men originals  \n",
       "43            Running  \n",
       "44          Lifestyle  \n",
       "45          Lifestyle  \n",
       "46         sportswear  \n",
       "47          originals  "
      ]
     },
     "execution_count": 82,
     "metadata": {},
     "output_type": "execute_result"
    }
   ],
   "source": [
    "import pandas as pd\n",
    "df2=pd.DataFrame({'ShoeName':ShoeName,'no_of_colors':no_of_colors, 'price':price, 'category':category})\n",
    "df2"
   ]
  },
  {
   "cell_type": "code",
   "execution_count": 84,
   "id": "a71a287b-c9dd-4d68-88d6-765f664b93d2",
   "metadata": {
    "tags": []
   },
   "outputs": [],
   "source": [
    "search_keyword = driver.find_element(By.XPATH, '//*[@id=\"app\"]/div/div[1]/div[1]/div/div/div[2]/div/header/div[2]/div/div[2]/div/input')\n",
    "search_keyword.clear()\n",
    "search_keyword.send_keys('Shoes Women')"
   ]
  },
  {
   "cell_type": "code",
   "execution_count": 85,
   "id": "002dbf3f-f79a-4e93-aa3f-a6c217ef031c",
   "metadata": {
    "tags": []
   },
   "outputs": [],
   "source": [
    "search_keyword = driver.find_element(By.XPATH, '//*[@id=\"app\"]/div/div[1]/div[1]/div/div/div[2]/div/header/div[2]/div/div[2]/div/div[2]/div/div[1]/div[2]/a[1]/div[1]/span[1]')\n",
    "search_keyword.click()"
   ]
  },
  {
   "cell_type": "code",
   "execution_count": 86,
   "id": "046e10b2-02a3-4394-aeab-2c6b592ada4c",
   "metadata": {
    "tags": []
   },
   "outputs": [],
   "source": [
    "ShoeName = [] \n",
    "no_of_colors = []\n",
    "price = []\n",
    "category = []"
   ]
  },
  {
   "cell_type": "code",
   "execution_count": 87,
   "id": "4a257f81-9655-4af0-b4d5-dbac85c48bb3",
   "metadata": {
    "tags": []
   },
   "outputs": [],
   "source": [
    "title_tags=driver.find_elements(By.CLASS_NAME,'glass-product-card__title')\n",
    "for i in title_tags[0:50]:\n",
    "    title=i.text\n",
    "    ShoeName.append(title)"
   ]
  },
  {
   "cell_type": "code",
   "execution_count": 88,
   "id": "c0ea4ffc-0897-4ce4-84d4-3f13a3e7eae2",
   "metadata": {
    "tags": []
   },
   "outputs": [],
   "source": [
    "title_tags=driver.find_elements(By.CLASS_NAME,'glass-product-card__category')\n",
    "for i in title_tags[0:50]:\n",
    "    title=i.text\n",
    "    category.append(title)"
   ]
  },
  {
   "cell_type": "code",
   "execution_count": 89,
   "id": "ed43c8d7-1562-461f-b110-33ccf1f51ed0",
   "metadata": {
    "tags": []
   },
   "outputs": [],
   "source": [
    "title_tags=driver.find_elements(By.CLASS_NAME,'glass-product-card__label')\n",
    "for i in title_tags[0:50]:\n",
    "    title=i.text\n",
    "    no_of_colors.append(title)"
   ]
  },
  {
   "cell_type": "code",
   "execution_count": 90,
   "id": "b6b2d5b4-63b5-4761-af89-69f5f150d39e",
   "metadata": {
    "tags": []
   },
   "outputs": [],
   "source": [
    "title_tags=driver.find_elements(By.CLASS_NAME,'product-card-content-badges-wrapper___2RWqS')\n",
    "for i in title_tags[0:50]:\n",
    "    title=i.text\n",
    "    price.append(title)"
   ]
  },
  {
   "cell_type": "code",
   "execution_count": 91,
   "id": "abe40a90-35a9-4ae0-a0a1-929ecf39e1c9",
   "metadata": {
    "tags": []
   },
   "outputs": [],
   "source": [
    "print = (len(ShoeName),len(no_of_colors), len(price),len(category))"
   ]
  },
  {
   "cell_type": "code",
   "execution_count": 92,
   "id": "dccbcffc-f5f3-4915-927e-f82cff0a0ff5",
   "metadata": {
    "tags": []
   },
   "outputs": [
    {
     "data": {
      "text/plain": [
       "(50, 50, 50, 50)"
      ]
     },
     "execution_count": 92,
     "metadata": {},
     "output_type": "execute_result"
    }
   ],
   "source": [
    "print"
   ]
  },
  {
   "cell_type": "code",
   "execution_count": 93,
   "id": "6d458702-1d4d-4d70-8abc-3a401b1655d3",
   "metadata": {
    "tags": []
   },
   "outputs": [
    {
     "data": {
      "text/html": [
       "<div>\n",
       "<style scoped>\n",
       "    .dataframe tbody tr th:only-of-type {\n",
       "        vertical-align: middle;\n",
       "    }\n",
       "\n",
       "    .dataframe tbody tr th {\n",
       "        vertical-align: top;\n",
       "    }\n",
       "\n",
       "    .dataframe thead th {\n",
       "        text-align: right;\n",
       "    }\n",
       "</style>\n",
       "<table border=\"1\" class=\"dataframe\">\n",
       "  <thead>\n",
       "    <tr style=\"text-align: right;\">\n",
       "      <th></th>\n",
       "      <th>ShoeName</th>\n",
       "      <th>no_of_colors</th>\n",
       "      <th>price</th>\n",
       "      <th>category</th>\n",
       "    </tr>\n",
       "  </thead>\n",
       "  <tbody>\n",
       "    <tr>\n",
       "      <th>0</th>\n",
       "      <td>Superstar Shoes</td>\n",
       "      <td>2 colours</td>\n",
       "      <td>₹8 999.00</td>\n",
       "      <td>originals</td>\n",
       "    </tr>\n",
       "    <tr>\n",
       "      <th>1</th>\n",
       "      <td>Superstar Shoes</td>\n",
       "      <td></td>\n",
       "      <td>-50 %\\n₹8 999.00\\n₹4 499.50</td>\n",
       "      <td>Women Lifestyle</td>\n",
       "    </tr>\n",
       "    <tr>\n",
       "      <th>2</th>\n",
       "      <td>Samba OG Shoes</td>\n",
       "      <td>4 colours</td>\n",
       "      <td>₹10 999.00</td>\n",
       "      <td>originals</td>\n",
       "    </tr>\n",
       "    <tr>\n",
       "      <th>3</th>\n",
       "      <td>Samba OG Shoes</td>\n",
       "      <td>4 colours</td>\n",
       "      <td>₹11 999.00</td>\n",
       "      <td>originals</td>\n",
       "    </tr>\n",
       "    <tr>\n",
       "      <th>4</th>\n",
       "      <td>Gazelle Shoes</td>\n",
       "      <td>6 colours</td>\n",
       "      <td>₹10 999.00</td>\n",
       "      <td>originals</td>\n",
       "    </tr>\n",
       "    <tr>\n",
       "      <th>5</th>\n",
       "      <td>Adilette Ayoon Slides</td>\n",
       "      <td>6 colours</td>\n",
       "      <td>-50 %\\n₹4 999.00\\n₹2 499.50</td>\n",
       "      <td>Women Lifestyle</td>\n",
       "    </tr>\n",
       "    <tr>\n",
       "      <th>6</th>\n",
       "      <td>Adilette Clogs</td>\n",
       "      <td>5 colours</td>\n",
       "      <td>-30 %\\n₹4 599.00\\n₹3 219.50</td>\n",
       "      <td>sportswear</td>\n",
       "    </tr>\n",
       "    <tr>\n",
       "      <th>7</th>\n",
       "      <td>BREEZEWALK SHOES</td>\n",
       "      <td>3 colours</td>\n",
       "      <td>-50 %\\n₹2 999.00\\n₹1 499.50</td>\n",
       "      <td>Women Walking</td>\n",
       "    </tr>\n",
       "    <tr>\n",
       "      <th>8</th>\n",
       "      <td>Avryn Shoes</td>\n",
       "      <td>6 colours</td>\n",
       "      <td>-30 %\\n₹13 999.00\\n₹9 799.50</td>\n",
       "      <td>Running</td>\n",
       "    </tr>\n",
       "    <tr>\n",
       "      <th>9</th>\n",
       "      <td>VULC RAID3R Lifestyle Skateboarding Slip-On Ca...</td>\n",
       "      <td>2 colours</td>\n",
       "      <td>-50 %\\n₹5 599.00\\n₹2 799.50</td>\n",
       "      <td>sportswear</td>\n",
       "    </tr>\n",
       "    <tr>\n",
       "      <th>10</th>\n",
       "      <td>Island Club Adilette 22 Slides</td>\n",
       "      <td>4 colours</td>\n",
       "      <td>₹5 999.00</td>\n",
       "      <td>originals</td>\n",
       "    </tr>\n",
       "    <tr>\n",
       "      <th>11</th>\n",
       "      <td>X Crazyfast.2 Firm Ground Boots</td>\n",
       "      <td>3 colours</td>\n",
       "      <td>₹11 999.00</td>\n",
       "      <td>Football</td>\n",
       "    </tr>\n",
       "    <tr>\n",
       "      <th>12</th>\n",
       "      <td>Adi2000 X Shoes</td>\n",
       "      <td></td>\n",
       "      <td>-45 %\\n₹11 999.00\\n₹6 599.50</td>\n",
       "      <td>Women originals</td>\n",
       "    </tr>\n",
       "    <tr>\n",
       "      <th>13</th>\n",
       "      <td>Adilette Boost Slides</td>\n",
       "      <td>3 colours</td>\n",
       "      <td>-50 %\\n₹5 999.00\\n₹2 999.50</td>\n",
       "      <td>Swim</td>\n",
       "    </tr>\n",
       "    <tr>\n",
       "      <th>14</th>\n",
       "      <td>Superstar XLG Shoes</td>\n",
       "      <td>4 colours</td>\n",
       "      <td>₹11 999.00</td>\n",
       "      <td>originals</td>\n",
       "    </tr>\n",
       "    <tr>\n",
       "      <th>15</th>\n",
       "      <td>Supernova 2 x Marimekko Shoes</td>\n",
       "      <td></td>\n",
       "      <td>-60 %\\n₹9 999.00\\n₹4 000.00</td>\n",
       "      <td>Women Running</td>\n",
       "    </tr>\n",
       "    <tr>\n",
       "      <th>16</th>\n",
       "      <td>Adilette Aqua Slides</td>\n",
       "      <td>7 colours</td>\n",
       "      <td>₹1 999.00</td>\n",
       "      <td>sportswear</td>\n",
       "    </tr>\n",
       "    <tr>\n",
       "      <th>17</th>\n",
       "      <td>X Crazyfast.3 Firm Ground Boots</td>\n",
       "      <td>3 colours</td>\n",
       "      <td>₹7 999.00</td>\n",
       "      <td>Football</td>\n",
       "    </tr>\n",
       "    <tr>\n",
       "      <th>18</th>\n",
       "      <td>NMD_R1 V3 Shoes</td>\n",
       "      <td></td>\n",
       "      <td>-55 %\\n₹15 999.00\\n₹7 200.00</td>\n",
       "      <td>Women originals</td>\n",
       "    </tr>\n",
       "    <tr>\n",
       "      <th>19</th>\n",
       "      <td>Rivalry Low Shoes</td>\n",
       "      <td>2 colours</td>\n",
       "      <td>₹8 999.00</td>\n",
       "      <td>originals</td>\n",
       "    </tr>\n",
       "    <tr>\n",
       "      <th>20</th>\n",
       "      <td>Forum Low Shoes</td>\n",
       "      <td></td>\n",
       "      <td>-40 %\\n₹9 999.00\\n₹5 999.50</td>\n",
       "      <td>Women originals</td>\n",
       "    </tr>\n",
       "    <tr>\n",
       "      <th>21</th>\n",
       "      <td>Puremotion Adapt 2.0 Shoes</td>\n",
       "      <td></td>\n",
       "      <td>-55 %\\n₹6 999.00\\n₹3 150.00</td>\n",
       "      <td>Women Running</td>\n",
       "    </tr>\n",
       "    <tr>\n",
       "      <th>22</th>\n",
       "      <td>Adissage Slides</td>\n",
       "      <td>4 colours</td>\n",
       "      <td>₹2 999.00</td>\n",
       "      <td>sportswear</td>\n",
       "    </tr>\n",
       "    <tr>\n",
       "      <th>23</th>\n",
       "      <td>Valentine's Day Ultraboost 1.0 Shoes</td>\n",
       "      <td></td>\n",
       "      <td>-30 %\\n₹17 999.00\\n₹12 599.50</td>\n",
       "      <td>Women Running</td>\n",
       "    </tr>\n",
       "    <tr>\n",
       "      <th>24</th>\n",
       "      <td>AZUREWALK SHOES</td>\n",
       "      <td>3 colours</td>\n",
       "      <td>-20 %\\n₹4 599.00\\n₹3 679.50</td>\n",
       "      <td>Women Walking</td>\n",
       "    </tr>\n",
       "    <tr>\n",
       "      <th>25</th>\n",
       "      <td>ADILETTE SHOWER</td>\n",
       "      <td>3 colours</td>\n",
       "      <td>-60 %\\n₹2 999.00\\n₹1 200.00</td>\n",
       "      <td>Women Swim</td>\n",
       "    </tr>\n",
       "    <tr>\n",
       "      <th>26</th>\n",
       "      <td>Adilette Comfort Sandals</td>\n",
       "      <td>3 colours</td>\n",
       "      <td>-60 %\\n₹4 599.00\\n₹1 840.00</td>\n",
       "      <td>sportswear</td>\n",
       "    </tr>\n",
       "    <tr>\n",
       "      <th>27</th>\n",
       "      <td>Hoops 3.0 Mid Classic Vintage Shoes</td>\n",
       "      <td>3 colours</td>\n",
       "      <td></td>\n",
       "      <td>Basketball</td>\n",
       "    </tr>\n",
       "    <tr>\n",
       "      <th>28</th>\n",
       "      <td>Court Platform Shoes</td>\n",
       "      <td>2 colours</td>\n",
       "      <td></td>\n",
       "      <td>Women Skateboarding</td>\n",
       "    </tr>\n",
       "    <tr>\n",
       "      <th>29</th>\n",
       "      <td>Copa Pure II.1 Firm Ground Boots</td>\n",
       "      <td></td>\n",
       "      <td></td>\n",
       "      <td>Football</td>\n",
       "    </tr>\n",
       "    <tr>\n",
       "      <th>30</th>\n",
       "      <td>PUDING ADI SANDALS</td>\n",
       "      <td>2 colours</td>\n",
       "      <td></td>\n",
       "      <td>Women Outdoor</td>\n",
       "    </tr>\n",
       "    <tr>\n",
       "      <th>31</th>\n",
       "      <td>Forum Low Shoes</td>\n",
       "      <td>2 colours</td>\n",
       "      <td></td>\n",
       "      <td>originals</td>\n",
       "    </tr>\n",
       "    <tr>\n",
       "      <th>32</th>\n",
       "      <td>Nebzed Cloudfoam Lifestyle Running Shoes</td>\n",
       "      <td>2 colours</td>\n",
       "      <td></td>\n",
       "      <td>Women sportswear</td>\n",
       "    </tr>\n",
       "    <tr>\n",
       "      <th>33</th>\n",
       "      <td>X_PLRBOOST Shoes</td>\n",
       "      <td></td>\n",
       "      <td></td>\n",
       "      <td>Women sportswear</td>\n",
       "    </tr>\n",
       "    <tr>\n",
       "      <th>34</th>\n",
       "      <td>Coreracer Shoes</td>\n",
       "      <td>3 colours</td>\n",
       "      <td></td>\n",
       "      <td>Women Running</td>\n",
       "    </tr>\n",
       "    <tr>\n",
       "      <th>35</th>\n",
       "      <td>Grand Court Base Lifestyle Court Casual Shoes</td>\n",
       "      <td></td>\n",
       "      <td></td>\n",
       "      <td>Women Tennis</td>\n",
       "    </tr>\n",
       "    <tr>\n",
       "      <th>36</th>\n",
       "      <td>Pureboost 22 Shoes</td>\n",
       "      <td>3 colours</td>\n",
       "      <td></td>\n",
       "      <td>Running</td>\n",
       "    </tr>\n",
       "    <tr>\n",
       "      <th>37</th>\n",
       "      <td>Adilette Comfort Slides</td>\n",
       "      <td>4 colours</td>\n",
       "      <td></td>\n",
       "      <td>sportswear</td>\n",
       "    </tr>\n",
       "    <tr>\n",
       "      <th>38</th>\n",
       "      <td>Adilette Comfort Slides</td>\n",
       "      <td>3 colours</td>\n",
       "      <td></td>\n",
       "      <td>sportswear</td>\n",
       "    </tr>\n",
       "    <tr>\n",
       "      <th>39</th>\n",
       "      <td>SHEENWALK SHOES</td>\n",
       "      <td>3 colours</td>\n",
       "      <td></td>\n",
       "      <td>Women Walking</td>\n",
       "    </tr>\n",
       "    <tr>\n",
       "      <th>40</th>\n",
       "      <td>Ultimashow Shoes</td>\n",
       "      <td>4 colours</td>\n",
       "      <td></td>\n",
       "      <td>Women Running</td>\n",
       "    </tr>\n",
       "    <tr>\n",
       "      <th>41</th>\n",
       "      <td>SHEENWALK SHOES</td>\n",
       "      <td>3 colours</td>\n",
       "      <td></td>\n",
       "      <td>Women Running</td>\n",
       "    </tr>\n",
       "    <tr>\n",
       "      <th>42</th>\n",
       "      <td>Galaxy 6 Shoes</td>\n",
       "      <td>7 colours</td>\n",
       "      <td></td>\n",
       "      <td>Women Running</td>\n",
       "    </tr>\n",
       "    <tr>\n",
       "      <th>43</th>\n",
       "      <td>Galaxy 6 Shoes</td>\n",
       "      <td>2 colours</td>\n",
       "      <td></td>\n",
       "      <td>Women Running</td>\n",
       "    </tr>\n",
       "    <tr>\n",
       "      <th>44</th>\n",
       "      <td>Ultra 4DFWD Shoes</td>\n",
       "      <td></td>\n",
       "      <td></td>\n",
       "      <td>Running</td>\n",
       "    </tr>\n",
       "    <tr>\n",
       "      <th>45</th>\n",
       "      <td>Forum Low Shoes</td>\n",
       "      <td>2 colours</td>\n",
       "      <td></td>\n",
       "      <td>originals</td>\n",
       "    </tr>\n",
       "    <tr>\n",
       "      <th>46</th>\n",
       "      <td>Crazy IIInfinity 003 Shoes</td>\n",
       "      <td></td>\n",
       "      <td></td>\n",
       "      <td>originals</td>\n",
       "    </tr>\n",
       "    <tr>\n",
       "      <th>47</th>\n",
       "      <td>VULC RAID3R Lifestyle Skateboarding Slip-On Ca...</td>\n",
       "      <td></td>\n",
       "      <td></td>\n",
       "      <td>Skateboarding</td>\n",
       "    </tr>\n",
       "    <tr>\n",
       "      <th>48</th>\n",
       "      <td>Lite Racer 3.0 Shoes</td>\n",
       "      <td>6 colours</td>\n",
       "      <td></td>\n",
       "      <td>Women sportswear</td>\n",
       "    </tr>\n",
       "    <tr>\n",
       "      <th>49</th>\n",
       "      <td>Racer TR Slides</td>\n",
       "      <td>2 colours</td>\n",
       "      <td></td>\n",
       "      <td>sportswear</td>\n",
       "    </tr>\n",
       "  </tbody>\n",
       "</table>\n",
       "</div>"
      ],
      "text/plain": [
       "                                             ShoeName no_of_colors  \\\n",
       "0                                     Superstar Shoes    2 colours   \n",
       "1                                     Superstar Shoes                \n",
       "2                                      Samba OG Shoes    4 colours   \n",
       "3                                      Samba OG Shoes    4 colours   \n",
       "4                                       Gazelle Shoes    6 colours   \n",
       "5                               Adilette Ayoon Slides    6 colours   \n",
       "6                                      Adilette Clogs    5 colours   \n",
       "7                                    BREEZEWALK SHOES    3 colours   \n",
       "8                                         Avryn Shoes    6 colours   \n",
       "9   VULC RAID3R Lifestyle Skateboarding Slip-On Ca...    2 colours   \n",
       "10                     Island Club Adilette 22 Slides    4 colours   \n",
       "11                    X Crazyfast.2 Firm Ground Boots    3 colours   \n",
       "12                                    Adi2000 X Shoes                \n",
       "13                              Adilette Boost Slides    3 colours   \n",
       "14                                Superstar XLG Shoes    4 colours   \n",
       "15                      Supernova 2 x Marimekko Shoes                \n",
       "16                               Adilette Aqua Slides    7 colours   \n",
       "17                    X Crazyfast.3 Firm Ground Boots    3 colours   \n",
       "18                                    NMD_R1 V3 Shoes                \n",
       "19                                  Rivalry Low Shoes    2 colours   \n",
       "20                                    Forum Low Shoes                \n",
       "21                         Puremotion Adapt 2.0 Shoes                \n",
       "22                                    Adissage Slides    4 colours   \n",
       "23               Valentine's Day Ultraboost 1.0 Shoes                \n",
       "24                                    AZUREWALK SHOES    3 colours   \n",
       "25                                    ADILETTE SHOWER    3 colours   \n",
       "26                           Adilette Comfort Sandals    3 colours   \n",
       "27                Hoops 3.0 Mid Classic Vintage Shoes    3 colours   \n",
       "28                               Court Platform Shoes    2 colours   \n",
       "29                   Copa Pure II.1 Firm Ground Boots                \n",
       "30                                 PUDING ADI SANDALS    2 colours   \n",
       "31                                    Forum Low Shoes    2 colours   \n",
       "32           Nebzed Cloudfoam Lifestyle Running Shoes    2 colours   \n",
       "33                                   X_PLRBOOST Shoes                \n",
       "34                                    Coreracer Shoes    3 colours   \n",
       "35      Grand Court Base Lifestyle Court Casual Shoes                \n",
       "36                                 Pureboost 22 Shoes    3 colours   \n",
       "37                            Adilette Comfort Slides    4 colours   \n",
       "38                            Adilette Comfort Slides    3 colours   \n",
       "39                                    SHEENWALK SHOES    3 colours   \n",
       "40                                   Ultimashow Shoes    4 colours   \n",
       "41                                    SHEENWALK SHOES    3 colours   \n",
       "42                                     Galaxy 6 Shoes    7 colours   \n",
       "43                                     Galaxy 6 Shoes    2 colours   \n",
       "44                                  Ultra 4DFWD Shoes                \n",
       "45                                    Forum Low Shoes    2 colours   \n",
       "46                         Crazy IIInfinity 003 Shoes                \n",
       "47  VULC RAID3R Lifestyle Skateboarding Slip-On Ca...                \n",
       "48                               Lite Racer 3.0 Shoes    6 colours   \n",
       "49                                    Racer TR Slides    2 colours   \n",
       "\n",
       "                            price             category  \n",
       "0                       ₹8 999.00            originals  \n",
       "1     -50 %\\n₹8 999.00\\n₹4 499.50      Women Lifestyle  \n",
       "2                      ₹10 999.00            originals  \n",
       "3                      ₹11 999.00            originals  \n",
       "4                      ₹10 999.00            originals  \n",
       "5     -50 %\\n₹4 999.00\\n₹2 499.50      Women Lifestyle  \n",
       "6     -30 %\\n₹4 599.00\\n₹3 219.50           sportswear  \n",
       "7     -50 %\\n₹2 999.00\\n₹1 499.50        Women Walking  \n",
       "8    -30 %\\n₹13 999.00\\n₹9 799.50              Running  \n",
       "9     -50 %\\n₹5 599.00\\n₹2 799.50           sportswear  \n",
       "10                      ₹5 999.00            originals  \n",
       "11                     ₹11 999.00             Football  \n",
       "12   -45 %\\n₹11 999.00\\n₹6 599.50      Women originals  \n",
       "13    -50 %\\n₹5 999.00\\n₹2 999.50                 Swim  \n",
       "14                     ₹11 999.00            originals  \n",
       "15    -60 %\\n₹9 999.00\\n₹4 000.00        Women Running  \n",
       "16                      ₹1 999.00           sportswear  \n",
       "17                      ₹7 999.00             Football  \n",
       "18   -55 %\\n₹15 999.00\\n₹7 200.00      Women originals  \n",
       "19                      ₹8 999.00            originals  \n",
       "20    -40 %\\n₹9 999.00\\n₹5 999.50      Women originals  \n",
       "21    -55 %\\n₹6 999.00\\n₹3 150.00        Women Running  \n",
       "22                      ₹2 999.00           sportswear  \n",
       "23  -30 %\\n₹17 999.00\\n₹12 599.50        Women Running  \n",
       "24    -20 %\\n₹4 599.00\\n₹3 679.50        Women Walking  \n",
       "25    -60 %\\n₹2 999.00\\n₹1 200.00           Women Swim  \n",
       "26    -60 %\\n₹4 599.00\\n₹1 840.00           sportswear  \n",
       "27                                          Basketball  \n",
       "28                                 Women Skateboarding  \n",
       "29                                            Football  \n",
       "30                                       Women Outdoor  \n",
       "31                                           originals  \n",
       "32                                    Women sportswear  \n",
       "33                                    Women sportswear  \n",
       "34                                       Women Running  \n",
       "35                                        Women Tennis  \n",
       "36                                             Running  \n",
       "37                                          sportswear  \n",
       "38                                          sportswear  \n",
       "39                                       Women Walking  \n",
       "40                                       Women Running  \n",
       "41                                       Women Running  \n",
       "42                                       Women Running  \n",
       "43                                       Women Running  \n",
       "44                                             Running  \n",
       "45                                           originals  \n",
       "46                                           originals  \n",
       "47                                       Skateboarding  \n",
       "48                                    Women sportswear  \n",
       "49                                          sportswear  "
      ]
     },
     "execution_count": 93,
     "metadata": {},
     "output_type": "execute_result"
    }
   ],
   "source": [
    "import pandas as pd\n",
    "df3=pd.DataFrame({'ShoeName':ShoeName,'no_of_colors':no_of_colors, 'price':price, 'category':category})\n",
    "df3"
   ]
  },
  {
   "cell_type": "code",
   "execution_count": null,
   "id": "b032ae1d-ea86-4b7f-98aa-1f65a7dffed2",
   "metadata": {
    "tags": []
   },
   "outputs": [],
   "source": [
    "driver = webdriver.Chrome(service=Service(ChromeDriverManager().install()))"
   ]
  },
  {
   "cell_type": "code",
   "execution_count": 180,
   "id": "e8826364-6fb3-4f3b-881b-1c23a2f512bd",
   "metadata": {
    "tags": []
   },
   "outputs": [],
   "source": [
    "driver.get(\"https://us.puma.com/us/en\")"
   ]
  },
  {
   "cell_type": "code",
   "execution_count": 181,
   "id": "9d728a00-88ab-4b7d-a56a-0502eb134862",
   "metadata": {
    "tags": []
   },
   "outputs": [],
   "source": [
    "search_keyword = driver.find_element(By.XPATH, '//*[@id=\"puma-skip-here\"]/section/div[2]/button[1]/div/div')\n",
    "search_keyword.click()"
   ]
  },
  {
   "cell_type": "code",
   "execution_count": 182,
   "id": "009fdf79-7e1c-4896-911c-a37eea277471",
   "metadata": {
    "tags": []
   },
   "outputs": [],
   "source": [
    "search_keyword = driver.find_element(By.XPATH, '//*[@id=\"nav-bar-sticky\"]/nav/div/div/button[2]')\n",
    "search_keyword.click()"
   ]
  },
  {
   "cell_type": "code",
   "execution_count": 183,
   "id": "5f93797a-0f58-43cd-8090-cb94468ee625",
   "metadata": {
    "tags": []
   },
   "outputs": [],
   "source": [
    "search_keyword = driver.find_element(By.XPATH, '//*[@id=\"react-aria-11\"]')\n",
    "search_keyword.clear()\n",
    "search_keyword.send_keys('Shoes Men')"
   ]
  },
  {
   "cell_type": "code",
   "execution_count": 184,
   "id": "217f7fca-753f-41ae-9d83-6a37de51ac20",
   "metadata": {
    "tags": []
   },
   "outputs": [],
   "source": [
    "search_keyword = driver.find_element(By.XPATH, '//*[@id=\"react-aria-27\"]/span')\n",
    "search_keyword.click()"
   ]
  },
  {
   "cell_type": "code",
   "execution_count": 192,
   "id": "c8165a8f-703f-4f69-81bf-654cd0c26554",
   "metadata": {
    "tags": []
   },
   "outputs": [],
   "source": [
    "ShoeName = [] \n",
    "no_of_colors = []\n",
    "price = []\n",
    "category = []"
   ]
  },
  {
   "cell_type": "code",
   "execution_count": 193,
   "id": "ef99c2db-9fbd-433f-ba89-a2559c95e776",
   "metadata": {
    "tags": []
   },
   "outputs": [],
   "source": [
    "title_tags=driver.find_elements(By.TAG_NAME, 'h3')\n",
    "for i in title_tags[0:23]:\n",
    "    title=i.text\n",
    "    ShoeName.append(title)"
   ]
  },
  {
   "cell_type": "code",
   "execution_count": 194,
   "id": "3005c981-5db7-46fb-90cb-01c1bb542c95",
   "metadata": {
    "tags": []
   },
   "outputs": [],
   "source": [
    "title_tags=driver.find_elements(By.TAG_NAME,'h3')\n",
    "for i in title_tags[0:23]:\n",
    "    title=i.text\n",
    "    category.append(title)"
   ]
  },
  {
   "cell_type": "code",
   "execution_count": 195,
   "id": "da32529f-7249-45fd-87bf-bf9c80583001",
   "metadata": {
    "tags": []
   },
   "outputs": [],
   "source": [
    "title_tags=driver.find_elements(By.CLASS_NAME,'text-puma-black-300.uppercase.text-xs.whitespace-nowrap')\n",
    "for i in title_tags[0:23]:\n",
    "    title=i.text\n",
    "    no_of_colors.append(title)"
   ]
  },
  {
   "cell_type": "code",
   "execution_count": 196,
   "id": "08cfc634-d237-481c-8ec3-1bdaec657d80",
   "metadata": {
    "tags": []
   },
   "outputs": [],
   "source": [
    "title_tags=driver.find_elements(By.CLASS_NAME,'whitespace-nowrap.text-base.text-puma-red.font-bold')\n",
    "for i in title_tags[0:100]:\n",
    "    title=i.text\n",
    "    price.append(title)"
   ]
  },
  {
   "cell_type": "code",
   "execution_count": 197,
   "id": "cde0be19-42a8-4152-88fc-823dc5c3601d",
   "metadata": {
    "tags": []
   },
   "outputs": [],
   "source": [
    "print = (len(ShoeName),len(category),len(price),len(no_of_colors))"
   ]
  },
  {
   "cell_type": "code",
   "execution_count": 198,
   "id": "4bebac35-7910-4f95-b731-997e762da9b3",
   "metadata": {
    "tags": []
   },
   "outputs": [
    {
     "data": {
      "text/plain": [
       "(23, 23, 23, 23)"
      ]
     },
     "execution_count": 198,
     "metadata": {},
     "output_type": "execute_result"
    }
   ],
   "source": [
    "print"
   ]
  },
  {
   "cell_type": "code",
   "execution_count": 200,
   "id": "59194461-86d4-4488-a085-8ab339f70a75",
   "metadata": {
    "tags": []
   },
   "outputs": [
    {
     "data": {
      "text/html": [
       "<div>\n",
       "<style scoped>\n",
       "    .dataframe tbody tr th:only-of-type {\n",
       "        vertical-align: middle;\n",
       "    }\n",
       "\n",
       "    .dataframe tbody tr th {\n",
       "        vertical-align: top;\n",
       "    }\n",
       "\n",
       "    .dataframe thead th {\n",
       "        text-align: right;\n",
       "    }\n",
       "</style>\n",
       "<table border=\"1\" class=\"dataframe\">\n",
       "  <thead>\n",
       "    <tr style=\"text-align: right;\">\n",
       "      <th></th>\n",
       "      <th>ShoeName</th>\n",
       "      <th>category</th>\n",
       "      <th>Price</th>\n",
       "      <th>no_of_colors</th>\n",
       "    </tr>\n",
       "  </thead>\n",
       "  <tbody>\n",
       "    <tr>\n",
       "      <th>0</th>\n",
       "      <td>Axelion NXT Camo Men's Running Shoes\\nPuma Bla...</td>\n",
       "      <td>Axelion NXT Camo Men's Running Shoes\\nPuma Bla...</td>\n",
       "      <td>$40.00</td>\n",
       "      <td>1 COLOR</td>\n",
       "    </tr>\n",
       "    <tr>\n",
       "      <th>1</th>\n",
       "      <td>Viz Runner Repeat Wide Men's Running Shoes\\nPU...</td>\n",
       "      <td>Viz Runner Repeat Wide Men's Running Shoes\\nPU...</td>\n",
       "      <td>$32.50</td>\n",
       "      <td>3 COLORS</td>\n",
       "    </tr>\n",
       "    <tr>\n",
       "      <th>2</th>\n",
       "      <td>Axelion Fade Men's Running Shoes\\nFor All Time...</td>\n",
       "      <td>Axelion Fade Men's Running Shoes\\nFor All Time...</td>\n",
       "      <td>$50.99</td>\n",
       "      <td>2 COLORS</td>\n",
       "    </tr>\n",
       "    <tr>\n",
       "      <th>3</th>\n",
       "      <td>Viz Runner Repeat Wide Men's Running Shoes\\nPu...</td>\n",
       "      <td>Viz Runner Repeat Wide Men's Running Shoes\\nPu...</td>\n",
       "      <td>$32.50</td>\n",
       "      <td>3 COLORS</td>\n",
       "    </tr>\n",
       "    <tr>\n",
       "      <th>4</th>\n",
       "      <td>Star Vital Refresh Men's Running Shoes\\nPUMA N...</td>\n",
       "      <td>Star Vital Refresh Men's Running Shoes\\nPUMA N...</td>\n",
       "      <td>$35.00</td>\n",
       "      <td>2 COLORS</td>\n",
       "    </tr>\n",
       "    <tr>\n",
       "      <th>5</th>\n",
       "      <td>Softride Enzo Evo Running Shoes\\nPuma Black-CA...</td>\n",
       "      <td>Softride Enzo Evo Running Shoes\\nPuma Black-CA...</td>\n",
       "      <td>$69.99</td>\n",
       "      <td>6 COLORS</td>\n",
       "    </tr>\n",
       "    <tr>\n",
       "      <th>6</th>\n",
       "      <td>Axelion Fade Men's Running Shoes\\nTeam Light B...</td>\n",
       "      <td>Axelion Fade Men's Running Shoes\\nTeam Light B...</td>\n",
       "      <td>$50.99</td>\n",
       "      <td>2 COLORS</td>\n",
       "    </tr>\n",
       "    <tr>\n",
       "      <th>7</th>\n",
       "      <td>Cell Rapid Running Shoes\\nFor All Time Red-PUM...</td>\n",
       "      <td>Cell Rapid Running Shoes\\nFor All Time Red-PUM...</td>\n",
       "      <td>$42.50</td>\n",
       "      <td>2 COLORS</td>\n",
       "    </tr>\n",
       "    <tr>\n",
       "      <th>8</th>\n",
       "      <td>Axelion Refresh Men's Running Shoes\\nPUMA Blac...</td>\n",
       "      <td>Axelion Refresh Men's Running Shoes\\nPUMA Blac...</td>\n",
       "      <td>$50.99</td>\n",
       "      <td>2 COLORS</td>\n",
       "    </tr>\n",
       "    <tr>\n",
       "      <th>9</th>\n",
       "      <td>Axelion Spark Men's Running Shoes\\nCASTLEROCK-...</td>\n",
       "      <td>Axelion Spark Men's Running Shoes\\nCASTLEROCK-...</td>\n",
       "      <td>$50.99</td>\n",
       "      <td>1 COLOR</td>\n",
       "    </tr>\n",
       "    <tr>\n",
       "      <th>10</th>\n",
       "      <td>Star Vital Men's Training Shoes\\nPUMA Black-Co...</td>\n",
       "      <td>Star Vital Men's Training Shoes\\nPUMA Black-Co...</td>\n",
       "      <td>$32.50</td>\n",
       "      <td>1 COLOR</td>\n",
       "    </tr>\n",
       "    <tr>\n",
       "      <th>11</th>\n",
       "      <td>Star Vital Outline Men's Running Shoes\\nPUMA N...</td>\n",
       "      <td>Star Vital Outline Men's Running Shoes\\nPUMA N...</td>\n",
       "      <td>$32.50</td>\n",
       "      <td>1 COLOR</td>\n",
       "    </tr>\n",
       "    <tr>\n",
       "      <th>12</th>\n",
       "      <td>Cell Rapid Running Shoes\\nInky Blue-PUMA Black...</td>\n",
       "      <td>Cell Rapid Running Shoes\\nInky Blue-PUMA Black...</td>\n",
       "      <td>$42.50</td>\n",
       "      <td>2 COLORS</td>\n",
       "    </tr>\n",
       "    <tr>\n",
       "      <th>13</th>\n",
       "      <td>Star Vital Refresh Men's Running Shoes\\nPUMA B...</td>\n",
       "      <td>Star Vital Refresh Men's Running Shoes\\nPUMA B...</td>\n",
       "      <td>$35.00</td>\n",
       "      <td>2 COLORS</td>\n",
       "    </tr>\n",
       "    <tr>\n",
       "      <th>14</th>\n",
       "      <td>Transport Running Shoes\\nPuma Black-Puma Black</td>\n",
       "      <td>Transport Running Shoes\\nPuma Black-Puma Black</td>\n",
       "      <td>$30.99</td>\n",
       "      <td>5 COLORS</td>\n",
       "    </tr>\n",
       "    <tr>\n",
       "      <th>15</th>\n",
       "      <td>Softride Enzo Evo Better Running Shoes\\nCool D...</td>\n",
       "      <td>Softride Enzo Evo Better Running Shoes\\nCool D...</td>\n",
       "      <td>$37.50</td>\n",
       "      <td>1 COLOR</td>\n",
       "    </tr>\n",
       "    <tr>\n",
       "      <th>16</th>\n",
       "      <td>Axelion NXT Men's Running Shoes\\nPuma Black-Ur...</td>\n",
       "      <td>Axelion NXT Men's Running Shoes\\nPuma Black-Ur...</td>\n",
       "      <td>$40.00</td>\n",
       "      <td>3 COLORS</td>\n",
       "    </tr>\n",
       "    <tr>\n",
       "      <th>17</th>\n",
       "      <td>Aviator Men's Running Shoes\\nPuma Black-CASTLE...</td>\n",
       "      <td>Aviator Men's Running Shoes\\nPuma Black-CASTLE...</td>\n",
       "      <td>$45.99</td>\n",
       "      <td>1 COLOR</td>\n",
       "    </tr>\n",
       "    <tr>\n",
       "      <th>18</th>\n",
       "      <td>PUMA x FIRST MILE Electrify NITRO™ 3 Men's Run...</td>\n",
       "      <td>PUMA x FIRST MILE Electrify NITRO™ 3 Men's Run...</td>\n",
       "      <td>$40.00</td>\n",
       "      <td>1 COLOR</td>\n",
       "    </tr>\n",
       "    <tr>\n",
       "      <th>19</th>\n",
       "      <td>Axelion NXT Men's Running Shoes\\nPeacoat-Puma ...</td>\n",
       "      <td>Axelion NXT Men's Running Shoes\\nPeacoat-Puma ...</td>\n",
       "      <td>$48.99</td>\n",
       "      <td>3 COLORS</td>\n",
       "    </tr>\n",
       "    <tr>\n",
       "      <th>20</th>\n",
       "      <td>Cell Rapid Camo Men's Running Shoes\\nPUMA Blac...</td>\n",
       "      <td>Cell Rapid Camo Men's Running Shoes\\nPUMA Blac...</td>\n",
       "      <td>$40.99</td>\n",
       "      <td>2 COLORS</td>\n",
       "    </tr>\n",
       "    <tr>\n",
       "      <th>21</th>\n",
       "      <td>SOFTRIDE One4All Men's Running Shoes\\nHigh Ris...</td>\n",
       "      <td>SOFTRIDE One4All Men's Running Shoes\\nHigh Ris...</td>\n",
       "      <td>$37.50</td>\n",
       "      <td>1 COLOR</td>\n",
       "    </tr>\n",
       "    <tr>\n",
       "      <th>22</th>\n",
       "      <td>Softride Enzo Evo Running Shoes\\nFlat Medium Gray</td>\n",
       "      <td>Softride Enzo Evo Running Shoes\\nFlat Medium Gray</td>\n",
       "      <td>$42.50</td>\n",
       "      <td>6 COLORS</td>\n",
       "    </tr>\n",
       "  </tbody>\n",
       "</table>\n",
       "</div>"
      ],
      "text/plain": [
       "                                             ShoeName  \\\n",
       "0   Axelion NXT Camo Men's Running Shoes\\nPuma Bla...   \n",
       "1   Viz Runner Repeat Wide Men's Running Shoes\\nPU...   \n",
       "2   Axelion Fade Men's Running Shoes\\nFor All Time...   \n",
       "3   Viz Runner Repeat Wide Men's Running Shoes\\nPu...   \n",
       "4   Star Vital Refresh Men's Running Shoes\\nPUMA N...   \n",
       "5   Softride Enzo Evo Running Shoes\\nPuma Black-CA...   \n",
       "6   Axelion Fade Men's Running Shoes\\nTeam Light B...   \n",
       "7   Cell Rapid Running Shoes\\nFor All Time Red-PUM...   \n",
       "8   Axelion Refresh Men's Running Shoes\\nPUMA Blac...   \n",
       "9   Axelion Spark Men's Running Shoes\\nCASTLEROCK-...   \n",
       "10  Star Vital Men's Training Shoes\\nPUMA Black-Co...   \n",
       "11  Star Vital Outline Men's Running Shoes\\nPUMA N...   \n",
       "12  Cell Rapid Running Shoes\\nInky Blue-PUMA Black...   \n",
       "13  Star Vital Refresh Men's Running Shoes\\nPUMA B...   \n",
       "14     Transport Running Shoes\\nPuma Black-Puma Black   \n",
       "15  Softride Enzo Evo Better Running Shoes\\nCool D...   \n",
       "16  Axelion NXT Men's Running Shoes\\nPuma Black-Ur...   \n",
       "17  Aviator Men's Running Shoes\\nPuma Black-CASTLE...   \n",
       "18  PUMA x FIRST MILE Electrify NITRO™ 3 Men's Run...   \n",
       "19  Axelion NXT Men's Running Shoes\\nPeacoat-Puma ...   \n",
       "20  Cell Rapid Camo Men's Running Shoes\\nPUMA Blac...   \n",
       "21  SOFTRIDE One4All Men's Running Shoes\\nHigh Ris...   \n",
       "22  Softride Enzo Evo Running Shoes\\nFlat Medium Gray   \n",
       "\n",
       "                                             category   Price no_of_colors  \n",
       "0   Axelion NXT Camo Men's Running Shoes\\nPuma Bla...  $40.00      1 COLOR  \n",
       "1   Viz Runner Repeat Wide Men's Running Shoes\\nPU...  $32.50     3 COLORS  \n",
       "2   Axelion Fade Men's Running Shoes\\nFor All Time...  $50.99     2 COLORS  \n",
       "3   Viz Runner Repeat Wide Men's Running Shoes\\nPu...  $32.50     3 COLORS  \n",
       "4   Star Vital Refresh Men's Running Shoes\\nPUMA N...  $35.00     2 COLORS  \n",
       "5   Softride Enzo Evo Running Shoes\\nPuma Black-CA...  $69.99     6 COLORS  \n",
       "6   Axelion Fade Men's Running Shoes\\nTeam Light B...  $50.99     2 COLORS  \n",
       "7   Cell Rapid Running Shoes\\nFor All Time Red-PUM...  $42.50     2 COLORS  \n",
       "8   Axelion Refresh Men's Running Shoes\\nPUMA Blac...  $50.99     2 COLORS  \n",
       "9   Axelion Spark Men's Running Shoes\\nCASTLEROCK-...  $50.99      1 COLOR  \n",
       "10  Star Vital Men's Training Shoes\\nPUMA Black-Co...  $32.50      1 COLOR  \n",
       "11  Star Vital Outline Men's Running Shoes\\nPUMA N...  $32.50      1 COLOR  \n",
       "12  Cell Rapid Running Shoes\\nInky Blue-PUMA Black...  $42.50     2 COLORS  \n",
       "13  Star Vital Refresh Men's Running Shoes\\nPUMA B...  $35.00     2 COLORS  \n",
       "14     Transport Running Shoes\\nPuma Black-Puma Black  $30.99     5 COLORS  \n",
       "15  Softride Enzo Evo Better Running Shoes\\nCool D...  $37.50      1 COLOR  \n",
       "16  Axelion NXT Men's Running Shoes\\nPuma Black-Ur...  $40.00     3 COLORS  \n",
       "17  Aviator Men's Running Shoes\\nPuma Black-CASTLE...  $45.99      1 COLOR  \n",
       "18  PUMA x FIRST MILE Electrify NITRO™ 3 Men's Run...  $40.00      1 COLOR  \n",
       "19  Axelion NXT Men's Running Shoes\\nPeacoat-Puma ...  $48.99     3 COLORS  \n",
       "20  Cell Rapid Camo Men's Running Shoes\\nPUMA Blac...  $40.99     2 COLORS  \n",
       "21  SOFTRIDE One4All Men's Running Shoes\\nHigh Ris...  $37.50      1 COLOR  \n",
       "22  Softride Enzo Evo Running Shoes\\nFlat Medium Gray  $42.50     6 COLORS  "
      ]
     },
     "execution_count": 200,
     "metadata": {},
     "output_type": "execute_result"
    }
   ],
   "source": [
    "import pandas as pd\n",
    "df4=pd.DataFrame({'ShoeName':ShoeName,'category':category,'Price':price,'no_of_colors':no_of_colors})\n",
    "df4"
   ]
  },
  {
   "cell_type": "code",
   "execution_count": 204,
   "id": "fcd488ef-1fc2-4010-9819-0746a3c33834",
   "metadata": {
    "tags": []
   },
   "outputs": [],
   "source": [
    "search_keyword = driver.find_element(By.XPATH, '//*[@id=\"nav-bar-sticky\"]/nav/div/div/button[2]')\n",
    "search_keyword.click()"
   ]
  },
  {
   "cell_type": "code",
   "execution_count": 205,
   "id": "dfe2fccc-b074-4abd-81bc-eb0ec3117d41",
   "metadata": {
    "tags": []
   },
   "outputs": [],
   "source": [
    "search_keyword = driver.find_element(By.XPATH, '//*[@id=\"react-aria-44\"]')\n",
    "search_keyword.clear()\n",
    "search_keyword.send_keys('Shoes Women')"
   ]
  },
  {
   "cell_type": "code",
   "execution_count": 206,
   "id": "003e78ce-0fb8-409c-9459-81b4b164f966",
   "metadata": {
    "tags": []
   },
   "outputs": [],
   "source": [
    "search_keyword = driver.find_element(By.XPATH, '//*[@id=\"react-aria-59\"]/span')\n",
    "search_keyword.click()"
   ]
  },
  {
   "cell_type": "code",
   "execution_count": 207,
   "id": "00e696ac-2cc0-4ce6-ba53-1744994a3dc6",
   "metadata": {
    "tags": []
   },
   "outputs": [],
   "source": [
    "ShoeName = [] \n",
    "no_of_colors = []\n",
    "price = []\n",
    "category = []"
   ]
  },
  {
   "cell_type": "code",
   "execution_count": 208,
   "id": "cefbcda5-71d2-4d6a-8d13-787f1def39db",
   "metadata": {
    "tags": []
   },
   "outputs": [],
   "source": [
    "title_tags=driver.find_elements(By.TAG_NAME, 'h3')\n",
    "for i in title_tags[0:23]:\n",
    "    title=i.text\n",
    "    ShoeName.append(title)"
   ]
  },
  {
   "cell_type": "code",
   "execution_count": 209,
   "id": "002bd4b6-a15e-49f3-9242-3468d104ff42",
   "metadata": {
    "tags": []
   },
   "outputs": [],
   "source": [
    "title_tags=driver.find_elements(By.TAG_NAME,'h3')\n",
    "for i in title_tags[0:23]:\n",
    "    title=i.text\n",
    "    category.append(title)"
   ]
  },
  {
   "cell_type": "code",
   "execution_count": 211,
   "id": "e4b58f12-2b85-4e86-9f8d-76bbd0821b89",
   "metadata": {
    "tags": []
   },
   "outputs": [],
   "source": [
    "title_tags=driver.find_elements(By.CLASS_NAME,'text-puma-black-300.uppercase.text-xs.whitespace-nowrap')\n",
    "for i in title_tags[0:23]:\n",
    "    title=i.text\n",
    "    no_of_colors.append(title)"
   ]
  },
  {
   "cell_type": "code",
   "execution_count": 210,
   "id": "0a664147-daad-4a18-986e-889827609f7c",
   "metadata": {
    "tags": []
   },
   "outputs": [],
   "source": [
    "title_tags=driver.find_elements(By.CLASS_NAME,'whitespace-nowrap.text-base.text-puma-red.font-bold')\n",
    "for i in title_tags[0:100]:\n",
    "    title=i.text\n",
    "    price.append(title)"
   ]
  },
  {
   "cell_type": "code",
   "execution_count": 212,
   "id": "3480908e-781c-44ba-a961-e5eb4c4b2519",
   "metadata": {
    "tags": []
   },
   "outputs": [],
   "source": [
    "print = (len(ShoeName),len(category),len(price),len(no_of_colors))"
   ]
  },
  {
   "cell_type": "code",
   "execution_count": 213,
   "id": "7cb69f01-bda1-48c5-b737-92cd01d7d30b",
   "metadata": {
    "tags": []
   },
   "outputs": [
    {
     "data": {
      "text/plain": [
       "(23, 23, 23, 23)"
      ]
     },
     "execution_count": 213,
     "metadata": {},
     "output_type": "execute_result"
    }
   ],
   "source": [
    "print"
   ]
  },
  {
   "cell_type": "code",
   "execution_count": 214,
   "id": "afbbf0ce-5c2f-434b-a845-37e934450513",
   "metadata": {
    "tags": []
   },
   "outputs": [
    {
     "data": {
      "text/html": [
       "<div>\n",
       "<style scoped>\n",
       "    .dataframe tbody tr th:only-of-type {\n",
       "        vertical-align: middle;\n",
       "    }\n",
       "\n",
       "    .dataframe tbody tr th {\n",
       "        vertical-align: top;\n",
       "    }\n",
       "\n",
       "    .dataframe thead th {\n",
       "        text-align: right;\n",
       "    }\n",
       "</style>\n",
       "<table border=\"1\" class=\"dataframe\">\n",
       "  <thead>\n",
       "    <tr style=\"text-align: right;\">\n",
       "      <th></th>\n",
       "      <th>ShoeName</th>\n",
       "      <th>category</th>\n",
       "      <th>Price</th>\n",
       "      <th>no_of_colors</th>\n",
       "    </tr>\n",
       "  </thead>\n",
       "  <tbody>\n",
       "    <tr>\n",
       "      <th>0</th>\n",
       "      <td>Better Foam Prowl Slip-On Wide Women's Trainin...</td>\n",
       "      <td>Better Foam Prowl Slip-On Wide Women's Trainin...</td>\n",
       "      <td>$35.99</td>\n",
       "      <td>1 COLOR</td>\n",
       "    </tr>\n",
       "    <tr>\n",
       "      <th>1</th>\n",
       "      <td>Star Vital Women's Training Shoes\\nPUMA Black-...</td>\n",
       "      <td>Star Vital Women's Training Shoes\\nPUMA Black-...</td>\n",
       "      <td>$32.50</td>\n",
       "      <td>2 COLORS</td>\n",
       "    </tr>\n",
       "    <tr>\n",
       "      <th>2</th>\n",
       "      <td>Riaze Prowl Women’s Training Shoes\\nPuma Black...</td>\n",
       "      <td>Riaze Prowl Women’s Training Shoes\\nPuma Black...</td>\n",
       "      <td>$42.50</td>\n",
       "      <td>1 COLOR</td>\n",
       "    </tr>\n",
       "    <tr>\n",
       "      <th>3</th>\n",
       "      <td>Adelina Women’s Ballet Shoes\\nPuma Black-Puma ...</td>\n",
       "      <td>Adelina Women’s Ballet Shoes\\nPuma Black-Puma ...</td>\n",
       "      <td>$25.00</td>\n",
       "      <td>2 COLORS</td>\n",
       "    </tr>\n",
       "    <tr>\n",
       "      <th>4</th>\n",
       "      <td>Defy Mid Women's Training Shoes\\nPuma Black-Gold</td>\n",
       "      <td>Defy Mid Women's Training Shoes\\nPuma Black-Gold</td>\n",
       "      <td>$79.99</td>\n",
       "      <td>1 COLOR</td>\n",
       "    </tr>\n",
       "    <tr>\n",
       "      <th>5</th>\n",
       "      <td>Soft ride Flair Women's Running Shoes\\nPUMA Bl...</td>\n",
       "      <td>Soft ride Flair Women's Running Shoes\\nPUMA Bl...</td>\n",
       "      <td>$40.99</td>\n",
       "      <td>2 COLORS</td>\n",
       "    </tr>\n",
       "    <tr>\n",
       "      <th>6</th>\n",
       "      <td>Palermo Women's Leather Sneakers\\nPUMA White-V...</td>\n",
       "      <td>Palermo Women's Leather Sneakers\\nPUMA White-V...</td>\n",
       "      <td>$32.50</td>\n",
       "      <td>2 COLORS</td>\n",
       "    </tr>\n",
       "    <tr>\n",
       "      <th>7</th>\n",
       "      <td>Better Foam Prowl Slip On Women's Running Snea...</td>\n",
       "      <td>Better Foam Prowl Slip On Women's Running Snea...</td>\n",
       "      <td>$39.99</td>\n",
       "      <td>1 COLOR</td>\n",
       "    </tr>\n",
       "    <tr>\n",
       "      <th>8</th>\n",
       "      <td>Suede Classic XXI Women's Sneakers\\nIcy Blue-P...</td>\n",
       "      <td>Suede Classic XXI Women's Sneakers\\nIcy Blue-P...</td>\n",
       "      <td>$50.00</td>\n",
       "      <td>7 COLORS</td>\n",
       "    </tr>\n",
       "    <tr>\n",
       "      <th>9</th>\n",
       "      <td>Defy Varsity Mid Women's Sneakers\\nPuma White-...</td>\n",
       "      <td>Defy Varsity Mid Women's Sneakers\\nPuma White-...</td>\n",
       "      <td>$79.99</td>\n",
       "      <td>1 COLOR</td>\n",
       "    </tr>\n",
       "    <tr>\n",
       "      <th>10</th>\n",
       "      <td>Raize Prowl Speckle Women's Running Shoes\\nPum...</td>\n",
       "      <td>Raize Prowl Speckle Women's Running Shoes\\nPum...</td>\n",
       "      <td>$30.00</td>\n",
       "      <td>1 COLOR</td>\n",
       "    </tr>\n",
       "    <tr>\n",
       "      <th>11</th>\n",
       "      <td>Ella Lace Up Women's Shoes\\nPuma Black-Puma White</td>\n",
       "      <td>Ella Lace Up Women's Shoes\\nPuma Black-Puma White</td>\n",
       "      <td>$42.99</td>\n",
       "      <td>2 COLORS</td>\n",
       "    </tr>\n",
       "    <tr>\n",
       "      <th>12</th>\n",
       "      <td>Softride Sophia Slip-on Women's Running Shoes\\...</td>\n",
       "      <td>Softride Sophia Slip-on Women's Running Shoes\\...</td>\n",
       "      <td>$42.50</td>\n",
       "      <td>1 COLOR</td>\n",
       "    </tr>\n",
       "    <tr>\n",
       "      <th>13</th>\n",
       "      <td>Riaze Prowl Rainbow Women's Sneakers\\nPuma Bla...</td>\n",
       "      <td>Riaze Prowl Rainbow Women's Sneakers\\nPuma Bla...</td>\n",
       "      <td>$30.00</td>\n",
       "      <td>1 COLOR</td>\n",
       "    </tr>\n",
       "    <tr>\n",
       "      <th>14</th>\n",
       "      <td>Ella Lace Up Women's Shoes\\nPuma White-Puma Si...</td>\n",
       "      <td>Ella Lace Up Women's Shoes\\nPuma White-Puma Si...</td>\n",
       "      <td>$63.99</td>\n",
       "      <td>2 COLORS</td>\n",
       "    </tr>\n",
       "    <tr>\n",
       "      <th>15</th>\n",
       "      <td>CA Pro PRM Women's Sneakers\\nFeather Gray-Warm...</td>\n",
       "      <td>CA Pro PRM Women's Sneakers\\nFeather Gray-Warm...</td>\n",
       "      <td>$40.00</td>\n",
       "      <td>1 COLOR</td>\n",
       "    </tr>\n",
       "    <tr>\n",
       "      <th>16</th>\n",
       "      <td>Axelion Metallic Watercolor Women's Running Sh...</td>\n",
       "      <td>Axelion Metallic Watercolor Women's Running Sh...</td>\n",
       "      <td>$35.99</td>\n",
       "      <td>1 COLOR</td>\n",
       "    </tr>\n",
       "    <tr>\n",
       "      <th>17</th>\n",
       "      <td>Carina 2.0 Women's Sneakers\\nPuma White-Puma W...</td>\n",
       "      <td>Carina 2.0 Women's Sneakers\\nPuma White-Puma W...</td>\n",
       "      <td>$45.00</td>\n",
       "      <td>2 COLORS</td>\n",
       "    </tr>\n",
       "    <tr>\n",
       "      <th>18</th>\n",
       "      <td>Trinity Women's Sneakers\\nPUMA White-PUMA Blac...</td>\n",
       "      <td>Trinity Women's Sneakers\\nPUMA White-PUMA Blac...</td>\n",
       "      <td>$32.50</td>\n",
       "      <td>3 COLORS</td>\n",
       "    </tr>\n",
       "    <tr>\n",
       "      <th>19</th>\n",
       "      <td>Better Foam Prowl Slip On Women's Training Sho...</td>\n",
       "      <td>Better Foam Prowl Slip On Women's Training Sho...</td>\n",
       "      <td>$35.00</td>\n",
       "      <td>1 COLOR</td>\n",
       "    </tr>\n",
       "    <tr>\n",
       "      <th>20</th>\n",
       "      <td>Softride Sophia 2 Premium Women's Running Shoe...</td>\n",
       "      <td>Softride Sophia 2 Premium Women's Running Shoe...</td>\n",
       "      <td>$42.50</td>\n",
       "      <td>1 COLOR</td>\n",
       "    </tr>\n",
       "    <tr>\n",
       "      <th>21</th>\n",
       "      <td>Softride Stakd Women's Running Shoes\\nPUMA Bla...</td>\n",
       "      <td>Softride Stakd Women's Running Shoes\\nPUMA Bla...</td>\n",
       "      <td>$32.50</td>\n",
       "      <td>2 COLORS</td>\n",
       "    </tr>\n",
       "    <tr>\n",
       "      <th>22</th>\n",
       "      <td>Prowl Slip On Women's Training Shoes\\nPuma Black</td>\n",
       "      <td>Prowl Slip On Women's Training Shoes\\nPuma Black</td>\n",
       "      <td>$32.50</td>\n",
       "      <td>1 COLOR</td>\n",
       "    </tr>\n",
       "  </tbody>\n",
       "</table>\n",
       "</div>"
      ],
      "text/plain": [
       "                                             ShoeName  \\\n",
       "0   Better Foam Prowl Slip-On Wide Women's Trainin...   \n",
       "1   Star Vital Women's Training Shoes\\nPUMA Black-...   \n",
       "2   Riaze Prowl Women’s Training Shoes\\nPuma Black...   \n",
       "3   Adelina Women’s Ballet Shoes\\nPuma Black-Puma ...   \n",
       "4    Defy Mid Women's Training Shoes\\nPuma Black-Gold   \n",
       "5   Soft ride Flair Women's Running Shoes\\nPUMA Bl...   \n",
       "6   Palermo Women's Leather Sneakers\\nPUMA White-V...   \n",
       "7   Better Foam Prowl Slip On Women's Running Snea...   \n",
       "8   Suede Classic XXI Women's Sneakers\\nIcy Blue-P...   \n",
       "9   Defy Varsity Mid Women's Sneakers\\nPuma White-...   \n",
       "10  Raize Prowl Speckle Women's Running Shoes\\nPum...   \n",
       "11  Ella Lace Up Women's Shoes\\nPuma Black-Puma White   \n",
       "12  Softride Sophia Slip-on Women's Running Shoes\\...   \n",
       "13  Riaze Prowl Rainbow Women's Sneakers\\nPuma Bla...   \n",
       "14  Ella Lace Up Women's Shoes\\nPuma White-Puma Si...   \n",
       "15  CA Pro PRM Women's Sneakers\\nFeather Gray-Warm...   \n",
       "16  Axelion Metallic Watercolor Women's Running Sh...   \n",
       "17  Carina 2.0 Women's Sneakers\\nPuma White-Puma W...   \n",
       "18  Trinity Women's Sneakers\\nPUMA White-PUMA Blac...   \n",
       "19  Better Foam Prowl Slip On Women's Training Sho...   \n",
       "20  Softride Sophia 2 Premium Women's Running Shoe...   \n",
       "21  Softride Stakd Women's Running Shoes\\nPUMA Bla...   \n",
       "22   Prowl Slip On Women's Training Shoes\\nPuma Black   \n",
       "\n",
       "                                             category   Price no_of_colors  \n",
       "0   Better Foam Prowl Slip-On Wide Women's Trainin...  $35.99      1 COLOR  \n",
       "1   Star Vital Women's Training Shoes\\nPUMA Black-...  $32.50     2 COLORS  \n",
       "2   Riaze Prowl Women’s Training Shoes\\nPuma Black...  $42.50      1 COLOR  \n",
       "3   Adelina Women’s Ballet Shoes\\nPuma Black-Puma ...  $25.00     2 COLORS  \n",
       "4    Defy Mid Women's Training Shoes\\nPuma Black-Gold  $79.99      1 COLOR  \n",
       "5   Soft ride Flair Women's Running Shoes\\nPUMA Bl...  $40.99     2 COLORS  \n",
       "6   Palermo Women's Leather Sneakers\\nPUMA White-V...  $32.50     2 COLORS  \n",
       "7   Better Foam Prowl Slip On Women's Running Snea...  $39.99      1 COLOR  \n",
       "8   Suede Classic XXI Women's Sneakers\\nIcy Blue-P...  $50.00     7 COLORS  \n",
       "9   Defy Varsity Mid Women's Sneakers\\nPuma White-...  $79.99      1 COLOR  \n",
       "10  Raize Prowl Speckle Women's Running Shoes\\nPum...  $30.00      1 COLOR  \n",
       "11  Ella Lace Up Women's Shoes\\nPuma Black-Puma White  $42.99     2 COLORS  \n",
       "12  Softride Sophia Slip-on Women's Running Shoes\\...  $42.50      1 COLOR  \n",
       "13  Riaze Prowl Rainbow Women's Sneakers\\nPuma Bla...  $30.00      1 COLOR  \n",
       "14  Ella Lace Up Women's Shoes\\nPuma White-Puma Si...  $63.99     2 COLORS  \n",
       "15  CA Pro PRM Women's Sneakers\\nFeather Gray-Warm...  $40.00      1 COLOR  \n",
       "16  Axelion Metallic Watercolor Women's Running Sh...  $35.99      1 COLOR  \n",
       "17  Carina 2.0 Women's Sneakers\\nPuma White-Puma W...  $45.00     2 COLORS  \n",
       "18  Trinity Women's Sneakers\\nPUMA White-PUMA Blac...  $32.50     3 COLORS  \n",
       "19  Better Foam Prowl Slip On Women's Training Sho...  $35.00      1 COLOR  \n",
       "20  Softride Sophia 2 Premium Women's Running Shoe...  $42.50      1 COLOR  \n",
       "21  Softride Stakd Women's Running Shoes\\nPUMA Bla...  $32.50     2 COLORS  \n",
       "22   Prowl Slip On Women's Training Shoes\\nPuma Black  $32.50      1 COLOR  "
      ]
     },
     "execution_count": 214,
     "metadata": {},
     "output_type": "execute_result"
    }
   ],
   "source": [
    "import pandas as pd\n",
    "df5=pd.DataFrame({'ShoeName':ShoeName,'category':category,'Price':price,'no_of_colors':no_of_colors})\n",
    "df5"
   ]
  },
  {
   "cell_type": "code",
   "execution_count": 355,
   "id": "d760b179-4578-4f17-894c-15ef2230aae1",
   "metadata": {
    "tags": []
   },
   "outputs": [],
   "source": [
    "driver = webdriver.Chrome(service=Service(ChromeDriverManager().install()))"
   ]
  },
  {
   "cell_type": "code",
   "execution_count": 356,
   "id": "6c1e02d7-4311-4dc5-b541-7b994ac5fbde",
   "metadata": {
    "tags": []
   },
   "outputs": [],
   "source": [
    "driver.get(\"https://www.skechers.com\")"
   ]
  },
  {
   "cell_type": "code",
   "execution_count": 278,
   "id": "976bc353-978c-4d19-8d28-08f225a2e3b1",
   "metadata": {
    "tags": []
   },
   "outputs": [],
   "source": [
    "search_keyword = driver.find_element(By.XPATH, '//*[@id=\"nav-primary\"]/div/div[1]/div/div/div[2]/div[1]')\n",
    "search_keyword.click()"
   ]
  },
  {
   "cell_type": "code",
   "execution_count": 279,
   "id": "6dec85ff-d4a2-427d-8339-c4819f5344a6",
   "metadata": {
    "tags": []
   },
   "outputs": [],
   "source": [
    "search_keyword = driver.find_element(By.XPATH,'//*[@id=\"search-input-mobile\"]')\n",
    "search_keyword.clear()\n",
    "search_keyword.send_keys('Mens sneakers')"
   ]
  },
  {
   "cell_type": "code",
   "execution_count": 280,
   "id": "347b3267-9b94-465e-aa04-a3aa1f6a477a",
   "metadata": {
    "tags": []
   },
   "outputs": [],
   "source": [
    "search_keyword = driver.find_element(By.CLASS_NAME, 'rfk_highlight')\n",
    "search_keyword.click()"
   ]
  },
  {
   "cell_type": "code",
   "execution_count": 281,
   "id": "b1ff5782-32c1-404e-9b62-30170e731dca",
   "metadata": {
    "tags": []
   },
   "outputs": [],
   "source": [
    "ShoeName = [] \n",
    "no_of_colors = []\n",
    "price = []\n",
    "category = []"
   ]
  },
  {
   "cell_type": "code",
   "execution_count": 282,
   "id": "6964afc2-bf7c-494f-8bfe-45575013c9ab",
   "metadata": {
    "tags": []
   },
   "outputs": [],
   "source": [
    "title_tags=driver.find_elements(By.CLASS_NAME,'link.c-product-tile__title ')\n",
    "for i in title_tags[0:100]:\n",
    "    title=i.text\n",
    "    ShoeName.append(title)"
   ]
  },
  {
   "cell_type": "code",
   "execution_count": 283,
   "id": "4f4481a2-d957-4486-b1e5-8c63bdae27b0",
   "metadata": {
    "tags": []
   },
   "outputs": [],
   "source": [
    "title_tags=driver.find_elements(By.CLASS_NAME,'c-product-tile__gender')\n",
    "for i in title_tags[0:100]:\n",
    "    title=i.text\n",
    "    category.append(title)"
   ]
  },
  {
   "cell_type": "code",
   "execution_count": 284,
   "id": "a4510e2f-2240-479d-8124-dfd60f469478",
   "metadata": {
    "tags": []
   },
   "outputs": [],
   "source": [
    "title_tags=driver.find_elements(By.CLASS_NAME,'c-product-tile__color-swatches__label')\n",
    "for i in title_tags[0:100]:\n",
    "    title=i.text\n",
    "    no_of_colors.append(title)"
   ]
  },
  {
   "cell_type": "code",
   "execution_count": 285,
   "id": "f30b96a0-a5a9-4087-a2ad-82f1f122d6c7",
   "metadata": {
    "tags": []
   },
   "outputs": [],
   "source": [
    "title_tags=driver.find_elements(By.CLASS_NAME,'price__inner')\n",
    "for i in title_tags[0:100]:\n",
    "    title=i.text\n",
    "    price.append(title)"
   ]
  },
  {
   "cell_type": "code",
   "execution_count": 286,
   "id": "f7ce243f-45c8-4963-9f8f-8cb975d71771",
   "metadata": {
    "tags": []
   },
   "outputs": [],
   "source": [
    "print = (len(ShoeName),len(category),len(price),len(no_of_colors))"
   ]
  },
  {
   "cell_type": "code",
   "execution_count": 287,
   "id": "ca027997-3f97-4764-8c40-c6f575afb068",
   "metadata": {
    "tags": []
   },
   "outputs": [
    {
     "data": {
      "text/plain": [
       "(24, 24, 24, 24)"
      ]
     },
     "execution_count": 287,
     "metadata": {},
     "output_type": "execute_result"
    }
   ],
   "source": [
    "print"
   ]
  },
  {
   "cell_type": "code",
   "execution_count": 288,
   "id": "364c853b-1abf-41fc-b136-841afff3d785",
   "metadata": {
    "tags": []
   },
   "outputs": [
    {
     "data": {
      "text/html": [
       "<div>\n",
       "<style scoped>\n",
       "    .dataframe tbody tr th:only-of-type {\n",
       "        vertical-align: middle;\n",
       "    }\n",
       "\n",
       "    .dataframe tbody tr th {\n",
       "        vertical-align: top;\n",
       "    }\n",
       "\n",
       "    .dataframe thead th {\n",
       "        text-align: right;\n",
       "    }\n",
       "</style>\n",
       "<table border=\"1\" class=\"dataframe\">\n",
       "  <thead>\n",
       "    <tr style=\"text-align: right;\">\n",
       "      <th></th>\n",
       "      <th>ShoeName</th>\n",
       "      <th>category</th>\n",
       "      <th>Price</th>\n",
       "      <th>no_of_colors</th>\n",
       "    </tr>\n",
       "  </thead>\n",
       "  <tbody>\n",
       "    <tr>\n",
       "      <th>0</th>\n",
       "      <td>Slip-ins: Summits - High Range</td>\n",
       "      <td>MEN'S</td>\n",
       "      <td>$75.00</td>\n",
       "      <td>3 Colors</td>\n",
       "    </tr>\n",
       "    <tr>\n",
       "      <th>1</th>\n",
       "      <td>Skechers Slip-ins Relaxed Fit: Parson - Oswin</td>\n",
       "      <td>MEN'S</td>\n",
       "      <td>$90.00</td>\n",
       "      <td>5 Colors</td>\n",
       "    </tr>\n",
       "    <tr>\n",
       "      <th>2</th>\n",
       "      <td>Skechers Slip-ins: Ultra Flex 3.0 - Smooth Step</td>\n",
       "      <td>MEN'S</td>\n",
       "      <td>$90.00</td>\n",
       "      <td>3 Colors</td>\n",
       "    </tr>\n",
       "    <tr>\n",
       "      <th>3</th>\n",
       "      <td>Skechers Slip-ins: After Burn - Grill Captain</td>\n",
       "      <td>MEN'S</td>\n",
       "      <td>$95.00</td>\n",
       "      <td>1 Color</td>\n",
       "    </tr>\n",
       "    <tr>\n",
       "      <th>4</th>\n",
       "      <td>Slip-ins: Summits - Key Pace</td>\n",
       "      <td>MEN'S</td>\n",
       "      <td>$75.00</td>\n",
       "      <td>2 Colors</td>\n",
       "    </tr>\n",
       "    <tr>\n",
       "      <th>5</th>\n",
       "      <td>Skechers Slip-ins: GO WALK Arch Fit - Simplicity</td>\n",
       "      <td>MEN'S</td>\n",
       "      <td>$100.00</td>\n",
       "      <td>1 Color</td>\n",
       "    </tr>\n",
       "    <tr>\n",
       "      <th>6</th>\n",
       "      <td>Skechers Slip-ins: Arch Fit 2.0 - Look Ahead</td>\n",
       "      <td>MEN'S</td>\n",
       "      <td>$105.00</td>\n",
       "      <td>2 Colors</td>\n",
       "    </tr>\n",
       "    <tr>\n",
       "      <th>7</th>\n",
       "      <td>Skechers Slip-ins: Max Cushioning - Advantageous</td>\n",
       "      <td>MEN'S</td>\n",
       "      <td>$110.00</td>\n",
       "      <td>3 Colors</td>\n",
       "    </tr>\n",
       "    <tr>\n",
       "      <th>8</th>\n",
       "      <td>Skechers Slip-ins: Ultra Flex 3.0 - Right Away</td>\n",
       "      <td>MEN'S</td>\n",
       "      <td>$90.00</td>\n",
       "      <td>5 Colors</td>\n",
       "    </tr>\n",
       "    <tr>\n",
       "      <th>9</th>\n",
       "      <td>Skechers Slip-ins: Summits AT</td>\n",
       "      <td>MEN'S</td>\n",
       "      <td>$75.00</td>\n",
       "      <td>2 Colors</td>\n",
       "    </tr>\n",
       "    <tr>\n",
       "      <th>10</th>\n",
       "      <td>Skechers Slip-ins: Arch Fit 2.0 - Grand Select 2</td>\n",
       "      <td>MEN'S</td>\n",
       "      <td>$100.00</td>\n",
       "      <td>2 Colors</td>\n",
       "    </tr>\n",
       "    <tr>\n",
       "      <th>11</th>\n",
       "      <td>Skechers Slip-ins: Skech-Air Envoy - Emissary</td>\n",
       "      <td>MEN'S</td>\n",
       "      <td>$100.00</td>\n",
       "      <td>1 Color</td>\n",
       "    </tr>\n",
       "    <tr>\n",
       "      <th>12</th>\n",
       "      <td>Skechers Slip-ins RF: Parson - Ralven</td>\n",
       "      <td>MEN'S</td>\n",
       "      <td>$80.00</td>\n",
       "      <td>4 Colors</td>\n",
       "    </tr>\n",
       "    <tr>\n",
       "      <th>13</th>\n",
       "      <td>Skechers Slip-ins RF Work: Max Cushioning Elite</td>\n",
       "      <td>MEN'S</td>\n",
       "      <td>$110.00</td>\n",
       "      <td>1 Color</td>\n",
       "    </tr>\n",
       "    <tr>\n",
       "      <th>14</th>\n",
       "      <td>Skechers Slip-ins Snoop Dogg: Uno - Laid Back</td>\n",
       "      <td>MEN'S</td>\n",
       "      <td>$100.00</td>\n",
       "      <td>5 Colors</td>\n",
       "    </tr>\n",
       "    <tr>\n",
       "      <th>15</th>\n",
       "      <td>Skechers Slip-ins: BOBS Sport Squad Chaos</td>\n",
       "      <td>MEN'S</td>\n",
       "      <td>$70.00</td>\n",
       "      <td>4 Colors</td>\n",
       "    </tr>\n",
       "    <tr>\n",
       "      <th>16</th>\n",
       "      <td>Skechers Slip-ins: Max Cushioning Premier</td>\n",
       "      <td>MEN'S</td>\n",
       "      <td>$110.00</td>\n",
       "      <td>3 Colors</td>\n",
       "    </tr>\n",
       "    <tr>\n",
       "      <th>17</th>\n",
       "      <td>Skechers Slip-ins: GO WALK 6 - Easy On</td>\n",
       "      <td>MEN'S</td>\n",
       "      <td>$95.00</td>\n",
       "      <td>3 Colors</td>\n",
       "    </tr>\n",
       "    <tr>\n",
       "      <th>18</th>\n",
       "      <td>Skechers Slip-ins: Parson - Dewitt</td>\n",
       "      <td>MEN'S</td>\n",
       "      <td>$80.00</td>\n",
       "      <td>2 Colors</td>\n",
       "    </tr>\n",
       "    <tr>\n",
       "      <th>19</th>\n",
       "      <td>Skechers Slip-ins Work: Cankton - Faison</td>\n",
       "      <td>MEN'S</td>\n",
       "      <td>$100.00</td>\n",
       "      <td>2 Colors</td>\n",
       "    </tr>\n",
       "    <tr>\n",
       "      <th>20</th>\n",
       "      <td>Skechers Slip-ins Work: Summits - Colsin</td>\n",
       "      <td>MEN'S</td>\n",
       "      <td>$75.00</td>\n",
       "      <td>1 Color</td>\n",
       "    </tr>\n",
       "    <tr>\n",
       "      <th>21</th>\n",
       "      <td>Skechers Slip-ins: GO WALK Max - Free Hands</td>\n",
       "      <td>MEN'S</td>\n",
       "      <td>$75.00</td>\n",
       "      <td>1 Color</td>\n",
       "    </tr>\n",
       "    <tr>\n",
       "      <th>22</th>\n",
       "      <td>Skechers Slip-ins Work: D'Lux Walker SR - Joden</td>\n",
       "      <td>MEN'S</td>\n",
       "      <td>$95.00</td>\n",
       "      <td>1 Color</td>\n",
       "    </tr>\n",
       "    <tr>\n",
       "      <th>23</th>\n",
       "      <td>Skechers Slip-ins: Ultra Flex 3.0 - New Arc</td>\n",
       "      <td>MEN'S</td>\n",
       "      <td>$95.00</td>\n",
       "      <td>1 Color</td>\n",
       "    </tr>\n",
       "  </tbody>\n",
       "</table>\n",
       "</div>"
      ],
      "text/plain": [
       "                                            ShoeName category    Price  \\\n",
       "0                     Slip-ins: Summits - High Range    MEN'S   $75.00   \n",
       "1      Skechers Slip-ins Relaxed Fit: Parson - Oswin    MEN'S   $90.00   \n",
       "2    Skechers Slip-ins: Ultra Flex 3.0 - Smooth Step    MEN'S   $90.00   \n",
       "3      Skechers Slip-ins: After Burn - Grill Captain    MEN'S   $95.00   \n",
       "4                       Slip-ins: Summits - Key Pace    MEN'S   $75.00   \n",
       "5   Skechers Slip-ins: GO WALK Arch Fit - Simplicity    MEN'S  $100.00   \n",
       "6       Skechers Slip-ins: Arch Fit 2.0 - Look Ahead    MEN'S  $105.00   \n",
       "7   Skechers Slip-ins: Max Cushioning - Advantageous    MEN'S  $110.00   \n",
       "8     Skechers Slip-ins: Ultra Flex 3.0 - Right Away    MEN'S   $90.00   \n",
       "9                      Skechers Slip-ins: Summits AT    MEN'S   $75.00   \n",
       "10  Skechers Slip-ins: Arch Fit 2.0 - Grand Select 2    MEN'S  $100.00   \n",
       "11     Skechers Slip-ins: Skech-Air Envoy - Emissary    MEN'S  $100.00   \n",
       "12             Skechers Slip-ins RF: Parson - Ralven    MEN'S   $80.00   \n",
       "13   Skechers Slip-ins RF Work: Max Cushioning Elite    MEN'S  $110.00   \n",
       "14     Skechers Slip-ins Snoop Dogg: Uno - Laid Back    MEN'S  $100.00   \n",
       "15         Skechers Slip-ins: BOBS Sport Squad Chaos    MEN'S   $70.00   \n",
       "16         Skechers Slip-ins: Max Cushioning Premier    MEN'S  $110.00   \n",
       "17            Skechers Slip-ins: GO WALK 6 - Easy On    MEN'S   $95.00   \n",
       "18                Skechers Slip-ins: Parson - Dewitt    MEN'S   $80.00   \n",
       "19          Skechers Slip-ins Work: Cankton - Faison    MEN'S  $100.00   \n",
       "20          Skechers Slip-ins Work: Summits - Colsin    MEN'S   $75.00   \n",
       "21       Skechers Slip-ins: GO WALK Max - Free Hands    MEN'S   $75.00   \n",
       "22   Skechers Slip-ins Work: D'Lux Walker SR - Joden    MEN'S   $95.00   \n",
       "23       Skechers Slip-ins: Ultra Flex 3.0 - New Arc    MEN'S   $95.00   \n",
       "\n",
       "   no_of_colors  \n",
       "0      3 Colors  \n",
       "1      5 Colors  \n",
       "2      3 Colors  \n",
       "3       1 Color  \n",
       "4      2 Colors  \n",
       "5       1 Color  \n",
       "6      2 Colors  \n",
       "7      3 Colors  \n",
       "8      5 Colors  \n",
       "9      2 Colors  \n",
       "10     2 Colors  \n",
       "11      1 Color  \n",
       "12     4 Colors  \n",
       "13      1 Color  \n",
       "14     5 Colors  \n",
       "15     4 Colors  \n",
       "16     3 Colors  \n",
       "17     3 Colors  \n",
       "18     2 Colors  \n",
       "19     2 Colors  \n",
       "20      1 Color  \n",
       "21      1 Color  \n",
       "22      1 Color  \n",
       "23      1 Color  "
      ]
     },
     "execution_count": 288,
     "metadata": {},
     "output_type": "execute_result"
    }
   ],
   "source": [
    "import pandas as pd\n",
    "df6=pd.DataFrame({'ShoeName':ShoeName,'category':category,'Price':price,'no_of_colors':no_of_colors})\n",
    "df6"
   ]
  },
  {
   "cell_type": "code",
   "execution_count": 362,
   "id": "19c95ddd-97e5-49ea-bbbf-119ef0d361da",
   "metadata": {
    "tags": []
   },
   "outputs": [],
   "source": [
    "driver = webdriver.Chrome(service=Service(ChromeDriverManager().install()))"
   ]
  },
  {
   "cell_type": "code",
   "execution_count": 363,
   "id": "08483967-f340-42ed-ba07-37bf7ecc1457",
   "metadata": {
    "tags": []
   },
   "outputs": [],
   "source": [
    "driver.get(\"https://www.skechers.in/\")"
   ]
  },
  {
   "cell_type": "code",
   "execution_count": 364,
   "id": "884805eb-917a-46c0-bef4-2f3bd2fa26df",
   "metadata": {
    "tags": []
   },
   "outputs": [],
   "source": [
    "search_keyword = driver.find_element(By.XPATH, '/html/body/div[1]/header/nav[2]/div/div[1]/div/div/div[2]/div[2]/button[1]')\n",
    "search_keyword.click()"
   ]
  },
  {
   "cell_type": "code",
   "execution_count": 365,
   "id": "7d43f261-1ac6-4ee1-be60-d5fbfb99b4c8",
   "metadata": {
    "tags": []
   },
   "outputs": [],
   "source": [
    "search_keyword = driver.find_element(By.XPATH,'/html/body/div[1]/header/nav[2]/div/div[2]/div/form/input[1]')\n",
    "search_keyword.clear()\n",
    "search_keyword.send_keys('Womens sneakers')"
   ]
  },
  {
   "cell_type": "code",
   "execution_count": 366,
   "id": "6a2cee3f-3ee4-4292-bcba-24378ecf1aaf",
   "metadata": {
    "tags": []
   },
   "outputs": [],
   "source": [
    "search_keyword = driver.find_element(By.XPATH, '/html/body/div[1]/header/nav[2]/div/div[2]/div/form/div/div/span[1]/span/div/button')\n",
    "search_keyword.click()"
   ]
  },
  {
   "cell_type": "code",
   "execution_count": 375,
   "id": "2d62eb02-7bb2-489a-9077-78feacbfeadd",
   "metadata": {
    "tags": []
   },
   "outputs": [],
   "source": [
    "ShoeName = [] \n",
    "no_of_colors = []\n",
    "price = []\n",
    "category = []"
   ]
  },
  {
   "cell_type": "code",
   "execution_count": 376,
   "id": "142665ba-4ba5-4f39-88f5-063d64154b06",
   "metadata": {
    "tags": []
   },
   "outputs": [],
   "source": [
    "title_tags=driver.find_elements(By.CLASS_NAME,'product-tile-product-name.font-bold.mb-0')\n",
    "for i in title_tags[0:100]:\n",
    "    title=i.text\n",
    "    ShoeName.append(title)"
   ]
  },
  {
   "cell_type": "code",
   "execution_count": 377,
   "id": "fdd97ba7-3837-4b34-88ff-2b351ec9499e",
   "metadata": {
    "tags": []
   },
   "outputs": [],
   "source": [
    "title_tags=driver.find_elements(By.CLASS_NAME,'mb-0.p-heading-small.pb-1')\n",
    "for i in title_tags[0:100]:\n",
    "    title=i.text\n",
    "    category.append(title)"
   ]
  },
  {
   "cell_type": "code",
   "execution_count": 378,
   "id": "294c3a12-81b9-4fce-ad76-5d9c37766285",
   "metadata": {
    "tags": []
   },
   "outputs": [],
   "source": [
    "title_tags=driver.find_elements(By.CLASS_NAME,'swatch.swatch-circle')\n",
    "for i in title_tags[0:24]:\n",
    "    title=i.text\n",
    "    no_of_colors.append(title)"
   ]
  },
  {
   "cell_type": "code",
   "execution_count": 379,
   "id": "53d808af-3b5e-4313-8c88-edc52eb80c2b",
   "metadata": {
    "tags": []
   },
   "outputs": [],
   "source": [
    "title_tags=driver.find_elements(By.CLASS_NAME,'value.p-heading.mobile-view-global.product-list-price-mobile.list-price')\n",
    "for i in title_tags[0:100]:\n",
    "    title=i.text\n",
    "    price.append(title)"
   ]
  },
  {
   "cell_type": "code",
   "execution_count": 380,
   "id": "4e67776c-d481-41ff-b096-40af4b6440c2",
   "metadata": {
    "tags": []
   },
   "outputs": [],
   "source": [
    "print = (len(ShoeName),len(category),len(price),len(no_of_colors))"
   ]
  },
  {
   "cell_type": "code",
   "execution_count": 381,
   "id": "f14c0f4a-95ae-4e7b-bf62-b80a42b20dbb",
   "metadata": {
    "tags": []
   },
   "outputs": [
    {
     "data": {
      "text/plain": [
       "(24, 24, 24, 24)"
      ]
     },
     "execution_count": 381,
     "metadata": {},
     "output_type": "execute_result"
    }
   ],
   "source": [
    "print"
   ]
  },
  {
   "cell_type": "code",
   "execution_count": 382,
   "id": "b16398ab-8929-481b-be39-abb5f5075224",
   "metadata": {
    "tags": []
   },
   "outputs": [
    {
     "data": {
      "text/html": [
       "<div>\n",
       "<style scoped>\n",
       "    .dataframe tbody tr th:only-of-type {\n",
       "        vertical-align: middle;\n",
       "    }\n",
       "\n",
       "    .dataframe tbody tr th {\n",
       "        vertical-align: top;\n",
       "    }\n",
       "\n",
       "    .dataframe thead th {\n",
       "        text-align: right;\n",
       "    }\n",
       "</style>\n",
       "<table border=\"1\" class=\"dataframe\">\n",
       "  <thead>\n",
       "    <tr style=\"text-align: right;\">\n",
       "      <th></th>\n",
       "      <th>ShoeName</th>\n",
       "      <th>category</th>\n",
       "      <th>Price</th>\n",
       "      <th>no_of_colors</th>\n",
       "    </tr>\n",
       "  </thead>\n",
       "  <tbody>\n",
       "    <tr>\n",
       "      <th>0</th>\n",
       "      <td>UNO - EVERYWEAR</td>\n",
       "      <td>Women</td>\n",
       "      <td>₹6,999.00</td>\n",
       "      <td></td>\n",
       "    </tr>\n",
       "    <tr>\n",
       "      <th>1</th>\n",
       "      <td>SKECH-LITE PRO-PERFECT TIME</td>\n",
       "      <td>Women</td>\n",
       "      <td>₹5,999.00</td>\n",
       "      <td></td>\n",
       "    </tr>\n",
       "    <tr>\n",
       "      <th>2</th>\n",
       "      <td>SKECH-LITE PRO-PERFECT TIME</td>\n",
       "      <td>Women</td>\n",
       "      <td>₹5,999.00</td>\n",
       "      <td></td>\n",
       "    </tr>\n",
       "    <tr>\n",
       "      <th>3</th>\n",
       "      <td>UNO - EVERYWEAR</td>\n",
       "      <td>Women</td>\n",
       "      <td>₹6,999.00</td>\n",
       "      <td></td>\n",
       "    </tr>\n",
       "    <tr>\n",
       "      <th>4</th>\n",
       "      <td>ULTRA FLEX 3.0-BEST TIME</td>\n",
       "      <td>Women</td>\n",
       "      <td>₹6,999.00</td>\n",
       "      <td></td>\n",
       "    </tr>\n",
       "    <tr>\n",
       "      <th>5</th>\n",
       "      <td>ULTRA FLEX 3.0-BEST TIME</td>\n",
       "      <td>Women</td>\n",
       "      <td>₹6,999.00</td>\n",
       "      <td></td>\n",
       "    </tr>\n",
       "    <tr>\n",
       "      <th>6</th>\n",
       "      <td>D'LUX FITNESS-NEW MOXIE</td>\n",
       "      <td>Women</td>\n",
       "      <td>₹8,499.00</td>\n",
       "      <td></td>\n",
       "    </tr>\n",
       "    <tr>\n",
       "      <th>7</th>\n",
       "      <td>UP-LIFTED</td>\n",
       "      <td>Women</td>\n",
       "      <td>₹4,499.00</td>\n",
       "      <td></td>\n",
       "    </tr>\n",
       "    <tr>\n",
       "      <th>8</th>\n",
       "      <td>D'LUX COMFORT-GLOW TIME</td>\n",
       "      <td>Women</td>\n",
       "      <td>₹6,799.00</td>\n",
       "      <td></td>\n",
       "    </tr>\n",
       "    <tr>\n",
       "      <th>9</th>\n",
       "      <td>D'LUX WALKER-LET IT GLOW</td>\n",
       "      <td>Women</td>\n",
       "      <td>₹5,249.00</td>\n",
       "      <td></td>\n",
       "    </tr>\n",
       "    <tr>\n",
       "      <th>10</th>\n",
       "      <td>ARCH FIT UPLIFT</td>\n",
       "      <td>Women</td>\n",
       "      <td>₹4,499.00</td>\n",
       "      <td></td>\n",
       "    </tr>\n",
       "    <tr>\n",
       "      <th>11</th>\n",
       "      <td>SUNNY STREET - UNICORNO AVE</td>\n",
       "      <td>Women</td>\n",
       "      <td>₹8,999.00</td>\n",
       "      <td></td>\n",
       "    </tr>\n",
       "    <tr>\n",
       "      <th>12</th>\n",
       "      <td>ARCH FIT - OHANA KITTY</td>\n",
       "      <td>Women</td>\n",
       "      <td>₹1,999.00</td>\n",
       "      <td></td>\n",
       "    </tr>\n",
       "    <tr>\n",
       "      <th>13</th>\n",
       "      <td>COZY CAMPFIRE - MEANT TO BE</td>\n",
       "      <td>Women</td>\n",
       "      <td>₹5,999.00</td>\n",
       "      <td></td>\n",
       "    </tr>\n",
       "    <tr>\n",
       "      <th>14</th>\n",
       "      <td>SKECH-AIR ELEMENT 2.0-AMUSE M</td>\n",
       "      <td>Women</td>\n",
       "      <td>₹8,999.00</td>\n",
       "      <td></td>\n",
       "    </tr>\n",
       "    <tr>\n",
       "      <th>15</th>\n",
       "      <td>TOO COZY-CUTIE PUPZ</td>\n",
       "      <td>Women</td>\n",
       "      <td>₹4,999.00</td>\n",
       "      <td></td>\n",
       "    </tr>\n",
       "    <tr>\n",
       "      <th>16</th>\n",
       "      <td>UNO 2 - PATHWAY</td>\n",
       "      <td>Women</td>\n",
       "      <td>₹8,999.00</td>\n",
       "      <td></td>\n",
       "    </tr>\n",
       "    <tr>\n",
       "      <th>17</th>\n",
       "      <td>TAXI</td>\n",
       "      <td>Women</td>\n",
       "      <td>₹7,999.00</td>\n",
       "      <td></td>\n",
       "    </tr>\n",
       "    <tr>\n",
       "      <th>18</th>\n",
       "      <td>MUNO</td>\n",
       "      <td>Women</td>\n",
       "      <td>₹8,999.00</td>\n",
       "      <td></td>\n",
       "    </tr>\n",
       "    <tr>\n",
       "      <th>19</th>\n",
       "      <td>SKECH-AIR DYNAMIGHT-LAID OUT</td>\n",
       "      <td>Women</td>\n",
       "      <td>₹5,999.00</td>\n",
       "      <td></td>\n",
       "    </tr>\n",
       "    <tr>\n",
       "      <th>20</th>\n",
       "      <td>KEEPSAKES - ICE ANGEL</td>\n",
       "      <td>Women</td>\n",
       "      <td>₹4,499.00</td>\n",
       "      <td></td>\n",
       "    </tr>\n",
       "    <tr>\n",
       "      <th>21</th>\n",
       "      <td>ARCH FIT</td>\n",
       "      <td>Women</td>\n",
       "      <td>₹6,374.00</td>\n",
       "      <td></td>\n",
       "    </tr>\n",
       "    <tr>\n",
       "      <th>22</th>\n",
       "      <td>COZY CAMPFIRE - MEANT TO BE</td>\n",
       "      <td>Women</td>\n",
       "      <td>₹5,999.00</td>\n",
       "      <td></td>\n",
       "    </tr>\n",
       "    <tr>\n",
       "      <th>23</th>\n",
       "      <td>GO WALK 5 - TRUE CATCH</td>\n",
       "      <td>Women</td>\n",
       "      <td>₹1,999.00</td>\n",
       "      <td></td>\n",
       "    </tr>\n",
       "  </tbody>\n",
       "</table>\n",
       "</div>"
      ],
      "text/plain": [
       "                         ShoeName category      Price no_of_colors\n",
       "0                 UNO - EVERYWEAR    Women  ₹6,999.00             \n",
       "1     SKECH-LITE PRO-PERFECT TIME    Women  ₹5,999.00             \n",
       "2     SKECH-LITE PRO-PERFECT TIME    Women  ₹5,999.00             \n",
       "3                 UNO - EVERYWEAR    Women  ₹6,999.00             \n",
       "4        ULTRA FLEX 3.0-BEST TIME    Women  ₹6,999.00             \n",
       "5        ULTRA FLEX 3.0-BEST TIME    Women  ₹6,999.00             \n",
       "6         D'LUX FITNESS-NEW MOXIE    Women  ₹8,499.00             \n",
       "7                       UP-LIFTED    Women  ₹4,499.00             \n",
       "8         D'LUX COMFORT-GLOW TIME    Women  ₹6,799.00             \n",
       "9        D'LUX WALKER-LET IT GLOW    Women  ₹5,249.00             \n",
       "10                ARCH FIT UPLIFT    Women  ₹4,499.00             \n",
       "11    SUNNY STREET - UNICORNO AVE    Women  ₹8,999.00             \n",
       "12         ARCH FIT - OHANA KITTY    Women  ₹1,999.00             \n",
       "13    COZY CAMPFIRE - MEANT TO BE    Women  ₹5,999.00             \n",
       "14  SKECH-AIR ELEMENT 2.0-AMUSE M    Women  ₹8,999.00             \n",
       "15            TOO COZY-CUTIE PUPZ    Women  ₹4,999.00             \n",
       "16                UNO 2 - PATHWAY    Women  ₹8,999.00             \n",
       "17                           TAXI    Women  ₹7,999.00             \n",
       "18                           MUNO    Women  ₹8,999.00             \n",
       "19   SKECH-AIR DYNAMIGHT-LAID OUT    Women  ₹5,999.00             \n",
       "20          KEEPSAKES - ICE ANGEL    Women  ₹4,499.00             \n",
       "21                       ARCH FIT    Women  ₹6,374.00             \n",
       "22    COZY CAMPFIRE - MEANT TO BE    Women  ₹5,999.00             \n",
       "23         GO WALK 5 - TRUE CATCH    Women  ₹1,999.00             "
      ]
     },
     "execution_count": 382,
     "metadata": {},
     "output_type": "execute_result"
    }
   ],
   "source": [
    "import pandas as pd\n",
    "df7=pd.DataFrame({'ShoeName':ShoeName,'category':category,'Price':price,'no_of_colors':no_of_colors})\n",
    "df7"
   ]
  },
  {
   "cell_type": "code",
   "execution_count": 454,
   "id": "a81179d1-50ff-4da8-9b00-24af19c4a4e8",
   "metadata": {
    "tags": []
   },
   "outputs": [],
   "source": [
    "driver = webdriver.Chrome(service=Service(ChromeDriverManager().install()))"
   ]
  },
  {
   "cell_type": "code",
   "execution_count": 455,
   "id": "01020ab5-2e70-4138-8687-59cde0f52c40",
   "metadata": {
    "tags": []
   },
   "outputs": [],
   "source": [
    "driver.get(\"https://columbiasportswear.co.in/\")"
   ]
  },
  {
   "cell_type": "code",
   "execution_count": 392,
   "id": "cb30be81-0f55-46e8-b8be-d5ed2972bd7f",
   "metadata": {
    "tags": []
   },
   "outputs": [],
   "source": [
    "search_keyword = driver.find_element(By.XPATH, '//*[@id=\"megamenu_34103613\"]/div[2]/div/div/ul/li[2]/a')\n",
    "search_keyword.click()"
   ]
  },
  {
   "cell_type": "code",
   "execution_count": 394,
   "id": "a6faffc8-6866-4749-861e-f6f2361bfd4d",
   "metadata": {
    "tags": []
   },
   "outputs": [],
   "source": [
    "search_keyword = driver.find_element(By.XPATH, '//*[@id=\"category69468\"]/ul/li[4]/a')\n",
    "search_keyword.click()"
   ]
  },
  {
   "cell_type": "code",
   "execution_count": 354,
   "id": "29b9a7e9-be67-449b-a3b0-3afa7dd8d9c0",
   "metadata": {
    "tags": []
   },
   "outputs": [],
   "source": [
    "search_keyword = driver.find_element(By.XPATH, '//*[@id=\"category69468\"]/ul/li[4]/a')\n",
    "search_keyword.click()"
   ]
  },
  {
   "cell_type": "code",
   "execution_count": 445,
   "id": "40956123-1cba-4d8d-b46d-87772ab4821e",
   "metadata": {
    "tags": []
   },
   "outputs": [],
   "source": [
    "ShoeName = [] \n",
    "no_of_colors = []\n",
    "price = []\n",
    "category = []"
   ]
  },
  {
   "cell_type": "code",
   "execution_count": 446,
   "id": "dd5bfcaf-ffc6-4860-aecb-cc83c57a2b91",
   "metadata": {
    "tags": []
   },
   "outputs": [],
   "source": [
    "title_tags=driver.find_elements(By.TAG_NAME, 'h4')\n",
    "for i in title_tags[0:23]:\n",
    "    title=i.text\n",
    "    ShoeName.append(title)"
   ]
  },
  {
   "cell_type": "code",
   "execution_count": 447,
   "id": "610ef60d-8c8d-4bb1-83a5-e8df9a3d4484",
   "metadata": {
    "tags": []
   },
   "outputs": [],
   "source": [
    "title_tags=driver.find_elements(By.TAG_NAME,'h4')\n",
    "for i in title_tags[0:23]:\n",
    "    title=i.text\n",
    "    category.append(title)"
   ]
  },
  {
   "cell_type": "code",
   "execution_count": 448,
   "id": "032a3104-a03a-4427-9895-d15d6558a9c1",
   "metadata": {
    "tags": []
   },
   "outputs": [],
   "source": [
    "title_tags=driver.find_elements(By.TAG_NAME,'h4')\n",
    "for i in title_tags[0:16]:\n",
    "    title=i.text\n",
    "    no_of_colors.append(title)"
   ]
  },
  {
   "cell_type": "code",
   "execution_count": 449,
   "id": "afff2ce4-7812-4570-b971-e2e9f8a9e128",
   "metadata": {
    "tags": []
   },
   "outputs": [],
   "source": [
    "title_tags=driver.find_elements(By.CLASS_NAME,'price.active')\n",
    "for i in title_tags[0:16]:\n",
    "    title=i.text\n",
    "    price.append(title)"
   ]
  },
  {
   "cell_type": "code",
   "execution_count": 450,
   "id": "5312dfff-fcd6-41de-8427-ea4331df8dc9",
   "metadata": {
    "tags": []
   },
   "outputs": [],
   "source": [
    "print = (len(ShoeName),len(category),len(price),len(no_of_colors))"
   ]
  },
  {
   "cell_type": "code",
   "execution_count": 451,
   "id": "a3893be5-38d4-4064-a327-2a859c407c37",
   "metadata": {
    "tags": []
   },
   "outputs": [
    {
     "data": {
      "text/plain": [
       "(16, 16, 16, 16)"
      ]
     },
     "execution_count": 451,
     "metadata": {},
     "output_type": "execute_result"
    }
   ],
   "source": [
    "print"
   ]
  },
  {
   "cell_type": "code",
   "execution_count": 452,
   "id": "48c0cfd8-9c75-4f88-9218-48fe88ebaace",
   "metadata": {
    "tags": []
   },
   "outputs": [
    {
     "data": {
      "text/html": [
       "<div>\n",
       "<style scoped>\n",
       "    .dataframe tbody tr th:only-of-type {\n",
       "        vertical-align: middle;\n",
       "    }\n",
       "\n",
       "    .dataframe tbody tr th {\n",
       "        vertical-align: top;\n",
       "    }\n",
       "\n",
       "    .dataframe thead th {\n",
       "        text-align: right;\n",
       "    }\n",
       "</style>\n",
       "<table border=\"1\" class=\"dataframe\">\n",
       "  <thead>\n",
       "    <tr style=\"text-align: right;\">\n",
       "      <th></th>\n",
       "      <th>ShoeName</th>\n",
       "      <th>category</th>\n",
       "      <th>Price</th>\n",
       "      <th>no_of_colors</th>\n",
       "    </tr>\n",
       "  </thead>\n",
       "  <tbody>\n",
       "    <tr>\n",
       "      <th>0</th>\n",
       "      <td>Columbia Men Black TRAILSTORM PEAK MID</td>\n",
       "      <td>Columbia Men Black TRAILSTORM PEAK MID</td>\n",
       "      <td>Price</td>\n",
       "      <td>Columbia Men Black TRAILSTORM PEAK MID</td>\n",
       "    </tr>\n",
       "    <tr>\n",
       "      <th>1</th>\n",
       "      <td>Columbia Men Black TRAILSTORM BEYOND</td>\n",
       "      <td>Columbia Men Black TRAILSTORM BEYOND</td>\n",
       "      <td>2001-4000\\n5001-10000\\n10001-15000\\n15001-20000</td>\n",
       "      <td>Columbia Men Black TRAILSTORM BEYOND</td>\n",
       "    </tr>\n",
       "    <tr>\n",
       "      <th>2</th>\n",
       "      <td>Columbia Men Black COLUMBIA VENT AERO</td>\n",
       "      <td>Columbia Men Black COLUMBIA VENT AERO</td>\n",
       "      <td>10,399 12,999 20% OFF</td>\n",
       "      <td>Columbia Men Black COLUMBIA VENT AERO</td>\n",
       "    </tr>\n",
       "    <tr>\n",
       "      <th>3</th>\n",
       "      <td>Columbia Men Blue COLUMBIA VENT AERO</td>\n",
       "      <td>Columbia Men Blue COLUMBIA VENT AERO</td>\n",
       "      <td>6,299 6,999 10% OFF</td>\n",
       "      <td>Columbia Men Blue COLUMBIA VENT AERO</td>\n",
       "    </tr>\n",
       "    <tr>\n",
       "      <th>4</th>\n",
       "      <td>Columbia Men Orange MONTRAIL TRINITY AG</td>\n",
       "      <td>Columbia Men Orange MONTRAIL TRINITY AG</td>\n",
       "      <td>8,099 8,999 10% OFF</td>\n",
       "      <td>Columbia Men Orange MONTRAIL TRINITY AG</td>\n",
       "    </tr>\n",
       "    <tr>\n",
       "      <th>5</th>\n",
       "      <td>Columbia Men Brown CRESTWOOD Water Resistant S...</td>\n",
       "      <td>Columbia Men Brown CRESTWOOD Water Resistant S...</td>\n",
       "      <td>7,199 8,999 20% OFF</td>\n",
       "      <td>Columbia Men Brown CRESTWOOD Water Resistant S...</td>\n",
       "    </tr>\n",
       "    <tr>\n",
       "      <th>6</th>\n",
       "      <td>Columbia Men BROWN Plateau Venture</td>\n",
       "      <td>Columbia Men BROWN Plateau Venture</td>\n",
       "      <td>10,399 12,999 20% OFF</td>\n",
       "      <td>Columbia Men BROWN Plateau Venture</td>\n",
       "    </tr>\n",
       "    <tr>\n",
       "      <th>7</th>\n",
       "      <td>Columbia Men Grey CRESTWOOD MID Water Resistan...</td>\n",
       "      <td>Columbia Men Grey CRESTWOOD MID Water Resistan...</td>\n",
       "      <td>8,099 8,999 10% OFF</td>\n",
       "      <td>Columbia Men Grey CRESTWOOD MID Water Resistan...</td>\n",
       "    </tr>\n",
       "    <tr>\n",
       "      <th>8</th>\n",
       "      <td>Columbia Men Grey Crestwood Water Resistant Shoes</td>\n",
       "      <td>Columbia Men Grey Crestwood Water Resistant Shoes</td>\n",
       "      <td>7,999</td>\n",
       "      <td>Columbia Men Grey Crestwood Water Resistant Shoes</td>\n",
       "    </tr>\n",
       "    <tr>\n",
       "      <th>9</th>\n",
       "      <td>Columbia Men Brown Plateau Venture</td>\n",
       "      <td>Columbia Men Brown Plateau Venture</td>\n",
       "      <td>9,999</td>\n",
       "      <td>Columbia Men Brown Plateau Venture</td>\n",
       "    </tr>\n",
       "    <tr>\n",
       "      <th>10</th>\n",
       "      <td>Columbia Men Blue Crestwood Mid Water Resistan...</td>\n",
       "      <td>Columbia Men Blue Crestwood Mid Water Resistan...</td>\n",
       "      <td>8,999</td>\n",
       "      <td>Columbia Men Blue Crestwood Mid Water Resistan...</td>\n",
       "    </tr>\n",
       "    <tr>\n",
       "      <th>11</th>\n",
       "      <td>Columbia Men Brown Crestwood Water Resistant S...</td>\n",
       "      <td>Columbia Men Brown Crestwood Water Resistant S...</td>\n",
       "      <td>7,999</td>\n",
       "      <td>Columbia Men Brown Crestwood Water Resistant S...</td>\n",
       "    </tr>\n",
       "    <tr>\n",
       "      <th>12</th>\n",
       "      <td>Columbia Men Blue Hood River Slide</td>\n",
       "      <td>Columbia Men Blue Hood River Slide</td>\n",
       "      <td>9,999</td>\n",
       "      <td>Columbia Men Blue Hood River Slide</td>\n",
       "    </tr>\n",
       "    <tr>\n",
       "      <th>13</th>\n",
       "      <td>Columbia Men GREEN Breaksider Sandal</td>\n",
       "      <td>Columbia Men GREEN Breaksider Sandal</td>\n",
       "      <td>8,999</td>\n",
       "      <td>Columbia Men GREEN Breaksider Sandal</td>\n",
       "    </tr>\n",
       "    <tr>\n",
       "      <th>14</th>\n",
       "      <td>Columbia Men Brown RE-PEAK MID</td>\n",
       "      <td>Columbia Men Brown RE-PEAK MID</td>\n",
       "      <td>3,499</td>\n",
       "      <td>Columbia Men Brown RE-PEAK MID</td>\n",
       "    </tr>\n",
       "    <tr>\n",
       "      <th>15</th>\n",
       "      <td>COLUMBIA NEWSLETTER</td>\n",
       "      <td>COLUMBIA NEWSLETTER</td>\n",
       "      <td>5,999</td>\n",
       "      <td>COLUMBIA NEWSLETTER</td>\n",
       "    </tr>\n",
       "  </tbody>\n",
       "</table>\n",
       "</div>"
      ],
      "text/plain": [
       "                                             ShoeName  \\\n",
       "0              Columbia Men Black TRAILSTORM PEAK MID   \n",
       "1                Columbia Men Black TRAILSTORM BEYOND   \n",
       "2               Columbia Men Black COLUMBIA VENT AERO   \n",
       "3                Columbia Men Blue COLUMBIA VENT AERO   \n",
       "4             Columbia Men Orange MONTRAIL TRINITY AG   \n",
       "5   Columbia Men Brown CRESTWOOD Water Resistant S...   \n",
       "6                  Columbia Men BROWN Plateau Venture   \n",
       "7   Columbia Men Grey CRESTWOOD MID Water Resistan...   \n",
       "8   Columbia Men Grey Crestwood Water Resistant Shoes   \n",
       "9                  Columbia Men Brown Plateau Venture   \n",
       "10  Columbia Men Blue Crestwood Mid Water Resistan...   \n",
       "11  Columbia Men Brown Crestwood Water Resistant S...   \n",
       "12                 Columbia Men Blue Hood River Slide   \n",
       "13               Columbia Men GREEN Breaksider Sandal   \n",
       "14                     Columbia Men Brown RE-PEAK MID   \n",
       "15                                COLUMBIA NEWSLETTER   \n",
       "\n",
       "                                             category  \\\n",
       "0              Columbia Men Black TRAILSTORM PEAK MID   \n",
       "1                Columbia Men Black TRAILSTORM BEYOND   \n",
       "2               Columbia Men Black COLUMBIA VENT AERO   \n",
       "3                Columbia Men Blue COLUMBIA VENT AERO   \n",
       "4             Columbia Men Orange MONTRAIL TRINITY AG   \n",
       "5   Columbia Men Brown CRESTWOOD Water Resistant S...   \n",
       "6                  Columbia Men BROWN Plateau Venture   \n",
       "7   Columbia Men Grey CRESTWOOD MID Water Resistan...   \n",
       "8   Columbia Men Grey Crestwood Water Resistant Shoes   \n",
       "9                  Columbia Men Brown Plateau Venture   \n",
       "10  Columbia Men Blue Crestwood Mid Water Resistan...   \n",
       "11  Columbia Men Brown Crestwood Water Resistant S...   \n",
       "12                 Columbia Men Blue Hood River Slide   \n",
       "13               Columbia Men GREEN Breaksider Sandal   \n",
       "14                     Columbia Men Brown RE-PEAK MID   \n",
       "15                                COLUMBIA NEWSLETTER   \n",
       "\n",
       "                                              Price  \\\n",
       "0                                             Price   \n",
       "1   2001-4000\\n5001-10000\\n10001-15000\\n15001-20000   \n",
       "2                             10,399 12,999 20% OFF   \n",
       "3                               6,299 6,999 10% OFF   \n",
       "4                               8,099 8,999 10% OFF   \n",
       "5                               7,199 8,999 20% OFF   \n",
       "6                             10,399 12,999 20% OFF   \n",
       "7                               8,099 8,999 10% OFF   \n",
       "8                                             7,999   \n",
       "9                                             9,999   \n",
       "10                                            8,999   \n",
       "11                                            7,999   \n",
       "12                                            9,999   \n",
       "13                                            8,999   \n",
       "14                                            3,499   \n",
       "15                                            5,999   \n",
       "\n",
       "                                         no_of_colors  \n",
       "0              Columbia Men Black TRAILSTORM PEAK MID  \n",
       "1                Columbia Men Black TRAILSTORM BEYOND  \n",
       "2               Columbia Men Black COLUMBIA VENT AERO  \n",
       "3                Columbia Men Blue COLUMBIA VENT AERO  \n",
       "4             Columbia Men Orange MONTRAIL TRINITY AG  \n",
       "5   Columbia Men Brown CRESTWOOD Water Resistant S...  \n",
       "6                  Columbia Men BROWN Plateau Venture  \n",
       "7   Columbia Men Grey CRESTWOOD MID Water Resistan...  \n",
       "8   Columbia Men Grey Crestwood Water Resistant Shoes  \n",
       "9                  Columbia Men Brown Plateau Venture  \n",
       "10  Columbia Men Blue Crestwood Mid Water Resistan...  \n",
       "11  Columbia Men Brown Crestwood Water Resistant S...  \n",
       "12                 Columbia Men Blue Hood River Slide  \n",
       "13               Columbia Men GREEN Breaksider Sandal  \n",
       "14                     Columbia Men Brown RE-PEAK MID  \n",
       "15                                COLUMBIA NEWSLETTER  "
      ]
     },
     "execution_count": 452,
     "metadata": {},
     "output_type": "execute_result"
    }
   ],
   "source": [
    "import pandas as pd\n",
    "df8=pd.DataFrame({'ShoeName':ShoeName,'category':category,'Price':price,'no_of_colors':no_of_colors})\n",
    "df8"
   ]
  },
  {
   "cell_type": "code",
   "execution_count": 456,
   "id": "7df7dee1-392d-4963-9e1c-0b2f7f3dea8b",
   "metadata": {
    "tags": []
   },
   "outputs": [],
   "source": [
    "search_keyword = driver.find_element(By.XPATH, '//*[@id=\"megamenu_12000000\"]/div[2]/div/div/ul/li[3]/a')\n",
    "search_keyword.click()"
   ]
  },
  {
   "cell_type": "code",
   "execution_count": 457,
   "id": "cb6119c7-8a87-47a8-ad98-15c1ef11af4e",
   "metadata": {
    "tags": []
   },
   "outputs": [],
   "source": [
    "search_keyword = driver.find_element(By.XPATH, '//*[@id=\"category69469\"]/ul/li[4]/a')\n",
    "search_keyword.click()"
   ]
  },
  {
   "cell_type": "code",
   "execution_count": 459,
   "id": "09a885f1-84cf-4718-bc4c-e617a76a0d36",
   "metadata": {
    "tags": []
   },
   "outputs": [],
   "source": [
    "ShoeName = [] \n",
    "no_of_colors = []\n",
    "price = []\n",
    "category = []"
   ]
  },
  {
   "cell_type": "code",
   "execution_count": 460,
   "id": "a7c7209d-0683-4da8-9ea6-7990a6be3a57",
   "metadata": {
    "tags": []
   },
   "outputs": [],
   "source": [
    "title_tags=driver.find_elements(By.TAG_NAME, 'h4')\n",
    "for i in title_tags[0:23]:\n",
    "    title=i.text\n",
    "    ShoeName.append(title)"
   ]
  },
  {
   "cell_type": "code",
   "execution_count": 461,
   "id": "e7ff50fd-a93e-4f88-8296-dcaedfcd90a3",
   "metadata": {
    "tags": []
   },
   "outputs": [],
   "source": [
    "title_tags=driver.find_elements(By.TAG_NAME,'h4')\n",
    "for i in title_tags[0:23]:\n",
    "    title=i.text\n",
    "    category.append(title)"
   ]
  },
  {
   "cell_type": "code",
   "execution_count": 462,
   "id": "6bf08e90-b033-472d-9714-334ebfc91e68",
   "metadata": {
    "tags": []
   },
   "outputs": [],
   "source": [
    "title_tags=driver.find_elements(By.TAG_NAME,'h4')\n",
    "for i in title_tags[0:16]:\n",
    "    title=i.text\n",
    "    no_of_colors.append(title)"
   ]
  },
  {
   "cell_type": "code",
   "execution_count": 463,
   "id": "5658e69f-cd73-4dd0-aaa1-d875eb671163",
   "metadata": {
    "tags": []
   },
   "outputs": [],
   "source": [
    "title_tags=driver.find_elements(By.CLASS_NAME,'price.active')\n",
    "for i in title_tags[0:16]:\n",
    "    title=i.text\n",
    "    price.append(title)"
   ]
  },
  {
   "cell_type": "code",
   "execution_count": 464,
   "id": "8a148d71-bf8d-4154-9ed2-191a8a5b4a9a",
   "metadata": {
    "tags": []
   },
   "outputs": [],
   "source": [
    "print = (len(ShoeName),len(category),len(price),len(no_of_colors))"
   ]
  },
  {
   "cell_type": "code",
   "execution_count": 465,
   "id": "baf72ba0-2c62-4166-93ab-9bbf9fc16269",
   "metadata": {
    "tags": []
   },
   "outputs": [
    {
     "data": {
      "text/plain": [
       "(16, 16, 16, 16)"
      ]
     },
     "execution_count": 465,
     "metadata": {},
     "output_type": "execute_result"
    }
   ],
   "source": [
    "print"
   ]
  },
  {
   "cell_type": "code",
   "execution_count": 466,
   "id": "6609a101-9f47-422d-bb90-52d3372535d5",
   "metadata": {
    "tags": []
   },
   "outputs": [
    {
     "data": {
      "text/html": [
       "<div>\n",
       "<style scoped>\n",
       "    .dataframe tbody tr th:only-of-type {\n",
       "        vertical-align: middle;\n",
       "    }\n",
       "\n",
       "    .dataframe tbody tr th {\n",
       "        vertical-align: top;\n",
       "    }\n",
       "\n",
       "    .dataframe thead th {\n",
       "        text-align: right;\n",
       "    }\n",
       "</style>\n",
       "<table border=\"1\" class=\"dataframe\">\n",
       "  <thead>\n",
       "    <tr style=\"text-align: right;\">\n",
       "      <th></th>\n",
       "      <th>ShoeName</th>\n",
       "      <th>category</th>\n",
       "      <th>Price</th>\n",
       "      <th>no_of_colors</th>\n",
       "    </tr>\n",
       "  </thead>\n",
       "  <tbody>\n",
       "    <tr>\n",
       "      <th>0</th>\n",
       "      <td>Columbia Women Black SH/FT OUTDRY MID (Complet...</td>\n",
       "      <td>Columbia Women Black SH/FT OUTDRY MID (Complet...</td>\n",
       "      <td>Price</td>\n",
       "      <td>Columbia Women Black SH/FT OUTDRY MID (Complet...</td>\n",
       "    </tr>\n",
       "    <tr>\n",
       "      <th>1</th>\n",
       "      <td>Columbia Women Black TRAILSTORM PEAK MID</td>\n",
       "      <td>Columbia Women Black TRAILSTORM PEAK MID</td>\n",
       "      <td>1501-2000\\n2001-4000\\n5001-10000\\n10001-15000\\...</td>\n",
       "      <td>Columbia Women Black TRAILSTORM PEAK MID</td>\n",
       "    </tr>\n",
       "    <tr>\n",
       "      <th>2</th>\n",
       "      <td>Columbia Women Grey TRAILSTORM PEAK MID</td>\n",
       "      <td>Columbia Women Grey TRAILSTORM PEAK MID</td>\n",
       "      <td>9,799 13,999 30% OFF</td>\n",
       "      <td>Columbia Women Grey TRAILSTORM PEAK MID</td>\n",
       "    </tr>\n",
       "    <tr>\n",
       "      <th>3</th>\n",
       "      <td>Columbia Women Blue TRAILSTORM BEYOND</td>\n",
       "      <td>Columbia Women Blue TRAILSTORM BEYOND</td>\n",
       "      <td>10,399 12,999 20% OFF</td>\n",
       "      <td>Columbia Women Blue TRAILSTORM BEYOND</td>\n",
       "    </tr>\n",
       "    <tr>\n",
       "      <th>4</th>\n",
       "      <td>Columbia Women Green COLUMBIA VENT AERO</td>\n",
       "      <td>Columbia Women Green COLUMBIA VENT AERO</td>\n",
       "      <td>10,399 12,999 20% OFF</td>\n",
       "      <td>Columbia Women Green COLUMBIA VENT AERO</td>\n",
       "    </tr>\n",
       "    <tr>\n",
       "      <th>5</th>\n",
       "      <td>Columbia Women Black COLUMBIA VENT AERO</td>\n",
       "      <td>Columbia Women Black COLUMBIA VENT AERO</td>\n",
       "      <td>5,599 6,999 20% OFF</td>\n",
       "      <td>Columbia Women Black COLUMBIA VENT AERO</td>\n",
       "    </tr>\n",
       "    <tr>\n",
       "      <th>6</th>\n",
       "      <td>Columbia Women Black MINX SLIP IV Water Resist...</td>\n",
       "      <td>Columbia Women Black MINX SLIP IV Water Resist...</td>\n",
       "      <td>6,299 8,999 30% OFF</td>\n",
       "      <td>Columbia Women Black MINX SLIP IV Water Resist...</td>\n",
       "    </tr>\n",
       "    <tr>\n",
       "      <th>7</th>\n",
       "      <td>Columbia Women PURPLE Thrive Revive</td>\n",
       "      <td>Columbia Women PURPLE Thrive Revive</td>\n",
       "      <td>6,299 8,999 30% OFF</td>\n",
       "      <td>Columbia Women PURPLE Thrive Revive</td>\n",
       "    </tr>\n",
       "    <tr>\n",
       "      <th>8</th>\n",
       "      <td>Columbia Women Black Hatana Max Outdry (Comple...</td>\n",
       "      <td>Columbia Women Black Hatana Max Outdry (Comple...</td>\n",
       "      <td>10,999</td>\n",
       "      <td>Columbia Women Black Hatana Max Outdry (Comple...</td>\n",
       "    </tr>\n",
       "    <tr>\n",
       "      <th>9</th>\n",
       "      <td>Columbia Women Black Peakfreak II Outdry (Comp...</td>\n",
       "      <td>Columbia Women Black Peakfreak II Outdry (Comp...</td>\n",
       "      <td>5,999</td>\n",
       "      <td>Columbia Women Black Peakfreak II Outdry (Comp...</td>\n",
       "    </tr>\n",
       "    <tr>\n",
       "      <th>10</th>\n",
       "      <td>Columbia Women GREY Hatana Breathe</td>\n",
       "      <td>Columbia Women GREY Hatana Breathe</td>\n",
       "      <td>10,999</td>\n",
       "      <td>Columbia Women GREY Hatana Breathe</td>\n",
       "    </tr>\n",
       "    <tr>\n",
       "      <th>11</th>\n",
       "      <td>Columbia Women BROWN Plateau Venture</td>\n",
       "      <td>Columbia Women BROWN Plateau Venture</td>\n",
       "      <td>9,999</td>\n",
       "      <td>Columbia Women BROWN Plateau Venture</td>\n",
       "    </tr>\n",
       "    <tr>\n",
       "      <th>12</th>\n",
       "      <td>Columbia Women Brown Hatana Max Outdry (Comple...</td>\n",
       "      <td>Columbia Women Brown Hatana Max Outdry (Comple...</td>\n",
       "      <td>9,999</td>\n",
       "      <td>Columbia Women Brown Hatana Max Outdry (Comple...</td>\n",
       "    </tr>\n",
       "    <tr>\n",
       "      <th>13</th>\n",
       "      <td>Columbia Women GREY Hatana Breathe</td>\n",
       "      <td>Columbia Women GREY Hatana Breathe</td>\n",
       "      <td>7,999</td>\n",
       "      <td>Columbia Women GREY Hatana Breathe</td>\n",
       "    </tr>\n",
       "    <tr>\n",
       "      <th>14</th>\n",
       "      <td>Columbia Women Purple RE-PEAK MID</td>\n",
       "      <td>Columbia Women Purple RE-PEAK MID</td>\n",
       "      <td>10,999</td>\n",
       "      <td>Columbia Women Purple RE-PEAK MID</td>\n",
       "    </tr>\n",
       "    <tr>\n",
       "      <th>15</th>\n",
       "      <td>COLUMBIA NEWSLETTER</td>\n",
       "      <td>COLUMBIA NEWSLETTER</td>\n",
       "      <td>9,999</td>\n",
       "      <td>COLUMBIA NEWSLETTER</td>\n",
       "    </tr>\n",
       "  </tbody>\n",
       "</table>\n",
       "</div>"
      ],
      "text/plain": [
       "                                             ShoeName  \\\n",
       "0   Columbia Women Black SH/FT OUTDRY MID (Complet...   \n",
       "1            Columbia Women Black TRAILSTORM PEAK MID   \n",
       "2             Columbia Women Grey TRAILSTORM PEAK MID   \n",
       "3               Columbia Women Blue TRAILSTORM BEYOND   \n",
       "4             Columbia Women Green COLUMBIA VENT AERO   \n",
       "5             Columbia Women Black COLUMBIA VENT AERO   \n",
       "6   Columbia Women Black MINX SLIP IV Water Resist...   \n",
       "7                 Columbia Women PURPLE Thrive Revive   \n",
       "8   Columbia Women Black Hatana Max Outdry (Comple...   \n",
       "9   Columbia Women Black Peakfreak II Outdry (Comp...   \n",
       "10                 Columbia Women GREY Hatana Breathe   \n",
       "11               Columbia Women BROWN Plateau Venture   \n",
       "12  Columbia Women Brown Hatana Max Outdry (Comple...   \n",
       "13                 Columbia Women GREY Hatana Breathe   \n",
       "14                  Columbia Women Purple RE-PEAK MID   \n",
       "15                                COLUMBIA NEWSLETTER   \n",
       "\n",
       "                                             category  \\\n",
       "0   Columbia Women Black SH/FT OUTDRY MID (Complet...   \n",
       "1            Columbia Women Black TRAILSTORM PEAK MID   \n",
       "2             Columbia Women Grey TRAILSTORM PEAK MID   \n",
       "3               Columbia Women Blue TRAILSTORM BEYOND   \n",
       "4             Columbia Women Green COLUMBIA VENT AERO   \n",
       "5             Columbia Women Black COLUMBIA VENT AERO   \n",
       "6   Columbia Women Black MINX SLIP IV Water Resist...   \n",
       "7                 Columbia Women PURPLE Thrive Revive   \n",
       "8   Columbia Women Black Hatana Max Outdry (Comple...   \n",
       "9   Columbia Women Black Peakfreak II Outdry (Comp...   \n",
       "10                 Columbia Women GREY Hatana Breathe   \n",
       "11               Columbia Women BROWN Plateau Venture   \n",
       "12  Columbia Women Brown Hatana Max Outdry (Comple...   \n",
       "13                 Columbia Women GREY Hatana Breathe   \n",
       "14                  Columbia Women Purple RE-PEAK MID   \n",
       "15                                COLUMBIA NEWSLETTER   \n",
       "\n",
       "                                                Price  \\\n",
       "0                                               Price   \n",
       "1   1501-2000\\n2001-4000\\n5001-10000\\n10001-15000\\...   \n",
       "2                                9,799 13,999 30% OFF   \n",
       "3                               10,399 12,999 20% OFF   \n",
       "4                               10,399 12,999 20% OFF   \n",
       "5                                 5,599 6,999 20% OFF   \n",
       "6                                 6,299 8,999 30% OFF   \n",
       "7                                 6,299 8,999 30% OFF   \n",
       "8                                              10,999   \n",
       "9                                               5,999   \n",
       "10                                             10,999   \n",
       "11                                              9,999   \n",
       "12                                              9,999   \n",
       "13                                              7,999   \n",
       "14                                             10,999   \n",
       "15                                              9,999   \n",
       "\n",
       "                                         no_of_colors  \n",
       "0   Columbia Women Black SH/FT OUTDRY MID (Complet...  \n",
       "1            Columbia Women Black TRAILSTORM PEAK MID  \n",
       "2             Columbia Women Grey TRAILSTORM PEAK MID  \n",
       "3               Columbia Women Blue TRAILSTORM BEYOND  \n",
       "4             Columbia Women Green COLUMBIA VENT AERO  \n",
       "5             Columbia Women Black COLUMBIA VENT AERO  \n",
       "6   Columbia Women Black MINX SLIP IV Water Resist...  \n",
       "7                 Columbia Women PURPLE Thrive Revive  \n",
       "8   Columbia Women Black Hatana Max Outdry (Comple...  \n",
       "9   Columbia Women Black Peakfreak II Outdry (Comp...  \n",
       "10                 Columbia Women GREY Hatana Breathe  \n",
       "11               Columbia Women BROWN Plateau Venture  \n",
       "12  Columbia Women Brown Hatana Max Outdry (Comple...  \n",
       "13                 Columbia Women GREY Hatana Breathe  \n",
       "14                  Columbia Women Purple RE-PEAK MID  \n",
       "15                                COLUMBIA NEWSLETTER  "
      ]
     },
     "execution_count": 466,
     "metadata": {},
     "output_type": "execute_result"
    }
   ],
   "source": [
    "import pandas as pd\n",
    "df9=pd.DataFrame({'ShoeName':ShoeName,'category':category,'Price':price,'no_of_colors':no_of_colors})\n",
    "df9"
   ]
  },
  {
   "cell_type": "code",
   "execution_count": 472,
   "id": "ccf50ba0-eda8-4bb5-9d54-8356aa59a532",
   "metadata": {
    "tags": []
   },
   "outputs": [],
   "source": [
    "driver = webdriver.Chrome(service=Service(ChromeDriverManager().install()))"
   ]
  },
  {
   "cell_type": "code",
   "execution_count": 473,
   "id": "3d4e13a0-f8ed-40d4-8d4e-58b93fee6866",
   "metadata": {
    "tags": []
   },
   "outputs": [],
   "source": [
    "driver.get(\"https://www.woodlandworldwide.com/\")"
   ]
  },
  {
   "cell_type": "code",
   "execution_count": 475,
   "id": "5e48182e-201f-4aa0-9277-c8e3fb6fd785",
   "metadata": {
    "tags": []
   },
   "outputs": [],
   "source": [
    "search_keyword = driver.find_element(By.XPATH, '//*[@id=\"__next\"]/div[2]/section[2]/div/div/div[3]/div/div[2]/button')\n",
    "search_keyword.click()"
   ]
  },
  {
   "cell_type": "code",
   "execution_count": 484,
   "id": "33f98276-5c2a-443f-9a4b-4773c92bef53",
   "metadata": {
    "tags": []
   },
   "outputs": [],
   "source": [
    "ShoeName = [] \n",
    "no_of_colors = []\n",
    "price = []\n",
    "category = []"
   ]
  },
  {
   "cell_type": "code",
   "execution_count": 485,
   "id": "bc9377cd-d158-49b1-b0e6-17efd9079260",
   "metadata": {
    "tags": []
   },
   "outputs": [],
   "source": [
    "title_tags=driver.find_elements(By.CLASS_NAME,'productcardplp_productname__F8lks')\n",
    "for i in title_tags[0:24]:\n",
    "    title=i.text\n",
    "    ShoeName.append(title)"
   ]
  },
  {
   "cell_type": "code",
   "execution_count": 486,
   "id": "23654838-72b3-49e5-ad39-532d7d38e6da",
   "metadata": {
    "tags": []
   },
   "outputs": [],
   "source": [
    "title_tags=driver.find_elements(By.CLASS_NAME,'productcardplp_productname__F8lks')\n",
    "for i in title_tags[0:24]:\n",
    "    title=i.text\n",
    "    category.append(title)"
   ]
  },
  {
   "cell_type": "code",
   "execution_count": 487,
   "id": "c802d788-3115-41ce-9541-e4d08d9cf51a",
   "metadata": {
    "tags": []
   },
   "outputs": [],
   "source": [
    "title_tags=driver.find_elements(By.CLASS_NAME,'swiper.swiper-initialized.swiper-horizontal.swiper-pointer-events.swiper-backface-hidden')\n",
    "for i in title_tags[0:24]:\n",
    "    title=i.text\n",
    "    no_of_colors.append(title)"
   ]
  },
  {
   "cell_type": "code",
   "execution_count": 488,
   "id": "9ea53d29-b3d4-4430-894b-0aadc890db4c",
   "metadata": {
    "tags": []
   },
   "outputs": [],
   "source": [
    "title_tags=driver.find_elements(By.CLASS_NAME,'productcardplp_productprice__jdlz6')\n",
    "for i in title_tags[0:24]:\n",
    "    title=i.text\n",
    "    price.append(title)"
   ]
  },
  {
   "cell_type": "code",
   "execution_count": 489,
   "id": "bdfaf68e-5b0b-46c6-a121-74b074483e5b",
   "metadata": {
    "tags": []
   },
   "outputs": [],
   "source": [
    "print = (len(ShoeName),len(category),len(price),len(no_of_colors))"
   ]
  },
  {
   "cell_type": "code",
   "execution_count": 490,
   "id": "389b4a82-2b93-4055-87c3-489d35b83598",
   "metadata": {
    "tags": []
   },
   "outputs": [
    {
     "data": {
      "text/plain": [
       "(24, 24, 24, 24)"
      ]
     },
     "execution_count": 490,
     "metadata": {},
     "output_type": "execute_result"
    }
   ],
   "source": [
    "print"
   ]
  },
  {
   "cell_type": "code",
   "execution_count": 491,
   "id": "537ee7d9-b2f2-4784-a523-054d61b98b2f",
   "metadata": {
    "tags": []
   },
   "outputs": [
    {
     "data": {
      "text/html": [
       "<div>\n",
       "<style scoped>\n",
       "    .dataframe tbody tr th:only-of-type {\n",
       "        vertical-align: middle;\n",
       "    }\n",
       "\n",
       "    .dataframe tbody tr th {\n",
       "        vertical-align: top;\n",
       "    }\n",
       "\n",
       "    .dataframe thead th {\n",
       "        text-align: right;\n",
       "    }\n",
       "</style>\n",
       "<table border=\"1\" class=\"dataframe\">\n",
       "  <thead>\n",
       "    <tr style=\"text-align: right;\">\n",
       "      <th></th>\n",
       "      <th>ShoeName</th>\n",
       "      <th>category</th>\n",
       "      <th>Price</th>\n",
       "      <th>no_of_colors</th>\n",
       "    </tr>\n",
       "  </thead>\n",
       "  <tbody>\n",
       "    <tr>\n",
       "      <th>0</th>\n",
       "      <td>Woodland Camel Trekking Shoes</td>\n",
       "      <td>Woodland Camel Trekking Shoes</td>\n",
       "      <td>₹4595₹2757</td>\n",
       "      <td>40 %</td>\n",
       "    </tr>\n",
       "    <tr>\n",
       "      <th>1</th>\n",
       "      <td>Khaki hiking boot</td>\n",
       "      <td>Khaki hiking boot</td>\n",
       "      <td>₹4495₹2697</td>\n",
       "      <td></td>\n",
       "    </tr>\n",
       "    <tr>\n",
       "      <th>2</th>\n",
       "      <td>Navy Boot for Men</td>\n",
       "      <td>Navy Boot for Men</td>\n",
       "      <td>₹5995</td>\n",
       "      <td>40 %</td>\n",
       "    </tr>\n",
       "    <tr>\n",
       "      <th>3</th>\n",
       "      <td>Woodland SNAYPE hiking boots</td>\n",
       "      <td>Woodland SNAYPE hiking boots</td>\n",
       "      <td>₹6995₹3000</td>\n",
       "      <td></td>\n",
       "    </tr>\n",
       "    <tr>\n",
       "      <th>4</th>\n",
       "      <td>Camel Nubuk Oily Polished Mens Boot</td>\n",
       "      <td>Camel Nubuk Oily Polished Mens Boot</td>\n",
       "      <td>₹6495₹4871</td>\n",
       "      <td></td>\n",
       "    </tr>\n",
       "    <tr>\n",
       "      <th>5</th>\n",
       "      <td>Olive green shoe for men</td>\n",
       "      <td>Olive green shoe for men</td>\n",
       "      <td>₹4695₹2817</td>\n",
       "      <td></td>\n",
       "    </tr>\n",
       "    <tr>\n",
       "      <th>6</th>\n",
       "      <td>Camel boots for men</td>\n",
       "      <td>Camel boots for men</td>\n",
       "      <td>₹6995</td>\n",
       "      <td>57 %</td>\n",
       "    </tr>\n",
       "    <tr>\n",
       "      <th>7</th>\n",
       "      <td>Camel Boot for Men</td>\n",
       "      <td>Camel Boot for Men</td>\n",
       "      <td>₹6495</td>\n",
       "      <td></td>\n",
       "    </tr>\n",
       "    <tr>\n",
       "      <th>8</th>\n",
       "      <td>Camel high ankle boot for men</td>\n",
       "      <td>Camel high ankle boot for men</td>\n",
       "      <td>₹6495</td>\n",
       "      <td>25 %</td>\n",
       "    </tr>\n",
       "    <tr>\n",
       "      <th>9</th>\n",
       "      <td>Steel Grey blue boots for men</td>\n",
       "      <td>Steel Grey blue boots for men</td>\n",
       "      <td>₹6495</td>\n",
       "      <td></td>\n",
       "    </tr>\n",
       "    <tr>\n",
       "      <th>10</th>\n",
       "      <td>Drifter DNAVY</td>\n",
       "      <td>Drifter DNAVY</td>\n",
       "      <td>₹5995₹3597</td>\n",
       "      <td>40 %</td>\n",
       "    </tr>\n",
       "    <tr>\n",
       "      <th>11</th>\n",
       "      <td>RB BROWN boots for men</td>\n",
       "      <td>RB BROWN boots for men</td>\n",
       "      <td>₹5995₹3597</td>\n",
       "      <td></td>\n",
       "    </tr>\n",
       "    <tr>\n",
       "      <th>12</th>\n",
       "      <td>Russia Dbrown casual shoes for men</td>\n",
       "      <td>Russia Dbrown casual shoes for men</td>\n",
       "      <td>₹5995₹3597</td>\n",
       "      <td>★ Bestseller</td>\n",
       "    </tr>\n",
       "    <tr>\n",
       "      <th>13</th>\n",
       "      <td>Brawny GREY</td>\n",
       "      <td>Brawny GREY</td>\n",
       "      <td>₹6495₹3897</td>\n",
       "      <td></td>\n",
       "    </tr>\n",
       "    <tr>\n",
       "      <th>14</th>\n",
       "      <td>Grey boots for men</td>\n",
       "      <td>Grey boots for men</td>\n",
       "      <td>₹6495</td>\n",
       "      <td></td>\n",
       "    </tr>\n",
       "    <tr>\n",
       "      <th>15</th>\n",
       "      <td>Brown Boots for Men</td>\n",
       "      <td>Brown Boots for Men</td>\n",
       "      <td>₹6495₹4871</td>\n",
       "      <td></td>\n",
       "    </tr>\n",
       "    <tr>\n",
       "      <th>16</th>\n",
       "      <td>Mammoth OLIVE GREEN</td>\n",
       "      <td>Mammoth OLIVE GREEN</td>\n",
       "      <td>₹3895</td>\n",
       "      <td>★ Bestseller</td>\n",
       "    </tr>\n",
       "    <tr>\n",
       "      <th>17</th>\n",
       "      <td>Chiku/Toupe Chelsea Boots for Men</td>\n",
       "      <td>Chiku/Toupe Chelsea Boots for Men</td>\n",
       "      <td>₹12995</td>\n",
       "      <td></td>\n",
       "    </tr>\n",
       "    <tr>\n",
       "      <th>18</th>\n",
       "      <td>Woodland RUST BROWN hiking shoes</td>\n",
       "      <td>Woodland RUST BROWN hiking shoes</td>\n",
       "      <td>₹6995₹4197</td>\n",
       "      <td>★ Bestseller</td>\n",
       "    </tr>\n",
       "    <tr>\n",
       "      <th>19</th>\n",
       "      <td>Woodland OLIVE hiking boots</td>\n",
       "      <td>Woodland OLIVE hiking boots</td>\n",
       "      <td>₹4295</td>\n",
       "      <td></td>\n",
       "    </tr>\n",
       "    <tr>\n",
       "      <th>20</th>\n",
       "      <td>Grey boots for men</td>\n",
       "      <td>Grey boots for men</td>\n",
       "      <td>₹5995</td>\n",
       "      <td>40 %</td>\n",
       "    </tr>\n",
       "    <tr>\n",
       "      <th>21</th>\n",
       "      <td>Excursion NTAN</td>\n",
       "      <td>Excursion NTAN</td>\n",
       "      <td>₹4295₹3221</td>\n",
       "      <td></td>\n",
       "    </tr>\n",
       "    <tr>\n",
       "      <th>22</th>\n",
       "      <td>Tan Leather Chukka Boot for Men</td>\n",
       "      <td>Tan Leather Chukka Boot for Men</td>\n",
       "      <td>₹12995</td>\n",
       "      <td>40 %</td>\n",
       "    </tr>\n",
       "    <tr>\n",
       "      <th>23</th>\n",
       "      <td>Black Chelsea Boot for Men</td>\n",
       "      <td>Black Chelsea Boot for Men</td>\n",
       "      <td>₹13995</td>\n",
       "      <td></td>\n",
       "    </tr>\n",
       "  </tbody>\n",
       "</table>\n",
       "</div>"
      ],
      "text/plain": [
       "                               ShoeName                             category  \\\n",
       "0         Woodland Camel Trekking Shoes        Woodland Camel Trekking Shoes   \n",
       "1                     Khaki hiking boot                    Khaki hiking boot   \n",
       "2                     Navy Boot for Men                    Navy Boot for Men   \n",
       "3          Woodland SNAYPE hiking boots         Woodland SNAYPE hiking boots   \n",
       "4   Camel Nubuk Oily Polished Mens Boot  Camel Nubuk Oily Polished Mens Boot   \n",
       "5              Olive green shoe for men             Olive green shoe for men   \n",
       "6                   Camel boots for men                  Camel boots for men   \n",
       "7                    Camel Boot for Men                   Camel Boot for Men   \n",
       "8         Camel high ankle boot for men        Camel high ankle boot for men   \n",
       "9         Steel Grey blue boots for men        Steel Grey blue boots for men   \n",
       "10                        Drifter DNAVY                        Drifter DNAVY   \n",
       "11               RB BROWN boots for men               RB BROWN boots for men   \n",
       "12   Russia Dbrown casual shoes for men   Russia Dbrown casual shoes for men   \n",
       "13                          Brawny GREY                          Brawny GREY   \n",
       "14                   Grey boots for men                   Grey boots for men   \n",
       "15                  Brown Boots for Men                  Brown Boots for Men   \n",
       "16                  Mammoth OLIVE GREEN                  Mammoth OLIVE GREEN   \n",
       "17    Chiku/Toupe Chelsea Boots for Men    Chiku/Toupe Chelsea Boots for Men   \n",
       "18     Woodland RUST BROWN hiking shoes     Woodland RUST BROWN hiking shoes   \n",
       "19          Woodland OLIVE hiking boots          Woodland OLIVE hiking boots   \n",
       "20                   Grey boots for men                   Grey boots for men   \n",
       "21                       Excursion NTAN                       Excursion NTAN   \n",
       "22      Tan Leather Chukka Boot for Men      Tan Leather Chukka Boot for Men   \n",
       "23           Black Chelsea Boot for Men           Black Chelsea Boot for Men   \n",
       "\n",
       "         Price  no_of_colors  \n",
       "0   ₹4595₹2757          40 %  \n",
       "1   ₹4495₹2697                \n",
       "2        ₹5995          40 %  \n",
       "3   ₹6995₹3000                \n",
       "4   ₹6495₹4871                \n",
       "5   ₹4695₹2817                \n",
       "6        ₹6995          57 %  \n",
       "7        ₹6495                \n",
       "8        ₹6495          25 %  \n",
       "9        ₹6495                \n",
       "10  ₹5995₹3597          40 %  \n",
       "11  ₹5995₹3597                \n",
       "12  ₹5995₹3597  ★ Bestseller  \n",
       "13  ₹6495₹3897                \n",
       "14       ₹6495                \n",
       "15  ₹6495₹4871                \n",
       "16       ₹3895  ★ Bestseller  \n",
       "17      ₹12995                \n",
       "18  ₹6995₹4197  ★ Bestseller  \n",
       "19       ₹4295                \n",
       "20       ₹5995          40 %  \n",
       "21  ₹4295₹3221                \n",
       "22      ₹12995          40 %  \n",
       "23      ₹13995                "
      ]
     },
     "execution_count": 491,
     "metadata": {},
     "output_type": "execute_result"
    }
   ],
   "source": [
    "import pandas as pd\n",
    "df10=pd.DataFrame({'ShoeName':ShoeName,'category':category,'Price':price,'no_of_colors':no_of_colors})\n",
    "df10"
   ]
  },
  {
   "cell_type": "code",
   "execution_count": 502,
   "id": "88f0442c-c110-4c85-9c9d-1b2583535bda",
   "metadata": {
    "tags": []
   },
   "outputs": [],
   "source": [
    "driver = webdriver.Chrome(service=Service(ChromeDriverManager().install()))"
   ]
  },
  {
   "cell_type": "code",
   "execution_count": 503,
   "id": "457d8553-cd54-40f4-82cc-921523918662",
   "metadata": {
    "tags": []
   },
   "outputs": [],
   "source": [
    "driver.get(\"https://www.woodlandworldwide.com/product-list/WOMEN_BOOTS\")"
   ]
  },
  {
   "cell_type": "code",
   "execution_count": 511,
   "id": "4ed0b3bb-40ce-4555-a381-d2d189008495",
   "metadata": {
    "tags": []
   },
   "outputs": [],
   "source": [
    "ShoeName = [] \n",
    "no_of_colors = []\n",
    "price = []\n",
    "category = []"
   ]
  },
  {
   "cell_type": "code",
   "execution_count": 512,
   "id": "b8581d36-34e1-4db6-afed-f4fdb87144ba",
   "metadata": {
    "tags": []
   },
   "outputs": [],
   "source": [
    "title_tags=driver.find_elements(By.CLASS_NAME,'productcardplp_productname__F8lks')\n",
    "for i in title_tags[0:12]:\n",
    "    title=i.text\n",
    "    ShoeName.append(title)"
   ]
  },
  {
   "cell_type": "code",
   "execution_count": 513,
   "id": "6c50c1cb-fa2a-47cc-891d-055f4f7cba8c",
   "metadata": {
    "tags": []
   },
   "outputs": [],
   "source": [
    "title_tags=driver.find_elements(By.CLASS_NAME,'productcardplp_productname__F8lks')\n",
    "for i in title_tags[0:12]:\n",
    "    title=i.text\n",
    "    category.append(title)"
   ]
  },
  {
   "cell_type": "code",
   "execution_count": 514,
   "id": "ad7eeb3b-ae9e-4767-89b9-5f17647ecd85",
   "metadata": {
    "tags": []
   },
   "outputs": [],
   "source": [
    "title_tags=driver.find_elements(By.CLASS_NAME,'swiper-slide.swiper-slide-active')\n",
    "for i in title_tags[0:12]:\n",
    "    title=i.text\n",
    "    no_of_colors.append(title)"
   ]
  },
  {
   "cell_type": "code",
   "execution_count": 515,
   "id": "e47be86a-1bd9-4bd3-9538-bc5805cef75f",
   "metadata": {
    "tags": []
   },
   "outputs": [],
   "source": [
    "title_tags=driver.find_elements(By.CLASS_NAME,'productcardplp_productprice__jdlz6')\n",
    "for i in title_tags[0:12]:\n",
    "    title=i.text\n",
    "    price.append(title)"
   ]
  },
  {
   "cell_type": "code",
   "execution_count": 516,
   "id": "051d3df9-c409-468e-a35f-0abc8abfd339",
   "metadata": {
    "tags": []
   },
   "outputs": [],
   "source": [
    "print = (len(ShoeName),len(category),len(price),len(no_of_colors))"
   ]
  },
  {
   "cell_type": "code",
   "execution_count": 517,
   "id": "b18d98b8-3b9c-419f-8772-9a13a8c45eaa",
   "metadata": {
    "tags": []
   },
   "outputs": [
    {
     "data": {
      "text/plain": [
       "(12, 12, 12, 12)"
      ]
     },
     "execution_count": 517,
     "metadata": {},
     "output_type": "execute_result"
    }
   ],
   "source": [
    "print"
   ]
  },
  {
   "cell_type": "code",
   "execution_count": 518,
   "id": "9529d4aa-5c4a-4df2-8824-a466ff5eb0ba",
   "metadata": {
    "tags": []
   },
   "outputs": [
    {
     "data": {
      "text/html": [
       "<div>\n",
       "<style scoped>\n",
       "    .dataframe tbody tr th:only-of-type {\n",
       "        vertical-align: middle;\n",
       "    }\n",
       "\n",
       "    .dataframe tbody tr th {\n",
       "        vertical-align: top;\n",
       "    }\n",
       "\n",
       "    .dataframe thead th {\n",
       "        text-align: right;\n",
       "    }\n",
       "</style>\n",
       "<table border=\"1\" class=\"dataframe\">\n",
       "  <thead>\n",
       "    <tr style=\"text-align: right;\">\n",
       "      <th></th>\n",
       "      <th>ShoeName</th>\n",
       "      <th>category</th>\n",
       "      <th>Price</th>\n",
       "      <th>no_of_colors</th>\n",
       "    </tr>\n",
       "  </thead>\n",
       "  <tbody>\n",
       "    <tr>\n",
       "      <th>0</th>\n",
       "      <td>Bright Grey Boots for Women</td>\n",
       "      <td>Bright Grey Boots for Women</td>\n",
       "      <td>₹5995</td>\n",
       "      <td></td>\n",
       "    </tr>\n",
       "    <tr>\n",
       "      <th>1</th>\n",
       "      <td>Brown Boot for Women</td>\n",
       "      <td>Brown Boot for Women</td>\n",
       "      <td>₹5495</td>\n",
       "      <td></td>\n",
       "    </tr>\n",
       "    <tr>\n",
       "      <th>2</th>\n",
       "      <td>DROYAL BLUE boots for women</td>\n",
       "      <td>DROYAL BLUE boots for women</td>\n",
       "      <td>₹5495₹4121</td>\n",
       "      <td></td>\n",
       "    </tr>\n",
       "    <tr>\n",
       "      <th>3</th>\n",
       "      <td>Woodland Rusty red boots for women</td>\n",
       "      <td>Woodland Rusty red boots for women</td>\n",
       "      <td>₹5495₹4121</td>\n",
       "      <td></td>\n",
       "    </tr>\n",
       "    <tr>\n",
       "      <th>4</th>\n",
       "      <td>Snaype Boots for Women</td>\n",
       "      <td>Snaype Boots for Women</td>\n",
       "      <td>₹5995</td>\n",
       "      <td>25 %</td>\n",
       "    </tr>\n",
       "    <tr>\n",
       "      <th>5</th>\n",
       "      <td>Dark royal blue boot for women</td>\n",
       "      <td>Dark royal blue boot for women</td>\n",
       "      <td>₹4995₹2997</td>\n",
       "      <td></td>\n",
       "    </tr>\n",
       "    <tr>\n",
       "      <th>6</th>\n",
       "      <td>Camel boots for women</td>\n",
       "      <td>Camel boots for women</td>\n",
       "      <td>₹5495₹2747</td>\n",
       "      <td>25 %</td>\n",
       "    </tr>\n",
       "    <tr>\n",
       "      <th>7</th>\n",
       "      <td>Woodland BLACK casual shoes for women</td>\n",
       "      <td>Woodland BLACK casual shoes for women</td>\n",
       "      <td>₹4995₹2997</td>\n",
       "      <td></td>\n",
       "    </tr>\n",
       "    <tr>\n",
       "      <th>8</th>\n",
       "      <td>Black Boot for women</td>\n",
       "      <td>Black Boot for women</td>\n",
       "      <td>₹9995</td>\n",
       "      <td></td>\n",
       "    </tr>\n",
       "    <tr>\n",
       "      <th>9</th>\n",
       "      <td>Black Boots for Women</td>\n",
       "      <td>Black Boots for Women</td>\n",
       "      <td>₹9995</td>\n",
       "      <td></td>\n",
       "    </tr>\n",
       "    <tr>\n",
       "      <th>10</th>\n",
       "      <td>Black high-top boots</td>\n",
       "      <td>Black high-top boots</td>\n",
       "      <td>₹9995₹5997</td>\n",
       "      <td>40 %</td>\n",
       "    </tr>\n",
       "    <tr>\n",
       "      <th>11</th>\n",
       "      <td>Brown mid-calf boot for women</td>\n",
       "      <td>Brown mid-calf boot for women</td>\n",
       "      <td>₹18995₹11397</td>\n",
       "      <td></td>\n",
       "    </tr>\n",
       "  </tbody>\n",
       "</table>\n",
       "</div>"
      ],
      "text/plain": [
       "                                 ShoeName  \\\n",
       "0             Bright Grey Boots for Women   \n",
       "1                    Brown Boot for Women   \n",
       "2             DROYAL BLUE boots for women   \n",
       "3      Woodland Rusty red boots for women   \n",
       "4                  Snaype Boots for Women   \n",
       "5          Dark royal blue boot for women   \n",
       "6                   Camel boots for women   \n",
       "7   Woodland BLACK casual shoes for women   \n",
       "8                    Black Boot for women   \n",
       "9                   Black Boots for Women   \n",
       "10                   Black high-top boots   \n",
       "11          Brown mid-calf boot for women   \n",
       "\n",
       "                                 category         Price no_of_colors  \n",
       "0             Bright Grey Boots for Women         ₹5995               \n",
       "1                    Brown Boot for Women         ₹5495               \n",
       "2             DROYAL BLUE boots for women    ₹5495₹4121               \n",
       "3      Woodland Rusty red boots for women    ₹5495₹4121               \n",
       "4                  Snaype Boots for Women         ₹5995         25 %  \n",
       "5          Dark royal blue boot for women    ₹4995₹2997               \n",
       "6                   Camel boots for women    ₹5495₹2747         25 %  \n",
       "7   Woodland BLACK casual shoes for women    ₹4995₹2997               \n",
       "8                    Black Boot for women         ₹9995               \n",
       "9                   Black Boots for Women         ₹9995               \n",
       "10                   Black high-top boots    ₹9995₹5997         40 %  \n",
       "11          Brown mid-calf boot for women  ₹18995₹11397               "
      ]
     },
     "execution_count": 518,
     "metadata": {},
     "output_type": "execute_result"
    }
   ],
   "source": [
    "import pandas as pd\n",
    "df11=pd.DataFrame({'ShoeName':ShoeName,'category':category,'Price':price,'no_of_colors':no_of_colors})\n",
    "df11"
   ]
  },
  {
   "cell_type": "code",
   "execution_count": 1,
   "id": "6ff50263-dd45-4fdb-9644-d77a537c55d5",
   "metadata": {},
   "outputs": [
    {
     "name": "stdout",
     "output_type": "stream",
     "text": [
      "                                             ShoeName no_of_colors  \\\n",
      "0   Bestseller\\nNike Dunk Low Retro Premium\\nMen's...     1 Colour   \n",
      "1            Nike Blazer Low '77 Vintage\\nMen's Shoes    3 Colours   \n",
      "2       Bestseller\\nNike Air Force 1 '07\\nMen's Shoes    2 Colours   \n",
      "3   Just In\\nNike Air Force 1 '07 Pro Tech\\nMen's ...    3 Colours   \n",
      "4                  Nike Court Vision Low\\nMen's Shoes     1 Colour   \n",
      "5   Bestseller\\nNike Air Force 1 '07 LV8\\nMen's Shoes    2 Colours   \n",
      "6                Just In\\nNike Air Max 1\\nMen's shoes    5 Colours   \n",
      "7   Sustainable Materials\\nNikeCourt Legacy\\nMen's...    4 Colours   \n",
      "8                Nike Air Max SC Leather\\nMen's Shoes    2 Colours   \n",
      "9                 Nike Killshot 2 Leather\\nMen's Shoe    2 Colours   \n",
      "10  Bestseller\\nNike Blazer Low '77 Jumbo\\nMen's S...    2 Colours   \n",
      "11  Bestseller\\nNike SB Zoom Blazer Low Pro GT\\nSk...    3 Colours   \n",
      "12                Nike Air Force 1 React\\nMen's Shoes     1 Colour   \n",
      "13                   Nike Air Max Cirro\\nMen's Slides    4 Colours   \n",
      "14                     Jordan Max Aura 5\\nMen's Shoes    5 Colours   \n",
      "15  Customise\\nNike Air Force 1 Mid By You\\nMen's ...    6 Colours   \n",
      "16  Sustainable Materials\\nNike Revolution 7\\nMen'...    6 Colours   \n",
      "17  Bestseller\\nAir Jordan Legacy 312 Low\\nMen's S...    3 Colours   \n",
      "18  Promo Exclusion\\nNike ACG Mountain Fly 2 Low\\n...    2 Colours   \n",
      "19             Bestseller\\nNike Dunk Low\\nMen's Shoes     1 Colour   \n",
      "20                      Nike SB Force 58\\nSkate Shoes    2 Colours   \n",
      "21     Bestseller\\nJordan Nu Retro 1 Low\\nMen's Shoes    2 Colours   \n",
      "22      Bestseller\\nJordan One Take 4 PF\\nMen's Shoes    3 Colours   \n",
      "23     Bestseller\\nNike Precision 6\\nBasketball Shoes    4 Colours   \n",
      "\n",
      "                price                  category  \n",
      "0    MRP : ₹ 9 695.00               Men's Shoes  \n",
      "1    MRP : ₹ 7 195.00               Men's Shoes  \n",
      "2    MRP : ₹ 7 495.00               Men's Shoes  \n",
      "3   MRP : ₹ 13 995.00               Men's Shoes  \n",
      "4    MRP : ₹ 5 695.00               Men's Shoes  \n",
      "5   MRP : ₹ 10 795.00               Men's Shoes  \n",
      "6   MRP : ₹ 12 795.00               Men's shoes  \n",
      "7    MRP : ₹ 5 695.00               Men's Shoes  \n",
      "8    MRP : ₹ 6 795.00               Men's Shoes  \n",
      "9    MRP : ₹ 7 995.00                Men's Shoe  \n",
      "10   MRP : ₹ 8 595.00               Men's Shoes  \n",
      "11   MRP : ₹ 6 795.00               Skate Shoes  \n",
      "12  MRP : ₹ 11 995.00               Men's Shoes  \n",
      "13   MRP : ₹ 3 695.00              Men's Slides  \n",
      "14  MRP : ₹ 11 895.00               Men's Shoes  \n",
      "15  MRP : ₹ 12 795.00        Men's Custom Shoes  \n",
      "16   MRP : ₹ 3 695.00  Men's Road Running Shoes  \n",
      "17  MRP : ₹ 12 995.00               Men's Shoes  \n",
      "18  MRP : ₹ 13 995.00               Men's Shoes  \n",
      "19   MRP : ₹ 8 695.00               Men's Shoes  \n",
      "20   MRP : ₹ 6 295.00               Skate Shoes  \n",
      "21   MRP : ₹ 9 195.00               Men's Shoes  \n",
      "22   MRP : ₹ 8 695.00               Men's Shoes  \n",
      "23   MRP : ₹ 5 695.00          Basketball Shoes  \n"
     ]
    }
   ],
   "source": [
    "import pandas as pd\n",
    "data = {\n",
    "    'ShoeName': [\n",
    "        \"Bestseller\\nNike Dunk Low Retro Premium\\nMen's...\",\n",
    "        \"Nike Blazer Low '77 Vintage\\nMen's Shoes\",\n",
    "        \"Bestseller\\nNike Air Force 1 '07\\nMen's Shoes\",\n",
    "        \"Just In\\nNike Air Force 1 '07 Pro Tech\\nMen's ...\",\n",
    "        \"Nike Court Vision Low\\nMen's Shoes\",\n",
    "        \"Bestseller\\nNike Air Force 1 '07 LV8\\nMen's Shoes\",\n",
    "        \"Just In\\nNike Air Max 1\\nMen's shoes\",\n",
    "        \"Sustainable Materials\\nNikeCourt Legacy\\nMen's...\",\n",
    "        \"Nike Air Max SC Leather\\nMen's Shoes\",\n",
    "        \"Nike Killshot 2 Leather\\nMen's Shoe\",\n",
    "        \"Bestseller\\nNike Blazer Low '77 Jumbo\\nMen's S...\",\n",
    "        \"Bestseller\\nNike SB Zoom Blazer Low Pro GT\\nSk...\",\n",
    "        \"Nike Air Force 1 React\\nMen's Shoes\",\n",
    "        \"Nike Air Max Cirro\\nMen's Slides\",\n",
    "        \"Jordan Max Aura 5\\nMen's Shoes\",\n",
    "        \"Customise\\nNike Air Force 1 Mid By You\\nMen's ...\",\n",
    "        \"Sustainable Materials\\nNike Revolution 7\\nMen'...\",\n",
    "        \"Bestseller\\nAir Jordan Legacy 312 Low\\nMen's S...\",\n",
    "        \"Promo Exclusion\\nNike ACG Mountain Fly 2 Low\\n...\",\n",
    "        \"Bestseller\\nNike Dunk Low\\nMen's Shoes\",\n",
    "        \"Nike SB Force 58\\nSkate Shoes\",\n",
    "        \"Bestseller\\nJordan Nu Retro 1 Low\\nMen's Shoes\",\n",
    "        \"Bestseller\\nJordan One Take 4 PF\\nMen's Shoes\",\n",
    "        \"Bestseller\\nNike Precision 6\\nBasketball Shoes\"\n",
    "    ],\n",
    "    'no_of_colors': [\n",
    "        '1 Colour', '3 Colours', '2 Colours', '3 Colours', '1 Colour',\n",
    "        '2 Colours', '5 Colours', '4 Colours', '2 Colours', '2 Colours',\n",
    "        '2 Colours', '3 Colours', '1 Colour', '4 Colours', '5 Colours',\n",
    "        '6 Colours', '6 Colours', '3 Colours', '2 Colours', '1 Colour',\n",
    "        '2 Colours', '2 Colours', '3 Colours', '4 Colours'\n",
    "    ],\n",
    "    'price': [\n",
    "        'MRP : ₹ 9 695.00', 'MRP : ₹ 7 195.00', 'MRP : ₹ 7 495.00',\n",
    "        'MRP : ₹ 13 995.00', 'MRP : ₹ 5 695.00', 'MRP : ₹ 10 795.00',\n",
    "        'MRP : ₹ 12 795.00', 'MRP : ₹ 5 695.00', 'MRP : ₹ 6 795.00',\n",
    "        'MRP : ₹ 7 995.00', 'MRP : ₹ 8 595.00', 'MRP : ₹ 6 795.00',\n",
    "        'MRP : ₹ 11 995.00', 'MRP : ₹ 3 695.00', 'MRP : ₹ 11 895.00',\n",
    "        'MRP : ₹ 12 795.00', 'MRP : ₹ 3 695.00', 'MRP : ₹ 12 995.00',\n",
    "        'MRP : ₹ 13 995.00', 'MRP : ₹ 8 695.00', 'MRP : ₹ 6 295.00',\n",
    "        'MRP : ₹ 9 195.00', 'MRP : ₹ 8 695.00', 'MRP : ₹ 5 695.00'\n",
    "    ],\n",
    "    'category': [\n",
    "        \"Men's Shoes\", \"Men's Shoes\", \"Men's Shoes\", \"Men's Shoes\", \"Men's Shoes\",\n",
    "        \"Men's Shoes\", \"Men's shoes\", \"Men's Shoes\", \"Men's Shoes\", \"Men's Shoe\",\n",
    "        \"Men's Shoes\", \"Skate Shoes\", \"Men's Shoes\", \"Men's Slides\", \"Men's Shoes\",\n",
    "        \"Men's Custom Shoes\", \"Men's Road Running Shoes\", \"Men's Shoes\", \"Men's Shoes\",\n",
    "        \"Men's Shoes\", \"Skate Shoes\", \"Men's Shoes\", \"Men's Shoes\", \"Basketball Shoes\"\n",
    "    ]\n",
    "}\n",
    "df101 = pd.DataFrame(data)\n",
    "df101.to_csv('shoes_data.csv', index=False)\n",
    "print(df101)"
   ]
  },
  {
   "cell_type": "code",
   "execution_count": 3,
   "id": "a43b10e6-199c-4027-950a-1535e7a8e83d",
   "metadata": {
    "tags": []
   },
   "outputs": [
    {
     "name": "stdout",
     "output_type": "stream",
     "text": [
      "                                             ShoeName no_of_colors  \\\n",
      "0   Bestseller\\nNike Dunk Low Retro Premium\\nMen's...     1 Colour   \n",
      "1            Nike Blazer Low '77 Vintage\\nMen's Shoes    3 Colours   \n",
      "2       Bestseller\\nNike Air Force 1 '07\\nMen's Shoes    2 Colours   \n",
      "3   Just In\\nNike Air Force 1 '07 Pro Tech\\nMen's ...    3 Colours   \n",
      "4                  Nike Court Vision Low\\nMen's Shoes     1 Colour   \n",
      "5   Bestseller\\nNike Air Force 1 '07 LV8\\nMen's Shoes    2 Colours   \n",
      "6                Just In\\nNike Air Max 1\\nMen's shoes    5 Colours   \n",
      "7   Sustainable Materials\\nNikeCourt Legacy\\nMen's...    4 Colours   \n",
      "8                Nike Air Max SC Leather\\nMen's Shoes    2 Colours   \n",
      "9                 Nike Killshot 2 Leather\\nMen's Shoe    2 Colours   \n",
      "10  Bestseller\\nNike Blazer Low '77 Jumbo\\nMen's S...    2 Colours   \n",
      "11  Bestseller\\nNike SB Zoom Blazer Low Pro GT\\nSk...    3 Colours   \n",
      "12                Nike Air Force 1 React\\nMen's Shoes     1 Colour   \n",
      "13                   Nike Air Max Cirro\\nMen's Slides    4 Colours   \n",
      "14                     Jordan Max Aura 5\\nMen's Shoes    5 Colours   \n",
      "15  Customise\\nNike Air Force 1 Mid By You\\nMen's ...    6 Colours   \n",
      "16  Sustainable Materials\\nNike Revolution 7\\nMen'...    6 Colours   \n",
      "17  Bestseller\\nAir Jordan Legacy 312 Low\\nMen's S...    3 Colours   \n",
      "18  Promo Exclusion\\nNike ACG Mountain Fly 2 Low\\n...    2 Colours   \n",
      "19             Bestseller\\nNike Dunk Low\\nMen's Shoes     1 Colour   \n",
      "20                      Nike SB Force 58\\nSkate Shoes    2 Colours   \n",
      "21     Bestseller\\nJordan Nu Retro 1 Low\\nMen's Shoes    2 Colours   \n",
      "22      Bestseller\\nJordan One Take 4 PF\\nMen's Shoes    3 Colours   \n",
      "23     Bestseller\\nNike Precision 6\\nBasketball Shoes    4 Colours   \n",
      "24                 Air Jordan 1 Low SE\\nWomen's Shoes     1 Colour   \n",
      "25                       Nike Dunk Low\\nWomen's Shoes     1 Colour   \n",
      "26          Just In\\nJordan Stadium 90\\nWomen's Shoes    4 Colours   \n",
      "27                    Nike Dunk Low SE\\nWomen's Shoes     1 Colour   \n",
      "28                  Nike Zoom Vomero 5\\nWomen's Shoes     1 Colour   \n",
      "29                Nike Air Force 1 '07\\nWomen's Shoes     1 Colour   \n",
      "30                  Nike Air Max SC SE\\nWomen's Shoes     1 Colour   \n",
      "31             Just In\\nNike Air Max 1\\nWomen's shoes    5 Colours   \n",
      "32     Bestseller\\nAir Jordan 1 Low SE\\nWomen's Shoes    2 Colours   \n",
      "33  Promo Exclusion\\nNike Air Max 1 LX\\nWomen's Shoes    2 Colours   \n",
      "34                    Nike Dunk Low SE\\nWomen's Shoes     1 Colour   \n",
      "35  Promo Exclusion\\nNike Dunk Low Twist\\nWomen's ...    5 Colours   \n",
      "36  Bestseller\\nNike SB Zoom Blazer Low Pro GT\\nSk...    3 Colours   \n",
      "37             Nike Air Force 1 Shadow\\nWomen's Shoes    2 Colours   \n",
      "38  Just In\\nNike SuperRep Go 3 Flyknit Next Natur...    6 Colours   \n",
      "39                      Nike Dunk High\\nWomen's Shoes     1 Colour   \n",
      "40  Sustainable Materials\\nNikeCourt Legacy Next N...    4 Colours   \n",
      "41  Sustainable Materials\\nNike Tiempo Legend 10 A...    3 Colours   \n",
      "42              Nike Dunk High Premium\\nWomen's Shoes     1 Colour   \n",
      "43  Promo Exclusion\\nNike ACG Mountain Fly 2 Low\\n...    2 Colours   \n",
      "44      Sustainable Materials\\nNike Calm\\nMen's Mules     1 Colour   \n",
      "45           Nike Waffle Debut Vintage\\nWomen's Shoes     1 Colour   \n",
      "46                   Nike Waffle Debut\\nWomen's Shoes    3 Colours   \n",
      "47                      Nike SB Force 58\\nSkate Shoes    2 Colours   \n",
      "48                                                       3 Colours   \n",
      "\n",
      "                price                            category  \n",
      "0    MRP : ₹ 9 695.00                         Men's Shoes  \n",
      "1    MRP : ₹ 7 195.00                         Men's Shoes  \n",
      "2    MRP : ₹ 7 495.00                         Men's Shoes  \n",
      "3   MRP : ₹ 13 995.00                         Men's Shoes  \n",
      "4    MRP : ₹ 5 695.00                         Men's Shoes  \n",
      "5   MRP : ₹ 10 795.00                         Men's Shoes  \n",
      "6   MRP : ₹ 12 795.00                         Men's shoes  \n",
      "7    MRP : ₹ 5 695.00                         Men's Shoes  \n",
      "8    MRP : ₹ 6 795.00                         Men's Shoes  \n",
      "9    MRP : ₹ 7 995.00                          Men's Shoe  \n",
      "10   MRP : ₹ 8 595.00                         Men's Shoes  \n",
      "11   MRP : ₹ 6 795.00                         Skate Shoes  \n",
      "12  MRP : ₹ 11 995.00                         Men's Shoes  \n",
      "13   MRP : ₹ 3 695.00                        Men's Slides  \n",
      "14  MRP : ₹ 11 895.00                         Men's Shoes  \n",
      "15  MRP : ₹ 12 795.00                  Men's Custom Shoes  \n",
      "16   MRP : ₹ 3 695.00            Men's Road Running Shoes  \n",
      "17  MRP : ₹ 12 995.00                         Men's Shoes  \n",
      "18  MRP : ₹ 13 995.00                         Men's Shoes  \n",
      "19   MRP : ₹ 8 695.00                         Men's Shoes  \n",
      "20   MRP : ₹ 6 295.00                         Skate Shoes  \n",
      "21   MRP : ₹ 9 195.00                         Men's Shoes  \n",
      "22   MRP : ₹ 8 695.00                         Men's Shoes  \n",
      "23   MRP : ₹ 5 695.00                    Basketball Shoes  \n",
      "24  MRP : ₹ 10 295.00                       Women's Shoes  \n",
      "25   MRP : ₹ 8 695.00                       Women's Shoes  \n",
      "26  MRP : ₹ 12 795.00                       Women's Shoes  \n",
      "27   MRP : ₹ 9 695.00                       Women's Shoes  \n",
      "28  MRP : ₹ 16 995.00                       Women's Shoes  \n",
      "29   MRP : ₹ 9 695.00                       Women's Shoes  \n",
      "30   MRP : ₹ 7 495.00                       Women's Shoes  \n",
      "31  MRP : ₹ 12 795.00                       Women's shoes  \n",
      "32  MRP : ₹ 10 295.00                       Women's Shoes  \n",
      "33  MRP : ₹ 14 995.00                       Women's Shoes  \n",
      "34   MRP : ₹ 9 695.00                       Women's Shoes  \n",
      "35   MRP : ₹ 9 695.00                       Women's Shoes  \n",
      "36   MRP : ₹ 6 795.00                         Skate Shoes  \n",
      "37   MRP : ₹ 8 995.00                       Women's Shoes  \n",
      "38   MRP : ₹ 8 895.00               Women's Workout Shoes  \n",
      "39   MRP : ₹ 9 295.00                       Women's Shoes  \n",
      "40   MRP : ₹ 5 695.00                       Women's Shoes  \n",
      "41   MRP : ₹ 7 495.00  Multi-Ground Low-Top Football Boot  \n",
      "42  MRP : ₹ 12 295.00                       Women's Shoes  \n",
      "43  MRP : ₹ 13 995.00                         Men's Shoes  \n",
      "44   MRP : ₹ 5 695.00                         Men's Mules  \n",
      "45   MRP : ₹ 7 095.00                       Women's Shoes  \n",
      "46   MRP : ₹ 5 695.00                       Women's Shoes  \n",
      "47   MRP : ₹ 6 295.00                         Skate Shoes  \n",
      "48                                                         \n"
     ]
    }
   ],
   "source": [
    "import pandas as pd\n",
    "\n",
    "# Data to be added\n",
    "new_data = {\n",
    "    'ShoeName': [\n",
    "        \"Air Jordan 1 Low SE\\nWomen's Shoes\", \"Nike Dunk Low\\nWomen's Shoes\",\n",
    "        \"Just In\\nJordan Stadium 90\\nWomen's Shoes\", \"Nike Dunk Low SE\\nWomen's Shoes\",\n",
    "        \"Nike Zoom Vomero 5\\nWomen's Shoes\", \"Nike Air Force 1 '07\\nWomen's Shoes\",\n",
    "        \"Nike Air Max SC SE\\nWomen's Shoes\", \"Just In\\nNike Air Max 1\\nWomen's shoes\",\n",
    "        \"Bestseller\\nAir Jordan 1 Low SE\\nWomen's Shoes\", \"Promo Exclusion\\nNike Air Max 1 LX\\nWomen's Shoes\",\n",
    "        \"Nike Dunk Low SE\\nWomen's Shoes\", \"Promo Exclusion\\nNike Dunk Low Twist\\nWomen's ...\",\n",
    "        \"Bestseller\\nNike SB Zoom Blazer Low Pro GT\\nSk...\", \"Nike Air Force 1 Shadow\\nWomen's Shoes\",\n",
    "        \"Just In\\nNike SuperRep Go 3 Flyknit Next Natur...\", \"Nike Dunk High\\nWomen's Shoes\",\n",
    "        \"Sustainable Materials\\nNikeCourt Legacy Next N...\", \"Sustainable Materials\\nNike Tiempo Legend 10 A...\",\n",
    "        \"Nike Dunk High Premium\\nWomen's Shoes\", \"Promo Exclusion\\nNike ACG Mountain Fly 2 Low\\n...\",\n",
    "        \"Sustainable Materials\\nNike Calm\\nMen's Mules\", \"Nike Waffle Debut Vintage\\nWomen's Shoes\",\n",
    "        \"Nike Waffle Debut\\nWomen's Shoes\", \"Nike SB Force 58\\nSkate Shoes\"\n",
    "    ],\n",
    "    'no_of_colors': [\n",
    "        '1 Colour', '1 Colour', '4 Colours', '1 Colour', '1 Colour',\n",
    "        '1 Colour', '1 Colour', '5 Colours', '2 Colours', '2 Colours',\n",
    "        '1 Colour', '5 Colours', '3 Colours', '2 Colours', '6 Colours',\n",
    "        '1 Colour', '4 Colours', '3 Colours', '1 Colour', '2 Colours',\n",
    "        '1 Colour', '1 Colour', '3 Colours', '2 Colours', '3 Colours'\n",
    "    ],\n",
    "    'price': [\n",
    "        'MRP : ₹ 10 295.00', 'MRP : ₹ 8 695.00', 'MRP : ₹ 12 795.00', 'MRP : ₹ 9 695.00',\n",
    "        'MRP : ₹ 16 995.00', 'MRP : ₹ 9 695.00', 'MRP : ₹ 7 495.00', 'MRP : ₹ 12 795.00',\n",
    "        'MRP : ₹ 10 295.00', 'MRP : ₹ 14 995.00', 'MRP : ₹ 9 695.00', 'MRP : ₹ 9 695.00',\n",
    "        'MRP : ₹ 6 795.00', 'MRP : ₹ 8 995.00', 'MRP : ₹ 8 895.00', 'MRP : ₹ 9 295.00',\n",
    "        'MRP : ₹ 5 695.00', 'MRP : ₹ 7 495.00', 'MRP : ₹ 12 295.00', 'MRP : ₹ 13 995.00',\n",
    "        'MRP : ₹ 5 695.00', 'MRP : ₹ 7 095.00', 'MRP : ₹ 5 695.00', 'MRP : ₹ 6 295.00'\n",
    "    ],\n",
    "    'category': [\n",
    "        \"Women's Shoes\", \"Women's Shoes\", \"Women's Shoes\", \"Women's Shoes\", \"Women's Shoes\",\n",
    "        \"Women's Shoes\", \"Women's Shoes\", \"Women's shoes\", \"Women's Shoes\", \"Women's Shoes\",\n",
    "        \"Women's Shoes\", \"Women's Shoes\", \"Skate Shoes\", \"Women's Shoes\", \"Women's Workout Shoes\",\n",
    "        \"Women's Shoes\", \"Women's Shoes\", \"Multi-Ground Low-Top Football Boot\", \"Women's Shoes\",\n",
    "        \"Men's Shoes\", \"Men's Mules\", \"Women's Shoes\", \"Women's Shoes\", \"Skate Shoes\"\n",
    "    ]\n",
    "}\n",
    "\n",
    "df = pd.read_csv('shoes_data.csv')\n",
    "\n",
    "max_length = max(len(new_data[col]) for col in new_data)\n",
    "new_data = {col: new_data[col] + [''] * (max_length - len(new_data[col])) for col in new_data}\n",
    "\n",
    "df_new = pd.DataFrame(new_data)\n",
    "\n",
    "df_updated = pd.concat([df, df_new], ignore_index=True)\n",
    "\n",
    "df_updated.to_csv('shoes_data.csv', index=False)\n",
    "\n",
    "print(df_updated)"
   ]
  },
  {
   "cell_type": "code",
   "execution_count": 4,
   "id": "e326b0af-2061-4229-b097-c05a268dd94b",
   "metadata": {
    "tags": []
   },
   "outputs": [
    {
     "name": "stdout",
     "output_type": "stream",
     "text": [
      "                                             ShoeName  \\\n",
      "0   Bestseller\\nNike Dunk Low Retro Premium\\nMen's...   \n",
      "1            Nike Blazer Low '77 Vintage\\nMen's Shoes   \n",
      "2       Bestseller\\nNike Air Force 1 '07\\nMen's Shoes   \n",
      "3   Just In\\nNike Air Force 1 '07 Pro Tech\\nMen's ...   \n",
      "4                  Nike Court Vision Low\\nMen's Shoes   \n",
      "..                                                ...   \n",
      "93                                Y-3 Gendo Pro Model   \n",
      "94                                Y-3 Gendo Pro Model   \n",
      "95                           Ultraboost 1.0 ATR Shoes   \n",
      "96                                   Stan Smith Shoes   \n",
      "97                                                      \n",
      "\n",
      "                   no_of_colors              price     category  \n",
      "0                      1 Colour   MRP : ₹ 9 695.00  Men's Shoes  \n",
      "1                     3 Colours   MRP : ₹ 7 195.00  Men's Shoes  \n",
      "2                     2 Colours   MRP : ₹ 7 495.00  Men's Shoes  \n",
      "3                     3 Colours  MRP : ₹ 13 995.00  Men's Shoes  \n",
      "4                      1 Colour   MRP : ₹ 5 695.00  Men's Shoes  \n",
      "..                          ...                ...          ...  \n",
      "93                    3 colours         ₹69 999.00    Lifestyle  \n",
      "94              7 colours · new         ₹69 999.00    Lifestyle  \n",
      "95              4 colours · new         ₹19 999.00   sportswear  \n",
      "96  16 colours · responsive run          ₹8 999.00    originals  \n",
      "97                    2 colours                                  \n",
      "\n",
      "[98 rows x 4 columns]\n"
     ]
    }
   ],
   "source": [
    "import pandas as pd\n",
    "\n",
    "# Data to be added\n",
    "new_data = {\n",
    "    'ShoeName': [\n",
    "        \"Superstar Shoes\", \"Samba OG Shoes\", \"Samba OG Shoes\", \"Superstar Shoes\", \"Superstar Shoes\",\n",
    "        \"Ultraboost Light\", \"Ultimashow Shoes\", \"WIND RAISER SHOES\", \"Alphaboost V1 Shoes\", \"FLUIDFLOW 2.0 RUNNING SHOE\",\n",
    "        \"Ultraboost 1.0 Shoes\", \"RESTOUND SHOES\", \"ADI ZOOM SHOES\", \"HYPERON 1.0 SHOES\", \"Grand Court Cloudfoam Comfort Shoes\",\n",
    "        \"Pureboost 22 Shoes\", \"Ultraboost 1.0 Shoes\", \"RAYRUN SHOES\", \"HALICON SHOES\", \"Lite Racer Adapt 4.0 Cloudfoam Slip-On Shoes\",\n",
    "        \"FLODEAN SHOES\", \"Adilette Comfort Slides\", \"Ozelle Cloudfoam Shoes\", \"Adilette Comfort Slides\", \"EXPEREO SHOES\",\n",
    "        \"NMD_R1 Shoes\", \"RUNNING UNIFLOW SHOES\", \"Ultimashow Shoes\", \"NMD_V3 Shoes\", \"Asweetrain Shoes\",\n",
    "        \"Tracefinder Trail Running Shoes\", \"EXPEREO SHOES\", \"Ultra 4DFWD Shoes\", \"NMD_R1 Shoes\", \"Ultimashow Shoes\",\n",
    "        \"VS Pace 2.0 Shoes\", \"Advantage Base Court Lifestyle Shoes\", \"Gazelle Shoes\", \"Web BOOST Shoes\", \"NMD_R1 Shoes\",\n",
    "        \"NMD_R1 Shoes\", \"Samba Shoes\", \"Samba OG Shoes\", \"Ultraboost Light Shoes\", \"Y-3 Gendo Pro Model\", \"Y-3 Gendo Pro Model\",\n",
    "        \"Ultraboost 1.0 ATR Shoes\", \"Stan Smith Shoes\"\n",
    "    ],\n",
    "    'no_of_colors': [\n",
    "        '2 colours', '4 colours', '4 colours', '2 colours', '',\n",
    "        '3 colours', '6 colours', '2 colours', '7 colours', '',\n",
    "        '', '3 colours', '5 colours', '2 colours', '3 colours',\n",
    "        '3 colours', '4 colours', '', '2 colours', '3 colours', '5 colours',\n",
    "        '3 colours', '', '4 colours', '2 colours', '3 colours',\n",
    "        '2 colours', '3 colours', '', '6 colours', '',\n",
    "        '6 colours', '6 colours', '6 colours', '2 colours', '',\n",
    "        '3 colours', '2 colours', '2 colours', '16 colours · responsive run', '2 colours',\n",
    "        '2 colours', '3 colours', '3 colours', '3 colours', '7 colours · new', '4 colours · new',\n",
    "        '16 colours · responsive run', '2 colours'\n",
    "    ],\n",
    "    'price': [\n",
    "        '₹8 999.00', '₹10 999.00', '₹11 999.00', '₹8 999.00', '₹9 999.50',\n",
    "        '₹19 999.00', '₹3 919.50', '₹1 979.50', '₹7 199.50', '₹2 364.50',\n",
    "        '₹17 999.00', '₹4 800.00', '₹1 649.50', '₹1 499.50', '₹5 599.50',\n",
    "        '₹4 800.00', '₹17 999.00', '₹2 399.50', '₹1 999.50', '₹3 499.50',\n",
    "        '₹3 299.00', '₹3 999.00', '₹3 999.50', '₹2 385.00', '₹6 499.50',\n",
    "        '₹1 649.50', '₹7 999.50', '₹2 799.50', '₹7 999.50', '₹4 399.50',\n",
    "        '₹4 399.50', '₹2 649.50', '₹21 999.00', '₹6 499.50', '₹2 799.50',\n",
    "        '₹7 999.50', '₹3 299.50', '₹3 299.50', '₹8 999.00', '₹8 249.50', '₹6 499.50',\n",
    "        '₹14 999.00', '₹8 249.50', '₹18 999.00', '₹69 999.00', '₹69 999.00',\n",
    "        '₹19 999.00', '₹8 999.00'\n",
    "    ],\n",
    "    'category': [\n",
    "        \"originals\", \"originals\", \"originals\", \"Men originals\", \"Men originals\",\n",
    "        \"Men Running\", \"Men sportswear\", \"Men Running\", \"Men sportswear\", \"Men Running\",\n",
    "        \"Men sportswear\", \"Men Running\", \"Men Running\", \"Men Running\", \"Men sportswear\",\n",
    "        \"Running\", \"Men sportswear\", \"Men Running\", \"Men Walking\", \"Men Running\", \"Men sportswear\",\n",
    "        \"Men Walking\", \"sportswear\", \"Men Running\", \"Men Walking\", \"Men originals\",\n",
    "        \"Men Running\", \"Men sportswear\", \"Men originals\", \"Men Training\", \"Men Outdoor\",\n",
    "        \"Men Running\", \"Running\", \"Men originals\", \"Men sportswear\", \"Men Skateboarding\",\n",
    "        \"Men sportswear\", \"originals\", \"Running\", \"Men originals\", \"Running\",\n",
    "        \"originals\", \"Men originals\", \"Running\", \"Lifestyle\", \"Lifestyle\",\n",
    "        \"sportswear\", \"originals\"\n",
    "    ]\n",
    "}\n",
    "\n",
    "df = pd.read_csv('shoes_data.csv')\n",
    "\n",
    "max_length = max(len(new_data[col]) for col in new_data)\n",
    "new_data = {col: new_data[col] + [''] * (max_length - len(new_data[col])) for col in new_data}\n",
    "\n",
    "df_new = pd.DataFrame(new_data)\n",
    "\n",
    "df_updated = pd.concat([df, df_new], ignore_index=True)\n",
    "\n",
    "df_updated.to_csv('shoes_data.csv', index=False)\n",
    "\n",
    "print(df_updated)"
   ]
  },
  {
   "cell_type": "code",
   "execution_count": 5,
   "id": "d404f457-a43f-4fd6-a2f3-9d5fa30a0468",
   "metadata": {
    "tags": []
   },
   "outputs": [
    {
     "name": "stdout",
     "output_type": "stream",
     "text": [
      "                                              ShoeName no_of_colors  \\\n",
      "0    Bestseller\\nNike Dunk Low Retro Premium\\nMen's...     1 Colour   \n",
      "1             Nike Blazer Low '77 Vintage\\nMen's Shoes    3 Colours   \n",
      "2        Bestseller\\nNike Air Force 1 '07\\nMen's Shoes    2 Colours   \n",
      "3    Just In\\nNike Air Force 1 '07 Pro Tech\\nMen's ...    3 Colours   \n",
      "4                   Nike Court Vision Low\\nMen's Shoes     1 Colour   \n",
      "..                                                 ...          ...   \n",
      "147                                    Racer TR Slides                \n",
      "148                                                       2 colours   \n",
      "149                                                                   \n",
      "150                                                       6 colours   \n",
      "151                                                       2 colours   \n",
      "\n",
      "                 price     category  \n",
      "0     MRP : ₹ 9 695.00  Men's Shoes  \n",
      "1     MRP : ₹ 7 195.00  Men's Shoes  \n",
      "2     MRP : ₹ 7 495.00  Men's Shoes  \n",
      "3    MRP : ₹ 13 995.00  Men's Shoes  \n",
      "4     MRP : ₹ 5 695.00  Men's Shoes  \n",
      "..                 ...          ...  \n",
      "147          ₹3 150.00   sportswear  \n",
      "148          ₹5 999.00               \n",
      "149          ₹2 799.50               \n",
      "150                                  \n",
      "151                                  \n",
      "\n",
      "[152 rows x 4 columns]\n"
     ]
    }
   ],
   "source": [
    "import pandas as pd\n",
    "\n",
    "# Data to be added\n",
    "new_data = {\n",
    "    'ShoeName': [\n",
    "        \"Superstar Shoes\", \"Superstar Shoes\", \"Samba OG Shoes\", \"Samba OG Shoes\", \"Gazelle Shoes\",\n",
    "        \"Adilette Ayoon Slides\", \"Adilette Clogs\", \"BREEZEWALK SHOES\", \"Avryn Shoes\",\n",
    "        \"VULC RAID3R Lifestyle Skateboarding Slip-On Ca...\", \"Island Club Adilette 22 Slides\",\n",
    "        \"X Crazyfast.2 Firm Ground Boots\", \"Adi2000 X Shoes\", \"Adilette Boost Slides\",\n",
    "        \"Superstar XLG Shoes\", \"Supernova 2 x Marimekko Shoes\", \"Adilette Aqua Slides\",\n",
    "        \"X Crazyfast.3 Firm Ground Boots\", \"NMD_R1 V3 Shoes\", \"Rivalry Low Shoes\", \"Forum Low Shoes\",\n",
    "        \"Puremotion Adapt 2.0 Shoes\", \"Adissage Slides\", \"Valentine's Day Ultraboost 1.0 Shoes\",\n",
    "        \"AZUREWALK SHOES\", \"ADILETTE SHOWER\", \"Adilette Comfort Sandals\",\n",
    "        \"Hoops 3.0 Mid Classic Vintage Shoes\", \"Court Platform Shoes\", \"Copa Pure II.1 Firm Ground Boots\",\n",
    "        \"PUDING ADI SANDALS\", \"Forum Low Shoes\", \"Nebzed Cloudfoam Lifestyle Running Shoes\",\n",
    "        \"X_PLRBOOST Shoes\", \"Coreracer Shoes\", \"Grand Court Base Lifestyle Court Casual Shoes\",\n",
    "        \"Pureboost 22 Shoes\", \"Adilette Comfort Slides\", \"Adilette Comfort Slides\", \"SHEENWALK SHOES\",\n",
    "        \"Ultimashow Shoes\", \"SHEENWALK SHOES\", \"Galaxy 6 Shoes\", \"Galaxy 6 Shoes\", \"Ultra 4DFWD Shoes\",\n",
    "        \"Forum Low Shoes\", \"Crazy IIInfinity 003 Shoes\", \"VULC RAID3R Lifestyle Skateboarding Slip-On Ca...\",\n",
    "        \"Lite Racer 3.0 Shoes\", \"Racer TR Slides\"\n",
    "    ],\n",
    "    'no_of_colors': [\n",
    "        '2 colours', '', '4 colours', '4 colours', '6 colours',\n",
    "        '6 colours', '5 colours', '3 colours', '6 colours',\n",
    "        '2 colours', '4 colours', '3 colours', '', '3 colours',\n",
    "        '4 colours', '', '', '7 colours', '3 colours', '',\n",
    "        '2 colours', '', '2 colours', '', '6 colours',\n",
    "        '3 colours', '3 colours', '3 colours', '', '2 colours',\n",
    "        '', '2 colours', '', '2 colours', '', '3 colours',\n",
    "        '2 colours', '', '4 colours', '3 colours', '3 colours',\n",
    "        '', '4 colours', '3 colours', '3 colours', '4 colours',\n",
    "        '', '7 colours', '2 colours', '', '2 colours',\n",
    "        '', '6 colours', '2 colours'\n",
    "    ],\n",
    "    'price': [\n",
    "        '₹8 999.00', '₹4 499.50', '₹10 999.00', '₹11 999.00', '₹10 999.00',\n",
    "        '₹2 499.50', '₹3 219.50', '₹1 499.50', '₹9 799.50', '₹2 799.50',\n",
    "        '₹5 999.00', '₹11 999.00', '₹6 599.50', '₹5 999.00', '₹2 999.50',\n",
    "        '₹11 999.00', '₹4 000.00', '₹1 999.00', '₹7 999.00', '₹7 200.00',\n",
    "        '₹8 999.00', '₹5 999.50', '₹3 150.00', '₹2 999.00', '₹12 599.50',\n",
    "        '₹3 679.50', '₹1 200.00', '₹1 840.00', '', '', '₹11 999.00',\n",
    "        '', '₹6 599.50', '₹2 999.50', '', '₹11 999.00', '', '₹5 999.50',\n",
    "        '₹3 150.00', '', '₹4 599.00', '₹3 150.00', '₹2 999.00', '₹2 999.50',\n",
    "        '', '₹12 999.00', '', '₹69 999.00', '', '₹3 150.00',\n",
    "        '₹5 999.00', '₹2 799.50'\n",
    "    ],\n",
    "    'category': [\n",
    "        \"originals\", \"Women Lifestyle\", \"originals\", \"originals\", \"originals\",\n",
    "        \"Women Lifestyle\", \"sportswear\", \"Women Walking\", \"Running\", \"sportswear\",\n",
    "        \"originals\", \"Football\", \"Women originals\", \"Swim\", \"originals\",\n",
    "        \"Women Running\", \"sportswear\", \"Football\", \"Women originals\", \"originals\",\n",
    "        \"Women originals\", \"Women originals\", \"Women Running\", \"sportswear\",\n",
    "        \"Women Running\", \"Women Swim\", \"sportswear\", \"Basketball\", \"Women Skateboarding\",\n",
    "        \"Football\", \"Women Outdoor\", \"originals\", \"Women sportswear\", \"Women sportswear\",\n",
    "        \"Women Running\", \"sportswear\", \"sportswear\", \"Women Walking\", \"Women Running\",\n",
    "        \"Women Running\", \"Women sportswear\", \"Women Running\", \"Women Running\", \"Women Running\",\n",
    "        \"Women sportswear\", \"Women Running\", \"Women Tennis\", \"Running\", \"sportswear\",\n",
    "        \"sportswear\"\n",
    "    ]\n",
    "}\n",
    "\n",
    "df = pd.read_csv('shoes_data.csv')\n",
    "\n",
    "max_length = max(len(new_data[col]) for col in new_data)\n",
    "new_data = {col: new_data[col] + [''] * (max_length - len(new_data[col])) for col in new_data}\n",
    "\n",
    "df_new = pd.DataFrame(new_data)\n",
    "\n",
    "df_updated = pd.concat([df, df_new], ignore_index=True)\n",
    "\n",
    "df_updated.to_csv('shoes_data.csv', index=False)\n",
    "\n",
    "print(df_updated)"
   ]
  },
  {
   "cell_type": "code",
   "execution_count": 6,
   "id": "b427691d-2e60-4e6e-ab34-700d27e9cf69",
   "metadata": {
    "tags": []
   },
   "outputs": [
    {
     "name": "stdout",
     "output_type": "stream",
     "text": [
      "                                              ShoeName no_of_colors  \\\n",
      "0    Bestseller\\nNike Dunk Low Retro Premium\\nMen's...     1 Colour   \n",
      "1             Nike Blazer Low '77 Vintage\\nMen's Shoes    3 Colours   \n",
      "2        Bestseller\\nNike Air Force 1 '07\\nMen's Shoes    2 Colours   \n",
      "3    Just In\\nNike Air Force 1 '07 Pro Tech\\nMen's ...    3 Colours   \n",
      "4                   Nike Court Vision Low\\nMen's Shoes     1 Colour   \n",
      "..                                                 ...          ...   \n",
      "172  Cell Rapid Camo Men's Running Shoes PUMA Black...     2 COLORS   \n",
      "173  SOFTRIDE One4All Men's Running Shoes High Rise...      1 COLOR   \n",
      "174   Softride Enzo Evo Running Shoes Flat Medium Gray     2 COLORS   \n",
      "175                                                         1 COLOR   \n",
      "176                                                        6 COLORS   \n",
      "\n",
      "                 price                              category   Price  \n",
      "0     MRP : ₹ 9 695.00                           Men's Shoes     NaN  \n",
      "1     MRP : ₹ 7 195.00                           Men's Shoes     NaN  \n",
      "2     MRP : ₹ 7 495.00                           Men's Shoes     NaN  \n",
      "3    MRP : ₹ 13 995.00                           Men's Shoes     NaN  \n",
      "4     MRP : ₹ 5 695.00                           Men's Shoes     NaN  \n",
      "..                 ...                                   ...     ...  \n",
      "172                NaN   Cell Rapid Camo Men's Running Shoes  $40.99  \n",
      "173                NaN  SOFTRIDE One4All Men's Running Shoes  $37.50  \n",
      "174                NaN       Softride Enzo Evo Running Shoes  $42.50  \n",
      "175                NaN                                                \n",
      "176                NaN                                                \n",
      "\n",
      "[177 rows x 5 columns]\n"
     ]
    }
   ],
   "source": [
    "import pandas as pd\n",
    "\n",
    "# Data to be added\n",
    "new_data = {\n",
    "    'ShoeName': [\n",
    "        \"Axelion NXT Camo Men's Running Shoes Puma Black-Iron Gate\", \n",
    "        \"Viz Runner Repeat Wide Men's Running Shoes PUMA Black-Castlerock\", \n",
    "        \"Axelion Fade Men's Running Shoes For All Time Red-PUMA Black\", \n",
    "        \"Viz Runner Repeat Wide Men's Running Shoes Puma Black-Iron Gate\", \n",
    "        \"Star Vital Refresh Men's Running Shoes PUMA Black-CASTLEROCK\", \n",
    "        \"Softride Enzo Evo Running Shoes Puma Black-Castlerock\", \n",
    "        \"Axelion Fade Men's Running Shoes Team Light Blue-Puma White\", \n",
    "        \"Cell Rapid Running Shoes For All Time Red-PUMA Black\", \n",
    "        \"Axelion Refresh Men's Running Shoes PUMA Black-Iron Gate\", \n",
    "        \"Axelion Spark Men's Running Shoes CASTLEROCK-Black\", \n",
    "        \"Star Vital Men's Training Shoes PUMA Black-Castlerock\", \n",
    "        \"Star Vital Outline Men's Running Shoes PUMA Black-CASTLEROCK\", \n",
    "        \"Cell Rapid Running Shoes Inky Blue-PUMA Black\", \n",
    "        \"Star Vital Refresh Men's Running Shoes PUMA Black-CASTLEROCK\", \n",
    "        \"Transport Running Shoes Puma Black-Puma Black\", \n",
    "        \"Softride Enzo Evo Better Running Shoes Cool Grey-Puma Black\", \n",
    "        \"Axelion NXT Men's Running Shoes Puma Black-Ultra Gray\", \n",
    "        \"Aviator Men's Running Shoes Puma Black-CASTLEROCK\", \n",
    "        \"PUMA x FIRST MILE Electrify NITRO™ 3 Men's Running Shoes Puma Black-Iron Gate\", \n",
    "        \"Axelion NXT Men's Running Shoes Peacoat-Puma White\", \n",
    "        \"Cell Rapid Camo Men's Running Shoes PUMA Black-Iron Gate\", \n",
    "        \"SOFTRIDE One4All Men's Running Shoes High Rise-Puma Black\", \n",
    "        \"Softride Enzo Evo Running Shoes Flat Medium Gray\"\n",
    "    ],\n",
    "    'category': [\n",
    "        \"Axelion NXT Camo Men's Running Shoes\", \"Viz Runner Repeat Wide Men's Running Shoes\", \n",
    "        \"Axelion Fade Men's Running Shoes\", \"Viz Runner Repeat Wide Men's Running Shoes\", \n",
    "        \"Star Vital Refresh Men's Running Shoes\", \"Softride Enzo Evo Running Shoes\", \n",
    "        \"Axelion Fade Men's Running Shoes\", \"Cell Rapid Running Shoes\", \n",
    "        \"Axelion Refresh Men's Running Shoes\", \"Axelion Spark Men's Running Shoes\", \n",
    "        \"Star Vital Men's Training Shoes\", \"Star Vital Outline Men's Running Shoes\", \n",
    "        \"Cell Rapid Running Shoes\", \"Star Vital Refresh Men's Running Shoes\", \n",
    "        \"Transport Running Shoes\", \"Softride Enzo Evo Better Running Shoes\", \n",
    "        \"Axelion NXT Men's Running Shoes\", \"Aviator Men's Running Shoes\", \n",
    "        \"PUMA x FIRST MILE Electrify NITRO™ 3 Men's Running Shoes\", \n",
    "        \"Axelion NXT Men's Running Shoes\", \"Cell Rapid Camo Men's Running Shoes\", \n",
    "        \"SOFTRIDE One4All Men's Running Shoes\", \"Softride Enzo Evo Running Shoes\"\n",
    "    ],\n",
    "    'Price': [\n",
    "        \"$40.00\", \"$32.50\", \"$50.99\", \"$32.50\", \"$35.00\", \"$69.99\", \"$50.99\", \"$42.50\", \"$50.99\", \"$50.99\", \n",
    "        \"$32.50\", \"$32.50\", \"$42.50\", \"$35.00\", \"$30.99\", \"$37.50\", \"$40.00\", \"$45.99\", \"$40.00\", \"$48.99\", \n",
    "        \"$40.99\", \"$37.50\", \"$42.50\"\n",
    "    ],\n",
    "    'no_of_colors': [\n",
    "        \"1 COLOR\", \"3 COLORS\", \"2 COLORS\", \"3 COLORS\", \"2 COLORS\", \"6 COLORS\", \"2 COLORS\", \"2 COLORS\", \n",
    "        \"2 COLORS\", \"1 COLOR\", \"1 COLOR\", \"1 COLOR\", \"2 COLORS\", \"2 COLORS\", \"5 COLORS\", \"1 COLOR\", \n",
    "        \"3 COLORS\", \"1 COLOR\", \"1 COLOR\", \"3 COLORS\", \"2 COLORS\", \"1 COLOR\", \"2 COLORS\", \"1 COLOR\", \n",
    "        \"6 COLORS\"\n",
    "    ]\n",
    "}\n",
    "\n",
    "df = pd.read_csv('shoes_data.csv')\n",
    "\n",
    "max_length = max(len(new_data[col]) for col in new_data)\n",
    "new_data = {col: new_data[col] + [''] * (max_length - len(new_data[col])) for col in new_data}\n",
    "\n",
    "df_new = pd.DataFrame(new_data)\n",
    "\n",
    "df_updated = pd.concat([df, df_new], ignore_index=True)\n",
    "\n",
    "df_updated.to_csv('shoes_data.csv', index=False)\n",
    "\n",
    "print(df_updated)"
   ]
  },
  {
   "cell_type": "code",
   "execution_count": 8,
   "id": "e0e4592c-becf-4be7-bc33-6f3c7937c613",
   "metadata": {
    "tags": []
   },
   "outputs": [
    {
     "name": "stdout",
     "output_type": "stream",
     "text": [
      "                                              ShoeName no_of_colors  \\\n",
      "0    Bestseller\\nNike Dunk Low Retro Premium\\nMen's...     1 Colour   \n",
      "1             Nike Blazer Low '77 Vintage\\nMen's Shoes    3 Colours   \n",
      "2        Bestseller\\nNike Air Force 1 '07\\nMen's Shoes    2 Colours   \n",
      "3    Just In\\nNike Air Force 1 '07 Pro Tech\\nMen's ...    3 Colours   \n",
      "4                   Nike Court Vision Low\\nMen's Shoes     1 Colour   \n",
      "..                                                 ...          ...   \n",
      "195     Trinity Women's Sneakers PUMA White-PUMA Black     3 COLORS   \n",
      "196  Better Foam Prowl Slip On Women's Training Sho...      1 COLOR   \n",
      "197  Softride Sophia 2 Premium Women's Running Shoe...      1 COLOR   \n",
      "198  Softride Stakd Women's Running Shoes PUMA Blac...     2 COLORS   \n",
      "199    Prowl Slip On Women's Training Shoes Puma Black      1 COLOR   \n",
      "\n",
      "                 price                                          category  \\\n",
      "0     MRP : ₹ 9 695.00                                       Men's Shoes   \n",
      "1     MRP : ₹ 7 195.00                                       Men's Shoes   \n",
      "2     MRP : ₹ 7 495.00                                       Men's Shoes   \n",
      "3    MRP : ₹ 13 995.00                                       Men's Shoes   \n",
      "4     MRP : ₹ 5 695.00                                       Men's Shoes   \n",
      "..                 ...                                               ...   \n",
      "195                NaN                          Trinity Women's Sneakers   \n",
      "196                NaN  Better Foam Prowl Slip On Women's Training Shoes   \n",
      "197                NaN   Softride Sophia 2 Premium Women's Running Shoes   \n",
      "198                NaN              Softride Stakd Women's Running Shoes   \n",
      "199                NaN              Prowl Slip On Women's Training Shoes   \n",
      "\n",
      "      Price  \n",
      "0       NaN  \n",
      "1       NaN  \n",
      "2       NaN  \n",
      "3       NaN  \n",
      "4       NaN  \n",
      "..      ...  \n",
      "195  $32.50  \n",
      "196  $35.00  \n",
      "197  $42.50  \n",
      "198  $32.50  \n",
      "199          \n",
      "\n",
      "[200 rows x 5 columns]\n"
     ]
    }
   ],
   "source": [
    "import pandas as pd\n",
    "\n",
    "# Data to be added\n",
    "new_data = {\n",
    "    'ShoeName': [\n",
    "        \"Better Foam Prowl Slip-On Wide Women's Training Shoes Puma Black-Iron Gate\", \n",
    "        \"Star Vital Women's Training Shoes PUMA Black-CASTLEROCK\", \n",
    "        \"Riaze Prowl Women’s Training Shoes Puma Black-Puma Silver\", \n",
    "        \"Adelina Women’s Ballet Shoes Puma Black-Puma White\", \n",
    "        \"Defy Mid Women's Training Shoes Puma Black-Gold\", \n",
    "        \"Soft ride Flair Women's Running Shoes PUMA Black-Puma White\", \n",
    "        \"Palermo Women's Leather Sneakers PUMA White-Vapor Blue\", \n",
    "        \"Better Foam Prowl Slip On Women's Running Sneakers Puma Black-Iron Gate\", \n",
    "        \"Suede Classic XXI Women's Sneakers Icy Blue-Puma Silver\", \n",
    "        \"Defy Varsity Mid Women's Sneakers Puma White-Puma Black\", \n",
    "        \"Raize Prowl Speckle Women's Running Shoes Puma Black-Puma White\", \n",
    "        \"Ella Lace Up Women's Shoes Puma Black-Puma White\", \n",
    "        \"Softride Sophia Slip-on Women's Running Shoes Puma Black-Iron Gate\", \n",
    "        \"Riaze Prowl Rainbow Women's Sneakers Puma Black-Puma White\", \n",
    "        \"Ella Lace Up Women's Shoes Puma White-Puma Silver\", \n",
    "        \"CA Pro PRM Women's Sneakers Feather Gray-Warm Gray\", \n",
    "        \"Axelion Metallic Watercolor Women's Running Shoes Puma Black-Iron Gate\", \n",
    "        \"Carina 2.0 Women's Sneakers Puma White-Puma White\", \n",
    "        \"Trinity Women's Sneakers PUMA White-PUMA Black\", \n",
    "        \"Better Foam Prowl Slip On Women's Training Shoes Puma Black\", \n",
    "        \"Softride Sophia 2 Premium Women's Running Shoes Puma Black-Puma Silver\", \n",
    "        \"Softride Stakd Women's Running Shoes PUMA Black-Puma White\", \n",
    "        \"Prowl Slip On Women's Training Shoes Puma Black\"\n",
    "    ],\n",
    "    'category': [\n",
    "        \"Better Foam Prowl Slip-On Wide Women's Training Shoes\", \"Star Vital Women's Training Shoes\", \n",
    "        \"Riaze Prowl Women’s Training Shoes\", \"Adelina Women’s Ballet Shoes\", \n",
    "        \"Defy Mid Women's Training Shoes\", \"Soft ride Flair Women's Running Shoes\", \n",
    "        \"Palermo Women's Leather Sneakers\", \"Better Foam Prowl Slip On Women's Running Sneakers\", \n",
    "        \"Suede Classic XXI Women's Sneakers\", \"Defy Varsity Mid Women's Sneakers\", \n",
    "        \"Raize Prowl Speckle Women's Running Shoes\", \"Ella Lace Up Women's Shoes\", \n",
    "        \"Softride Sophia Slip-on Women's Running Shoes\", \"Riaze Prowl Rainbow Women's Sneakers\", \n",
    "        \"Ella Lace Up Women's Shoes\", \"CA Pro PRM Women's Sneakers\", \n",
    "        \"Axelion Metallic Watercolor Women's Running Shoes\", \"Carina 2.0 Women's Sneakers\", \n",
    "        \"Trinity Women's Sneakers\", \"Better Foam Prowl Slip On Women's Training Shoes\", \n",
    "        \"Softride Sophia 2 Premium Women's Running Shoes\", \"Softride Stakd Women's Running Shoes\", \n",
    "        \"Prowl Slip On Women's Training Shoes\"\n",
    "    ],\n",
    "    'Price': [\n",
    "        \"$35.99\", \"$32.50\", \"$42.50\", \"$25.00\", \"$79.99\", \"$40.99\", \"$32.50\", \"$39.99\", \n",
    "        \"$50.00\", \"$79.99\", \"$30.00\", \"$42.99\", \"$42.50\", \"$30.00\", \"$63.99\", \"$40.00\", \n",
    "        \"$35.99\", \"$45.00\", \"$32.50\", \"$35.00\", \"$42.50\", \"$32.50\"\n",
    "    ],\n",
    "    'no_of_colors': [\n",
    "        \"1 COLOR\", \"2 COLORS\", \"1 COLOR\", \"2 COLORS\", \"1 COLOR\", \"2 COLORS\", \"2 COLORS\", \"1 COLOR\", \n",
    "        \"7 COLORS\", \"1 COLOR\", \"1 COLOR\", \"2 COLORS\", \"1 COLOR\", \"1 COLOR\", \"2 COLORS\", \"1 COLOR\", \n",
    "        \"1 COLOR\", \"2 COLORS\", \"3 COLORS\", \"1 COLOR\", \"1 COLOR\", \"2 COLORS\", \"1 COLOR\"\n",
    "    ]\n",
    "}\n",
    "\n",
    "df = pd.read_csv('shoes_data.csv')\n",
    "\n",
    "max_length = max(len(new_data[col]) for col in new_data)\n",
    "new_data = {col: new_data[col] + [''] * (max_length - len(new_data[col])) for col in new_data}\n",
    "\n",
    "df_new = pd.DataFrame(new_data)\n",
    "\n",
    "df_updated = pd.concat([df, df_new], ignore_index=True)\n",
    "\n",
    "df_updated.to_csv('shoes_data.csv', index=False)\n",
    "\n",
    "print(df_updated)"
   ]
  },
  {
   "cell_type": "code",
   "execution_count": 9,
   "id": "ec73cd73-1ba5-49c6-a696-69b469b06171",
   "metadata": {
    "tags": []
   },
   "outputs": [
    {
     "name": "stdout",
     "output_type": "stream",
     "text": [
      "                                              ShoeName no_of_colors  \\\n",
      "0    Bestseller\\nNike Dunk Low Retro Premium\\nMen's...     1 Colour   \n",
      "1             Nike Blazer Low '77 Vintage\\nMen's Shoes    3 Colours   \n",
      "2        Bestseller\\nNike Air Force 1 '07\\nMen's Shoes    2 Colours   \n",
      "3    Just In\\nNike Air Force 1 '07 Pro Tech\\nMen's ...    3 Colours   \n",
      "4                   Nike Court Vision Low\\nMen's Shoes     1 Colour   \n",
      "..                                                 ...          ...   \n",
      "219           Skechers Slip-ins Work: Cankton - Faison     2 Colors   \n",
      "220           Skechers Slip-ins Work: Summits - Colsin      1 Color   \n",
      "221        Skechers Slip-ins: GO WALK Max - Free Hands      1 Color   \n",
      "222    Skechers Slip-ins Work: D'Lux Walker SR - Joden      1 Color   \n",
      "223        Skechers Slip-ins: Ultra Flex 3.0 - New Arc                \n",
      "\n",
      "                 price     category    Price  \n",
      "0     MRP : ₹ 9 695.00  Men's Shoes      NaN  \n",
      "1     MRP : ₹ 7 195.00  Men's Shoes      NaN  \n",
      "2     MRP : ₹ 7 495.00  Men's Shoes      NaN  \n",
      "3    MRP : ₹ 13 995.00  Men's Shoes      NaN  \n",
      "4     MRP : ₹ 5 695.00  Men's Shoes      NaN  \n",
      "..                 ...          ...      ...  \n",
      "219                NaN        MEN'S  $100.00  \n",
      "220                NaN        MEN'S   $75.00  \n",
      "221                NaN        MEN'S   $75.00  \n",
      "222                NaN        MEN'S   $95.00  \n",
      "223                NaN        MEN'S           \n",
      "\n",
      "[224 rows x 5 columns]\n"
     ]
    }
   ],
   "source": [
    "new_data = {\n",
    "    'ShoeName': [\n",
    "        \"Slip-ins: Summits - High Range\", \"Skechers Slip-ins Relaxed Fit: Parson - Oswin\", \n",
    "        \"Skechers Slip-ins: Ultra Flex 3.0 - Smooth Step\", \"Skechers Slip-ins: After Burn - Grill Captain\", \n",
    "        \"Slip-ins: Summits - Key Pace\", \"Skechers Slip-ins: GO WALK Arch Fit - Simplicity\", \n",
    "        \"Skechers Slip-ins: Arch Fit 2.0 - Look Ahead\", \"Skechers Slip-ins: Max Cushioning - Advantageous\", \n",
    "        \"Skechers Slip-ins: Ultra Flex 3.0 - Right Away\", \"Skechers Slip-ins: Summits AT\", \n",
    "        \"Skechers Slip-ins: Arch Fit 2.0 - Grand Select 2\", \"Skechers Slip-ins: Skech-Air Envoy - Emissary\", \n",
    "        \"Skechers Slip-ins RF: Parson - Ralven\", \"Skechers Slip-ins RF Work: Max Cushioning Elite\", \n",
    "        \"Skechers Slip-ins Snoop Dogg: Uno - Laid Back\", \"Skechers Slip-ins: BOBS Sport Squad Chaos\", \n",
    "        \"Skechers Slip-ins: Max Cushioning Premier\", \"Skechers Slip-ins: GO WALK 6 - Easy On\", \n",
    "        \"Skechers Slip-ins: Parson - Dewitt\", \"Skechers Slip-ins Work: Cankton - Faison\", \n",
    "        \"Skechers Slip-ins Work: Summits - Colsin\", \"Skechers Slip-ins: GO WALK Max - Free Hands\", \n",
    "        \"Skechers Slip-ins Work: D'Lux Walker SR - Joden\", \"Skechers Slip-ins: Ultra Flex 3.0 - New Arc\"\n",
    "    ],\n",
    "    'category': [\n",
    "        \"MEN'S\", \"MEN'S\", \"MEN'S\", \"MEN'S\", \"MEN'S\", \"MEN'S\", \"MEN'S\", \"MEN'S\", \n",
    "        \"MEN'S\", \"MEN'S\", \"MEN'S\", \"MEN'S\", \"MEN'S\", \"MEN'S\", \"MEN'S\", \"MEN'S\", \n",
    "        \"MEN'S\", \"MEN'S\", \"MEN'S\", \"MEN'S\", \"MEN'S\", \"MEN'S\", \"MEN'S\", \"MEN'S\"\n",
    "    ],\n",
    "    'Price': [\n",
    "        \"$75.00\", \"$90.00\", \"$90.00\", \"$95.00\", \"$75.00\", \"$100.00\", \"$105.00\", \"$110.00\", \n",
    "        \"$90.00\", \"$75.00\", \"$100.00\", \"$100.00\", \"$80.00\", \"$110.00\", \"$100.00\", \"$70.00\", \n",
    "        \"$110.00\", \"$95.00\", \"$80.00\", \"$100.00\", \"$75.00\", \"$75.00\", \"$95.00\"\n",
    "    ],\n",
    "    'no_of_colors': [\n",
    "        \"3 Colors\", \"5 Colors\", \"3 Colors\", \"1 Color\", \"2 Colors\", \"1 Color\", \"2 Colors\", \"3 Colors\", \n",
    "        \"5 Colors\", \"2 Colors\", \"2 Colors\", \"1 Color\", \"4 Colors\", \"1 Color\", \"5 Colors\", \"4 Colors\", \n",
    "        \"3 Colors\", \"3 Colors\", \"2 Colors\", \"2 Colors\", \"1 Color\", \"1 Color\", \"1 Color\"\n",
    "    ]\n",
    "}\n",
    "\n",
    "df = pd.read_csv('shoes_data.csv')\n",
    "\n",
    "max_length = max(len(new_data[col]) for col in new_data)\n",
    "new_data = {col: new_data[col] + [''] * (max_length - len(new_data[col])) for col in new_data}\n",
    "\n",
    "df_new = pd.DataFrame(new_data)\n",
    "\n",
    "df_updated = pd.concat([df, df_new], ignore_index=True)\n",
    "\n",
    "df_updated.to_csv('shoes_data.csv', index=False)\n",
    "\n",
    "print(df_updated)"
   ]
  },
  {
   "cell_type": "code",
   "execution_count": 10,
   "id": "3b92dd80-96cd-4621-8dab-9bf24050b842",
   "metadata": {
    "tags": []
   },
   "outputs": [
    {
     "name": "stdout",
     "output_type": "stream",
     "text": [
      "                                              ShoeName no_of_colors  \\\n",
      "0    Bestseller\\nNike Dunk Low Retro Premium\\nMen's...     1 Colour   \n",
      "1             Nike Blazer Low '77 Vintage\\nMen's Shoes    3 Colours   \n",
      "2        Bestseller\\nNike Air Force 1 '07\\nMen's Shoes    2 Colours   \n",
      "3    Just In\\nNike Air Force 1 '07 Pro Tech\\nMen's ...    3 Colours   \n",
      "4                   Nike Court Vision Low\\nMen's Shoes     1 Colour   \n",
      "..                                                 ...          ...   \n",
      "245                                           ARCH FIT                \n",
      "246                        COZY CAMPFIRE - MEANT TO BE                \n",
      "247                             GO WALK 5 - TRUE CATCH                \n",
      "248                                                                   \n",
      "249                                                                   \n",
      "\n",
      "                 price     category      Price  \n",
      "0     MRP : ₹ 9 695.00  Men's Shoes        NaN  \n",
      "1     MRP : ₹ 7 195.00  Men's Shoes        NaN  \n",
      "2     MRP : ₹ 7 495.00  Men's Shoes        NaN  \n",
      "3    MRP : ₹ 13 995.00  Men's Shoes        NaN  \n",
      "4     MRP : ₹ 5 695.00  Men's Shoes        NaN  \n",
      "..                 ...          ...        ...  \n",
      "245                NaN        Women  ₹6,374.00  \n",
      "246                NaN        Women  ₹5,999.00  \n",
      "247                NaN        Women  ₹1,999.00  \n",
      "248                NaN        Women             \n",
      "249                NaN        Women             \n",
      "\n",
      "[250 rows x 5 columns]\n"
     ]
    }
   ],
   "source": [
    "import pandas as pd\n",
    "\n",
    "# Data to be added\n",
    "new_data_women = {\n",
    "    'ShoeName': [\n",
    "        \"UNO - EVERYWEAR\", \"SKECH-LITE PRO-PERFECT TIME\", \"SKECH-LITE PRO-PERFECT TIME\", \n",
    "        \"UNO - EVERYWEAR\", \"ULTRA FLEX 3.0-BEST TIME\", \"ULTRA FLEX 3.0-BEST TIME\", \n",
    "        \"D'LUX FITNESS-NEW MOXIE\", \"UP-LIFTED\", \"D'LUX COMFORT-GLOW TIME\", \n",
    "        \"D'LUX WALKER-LET IT GLOW\", \"ARCH FIT UPLIFT\", \"SUNNY STREET - UNICORNO AVE\", \n",
    "        \"ARCH FIT - OHANA KITTY\", \"COZY CAMPFIRE - MEANT TO BE\", \"SKECH-AIR ELEMENT 2.0-AMUSE M\", \n",
    "        \"TOO COZY-CUTIE PUPZ\", \"UNO 2 - PATHWAY\", \"TAXI\", \"MUNO\", \n",
    "        \"SKECH-AIR DYNAMIGHT-LAID OUT\", \"KEEPSAKES - ICE ANGEL\", \"ARCH FIT\", \n",
    "        \"COZY CAMPFIRE - MEANT TO BE\", \"GO WALK 5 - TRUE CATCH\"\n",
    "    ],\n",
    "    'category': [\n",
    "        \"Women\", \"Women\", \"Women\", \"Women\", \"Women\", \"Women\", \"Women\", \"Women\", \n",
    "        \"Women\", \"Women\", \"Women\", \"Women\", \"Women\", \"Women\", \"Women\", \"Women\", \n",
    "        \"Women\", \"Women\", \"Women\", \"Women\", \"Women\", \"Women\", \"Women\", \"Women\", \n",
    "        \"Women\", \"Women\"\n",
    "    ],\n",
    "    'Price': [\n",
    "        \"₹6,999.00\", \"₹5,999.00\", \"₹5,999.00\", \"₹6,999.00\", \"₹6,999.00\", \"₹6,999.00\", \n",
    "        \"₹8,499.00\", \"₹4,499.00\", \"₹6,799.00\", \"₹5,249.00\", \"₹4,499.00\", \"₹8,999.00\", \n",
    "        \"₹1,999.00\", \"₹5,999.00\", \"₹8,999.00\", \"₹4,999.00\", \"₹8,999.00\", \"₹7,999.00\", \n",
    "        \"₹8,999.00\", \"₹5,999.00\", \"₹4,499.00\", \"₹6,374.00\", \"₹5,999.00\", \"₹1,999.00\"\n",
    "    ],\n",
    "    'no_of_colors': [\n",
    "        \"\", \"\", \"\", \"\", \"\", \"\", \"\", \"\", \"\", \"\", \"\", \"\", \"\", \"\", \"\", \"\", \"\", \"\", \"\", \"\", \"\", \"\", \"\", \"\", \"\"\n",
    "    ]\n",
    "}\n",
    "\n",
    "df_existing = pd.read_csv('shoes_data.csv')\n",
    "\n",
    "max_length_women = max(len(new_data_women[col]) for col in new_data_women)\n",
    "new_data_women = {col: new_data_women[col] + [''] * (max_length_women - len(new_data_women[col])) for col in new_data_women}\n",
    "\n",
    "df_new_women = pd.DataFrame(new_data_women)\n",
    "\n",
    "df_updated_women = pd.concat([df_existing, df_new_women], ignore_index=True)\n",
    "\n",
    "df_updated_women.to_csv('shoes_data.csv', index=False)\n",
    "\n",
    "print(df_updated_women)"
   ]
  },
  {
   "cell_type": "code",
   "execution_count": 11,
   "id": "de749fb6-4686-4ac8-9ee1-23c442e0a42e",
   "metadata": {
    "tags": []
   },
   "outputs": [
    {
     "name": "stdout",
     "output_type": "stream",
     "text": [
      "                                              ShoeName  \\\n",
      "0    Bestseller\\nNike Dunk Low Retro Premium\\nMen's...   \n",
      "1             Nike Blazer Low '77 Vintage\\nMen's Shoes   \n",
      "2        Bestseller\\nNike Air Force 1 '07\\nMen's Shoes   \n",
      "3    Just In\\nNike Air Force 1 '07 Pro Tech\\nMen's ...   \n",
      "4                   Nike Court Vision Low\\nMen's Shoes   \n",
      "..                                                 ...   \n",
      "261  Columbia Men Brown Crestwood Water Resistant S...   \n",
      "262                 Columbia Men Blue Hood River Slide   \n",
      "263               Columbia Men GREEN Breaksider Sandal   \n",
      "264                     Columbia Men Brown RE-PEAK MID   \n",
      "265                                COLUMBIA NEWSLETTER   \n",
      "\n",
      "                                          no_of_colors              price  \\\n",
      "0                                             1 Colour   MRP : ₹ 9 695.00   \n",
      "1                                            3 Colours   MRP : ₹ 7 195.00   \n",
      "2                                            2 Colours   MRP : ₹ 7 495.00   \n",
      "3                                            3 Colours  MRP : ₹ 13 995.00   \n",
      "4                                             1 Colour   MRP : ₹ 5 695.00   \n",
      "..                                                 ...                ...   \n",
      "261  Columbia Men Brown Crestwood Water Resistant S...                NaN   \n",
      "262                 Columbia Men Blue Hood River Slide                NaN   \n",
      "263               Columbia Men GREEN Breaksider Sandal                NaN   \n",
      "264                     Columbia Men Brown RE-PEAK MID                NaN   \n",
      "265                                COLUMBIA NEWSLETTER                NaN   \n",
      "\n",
      "                                              category  Price  \n",
      "0                                          Men's Shoes    NaN  \n",
      "1                                          Men's Shoes    NaN  \n",
      "2                                          Men's Shoes    NaN  \n",
      "3                                          Men's Shoes    NaN  \n",
      "4                                          Men's Shoes    NaN  \n",
      "..                                                 ...    ...  \n",
      "261  Columbia Men Brown Crestwood Water Resistant S...  7,999  \n",
      "262                 Columbia Men Blue Hood River Slide  9,999  \n",
      "263               Columbia Men GREEN Breaksider Sandal  8,999  \n",
      "264                     Columbia Men Brown RE-PEAK MID  3,499  \n",
      "265                                COLUMBIA NEWSLETTER  5,999  \n",
      "\n",
      "[266 rows x 5 columns]\n"
     ]
    }
   ],
   "source": [
    "new_data_columbia = {\n",
    "    'ShoeName': [\n",
    "        \"Columbia Men Black TRAILSTORM PEAK MID\", \"Columbia Men Black TRAILSTORM BEYOND\", \n",
    "        \"Columbia Men Black COLUMBIA VENT AERO\", \"Columbia Men Blue COLUMBIA VENT AERO\", \n",
    "        \"Columbia Men Orange MONTRAIL TRINITY AG\", \"Columbia Men Brown CRESTWOOD Water Resistant Shoes\", \n",
    "        \"Columbia Men BROWN Plateau Venture\", \"Columbia Men Grey CRESTWOOD MID Water Resistant Shoes\", \n",
    "        \"Columbia Men Grey Crestwood Water Resistant Shoes\", \"Columbia Men Brown Plateau Venture\", \n",
    "        \"Columbia Men Blue Crestwood Mid Water Resistant Shoes\", \"Columbia Men Brown Crestwood Water Resistant Shoes\", \n",
    "        \"Columbia Men Blue Hood River Slide\", \"Columbia Men GREEN Breaksider Sandal\", \n",
    "        \"Columbia Men Brown RE-PEAK MID\", \"COLUMBIA NEWSLETTER\"\n",
    "    ],\n",
    "    'category': [\n",
    "        \"Columbia Men Black TRAILSTORM PEAK MID\", \"Columbia Men Black TRAILSTORM BEYOND\", \n",
    "        \"Columbia Men Black COLUMBIA VENT AERO\", \"Columbia Men Blue COLUMBIA VENT AERO\", \n",
    "        \"Columbia Men Orange MONTRAIL TRINITY AG\", \"Columbia Men Brown CRESTWOOD Water Resistant Shoes\", \n",
    "        \"Columbia Men BROWN Plateau Venture\", \"Columbia Men Grey CRESTWOOD MID Water Resistant Shoes\", \n",
    "        \"Columbia Men Grey Crestwood Water Resistant Shoes\", \"Columbia Men Brown Plateau Venture\", \n",
    "        \"Columbia Men Blue Crestwood Mid Water Resistant Shoes\", \"Columbia Men Brown Crestwood Water Resistant Shoes\", \n",
    "        \"Columbia Men Blue Hood River Slide\", \"Columbia Men GREEN Breaksider Sandal\", \n",
    "        \"Columbia Men Brown RE-PEAK MID\", \"COLUMBIA NEWSLETTER\"\n",
    "    ],\n",
    "    'Price': [\n",
    "        \"Price\", \"2001-4000\\n5001-10000\\n10001-15000\\n15001-20000\", \"10,399 12,999 20% OFF\", \n",
    "        \"6,299 6,999 10% OFF\", \"8,099 8,999 10% OFF\", \"7,199 8,999 20% OFF\", \n",
    "        \"10,399 12,999 20% OFF\", \"8,099 8,999 10% OFF\", \"7,999\", \"9,999\", \n",
    "        \"8,999\", \"7,999\", \"9,999\", \"8,999\", \"3,499\", \"5,999\"\n",
    "    ],\n",
    "    'no_of_colors': [\n",
    "        \"Columbia Men Black TRAILSTORM PEAK MID\", \"Columbia Men Black TRAILSTORM BEYOND\", \n",
    "        \"Columbia Men Black COLUMBIA VENT AERO\", \"Columbia Men Blue COLUMBIA VENT AERO\", \n",
    "        \"Columbia Men Orange MONTRAIL TRINITY AG\", \"Columbia Men Brown CRESTWOOD Water Resistant Shoes\", \n",
    "        \"Columbia Men BROWN Plateau Venture\", \"Columbia Men Grey CRESTWOOD MID Water Resistant Shoes\", \n",
    "        \"Columbia Men Grey Crestwood Water Resistant Shoes\", \"Columbia Men Brown Plateau Venture\", \n",
    "        \"Columbia Men Blue Crestwood Mid Water Resistant Shoes\", \"Columbia Men Brown Crestwood Water Resistant Shoes\", \n",
    "        \"Columbia Men Blue Hood River Slide\", \"Columbia Men GREEN Breaksider Sandal\", \n",
    "        \"Columbia Men Brown RE-PEAK MID\", \"COLUMBIA NEWSLETTER\"\n",
    "    ]\n",
    "}\n",
    "\n",
    "df_existing = pd.read_csv('shoes_data.csv')\n",
    "\n",
    "max_length_columbia = max(len(new_data_columbia[col]) for col in new_data_columbia)\n",
    "new_data_columbia = {col: new_data_columbia[col] + [''] * (max_length_columbia - len(new_data_columbia[col])) for col in new_data_columbia}\n",
    "\n",
    "df_new_columbia = pd.DataFrame(new_data_columbia)\n",
    "\n",
    "df_updated_columbia = pd.concat([df_existing, df_new_columbia], ignore_index=True)\n",
    "\n",
    "df_updated_columbia.to_csv('shoes_data.csv', index=False)\n",
    "\n",
    "print(df_updated_columbia)"
   ]
  },
  {
   "cell_type": "code",
   "execution_count": 12,
   "id": "ceef7310-0871-460f-9900-680b72d978a7",
   "metadata": {
    "tags": []
   },
   "outputs": [
    {
     "name": "stdout",
     "output_type": "stream",
     "text": [
      "                                              ShoeName  \\\n",
      "0    Bestseller\\nNike Dunk Low Retro Premium\\nMen's...   \n",
      "1             Nike Blazer Low '77 Vintage\\nMen's Shoes   \n",
      "2        Bestseller\\nNike Air Force 1 '07\\nMen's Shoes   \n",
      "3    Just In\\nNike Air Force 1 '07 Pro Tech\\nMen's ...   \n",
      "4                   Nike Court Vision Low\\nMen's Shoes   \n",
      "..                                                 ...   \n",
      "277               Columbia Women BROWN Plateau Venture   \n",
      "278  Columbia Women Brown Hatana Max Outdry (Comple...   \n",
      "279                 Columbia Women GREY Hatana Breathe   \n",
      "280                  Columbia Women Purple RE-PEAK MID   \n",
      "281                                COLUMBIA NEWSLETTER   \n",
      "\n",
      "                                          no_of_colors              price  \\\n",
      "0                                             1 Colour   MRP : ₹ 9 695.00   \n",
      "1                                            3 Colours   MRP : ₹ 7 195.00   \n",
      "2                                            2 Colours   MRP : ₹ 7 495.00   \n",
      "3                                            3 Colours  MRP : ₹ 13 995.00   \n",
      "4                                             1 Colour   MRP : ₹ 5 695.00   \n",
      "..                                                 ...                ...   \n",
      "277               Columbia Women BROWN Plateau Venture                NaN   \n",
      "278  Columbia Women Brown Hatana Max Outdry (Comple...                NaN   \n",
      "279                 Columbia Women GREY Hatana Breathe                NaN   \n",
      "280                  Columbia Women Purple RE-PEAK MID                NaN   \n",
      "281                                COLUMBIA NEWSLETTER                NaN   \n",
      "\n",
      "                                              category   Price  \n",
      "0                                          Men's Shoes     NaN  \n",
      "1                                          Men's Shoes     NaN  \n",
      "2                                          Men's Shoes     NaN  \n",
      "3                                          Men's Shoes     NaN  \n",
      "4                                          Men's Shoes     NaN  \n",
      "..                                                 ...     ...  \n",
      "277               Columbia Women BROWN Plateau Venture   9,999  \n",
      "278  Columbia Women Brown Hatana Max Outdry (Comple...   9,999  \n",
      "279                 Columbia Women GREY Hatana Breathe   7,999  \n",
      "280                  Columbia Women Purple RE-PEAK MID  10,999  \n",
      "281                                COLUMBIA NEWSLETTER   9,999  \n",
      "\n",
      "[282 rows x 5 columns]\n"
     ]
    }
   ],
   "source": [
    "new_data_columbia_women = {\n",
    "    'ShoeName': [\n",
    "        \"Columbia Women Black SH/FT OUTDRY MID (Complete Set)\", \"Columbia Women Black TRAILSTORM PEAK MID\", \n",
    "        \"Columbia Women Grey TRAILSTORM PEAK MID\", \"Columbia Women Blue TRAILSTORM BEYOND\", \n",
    "        \"Columbia Women Green COLUMBIA VENT AERO\", \"Columbia Women Black COLUMBIA VENT AERO\", \n",
    "        \"Columbia Women Black MINX SLIP IV Water Resistant Boots\", \"Columbia Women PURPLE Thrive Revive\", \n",
    "        \"Columbia Women Black Hatana Max Outdry (Complete Set)\", \"Columbia Women Black Peakfreak II Outdry (Complete Set)\", \n",
    "        \"Columbia Women GREY Hatana Breathe\", \"Columbia Women BROWN Plateau Venture\", \n",
    "        \"Columbia Women Brown Hatana Max Outdry (Complete Set)\", \"Columbia Women GREY Hatana Breathe\", \n",
    "        \"Columbia Women Purple RE-PEAK MID\", \"COLUMBIA NEWSLETTER\"\n",
    "    ],\n",
    "    'category': [\n",
    "        \"Columbia Women Black SH/FT OUTDRY MID (Complete Set)\", \"Columbia Women Black TRAILSTORM PEAK MID\", \n",
    "        \"Columbia Women Grey TRAILSTORM PEAK MID\", \"Columbia Women Blue TRAILSTORM BEYOND\", \n",
    "        \"Columbia Women Green COLUMBIA VENT AERO\", \"Columbia Women Black COLUMBIA VENT AERO\", \n",
    "        \"Columbia Women Black MINX SLIP IV Water Resistant Boots\", \"Columbia Women PURPLE Thrive Revive\", \n",
    "        \"Columbia Women Black Hatana Max Outdry (Complete Set)\", \"Columbia Women Black Peakfreak II Outdry (Complete Set)\", \n",
    "        \"Columbia Women GREY Hatana Breathe\", \"Columbia Women BROWN Plateau Venture\", \n",
    "        \"Columbia Women Brown Hatana Max Outdry (Complete Set)\", \"Columbia Women GREY Hatana Breathe\", \n",
    "        \"Columbia Women Purple RE-PEAK MID\", \"COLUMBIA NEWSLETTER\"\n",
    "    ],\n",
    "    'Price': [\n",
    "        \"Price\", \"1501-2000\\n2001-4000\\n5001-10000\\n10001-15000\\n15001-20000\", \"9,799 13,999 30% OFF\", \n",
    "        \"10,399 12,999 20% OFF\", \"10,399 12,999 20% OFF\", \"5,599 6,999 20% OFF\", \n",
    "        \"6,299 8,999 30% OFF\", \"6,299 8,999 30% OFF\", \"10,999\", \"5,999\", \n",
    "        \"10,999\", \"9,999\", \"9,999\", \"7,999\", \"10,999\", \"9,999\"\n",
    "    ],\n",
    "    'no_of_colors': [\n",
    "        \"Columbia Women Black SH/FT OUTDRY MID (Complete Set)\", \"Columbia Women Black TRAILSTORM PEAK MID\", \n",
    "        \"Columbia Women Grey TRAILSTORM PEAK MID\", \"Columbia Women Blue TRAILSTORM BEYOND\", \n",
    "        \"Columbia Women Green COLUMBIA VENT AERO\", \"Columbia Women Black COLUMBIA VENT AERO\", \n",
    "        \"Columbia Women Black MINX SLIP IV Water Resistant Boots\", \"Columbia Women PURPLE Thrive Revive\", \n",
    "        \"Columbia Women Black Hatana Max Outdry (Complete Set)\", \"Columbia Women Black Peakfreak II Outdry (Complete Set)\", \n",
    "        \"Columbia Women GREY Hatana Breathe\", \"Columbia Women BROWN Plateau Venture\", \n",
    "        \"Columbia Women Brown Hatana Max Outdry (Complete Set)\", \"Columbia Women GREY Hatana Breathe\", \n",
    "        \"Columbia Women Purple RE-PEAK MID\", \"COLUMBIA NEWSLETTER\"\n",
    "    ]\n",
    "}\n",
    "\n",
    "df_existing = pd.read_csv('shoes_data.csv')\n",
    "\n",
    "max_length_columbia_women = max(len(new_data_columbia_women[col]) for col in new_data_columbia_women)\n",
    "new_data_columbia_women = {col: new_data_columbia_women[col] + [''] * (max_length_columbia_women - len(new_data_columbia_women[col])) for col in new_data_columbia_women}\n",
    "\n",
    "df_new_columbia_women = pd.DataFrame(new_data_columbia_women)\n",
    "\n",
    "df_updated_columbia_women = pd.concat([df_existing, df_new_columbia_women], ignore_index=True)\n",
    "\n",
    "df_updated_columbia_women.to_csv('shoes_data.csv', index=False)\n",
    "\n",
    "print(df_updated_columbia_women)"
   ]
  },
  {
   "cell_type": "code",
   "execution_count": 13,
   "id": "81f8663e-5831-47b7-b9e4-b8f8d7d99c3d",
   "metadata": {
    "tags": []
   },
   "outputs": [
    {
     "name": "stdout",
     "output_type": "stream",
     "text": [
      "                                              ShoeName no_of_colors  \\\n",
      "0    Bestseller\\nNike Dunk Low Retro Premium\\nMen's...     1 Colour   \n",
      "1             Nike Blazer Low '77 Vintage\\nMen's Shoes    3 Colours   \n",
      "2        Bestseller\\nNike Air Force 1 '07\\nMen's Shoes    2 Colours   \n",
      "3    Just In\\nNike Air Force 1 '07 Pro Tech\\nMen's ...    3 Colours   \n",
      "4                   Nike Court Vision Low\\nMen's Shoes     1 Colour   \n",
      "..                                                 ...          ...   \n",
      "302                                 Grey boots for men                \n",
      "303                                     Excursion NTAN                \n",
      "304                    Tan Leather Chukka Boot for Men                \n",
      "305                         Black Chelsea Boot for Men                \n",
      "306                                                                   \n",
      "\n",
      "                 price                         category       Price  \n",
      "0     MRP : ₹ 9 695.00                      Men's Shoes         NaN  \n",
      "1     MRP : ₹ 7 195.00                      Men's Shoes         NaN  \n",
      "2     MRP : ₹ 7 495.00                      Men's Shoes         NaN  \n",
      "3    MRP : ₹ 13 995.00                      Men's Shoes         NaN  \n",
      "4     MRP : ₹ 5 695.00                      Men's Shoes         NaN  \n",
      "..                 ...                              ...         ...  \n",
      "302                NaN               Grey boots for men       ₹5995  \n",
      "303                NaN                   Excursion NTAN  ₹4295₹3221  \n",
      "304                NaN  Tan Leather Chukka Boot for Men      ₹12995  \n",
      "305                NaN       Black Chelsea Boot for Men      ₹13995  \n",
      "306                NaN                                               \n",
      "\n",
      "[307 rows x 5 columns]\n"
     ]
    }
   ],
   "source": [
    "new_data_woodland_men = {\n",
    "    'ShoeName': [\n",
    "        \"Woodland Camel Trekking Shoes\", \"Khaki hiking boot\", \"Navy Boot for Men\", \n",
    "        \"Woodland SNAYPE hiking boots\", \"Camel Nubuk Oily Polished Mens Boot\", \n",
    "        \"Olive green shoe for men\", \"Camel boots for men\", \"Camel Boot for Men\", \n",
    "        \"Camel high ankle boot for men\", \"Steel Grey blue boots for men\", \n",
    "        \"Drifter DNAVY\", \"RB BROWN boots for men\", \"Russia Dbrown casual shoes for men\", \n",
    "        \"Brawny GREY\", \"Grey boots for men\", \"Brown Boots for Men\", \n",
    "        \"Mammoth OLIVE GREEN\", \"Chiku/Toupe Chelsea Boots for Men\", \n",
    "        \"Woodland RUST BROWN hiking shoes\", \"Woodland OLIVE hiking boots\", \n",
    "        \"Grey boots for men\", \"Excursion NTAN\", \"Tan Leather Chukka Boot for Men\", \n",
    "        \"Black Chelsea Boot for Men\"\n",
    "    ],\n",
    "    'category': [\n",
    "        \"Woodland Camel Trekking Shoes\", \"Khaki hiking boot\", \"Navy Boot for Men\", \n",
    "        \"Woodland SNAYPE hiking boots\", \"Camel Nubuk Oily Polished Mens Boot\", \n",
    "        \"Olive green shoe for men\", \"Camel boots for men\", \"Camel Boot for Men\", \n",
    "        \"Camel high ankle boot for men\", \"Steel Grey blue boots for men\", \n",
    "        \"Drifter DNAVY\", \"RB BROWN boots for men\", \"Russia Dbrown casual shoes for men\", \n",
    "        \"Brawny GREY\", \"Grey boots for men\", \"Brown Boots for Men\", \n",
    "        \"Mammoth OLIVE GREEN\", \"Chiku/Toupe Chelsea Boots for Men\", \n",
    "        \"Woodland RUST BROWN hiking shoes\", \"Woodland OLIVE hiking boots\", \n",
    "        \"Grey boots for men\", \"Excursion NTAN\", \"Tan Leather Chukka Boot for Men\", \n",
    "        \"Black Chelsea Boot for Men\"\n",
    "    ],\n",
    "    'Price': [\n",
    "        \"₹4595₹2757\", \"₹4495₹2697\", \"₹5995\", \"₹6995₹3000\", \n",
    "        \"₹6495₹4871\", \"₹4695₹2817\", \"₹6995\", \"₹6495\", \n",
    "        \"₹6495\", \"₹6495\", \"₹5995₹3597\", \"₹5995₹3597\", \n",
    "        \"₹5995₹3597\", \"₹6495₹3897\", \"₹6495\", \"₹6495₹4871\", \n",
    "        \"₹3895\", \"₹12995\", \"₹6995₹4197\", \"₹4295\", \n",
    "        \"₹5995\", \"₹4295₹3221\", \"₹12995\", \"₹13995\"\n",
    "    ],\n",
    "    'no_of_colors': [\n",
    "        \"\", \"\", \"\", \"\", \"\", \"\", \"\", \"\", \"\", \"\", \"\", \"\", \"\", \"\", \"\", \"\", \"\", \"\", \"\", \"\", \"\", \"\", \"\", \"\", \"\"\n",
    "    ]\n",
    "}\n",
    "\n",
    "\n",
    "df_existing = pd.read_csv('shoes_data.csv')\n",
    "\n",
    "\n",
    "max_length_woodland_men = max(len(new_data_woodland_men[col]) for col in new_data_woodland_men)\n",
    "new_data_woodland_men = {col: new_data_woodland_men[col] + [''] * (max_length_woodland_men - len(new_data_woodland_men[col])) for col in new_data_woodland_men}\n",
    "\n",
    "df_new_woodland_men = pd.DataFrame(new_data_woodland_men)\n",
    "\n",
    "\n",
    "df_updated_woodland_men = pd.concat([df_existing, df_new_woodland_men], ignore_index=True)\n",
    "\n",
    "df_updated_woodland_men.to_csv('shoes_data.csv', index=False)\n",
    "\n",
    "print(df_updated_woodland_men)"
   ]
  },
  {
   "cell_type": "code",
   "execution_count": 14,
   "id": "edb077aa-7f77-43f0-8e9b-7a8f96537bd3",
   "metadata": {
    "tags": []
   },
   "outputs": [
    {
     "name": "stdout",
     "output_type": "stream",
     "text": [
      "                                              ShoeName no_of_colors  \\\n",
      "0    Bestseller\\nNike Dunk Low Retro Premium\\nMen's...     1 Colour   \n",
      "1             Nike Blazer Low '77 Vintage\\nMen's Shoes    3 Colours   \n",
      "2        Bestseller\\nNike Air Force 1 '07\\nMen's Shoes    2 Colours   \n",
      "3    Just In\\nNike Air Force 1 '07 Pro Tech\\nMen's ...    3 Colours   \n",
      "4                   Nike Court Vision Low\\nMen's Shoes     1 Colour   \n",
      "..                                                 ...          ...   \n",
      "314              Woodland BLACK casual shoes for women                \n",
      "315                               Black Boot for women                \n",
      "316                              Black Boots for Women                \n",
      "317                               Black high-top boots                \n",
      "318                      Brown mid-calf boot for women                \n",
      "\n",
      "                 price                               category         Price  \n",
      "0     MRP : ₹ 9 695.00                            Men's Shoes           NaN  \n",
      "1     MRP : ₹ 7 195.00                            Men's Shoes           NaN  \n",
      "2     MRP : ₹ 7 495.00                            Men's Shoes           NaN  \n",
      "3    MRP : ₹ 13 995.00                            Men's Shoes           NaN  \n",
      "4     MRP : ₹ 5 695.00                            Men's Shoes           NaN  \n",
      "..                 ...                                    ...           ...  \n",
      "314                NaN  Woodland BLACK casual shoes for women    ₹4995₹2997  \n",
      "315                NaN                   Black Boot for women         ₹9995  \n",
      "316                NaN                  Black Boots for Women         ₹9995  \n",
      "317                NaN                   Black high-top boots    ₹9995₹5997  \n",
      "318                NaN          Brown mid-calf boot for women  ₹18995₹11397  \n",
      "\n",
      "[319 rows x 5 columns]\n"
     ]
    }
   ],
   "source": [
    "new_data_women_boots = {\n",
    "    'ShoeName': [\n",
    "        \"Bright Grey Boots for Women\", \"Brown Boot for Women\", \n",
    "        \"DROYAL BLUE boots for women\", \"Woodland Rusty red boots for women\", \n",
    "        \"Snaype Boots for Women\", \"Dark royal blue boot for women\", \n",
    "        \"Camel boots for women\", \"Woodland BLACK casual shoes for women\", \n",
    "        \"Black Boot for women\", \"Black Boots for Women\", \n",
    "        \"Black high-top boots\", \"Brown mid-calf boot for women\"\n",
    "    ],\n",
    "    'category': [\n",
    "        \"Bright Grey Boots for Women\", \"Brown Boot for Women\", \n",
    "        \"DROYAL BLUE boots for women\", \"Woodland Rusty red boots for women\", \n",
    "        \"Snaype Boots for Women\", \"Dark royal blue boot for women\", \n",
    "        \"Camel boots for women\", \"Woodland BLACK casual shoes for women\", \n",
    "        \"Black Boot for women\", \"Black Boots for Women\", \n",
    "        \"Black high-top boots\", \"Brown mid-calf boot for women\"\n",
    "    ],\n",
    "    'Price': [\n",
    "        \"₹5995\", \"₹5495\", \"₹5495₹4121\", \"₹5495₹4121\", \n",
    "        \"₹5995\", \"₹4995₹2997\", \"₹5495₹2747\", \"₹4995₹2997\", \n",
    "        \"₹9995\", \"₹9995\", \"₹9995₹5997\", \"₹18995₹11397\"\n",
    "    ],\n",
    "    'no_of_colors': [\n",
    "        \"\", \"\", \"\", \"\", \"\", \"\", \"\", \"\", \"\", \"\", \"\", \"\"\n",
    "    ]\n",
    "}\n",
    "\n",
    "\n",
    "df_existing = pd.read_csv('shoes_data.csv')\n",
    "\n",
    "\n",
    "max_length_women_boots = max(len(new_data_women_boots[col]) for col in new_data_women_boots)\n",
    "new_data_women_boots = {col: new_data_women_boots[col] + [''] * (max_length_women_boots - len(new_data_women_boots[col])) for col in new_data_women_boots}\n",
    "\n",
    "\n",
    "df_new_women_boots = pd.DataFrame(new_data_women_boots)\n",
    "\n",
    "\n",
    "df_updated_women_boots = pd.concat([df_existing, df_new_women_boots], ignore_index=True)\n",
    "\n",
    "df_updated_women_boots.to_csv('shoes_data.csv', index=False)\n",
    "\n",
    "\n",
    "print(df_updated_women_boots)"
   ]
  },
  {
   "cell_type": "markdown",
   "id": "05b13ff6-bf08-49a1-90da-95ce8edd877d",
   "metadata": {},
   "source": [
    "Table 2"
   ]
  },
  {
   "cell_type": "code",
   "execution_count": 309,
   "id": "ec3db7e6-f2ec-45f6-8d23-c31e9c9a9653",
   "metadata": {
    "tags": []
   },
   "outputs": [],
   "source": [
    "driver = webdriver.Chrome(service=Service(ChromeDriverManager().install()))"
   ]
  },
  {
   "cell_type": "code",
   "execution_count": 310,
   "id": "9c606e29-ec1b-4a51-838a-976a284aec19",
   "metadata": {
    "tags": []
   },
   "outputs": [],
   "source": [
    "driver.get(\"https://www.nike.com\")"
   ]
  },
  {
   "cell_type": "code",
   "execution_count": 24,
   "id": "78078f17-f8b7-44fa-9a00-befa80829b67",
   "metadata": {
    "tags": []
   },
   "outputs": [],
   "source": [
    "search_keyword = driver.find_element(By.XPATH, '//*[@id=\"VisualSearchInput\"]')\n",
    "search_keyword.clear()\n",
    "search_keyword.send_keys('Men Shoes')"
   ]
  },
  {
   "cell_type": "code",
   "execution_count": 25,
   "id": "f5fa307e-af0c-48bc-8ca2-4cfc4e2df201",
   "metadata": {
    "tags": []
   },
   "outputs": [],
   "source": [
    "search_keyword = driver.find_element(By.XPATH, '//*[@id=\"gen-nav-commerce-header-v2\"]/div[3]/header/div[1]/div[2]/div/div/div[1]/div/div/button[2]')\n",
    "search_keyword.click()"
   ]
  },
  {
   "cell_type": "code",
   "execution_count": 26,
   "id": "e91c5651-8e87-4e9b-8aa7-ae199b61ac50",
   "metadata": {
    "tags": []
   },
   "outputs": [],
   "source": [
    "search_keyword = driver.find_element(By.XPATH, '//*[@id=\"skip-to-products\"]/div[1]/div/figure/a[2]')\n",
    "search_keyword.click()"
   ]
  },
  {
   "cell_type": "code",
   "execution_count": 27,
   "id": "507aa3a2-6693-49e9-8da7-bd438719217e",
   "metadata": {
    "tags": []
   },
   "outputs": [],
   "source": [
    "Count_of_sizes = []\n",
    "Type_of_colors = []\n",
    "Style_code = []"
   ]
  },
  {
   "cell_type": "code",
   "execution_count": 28,
   "id": "44c187d5-c1c0-46c9-b3cb-1dffab2fe49d",
   "metadata": {
    "tags": []
   },
   "outputs": [],
   "source": [
    "title_tags=driver.find_elements(By.XPATH, '//*[@id=\"buyTools\"]/div[1]')\n",
    "for i in title_tags[0:23]:\n",
    "    title=i.text\n",
    "    Count_of_sizes.append(title)"
   ]
  },
  {
   "cell_type": "code",
   "execution_count": 29,
   "id": "f25f139e-40ba-4757-9877-3430933303a4",
   "metadata": {
    "tags": []
   },
   "outputs": [],
   "source": [
    "title_tags=driver.find_elements(By.CLASS_NAME, 'description-preview__color-description.ncss-li')\n",
    "for i in title_tags[0:23]:\n",
    "    title=i.text\n",
    "    Type_of_colors.append(title)"
   ]
  },
  {
   "cell_type": "code",
   "execution_count": 30,
   "id": "09e5bb99-6a84-4424-85f4-233108773f40",
   "metadata": {
    "tags": []
   },
   "outputs": [],
   "source": [
    "title_tags=driver.find_elements(By.CLASS_NAME, 'description-preview__style-color.ncss-li')\n",
    "for i in title_tags[0:23]:\n",
    "    title=i.text\n",
    "    Style_code.append(title)"
   ]
  },
  {
   "cell_type": "code",
   "execution_count": 31,
   "id": "eea7248e-8c8f-4068-ae3c-2171fdcfdd60",
   "metadata": {
    "tags": []
   },
   "outputs": [
    {
     "name": "stdout",
     "output_type": "stream",
     "text": [
      "1 1 1\n"
     ]
    }
   ],
   "source": [
    "print(len(Count_of_sizes),len(Type_of_colors), len(Style_code))"
   ]
  },
  {
   "cell_type": "code",
   "execution_count": 32,
   "id": "e37290b5-a78f-401e-9892-ebac7f7cbd90",
   "metadata": {
    "tags": []
   },
   "outputs": [
    {
     "data": {
      "text/html": [
       "<div>\n",
       "<style scoped>\n",
       "    .dataframe tbody tr th:only-of-type {\n",
       "        vertical-align: middle;\n",
       "    }\n",
       "\n",
       "    .dataframe tbody tr th {\n",
       "        vertical-align: top;\n",
       "    }\n",
       "\n",
       "    .dataframe thead th {\n",
       "        text-align: right;\n",
       "    }\n",
       "</style>\n",
       "<table border=\"1\" class=\"dataframe\">\n",
       "  <thead>\n",
       "    <tr style=\"text-align: right;\">\n",
       "      <th></th>\n",
       "      <th>Count_of_sizes</th>\n",
       "      <th>Type_of_colors</th>\n",
       "      <th>Style code</th>\n",
       "    </tr>\n",
       "  </thead>\n",
       "  <tbody>\n",
       "    <tr>\n",
       "      <th>0</th>\n",
       "      <td>Select Size\\nSize Guide\\nUK 6 (EU 40)\\nUK 6.5\\...</td>\n",
       "      <td>Colour Shown: Deep Jungle/Light Silver/Deep Ju...</td>\n",
       "      <td>Style: FB8896-300</td>\n",
       "    </tr>\n",
       "  </tbody>\n",
       "</table>\n",
       "</div>"
      ],
      "text/plain": [
       "                                      Count_of_sizes  \\\n",
       "0  Select Size\\nSize Guide\\nUK 6 (EU 40)\\nUK 6.5\\...   \n",
       "\n",
       "                                      Type_of_colors         Style code  \n",
       "0  Colour Shown: Deep Jungle/Light Silver/Deep Ju...  Style: FB8896-300  "
      ]
     },
     "execution_count": 32,
     "metadata": {},
     "output_type": "execute_result"
    }
   ],
   "source": [
    "import pandas as pd\n",
    "df13=pd.DataFrame({'Count_of_sizes':Count_of_sizes,'Type_of_colors':Type_of_colors,'Style code':Style_code})\n",
    "df13"
   ]
  },
  {
   "cell_type": "code",
   "execution_count": 33,
   "id": "970c38b1-a46b-422f-bc31-eef253467e5a",
   "metadata": {
    "tags": []
   },
   "outputs": [],
   "source": [
    "search_keyword = driver.find_element(By.XPATH, '//*[@id=\"VisualSearchInput\"]')\n",
    "search_keyword.clear()\n",
    "search_keyword.send_keys('Men Shoes')"
   ]
  },
  {
   "cell_type": "code",
   "execution_count": 34,
   "id": "e3bbde09-d018-40aa-a8be-8a9b9ac2d471",
   "metadata": {
    "tags": []
   },
   "outputs": [],
   "source": [
    "search_keyword = driver.find_element(By.XPATH, '//*[@id=\"gen-nav-commerce-header-v2\"]/div[3]/header/div[1]/div[2]/div/div/div[1]/div/div/button[2]')\n",
    "search_keyword.click()"
   ]
  },
  {
   "cell_type": "code",
   "execution_count": 35,
   "id": "2e184402-0191-4cd2-87bd-24eff845e4c5",
   "metadata": {
    "tags": []
   },
   "outputs": [],
   "source": [
    "search_keyword = driver.find_element(By.XPATH, '//*[@id=\"skip-to-products\"]/div[2]/div/figure/a[2]/div')\n",
    "search_keyword.click()"
   ]
  },
  {
   "cell_type": "code",
   "execution_count": 42,
   "id": "deca3096-eb80-4ae3-8651-ca6b4b667cef",
   "metadata": {
    "tags": []
   },
   "outputs": [],
   "source": [
    "Count_of_sizes = []\n",
    "Type_of_colors = []\n",
    "Style_code = []"
   ]
  },
  {
   "cell_type": "code",
   "execution_count": 43,
   "id": "bff6e111-1793-4493-823a-785918755909",
   "metadata": {
    "tags": []
   },
   "outputs": [],
   "source": [
    "title_tags=driver.find_elements(By.XPATH, '//*[@id=\"buyTools\"]/div[1]')\n",
    "for i in title_tags[0:23]:\n",
    "    title=i.text\n",
    "    Count_of_sizes.append(title)"
   ]
  },
  {
   "cell_type": "code",
   "execution_count": 44,
   "id": "2479f0bd-5778-4354-bf30-a1586c923bef",
   "metadata": {
    "tags": []
   },
   "outputs": [],
   "source": [
    "title_tags=driver.find_elements(By.CLASS_NAME, 'description-preview__color-description.ncss-li')\n",
    "for i in title_tags[0:23]:\n",
    "    title=i.text\n",
    "    Type_of_colors.append(title)"
   ]
  },
  {
   "cell_type": "code",
   "execution_count": 45,
   "id": "29b68d75-7bf6-4eba-8429-cdc5f2bc04c5",
   "metadata": {
    "tags": []
   },
   "outputs": [],
   "source": [
    "title_tags=driver.find_elements(By.CLASS_NAME, 'description-preview__style-color.ncss-li')\n",
    "for i in title_tags[0:23]:\n",
    "    title=i.text\n",
    "    Style_code.append(title)"
   ]
  },
  {
   "cell_type": "code",
   "execution_count": 46,
   "id": "adad44fb-e7cf-4455-a99f-cc6b298af0cb",
   "metadata": {
    "tags": []
   },
   "outputs": [
    {
     "name": "stdout",
     "output_type": "stream",
     "text": [
      "1 1 1\n"
     ]
    }
   ],
   "source": [
    "print(len(Count_of_sizes),len(Type_of_colors), len(Style_code))"
   ]
  },
  {
   "cell_type": "code",
   "execution_count": 47,
   "id": "50c65031-3c71-4d13-8cef-8f64a61d03e1",
   "metadata": {
    "tags": []
   },
   "outputs": [
    {
     "data": {
      "text/html": [
       "<div>\n",
       "<style scoped>\n",
       "    .dataframe tbody tr th:only-of-type {\n",
       "        vertical-align: middle;\n",
       "    }\n",
       "\n",
       "    .dataframe tbody tr th {\n",
       "        vertical-align: top;\n",
       "    }\n",
       "\n",
       "    .dataframe thead th {\n",
       "        text-align: right;\n",
       "    }\n",
       "</style>\n",
       "<table border=\"1\" class=\"dataframe\">\n",
       "  <thead>\n",
       "    <tr style=\"text-align: right;\">\n",
       "      <th></th>\n",
       "      <th>Count_of_sizes</th>\n",
       "      <th>Type_of_colors</th>\n",
       "      <th>Style code</th>\n",
       "    </tr>\n",
       "  </thead>\n",
       "  <tbody>\n",
       "    <tr>\n",
       "      <th>0</th>\n",
       "      <td>Select Size\\nSize Guide\\nUK 6 (EU 40)\\nUK 6.5\\...</td>\n",
       "      <td>Colour Shown: White/Sail/Black/Pine Green</td>\n",
       "      <td>Style: DA6364-115</td>\n",
       "    </tr>\n",
       "  </tbody>\n",
       "</table>\n",
       "</div>"
      ],
      "text/plain": [
       "                                      Count_of_sizes  \\\n",
       "0  Select Size\\nSize Guide\\nUK 6 (EU 40)\\nUK 6.5\\...   \n",
       "\n",
       "                              Type_of_colors         Style code  \n",
       "0  Colour Shown: White/Sail/Black/Pine Green  Style: DA6364-115  "
      ]
     },
     "execution_count": 47,
     "metadata": {},
     "output_type": "execute_result"
    }
   ],
   "source": [
    "import pandas as pd\n",
    "df14=pd.DataFrame({'Count_of_sizes':Count_of_sizes,'Type_of_colors':Type_of_colors,'Style code':Style_code})\n",
    "df14"
   ]
  },
  {
   "cell_type": "code",
   "execution_count": 55,
   "id": "8e7464ee-57dd-49c9-a12b-5a6ea5b41a0d",
   "metadata": {
    "tags": []
   },
   "outputs": [],
   "source": [
    "search_keyword = driver.find_element(By.XPATH, '//*[@id=\"VisualSearchInput\"]')\n",
    "search_keyword.clear()\n",
    "search_keyword.send_keys('Men Shoes')"
   ]
  },
  {
   "cell_type": "code",
   "execution_count": 56,
   "id": "8a592a63-830d-465a-b745-d2b965411143",
   "metadata": {
    "tags": []
   },
   "outputs": [],
   "source": [
    "search_keyword = driver.find_element(By.XPATH, '//*[@id=\"gen-nav-commerce-header-v2\"]/div[3]/header/div[1]/div[2]/div/div/div[1]/div/div/button[2]')\n",
    "search_keyword.click()"
   ]
  },
  {
   "cell_type": "code",
   "execution_count": 57,
   "id": "d6824c41-c683-44da-bd4f-894a783d34cf",
   "metadata": {
    "tags": []
   },
   "outputs": [],
   "source": [
    "search_keyword = driver.find_element(By.XPATH, '//*[@id=\"skip-to-products\"]/div[3]/div')\n",
    "search_keyword.click()"
   ]
  },
  {
   "cell_type": "code",
   "execution_count": 58,
   "id": "d94fa8bd-9f9b-4ea5-b56c-87b719c9fad2",
   "metadata": {
    "tags": []
   },
   "outputs": [],
   "source": [
    "Count_of_sizes = []\n",
    "Type_of_colors = []\n",
    "Style_code = []"
   ]
  },
  {
   "cell_type": "code",
   "execution_count": 59,
   "id": "309f8c65-d661-4c9d-8295-3c11a4ee83a8",
   "metadata": {
    "tags": []
   },
   "outputs": [],
   "source": [
    "title_tags=driver.find_elements(By.XPATH, '//*[@id=\"buyTools\"]/div[1]')\n",
    "for i in title_tags[0:23]:\n",
    "    title=i.text\n",
    "    Count_of_sizes.append(title)"
   ]
  },
  {
   "cell_type": "code",
   "execution_count": 60,
   "id": "65466e66-5d20-427e-badc-221a9d403504",
   "metadata": {
    "tags": []
   },
   "outputs": [],
   "source": [
    "title_tags=driver.find_elements(By.CLASS_NAME, 'description-preview__color-description.ncss-li')\n",
    "for i in title_tags[0:23]:\n",
    "    title=i.text\n",
    "    Type_of_colors.append(title)"
   ]
  },
  {
   "cell_type": "code",
   "execution_count": 61,
   "id": "ed9168c4-2790-42c2-88df-54304572780c",
   "metadata": {
    "tags": []
   },
   "outputs": [],
   "source": [
    "title_tags=driver.find_elements(By.CLASS_NAME, 'description-preview__style-color.ncss-li')\n",
    "for i in title_tags[0:23]:\n",
    "    title=i.text\n",
    "    Style_code.append(title)"
   ]
  },
  {
   "cell_type": "code",
   "execution_count": 62,
   "id": "c19fe4fc-7ebd-4e50-90e9-56be2381547b",
   "metadata": {
    "tags": []
   },
   "outputs": [
    {
     "name": "stdout",
     "output_type": "stream",
     "text": [
      "1 1 1\n"
     ]
    }
   ],
   "source": [
    "print(len(Count_of_sizes),len(Type_of_colors), len(Style_code))"
   ]
  },
  {
   "cell_type": "code",
   "execution_count": 63,
   "id": "f9ede001-8c8d-4bda-a6a4-6d90071a5f66",
   "metadata": {
    "tags": []
   },
   "outputs": [
    {
     "data": {
      "text/html": [
       "<div>\n",
       "<style scoped>\n",
       "    .dataframe tbody tr th:only-of-type {\n",
       "        vertical-align: middle;\n",
       "    }\n",
       "\n",
       "    .dataframe tbody tr th {\n",
       "        vertical-align: top;\n",
       "    }\n",
       "\n",
       "    .dataframe thead th {\n",
       "        text-align: right;\n",
       "    }\n",
       "</style>\n",
       "<table border=\"1\" class=\"dataframe\">\n",
       "  <thead>\n",
       "    <tr style=\"text-align: right;\">\n",
       "      <th></th>\n",
       "      <th>Count_of_sizes</th>\n",
       "      <th>Type_of_colors</th>\n",
       "      <th>Style code</th>\n",
       "    </tr>\n",
       "  </thead>\n",
       "  <tbody>\n",
       "    <tr>\n",
       "      <th>0</th>\n",
       "      <td>Select Size\\nSize Guide\\nUK 5.5\\nUK 6 (EU 39)\\...</td>\n",
       "      <td>Colour Shown: White/White</td>\n",
       "      <td>Style: CW2288-111</td>\n",
       "    </tr>\n",
       "  </tbody>\n",
       "</table>\n",
       "</div>"
      ],
      "text/plain": [
       "                                      Count_of_sizes  \\\n",
       "0  Select Size\\nSize Guide\\nUK 5.5\\nUK 6 (EU 39)\\...   \n",
       "\n",
       "              Type_of_colors         Style code  \n",
       "0  Colour Shown: White/White  Style: CW2288-111  "
      ]
     },
     "execution_count": 63,
     "metadata": {},
     "output_type": "execute_result"
    }
   ],
   "source": [
    "import pandas as pd\n",
    "df15=pd.DataFrame({'Count_of_sizes':Count_of_sizes,'Type_of_colors':Type_of_colors,'Style code':Style_code})\n",
    "df15"
   ]
  },
  {
   "cell_type": "code",
   "execution_count": 66,
   "id": "4579f627-46c1-4614-becf-452d8d4a105b",
   "metadata": {
    "tags": []
   },
   "outputs": [],
   "source": [
    "search_keyword = driver.find_element(By.XPATH, '//*[@id=\"VisualSearchInput\"]')\n",
    "search_keyword.clear()\n",
    "search_keyword.send_keys('Men Shoes')"
   ]
  },
  {
   "cell_type": "code",
   "execution_count": 67,
   "id": "cd7a0b11-0b0a-402a-8510-a97e4a9b8a94",
   "metadata": {
    "tags": []
   },
   "outputs": [],
   "source": [
    "search_keyword = driver.find_element(By.XPATH, '//*[@id=\"gen-nav-commerce-header-v2\"]/div[3]/header/div[1]/div[2]/div/div/div[1]/div/div/button[2]')\n",
    "search_keyword.click()"
   ]
  },
  {
   "cell_type": "code",
   "execution_count": 68,
   "id": "d743acb3-65a9-4d7b-b8f6-7588b2171478",
   "metadata": {
    "tags": []
   },
   "outputs": [],
   "source": [
    "search_keyword = driver.find_element(By.XPATH, '//*[@id=\"skip-to-products\"]/div[4]/div/figure/a[2]/div')\n",
    "search_keyword.click()"
   ]
  },
  {
   "cell_type": "code",
   "execution_count": 69,
   "id": "cd089a7f-1448-43ec-9c02-6fa01ca5e595",
   "metadata": {
    "tags": []
   },
   "outputs": [],
   "source": [
    "Count_of_sizes = []\n",
    "Type_of_colors = []\n",
    "Style_code = []"
   ]
  },
  {
   "cell_type": "code",
   "execution_count": 70,
   "id": "9ff3c58f-d729-4920-8548-02a555876e07",
   "metadata": {
    "tags": []
   },
   "outputs": [],
   "source": [
    "title_tags=driver.find_elements(By.XPATH, '//*[@id=\"buyTools\"]/div[1]')\n",
    "for i in title_tags[0:23]:\n",
    "    title=i.text\n",
    "    Count_of_sizes.append(title)"
   ]
  },
  {
   "cell_type": "code",
   "execution_count": 71,
   "id": "ab0ffe6d-cc71-4517-b695-fc2e84efff5f",
   "metadata": {
    "tags": []
   },
   "outputs": [],
   "source": [
    "title_tags=driver.find_elements(By.CLASS_NAME, 'description-preview__color-description.ncss-li')\n",
    "for i in title_tags[0:23]:\n",
    "    title=i.text\n",
    "    Type_of_colors.append(title)"
   ]
  },
  {
   "cell_type": "code",
   "execution_count": 72,
   "id": "45cf8755-2d46-44cc-a529-038680239fce",
   "metadata": {
    "tags": []
   },
   "outputs": [],
   "source": [
    "title_tags=driver.find_elements(By.CLASS_NAME, 'description-preview__style-color.ncss-li')\n",
    "for i in title_tags[0:23]:\n",
    "    title=i.text\n",
    "    Style_code.append(title)"
   ]
  },
  {
   "cell_type": "code",
   "execution_count": 73,
   "id": "3de49a63-1379-4428-bb9d-25473bfdf268",
   "metadata": {
    "tags": []
   },
   "outputs": [
    {
     "name": "stdout",
     "output_type": "stream",
     "text": [
      "1 1 1\n"
     ]
    }
   ],
   "source": [
    "print(len(Count_of_sizes),len(Type_of_colors), len(Style_code))"
   ]
  },
  {
   "cell_type": "code",
   "execution_count": 74,
   "id": "6c831142-7241-4296-b24f-966c574c697e",
   "metadata": {
    "tags": []
   },
   "outputs": [
    {
     "data": {
      "text/html": [
       "<div>\n",
       "<style scoped>\n",
       "    .dataframe tbody tr th:only-of-type {\n",
       "        vertical-align: middle;\n",
       "    }\n",
       "\n",
       "    .dataframe tbody tr th {\n",
       "        vertical-align: top;\n",
       "    }\n",
       "\n",
       "    .dataframe thead th {\n",
       "        text-align: right;\n",
       "    }\n",
       "</style>\n",
       "<table border=\"1\" class=\"dataframe\">\n",
       "  <thead>\n",
       "    <tr style=\"text-align: right;\">\n",
       "      <th></th>\n",
       "      <th>Count_of_sizes</th>\n",
       "      <th>Type_of_colors</th>\n",
       "      <th>Style code</th>\n",
       "    </tr>\n",
       "  </thead>\n",
       "  <tbody>\n",
       "    <tr>\n",
       "      <th>0</th>\n",
       "      <td>Select Size\\nSize Guide\\nUK 5.5\\nUK 6 (EU 39)\\...</td>\n",
       "      <td>Colour Shown: Light Silver/Clear/Light Silver</td>\n",
       "      <td>Style: FB8875-002</td>\n",
       "    </tr>\n",
       "  </tbody>\n",
       "</table>\n",
       "</div>"
      ],
      "text/plain": [
       "                                      Count_of_sizes  \\\n",
       "0  Select Size\\nSize Guide\\nUK 5.5\\nUK 6 (EU 39)\\...   \n",
       "\n",
       "                                  Type_of_colors         Style code  \n",
       "0  Colour Shown: Light Silver/Clear/Light Silver  Style: FB8875-002  "
      ]
     },
     "execution_count": 74,
     "metadata": {},
     "output_type": "execute_result"
    }
   ],
   "source": [
    "import pandas as pd\n",
    "df16=pd.DataFrame({'Count_of_sizes':Count_of_sizes,'Type_of_colors':Type_of_colors,'Style code':Style_code})\n",
    "df16"
   ]
  },
  {
   "cell_type": "code",
   "execution_count": 77,
   "id": "cd447952-0eef-4c29-9a07-2d5d40e28fbc",
   "metadata": {
    "tags": []
   },
   "outputs": [],
   "source": [
    "search_keyword = driver.find_element(By.XPATH, '//*[@id=\"VisualSearchInput\"]')\n",
    "search_keyword.clear()\n",
    "search_keyword.send_keys('Men Shoes')"
   ]
  },
  {
   "cell_type": "code",
   "execution_count": 78,
   "id": "9b54f340-7344-45b3-8ccb-477b67bf20ff",
   "metadata": {
    "tags": []
   },
   "outputs": [],
   "source": [
    "search_keyword = driver.find_element(By.XPATH, '//*[@id=\"gen-nav-commerce-header-v2\"]/div[3]/header/div[1]/div[2]/div/div/div[1]/div/div/button[2]')\n",
    "search_keyword.click()"
   ]
  },
  {
   "cell_type": "code",
   "execution_count": 80,
   "id": "f53c9e9b-ff27-4967-bf0d-7c0c5313feee",
   "metadata": {
    "tags": []
   },
   "outputs": [],
   "source": [
    "search_keyword = driver.find_element(By.XPATH, '//*[@id=\"skip-to-products\"]/div[5]/div/figure/a[2]/div')\n",
    "search_keyword.click()"
   ]
  },
  {
   "cell_type": "code",
   "execution_count": 81,
   "id": "2930f59e-f90f-4be7-b076-3b39768f8d27",
   "metadata": {
    "tags": []
   },
   "outputs": [],
   "source": [
    "Count_of_sizes = []\n",
    "Type_of_colors = []\n",
    "Style_code = []"
   ]
  },
  {
   "cell_type": "code",
   "execution_count": 82,
   "id": "283e1e84-b6c3-43c0-9422-28a0b3491a9a",
   "metadata": {
    "tags": []
   },
   "outputs": [],
   "source": [
    "title_tags=driver.find_elements(By.XPATH, '//*[@id=\"buyTools\"]/div[1]')\n",
    "for i in title_tags[0:23]:\n",
    "    title=i.text\n",
    "    Count_of_sizes.append(title)"
   ]
  },
  {
   "cell_type": "code",
   "execution_count": 83,
   "id": "0e65bbf2-b520-45fe-8421-797cf3a2a4eb",
   "metadata": {
    "tags": []
   },
   "outputs": [],
   "source": [
    "title_tags=driver.find_elements(By.CLASS_NAME, 'description-preview__color-description.ncss-li')\n",
    "for i in title_tags[0:23]:\n",
    "    title=i.text\n",
    "    Type_of_colors.append(title)"
   ]
  },
  {
   "cell_type": "code",
   "execution_count": 84,
   "id": "3672f26e-f895-454a-b0b4-24936ff613de",
   "metadata": {
    "tags": []
   },
   "outputs": [],
   "source": [
    "title_tags=driver.find_elements(By.CLASS_NAME, 'description-preview__style-color.ncss-li')\n",
    "for i in title_tags[0:23]:\n",
    "    title=i.text\n",
    "    Style_code.append(title)"
   ]
  },
  {
   "cell_type": "code",
   "execution_count": 85,
   "id": "8049125a-5ee5-43e7-8f50-a3c32d624ee0",
   "metadata": {
    "tags": []
   },
   "outputs": [
    {
     "name": "stdout",
     "output_type": "stream",
     "text": [
      "1 1 1\n"
     ]
    }
   ],
   "source": [
    "print(len(Count_of_sizes),len(Type_of_colors), len(Style_code))"
   ]
  },
  {
   "cell_type": "code",
   "execution_count": 86,
   "id": "c2fc8bb7-99d7-4f7e-9992-238282bef61c",
   "metadata": {
    "tags": []
   },
   "outputs": [
    {
     "data": {
      "text/html": [
       "<div>\n",
       "<style scoped>\n",
       "    .dataframe tbody tr th:only-of-type {\n",
       "        vertical-align: middle;\n",
       "    }\n",
       "\n",
       "    .dataframe tbody tr th {\n",
       "        vertical-align: top;\n",
       "    }\n",
       "\n",
       "    .dataframe thead th {\n",
       "        text-align: right;\n",
       "    }\n",
       "</style>\n",
       "<table border=\"1\" class=\"dataframe\">\n",
       "  <thead>\n",
       "    <tr style=\"text-align: right;\">\n",
       "      <th></th>\n",
       "      <th>Count_of_sizes</th>\n",
       "      <th>Type_of_colors</th>\n",
       "      <th>Style code</th>\n",
       "    </tr>\n",
       "  </thead>\n",
       "  <tbody>\n",
       "    <tr>\n",
       "      <th>0</th>\n",
       "      <td>Select Size\\nSize Guide\\nUK 5.5\\nUK 6 (EU 39)\\...</td>\n",
       "      <td>Colour Shown: Sail/Light Orewood Brown/White/B...</td>\n",
       "      <td>Style: FQ8075-133</td>\n",
       "    </tr>\n",
       "  </tbody>\n",
       "</table>\n",
       "</div>"
      ],
      "text/plain": [
       "                                      Count_of_sizes  \\\n",
       "0  Select Size\\nSize Guide\\nUK 5.5\\nUK 6 (EU 39)\\...   \n",
       "\n",
       "                                      Type_of_colors         Style code  \n",
       "0  Colour Shown: Sail/Light Orewood Brown/White/B...  Style: FQ8075-133  "
      ]
     },
     "execution_count": 86,
     "metadata": {},
     "output_type": "execute_result"
    }
   ],
   "source": [
    "import pandas as pd\n",
    "df17=pd.DataFrame({'Count_of_sizes':Count_of_sizes,'Type_of_colors':Type_of_colors,'Style code':Style_code})\n",
    "df17"
   ]
  },
  {
   "cell_type": "code",
   "execution_count": 94,
   "id": "0917cd78-71d4-47c9-b7f9-80098e16741a",
   "metadata": {
    "tags": []
   },
   "outputs": [],
   "source": [
    "search_keyword = driver.find_element(By.XPATH, '//*[@id=\"VisualSearchInput\"]')\n",
    "search_keyword.clear()\n",
    "search_keyword.send_keys('Men Shoes')"
   ]
  },
  {
   "cell_type": "code",
   "execution_count": 95,
   "id": "42efaa2e-43bf-4da6-909c-7acf5e0ebe5a",
   "metadata": {
    "tags": []
   },
   "outputs": [],
   "source": [
    "search_keyword = driver.find_element(By.XPATH, '//*[@id=\"gen-nav-commerce-header-v2\"]/div[3]/header/div[1]/div[2]/div/div/div[1]/div/div/button[2]')\n",
    "search_keyword.click()"
   ]
  },
  {
   "cell_type": "code",
   "execution_count": 96,
   "id": "131f76ea-ca10-496d-a1cb-5005ae307896",
   "metadata": {
    "tags": []
   },
   "outputs": [],
   "source": [
    "search_keyword = driver.find_element(By.XPATH, '//*[@id=\"skip-to-products\"]/div[6]/div/figure/a[2]/div')\n",
    "search_keyword.click()"
   ]
  },
  {
   "cell_type": "code",
   "execution_count": 97,
   "id": "49db18a0-decc-417c-830f-b23d68b87af2",
   "metadata": {
    "tags": []
   },
   "outputs": [],
   "source": [
    "Count_of_sizes = []\n",
    "Type_of_colors = []\n",
    "Style_code = []"
   ]
  },
  {
   "cell_type": "code",
   "execution_count": 98,
   "id": "ffd6a95b-c79b-4f37-931f-70df8f0f67a0",
   "metadata": {
    "tags": []
   },
   "outputs": [],
   "source": [
    "title_tags=driver.find_elements(By.XPATH, '//*[@id=\"buyTools\"]/div[1]')\n",
    "for i in title_tags[0:23]:\n",
    "    title=i.text\n",
    "    Count_of_sizes.append(title)"
   ]
  },
  {
   "cell_type": "code",
   "execution_count": 99,
   "id": "29d8a966-4ffc-4a35-8f24-a89d452d0e09",
   "metadata": {
    "tags": []
   },
   "outputs": [],
   "source": [
    "title_tags=driver.find_elements(By.CLASS_NAME, 'description-preview__color-description.ncss-li')\n",
    "for i in title_tags[0:23]:\n",
    "    title=i.text\n",
    "    Type_of_colors.append(title)"
   ]
  },
  {
   "cell_type": "code",
   "execution_count": 100,
   "id": "d7042ab0-c60e-45bb-a9c5-380d3c5c347c",
   "metadata": {
    "tags": []
   },
   "outputs": [],
   "source": [
    "title_tags=driver.find_elements(By.CLASS_NAME, 'description-preview__style-color.ncss-li')\n",
    "for i in title_tags[0:23]:\n",
    "    title=i.text\n",
    "    Style_code.append(title)"
   ]
  },
  {
   "cell_type": "code",
   "execution_count": 101,
   "id": "3e49f7f9-62fb-44f1-ab58-544ee08bbf2d",
   "metadata": {
    "tags": []
   },
   "outputs": [
    {
     "name": "stdout",
     "output_type": "stream",
     "text": [
      "1 1 1\n"
     ]
    }
   ],
   "source": [
    "print(len(Count_of_sizes),len(Type_of_colors), len(Style_code))"
   ]
  },
  {
   "cell_type": "code",
   "execution_count": 102,
   "id": "0b9c472f-b555-4dca-8145-cd01a4159824",
   "metadata": {
    "tags": []
   },
   "outputs": [
    {
     "data": {
      "text/html": [
       "<div>\n",
       "<style scoped>\n",
       "    .dataframe tbody tr th:only-of-type {\n",
       "        vertical-align: middle;\n",
       "    }\n",
       "\n",
       "    .dataframe tbody tr th {\n",
       "        vertical-align: top;\n",
       "    }\n",
       "\n",
       "    .dataframe thead th {\n",
       "        text-align: right;\n",
       "    }\n",
       "</style>\n",
       "<table border=\"1\" class=\"dataframe\">\n",
       "  <thead>\n",
       "    <tr style=\"text-align: right;\">\n",
       "      <th></th>\n",
       "      <th>Count_of_sizes</th>\n",
       "      <th>Type_of_colors</th>\n",
       "      <th>Style code</th>\n",
       "    </tr>\n",
       "  </thead>\n",
       "  <tbody>\n",
       "    <tr>\n",
       "      <th>0</th>\n",
       "      <td>Select Size\\nSize Guide\\nUK 6 (EU 40)\\nUK 6.5\\...</td>\n",
       "      <td>Colour Shown: White/Desert Ochre/Black</td>\n",
       "      <td>Style: DH3162-100</td>\n",
       "    </tr>\n",
       "  </tbody>\n",
       "</table>\n",
       "</div>"
      ],
      "text/plain": [
       "                                      Count_of_sizes  \\\n",
       "0  Select Size\\nSize Guide\\nUK 6 (EU 40)\\nUK 6.5\\...   \n",
       "\n",
       "                           Type_of_colors         Style code  \n",
       "0  Colour Shown: White/Desert Ochre/Black  Style: DH3162-100  "
      ]
     },
     "execution_count": 102,
     "metadata": {},
     "output_type": "execute_result"
    }
   ],
   "source": [
    "import pandas as pd\n",
    "df18=pd.DataFrame({'Count_of_sizes':Count_of_sizes,'Type_of_colors':Type_of_colors,'Style code':Style_code})\n",
    "df18"
   ]
  },
  {
   "cell_type": "code",
   "execution_count": 104,
   "id": "73880c75-7235-43bf-84b8-aa4cf0bdd4b9",
   "metadata": {
    "tags": []
   },
   "outputs": [],
   "source": [
    "search_keyword = driver.find_element(By.XPATH, '//*[@id=\"VisualSearchInput\"]')\n",
    "search_keyword.clear()\n",
    "search_keyword.send_keys('Men Shoes')"
   ]
  },
  {
   "cell_type": "code",
   "execution_count": 105,
   "id": "9b6126ec-195a-4470-aea8-a3598171f7de",
   "metadata": {
    "tags": []
   },
   "outputs": [],
   "source": [
    "search_keyword = driver.find_element(By.XPATH, '//*[@id=\"gen-nav-commerce-header-v2\"]/div[3]/header/div[1]/div[2]/div/div/div[1]/div/div/button[2]')\n",
    "search_keyword.click()"
   ]
  },
  {
   "cell_type": "code",
   "execution_count": 106,
   "id": "165b47f3-6eee-4383-b806-057faa9df117",
   "metadata": {
    "tags": []
   },
   "outputs": [],
   "source": [
    "search_keyword = driver.find_element(By.XPATH, '//*[@id=\"skip-to-products\"]/div[7]/div/figure/a[2]/div')\n",
    "search_keyword.click()"
   ]
  },
  {
   "cell_type": "code",
   "execution_count": 107,
   "id": "38bcaa71-e765-4a00-af78-a5aec5195c51",
   "metadata": {
    "tags": []
   },
   "outputs": [],
   "source": [
    "Count_of_sizes = []\n",
    "Type_of_colors = []\n",
    "Style_code = []"
   ]
  },
  {
   "cell_type": "code",
   "execution_count": 108,
   "id": "3221dd6e-87b4-4738-b37b-0212ea56a6ae",
   "metadata": {
    "tags": []
   },
   "outputs": [],
   "source": [
    "title_tags=driver.find_elements(By.XPATH, '//*[@id=\"buyTools\"]/div[1]')\n",
    "for i in title_tags[0:23]:\n",
    "    title=i.text\n",
    "    Count_of_sizes.append(title)"
   ]
  },
  {
   "cell_type": "code",
   "execution_count": 109,
   "id": "6f6afd64-6405-4908-aa82-f8d422505037",
   "metadata": {
    "tags": []
   },
   "outputs": [],
   "source": [
    "title_tags=driver.find_elements(By.CLASS_NAME, 'description-preview__color-description.ncss-li')\n",
    "for i in title_tags[0:23]:\n",
    "    title=i.text\n",
    "    Type_of_colors.append(title)"
   ]
  },
  {
   "cell_type": "code",
   "execution_count": 110,
   "id": "27b5d6dd-df8d-40c1-a8ee-1d9b80c5649a",
   "metadata": {
    "tags": []
   },
   "outputs": [],
   "source": [
    "title_tags=driver.find_elements(By.CLASS_NAME, 'description-preview__style-color.ncss-li')\n",
    "for i in title_tags[0:23]:\n",
    "    title=i.text\n",
    "    Style_code.append(title)"
   ]
  },
  {
   "cell_type": "code",
   "execution_count": 111,
   "id": "adaafafe-126c-4923-8488-0ccfd1b1d4b9",
   "metadata": {
    "tags": []
   },
   "outputs": [
    {
     "name": "stdout",
     "output_type": "stream",
     "text": [
      "1 1 1\n"
     ]
    }
   ],
   "source": [
    "print(len(Count_of_sizes),len(Type_of_colors), len(Style_code))"
   ]
  },
  {
   "cell_type": "code",
   "execution_count": 112,
   "id": "a06d3cc6-0311-45e5-bacf-58ca88780de2",
   "metadata": {
    "tags": []
   },
   "outputs": [
    {
     "data": {
      "text/html": [
       "<div>\n",
       "<style scoped>\n",
       "    .dataframe tbody tr th:only-of-type {\n",
       "        vertical-align: middle;\n",
       "    }\n",
       "\n",
       "    .dataframe tbody tr th {\n",
       "        vertical-align: top;\n",
       "    }\n",
       "\n",
       "    .dataframe thead th {\n",
       "        text-align: right;\n",
       "    }\n",
       "</style>\n",
       "<table border=\"1\" class=\"dataframe\">\n",
       "  <thead>\n",
       "    <tr style=\"text-align: right;\">\n",
       "      <th></th>\n",
       "      <th>Count_of_sizes</th>\n",
       "      <th>Type_of_colors</th>\n",
       "      <th>Style code</th>\n",
       "    </tr>\n",
       "  </thead>\n",
       "  <tbody>\n",
       "    <tr>\n",
       "      <th>0</th>\n",
       "      <td>Select Size\\nSize Guide\\nUK 5.5\\nUK 6 (EU 39)\\...</td>\n",
       "      <td>Colour Shown: White/Sail/Black</td>\n",
       "      <td>Style: DA6364-101</td>\n",
       "    </tr>\n",
       "  </tbody>\n",
       "</table>\n",
       "</div>"
      ],
      "text/plain": [
       "                                      Count_of_sizes  \\\n",
       "0  Select Size\\nSize Guide\\nUK 5.5\\nUK 6 (EU 39)\\...   \n",
       "\n",
       "                   Type_of_colors         Style code  \n",
       "0  Colour Shown: White/Sail/Black  Style: DA6364-101  "
      ]
     },
     "execution_count": 112,
     "metadata": {},
     "output_type": "execute_result"
    }
   ],
   "source": [
    "import pandas as pd\n",
    "df19=pd.DataFrame({'Count_of_sizes':Count_of_sizes,'Type_of_colors':Type_of_colors,'Style code':Style_code})\n",
    "df19"
   ]
  },
  {
   "cell_type": "code",
   "execution_count": 113,
   "id": "efbe6f0e-82fb-41aa-ae3e-acf058832b7a",
   "metadata": {
    "tags": []
   },
   "outputs": [],
   "source": [
    "search_keyword = driver.find_element(By.XPATH, '//*[@id=\"VisualSearchInput\"]')\n",
    "search_keyword.clear()\n",
    "search_keyword.send_keys('Men Shoes')"
   ]
  },
  {
   "cell_type": "code",
   "execution_count": 114,
   "id": "87b8b277-597b-4351-88ec-86416df9459d",
   "metadata": {
    "tags": []
   },
   "outputs": [],
   "source": [
    "search_keyword = driver.find_element(By.XPATH, '//*[@id=\"gen-nav-commerce-header-v2\"]/div[3]/header/div[1]/div[2]/div/div/div[1]/div/div/button[2]')\n",
    "search_keyword.click()"
   ]
  },
  {
   "cell_type": "code",
   "execution_count": 115,
   "id": "1646a67c-1cfd-4dd1-8c97-d38434de3d0a",
   "metadata": {
    "tags": []
   },
   "outputs": [],
   "source": [
    "search_keyword = driver.find_element(By.XPATH, '//*[@id=\"skip-to-products\"]/div[8]/div/figure/a[2]/div')\n",
    "search_keyword.click()"
   ]
  },
  {
   "cell_type": "code",
   "execution_count": 116,
   "id": "9a0bfcc8-c656-467c-98e7-4fc027ec92a9",
   "metadata": {
    "tags": []
   },
   "outputs": [],
   "source": [
    "Count_of_sizes = []\n",
    "Type_of_colors = []\n",
    "Style_code = []"
   ]
  },
  {
   "cell_type": "code",
   "execution_count": 117,
   "id": "61149dd9-ff49-4dd2-beb0-ddef8669c031",
   "metadata": {
    "tags": []
   },
   "outputs": [],
   "source": [
    "title_tags=driver.find_elements(By.XPATH, '//*[@id=\"buyTools\"]/div[1]')\n",
    "for i in title_tags[0:23]:\n",
    "    title=i.text\n",
    "    Count_of_sizes.append(title)"
   ]
  },
  {
   "cell_type": "code",
   "execution_count": 118,
   "id": "0369cc6c-8b23-4b31-8fb0-2bdd20c4b025",
   "metadata": {
    "tags": []
   },
   "outputs": [],
   "source": [
    "title_tags=driver.find_elements(By.CLASS_NAME, 'description-preview__color-description.ncss-li')\n",
    "for i in title_tags[0:23]:\n",
    "    title=i.text\n",
    "    Type_of_colors.append(title)"
   ]
  },
  {
   "cell_type": "code",
   "execution_count": 119,
   "id": "a3e73981-3c19-4a5e-a9ba-3a21ffb90adc",
   "metadata": {
    "tags": []
   },
   "outputs": [],
   "source": [
    "title_tags=driver.find_elements(By.CLASS_NAME, 'description-preview__style-color.ncss-li')\n",
    "for i in title_tags[0:23]:\n",
    "    title=i.text\n",
    "    Style_code.append(title)"
   ]
  },
  {
   "cell_type": "code",
   "execution_count": 120,
   "id": "52bf795a-f273-48ee-aa7a-edc88653f6f9",
   "metadata": {
    "tags": []
   },
   "outputs": [
    {
     "name": "stdout",
     "output_type": "stream",
     "text": [
      "1 1 1\n"
     ]
    }
   ],
   "source": [
    "print(len(Count_of_sizes),len(Type_of_colors), len(Style_code))"
   ]
  },
  {
   "cell_type": "code",
   "execution_count": 121,
   "id": "bcb50c9b-8dc1-4e54-b324-d60e17f1407d",
   "metadata": {
    "tags": []
   },
   "outputs": [
    {
     "data": {
      "text/html": [
       "<div>\n",
       "<style scoped>\n",
       "    .dataframe tbody tr th:only-of-type {\n",
       "        vertical-align: middle;\n",
       "    }\n",
       "\n",
       "    .dataframe tbody tr th {\n",
       "        vertical-align: top;\n",
       "    }\n",
       "\n",
       "    .dataframe thead th {\n",
       "        text-align: right;\n",
       "    }\n",
       "</style>\n",
       "<table border=\"1\" class=\"dataframe\">\n",
       "  <thead>\n",
       "    <tr style=\"text-align: right;\">\n",
       "      <th></th>\n",
       "      <th>Count_of_sizes</th>\n",
       "      <th>Type_of_colors</th>\n",
       "      <th>Style code</th>\n",
       "    </tr>\n",
       "  </thead>\n",
       "  <tbody>\n",
       "    <tr>\n",
       "      <th>0</th>\n",
       "      <td>Select Size\\nSize Guide\\nUK 6 (EU 40)\\nUK 6.5\\...</td>\n",
       "      <td>Colour Shown: Phantom/Cargo Khaki/Dark Russet/...</td>\n",
       "      <td>Style: FB8877-001</td>\n",
       "    </tr>\n",
       "  </tbody>\n",
       "</table>\n",
       "</div>"
      ],
      "text/plain": [
       "                                      Count_of_sizes  \\\n",
       "0  Select Size\\nSize Guide\\nUK 6 (EU 40)\\nUK 6.5\\...   \n",
       "\n",
       "                                      Type_of_colors         Style code  \n",
       "0  Colour Shown: Phantom/Cargo Khaki/Dark Russet/...  Style: FB8877-001  "
      ]
     },
     "execution_count": 121,
     "metadata": {},
     "output_type": "execute_result"
    }
   ],
   "source": [
    "import pandas as pd\n",
    "df20=pd.DataFrame({'Count_of_sizes':Count_of_sizes,'Type_of_colors':Type_of_colors,'Style code':Style_code})\n",
    "df20"
   ]
  },
  {
   "cell_type": "code",
   "execution_count": 122,
   "id": "e8f00402-c4a3-4020-9513-2319940f4922",
   "metadata": {
    "tags": []
   },
   "outputs": [],
   "source": [
    "search_keyword = driver.find_element(By.XPATH, '//*[@id=\"VisualSearchInput\"]')\n",
    "search_keyword.clear()\n",
    "search_keyword.send_keys('Men Shoes')"
   ]
  },
  {
   "cell_type": "code",
   "execution_count": 123,
   "id": "8dbba225-4430-4b69-ab16-a927b10be380",
   "metadata": {
    "tags": []
   },
   "outputs": [],
   "source": [
    "search_keyword = driver.find_element(By.XPATH, '//*[@id=\"gen-nav-commerce-header-v2\"]/div[3]/header/div[1]/div[2]/div/div/div[1]/div/div/button[2]')\n",
    "search_keyword.click()"
   ]
  },
  {
   "cell_type": "code",
   "execution_count": 124,
   "id": "e6bffe6f-8122-4a28-81b9-4bdb92326bff",
   "metadata": {
    "tags": []
   },
   "outputs": [],
   "source": [
    "search_keyword = driver.find_element(By.XPATH, '//*[@id=\"skip-to-products\"]/div[9]/div/figure/a[2]/div')\n",
    "search_keyword.click()"
   ]
  },
  {
   "cell_type": "code",
   "execution_count": 125,
   "id": "7d8b05d3-1626-4bec-8d9e-7088654daef7",
   "metadata": {
    "tags": []
   },
   "outputs": [],
   "source": [
    "Count_of_sizes = []\n",
    "Type_of_colors = []\n",
    "Style_code = []"
   ]
  },
  {
   "cell_type": "code",
   "execution_count": 126,
   "id": "759c59f0-4e32-46a5-ac35-ac88e431a35d",
   "metadata": {
    "tags": []
   },
   "outputs": [],
   "source": [
    "title_tags=driver.find_elements(By.XPATH, '//*[@id=\"buyTools\"]/div[1]')\n",
    "for i in title_tags[0:23]:\n",
    "    title=i.text\n",
    "    Count_of_sizes.append(title)"
   ]
  },
  {
   "cell_type": "code",
   "execution_count": 127,
   "id": "5c4bccd0-6f69-42a4-8a4d-79630fe09aae",
   "metadata": {
    "tags": []
   },
   "outputs": [],
   "source": [
    "title_tags=driver.find_elements(By.CLASS_NAME, 'description-preview__color-description.ncss-li')\n",
    "for i in title_tags[0:23]:\n",
    "    title=i.text\n",
    "    Type_of_colors.append(title)"
   ]
  },
  {
   "cell_type": "code",
   "execution_count": 128,
   "id": "4695ef4e-f699-4222-a149-34b87d8e6288",
   "metadata": {
    "tags": []
   },
   "outputs": [],
   "source": [
    "title_tags=driver.find_elements(By.CLASS_NAME, 'description-preview__style-color.ncss-li')\n",
    "for i in title_tags[0:23]:\n",
    "    title=i.text\n",
    "    Style_code.append(title)"
   ]
  },
  {
   "cell_type": "code",
   "execution_count": 129,
   "id": "dfc78010-5740-4362-beca-1a827c80801f",
   "metadata": {
    "tags": []
   },
   "outputs": [
    {
     "name": "stdout",
     "output_type": "stream",
     "text": [
      "1 1 1\n"
     ]
    }
   ],
   "source": [
    "print(len(Count_of_sizes),len(Type_of_colors), len(Style_code))"
   ]
  },
  {
   "cell_type": "code",
   "execution_count": 130,
   "id": "3625d162-5f39-44cb-8160-0449f2521beb",
   "metadata": {
    "tags": []
   },
   "outputs": [
    {
     "data": {
      "text/html": [
       "<div>\n",
       "<style scoped>\n",
       "    .dataframe tbody tr th:only-of-type {\n",
       "        vertical-align: middle;\n",
       "    }\n",
       "\n",
       "    .dataframe tbody tr th {\n",
       "        vertical-align: top;\n",
       "    }\n",
       "\n",
       "    .dataframe thead th {\n",
       "        text-align: right;\n",
       "    }\n",
       "</style>\n",
       "<table border=\"1\" class=\"dataframe\">\n",
       "  <thead>\n",
       "    <tr style=\"text-align: right;\">\n",
       "      <th></th>\n",
       "      <th>Count_of_sizes</th>\n",
       "      <th>Type_of_colors</th>\n",
       "      <th>Style code</th>\n",
       "    </tr>\n",
       "  </thead>\n",
       "  <tbody>\n",
       "    <tr>\n",
       "      <th>0</th>\n",
       "      <td>Select Size\\nSize Guide\\nUK 6 (EU 40)\\nUK 6.5\\...</td>\n",
       "      <td>Colour Shown: White/White/White</td>\n",
       "      <td>Style: DH9636-101</td>\n",
       "    </tr>\n",
       "  </tbody>\n",
       "</table>\n",
       "</div>"
      ],
      "text/plain": [
       "                                      Count_of_sizes  \\\n",
       "0  Select Size\\nSize Guide\\nUK 6 (EU 40)\\nUK 6.5\\...   \n",
       "\n",
       "                    Type_of_colors         Style code  \n",
       "0  Colour Shown: White/White/White  Style: DH9636-101  "
      ]
     },
     "execution_count": 130,
     "metadata": {},
     "output_type": "execute_result"
    }
   ],
   "source": [
    "import pandas as pd\n",
    "df21=pd.DataFrame({'Count_of_sizes':Count_of_sizes,'Type_of_colors':Type_of_colors,'Style code':Style_code})\n",
    "df21"
   ]
  },
  {
   "cell_type": "code",
   "execution_count": 131,
   "id": "0efb51c9-74ef-4c47-b30c-b5ed707e6636",
   "metadata": {
    "tags": []
   },
   "outputs": [],
   "source": [
    "search_keyword = driver.find_element(By.XPATH, '//*[@id=\"VisualSearchInput\"]')\n",
    "search_keyword.clear()\n",
    "search_keyword.send_keys('Men Shoes')"
   ]
  },
  {
   "cell_type": "code",
   "execution_count": 133,
   "id": "b45f85e4-73ea-4075-a765-0d1321e5fdc8",
   "metadata": {
    "tags": []
   },
   "outputs": [],
   "source": [
    "search_keyword = driver.find_element(By.XPATH, '//*[@id=\"gen-nav-commerce-header-v2\"]/div[3]/header/div[1]/div[2]/div/div/div[1]/div/div/button[2]')\n",
    "search_keyword.click()"
   ]
  },
  {
   "cell_type": "code",
   "execution_count": 134,
   "id": "9afa3b6b-a691-4837-9441-47024e7ceee7",
   "metadata": {
    "tags": []
   },
   "outputs": [],
   "source": [
    "search_keyword = driver.find_element(By.XPATH, '//*[@id=\"skip-to-products\"]/div[10]/div/figure/a[2]/div')\n",
    "search_keyword.click()"
   ]
  },
  {
   "cell_type": "code",
   "execution_count": 135,
   "id": "1e48f19b-ce1e-4302-b042-6984954c98d9",
   "metadata": {
    "tags": []
   },
   "outputs": [],
   "source": [
    "Count_of_sizes = []\n",
    "Type_of_colors = []\n",
    "Style_code = []"
   ]
  },
  {
   "cell_type": "code",
   "execution_count": 136,
   "id": "7a219e4f-1b4f-4aa0-83de-7e0e04381fb1",
   "metadata": {
    "tags": []
   },
   "outputs": [],
   "source": [
    "title_tags=driver.find_elements(By.XPATH, '//*[@id=\"buyTools\"]/div[1]')\n",
    "for i in title_tags[0:23]:\n",
    "    title=i.text\n",
    "    Count_of_sizes.append(title)"
   ]
  },
  {
   "cell_type": "code",
   "execution_count": 137,
   "id": "f8bfe435-fc0e-4cfa-bda4-c947f70d8da5",
   "metadata": {
    "tags": []
   },
   "outputs": [],
   "source": [
    "title_tags=driver.find_elements(By.CLASS_NAME, 'description-preview__color-description.ncss-li')\n",
    "for i in title_tags[0:23]:\n",
    "    title=i.text\n",
    "    Type_of_colors.append(title)"
   ]
  },
  {
   "cell_type": "code",
   "execution_count": 138,
   "id": "d5ed014b-224e-4aa3-a6ea-afad8c52bf69",
   "metadata": {
    "tags": []
   },
   "outputs": [],
   "source": [
    "title_tags=driver.find_elements(By.CLASS_NAME, 'description-preview__style-color.ncss-li')\n",
    "for i in title_tags[0:23]:\n",
    "    title=i.text\n",
    "    Style_code.append(title)"
   ]
  },
  {
   "cell_type": "code",
   "execution_count": 139,
   "id": "bb09198c-c6c9-4f44-beda-14ac0f86db83",
   "metadata": {
    "tags": []
   },
   "outputs": [
    {
     "name": "stdout",
     "output_type": "stream",
     "text": [
      "1 1 1\n"
     ]
    }
   ],
   "source": [
    "print(len(Count_of_sizes),len(Type_of_colors), len(Style_code))"
   ]
  },
  {
   "cell_type": "code",
   "execution_count": 140,
   "id": "7e5a5350-adfe-4576-8b45-2122eb285a03",
   "metadata": {
    "tags": []
   },
   "outputs": [
    {
     "data": {
      "text/html": [
       "<div>\n",
       "<style scoped>\n",
       "    .dataframe tbody tr th:only-of-type {\n",
       "        vertical-align: middle;\n",
       "    }\n",
       "\n",
       "    .dataframe tbody tr th {\n",
       "        vertical-align: top;\n",
       "    }\n",
       "\n",
       "    .dataframe thead th {\n",
       "        text-align: right;\n",
       "    }\n",
       "</style>\n",
       "<table border=\"1\" class=\"dataframe\">\n",
       "  <thead>\n",
       "    <tr style=\"text-align: right;\">\n",
       "      <th></th>\n",
       "      <th>Count_of_sizes</th>\n",
       "      <th>Type_of_colors</th>\n",
       "      <th>Style code</th>\n",
       "    </tr>\n",
       "  </thead>\n",
       "  <tbody>\n",
       "    <tr>\n",
       "      <th>0</th>\n",
       "      <td>Select Size\\nSize Guide\\nUK 6 (EU 40)\\nUK 6.5\\...</td>\n",
       "      <td>Colour Shown: Anthracite/Black/Mystic Red/Summ...</td>\n",
       "      <td>Style: FB9658-001</td>\n",
       "    </tr>\n",
       "  </tbody>\n",
       "</table>\n",
       "</div>"
      ],
      "text/plain": [
       "                                      Count_of_sizes  \\\n",
       "0  Select Size\\nSize Guide\\nUK 6 (EU 40)\\nUK 6.5\\...   \n",
       "\n",
       "                                      Type_of_colors         Style code  \n",
       "0  Colour Shown: Anthracite/Black/Mystic Red/Summ...  Style: FB9658-001  "
      ]
     },
     "execution_count": 140,
     "metadata": {},
     "output_type": "execute_result"
    }
   ],
   "source": [
    "import pandas as pd\n",
    "df22=pd.DataFrame({'Count_of_sizes':Count_of_sizes,'Type_of_colors':Type_of_colors,'Style code':Style_code})\n",
    "df22"
   ]
  },
  {
   "cell_type": "code",
   "execution_count": 141,
   "id": "fa712363-ec47-4ae0-a816-6ea7093a82a0",
   "metadata": {
    "tags": []
   },
   "outputs": [],
   "source": [
    "search_keyword = driver.find_element(By.XPATH, '//*[@id=\"VisualSearchInput\"]')\n",
    "search_keyword.clear()\n",
    "search_keyword.send_keys('Men Shoes')"
   ]
  },
  {
   "cell_type": "code",
   "execution_count": 142,
   "id": "9c809c1c-fbb9-4aff-a2c7-88cc61340fef",
   "metadata": {
    "tags": []
   },
   "outputs": [],
   "source": [
    "search_keyword = driver.find_element(By.XPATH, '//*[@id=\"gen-nav-commerce-header-v2\"]/div[3]/header/div[1]/div[2]/div/div/div[1]/div/div/button[2]')\n",
    "search_keyword.click()"
   ]
  },
  {
   "cell_type": "code",
   "execution_count": 143,
   "id": "de552bac-8a2f-4121-becf-3e6a7f7d4435",
   "metadata": {
    "tags": []
   },
   "outputs": [],
   "source": [
    "search_keyword = driver.find_element(By.XPATH, '//*[@id=\"skip-to-products\"]/div[11]/div/figure/a[2]/div')\n",
    "search_keyword.click()"
   ]
  },
  {
   "cell_type": "code",
   "execution_count": 144,
   "id": "69eafde7-31c6-4975-938f-4c3b40fa5164",
   "metadata": {
    "tags": []
   },
   "outputs": [],
   "source": [
    "Count_of_sizes = []\n",
    "Type_of_colors = []\n",
    "Style_code = []"
   ]
  },
  {
   "cell_type": "code",
   "execution_count": 145,
   "id": "b333a408-a6c6-460f-aa7e-f14e6e8edd2b",
   "metadata": {
    "tags": []
   },
   "outputs": [],
   "source": [
    "title_tags=driver.find_elements(By.XPATH, '//*[@id=\"buyTools\"]/div[1]')\n",
    "for i in title_tags[0:23]:\n",
    "    title=i.text\n",
    "    Count_of_sizes.append(title)"
   ]
  },
  {
   "cell_type": "code",
   "execution_count": 146,
   "id": "0f8e147c-6aa2-4085-9ff4-bcbf4d54cb6b",
   "metadata": {
    "tags": []
   },
   "outputs": [],
   "source": [
    "title_tags=driver.find_elements(By.CLASS_NAME, 'description-preview__color-description.ncss-li')\n",
    "for i in title_tags[0:23]:\n",
    "    title=i.text\n",
    "    Type_of_colors.append(title)"
   ]
  },
  {
   "cell_type": "code",
   "execution_count": 147,
   "id": "6f9e6a9c-61b1-44ef-9d9f-d4c18d7f1a8b",
   "metadata": {
    "tags": []
   },
   "outputs": [],
   "source": [
    "title_tags=driver.find_elements(By.CLASS_NAME, 'description-preview__style-color.ncss-li')\n",
    "for i in title_tags[0:23]:\n",
    "    title=i.text\n",
    "    Style_code.append(title)"
   ]
  },
  {
   "cell_type": "code",
   "execution_count": 148,
   "id": "9762810e-7e15-4e75-9ac0-81463f367f18",
   "metadata": {
    "tags": []
   },
   "outputs": [
    {
     "name": "stdout",
     "output_type": "stream",
     "text": [
      "1 1 1\n"
     ]
    }
   ],
   "source": [
    "print(len(Count_of_sizes),len(Type_of_colors), len(Style_code))"
   ]
  },
  {
   "cell_type": "code",
   "execution_count": 149,
   "id": "95ffbf23-12d0-4b96-85fd-2356950e4d81",
   "metadata": {
    "tags": []
   },
   "outputs": [
    {
     "data": {
      "text/html": [
       "<div>\n",
       "<style scoped>\n",
       "    .dataframe tbody tr th:only-of-type {\n",
       "        vertical-align: middle;\n",
       "    }\n",
       "\n",
       "    .dataframe tbody tr th {\n",
       "        vertical-align: top;\n",
       "    }\n",
       "\n",
       "    .dataframe thead th {\n",
       "        text-align: right;\n",
       "    }\n",
       "</style>\n",
       "<table border=\"1\" class=\"dataframe\">\n",
       "  <thead>\n",
       "    <tr style=\"text-align: right;\">\n",
       "      <th></th>\n",
       "      <th>Count_of_sizes</th>\n",
       "      <th>Type_of_colors</th>\n",
       "      <th>Style code</th>\n",
       "    </tr>\n",
       "  </thead>\n",
       "  <tbody>\n",
       "    <tr>\n",
       "      <th>0</th>\n",
       "      <td>Select Size\\nSize Guide\\nUK 6 (EU 40)\\nUK 6.5\\...</td>\n",
       "      <td>Colour Shown: Sail/Gum Yellow/Oil Grey</td>\n",
       "      <td>Style: 432997-121</td>\n",
       "    </tr>\n",
       "  </tbody>\n",
       "</table>\n",
       "</div>"
      ],
      "text/plain": [
       "                                      Count_of_sizes  \\\n",
       "0  Select Size\\nSize Guide\\nUK 6 (EU 40)\\nUK 6.5\\...   \n",
       "\n",
       "                           Type_of_colors         Style code  \n",
       "0  Colour Shown: Sail/Gum Yellow/Oil Grey  Style: 432997-121  "
      ]
     },
     "execution_count": 149,
     "metadata": {},
     "output_type": "execute_result"
    }
   ],
   "source": [
    "import pandas as pd\n",
    "df23=pd.DataFrame({'Count_of_sizes':Count_of_sizes,'Type_of_colors':Type_of_colors,'Style code':Style_code})\n",
    "df23"
   ]
  },
  {
   "cell_type": "code",
   "execution_count": 151,
   "id": "f1d340a2-f8b2-4635-87d7-db991b66de72",
   "metadata": {
    "tags": []
   },
   "outputs": [],
   "source": [
    "search_keyword = driver.find_element(By.XPATH, '//*[@id=\"VisualSearchInput\"]')\n",
    "search_keyword.clear()\n",
    "search_keyword.send_keys('Men Shoes')"
   ]
  },
  {
   "cell_type": "code",
   "execution_count": 154,
   "id": "e74a51a5-1a6c-4f23-bb99-12ac88b53e09",
   "metadata": {
    "tags": []
   },
   "outputs": [],
   "source": [
    "search_keyword = driver.find_element(By.XPATH, '//*[@id=\"gen-nav-commerce-header-v2\"]/div[3]/header/div[1]/div[2]/div/div/div[1]/div/div/button[2]')\n",
    "search_keyword.click()"
   ]
  },
  {
   "cell_type": "code",
   "execution_count": 155,
   "id": "46a43d37-9e42-4f06-8df8-47b4d97c36ab",
   "metadata": {
    "tags": []
   },
   "outputs": [],
   "source": [
    "search_keyword = driver.find_element(By.XPATH, '//*[@id=\"skip-to-products\"]/div[12]/div/figure/a[2]/div')\n",
    "search_keyword.click()"
   ]
  },
  {
   "cell_type": "code",
   "execution_count": 156,
   "id": "fe09dbc6-7bdb-4301-adf6-804ccca18444",
   "metadata": {
    "tags": []
   },
   "outputs": [],
   "source": [
    "Count_of_sizes = []\n",
    "Type_of_colors = []\n",
    "Style_code = []"
   ]
  },
  {
   "cell_type": "code",
   "execution_count": 157,
   "id": "70f36f66-38c4-44a5-b8dd-014e87163cf5",
   "metadata": {
    "tags": []
   },
   "outputs": [],
   "source": [
    "title_tags=driver.find_elements(By.XPATH, '//*[@id=\"buyTools\"]/div[1]')\n",
    "for i in title_tags[0:23]:\n",
    "    title=i.text\n",
    "    Count_of_sizes.append(title)"
   ]
  },
  {
   "cell_type": "code",
   "execution_count": 158,
   "id": "29352960-e433-43a9-bb4f-9ca051221ea6",
   "metadata": {
    "tags": []
   },
   "outputs": [],
   "source": [
    "title_tags=driver.find_elements(By.CLASS_NAME, 'description-preview__color-description.ncss-li')\n",
    "for i in title_tags[0:23]:\n",
    "    title=i.text\n",
    "    Type_of_colors.append(title)"
   ]
  },
  {
   "cell_type": "code",
   "execution_count": 159,
   "id": "e51b8e3e-b72a-43a5-8d4d-f7872018e4c8",
   "metadata": {
    "tags": []
   },
   "outputs": [],
   "source": [
    "title_tags=driver.find_elements(By.CLASS_NAME, 'description-preview__style-color.ncss-li')\n",
    "for i in title_tags[0:23]:\n",
    "    title=i.text\n",
    "    Style_code.append(title)"
   ]
  },
  {
   "cell_type": "code",
   "execution_count": 160,
   "id": "80936950-12ed-4f92-bfc0-86090461d734",
   "metadata": {
    "tags": []
   },
   "outputs": [
    {
     "name": "stdout",
     "output_type": "stream",
     "text": [
      "1 1 1\n"
     ]
    }
   ],
   "source": [
    "print(len(Count_of_sizes),len(Type_of_colors), len(Style_code))"
   ]
  },
  {
   "cell_type": "code",
   "execution_count": 161,
   "id": "e676692e-2430-4c11-8721-18414f8468d7",
   "metadata": {
    "tags": []
   },
   "outputs": [
    {
     "data": {
      "text/html": [
       "<div>\n",
       "<style scoped>\n",
       "    .dataframe tbody tr th:only-of-type {\n",
       "        vertical-align: middle;\n",
       "    }\n",
       "\n",
       "    .dataframe tbody tr th {\n",
       "        vertical-align: top;\n",
       "    }\n",
       "\n",
       "    .dataframe thead th {\n",
       "        text-align: right;\n",
       "    }\n",
       "</style>\n",
       "<table border=\"1\" class=\"dataframe\">\n",
       "  <thead>\n",
       "    <tr style=\"text-align: right;\">\n",
       "      <th></th>\n",
       "      <th>Count_of_sizes</th>\n",
       "      <th>Type_of_colors</th>\n",
       "      <th>Style code</th>\n",
       "    </tr>\n",
       "  </thead>\n",
       "  <tbody>\n",
       "    <tr>\n",
       "      <th>0</th>\n",
       "      <td>Select Size\\nSize Guide\\nUK 6 (EU 40)\\nUK 6.5\\...</td>\n",
       "      <td>Colour Shown: Baroque Brown/Coconut Milk/Mysti...</td>\n",
       "      <td>Style: FB8892-200</td>\n",
       "    </tr>\n",
       "  </tbody>\n",
       "</table>\n",
       "</div>"
      ],
      "text/plain": [
       "                                      Count_of_sizes  \\\n",
       "0  Select Size\\nSize Guide\\nUK 6 (EU 40)\\nUK 6.5\\...   \n",
       "\n",
       "                                      Type_of_colors         Style code  \n",
       "0  Colour Shown: Baroque Brown/Coconut Milk/Mysti...  Style: FB8892-200  "
      ]
     },
     "execution_count": 161,
     "metadata": {},
     "output_type": "execute_result"
    }
   ],
   "source": [
    "import pandas as pd\n",
    "df24=pd.DataFrame({'Count_of_sizes':Count_of_sizes,'Type_of_colors':Type_of_colors,'Style code':Style_code})\n",
    "df24"
   ]
  },
  {
   "cell_type": "code",
   "execution_count": 162,
   "id": "22ad3e97-6cbf-480a-848c-3411d3c1e180",
   "metadata": {
    "tags": []
   },
   "outputs": [],
   "source": [
    "search_keyword = driver.find_element(By.XPATH, '//*[@id=\"VisualSearchInput\"]')\n",
    "search_keyword.clear()\n",
    "search_keyword.send_keys('Men Shoes')"
   ]
  },
  {
   "cell_type": "code",
   "execution_count": 164,
   "id": "f491994f-3c33-4c81-a5bb-c71e5d916014",
   "metadata": {
    "tags": []
   },
   "outputs": [],
   "source": [
    "search_keyword = driver.find_element(By.XPATH, '//*[@id=\"gen-nav-commerce-header-v2\"]/div[3]/header/div[1]/div[2]/div/div/div[1]/div/div/button[2]')\n",
    "search_keyword.click()"
   ]
  },
  {
   "cell_type": "code",
   "execution_count": 165,
   "id": "12344d4a-802a-40e7-8e3a-46ee414e6f58",
   "metadata": {
    "tags": []
   },
   "outputs": [],
   "source": [
    "search_keyword = driver.find_element(By.XPATH, '//*[@id=\"skip-to-products\"]/div[13]/div/figure/a[2]/div')\n",
    "search_keyword.click()"
   ]
  },
  {
   "cell_type": "code",
   "execution_count": 166,
   "id": "d9b975da-fd3d-4c3c-911f-68950b18e343",
   "metadata": {
    "tags": []
   },
   "outputs": [],
   "source": [
    "Count_of_sizes = []\n",
    "Type_of_colors = []\n",
    "Style_code = []"
   ]
  },
  {
   "cell_type": "code",
   "execution_count": 167,
   "id": "a2ed864b-d6d9-4b5d-992f-906c1794d9aa",
   "metadata": {
    "tags": []
   },
   "outputs": [],
   "source": [
    "title_tags=driver.find_elements(By.XPATH, '//*[@id=\"buyTools\"]/div[1]')\n",
    "for i in title_tags[0:23]:\n",
    "    title=i.text\n",
    "    Count_of_sizes.append(title)"
   ]
  },
  {
   "cell_type": "code",
   "execution_count": 168,
   "id": "ade1f956-df4f-4af2-a581-a19aed74b2ae",
   "metadata": {
    "tags": []
   },
   "outputs": [],
   "source": [
    "title_tags=driver.find_elements(By.CLASS_NAME, 'description-preview__color-description.ncss-li')\n",
    "for i in title_tags[0:23]:\n",
    "    title=i.text\n",
    "    Type_of_colors.append(title)"
   ]
  },
  {
   "cell_type": "code",
   "execution_count": 169,
   "id": "40f06fd4-39f4-430e-8336-097331ab3521",
   "metadata": {
    "tags": []
   },
   "outputs": [],
   "source": [
    "title_tags=driver.find_elements(By.CLASS_NAME, 'description-preview__style-color.ncss-li')\n",
    "for i in title_tags[0:23]:\n",
    "    title=i.text\n",
    "    Style_code.append(title)"
   ]
  },
  {
   "cell_type": "code",
   "execution_count": 170,
   "id": "239ea546-6d94-4125-88e8-1e49ce6d03f8",
   "metadata": {
    "tags": []
   },
   "outputs": [
    {
     "name": "stdout",
     "output_type": "stream",
     "text": [
      "1 1 1\n"
     ]
    }
   ],
   "source": [
    "print(len(Count_of_sizes),len(Type_of_colors), len(Style_code))"
   ]
  },
  {
   "cell_type": "code",
   "execution_count": 171,
   "id": "dbac9e6e-bd05-4e5f-a4a0-a96d1a839d6c",
   "metadata": {
    "tags": []
   },
   "outputs": [
    {
     "data": {
      "text/html": [
       "<div>\n",
       "<style scoped>\n",
       "    .dataframe tbody tr th:only-of-type {\n",
       "        vertical-align: middle;\n",
       "    }\n",
       "\n",
       "    .dataframe tbody tr th {\n",
       "        vertical-align: top;\n",
       "    }\n",
       "\n",
       "    .dataframe thead th {\n",
       "        text-align: right;\n",
       "    }\n",
       "</style>\n",
       "<table border=\"1\" class=\"dataframe\">\n",
       "  <thead>\n",
       "    <tr style=\"text-align: right;\">\n",
       "      <th></th>\n",
       "      <th>Count_of_sizes</th>\n",
       "      <th>Type_of_colors</th>\n",
       "      <th>Style code</th>\n",
       "    </tr>\n",
       "  </thead>\n",
       "  <tbody>\n",
       "    <tr>\n",
       "      <th>0</th>\n",
       "      <td>Select Size\\nSize Guide\\nUK 5.5\\nUK 6 (EU 39)\\...</td>\n",
       "      <td>Colour Shown: Black/Anthracite/Volt/White</td>\n",
       "      <td>Style: FB2204-001</td>\n",
       "    </tr>\n",
       "  </tbody>\n",
       "</table>\n",
       "</div>"
      ],
      "text/plain": [
       "                                      Count_of_sizes  \\\n",
       "0  Select Size\\nSize Guide\\nUK 5.5\\nUK 6 (EU 39)\\...   \n",
       "\n",
       "                              Type_of_colors         Style code  \n",
       "0  Colour Shown: Black/Anthracite/Volt/White  Style: FB2204-001  "
      ]
     },
     "execution_count": 171,
     "metadata": {},
     "output_type": "execute_result"
    }
   ],
   "source": [
    "import pandas as pd\n",
    "df25=pd.DataFrame({'Count_of_sizes':Count_of_sizes,'Type_of_colors':Type_of_colors,'Style code':Style_code})\n",
    "df25"
   ]
  },
  {
   "cell_type": "code",
   "execution_count": 172,
   "id": "736113ef-3a4b-4787-95d2-f9ca9803c9f5",
   "metadata": {
    "tags": []
   },
   "outputs": [],
   "source": [
    "search_keyword = driver.find_element(By.XPATH, '//*[@id=\"VisualSearchInput\"]')\n",
    "search_keyword.clear()\n",
    "search_keyword.send_keys('Men Shoes')"
   ]
  },
  {
   "cell_type": "code",
   "execution_count": 173,
   "id": "70ec415e-477e-4c26-a7a5-d5aa72f1bc56",
   "metadata": {
    "tags": []
   },
   "outputs": [],
   "source": [
    "search_keyword = driver.find_element(By.XPATH, '//*[@id=\"gen-nav-commerce-header-v2\"]/div[3]/header/div[1]/div[2]/div/div/div[1]/div/div/button[2]')\n",
    "search_keyword.click()"
   ]
  },
  {
   "cell_type": "code",
   "execution_count": 181,
   "id": "01919067-30fe-4f99-a460-4451fd314ab6",
   "metadata": {
    "tags": []
   },
   "outputs": [],
   "source": [
    "search_keyword = driver.find_element(By.XPATH, '//*[@id=\"skip-to-products\"]/div[14]/div/figure/a[2]')\n",
    "search_keyword.click()"
   ]
  },
  {
   "cell_type": "code",
   "execution_count": 193,
   "id": "ec7567f6-0c93-4aad-8b3b-19138a94f561",
   "metadata": {
    "tags": []
   },
   "outputs": [],
   "source": [
    "Count_of_sizes = []\n",
    "Type_of_colors = []\n",
    "Style_code = []"
   ]
  },
  {
   "cell_type": "code",
   "execution_count": 194,
   "id": "8842311a-907b-458a-be26-00e26b827467",
   "metadata": {
    "tags": []
   },
   "outputs": [],
   "source": [
    "title_tags=driver.find_elements(By.XPATH, '//*[@id=\"RightRail\"]/div/div[5]')\n",
    "for i in title_tags[0:23]:\n",
    "    title=i.text\n",
    "    Count_of_sizes.append(title)"
   ]
  },
  {
   "cell_type": "code",
   "execution_count": 195,
   "id": "e2fc4e61-758e-4640-a61a-74bcb2f01991",
   "metadata": {
    "tags": []
   },
   "outputs": [],
   "source": [
    "title_tags=driver.find_elements(By.CLASS_NAME, 'description-preview__color-description.ncss-li')\n",
    "for i in title_tags[0:23]:\n",
    "    title=i.text\n",
    "    Type_of_colors.append(title)"
   ]
  },
  {
   "cell_type": "code",
   "execution_count": 196,
   "id": "ded4d060-20a6-455c-987c-a044eab8c340",
   "metadata": {
    "tags": []
   },
   "outputs": [],
   "source": [
    "title_tags=driver.find_elements(By.CLASS_NAME, 'description-preview__style-color.ncss-li')\n",
    "for i in title_tags[0:23]:\n",
    "    title=i.text\n",
    "    Style_code.append(title)"
   ]
  },
  {
   "cell_type": "code",
   "execution_count": 197,
   "id": "b1a4aa22-6397-40cf-882f-c43f2821ae7f",
   "metadata": {
    "tags": []
   },
   "outputs": [
    {
     "name": "stdout",
     "output_type": "stream",
     "text": [
      "1 1 1\n"
     ]
    }
   ],
   "source": [
    "print(len(Count_of_sizes),len(Type_of_colors), len(Style_code))"
   ]
  },
  {
   "cell_type": "code",
   "execution_count": 198,
   "id": "d87a357a-d0ff-4638-9c01-3ca2680d76a1",
   "metadata": {
    "tags": []
   },
   "outputs": [
    {
     "data": {
      "text/html": [
       "<div>\n",
       "<style scoped>\n",
       "    .dataframe tbody tr th:only-of-type {\n",
       "        vertical-align: middle;\n",
       "    }\n",
       "\n",
       "    .dataframe tbody tr th {\n",
       "        vertical-align: top;\n",
       "    }\n",
       "\n",
       "    .dataframe thead th {\n",
       "        text-align: right;\n",
       "    }\n",
       "</style>\n",
       "<table border=\"1\" class=\"dataframe\">\n",
       "  <thead>\n",
       "    <tr style=\"text-align: right;\">\n",
       "      <th></th>\n",
       "      <th>Count_of_sizes</th>\n",
       "      <th>Type_of_colors</th>\n",
       "      <th>Style code</th>\n",
       "    </tr>\n",
       "  </thead>\n",
       "  <tbody>\n",
       "    <tr>\n",
       "      <th>0</th>\n",
       "      <td>Select Size\\nSize Guide\\nUK 5.5\\nUK 6\\nUK 6.5\\...</td>\n",
       "      <td>Colour Shown: Multi-Colour/Multi-Colour/Multi-...</td>\n",
       "      <td>Style: FB2382-900</td>\n",
       "    </tr>\n",
       "  </tbody>\n",
       "</table>\n",
       "</div>"
      ],
      "text/plain": [
       "                                      Count_of_sizes  \\\n",
       "0  Select Size\\nSize Guide\\nUK 5.5\\nUK 6\\nUK 6.5\\...   \n",
       "\n",
       "                                      Type_of_colors         Style code  \n",
       "0  Colour Shown: Multi-Colour/Multi-Colour/Multi-...  Style: FB2382-900  "
      ]
     },
     "execution_count": 198,
     "metadata": {},
     "output_type": "execute_result"
    }
   ],
   "source": [
    "import pandas as pd\n",
    "df26=pd.DataFrame({'Count_of_sizes':Count_of_sizes,'Type_of_colors':Type_of_colors,'Style code':Style_code})\n",
    "df26"
   ]
  },
  {
   "cell_type": "code",
   "execution_count": 200,
   "id": "81a3887b-b49d-4628-9dca-61e3bfed7cec",
   "metadata": {
    "tags": []
   },
   "outputs": [],
   "source": [
    "search_keyword = driver.find_element(By.XPATH, '//*[@id=\"VisualSearchInput\"]')\n",
    "search_keyword.clear()\n",
    "search_keyword.send_keys('Men Shoes')"
   ]
  },
  {
   "cell_type": "code",
   "execution_count": 202,
   "id": "93da3e21-9e8f-42e5-a289-69ee0a3e7bff",
   "metadata": {
    "tags": []
   },
   "outputs": [],
   "source": [
    "search_keyword = driver.find_element(By.XPATH, '//*[@id=\"gen-nav-commerce-header-v2\"]/div[3]/header/div[1]/div[2]/div/div/div[1]/div/div/button[2]')\n",
    "search_keyword.click()"
   ]
  },
  {
   "cell_type": "code",
   "execution_count": 203,
   "id": "a0999189-a652-41b3-b6fa-3c74548f563f",
   "metadata": {
    "tags": []
   },
   "outputs": [],
   "source": [
    "search_keyword = driver.find_element(By.XPATH, '//*[@id=\"skip-to-products\"]/div[15]/div/figure/a[2]')\n",
    "search_keyword.click()"
   ]
  },
  {
   "cell_type": "code",
   "execution_count": 210,
   "id": "e7f9c666-68b3-4ae2-abab-faa06946eef0",
   "metadata": {
    "tags": []
   },
   "outputs": [],
   "source": [
    "Count_of_sizes = []\n",
    "Type_of_colors = []\n",
    "Style_code = []"
   ]
  },
  {
   "cell_type": "code",
   "execution_count": 211,
   "id": "835d4fdc-933d-4b21-a2cf-08186e3eb0f6",
   "metadata": {
    "tags": []
   },
   "outputs": [],
   "source": [
    "title_tags=driver.find_elements(By.XPATH, '//*[@id=\"RightRail\"]/div/div[4]/fieldset')\n",
    "for i in title_tags[0:23]:\n",
    "    title=i.text\n",
    "    Count_of_sizes.append(title)"
   ]
  },
  {
   "cell_type": "code",
   "execution_count": 212,
   "id": "70959d74-6f8e-46e6-8a2b-d4053be28454",
   "metadata": {
    "tags": []
   },
   "outputs": [],
   "source": [
    "title_tags=driver.find_elements(By.CLASS_NAME, 'description-preview__color-description.ncss-li')\n",
    "for i in title_tags[0:23]:\n",
    "    title=i.text\n",
    "    Type_of_colors.append(title)"
   ]
  },
  {
   "cell_type": "code",
   "execution_count": 213,
   "id": "749d5aac-55f8-4c41-bb26-dc263c68b9af",
   "metadata": {
    "tags": []
   },
   "outputs": [],
   "source": [
    "title_tags=driver.find_elements(By.CLASS_NAME, 'description-preview__style-color.ncss-li')\n",
    "for i in title_tags[0:23]:\n",
    "    title=i.text\n",
    "    Style_code.append(title)"
   ]
  },
  {
   "cell_type": "code",
   "execution_count": 214,
   "id": "15660598-4fd2-4d49-a308-6da1b5de361f",
   "metadata": {
    "tags": []
   },
   "outputs": [
    {
     "name": "stdout",
     "output_type": "stream",
     "text": [
      "1 1 1\n"
     ]
    }
   ],
   "source": [
    "print(len(Count_of_sizes),len(Type_of_colors), len(Style_code))"
   ]
  },
  {
   "cell_type": "code",
   "execution_count": 215,
   "id": "e682ce33-b46d-415d-a213-b47dc277b485",
   "metadata": {
    "tags": []
   },
   "outputs": [
    {
     "data": {
      "text/html": [
       "<div>\n",
       "<style scoped>\n",
       "    .dataframe tbody tr th:only-of-type {\n",
       "        vertical-align: middle;\n",
       "    }\n",
       "\n",
       "    .dataframe tbody tr th {\n",
       "        vertical-align: top;\n",
       "    }\n",
       "\n",
       "    .dataframe thead th {\n",
       "        text-align: right;\n",
       "    }\n",
       "</style>\n",
       "<table border=\"1\" class=\"dataframe\">\n",
       "  <thead>\n",
       "    <tr style=\"text-align: right;\">\n",
       "      <th></th>\n",
       "      <th>Count_of_sizes</th>\n",
       "      <th>Type_of_colors</th>\n",
       "      <th>Style code</th>\n",
       "    </tr>\n",
       "  </thead>\n",
       "  <tbody>\n",
       "    <tr>\n",
       "      <th>0</th>\n",
       "      <td>Select Size\\nSize Guide\\nUK 5.5\\nUK 6\\nUK 6.5\\...</td>\n",
       "      <td>Colour Shown: Multi-Colour/Multi-Colour/Multi-...</td>\n",
       "      <td>Style: DV2273-900</td>\n",
       "    </tr>\n",
       "  </tbody>\n",
       "</table>\n",
       "</div>"
      ],
      "text/plain": [
       "                                      Count_of_sizes  \\\n",
       "0  Select Size\\nSize Guide\\nUK 5.5\\nUK 6\\nUK 6.5\\...   \n",
       "\n",
       "                                      Type_of_colors         Style code  \n",
       "0  Colour Shown: Multi-Colour/Multi-Colour/Multi-...  Style: DV2273-900  "
      ]
     },
     "execution_count": 215,
     "metadata": {},
     "output_type": "execute_result"
    }
   ],
   "source": [
    "import pandas as pd\n",
    "df27=pd.DataFrame({'Count_of_sizes':Count_of_sizes,'Type_of_colors':Type_of_colors,'Style code':Style_code})\n",
    "df27"
   ]
  },
  {
   "cell_type": "code",
   "execution_count": 217,
   "id": "00471a25-ec2b-439e-a3fb-2a3a7c0b6a4e",
   "metadata": {
    "tags": []
   },
   "outputs": [],
   "source": [
    "search_keyword = driver.find_element(By.XPATH, '//*[@id=\"VisualSearchInput\"]')\n",
    "search_keyword.clear()\n",
    "search_keyword.send_keys('Men Shoes')"
   ]
  },
  {
   "cell_type": "code",
   "execution_count": 219,
   "id": "ddd1c5ce-c920-43a6-b73e-ecd22b651b88",
   "metadata": {
    "tags": []
   },
   "outputs": [],
   "source": [
    "search_keyword = driver.find_element(By.XPATH, '//*[@id=\"gen-nav-commerce-header-v2\"]/div[3]/header/div[1]/div[2]/div/div/div[1]/div/div/button[2]')\n",
    "search_keyword.click()"
   ]
  },
  {
   "cell_type": "code",
   "execution_count": 220,
   "id": "113585b0-253a-4ffa-b5f1-af4469acdca3",
   "metadata": {
    "tags": []
   },
   "outputs": [],
   "source": [
    "search_keyword = driver.find_element(By.XPATH, '//*[@id=\"skip-to-products\"]/div[16]/div/figure/a[2]')\n",
    "search_keyword.click()"
   ]
  },
  {
   "cell_type": "code",
   "execution_count": 226,
   "id": "c675d126-111f-4f52-8dfc-a9ba0c629ff3",
   "metadata": {
    "tags": []
   },
   "outputs": [],
   "source": [
    "Count_of_sizes = []\n",
    "Type_of_colors = []\n",
    "Style_code = []"
   ]
  },
  {
   "cell_type": "code",
   "execution_count": 227,
   "id": "1c0ea632-a304-4f93-9d63-b050109c97b5",
   "metadata": {
    "tags": []
   },
   "outputs": [],
   "source": [
    "title_tags=driver.find_elements(By.XPATH, '//*[@id=\"buyTools\"]/div[1]/fieldset')\n",
    "for i in title_tags[0:23]:\n",
    "    title=i.text\n",
    "    Count_of_sizes.append(title)"
   ]
  },
  {
   "cell_type": "code",
   "execution_count": 228,
   "id": "17a5fcf1-1b09-48c9-9969-72d62d2c6596",
   "metadata": {
    "tags": []
   },
   "outputs": [],
   "source": [
    "title_tags=driver.find_elements(By.CLASS_NAME, 'description-preview__color-description.ncss-li')\n",
    "for i in title_tags[0:23]:\n",
    "    title=i.text\n",
    "    Type_of_colors.append(title)"
   ]
  },
  {
   "cell_type": "code",
   "execution_count": 229,
   "id": "98e81d47-a510-4d69-940a-531ee99e479d",
   "metadata": {
    "tags": []
   },
   "outputs": [],
   "source": [
    "title_tags=driver.find_elements(By.CLASS_NAME, 'description-preview__style-color.ncss-li')\n",
    "for i in title_tags[0:23]:\n",
    "    title=i.text\n",
    "    Style_code.append(title)"
   ]
  },
  {
   "cell_type": "code",
   "execution_count": 230,
   "id": "61ec53c9-b284-47d6-8a77-6bdff9cb89a3",
   "metadata": {
    "tags": []
   },
   "outputs": [
    {
     "name": "stdout",
     "output_type": "stream",
     "text": [
      "1 1 1\n"
     ]
    }
   ],
   "source": [
    "print(len(Count_of_sizes),len(Type_of_colors), len(Style_code))"
   ]
  },
  {
   "cell_type": "code",
   "execution_count": 231,
   "id": "ae6b6f6b-3b3c-45c9-a6bf-a9e13da8d77b",
   "metadata": {
    "tags": []
   },
   "outputs": [
    {
     "data": {
      "text/html": [
       "<div>\n",
       "<style scoped>\n",
       "    .dataframe tbody tr th:only-of-type {\n",
       "        vertical-align: middle;\n",
       "    }\n",
       "\n",
       "    .dataframe tbody tr th {\n",
       "        vertical-align: top;\n",
       "    }\n",
       "\n",
       "    .dataframe thead th {\n",
       "        text-align: right;\n",
       "    }\n",
       "</style>\n",
       "<table border=\"1\" class=\"dataframe\">\n",
       "  <thead>\n",
       "    <tr style=\"text-align: right;\">\n",
       "      <th></th>\n",
       "      <th>Count_of_sizes</th>\n",
       "      <th>Type_of_colors</th>\n",
       "      <th>Style code</th>\n",
       "    </tr>\n",
       "  </thead>\n",
       "  <tbody>\n",
       "    <tr>\n",
       "      <th>0</th>\n",
       "      <td>Select Size\\nSize Guide\\nUK 6 (EU 40)\\nUK 6.5\\...</td>\n",
       "      <td>Colour Shown: Black/Black/Dark Smoke Grey</td>\n",
       "      <td>Style: DM0829-010</td>\n",
       "    </tr>\n",
       "  </tbody>\n",
       "</table>\n",
       "</div>"
      ],
      "text/plain": [
       "                                      Count_of_sizes  \\\n",
       "0  Select Size\\nSize Guide\\nUK 6 (EU 40)\\nUK 6.5\\...   \n",
       "\n",
       "                              Type_of_colors         Style code  \n",
       "0  Colour Shown: Black/Black/Dark Smoke Grey  Style: DM0829-010  "
      ]
     },
     "execution_count": 231,
     "metadata": {},
     "output_type": "execute_result"
    }
   ],
   "source": [
    "import pandas as pd\n",
    "df28=pd.DataFrame({'Count_of_sizes':Count_of_sizes,'Type_of_colors':Type_of_colors,'Style code':Style_code})\n",
    "df28"
   ]
  },
  {
   "cell_type": "code",
   "execution_count": 232,
   "id": "ca0e7830-3b5b-484e-89b8-95ab6e7353db",
   "metadata": {
    "tags": []
   },
   "outputs": [],
   "source": [
    "search_keyword = driver.find_element(By.XPATH, '//*[@id=\"VisualSearchInput\"]')\n",
    "search_keyword.clear()\n",
    "search_keyword.send_keys('Men Shoes')"
   ]
  },
  {
   "cell_type": "code",
   "execution_count": 233,
   "id": "b893d819-b40a-42e2-9d76-271a6625817e",
   "metadata": {
    "tags": []
   },
   "outputs": [],
   "source": [
    "search_keyword = driver.find_element(By.XPATH, '//*[@id=\"gen-nav-commerce-header-v2\"]/div[3]/header/div[1]/div[2]/div/div/div[1]/div/div/button[2]')\n",
    "search_keyword.click()"
   ]
  },
  {
   "cell_type": "code",
   "execution_count": 234,
   "id": "b7284684-103c-4af0-9838-81e06ec29eba",
   "metadata": {
    "tags": []
   },
   "outputs": [],
   "source": [
    "search_keyword = driver.find_element(By.XPATH, '//*[@id=\"skip-to-products\"]/div[17]/div/figure/a[2]')\n",
    "search_keyword.click()"
   ]
  },
  {
   "cell_type": "code",
   "execution_count": 235,
   "id": "51fb35e2-a643-4e87-8e3e-cff106d214e2",
   "metadata": {
    "tags": []
   },
   "outputs": [],
   "source": [
    "Count_of_sizes = []\n",
    "Type_of_colors = []\n",
    "Style_code = []"
   ]
  },
  {
   "cell_type": "code",
   "execution_count": 236,
   "id": "953498da-b467-4a7d-9ce0-b6c9ea3f75ed",
   "metadata": {
    "tags": []
   },
   "outputs": [],
   "source": [
    "title_tags=driver.find_elements(By.XPATH, '//*[@id=\"buyTools\"]/div[1]/fieldset')\n",
    "for i in title_tags[0:23]:\n",
    "    title=i.text\n",
    "    Count_of_sizes.append(title)"
   ]
  },
  {
   "cell_type": "code",
   "execution_count": 237,
   "id": "fc171777-94dc-4e3a-b255-e4344ab3be72",
   "metadata": {
    "tags": []
   },
   "outputs": [],
   "source": [
    "title_tags=driver.find_elements(By.CLASS_NAME, 'description-preview__color-description.ncss-li')\n",
    "for i in title_tags[0:23]:\n",
    "    title=i.text\n",
    "    Type_of_colors.append(title)"
   ]
  },
  {
   "cell_type": "code",
   "execution_count": 238,
   "id": "e70b2f5f-9985-44de-881f-ea0e457b18f3",
   "metadata": {
    "tags": []
   },
   "outputs": [],
   "source": [
    "title_tags=driver.find_elements(By.CLASS_NAME, 'description-preview__style-color.ncss-li')\n",
    "for i in title_tags[0:23]:\n",
    "    title=i.text\n",
    "    Style_code.append(title)"
   ]
  },
  {
   "cell_type": "code",
   "execution_count": 239,
   "id": "b8a19f2c-5691-4af9-a9e2-7b02e1d74ca3",
   "metadata": {
    "tags": []
   },
   "outputs": [
    {
     "name": "stdout",
     "output_type": "stream",
     "text": [
      "1 1 1\n"
     ]
    }
   ],
   "source": [
    "print(len(Count_of_sizes),len(Type_of_colors), len(Style_code))"
   ]
  },
  {
   "cell_type": "code",
   "execution_count": 240,
   "id": "cd9b5141-544b-43c4-b0b2-0e2d57c7f185",
   "metadata": {
    "tags": []
   },
   "outputs": [
    {
     "data": {
      "text/html": [
       "<div>\n",
       "<style scoped>\n",
       "    .dataframe tbody tr th:only-of-type {\n",
       "        vertical-align: middle;\n",
       "    }\n",
       "\n",
       "    .dataframe tbody tr th {\n",
       "        vertical-align: top;\n",
       "    }\n",
       "\n",
       "    .dataframe thead th {\n",
       "        text-align: right;\n",
       "    }\n",
       "</style>\n",
       "<table border=\"1\" class=\"dataframe\">\n",
       "  <thead>\n",
       "    <tr style=\"text-align: right;\">\n",
       "      <th></th>\n",
       "      <th>Count_of_sizes</th>\n",
       "      <th>Type_of_colors</th>\n",
       "      <th>Style code</th>\n",
       "    </tr>\n",
       "  </thead>\n",
       "  <tbody>\n",
       "    <tr>\n",
       "      <th>0</th>\n",
       "      <td>Select Size\\nSize Guide\\nUK 6 (EU 40)\\nUK 6.5\\...</td>\n",
       "      <td>Colour Shown: White/Gym Red/Black</td>\n",
       "      <td>Style: CD7069-116</td>\n",
       "    </tr>\n",
       "  </tbody>\n",
       "</table>\n",
       "</div>"
      ],
      "text/plain": [
       "                                      Count_of_sizes  \\\n",
       "0  Select Size\\nSize Guide\\nUK 6 (EU 40)\\nUK 6.5\\...   \n",
       "\n",
       "                      Type_of_colors         Style code  \n",
       "0  Colour Shown: White/Gym Red/Black  Style: CD7069-116  "
      ]
     },
     "execution_count": 240,
     "metadata": {},
     "output_type": "execute_result"
    }
   ],
   "source": [
    "import pandas as pd\n",
    "df29=pd.DataFrame({'Count_of_sizes':Count_of_sizes,'Type_of_colors':Type_of_colors,'Style code':Style_code})\n",
    "df29"
   ]
  },
  {
   "cell_type": "code",
   "execution_count": 241,
   "id": "b55d3479-cc43-4249-bbb6-142fd2c75339",
   "metadata": {
    "tags": []
   },
   "outputs": [],
   "source": [
    "search_keyword = driver.find_element(By.XPATH, '//*[@id=\"VisualSearchInput\"]')\n",
    "search_keyword.clear()\n",
    "search_keyword.send_keys('Men Shoes')"
   ]
  },
  {
   "cell_type": "code",
   "execution_count": 243,
   "id": "e13aec6c-fcd4-4719-950f-b3fe8ef7bf5a",
   "metadata": {
    "tags": []
   },
   "outputs": [],
   "source": [
    "search_keyword = driver.find_element(By.XPATH, '//*[@id=\"gen-nav-commerce-header-v2\"]/div[3]/header/div[1]/div[2]/div/div/div[1]/div/div/button[2]')\n",
    "search_keyword.click()"
   ]
  },
  {
   "cell_type": "code",
   "execution_count": 244,
   "id": "618709e0-589b-4268-b890-87ebc6a0856a",
   "metadata": {
    "tags": []
   },
   "outputs": [],
   "source": [
    "search_keyword = driver.find_element(By.XPATH, '//*[@id=\"skip-to-products\"]/div[18]/div/figure/a[2]')\n",
    "search_keyword.click()"
   ]
  },
  {
   "cell_type": "code",
   "execution_count": 245,
   "id": "939a481e-ff96-45f0-ac30-79fb57c12806",
   "metadata": {
    "tags": []
   },
   "outputs": [],
   "source": [
    "Count_of_sizes = []\n",
    "Type_of_colors = []\n",
    "Style_code = []"
   ]
  },
  {
   "cell_type": "code",
   "execution_count": 246,
   "id": "77b28bd9-b946-4df4-a359-e926964e49d6",
   "metadata": {
    "tags": []
   },
   "outputs": [],
   "source": [
    "title_tags=driver.find_elements(By.XPATH, '//*[@id=\"buyTools\"]/div[1]/fieldset')\n",
    "for i in title_tags[0:23]:\n",
    "    title=i.text\n",
    "    Count_of_sizes.append(title)"
   ]
  },
  {
   "cell_type": "code",
   "execution_count": 247,
   "id": "fef71682-7289-4c5b-9417-58d6217322cc",
   "metadata": {
    "tags": []
   },
   "outputs": [],
   "source": [
    "title_tags=driver.find_elements(By.CLASS_NAME, 'description-preview__color-description.ncss-li')\n",
    "for i in title_tags[0:23]:\n",
    "    title=i.text\n",
    "    Type_of_colors.append(title)"
   ]
  },
  {
   "cell_type": "code",
   "execution_count": 248,
   "id": "b827de4b-2bd7-4926-aa8b-825810bf88ef",
   "metadata": {
    "tags": []
   },
   "outputs": [],
   "source": [
    "title_tags=driver.find_elements(By.CLASS_NAME, 'description-preview__style-color.ncss-li')\n",
    "for i in title_tags[0:23]:\n",
    "    title=i.text\n",
    "    Style_code.append(title)"
   ]
  },
  {
   "cell_type": "code",
   "execution_count": 249,
   "id": "e028fb29-cb2e-499d-93c8-81bbc4736ee2",
   "metadata": {
    "tags": []
   },
   "outputs": [
    {
     "name": "stdout",
     "output_type": "stream",
     "text": [
      "1 1 1\n"
     ]
    }
   ],
   "source": [
    "print(len(Count_of_sizes),len(Type_of_colors), len(Style_code))"
   ]
  },
  {
   "cell_type": "code",
   "execution_count": 250,
   "id": "33ab9f6f-f198-477a-9f13-fa65232d6fb0",
   "metadata": {
    "tags": []
   },
   "outputs": [
    {
     "data": {
      "text/html": [
       "<div>\n",
       "<style scoped>\n",
       "    .dataframe tbody tr th:only-of-type {\n",
       "        vertical-align: middle;\n",
       "    }\n",
       "\n",
       "    .dataframe tbody tr th {\n",
       "        vertical-align: top;\n",
       "    }\n",
       "\n",
       "    .dataframe thead th {\n",
       "        text-align: right;\n",
       "    }\n",
       "</style>\n",
       "<table border=\"1\" class=\"dataframe\">\n",
       "  <thead>\n",
       "    <tr style=\"text-align: right;\">\n",
       "      <th></th>\n",
       "      <th>Count_of_sizes</th>\n",
       "      <th>Type_of_colors</th>\n",
       "      <th>Style code</th>\n",
       "    </tr>\n",
       "  </thead>\n",
       "  <tbody>\n",
       "    <tr>\n",
       "      <th>0</th>\n",
       "      <td>Select Size\\nSize Guide\\nUK 6 (EU 40)\\nUK 6.5\\...</td>\n",
       "      <td>Colour Shown: Sail/Coconut Milk/White/Deep Jungle</td>\n",
       "      <td>Style: FQ8080-133</td>\n",
       "    </tr>\n",
       "  </tbody>\n",
       "</table>\n",
       "</div>"
      ],
      "text/plain": [
       "                                      Count_of_sizes  \\\n",
       "0  Select Size\\nSize Guide\\nUK 6 (EU 40)\\nUK 6.5\\...   \n",
       "\n",
       "                                      Type_of_colors         Style code  \n",
       "0  Colour Shown: Sail/Coconut Milk/White/Deep Jungle  Style: FQ8080-133  "
      ]
     },
     "execution_count": 250,
     "metadata": {},
     "output_type": "execute_result"
    }
   ],
   "source": [
    "import pandas as pd\n",
    "df30=pd.DataFrame({'Count_of_sizes':Count_of_sizes,'Type_of_colors':Type_of_colors,'Style code':Style_code})\n",
    "df30"
   ]
  },
  {
   "cell_type": "code",
   "execution_count": 254,
   "id": "3c4a4490-0a86-41d0-b7fd-1d8aaec4ba81",
   "metadata": {
    "tags": []
   },
   "outputs": [],
   "source": [
    "search_keyword = driver.find_element(By.XPATH, '//*[@id=\"VisualSearchInput\"]')\n",
    "search_keyword.clear()\n",
    "search_keyword.send_keys('Men Shoes')"
   ]
  },
  {
   "cell_type": "code",
   "execution_count": 255,
   "id": "cacead00-defa-4ddb-80ab-8d1b362f8f72",
   "metadata": {
    "tags": []
   },
   "outputs": [],
   "source": [
    "search_keyword = driver.find_element(By.XPATH, '//*[@id=\"gen-nav-commerce-header-v2\"]/div[3]/header/div[1]/div[2]/div/div/div[1]/div/div/button[2]')\n",
    "search_keyword.click()"
   ]
  },
  {
   "cell_type": "code",
   "execution_count": 256,
   "id": "27cb9a50-1a1d-4f8a-9edd-42e063628558",
   "metadata": {
    "tags": []
   },
   "outputs": [],
   "source": [
    "search_keyword = driver.find_element(By.XPATH, '//*[@id=\"skip-to-products\"]/div[19]/div/figure/a[2]')\n",
    "search_keyword.click()"
   ]
  },
  {
   "cell_type": "code",
   "execution_count": 257,
   "id": "3fbe706a-84fc-43bd-aa6d-8e4b7e15c85d",
   "metadata": {
    "tags": []
   },
   "outputs": [],
   "source": [
    "Count_of_sizes = []\n",
    "Type_of_colors = []\n",
    "Style_code = []"
   ]
  },
  {
   "cell_type": "code",
   "execution_count": 258,
   "id": "0ab5238a-34b1-4775-b464-2cff17ab68fb",
   "metadata": {
    "tags": []
   },
   "outputs": [],
   "source": [
    "title_tags=driver.find_elements(By.XPATH, '//*[@id=\"buyTools\"]/div[1]/fieldset')\n",
    "for i in title_tags[0:23]:\n",
    "    title=i.text\n",
    "    Count_of_sizes.append(title)"
   ]
  },
  {
   "cell_type": "code",
   "execution_count": 259,
   "id": "6b0546d3-76a7-4b33-9a86-65f9470f6a22",
   "metadata": {
    "tags": []
   },
   "outputs": [],
   "source": [
    "title_tags=driver.find_elements(By.CLASS_NAME, 'description-preview__color-description.ncss-li')\n",
    "for i in title_tags[0:23]:\n",
    "    title=i.text\n",
    "    Type_of_colors.append(title)"
   ]
  },
  {
   "cell_type": "code",
   "execution_count": 260,
   "id": "e17dd084-9b61-4cb9-8f1e-74b81c473ef3",
   "metadata": {
    "tags": []
   },
   "outputs": [],
   "source": [
    "title_tags=driver.find_elements(By.CLASS_NAME, 'description-preview__style-color.ncss-li')\n",
    "for i in title_tags[0:23]:\n",
    "    title=i.text\n",
    "    Style_code.append(title)"
   ]
  },
  {
   "cell_type": "code",
   "execution_count": 261,
   "id": "dcf12996-d19c-476b-8b12-2e001789e5e1",
   "metadata": {
    "tags": []
   },
   "outputs": [
    {
     "name": "stdout",
     "output_type": "stream",
     "text": [
      "1 1 1\n"
     ]
    }
   ],
   "source": [
    "print(len(Count_of_sizes),len(Type_of_colors), len(Style_code))"
   ]
  },
  {
   "cell_type": "code",
   "execution_count": 262,
   "id": "b5f9fb2b-0aee-43a9-9e95-9cab7bbf7670",
   "metadata": {
    "tags": []
   },
   "outputs": [
    {
     "data": {
      "text/html": [
       "<div>\n",
       "<style scoped>\n",
       "    .dataframe tbody tr th:only-of-type {\n",
       "        vertical-align: middle;\n",
       "    }\n",
       "\n",
       "    .dataframe tbody tr th {\n",
       "        vertical-align: top;\n",
       "    }\n",
       "\n",
       "    .dataframe thead th {\n",
       "        text-align: right;\n",
       "    }\n",
       "</style>\n",
       "<table border=\"1\" class=\"dataframe\">\n",
       "  <thead>\n",
       "    <tr style=\"text-align: right;\">\n",
       "      <th></th>\n",
       "      <th>Count_of_sizes</th>\n",
       "      <th>Type_of_colors</th>\n",
       "      <th>Style code</th>\n",
       "    </tr>\n",
       "  </thead>\n",
       "  <tbody>\n",
       "    <tr>\n",
       "      <th>0</th>\n",
       "      <td>Select Size\\nSize Guide\\nUK 6 (EU 40)\\nUK 6.5\\...</td>\n",
       "      <td>Colour Shown: Black/White/Light Smoke Grey/Fir...</td>\n",
       "      <td>Style: DZ5485-051</td>\n",
       "    </tr>\n",
       "  </tbody>\n",
       "</table>\n",
       "</div>"
      ],
      "text/plain": [
       "                                      Count_of_sizes  \\\n",
       "0  Select Size\\nSize Guide\\nUK 6 (EU 40)\\nUK 6.5\\...   \n",
       "\n",
       "                                      Type_of_colors         Style code  \n",
       "0  Colour Shown: Black/White/Light Smoke Grey/Fir...  Style: DZ5485-051  "
      ]
     },
     "execution_count": 262,
     "metadata": {},
     "output_type": "execute_result"
    }
   ],
   "source": [
    "import pandas as pd\n",
    "df31=pd.DataFrame({'Count_of_sizes':Count_of_sizes,'Type_of_colors':Type_of_colors,'Style code':Style_code})\n",
    "df31"
   ]
  },
  {
   "cell_type": "code",
   "execution_count": 263,
   "id": "ecc5a304-368f-4dbc-ab60-4d04dd343f34",
   "metadata": {
    "tags": []
   },
   "outputs": [],
   "source": [
    "search_keyword = driver.find_element(By.XPATH, '//*[@id=\"VisualSearchInput\"]')\n",
    "search_keyword.clear()\n",
    "search_keyword.send_keys('Men Shoes')"
   ]
  },
  {
   "cell_type": "code",
   "execution_count": 265,
   "id": "ffe7dd42-35f2-4830-b559-e1e237ff3de0",
   "metadata": {
    "tags": []
   },
   "outputs": [],
   "source": [
    "search_keyword = driver.find_element(By.XPATH, '//*[@id=\"gen-nav-commerce-header-v2\"]/div[3]/header/div[1]/div[2]/div/div/div[1]/div/div/button[2]')\n",
    "search_keyword.click()"
   ]
  },
  {
   "cell_type": "code",
   "execution_count": 266,
   "id": "ca196673-e44a-439a-8add-bd6506c2f087",
   "metadata": {
    "tags": []
   },
   "outputs": [],
   "source": [
    "search_keyword = driver.find_element(By.XPATH, '//*[@id=\"skip-to-products\"]/div[20]/div/figure/a[2]')\n",
    "search_keyword.click()"
   ]
  },
  {
   "cell_type": "code",
   "execution_count": 267,
   "id": "9f0e3f3b-5235-4a5a-86e5-e0f41fe23f79",
   "metadata": {
    "tags": []
   },
   "outputs": [],
   "source": [
    "Count_of_sizes = []\n",
    "Type_of_colors = []\n",
    "Style_code = []"
   ]
  },
  {
   "cell_type": "code",
   "execution_count": 268,
   "id": "a55192ae-07e3-4b4a-bd73-1c58cd68f631",
   "metadata": {
    "tags": []
   },
   "outputs": [],
   "source": [
    "title_tags=driver.find_elements(By.XPATH, '//*[@id=\"buyTools\"]/div[1]/fieldset')\n",
    "for i in title_tags[0:23]:\n",
    "    title=i.text\n",
    "    Count_of_sizes.append(title)"
   ]
  },
  {
   "cell_type": "code",
   "execution_count": 269,
   "id": "5a39eab4-075b-40ed-b4c8-c1a8e9f510a5",
   "metadata": {
    "tags": []
   },
   "outputs": [],
   "source": [
    "title_tags=driver.find_elements(By.CLASS_NAME, 'description-preview__color-description.ncss-li')\n",
    "for i in title_tags[0:23]:\n",
    "    title=i.text\n",
    "    Type_of_colors.append(title)"
   ]
  },
  {
   "cell_type": "code",
   "execution_count": 270,
   "id": "90c8040f-7c83-4a96-bb20-625bc8ee04c0",
   "metadata": {
    "tags": []
   },
   "outputs": [],
   "source": [
    "title_tags=driver.find_elements(By.CLASS_NAME, 'description-preview__style-color.ncss-li')\n",
    "for i in title_tags[0:23]:\n",
    "    title=i.text\n",
    "    Style_code.append(title)"
   ]
  },
  {
   "cell_type": "code",
   "execution_count": 271,
   "id": "0e3e307e-1dd6-4d4f-acfb-a7bcf8611f97",
   "metadata": {
    "tags": []
   },
   "outputs": [
    {
     "name": "stdout",
     "output_type": "stream",
     "text": [
      "1 1 1\n"
     ]
    }
   ],
   "source": [
    "print(len(Count_of_sizes),len(Type_of_colors), len(Style_code))"
   ]
  },
  {
   "cell_type": "code",
   "execution_count": 272,
   "id": "65802d77-2d6e-4cec-946a-f4ee1d425234",
   "metadata": {
    "tags": []
   },
   "outputs": [
    {
     "data": {
      "text/html": [
       "<div>\n",
       "<style scoped>\n",
       "    .dataframe tbody tr th:only-of-type {\n",
       "        vertical-align: middle;\n",
       "    }\n",
       "\n",
       "    .dataframe tbody tr th {\n",
       "        vertical-align: top;\n",
       "    }\n",
       "\n",
       "    .dataframe thead th {\n",
       "        text-align: right;\n",
       "    }\n",
       "</style>\n",
       "<table border=\"1\" class=\"dataframe\">\n",
       "  <thead>\n",
       "    <tr style=\"text-align: right;\">\n",
       "      <th></th>\n",
       "      <th>Count_of_sizes</th>\n",
       "      <th>Type_of_colors</th>\n",
       "      <th>Style code</th>\n",
       "    </tr>\n",
       "  </thead>\n",
       "  <tbody>\n",
       "    <tr>\n",
       "      <th>0</th>\n",
       "      <td>Select Size\\nSize Guide\\nUK 6 (EU 40)\\nUK 6.5\\...</td>\n",
       "      <td>Colour Shown: Black/Anthracite/Cool Grey</td>\n",
       "      <td>Style: FB1396-001</td>\n",
       "    </tr>\n",
       "  </tbody>\n",
       "</table>\n",
       "</div>"
      ],
      "text/plain": [
       "                                      Count_of_sizes  \\\n",
       "0  Select Size\\nSize Guide\\nUK 6 (EU 40)\\nUK 6.5\\...   \n",
       "\n",
       "                             Type_of_colors         Style code  \n",
       "0  Colour Shown: Black/Anthracite/Cool Grey  Style: FB1396-001  "
      ]
     },
     "execution_count": 272,
     "metadata": {},
     "output_type": "execute_result"
    }
   ],
   "source": [
    "import pandas as pd\n",
    "df32=pd.DataFrame({'Count_of_sizes':Count_of_sizes,'Type_of_colors':Type_of_colors,'Style code':Style_code})\n",
    "df32"
   ]
  },
  {
   "cell_type": "code",
   "execution_count": 273,
   "id": "9afeef31-72a4-416b-be70-414b12ab8bb7",
   "metadata": {
    "tags": []
   },
   "outputs": [],
   "source": [
    "search_keyword = driver.find_element(By.XPATH, '//*[@id=\"VisualSearchInput\"]')\n",
    "search_keyword.clear()\n",
    "search_keyword.send_keys('Men Shoes')"
   ]
  },
  {
   "cell_type": "code",
   "execution_count": 274,
   "id": "d929fd33-f3cf-4a3e-b5e5-51199e502324",
   "metadata": {
    "tags": []
   },
   "outputs": [],
   "source": [
    "search_keyword = driver.find_element(By.XPATH, '//*[@id=\"gen-nav-commerce-header-v2\"]/div[3]/header/div[1]/div[2]/div/div/div[1]/div/div/button[2]')\n",
    "search_keyword.click()"
   ]
  },
  {
   "cell_type": "code",
   "execution_count": 275,
   "id": "052cb2ae-b3e9-42d8-bc6d-a2967806ecee",
   "metadata": {
    "tags": []
   },
   "outputs": [],
   "source": [
    "search_keyword = driver.find_element(By.XPATH, '//*[@id=\"skip-to-products\"]/div[21]/div/figure/a[2]')\n",
    "search_keyword.click()"
   ]
  },
  {
   "cell_type": "code",
   "execution_count": 276,
   "id": "4679db8b-9036-46d3-a001-52ef25f86397",
   "metadata": {
    "tags": []
   },
   "outputs": [],
   "source": [
    "Count_of_sizes = []\n",
    "Type_of_colors = []\n",
    "Style_code = []"
   ]
  },
  {
   "cell_type": "code",
   "execution_count": 277,
   "id": "d3145b5a-1bbc-4345-96df-e3c283e39d2a",
   "metadata": {
    "tags": []
   },
   "outputs": [],
   "source": [
    "title_tags=driver.find_elements(By.XPATH, '//*[@id=\"buyTools\"]/div[1]/fieldset')\n",
    "for i in title_tags[0:23]:\n",
    "    title=i.text\n",
    "    Count_of_sizes.append(title)"
   ]
  },
  {
   "cell_type": "code",
   "execution_count": 278,
   "id": "732a8ff2-1392-47d9-8bb5-e20543ad84c2",
   "metadata": {
    "tags": []
   },
   "outputs": [],
   "source": [
    "title_tags=driver.find_elements(By.CLASS_NAME, 'description-preview__color-description.ncss-li')\n",
    "for i in title_tags[0:23]:\n",
    "    title=i.text\n",
    "    Type_of_colors.append(title)"
   ]
  },
  {
   "cell_type": "code",
   "execution_count": 279,
   "id": "99a175d5-f7e9-41ff-a5a5-6ab5400b0956",
   "metadata": {
    "tags": []
   },
   "outputs": [],
   "source": [
    "title_tags=driver.find_elements(By.CLASS_NAME, 'description-preview__style-color.ncss-li')\n",
    "for i in title_tags[0:23]:\n",
    "    title=i.text\n",
    "    Style_code.append(title)"
   ]
  },
  {
   "cell_type": "code",
   "execution_count": 280,
   "id": "c48bda60-e9e8-45cc-abde-8a77e6562bff",
   "metadata": {
    "tags": []
   },
   "outputs": [
    {
     "name": "stdout",
     "output_type": "stream",
     "text": [
      "1 1 1\n"
     ]
    }
   ],
   "source": [
    "print(len(Count_of_sizes),len(Type_of_colors), len(Style_code))"
   ]
  },
  {
   "cell_type": "code",
   "execution_count": 281,
   "id": "2a1142da-889e-4046-a789-fe45c904994f",
   "metadata": {
    "tags": []
   },
   "outputs": [
    {
     "data": {
      "text/html": [
       "<div>\n",
       "<style scoped>\n",
       "    .dataframe tbody tr th:only-of-type {\n",
       "        vertical-align: middle;\n",
       "    }\n",
       "\n",
       "    .dataframe tbody tr th {\n",
       "        vertical-align: top;\n",
       "    }\n",
       "\n",
       "    .dataframe thead th {\n",
       "        text-align: right;\n",
       "    }\n",
       "</style>\n",
       "<table border=\"1\" class=\"dataframe\">\n",
       "  <thead>\n",
       "    <tr style=\"text-align: right;\">\n",
       "      <th></th>\n",
       "      <th>Count_of_sizes</th>\n",
       "      <th>Type_of_colors</th>\n",
       "      <th>Style code</th>\n",
       "    </tr>\n",
       "  </thead>\n",
       "  <tbody>\n",
       "    <tr>\n",
       "      <th>0</th>\n",
       "      <td>Select Size\\nSize Guide\\nUK 6 (EU 40)\\nUK 6.5\\...</td>\n",
       "      <td>Colour Shown: Racer Blue/Safety Orange/White</td>\n",
       "      <td>Style: DC8749-401</td>\n",
       "    </tr>\n",
       "  </tbody>\n",
       "</table>\n",
       "</div>"
      ],
      "text/plain": [
       "                                      Count_of_sizes  \\\n",
       "0  Select Size\\nSize Guide\\nUK 6 (EU 40)\\nUK 6.5\\...   \n",
       "\n",
       "                                 Type_of_colors         Style code  \n",
       "0  Colour Shown: Racer Blue/Safety Orange/White  Style: DC8749-401  "
      ]
     },
     "execution_count": 281,
     "metadata": {},
     "output_type": "execute_result"
    }
   ],
   "source": [
    "import pandas as pd\n",
    "df33=pd.DataFrame({'Count_of_sizes':Count_of_sizes,'Type_of_colors':Type_of_colors,'Style code':Style_code})\n",
    "df33"
   ]
  },
  {
   "cell_type": "code",
   "execution_count": 282,
   "id": "5aafdd93-84a7-4661-b1dc-9634b384af7c",
   "metadata": {
    "tags": []
   },
   "outputs": [],
   "source": [
    "search_keyword = driver.find_element(By.XPATH, '//*[@id=\"VisualSearchInput\"]')\n",
    "search_keyword.clear()\n",
    "search_keyword.send_keys('Men Shoes')"
   ]
  },
  {
   "cell_type": "code",
   "execution_count": 284,
   "id": "84afed9f-96a5-404a-9c0b-8150e06bf60e",
   "metadata": {
    "tags": []
   },
   "outputs": [],
   "source": [
    "search_keyword = driver.find_element(By.XPATH, '//*[@id=\"gen-nav-commerce-header-v2\"]/div[3]/header/div[1]/div[2]/div/div/div[1]/div/div/button[2]')\n",
    "search_keyword.click()"
   ]
  },
  {
   "cell_type": "code",
   "execution_count": 285,
   "id": "0fc19c32-8461-46da-908a-52113aa596ef",
   "metadata": {
    "tags": []
   },
   "outputs": [],
   "source": [
    "search_keyword = driver.find_element(By.XPATH, '//*[@id=\"skip-to-products\"]/div[22]/div/figure/a[2]')\n",
    "search_keyword.click()"
   ]
  },
  {
   "cell_type": "code",
   "execution_count": 291,
   "id": "eb17b035-c033-4a68-a243-f5f7a105f666",
   "metadata": {
    "tags": []
   },
   "outputs": [],
   "source": [
    "Count_of_sizes = []\n",
    "Type_of_colors = []\n",
    "Style_code = []"
   ]
  },
  {
   "cell_type": "code",
   "execution_count": 292,
   "id": "24e0bf1d-a1b0-4e0a-96ec-ffef8ab54767",
   "metadata": {
    "tags": []
   },
   "outputs": [],
   "source": [
    "title_tags=driver.find_elements(By.XPATH, '//*[@id=\"RightRail\"]/div/div[4]')\n",
    "for i in title_tags[0:23]:\n",
    "    title=i.text\n",
    "    Count_of_sizes.append(title)"
   ]
  },
  {
   "cell_type": "code",
   "execution_count": 293,
   "id": "28013989-4c57-4a94-a763-9434ed474653",
   "metadata": {
    "tags": []
   },
   "outputs": [],
   "source": [
    "title_tags=driver.find_elements(By.CLASS_NAME, 'description-preview__color-description.ncss-li')\n",
    "for i in title_tags[0:23]:\n",
    "    title=i.text\n",
    "    Type_of_colors.append(title)"
   ]
  },
  {
   "cell_type": "code",
   "execution_count": 294,
   "id": "56ff6da2-7cb3-47df-ab85-88ccaed1b9e7",
   "metadata": {
    "tags": []
   },
   "outputs": [],
   "source": [
    "title_tags=driver.find_elements(By.CLASS_NAME, 'description-preview__style-color.ncss-li')\n",
    "for i in title_tags[0:23]:\n",
    "    title=i.text\n",
    "    Style_code.append(title)"
   ]
  },
  {
   "cell_type": "code",
   "execution_count": 295,
   "id": "15b093c2-8f76-4ea0-83cf-152ce47015cc",
   "metadata": {
    "tags": []
   },
   "outputs": [
    {
     "name": "stdout",
     "output_type": "stream",
     "text": [
      "1 1 1\n"
     ]
    }
   ],
   "source": [
    "print(len(Count_of_sizes),len(Type_of_colors), len(Style_code))"
   ]
  },
  {
   "cell_type": "code",
   "execution_count": 296,
   "id": "6295dcbf-a3c3-4344-83d8-8101d613b5e3",
   "metadata": {
    "tags": []
   },
   "outputs": [
    {
     "data": {
      "text/html": [
       "<div>\n",
       "<style scoped>\n",
       "    .dataframe tbody tr th:only-of-type {\n",
       "        vertical-align: middle;\n",
       "    }\n",
       "\n",
       "    .dataframe tbody tr th {\n",
       "        vertical-align: top;\n",
       "    }\n",
       "\n",
       "    .dataframe thead th {\n",
       "        text-align: right;\n",
       "    }\n",
       "</style>\n",
       "<table border=\"1\" class=\"dataframe\">\n",
       "  <thead>\n",
       "    <tr style=\"text-align: right;\">\n",
       "      <th></th>\n",
       "      <th>Count_of_sizes</th>\n",
       "      <th>Type_of_colors</th>\n",
       "      <th>Style code</th>\n",
       "    </tr>\n",
       "  </thead>\n",
       "  <tbody>\n",
       "    <tr>\n",
       "      <th>0</th>\n",
       "      <td>Select Size\\nSize Guide\\nUK 5.5\\nUK 6\\nUK 6.5\\...</td>\n",
       "      <td>Colour Shown: Multi-Colour/Multi-Colour/Multi-...</td>\n",
       "      <td>Style: FJ2253-900</td>\n",
       "    </tr>\n",
       "  </tbody>\n",
       "</table>\n",
       "</div>"
      ],
      "text/plain": [
       "                                      Count_of_sizes  \\\n",
       "0  Select Size\\nSize Guide\\nUK 5.5\\nUK 6\\nUK 6.5\\...   \n",
       "\n",
       "                                      Type_of_colors         Style code  \n",
       "0  Colour Shown: Multi-Colour/Multi-Colour/Multi-...  Style: FJ2253-900  "
      ]
     },
     "execution_count": 296,
     "metadata": {},
     "output_type": "execute_result"
    }
   ],
   "source": [
    "import pandas as pd\n",
    "df34=pd.DataFrame({'Count_of_sizes':Count_of_sizes,'Type_of_colors':Type_of_colors,'Style code':Style_code})\n",
    "df34"
   ]
  },
  {
   "cell_type": "code",
   "execution_count": 298,
   "id": "bab9ffc7-d9f0-42f0-a268-db93de901881",
   "metadata": {
    "tags": []
   },
   "outputs": [],
   "source": [
    "search_keyword = driver.find_element(By.XPATH, '//*[@id=\"VisualSearchInput\"]')\n",
    "search_keyword.clear()\n",
    "search_keyword.send_keys('Men Shoes')"
   ]
  },
  {
   "cell_type": "code",
   "execution_count": 300,
   "id": "4b33460a-7c91-4164-8dce-076ea163d15e",
   "metadata": {
    "tags": []
   },
   "outputs": [],
   "source": [
    "search_keyword = driver.find_element(By.XPATH, '//*[@id=\"gen-nav-commerce-header-v2\"]/div[3]/header/div[1]/div[2]/div/div/div[1]/div/div/button[2]')\n",
    "search_keyword.click()"
   ]
  },
  {
   "cell_type": "code",
   "execution_count": 301,
   "id": "72c64eea-2378-457a-8818-5148665331ee",
   "metadata": {
    "tags": []
   },
   "outputs": [],
   "source": [
    "search_keyword = driver.find_element(By.XPATH, '//*[@id=\"skip-to-products\"]/div[23]/div/figure/a[2]')\n",
    "search_keyword.click()"
   ]
  },
  {
   "cell_type": "code",
   "execution_count": 302,
   "id": "1234945c-41f9-4b0b-9e69-17f6c63f1250",
   "metadata": {
    "tags": []
   },
   "outputs": [],
   "source": [
    "Count_of_sizes = []\n",
    "Type_of_colors = []\n",
    "Style_code = []"
   ]
  },
  {
   "cell_type": "code",
   "execution_count": 303,
   "id": "43c11e10-e5c3-4d2b-953e-cb6885e5feaa",
   "metadata": {
    "tags": []
   },
   "outputs": [],
   "source": [
    "title_tags=driver.find_elements(By.XPATH, '//*[@id=\"RightRail\"]/div/div[4]')\n",
    "for i in title_tags[0:23]:\n",
    "    title=i.text\n",
    "    Count_of_sizes.append(title)"
   ]
  },
  {
   "cell_type": "code",
   "execution_count": 304,
   "id": "ac9c706e-3552-492f-8e60-1b205442537a",
   "metadata": {
    "tags": []
   },
   "outputs": [],
   "source": [
    "title_tags=driver.find_elements(By.CLASS_NAME, 'description-preview__color-description.ncss-li')\n",
    "for i in title_tags[0:23]:\n",
    "    title=i.text\n",
    "    Type_of_colors.append(title)"
   ]
  },
  {
   "cell_type": "code",
   "execution_count": 305,
   "id": "4324cce4-813c-485e-be5c-6633d4efbec2",
   "metadata": {
    "tags": []
   },
   "outputs": [],
   "source": [
    "title_tags=driver.find_elements(By.CLASS_NAME, 'description-preview__style-color.ncss-li')\n",
    "for i in title_tags[0:23]:\n",
    "    title=i.text\n",
    "    Style_code.append(title)"
   ]
  },
  {
   "cell_type": "code",
   "execution_count": 306,
   "id": "ac554742-39ce-4bd6-860e-77a96e684dbc",
   "metadata": {
    "tags": []
   },
   "outputs": [
    {
     "name": "stdout",
     "output_type": "stream",
     "text": [
      "1 1 1\n"
     ]
    }
   ],
   "source": [
    "print(len(Count_of_sizes),len(Type_of_colors), len(Style_code))"
   ]
  },
  {
   "cell_type": "code",
   "execution_count": 307,
   "id": "e73eaf32-284e-47cf-9850-e369c443c397",
   "metadata": {
    "tags": []
   },
   "outputs": [
    {
     "data": {
      "text/html": [
       "<div>\n",
       "<style scoped>\n",
       "    .dataframe tbody tr th:only-of-type {\n",
       "        vertical-align: middle;\n",
       "    }\n",
       "\n",
       "    .dataframe tbody tr th {\n",
       "        vertical-align: top;\n",
       "    }\n",
       "\n",
       "    .dataframe thead th {\n",
       "        text-align: right;\n",
       "    }\n",
       "</style>\n",
       "<table border=\"1\" class=\"dataframe\">\n",
       "  <thead>\n",
       "    <tr style=\"text-align: right;\">\n",
       "      <th></th>\n",
       "      <th>Count_of_sizes</th>\n",
       "      <th>Type_of_colors</th>\n",
       "      <th>Style code</th>\n",
       "    </tr>\n",
       "  </thead>\n",
       "  <tbody>\n",
       "    <tr>\n",
       "      <th>0</th>\n",
       "      <td>Select Size\\nSize Guide\\nUK 5.5\\nUK 6\\nUK 6.5\\...</td>\n",
       "      <td>Colour Shown: Multi-Colour/Multi-Colour/Multi-...</td>\n",
       "      <td>Style: FJ2253-900</td>\n",
       "    </tr>\n",
       "  </tbody>\n",
       "</table>\n",
       "</div>"
      ],
      "text/plain": [
       "                                      Count_of_sizes  \\\n",
       "0  Select Size\\nSize Guide\\nUK 5.5\\nUK 6\\nUK 6.5\\...   \n",
       "\n",
       "                                      Type_of_colors         Style code  \n",
       "0  Colour Shown: Multi-Colour/Multi-Colour/Multi-...  Style: FJ2253-900  "
      ]
     },
     "execution_count": 307,
     "metadata": {},
     "output_type": "execute_result"
    }
   ],
   "source": [
    "import pandas as pd\n",
    "df34=pd.DataFrame({'Count_of_sizes':Count_of_sizes,'Type_of_colors':Type_of_colors,'Style code':Style_code})\n",
    "df34"
   ]
  },
  {
   "cell_type": "code",
   "execution_count": 311,
   "id": "4887462a-6f56-4028-af3b-dfeee40a541d",
   "metadata": {
    "tags": []
   },
   "outputs": [],
   "source": [
    "search_keyword = driver.find_element(By.XPATH, '//*[@id=\"VisualSearchInput\"]')\n",
    "search_keyword.clear()\n",
    "search_keyword.send_keys('Men Shoes')"
   ]
  },
  {
   "cell_type": "code",
   "execution_count": 312,
   "id": "8bec9fdc-c248-4d77-977b-9a8f557e79ae",
   "metadata": {
    "tags": []
   },
   "outputs": [],
   "source": [
    "search_keyword = driver.find_element(By.XPATH, '//*[@id=\"gen-nav-commerce-header-v2\"]/div[3]/header/div[1]/div[2]/div/div/div[1]/div/div/button[2]')\n",
    "search_keyword.click()"
   ]
  },
  {
   "cell_type": "code",
   "execution_count": 313,
   "id": "78b58055-d714-4ed8-9818-beb8f0ceccf9",
   "metadata": {
    "tags": []
   },
   "outputs": [],
   "source": [
    "search_keyword = driver.find_element(By.XPATH, '//*[@id=\"skip-to-products\"]/div[24]/div/figure/a[2]')\n",
    "search_keyword.click()"
   ]
  },
  {
   "cell_type": "code",
   "execution_count": 319,
   "id": "3b30824a-a6ed-4a48-933b-17d1faff87a2",
   "metadata": {
    "tags": []
   },
   "outputs": [],
   "source": [
    "Count_of_sizes = []\n",
    "Type_of_colors = []\n",
    "Style_code = []"
   ]
  },
  {
   "cell_type": "code",
   "execution_count": 320,
   "id": "a6817fe9-278c-4951-9432-d8b85939fe17",
   "metadata": {
    "tags": []
   },
   "outputs": [],
   "source": [
    "title_tags=driver.find_elements(By.XPATH, '//*[@id=\"buyTools\"]/div[1]')\n",
    "for i in title_tags[0:23]:\n",
    "    title=i.text\n",
    "    Count_of_sizes.append(title)"
   ]
  },
  {
   "cell_type": "code",
   "execution_count": 321,
   "id": "4a14f4bb-4bad-4d8f-863e-2edd6ddf585e",
   "metadata": {
    "tags": []
   },
   "outputs": [],
   "source": [
    "title_tags=driver.find_elements(By.CLASS_NAME, 'description-preview__color-description.ncss-li')\n",
    "for i in title_tags[0:23]:\n",
    "    title=i.text\n",
    "    Type_of_colors.append(title)"
   ]
  },
  {
   "cell_type": "code",
   "execution_count": 322,
   "id": "7e0d1f3c-8a44-423c-87f5-a0a03aad301e",
   "metadata": {
    "tags": []
   },
   "outputs": [],
   "source": [
    "title_tags=driver.find_elements(By.CLASS_NAME, 'description-preview__style-color.ncss-li')\n",
    "for i in title_tags[0:23]:\n",
    "    title=i.text\n",
    "    Style_code.append(title)"
   ]
  },
  {
   "cell_type": "code",
   "execution_count": 323,
   "id": "801abcbf-1cbe-4c61-9b15-cd6a9247b59c",
   "metadata": {
    "tags": []
   },
   "outputs": [
    {
     "name": "stdout",
     "output_type": "stream",
     "text": [
      "1 1 1\n"
     ]
    }
   ],
   "source": [
    "print(len(Count_of_sizes),len(Type_of_colors), len(Style_code))"
   ]
  },
  {
   "cell_type": "code",
   "execution_count": 324,
   "id": "0148eb55-fcb1-4842-b218-8dba4f4ceb77",
   "metadata": {
    "tags": []
   },
   "outputs": [
    {
     "data": {
      "text/html": [
       "<div>\n",
       "<style scoped>\n",
       "    .dataframe tbody tr th:only-of-type {\n",
       "        vertical-align: middle;\n",
       "    }\n",
       "\n",
       "    .dataframe tbody tr th {\n",
       "        vertical-align: top;\n",
       "    }\n",
       "\n",
       "    .dataframe thead th {\n",
       "        text-align: right;\n",
       "    }\n",
       "</style>\n",
       "<table border=\"1\" class=\"dataframe\">\n",
       "  <thead>\n",
       "    <tr style=\"text-align: right;\">\n",
       "      <th></th>\n",
       "      <th>Count_of_sizes</th>\n",
       "      <th>Type_of_colors</th>\n",
       "      <th>Style code</th>\n",
       "    </tr>\n",
       "  </thead>\n",
       "  <tbody>\n",
       "    <tr>\n",
       "      <th>0</th>\n",
       "      <td>Select Size\\nSize Guide\\nUK 6 (EU 40)\\nUK 6.5\\...</td>\n",
       "      <td>Colour Shown: Black/Black/White</td>\n",
       "      <td>Style: FZ0630-010</td>\n",
       "    </tr>\n",
       "  </tbody>\n",
       "</table>\n",
       "</div>"
      ],
      "text/plain": [
       "                                      Count_of_sizes  \\\n",
       "0  Select Size\\nSize Guide\\nUK 6 (EU 40)\\nUK 6.5\\...   \n",
       "\n",
       "                    Type_of_colors         Style code  \n",
       "0  Colour Shown: Black/Black/White  Style: FZ0630-010  "
      ]
     },
     "execution_count": 324,
     "metadata": {},
     "output_type": "execute_result"
    }
   ],
   "source": [
    "import pandas as pd\n",
    "df35=pd.DataFrame({'Count_of_sizes':Count_of_sizes,'Type_of_colors':Type_of_colors,'Style code':Style_code})\n",
    "df35"
   ]
  },
  {
   "cell_type": "code",
   "execution_count": 326,
   "id": "ad43f0e5-e968-4c85-98e4-bfcedd478437",
   "metadata": {
    "tags": []
   },
   "outputs": [],
   "source": [
    "search_keyword = driver.find_element(By.XPATH, '//*[@id=\"VisualSearchInput\"]')\n",
    "search_keyword.clear()\n",
    "search_keyword.send_keys('Men Shoes')"
   ]
  },
  {
   "cell_type": "code",
   "execution_count": 327,
   "id": "d44ceb65-e3b3-4e8a-bc4e-b02d8ebc0041",
   "metadata": {
    "tags": []
   },
   "outputs": [],
   "source": [
    "search_keyword = driver.find_element(By.XPATH, '//*[@id=\"gen-nav-commerce-header-v2\"]/div[3]/header/div[1]/div[2]/div/div/div[1]/div/div/button[2]')\n",
    "search_keyword.click()"
   ]
  },
  {
   "cell_type": "code",
   "execution_count": 329,
   "id": "ec61ff76-4b90-4475-8c00-3322a2c04575",
   "metadata": {
    "tags": []
   },
   "outputs": [],
   "source": [
    "search_keyword = driver.find_element(By.XPATH, '//*[@id=\"skip-to-products\"]/div[25]/div/figure/a[2]')\n",
    "search_keyword.click()"
   ]
  },
  {
   "cell_type": "code",
   "execution_count": 330,
   "id": "8baf636c-2b12-44e2-94e6-a5581a4e113b",
   "metadata": {
    "tags": []
   },
   "outputs": [],
   "source": [
    "Count_of_sizes = []\n",
    "Type_of_colors = []\n",
    "Style_code = []"
   ]
  },
  {
   "cell_type": "code",
   "execution_count": 331,
   "id": "4da5b7c9-9d17-4a12-9c66-8680c21989d9",
   "metadata": {
    "tags": []
   },
   "outputs": [],
   "source": [
    "title_tags=driver.find_elements(By.XPATH, '//*[@id=\"buyTools\"]/div[1]')\n",
    "for i in title_tags[0:23]:\n",
    "    title=i.text\n",
    "    Count_of_sizes.append(title)"
   ]
  },
  {
   "cell_type": "code",
   "execution_count": 332,
   "id": "520c920e-af17-4de0-95b6-6b4a55a3cfd7",
   "metadata": {
    "tags": []
   },
   "outputs": [],
   "source": [
    "title_tags=driver.find_elements(By.CLASS_NAME, 'description-preview__color-description.ncss-li')\n",
    "for i in title_tags[0:23]:\n",
    "    title=i.text\n",
    "    Type_of_colors.append(title)"
   ]
  },
  {
   "cell_type": "code",
   "execution_count": 333,
   "id": "52acec0f-2f8d-4101-a997-9a25b8b4583b",
   "metadata": {
    "tags": []
   },
   "outputs": [],
   "source": [
    "title_tags=driver.find_elements(By.CLASS_NAME, 'description-preview__style-color.ncss-li')\n",
    "for i in title_tags[0:23]:\n",
    "    title=i.text\n",
    "    Style_code.append(title)"
   ]
  },
  {
   "cell_type": "code",
   "execution_count": 334,
   "id": "9e0022a5-97d4-4781-bb04-f0875cd8689d",
   "metadata": {
    "tags": []
   },
   "outputs": [
    {
     "name": "stdout",
     "output_type": "stream",
     "text": [
      "1 1 1\n"
     ]
    }
   ],
   "source": [
    "print(len(Count_of_sizes),len(Type_of_colors), len(Style_code))"
   ]
  },
  {
   "cell_type": "code",
   "execution_count": 335,
   "id": "bead52da-4fb9-4f5f-baf2-b406b99d93ac",
   "metadata": {
    "tags": []
   },
   "outputs": [
    {
     "data": {
      "text/html": [
       "<div>\n",
       "<style scoped>\n",
       "    .dataframe tbody tr th:only-of-type {\n",
       "        vertical-align: middle;\n",
       "    }\n",
       "\n",
       "    .dataframe tbody tr th {\n",
       "        vertical-align: top;\n",
       "    }\n",
       "\n",
       "    .dataframe thead th {\n",
       "        text-align: right;\n",
       "    }\n",
       "</style>\n",
       "<table border=\"1\" class=\"dataframe\">\n",
       "  <thead>\n",
       "    <tr style=\"text-align: right;\">\n",
       "      <th></th>\n",
       "      <th>Count_of_sizes</th>\n",
       "      <th>Type_of_colors</th>\n",
       "      <th>Style code</th>\n",
       "    </tr>\n",
       "  </thead>\n",
       "  <tbody>\n",
       "    <tr>\n",
       "      <th>0</th>\n",
       "      <td>Select Size\\nSize Guide\\nUK 2.5\\nUK 3\\nUK 3.5\\...</td>\n",
       "      <td>Colour Shown: White/Black</td>\n",
       "      <td>Style: DR5540-102</td>\n",
       "    </tr>\n",
       "  </tbody>\n",
       "</table>\n",
       "</div>"
      ],
      "text/plain": [
       "                                      Count_of_sizes  \\\n",
       "0  Select Size\\nSize Guide\\nUK 2.5\\nUK 3\\nUK 3.5\\...   \n",
       "\n",
       "              Type_of_colors         Style code  \n",
       "0  Colour Shown: White/Black  Style: DR5540-102  "
      ]
     },
     "execution_count": 335,
     "metadata": {},
     "output_type": "execute_result"
    }
   ],
   "source": [
    "import pandas as pd\n",
    "df36=pd.DataFrame({'Count_of_sizes':Count_of_sizes,'Type_of_colors':Type_of_colors,'Style code':Style_code})\n",
    "df36"
   ]
  },
  {
   "cell_type": "code",
   "execution_count": 336,
   "id": "06cec27b-4969-4972-8ac5-e644449ca850",
   "metadata": {
    "tags": []
   },
   "outputs": [
    {
     "name": "stdout",
     "output_type": "stream",
     "text": [
      "                                       Count_of_sizes  \\\n",
      "0   Select Size\\nSize Guide\\nUK 6 (EU 40)\\nUK 6.5\\...   \n",
      "1   Select Size\\nSize Guide\\nUK 6 (EU 40)\\nUK 6.5\\...   \n",
      "2   Select Size\\nSize Guide\\nUK 5.5\\nUK 6 (EU 39)\\...   \n",
      "3   Select Size\\nSize Guide\\nUK 5.5\\nUK 6 (EU 39)\\...   \n",
      "4   Select Size\\nSize Guide\\nUK 5.5\\nUK 6 (EU 39)\\...   \n",
      "5   Select Size\\nSize Guide\\nUK 6 (EU 40)\\nUK 6.5\\...   \n",
      "6   Select Size\\nSize Guide\\nUK 5.5\\nUK 6 (EU 39)\\...   \n",
      "7   Select Size\\nSize Guide\\nUK 6 (EU 40)\\nUK 6.5\\...   \n",
      "8   Select Size\\nSize Guide\\nUK 6 (EU 40)\\nUK 6.5\\...   \n",
      "9   Select Size\\nSize Guide\\nUK 6 (EU 40)\\nUK 6.5\\...   \n",
      "10  Select Size\\nSize Guide\\nUK 6 (EU 40)\\nUK 6.5\\...   \n",
      "11  Select Size\\nSize Guide\\nUK 6 (EU 40)\\nUK 6.5\\...   \n",
      "12  Select Size\\nSize Guide\\nUK 5.5\\nUK 6 (EU 39)\\...   \n",
      "13  Select Size\\nSize Guide\\nUK 5.5\\nUK 6\\nUK 6.5\\...   \n",
      "14  Select Size\\nSize Guide\\nUK 5.5\\nUK 6\\nUK 6.5\\...   \n",
      "15  Select Size\\nSize Guide\\nUK 6 (EU 40)\\nUK 6.5\\...   \n",
      "16  Select Size\\nSize Guide\\nUK 6 (EU 40)\\nUK 6.5\\...   \n",
      "17  Select Size\\nSize Guide\\nUK 6 (EU 40)\\nUK 6.5\\...   \n",
      "18  Select Size\\nSize Guide\\nUK 6 (EU 40)\\nUK 6.5\\...   \n",
      "19  Select Size\\nSize Guide\\nUK 6 (EU 40)\\nUK 6.5\\...   \n",
      "20  Select Size\\nSize Guide\\nUK 6 (EU 40)\\nUK 6.5\\...   \n",
      "21  Select Size\\nSize Guide\\nUK 5.5\\nUK 6\\nUK 6.5\\...   \n",
      "22  Select Size\\nSize Guide\\nUK 6 (EU 40)\\nUK 6.5\\...   \n",
      "23  Select Size\\nSize Guide\\nUK 2.5\\nUK 3\\nUK 3.5\\...   \n",
      "\n",
      "                                       Type_of_colors         Style code  \n",
      "0   Colour Shown: Deep Jungle/Light Silver/Deep Ju...  Style: FB8896-300  \n",
      "1           Colour Shown: White/Sail/Black/Pine Green  Style: DA6364-115  \n",
      "2                           Colour Shown: White/White  Style: CW2288-111  \n",
      "3       Colour Shown: Light Silver/Clear/Light Silver  Style: FB8875-002  \n",
      "4   Colour Shown: Sail/Light Orewood Brown/White/B...  Style: FQ8075-133  \n",
      "5              Colour Shown: White/Desert Ochre/Black  Style: DH3162-100  \n",
      "6                      Colour Shown: White/Sail/Black  Style: DA6364-101  \n",
      "7   Colour Shown: Phantom/Cargo Khaki/Dark Russet/...  Style: FB8877-001  \n",
      "8                     Colour Shown: White/White/White  Style: DH9636-101  \n",
      "9   Colour Shown: Anthracite/Black/Mystic Red/Summ...  Style: FB9658-001  \n",
      "10             Colour Shown: Sail/Gum Yellow/Oil Grey  Style: 432997-121  \n",
      "11  Colour Shown: Baroque Brown/Coconut Milk/Mysti...  Style: FB8892-200  \n",
      "12          Colour Shown: Black/Anthracite/Volt/White  Style: FB2204-001  \n",
      "13  Colour Shown: Multi-Colour/Multi-Colour/Multi-...  Style: FB2382-900  \n",
      "14  Colour Shown: Multi-Colour/Multi-Colour/Multi-...  Style: DV2273-900  \n",
      "15          Colour Shown: Black/Black/Dark Smoke Grey  Style: DM0829-010  \n",
      "16                  Colour Shown: White/Gym Red/Black  Style: CD7069-116  \n",
      "17  Colour Shown: Sail/Coconut Milk/White/Deep Jungle  Style: FQ8080-133  \n",
      "18  Colour Shown: Black/White/Light Smoke Grey/Fir...  Style: DZ5485-051  \n",
      "19           Colour Shown: Black/Anthracite/Cool Grey  Style: FB1396-001  \n",
      "20       Colour Shown: Racer Blue/Safety Orange/White  Style: DC8749-401  \n",
      "21  Colour Shown: Multi-Colour/Multi-Colour/Multi-...  Style: FJ2253-900  \n",
      "22                    Colour Shown: Black/Black/White  Style: FZ0630-010  \n",
      "23                          Colour Shown: White/Black  Style: DR5540-102  \n"
     ]
    }
   ],
   "source": [
    "nikemen_df = pd.concat([df13, df14, df15,df16,df17,df18,df19,df20,df21,df22,df23,df24,df25,df26,df27,df28,df29,df30,df31,df32,df33,df34,df35,df36], ignore_index=True)\n",
    "print(nikemen_df)"
   ]
  },
  {
   "cell_type": "code",
   "execution_count": 554,
   "id": "7f8ce01b-284b-466d-9c5d-e8c0d464074f",
   "metadata": {
    "tags": []
   },
   "outputs": [],
   "source": [
    "driver = webdriver.Chrome(service=Service(ChromeDriverManager().install()))"
   ]
  },
  {
   "cell_type": "code",
   "execution_count": 555,
   "id": "6a377f88-9b64-4a00-9363-a0f41e306b3b",
   "metadata": {
    "tags": []
   },
   "outputs": [],
   "source": [
    "driver.get(\"https://www.nike.com\")"
   ]
  },
  {
   "cell_type": "code",
   "execution_count": 362,
   "id": "75836a1d-afc3-4696-b15b-145d2180e813",
   "metadata": {
    "tags": []
   },
   "outputs": [],
   "source": [
    "search_keyword = driver.find_element(By.XPATH, '//*[@id=\"VisualSearchInput\"]')\n",
    "search_keyword.clear()\n",
    "search_keyword.send_keys('Women Shoes')"
   ]
  },
  {
   "cell_type": "code",
   "execution_count": 340,
   "id": "2c23ece2-1ccc-44f0-9b59-61a32e4de66a",
   "metadata": {
    "tags": []
   },
   "outputs": [],
   "source": [
    "search_keyword = driver.find_element(By.XPATH, '//*[@id=\"gen-nav-commerce-header-v2\"]/div[3]/header/div[1]/div[2]/div/div/div[1]/div/div/button[2]')\n",
    "search_keyword.click()"
   ]
  },
  {
   "cell_type": "code",
   "execution_count": 341,
   "id": "1380b625-c34f-416a-9e8c-36750ed8f7fd",
   "metadata": {
    "tags": []
   },
   "outputs": [],
   "source": [
    "search_keyword = driver.find_element(By.XPATH, '//*[@id=\"skip-to-products\"]/div[1]/div/figure/a[2]/div')\n",
    "search_keyword.click()"
   ]
  },
  {
   "cell_type": "code",
   "execution_count": 342,
   "id": "3b12622a-f3ea-4871-9a22-cd291a92d073",
   "metadata": {
    "tags": []
   },
   "outputs": [],
   "source": [
    "Count_of_sizes = []\n",
    "Type_of_colors = []\n",
    "Style_code = []"
   ]
  },
  {
   "cell_type": "code",
   "execution_count": 343,
   "id": "64635eb3-6d86-4e52-a1f2-c278cb3e23d4",
   "metadata": {
    "tags": []
   },
   "outputs": [],
   "source": [
    "title_tags=driver.find_elements(By.XPATH, '//*[@id=\"buyTools\"]/div[1]')\n",
    "for i in title_tags[0:23]:\n",
    "    title=i.text\n",
    "    Count_of_sizes.append(title)"
   ]
  },
  {
   "cell_type": "code",
   "execution_count": 344,
   "id": "68a552d1-2d61-414b-8fbe-4d1e312cbf3d",
   "metadata": {
    "tags": []
   },
   "outputs": [],
   "source": [
    "title_tags=driver.find_elements(By.CLASS_NAME, 'description-preview__color-description.ncss-li')\n",
    "for i in title_tags[0:23]:\n",
    "    title=i.text\n",
    "    Type_of_colors.append(title)"
   ]
  },
  {
   "cell_type": "code",
   "execution_count": 345,
   "id": "82608f6c-10f0-4dda-9eac-165eb4e679ef",
   "metadata": {
    "tags": []
   },
   "outputs": [],
   "source": [
    "title_tags=driver.find_elements(By.CLASS_NAME, 'description-preview__style-color.ncss-li')\n",
    "for i in title_tags[0:23]:\n",
    "    title=i.text\n",
    "    Style_code.append(title)"
   ]
  },
  {
   "cell_type": "code",
   "execution_count": 346,
   "id": "2e66727c-21a0-4bf0-b2ce-563dd15da243",
   "metadata": {
    "tags": []
   },
   "outputs": [
    {
     "name": "stdout",
     "output_type": "stream",
     "text": [
      "1 1 1\n"
     ]
    }
   ],
   "source": [
    "print(len(Count_of_sizes),len(Type_of_colors), len(Style_code))"
   ]
  },
  {
   "cell_type": "code",
   "execution_count": 347,
   "id": "4e651d2f-cdf3-4e59-994a-494a0b6277b4",
   "metadata": {
    "tags": []
   },
   "outputs": [
    {
     "data": {
      "text/html": [
       "<div>\n",
       "<style scoped>\n",
       "    .dataframe tbody tr th:only-of-type {\n",
       "        vertical-align: middle;\n",
       "    }\n",
       "\n",
       "    .dataframe tbody tr th {\n",
       "        vertical-align: top;\n",
       "    }\n",
       "\n",
       "    .dataframe thead th {\n",
       "        text-align: right;\n",
       "    }\n",
       "</style>\n",
       "<table border=\"1\" class=\"dataframe\">\n",
       "  <thead>\n",
       "    <tr style=\"text-align: right;\">\n",
       "      <th></th>\n",
       "      <th>Count_of_sizes</th>\n",
       "      <th>Type_of_colors</th>\n",
       "      <th>Style code</th>\n",
       "    </tr>\n",
       "  </thead>\n",
       "  <tbody>\n",
       "    <tr>\n",
       "      <th>0</th>\n",
       "      <td>Select Size\\nSize Guide\\nUK 2.5\\nUK 3\\nUK 3.5\\...</td>\n",
       "      <td>Colour Shown: White/Sky J Light Olive/Galactic...</td>\n",
       "      <td>Style: FB2269-103</td>\n",
       "    </tr>\n",
       "  </tbody>\n",
       "</table>\n",
       "</div>"
      ],
      "text/plain": [
       "                                      Count_of_sizes  \\\n",
       "0  Select Size\\nSize Guide\\nUK 2.5\\nUK 3\\nUK 3.5\\...   \n",
       "\n",
       "                                      Type_of_colors         Style code  \n",
       "0  Colour Shown: White/Sky J Light Olive/Galactic...  Style: FB2269-103  "
      ]
     },
     "execution_count": 347,
     "metadata": {},
     "output_type": "execute_result"
    }
   ],
   "source": [
    "import pandas as pd\n",
    "df37=pd.DataFrame({'Count_of_sizes':Count_of_sizes,'Type_of_colors':Type_of_colors,'Style code':Style_code})\n",
    "df37"
   ]
  },
  {
   "cell_type": "code",
   "execution_count": 350,
   "id": "cecb7299-bed6-4fe2-aa17-e12733d50608",
   "metadata": {
    "tags": []
   },
   "outputs": [],
   "source": [
    "search_keyword = driver.find_element(By.XPATH, '//*[@id=\"VisualSearchInput\"]')\n",
    "search_keyword.clear()\n",
    "search_keyword.send_keys('Women Shoes')"
   ]
  },
  {
   "cell_type": "code",
   "execution_count": 351,
   "id": "4df3acbd-402d-40f5-b256-a22b1162da84",
   "metadata": {
    "tags": []
   },
   "outputs": [],
   "source": [
    "search_keyword = driver.find_element(By.XPATH, '//*[@id=\"gen-nav-commerce-header-v2\"]/div[3]/header/div[1]/div[2]/div/div/div[1]/div/div/button[2]')\n",
    "search_keyword.click()"
   ]
  },
  {
   "cell_type": "code",
   "execution_count": 352,
   "id": "46d02d96-7da3-4025-a284-1f3241ab8320",
   "metadata": {
    "tags": []
   },
   "outputs": [],
   "source": [
    "search_keyword = driver.find_element(By.XPATH, '//*[@id=\"skip-to-products\"]/div[2]/div/figure/a[2]/div')\n",
    "search_keyword.click()"
   ]
  },
  {
   "cell_type": "code",
   "execution_count": 353,
   "id": "64447e10-a9f0-48ae-8bd9-841c28e7c7da",
   "metadata": {
    "tags": []
   },
   "outputs": [],
   "source": [
    "Count_of_sizes = []\n",
    "Type_of_colors = []\n",
    "Style_code = []"
   ]
  },
  {
   "cell_type": "code",
   "execution_count": 354,
   "id": "baeaf2e8-21e7-4725-beb1-a7e18518b450",
   "metadata": {
    "tags": []
   },
   "outputs": [],
   "source": [
    "title_tags=driver.find_elements(By.XPATH, '//*[@id=\"buyTools\"]/div[1]')\n",
    "for i in title_tags[0:23]:\n",
    "    title=i.text\n",
    "    Count_of_sizes.append(title)"
   ]
  },
  {
   "cell_type": "code",
   "execution_count": 355,
   "id": "834880d7-5b4d-4029-9260-0da502156f19",
   "metadata": {
    "tags": []
   },
   "outputs": [],
   "source": [
    "title_tags=driver.find_elements(By.CLASS_NAME, 'description-preview__color-description.ncss-li')\n",
    "for i in title_tags[0:23]:\n",
    "    title=i.text\n",
    "    Type_of_colors.append(title)"
   ]
  },
  {
   "cell_type": "code",
   "execution_count": 356,
   "id": "5e9a6cb1-fc47-401e-92fe-4a4ac9f782fb",
   "metadata": {
    "tags": []
   },
   "outputs": [],
   "source": [
    "title_tags=driver.find_elements(By.CLASS_NAME, 'description-preview__style-color.ncss-li')\n",
    "for i in title_tags[0:23]:\n",
    "    title=i.text\n",
    "    Style_code.append(title)"
   ]
  },
  {
   "cell_type": "code",
   "execution_count": 357,
   "id": "12ecea85-9ca1-4a13-bb26-2d271d302684",
   "metadata": {
    "tags": []
   },
   "outputs": [
    {
     "name": "stdout",
     "output_type": "stream",
     "text": [
      "1 1 1\n"
     ]
    }
   ],
   "source": [
    "print(len(Count_of_sizes),len(Type_of_colors), len(Style_code))"
   ]
  },
  {
   "cell_type": "code",
   "execution_count": 358,
   "id": "cdb66830-b6ac-4a13-9f39-402f6de049e9",
   "metadata": {
    "tags": []
   },
   "outputs": [
    {
     "data": {
      "text/html": [
       "<div>\n",
       "<style scoped>\n",
       "    .dataframe tbody tr th:only-of-type {\n",
       "        vertical-align: middle;\n",
       "    }\n",
       "\n",
       "    .dataframe tbody tr th {\n",
       "        vertical-align: top;\n",
       "    }\n",
       "\n",
       "    .dataframe thead th {\n",
       "        text-align: right;\n",
       "    }\n",
       "</style>\n",
       "<table border=\"1\" class=\"dataframe\">\n",
       "  <thead>\n",
       "    <tr style=\"text-align: right;\">\n",
       "      <th></th>\n",
       "      <th>Count_of_sizes</th>\n",
       "      <th>Type_of_colors</th>\n",
       "      <th>Style code</th>\n",
       "    </tr>\n",
       "  </thead>\n",
       "  <tbody>\n",
       "    <tr>\n",
       "      <th>0</th>\n",
       "      <td>Select Size\\nSize Guide\\nUK 2.5\\nUK 3\\nUK 3.5\\...</td>\n",
       "      <td>Colour Shown: Sail/Sail/Black</td>\n",
       "      <td>Style: FB9893-101</td>\n",
       "    </tr>\n",
       "  </tbody>\n",
       "</table>\n",
       "</div>"
      ],
      "text/plain": [
       "                                      Count_of_sizes  \\\n",
       "0  Select Size\\nSize Guide\\nUK 2.5\\nUK 3\\nUK 3.5\\...   \n",
       "\n",
       "                  Type_of_colors         Style code  \n",
       "0  Colour Shown: Sail/Sail/Black  Style: FB9893-101  "
      ]
     },
     "execution_count": 358,
     "metadata": {},
     "output_type": "execute_result"
    }
   ],
   "source": [
    "import pandas as pd\n",
    "df38=pd.DataFrame({'Count_of_sizes':Count_of_sizes,'Type_of_colors':Type_of_colors,'Style code':Style_code})\n",
    "df38"
   ]
  },
  {
   "cell_type": "code",
   "execution_count": 363,
   "id": "2196cf05-424b-49a9-8329-9ed99abed90b",
   "metadata": {
    "tags": []
   },
   "outputs": [],
   "source": [
    "search_keyword = driver.find_element(By.XPATH, '//*[@id=\"VisualSearchInput\"]')\n",
    "search_keyword.clear()\n",
    "search_keyword.send_keys('Women Shoes')"
   ]
  },
  {
   "cell_type": "code",
   "execution_count": 364,
   "id": "44344e8b-d8f3-4fab-aeae-55f7a8d356df",
   "metadata": {
    "tags": []
   },
   "outputs": [],
   "source": [
    "search_keyword = driver.find_element(By.XPATH, '//*[@id=\"gen-nav-commerce-header-v2\"]/div[3]/header/div[1]/div[2]/div/div/div[1]/div/div/button[2]')\n",
    "search_keyword.click()"
   ]
  },
  {
   "cell_type": "code",
   "execution_count": 365,
   "id": "23dfcf55-211f-48aa-9f9b-1d5bd1f44d23",
   "metadata": {
    "tags": []
   },
   "outputs": [],
   "source": [
    "search_keyword = driver.find_element(By.XPATH, '//*[@id=\"skip-to-products\"]/div[3]/div/figure/a[2]/div')\n",
    "search_keyword.click()"
   ]
  },
  {
   "cell_type": "code",
   "execution_count": 366,
   "id": "1ac94e09-4174-4551-9239-1656e7c40524",
   "metadata": {
    "tags": []
   },
   "outputs": [],
   "source": [
    "Count_of_sizes = []\n",
    "Type_of_colors = []\n",
    "Style_code = []"
   ]
  },
  {
   "cell_type": "code",
   "execution_count": 367,
   "id": "ea3a61c7-87a5-4796-9086-a4917f325ff2",
   "metadata": {
    "tags": []
   },
   "outputs": [],
   "source": [
    "title_tags=driver.find_elements(By.XPATH, '//*[@id=\"buyTools\"]/div[1]')\n",
    "for i in title_tags[0:23]:\n",
    "    title=i.text\n",
    "    Count_of_sizes.append(title)"
   ]
  },
  {
   "cell_type": "code",
   "execution_count": 368,
   "id": "14656fb8-01dc-47d8-8961-de28f87ad17a",
   "metadata": {
    "tags": []
   },
   "outputs": [],
   "source": [
    "title_tags=driver.find_elements(By.CLASS_NAME, 'description-preview__color-description.ncss-li')\n",
    "for i in title_tags[0:23]:\n",
    "    title=i.text\n",
    "    Type_of_colors.append(title)"
   ]
  },
  {
   "cell_type": "code",
   "execution_count": 369,
   "id": "821a7c3a-ac33-4028-aa61-9344e28aa680",
   "metadata": {
    "tags": []
   },
   "outputs": [],
   "source": [
    "title_tags=driver.find_elements(By.CLASS_NAME, 'description-preview__style-color.ncss-li')\n",
    "for i in title_tags[0:23]:\n",
    "    title=i.text\n",
    "    Style_code.append(title)"
   ]
  },
  {
   "cell_type": "code",
   "execution_count": 370,
   "id": "615a21e6-9c70-40f2-b231-42ceca205a59",
   "metadata": {
    "tags": []
   },
   "outputs": [
    {
     "name": "stdout",
     "output_type": "stream",
     "text": [
      "1 1 1\n"
     ]
    }
   ],
   "source": [
    "print(len(Count_of_sizes),len(Type_of_colors), len(Style_code))"
   ]
  },
  {
   "cell_type": "code",
   "execution_count": 371,
   "id": "af3821bc-25e2-4aa2-99ea-c95ca6a74bcf",
   "metadata": {
    "tags": []
   },
   "outputs": [
    {
     "data": {
      "text/html": [
       "<div>\n",
       "<style scoped>\n",
       "    .dataframe tbody tr th:only-of-type {\n",
       "        vertical-align: middle;\n",
       "    }\n",
       "\n",
       "    .dataframe tbody tr th {\n",
       "        vertical-align: top;\n",
       "    }\n",
       "\n",
       "    .dataframe thead th {\n",
       "        text-align: right;\n",
       "    }\n",
       "</style>\n",
       "<table border=\"1\" class=\"dataframe\">\n",
       "  <thead>\n",
       "    <tr style=\"text-align: right;\">\n",
       "      <th></th>\n",
       "      <th>Count_of_sizes</th>\n",
       "      <th>Type_of_colors</th>\n",
       "      <th>Style code</th>\n",
       "    </tr>\n",
       "  </thead>\n",
       "  <tbody>\n",
       "    <tr>\n",
       "      <th>0</th>\n",
       "      <td>Select Size\\nSize Guide\\nUK 2.5\\nUK 3\\nUK 3.5\\...</td>\n",
       "      <td>Colour Shown: Light Orewood Brown/Gum Light Br...</td>\n",
       "      <td>Style: FQ8147-104</td>\n",
       "    </tr>\n",
       "  </tbody>\n",
       "</table>\n",
       "</div>"
      ],
      "text/plain": [
       "                                      Count_of_sizes  \\\n",
       "0  Select Size\\nSize Guide\\nUK 2.5\\nUK 3\\nUK 3.5\\...   \n",
       "\n",
       "                                      Type_of_colors         Style code  \n",
       "0  Colour Shown: Light Orewood Brown/Gum Light Br...  Style: FQ8147-104  "
      ]
     },
     "execution_count": 371,
     "metadata": {},
     "output_type": "execute_result"
    }
   ],
   "source": [
    "import pandas as pd\n",
    "df39=pd.DataFrame({'Count_of_sizes':Count_of_sizes,'Type_of_colors':Type_of_colors,'Style code':Style_code})\n",
    "df39"
   ]
  },
  {
   "cell_type": "code",
   "execution_count": 372,
   "id": "bfe55c5a-75d7-4246-a506-5646c97b1dbc",
   "metadata": {
    "tags": []
   },
   "outputs": [],
   "source": [
    "search_keyword = driver.find_element(By.XPATH, '//*[@id=\"VisualSearchInput\"]')\n",
    "search_keyword.clear()\n",
    "search_keyword.send_keys('Women Shoes')"
   ]
  },
  {
   "cell_type": "code",
   "execution_count": 373,
   "id": "5c06735e-be0f-4417-8edb-fd0f0ffe602f",
   "metadata": {
    "tags": []
   },
   "outputs": [],
   "source": [
    "search_keyword = driver.find_element(By.XPATH, '//*[@id=\"gen-nav-commerce-header-v2\"]/div[3]/header/div[1]/div[2]/div/div/div[1]/div/div/button[2]')\n",
    "search_keyword.click()"
   ]
  },
  {
   "cell_type": "code",
   "execution_count": 374,
   "id": "6763c15a-eea3-4dec-803b-a119ce78d811",
   "metadata": {
    "tags": []
   },
   "outputs": [],
   "source": [
    "search_keyword = driver.find_element(By.XPATH, '//*[@id=\"skip-to-products\"]/div[4]/div/figure/a[2]/div')\n",
    "search_keyword.click()"
   ]
  },
  {
   "cell_type": "code",
   "execution_count": 375,
   "id": "401c6b12-5c00-4a14-8829-444950f1e235",
   "metadata": {
    "tags": []
   },
   "outputs": [],
   "source": [
    "Count_of_sizes = []\n",
    "Type_of_colors = []\n",
    "Style_code = []"
   ]
  },
  {
   "cell_type": "code",
   "execution_count": 376,
   "id": "c1916b71-916b-4924-a9b8-cdc0ef57b377",
   "metadata": {
    "tags": []
   },
   "outputs": [],
   "source": [
    "title_tags=driver.find_elements(By.XPATH, '//*[@id=\"buyTools\"]/div[1]')\n",
    "for i in title_tags[0:23]:\n",
    "    title=i.text\n",
    "    Count_of_sizes.append(title)"
   ]
  },
  {
   "cell_type": "code",
   "execution_count": 377,
   "id": "71c8ecfc-e88a-4596-87af-761e27c6b9eb",
   "metadata": {
    "tags": []
   },
   "outputs": [],
   "source": [
    "title_tags=driver.find_elements(By.CLASS_NAME, 'description-preview__color-description.ncss-li')\n",
    "for i in title_tags[0:23]:\n",
    "    title=i.text\n",
    "    Type_of_colors.append(title)"
   ]
  },
  {
   "cell_type": "code",
   "execution_count": 378,
   "id": "38910db5-a6b4-4cae-9ddf-615b14671726",
   "metadata": {
    "tags": []
   },
   "outputs": [],
   "source": [
    "title_tags=driver.find_elements(By.CLASS_NAME, 'description-preview__style-color.ncss-li')\n",
    "for i in title_tags[0:23]:\n",
    "    title=i.text\n",
    "    Style_code.append(title)"
   ]
  },
  {
   "cell_type": "code",
   "execution_count": 379,
   "id": "d2b4c78b-3481-44b6-95f8-7f7274d5b488",
   "metadata": {
    "tags": []
   },
   "outputs": [
    {
     "name": "stdout",
     "output_type": "stream",
     "text": [
      "1 1 1\n"
     ]
    }
   ],
   "source": [
    "print(len(Count_of_sizes),len(Type_of_colors), len(Style_code))"
   ]
  },
  {
   "cell_type": "code",
   "execution_count": 380,
   "id": "e1c0a107-4504-4827-b17f-65c950a4ca25",
   "metadata": {
    "tags": []
   },
   "outputs": [
    {
     "data": {
      "text/html": [
       "<div>\n",
       "<style scoped>\n",
       "    .dataframe tbody tr th:only-of-type {\n",
       "        vertical-align: middle;\n",
       "    }\n",
       "\n",
       "    .dataframe tbody tr th {\n",
       "        vertical-align: top;\n",
       "    }\n",
       "\n",
       "    .dataframe thead th {\n",
       "        text-align: right;\n",
       "    }\n",
       "</style>\n",
       "<table border=\"1\" class=\"dataframe\">\n",
       "  <thead>\n",
       "    <tr style=\"text-align: right;\">\n",
       "      <th></th>\n",
       "      <th>Count_of_sizes</th>\n",
       "      <th>Type_of_colors</th>\n",
       "      <th>Style code</th>\n",
       "    </tr>\n",
       "  </thead>\n",
       "  <tbody>\n",
       "    <tr>\n",
       "      <th>0</th>\n",
       "      <td>Select Size\\nSize Guide\\nUK 2.5\\nUK 3\\nUK 3.5\\...</td>\n",
       "      <td>Colour Shown: Sky J Orange/Sail</td>\n",
       "      <td>Style: FN3722-801</td>\n",
       "    </tr>\n",
       "  </tbody>\n",
       "</table>\n",
       "</div>"
      ],
      "text/plain": [
       "                                      Count_of_sizes  \\\n",
       "0  Select Size\\nSize Guide\\nUK 2.5\\nUK 3\\nUK 3.5\\...   \n",
       "\n",
       "                    Type_of_colors         Style code  \n",
       "0  Colour Shown: Sky J Orange/Sail  Style: FN3722-801  "
      ]
     },
     "execution_count": 380,
     "metadata": {},
     "output_type": "execute_result"
    }
   ],
   "source": [
    "import pandas as pd\n",
    "df40=pd.DataFrame({'Count_of_sizes':Count_of_sizes,'Type_of_colors':Type_of_colors,'Style code':Style_code})\n",
    "df40"
   ]
  },
  {
   "cell_type": "code",
   "execution_count": 381,
   "id": "4ea8f5a3-cf02-4dfb-bd39-d36bbfc0aff6",
   "metadata": {
    "tags": []
   },
   "outputs": [],
   "source": [
    "search_keyword = driver.find_element(By.XPATH, '//*[@id=\"VisualSearchInput\"]')\n",
    "search_keyword.clear()\n",
    "search_keyword.send_keys('Women Shoes')"
   ]
  },
  {
   "cell_type": "code",
   "execution_count": 382,
   "id": "6c606e24-5873-4308-a499-e5f1acb3bd0d",
   "metadata": {
    "tags": []
   },
   "outputs": [],
   "source": [
    "search_keyword = driver.find_element(By.XPATH, '//*[@id=\"gen-nav-commerce-header-v2\"]/div[3]/header/div[1]/div[2]/div/div/div[1]/div/div/button[2]')\n",
    "search_keyword.click()"
   ]
  },
  {
   "cell_type": "code",
   "execution_count": 383,
   "id": "afa1567f-9e79-4678-a8b8-10ff122a3155",
   "metadata": {
    "tags": []
   },
   "outputs": [],
   "source": [
    "search_keyword = driver.find_element(By.XPATH, '//*[@id=\"skip-to-products\"]/div[5]/div/figure/a[2]/div')\n",
    "search_keyword.click()"
   ]
  },
  {
   "cell_type": "code",
   "execution_count": 384,
   "id": "f0fce3d0-6305-4ea1-8c31-c93c90e0f83c",
   "metadata": {
    "tags": []
   },
   "outputs": [],
   "source": [
    "Count_of_sizes = []\n",
    "Type_of_colors = []\n",
    "Style_code = []"
   ]
  },
  {
   "cell_type": "code",
   "execution_count": 385,
   "id": "dfa9c2cf-bfd0-4fae-b556-f7b8674d8d1a",
   "metadata": {
    "tags": []
   },
   "outputs": [],
   "source": [
    "title_tags=driver.find_elements(By.XPATH, '//*[@id=\"buyTools\"]/div[1]')\n",
    "for i in title_tags[0:23]:\n",
    "    title=i.text\n",
    "    Count_of_sizes.append(title)"
   ]
  },
  {
   "cell_type": "code",
   "execution_count": 386,
   "id": "ab13f761-c176-4ec9-8b3c-c79eec209bb1",
   "metadata": {
    "tags": []
   },
   "outputs": [],
   "source": [
    "title_tags=driver.find_elements(By.CLASS_NAME, 'description-preview__color-description.ncss-li')\n",
    "for i in title_tags[0:23]:\n",
    "    title=i.text\n",
    "    Type_of_colors.append(title)"
   ]
  },
  {
   "cell_type": "code",
   "execution_count": 387,
   "id": "0ae0ed50-46ca-49d1-9730-428f5aaf6a08",
   "metadata": {
    "tags": []
   },
   "outputs": [],
   "source": [
    "title_tags=driver.find_elements(By.CLASS_NAME, 'description-preview__style-color.ncss-li')\n",
    "for i in title_tags[0:23]:\n",
    "    title=i.text\n",
    "    Style_code.append(title)"
   ]
  },
  {
   "cell_type": "code",
   "execution_count": 388,
   "id": "fcb791e5-2c68-4a92-91c2-ff61b47c26fb",
   "metadata": {
    "tags": []
   },
   "outputs": [
    {
     "name": "stdout",
     "output_type": "stream",
     "text": [
      "1 1 1\n"
     ]
    }
   ],
   "source": [
    "print(len(Count_of_sizes),len(Type_of_colors), len(Style_code))"
   ]
  },
  {
   "cell_type": "code",
   "execution_count": 389,
   "id": "16858747-808c-4e21-b712-81ffa134913b",
   "metadata": {
    "tags": []
   },
   "outputs": [
    {
     "data": {
      "text/html": [
       "<div>\n",
       "<style scoped>\n",
       "    .dataframe tbody tr th:only-of-type {\n",
       "        vertical-align: middle;\n",
       "    }\n",
       "\n",
       "    .dataframe tbody tr th {\n",
       "        vertical-align: top;\n",
       "    }\n",
       "\n",
       "    .dataframe thead th {\n",
       "        text-align: right;\n",
       "    }\n",
       "</style>\n",
       "<table border=\"1\" class=\"dataframe\">\n",
       "  <thead>\n",
       "    <tr style=\"text-align: right;\">\n",
       "      <th></th>\n",
       "      <th>Count_of_sizes</th>\n",
       "      <th>Type_of_colors</th>\n",
       "      <th>Style code</th>\n",
       "    </tr>\n",
       "  </thead>\n",
       "  <tbody>\n",
       "    <tr>\n",
       "      <th>0</th>\n",
       "      <td>Select Size\\nSize Guide\\nUK 3\\nUK 3.5\\nUK 4\\nU...</td>\n",
       "      <td>Colour Shown: Sail/Red Stardust/Coconut Milk/C...</td>\n",
       "      <td>Style: DZ2628-103</td>\n",
       "    </tr>\n",
       "  </tbody>\n",
       "</table>\n",
       "</div>"
      ],
      "text/plain": [
       "                                      Count_of_sizes  \\\n",
       "0  Select Size\\nSize Guide\\nUK 3\\nUK 3.5\\nUK 4\\nU...   \n",
       "\n",
       "                                      Type_of_colors         Style code  \n",
       "0  Colour Shown: Sail/Red Stardust/Coconut Milk/C...  Style: DZ2628-103  "
      ]
     },
     "execution_count": 389,
     "metadata": {},
     "output_type": "execute_result"
    }
   ],
   "source": [
    "import pandas as pd\n",
    "df41=pd.DataFrame({'Count_of_sizes':Count_of_sizes,'Type_of_colors':Type_of_colors,'Style code':Style_code})\n",
    "df41"
   ]
  },
  {
   "cell_type": "code",
   "execution_count": 390,
   "id": "032723a7-6341-44ac-bfac-23a9265fd720",
   "metadata": {
    "tags": []
   },
   "outputs": [],
   "source": [
    "search_keyword = driver.find_element(By.XPATH, '//*[@id=\"VisualSearchInput\"]')\n",
    "search_keyword.clear()\n",
    "search_keyword.send_keys('Women Shoes')"
   ]
  },
  {
   "cell_type": "code",
   "execution_count": 391,
   "id": "dab3786b-9064-405a-9e67-01ef9da2bea9",
   "metadata": {
    "tags": []
   },
   "outputs": [],
   "source": [
    "search_keyword = driver.find_element(By.XPATH, '//*[@id=\"gen-nav-commerce-header-v2\"]/div[3]/header/div[1]/div[2]/div/div/div[1]/div/div/button[2]')\n",
    "search_keyword.click()"
   ]
  },
  {
   "cell_type": "code",
   "execution_count": 392,
   "id": "41783000-bc96-4370-ba7f-6d6728951fa5",
   "metadata": {
    "tags": []
   },
   "outputs": [],
   "source": [
    "search_keyword = driver.find_element(By.XPATH, '//*[@id=\"skip-to-products\"]/div[6]/div/figure/a[2]/div')\n",
    "search_keyword.click()"
   ]
  },
  {
   "cell_type": "code",
   "execution_count": 393,
   "id": "98e508be-99f6-4861-8554-e7aaf81aede2",
   "metadata": {
    "tags": []
   },
   "outputs": [],
   "source": [
    "Count_of_sizes = []\n",
    "Type_of_colors = []\n",
    "Style_code = []"
   ]
  },
  {
   "cell_type": "code",
   "execution_count": 394,
   "id": "fa3209e8-a079-435e-abde-fe3fb12e5e3f",
   "metadata": {
    "tags": []
   },
   "outputs": [],
   "source": [
    "title_tags=driver.find_elements(By.XPATH, '//*[@id=\"buyTools\"]/div[1]')\n",
    "for i in title_tags[0:23]:\n",
    "    title=i.text\n",
    "    Count_of_sizes.append(title)"
   ]
  },
  {
   "cell_type": "code",
   "execution_count": 395,
   "id": "6df8d5b8-9259-4e7d-acc7-34800e059655",
   "metadata": {
    "tags": []
   },
   "outputs": [],
   "source": [
    "title_tags=driver.find_elements(By.CLASS_NAME, 'description-preview__color-description.ncss-li')\n",
    "for i in title_tags[0:23]:\n",
    "    title=i.text\n",
    "    Type_of_colors.append(title)"
   ]
  },
  {
   "cell_type": "code",
   "execution_count": 396,
   "id": "0962eb75-7503-44d3-9fc2-ef0fc547b284",
   "metadata": {
    "tags": []
   },
   "outputs": [],
   "source": [
    "title_tags=driver.find_elements(By.CLASS_NAME, 'description-preview__style-color.ncss-li')\n",
    "for i in title_tags[0:23]:\n",
    "    title=i.text\n",
    "    Style_code.append(title)"
   ]
  },
  {
   "cell_type": "code",
   "execution_count": 397,
   "id": "fd672b8e-17b9-41f5-abeb-931946f71b86",
   "metadata": {
    "tags": []
   },
   "outputs": [
    {
     "name": "stdout",
     "output_type": "stream",
     "text": [
      "1 1 1\n"
     ]
    }
   ],
   "source": [
    "print(len(Count_of_sizes),len(Type_of_colors), len(Style_code))"
   ]
  },
  {
   "cell_type": "code",
   "execution_count": 398,
   "id": "4cbb0405-21fc-4b2b-be55-22df9dfe149d",
   "metadata": {
    "tags": []
   },
   "outputs": [
    {
     "data": {
      "text/html": [
       "<div>\n",
       "<style scoped>\n",
       "    .dataframe tbody tr th:only-of-type {\n",
       "        vertical-align: middle;\n",
       "    }\n",
       "\n",
       "    .dataframe tbody tr th {\n",
       "        vertical-align: top;\n",
       "    }\n",
       "\n",
       "    .dataframe thead th {\n",
       "        text-align: right;\n",
       "    }\n",
       "</style>\n",
       "<table border=\"1\" class=\"dataframe\">\n",
       "  <thead>\n",
       "    <tr style=\"text-align: right;\">\n",
       "      <th></th>\n",
       "      <th>Count_of_sizes</th>\n",
       "      <th>Type_of_colors</th>\n",
       "      <th>Style code</th>\n",
       "    </tr>\n",
       "  </thead>\n",
       "  <tbody>\n",
       "    <tr>\n",
       "      <th>0</th>\n",
       "      <td>Select Size\\nSize Guide\\nUK 3\\nUK 3.5\\nUK 4\\nU...</td>\n",
       "      <td>Colour Shown: Red Stardust/Cedar/Black/Deep Ju...</td>\n",
       "      <td>Style: FB8459-600</td>\n",
       "    </tr>\n",
       "  </tbody>\n",
       "</table>\n",
       "</div>"
      ],
      "text/plain": [
       "                                      Count_of_sizes  \\\n",
       "0  Select Size\\nSize Guide\\nUK 3\\nUK 3.5\\nUK 4\\nU...   \n",
       "\n",
       "                                      Type_of_colors         Style code  \n",
       "0  Colour Shown: Red Stardust/Cedar/Black/Deep Ju...  Style: FB8459-600  "
      ]
     },
     "execution_count": 398,
     "metadata": {},
     "output_type": "execute_result"
    }
   ],
   "source": [
    "import pandas as pd\n",
    "df42=pd.DataFrame({'Count_of_sizes':Count_of_sizes,'Type_of_colors':Type_of_colors,'Style code':Style_code})\n",
    "df42"
   ]
  },
  {
   "cell_type": "code",
   "execution_count": 399,
   "id": "1f0d68c3-e08c-41a2-8950-c6fd34bf2ab0",
   "metadata": {
    "tags": []
   },
   "outputs": [],
   "source": [
    "search_keyword = driver.find_element(By.XPATH, '//*[@id=\"VisualSearchInput\"]')\n",
    "search_keyword.clear()\n",
    "search_keyword.send_keys('Women Shoes')"
   ]
  },
  {
   "cell_type": "code",
   "execution_count": 400,
   "id": "aa931915-8a1e-4049-bbab-d50b3656aea6",
   "metadata": {
    "tags": []
   },
   "outputs": [],
   "source": [
    "search_keyword = driver.find_element(By.XPATH, '//*[@id=\"gen-nav-commerce-header-v2\"]/div[3]/header/div[1]/div[2]/div/div/div[1]/div/div/button[2]')\n",
    "search_keyword.click()"
   ]
  },
  {
   "cell_type": "code",
   "execution_count": 401,
   "id": "43ca0be0-42c2-4ded-a38a-a023c458a070",
   "metadata": {
    "tags": []
   },
   "outputs": [],
   "source": [
    "search_keyword = driver.find_element(By.XPATH, '//*[@id=\"skip-to-products\"]/div[7]/div/figure/a[2]/div')\n",
    "search_keyword.click()"
   ]
  },
  {
   "cell_type": "code",
   "execution_count": 402,
   "id": "3974e6bc-59c0-44bf-b526-d88fd9ded4a8",
   "metadata": {
    "tags": []
   },
   "outputs": [],
   "source": [
    "Count_of_sizes = []\n",
    "Type_of_colors = []\n",
    "Style_code = []"
   ]
  },
  {
   "cell_type": "code",
   "execution_count": 403,
   "id": "7e022a8a-50dc-4266-a47c-01c978915fbf",
   "metadata": {
    "tags": []
   },
   "outputs": [],
   "source": [
    "title_tags=driver.find_elements(By.XPATH, '//*[@id=\"buyTools\"]/div[1]')\n",
    "for i in title_tags[0:23]:\n",
    "    title=i.text\n",
    "    Count_of_sizes.append(title)"
   ]
  },
  {
   "cell_type": "code",
   "execution_count": 404,
   "id": "c9c93d79-306b-4556-828f-c2a510208290",
   "metadata": {
    "tags": []
   },
   "outputs": [],
   "source": [
    "title_tags=driver.find_elements(By.CLASS_NAME, 'description-preview__color-description.ncss-li')\n",
    "for i in title_tags[0:23]:\n",
    "    title=i.text\n",
    "    Type_of_colors.append(title)"
   ]
  },
  {
   "cell_type": "code",
   "execution_count": 405,
   "id": "5c09e0f0-541b-49eb-b32c-5ebce96f2be3",
   "metadata": {
    "tags": []
   },
   "outputs": [],
   "source": [
    "title_tags=driver.find_elements(By.CLASS_NAME, 'description-preview__style-color.ncss-li')\n",
    "for i in title_tags[0:23]:\n",
    "    title=i.text\n",
    "    Style_code.append(title)"
   ]
  },
  {
   "cell_type": "code",
   "execution_count": 406,
   "id": "05fd4a5e-d00f-45b4-97b8-3a1a368e2b27",
   "metadata": {
    "tags": []
   },
   "outputs": [
    {
     "name": "stdout",
     "output_type": "stream",
     "text": [
      "1 1 1\n"
     ]
    }
   ],
   "source": [
    "print(len(Count_of_sizes),len(Type_of_colors), len(Style_code))"
   ]
  },
  {
   "cell_type": "code",
   "execution_count": 407,
   "id": "f95d7105-901f-43ae-bf62-d686e4944d60",
   "metadata": {
    "tags": []
   },
   "outputs": [
    {
     "data": {
      "text/html": [
       "<div>\n",
       "<style scoped>\n",
       "    .dataframe tbody tr th:only-of-type {\n",
       "        vertical-align: middle;\n",
       "    }\n",
       "\n",
       "    .dataframe tbody tr th {\n",
       "        vertical-align: top;\n",
       "    }\n",
       "\n",
       "    .dataframe thead th {\n",
       "        text-align: right;\n",
       "    }\n",
       "</style>\n",
       "<table border=\"1\" class=\"dataframe\">\n",
       "  <thead>\n",
       "    <tr style=\"text-align: right;\">\n",
       "      <th></th>\n",
       "      <th>Count_of_sizes</th>\n",
       "      <th>Type_of_colors</th>\n",
       "      <th>Style code</th>\n",
       "    </tr>\n",
       "  </thead>\n",
       "  <tbody>\n",
       "    <tr>\n",
       "      <th>0</th>\n",
       "      <td>Select Size\\nSize Guide\\nUK 2.5\\nUK 3\\nUK 3.5\\...</td>\n",
       "      <td>Colour Shown: Coconut Milk/White/Vivid Sulphur</td>\n",
       "      <td>Style: DZ2794-100</td>\n",
       "    </tr>\n",
       "  </tbody>\n",
       "</table>\n",
       "</div>"
      ],
      "text/plain": [
       "                                      Count_of_sizes  \\\n",
       "0  Select Size\\nSize Guide\\nUK 2.5\\nUK 3\\nUK 3.5\\...   \n",
       "\n",
       "                                   Type_of_colors         Style code  \n",
       "0  Colour Shown: Coconut Milk/White/Vivid Sulphur  Style: DZ2794-100  "
      ]
     },
     "execution_count": 407,
     "metadata": {},
     "output_type": "execute_result"
    }
   ],
   "source": [
    "import pandas as pd\n",
    "df43=pd.DataFrame({'Count_of_sizes':Count_of_sizes,'Type_of_colors':Type_of_colors,'Style code':Style_code})\n",
    "df43"
   ]
  },
  {
   "cell_type": "code",
   "execution_count": 408,
   "id": "5f626cf7-792e-4ee3-bdfc-195838cd4041",
   "metadata": {
    "tags": []
   },
   "outputs": [],
   "source": [
    "search_keyword = driver.find_element(By.XPATH, '//*[@id=\"VisualSearchInput\"]')\n",
    "search_keyword.clear()\n",
    "search_keyword.send_keys('Women Shoes')"
   ]
  },
  {
   "cell_type": "code",
   "execution_count": 409,
   "id": "7b08733d-41e4-4196-80aa-18aff1e612d1",
   "metadata": {
    "tags": []
   },
   "outputs": [],
   "source": [
    "search_keyword = driver.find_element(By.XPATH, '//*[@id=\"gen-nav-commerce-header-v2\"]/div[3]/header/div[1]/div[2]/div/div/div[1]/div/div/button[2]')\n",
    "search_keyword.click()"
   ]
  },
  {
   "cell_type": "code",
   "execution_count": 410,
   "id": "31d5a5c7-035f-4feb-ab62-a27854a296d0",
   "metadata": {
    "tags": []
   },
   "outputs": [],
   "source": [
    "search_keyword = driver.find_element(By.XPATH, '//*[@id=\"skip-to-products\"]/div[8]/div/figure/a[2]/div')\n",
    "search_keyword.click()"
   ]
  },
  {
   "cell_type": "code",
   "execution_count": 411,
   "id": "010af427-a1e1-41bd-9ecc-9f32041d07db",
   "metadata": {
    "tags": []
   },
   "outputs": [],
   "source": [
    "Count_of_sizes = []\n",
    "Type_of_colors = []\n",
    "Style_code = []"
   ]
  },
  {
   "cell_type": "code",
   "execution_count": 412,
   "id": "a9342941-1c82-48d3-a043-d7666789050d",
   "metadata": {
    "tags": []
   },
   "outputs": [],
   "source": [
    "title_tags=driver.find_elements(By.XPATH, '//*[@id=\"buyTools\"]/div[1]')\n",
    "for i in title_tags[0:23]:\n",
    "    title=i.text\n",
    "    Count_of_sizes.append(title)"
   ]
  },
  {
   "cell_type": "code",
   "execution_count": 413,
   "id": "e8f5443a-a5f2-4139-900e-4a0ac7a83337",
   "metadata": {
    "tags": []
   },
   "outputs": [],
   "source": [
    "title_tags=driver.find_elements(By.CLASS_NAME, 'description-preview__color-description.ncss-li')\n",
    "for i in title_tags[0:23]:\n",
    "    title=i.text\n",
    "    Type_of_colors.append(title)"
   ]
  },
  {
   "cell_type": "code",
   "execution_count": 414,
   "id": "b59f8944-98dc-478e-bec6-7a660230f874",
   "metadata": {
    "tags": []
   },
   "outputs": [],
   "source": [
    "title_tags=driver.find_elements(By.CLASS_NAME, 'description-preview__style-color.ncss-li')\n",
    "for i in title_tags[0:23]:\n",
    "    title=i.text\n",
    "    Style_code.append(title)"
   ]
  },
  {
   "cell_type": "code",
   "execution_count": 415,
   "id": "c9953a7a-c7b9-410e-8796-b06d9b630ed2",
   "metadata": {
    "tags": []
   },
   "outputs": [
    {
     "name": "stdout",
     "output_type": "stream",
     "text": [
      "1 1 1\n"
     ]
    }
   ],
   "source": [
    "print(len(Count_of_sizes),len(Type_of_colors), len(Style_code))"
   ]
  },
  {
   "cell_type": "code",
   "execution_count": 416,
   "id": "0ca0fad6-1d93-4ddd-be90-a48ef1560147",
   "metadata": {
    "tags": []
   },
   "outputs": [
    {
     "data": {
      "text/html": [
       "<div>\n",
       "<style scoped>\n",
       "    .dataframe tbody tr th:only-of-type {\n",
       "        vertical-align: middle;\n",
       "    }\n",
       "\n",
       "    .dataframe tbody tr th {\n",
       "        vertical-align: top;\n",
       "    }\n",
       "\n",
       "    .dataframe thead th {\n",
       "        text-align: right;\n",
       "    }\n",
       "</style>\n",
       "<table border=\"1\" class=\"dataframe\">\n",
       "  <thead>\n",
       "    <tr style=\"text-align: right;\">\n",
       "      <th></th>\n",
       "      <th>Count_of_sizes</th>\n",
       "      <th>Type_of_colors</th>\n",
       "      <th>Style code</th>\n",
       "    </tr>\n",
       "  </thead>\n",
       "  <tbody>\n",
       "    <tr>\n",
       "      <th>0</th>\n",
       "      <td>Select Size\\nSize Guide\\nUK 2.5\\nUK 3\\nUK 3.5\\...</td>\n",
       "      <td>Colour Shown: Sail/Pale Vanilla/Gold Suede/Dee...</td>\n",
       "      <td>Style: FQ8103-133</td>\n",
       "    </tr>\n",
       "  </tbody>\n",
       "</table>\n",
       "</div>"
      ],
      "text/plain": [
       "                                      Count_of_sizes  \\\n",
       "0  Select Size\\nSize Guide\\nUK 2.5\\nUK 3\\nUK 3.5\\...   \n",
       "\n",
       "                                      Type_of_colors         Style code  \n",
       "0  Colour Shown: Sail/Pale Vanilla/Gold Suede/Dee...  Style: FQ8103-133  "
      ]
     },
     "execution_count": 416,
     "metadata": {},
     "output_type": "execute_result"
    }
   ],
   "source": [
    "import pandas as pd\n",
    "df44=pd.DataFrame({'Count_of_sizes':Count_of_sizes,'Type_of_colors':Type_of_colors,'Style code':Style_code})\n",
    "df44"
   ]
  },
  {
   "cell_type": "code",
   "execution_count": 417,
   "id": "2a8f6b2c-7cf5-49c0-b94c-82c382bb4da0",
   "metadata": {
    "tags": []
   },
   "outputs": [],
   "source": [
    "search_keyword = driver.find_element(By.XPATH, '//*[@id=\"VisualSearchInput\"]')\n",
    "search_keyword.clear()\n",
    "search_keyword.send_keys('Women Shoes')"
   ]
  },
  {
   "cell_type": "code",
   "execution_count": 418,
   "id": "2083757c-18f3-406e-a721-bf72945417b5",
   "metadata": {
    "tags": []
   },
   "outputs": [],
   "source": [
    "search_keyword = driver.find_element(By.XPATH, '//*[@id=\"gen-nav-commerce-header-v2\"]/div[3]/header/div[1]/div[2]/div/div/div[1]/div/div/button[2]')\n",
    "search_keyword.click()"
   ]
  },
  {
   "cell_type": "code",
   "execution_count": 419,
   "id": "962d775a-1c4a-464f-95db-e2688e915806",
   "metadata": {
    "tags": []
   },
   "outputs": [],
   "source": [
    "search_keyword = driver.find_element(By.XPATH, '//*[@id=\"skip-to-products\"]/div[9]/div/figure/a[2]/div')\n",
    "search_keyword.click()"
   ]
  },
  {
   "cell_type": "code",
   "execution_count": 420,
   "id": "ae548868-15e0-4d54-8174-0fcb0a062c38",
   "metadata": {
    "tags": []
   },
   "outputs": [],
   "source": [
    "Count_of_sizes = []\n",
    "Type_of_colors = []\n",
    "Style_code = []"
   ]
  },
  {
   "cell_type": "code",
   "execution_count": 421,
   "id": "058aaa98-d4ef-412c-a99e-217af498a5e6",
   "metadata": {
    "tags": []
   },
   "outputs": [],
   "source": [
    "title_tags=driver.find_elements(By.XPATH, '//*[@id=\"buyTools\"]/div[1]')\n",
    "for i in title_tags[0:23]:\n",
    "    title=i.text\n",
    "    Count_of_sizes.append(title)"
   ]
  },
  {
   "cell_type": "code",
   "execution_count": 422,
   "id": "6748e6a8-60a7-4381-a35b-13892b3b6b43",
   "metadata": {
    "tags": []
   },
   "outputs": [],
   "source": [
    "title_tags=driver.find_elements(By.CLASS_NAME, 'description-preview__color-description.ncss-li')\n",
    "for i in title_tags[0:23]:\n",
    "    title=i.text\n",
    "    Type_of_colors.append(title)"
   ]
  },
  {
   "cell_type": "code",
   "execution_count": 423,
   "id": "f201773a-e160-4b02-ae1a-40ac074661da",
   "metadata": {
    "tags": []
   },
   "outputs": [],
   "source": [
    "title_tags=driver.find_elements(By.CLASS_NAME, 'description-preview__style-color.ncss-li')\n",
    "for i in title_tags[0:23]:\n",
    "    title=i.text\n",
    "    Style_code.append(title)"
   ]
  },
  {
   "cell_type": "code",
   "execution_count": 424,
   "id": "95600a89-77d0-4cdf-b06f-2956e4818110",
   "metadata": {
    "tags": []
   },
   "outputs": [
    {
     "name": "stdout",
     "output_type": "stream",
     "text": [
      "1 1 1\n"
     ]
    }
   ],
   "source": [
    "print(len(Count_of_sizes),len(Type_of_colors), len(Style_code))"
   ]
  },
  {
   "cell_type": "code",
   "execution_count": 425,
   "id": "1b9ed395-53ce-456b-9da2-bb9af2a3d16b",
   "metadata": {
    "tags": []
   },
   "outputs": [
    {
     "data": {
      "text/html": [
       "<div>\n",
       "<style scoped>\n",
       "    .dataframe tbody tr th:only-of-type {\n",
       "        vertical-align: middle;\n",
       "    }\n",
       "\n",
       "    .dataframe tbody tr th {\n",
       "        vertical-align: top;\n",
       "    }\n",
       "\n",
       "    .dataframe thead th {\n",
       "        text-align: right;\n",
       "    }\n",
       "</style>\n",
       "<table border=\"1\" class=\"dataframe\">\n",
       "  <thead>\n",
       "    <tr style=\"text-align: right;\">\n",
       "      <th></th>\n",
       "      <th>Count_of_sizes</th>\n",
       "      <th>Type_of_colors</th>\n",
       "      <th>Style code</th>\n",
       "    </tr>\n",
       "  </thead>\n",
       "  <tbody>\n",
       "    <tr>\n",
       "      <th>0</th>\n",
       "      <td>Select Size\\nSize Guide\\nUK 2.5\\nUK 3\\nUK 3.5\\...</td>\n",
       "      <td>Colour Shown: White/White/White</td>\n",
       "      <td>Style: CI0919-100</td>\n",
       "    </tr>\n",
       "  </tbody>\n",
       "</table>\n",
       "</div>"
      ],
      "text/plain": [
       "                                      Count_of_sizes  \\\n",
       "0  Select Size\\nSize Guide\\nUK 2.5\\nUK 3\\nUK 3.5\\...   \n",
       "\n",
       "                    Type_of_colors         Style code  \n",
       "0  Colour Shown: White/White/White  Style: CI0919-100  "
      ]
     },
     "execution_count": 425,
     "metadata": {},
     "output_type": "execute_result"
    }
   ],
   "source": [
    "import pandas as pd\n",
    "df45=pd.DataFrame({'Count_of_sizes':Count_of_sizes,'Type_of_colors':Type_of_colors,'Style code':Style_code})\n",
    "df45"
   ]
  },
  {
   "cell_type": "code",
   "execution_count": 426,
   "id": "8cd85d8f-fa36-446e-ad59-df143d1a1dfd",
   "metadata": {
    "tags": []
   },
   "outputs": [],
   "source": [
    "search_keyword = driver.find_element(By.XPATH, '//*[@id=\"VisualSearchInput\"]')\n",
    "search_keyword.clear()\n",
    "search_keyword.send_keys('Women Shoes')"
   ]
  },
  {
   "cell_type": "code",
   "execution_count": 427,
   "id": "90dd0a6d-1987-4d56-a585-9169b896e0d5",
   "metadata": {
    "tags": []
   },
   "outputs": [],
   "source": [
    "search_keyword = driver.find_element(By.XPATH, '//*[@id=\"gen-nav-commerce-header-v2\"]/div[3]/header/div[1]/div[2]/div/div/div[1]/div/div/button[2]')\n",
    "search_keyword.click()"
   ]
  },
  {
   "cell_type": "code",
   "execution_count": 428,
   "id": "98c32331-ab6b-4db9-9122-97f7e6b3e0f1",
   "metadata": {
    "tags": []
   },
   "outputs": [],
   "source": [
    "search_keyword = driver.find_element(By.XPATH, '//*[@id=\"skip-to-products\"]/div[10]/div/figure/a[2]/div')\n",
    "search_keyword.click()"
   ]
  },
  {
   "cell_type": "code",
   "execution_count": 429,
   "id": "81295a69-bba9-4a70-9b63-f83b85e2f920",
   "metadata": {
    "tags": []
   },
   "outputs": [],
   "source": [
    "Count_of_sizes = []\n",
    "Type_of_colors = []\n",
    "Style_code = []"
   ]
  },
  {
   "cell_type": "code",
   "execution_count": 430,
   "id": "1ea429fb-30d2-40d4-a61e-13161d06a045",
   "metadata": {
    "tags": []
   },
   "outputs": [],
   "source": [
    "title_tags=driver.find_elements(By.XPATH, '//*[@id=\"buyTools\"]/div[1]')\n",
    "for i in title_tags[0:23]:\n",
    "    title=i.text\n",
    "    Count_of_sizes.append(title)"
   ]
  },
  {
   "cell_type": "code",
   "execution_count": 431,
   "id": "213d4585-ccb7-47a3-96d8-0f8e18accd50",
   "metadata": {
    "tags": []
   },
   "outputs": [],
   "source": [
    "title_tags=driver.find_elements(By.CLASS_NAME, 'description-preview__color-description.ncss-li')\n",
    "for i in title_tags[0:23]:\n",
    "    title=i.text\n",
    "    Type_of_colors.append(title)"
   ]
  },
  {
   "cell_type": "code",
   "execution_count": 432,
   "id": "4bd4bf36-0dee-4439-8796-ca76a1b75056",
   "metadata": {
    "tags": []
   },
   "outputs": [],
   "source": [
    "title_tags=driver.find_elements(By.CLASS_NAME, 'description-preview__style-color.ncss-li')\n",
    "for i in title_tags[0:23]:\n",
    "    title=i.text\n",
    "    Style_code.append(title)"
   ]
  },
  {
   "cell_type": "code",
   "execution_count": 433,
   "id": "fa9db037-25d0-4b63-81d2-8d960198d0b6",
   "metadata": {
    "tags": []
   },
   "outputs": [
    {
     "name": "stdout",
     "output_type": "stream",
     "text": [
      "1 1 1\n"
     ]
    }
   ],
   "source": [
    "print(len(Count_of_sizes),len(Type_of_colors), len(Style_code))"
   ]
  },
  {
   "cell_type": "code",
   "execution_count": 434,
   "id": "999227a4-c4c7-4fde-99f6-3682cf167fdf",
   "metadata": {
    "tags": []
   },
   "outputs": [
    {
     "data": {
      "text/html": [
       "<div>\n",
       "<style scoped>\n",
       "    .dataframe tbody tr th:only-of-type {\n",
       "        vertical-align: middle;\n",
       "    }\n",
       "\n",
       "    .dataframe tbody tr th {\n",
       "        vertical-align: top;\n",
       "    }\n",
       "\n",
       "    .dataframe thead th {\n",
       "        text-align: right;\n",
       "    }\n",
       "</style>\n",
       "<table border=\"1\" class=\"dataframe\">\n",
       "  <thead>\n",
       "    <tr style=\"text-align: right;\">\n",
       "      <th></th>\n",
       "      <th>Count_of_sizes</th>\n",
       "      <th>Type_of_colors</th>\n",
       "      <th>Style code</th>\n",
       "    </tr>\n",
       "  </thead>\n",
       "  <tbody>\n",
       "    <tr>\n",
       "      <th>0</th>\n",
       "      <td>Select Size\\nSize Guide\\nUK 3\\nUK 3.5\\nUK 4\\nU...</td>\n",
       "      <td>Colour Shown: Plum Eclipse/Pink Oxford/Earth/B...</td>\n",
       "      <td>Style: FV1166-200</td>\n",
       "    </tr>\n",
       "  </tbody>\n",
       "</table>\n",
       "</div>"
      ],
      "text/plain": [
       "                                      Count_of_sizes  \\\n",
       "0  Select Size\\nSize Guide\\nUK 3\\nUK 3.5\\nUK 4\\nU...   \n",
       "\n",
       "                                      Type_of_colors         Style code  \n",
       "0  Colour Shown: Plum Eclipse/Pink Oxford/Earth/B...  Style: FV1166-200  "
      ]
     },
     "execution_count": 434,
     "metadata": {},
     "output_type": "execute_result"
    }
   ],
   "source": [
    "import pandas as pd\n",
    "df46=pd.DataFrame({'Count_of_sizes':Count_of_sizes,'Type_of_colors':Type_of_colors,'Style code':Style_code})\n",
    "df46"
   ]
  },
  {
   "cell_type": "code",
   "execution_count": 435,
   "id": "3e720760-54a8-4f07-9924-6a8528c624b9",
   "metadata": {
    "tags": []
   },
   "outputs": [],
   "source": [
    "search_keyword = driver.find_element(By.XPATH, '//*[@id=\"VisualSearchInput\"]')\n",
    "search_keyword.clear()\n",
    "search_keyword.send_keys('Women Shoes')"
   ]
  },
  {
   "cell_type": "code",
   "execution_count": 436,
   "id": "379211ad-b91c-4d63-82a5-f144a50e4f88",
   "metadata": {
    "tags": []
   },
   "outputs": [],
   "source": [
    "search_keyword = driver.find_element(By.XPATH, '//*[@id=\"gen-nav-commerce-header-v2\"]/div[3]/header/div[1]/div[2]/div/div/div[1]/div/div/button[2]')\n",
    "search_keyword.click()"
   ]
  },
  {
   "cell_type": "code",
   "execution_count": 437,
   "id": "994d5db0-be63-4860-8eb8-ae7b345e7c42",
   "metadata": {
    "tags": []
   },
   "outputs": [],
   "source": [
    "search_keyword = driver.find_element(By.XPATH, '//*[@id=\"skip-to-products\"]/div[11]/div/figure/a[2]/div')\n",
    "search_keyword.click()"
   ]
  },
  {
   "cell_type": "code",
   "execution_count": 438,
   "id": "485946ec-1863-4967-90b6-4e4bee0ce3d7",
   "metadata": {
    "tags": []
   },
   "outputs": [],
   "source": [
    "Count_of_sizes = []\n",
    "Type_of_colors = []\n",
    "Style_code = []"
   ]
  },
  {
   "cell_type": "code",
   "execution_count": 439,
   "id": "56966356-2e67-41da-aebe-6a8a63b83ce2",
   "metadata": {
    "tags": []
   },
   "outputs": [],
   "source": [
    "title_tags=driver.find_elements(By.XPATH, '//*[@id=\"buyTools\"]/div[1]')\n",
    "for i in title_tags[0:23]:\n",
    "    title=i.text\n",
    "    Count_of_sizes.append(title)"
   ]
  },
  {
   "cell_type": "code",
   "execution_count": 440,
   "id": "8623caa7-52a1-49cf-867f-e3da81ebb3a6",
   "metadata": {
    "tags": []
   },
   "outputs": [],
   "source": [
    "title_tags=driver.find_elements(By.CLASS_NAME, 'description-preview__color-description.ncss-li')\n",
    "for i in title_tags[0:23]:\n",
    "    title=i.text\n",
    "    Type_of_colors.append(title)"
   ]
  },
  {
   "cell_type": "code",
   "execution_count": 441,
   "id": "42b2f668-94a3-419b-862b-31a4bc17cf82",
   "metadata": {
    "tags": []
   },
   "outputs": [],
   "source": [
    "title_tags=driver.find_elements(By.CLASS_NAME, 'description-preview__style-color.ncss-li')\n",
    "for i in title_tags[0:23]:\n",
    "    title=i.text\n",
    "    Style_code.append(title)"
   ]
  },
  {
   "cell_type": "code",
   "execution_count": 442,
   "id": "d21a79e3-5ac9-440d-82c0-154078b574df",
   "metadata": {
    "tags": []
   },
   "outputs": [
    {
     "name": "stdout",
     "output_type": "stream",
     "text": [
      "1 1 1\n"
     ]
    }
   ],
   "source": [
    "print(len(Count_of_sizes),len(Type_of_colors), len(Style_code))"
   ]
  },
  {
   "cell_type": "code",
   "execution_count": 443,
   "id": "9720344f-1f8f-40c9-8db4-b2d25e626e88",
   "metadata": {
    "tags": []
   },
   "outputs": [
    {
     "data": {
      "text/html": [
       "<div>\n",
       "<style scoped>\n",
       "    .dataframe tbody tr th:only-of-type {\n",
       "        vertical-align: middle;\n",
       "    }\n",
       "\n",
       "    .dataframe tbody tr th {\n",
       "        vertical-align: top;\n",
       "    }\n",
       "\n",
       "    .dataframe thead th {\n",
       "        text-align: right;\n",
       "    }\n",
       "</style>\n",
       "<table border=\"1\" class=\"dataframe\">\n",
       "  <thead>\n",
       "    <tr style=\"text-align: right;\">\n",
       "      <th></th>\n",
       "      <th>Count_of_sizes</th>\n",
       "      <th>Type_of_colors</th>\n",
       "      <th>Style code</th>\n",
       "    </tr>\n",
       "  </thead>\n",
       "  <tbody>\n",
       "    <tr>\n",
       "      <th>0</th>\n",
       "      <td>Select Size\\nSize Guide\\nUK 3\\nUK 3.5\\nUK 4\\nU...</td>\n",
       "      <td>Colour Shown: Khaki/Baroque Brown/Dark Russet/...</td>\n",
       "      <td>Style: FV1176-247</td>\n",
       "    </tr>\n",
       "  </tbody>\n",
       "</table>\n",
       "</div>"
      ],
      "text/plain": [
       "                                      Count_of_sizes  \\\n",
       "0  Select Size\\nSize Guide\\nUK 3\\nUK 3.5\\nUK 4\\nU...   \n",
       "\n",
       "                                      Type_of_colors         Style code  \n",
       "0  Colour Shown: Khaki/Baroque Brown/Dark Russet/...  Style: FV1176-247  "
      ]
     },
     "execution_count": 443,
     "metadata": {},
     "output_type": "execute_result"
    }
   ],
   "source": [
    "import pandas as pd\n",
    "df47=pd.DataFrame({'Count_of_sizes':Count_of_sizes,'Type_of_colors':Type_of_colors,'Style code':Style_code})\n",
    "df47"
   ]
  },
  {
   "cell_type": "code",
   "execution_count": 444,
   "id": "1e27fa96-0742-47f8-bff5-28f5649804c0",
   "metadata": {
    "tags": []
   },
   "outputs": [],
   "source": [
    "search_keyword = driver.find_element(By.XPATH, '//*[@id=\"VisualSearchInput\"]')\n",
    "search_keyword.clear()\n",
    "search_keyword.send_keys('Women Shoes')"
   ]
  },
  {
   "cell_type": "code",
   "execution_count": 445,
   "id": "8d09a85a-771d-4f69-816b-b65e78b1eb80",
   "metadata": {
    "tags": []
   },
   "outputs": [],
   "source": [
    "search_keyword = driver.find_element(By.XPATH, '//*[@id=\"gen-nav-commerce-header-v2\"]/div[3]/header/div[1]/div[2]/div/div/div[1]/div/div/button[2]')\n",
    "search_keyword.click()"
   ]
  },
  {
   "cell_type": "code",
   "execution_count": 446,
   "id": "a5792564-76ca-472b-8d78-e22148d80afe",
   "metadata": {
    "tags": []
   },
   "outputs": [],
   "source": [
    "search_keyword = driver.find_element(By.XPATH, '//*[@id=\"skip-to-products\"]/div[12]/div/figure/a[2]/div')\n",
    "search_keyword.click()"
   ]
  },
  {
   "cell_type": "code",
   "execution_count": 447,
   "id": "17b0b6d4-12f4-48cb-a18f-5d0fba793cd6",
   "metadata": {
    "tags": []
   },
   "outputs": [],
   "source": [
    "Count_of_sizes = []\n",
    "Type_of_colors = []\n",
    "Style_code = []"
   ]
  },
  {
   "cell_type": "code",
   "execution_count": 448,
   "id": "d7eec595-3d0c-48b9-bca8-2c273bfb1258",
   "metadata": {
    "tags": []
   },
   "outputs": [],
   "source": [
    "title_tags=driver.find_elements(By.XPATH, '//*[@id=\"buyTools\"]/div[1]')\n",
    "for i in title_tags[0:23]:\n",
    "    title=i.text\n",
    "    Count_of_sizes.append(title)"
   ]
  },
  {
   "cell_type": "code",
   "execution_count": 449,
   "id": "c8c65048-d7aa-489a-93f6-3767a3507b53",
   "metadata": {
    "tags": []
   },
   "outputs": [],
   "source": [
    "title_tags=driver.find_elements(By.CLASS_NAME, 'description-preview__color-description.ncss-li')\n",
    "for i in title_tags[0:23]:\n",
    "    title=i.text\n",
    "    Type_of_colors.append(title)"
   ]
  },
  {
   "cell_type": "code",
   "execution_count": 450,
   "id": "cdd2bf90-ac06-4ca9-a148-9b7345261508",
   "metadata": {
    "tags": []
   },
   "outputs": [],
   "source": [
    "title_tags=driver.find_elements(By.CLASS_NAME, 'description-preview__style-color.ncss-li')\n",
    "for i in title_tags[0:23]:\n",
    "    title=i.text\n",
    "    Style_code.append(title)"
   ]
  },
  {
   "cell_type": "code",
   "execution_count": 451,
   "id": "29f531c6-3258-4f65-8f39-b3208e54eba1",
   "metadata": {
    "tags": []
   },
   "outputs": [
    {
     "name": "stdout",
     "output_type": "stream",
     "text": [
      "1 1 1\n"
     ]
    }
   ],
   "source": [
    "print(len(Count_of_sizes),len(Type_of_colors), len(Style_code))"
   ]
  },
  {
   "cell_type": "code",
   "execution_count": 452,
   "id": "3520e52f-51e2-41cf-8928-887a17907a82",
   "metadata": {
    "tags": []
   },
   "outputs": [
    {
     "data": {
      "text/html": [
       "<div>\n",
       "<style scoped>\n",
       "    .dataframe tbody tr th:only-of-type {\n",
       "        vertical-align: middle;\n",
       "    }\n",
       "\n",
       "    .dataframe tbody tr th {\n",
       "        vertical-align: top;\n",
       "    }\n",
       "\n",
       "    .dataframe thead th {\n",
       "        text-align: right;\n",
       "    }\n",
       "</style>\n",
       "<table border=\"1\" class=\"dataframe\">\n",
       "  <thead>\n",
       "    <tr style=\"text-align: right;\">\n",
       "      <th></th>\n",
       "      <th>Count_of_sizes</th>\n",
       "      <th>Type_of_colors</th>\n",
       "      <th>Style code</th>\n",
       "    </tr>\n",
       "  </thead>\n",
       "  <tbody>\n",
       "    <tr>\n",
       "      <th>0</th>\n",
       "      <td>Select Size\\nSize Guide\\nUK 2.5\\nUK 3\\nUK 3.5\\...</td>\n",
       "      <td>Colour Shown: Sail/Light Orewood Brown/Sundial...</td>\n",
       "      <td>Style: FD2370-100</td>\n",
       "    </tr>\n",
       "  </tbody>\n",
       "</table>\n",
       "</div>"
      ],
      "text/plain": [
       "                                      Count_of_sizes  \\\n",
       "0  Select Size\\nSize Guide\\nUK 2.5\\nUK 3\\nUK 3.5\\...   \n",
       "\n",
       "                                      Type_of_colors         Style code  \n",
       "0  Colour Shown: Sail/Light Orewood Brown/Sundial...  Style: FD2370-100  "
      ]
     },
     "execution_count": 452,
     "metadata": {},
     "output_type": "execute_result"
    }
   ],
   "source": [
    "import pandas as pd\n",
    "df48=pd.DataFrame({'Count_of_sizes':Count_of_sizes,'Type_of_colors':Type_of_colors,'Style code':Style_code})\n",
    "df48"
   ]
  },
  {
   "cell_type": "code",
   "execution_count": 453,
   "id": "5073f2d5-5a7d-4a56-82be-6366d2be083f",
   "metadata": {
    "tags": []
   },
   "outputs": [],
   "source": [
    "search_keyword = driver.find_element(By.XPATH, '//*[@id=\"VisualSearchInput\"]')\n",
    "search_keyword.clear()\n",
    "search_keyword.send_keys('Women Shoes')"
   ]
  },
  {
   "cell_type": "code",
   "execution_count": 454,
   "id": "7def0f2c-4aad-451f-afe7-82d30cba81ae",
   "metadata": {
    "tags": []
   },
   "outputs": [],
   "source": [
    "search_keyword = driver.find_element(By.XPATH, '//*[@id=\"gen-nav-commerce-header-v2\"]/div[3]/header/div[1]/div[2]/div/div/div[1]/div/div/button[2]')\n",
    "search_keyword.click()"
   ]
  },
  {
   "cell_type": "code",
   "execution_count": 455,
   "id": "26686e6d-83df-429f-b423-f347fdd601d5",
   "metadata": {
    "tags": []
   },
   "outputs": [],
   "source": [
    "search_keyword = driver.find_element(By.XPATH, '//*[@id=\"skip-to-products\"]/div[13]/div/figure/a[2]/div')\n",
    "search_keyword.click()"
   ]
  },
  {
   "cell_type": "code",
   "execution_count": 456,
   "id": "6b57dae9-756d-4f4d-936c-4b4f63e75756",
   "metadata": {
    "tags": []
   },
   "outputs": [],
   "source": [
    "Count_of_sizes = []\n",
    "Type_of_colors = []\n",
    "Style_code = []"
   ]
  },
  {
   "cell_type": "code",
   "execution_count": 457,
   "id": "16f3fd22-443f-46c9-a7e5-6308041c6446",
   "metadata": {
    "tags": []
   },
   "outputs": [],
   "source": [
    "title_tags=driver.find_elements(By.XPATH, '//*[@id=\"buyTools\"]/div[1]')\n",
    "for i in title_tags[0:23]:\n",
    "    title=i.text\n",
    "    Count_of_sizes.append(title)"
   ]
  },
  {
   "cell_type": "code",
   "execution_count": 458,
   "id": "583453bc-6e95-4a16-9fa5-b33713b7ef1f",
   "metadata": {
    "tags": []
   },
   "outputs": [],
   "source": [
    "title_tags=driver.find_elements(By.CLASS_NAME, 'description-preview__color-description.ncss-li')\n",
    "for i in title_tags[0:23]:\n",
    "    title=i.text\n",
    "    Type_of_colors.append(title)"
   ]
  },
  {
   "cell_type": "code",
   "execution_count": 459,
   "id": "570bf9be-62ad-4658-974d-c79a36ee2234",
   "metadata": {
    "tags": []
   },
   "outputs": [],
   "source": [
    "title_tags=driver.find_elements(By.CLASS_NAME, 'description-preview__style-color.ncss-li')\n",
    "for i in title_tags[0:23]:\n",
    "    title=i.text\n",
    "    Style_code.append(title)"
   ]
  },
  {
   "cell_type": "code",
   "execution_count": 460,
   "id": "4ef2051f-404f-4c4f-b442-16efd5382807",
   "metadata": {
    "tags": []
   },
   "outputs": [
    {
     "name": "stdout",
     "output_type": "stream",
     "text": [
      "1 1 1\n"
     ]
    }
   ],
   "source": [
    "print(len(Count_of_sizes),len(Type_of_colors), len(Style_code))"
   ]
  },
  {
   "cell_type": "code",
   "execution_count": 461,
   "id": "b57fcec5-6ccc-4bc3-9a88-07dae77fd9df",
   "metadata": {
    "tags": []
   },
   "outputs": [
    {
     "data": {
      "text/html": [
       "<div>\n",
       "<style scoped>\n",
       "    .dataframe tbody tr th:only-of-type {\n",
       "        vertical-align: middle;\n",
       "    }\n",
       "\n",
       "    .dataframe tbody tr th {\n",
       "        vertical-align: top;\n",
       "    }\n",
       "\n",
       "    .dataframe thead th {\n",
       "        text-align: right;\n",
       "    }\n",
       "</style>\n",
       "<table border=\"1\" class=\"dataframe\">\n",
       "  <thead>\n",
       "    <tr style=\"text-align: right;\">\n",
       "      <th></th>\n",
       "      <th>Count_of_sizes</th>\n",
       "      <th>Type_of_colors</th>\n",
       "      <th>Style code</th>\n",
       "    </tr>\n",
       "  </thead>\n",
       "  <tbody>\n",
       "    <tr>\n",
       "      <th>0</th>\n",
       "      <td>Select Size\\nSize Guide\\nUK 2.5\\nUK 3\\nUK 3.5\\...</td>\n",
       "      <td>Colour Shown: White/Black/Multi-Colour</td>\n",
       "      <td>Style: FD8683-100</td>\n",
       "    </tr>\n",
       "  </tbody>\n",
       "</table>\n",
       "</div>"
      ],
      "text/plain": [
       "                                      Count_of_sizes  \\\n",
       "0  Select Size\\nSize Guide\\nUK 2.5\\nUK 3\\nUK 3.5\\...   \n",
       "\n",
       "                           Type_of_colors         Style code  \n",
       "0  Colour Shown: White/Black/Multi-Colour  Style: FD8683-100  "
      ]
     },
     "execution_count": 461,
     "metadata": {},
     "output_type": "execute_result"
    }
   ],
   "source": [
    "import pandas as pd\n",
    "df49=pd.DataFrame({'Count_of_sizes':Count_of_sizes,'Type_of_colors':Type_of_colors,'Style code':Style_code})\n",
    "df49"
   ]
  },
  {
   "cell_type": "code",
   "execution_count": 462,
   "id": "8b73294d-bbee-4653-9895-59bf5a2461d8",
   "metadata": {
    "tags": []
   },
   "outputs": [],
   "source": [
    "search_keyword = driver.find_element(By.XPATH, '//*[@id=\"VisualSearchInput\"]')\n",
    "search_keyword.clear()\n",
    "search_keyword.send_keys('Women Shoes')"
   ]
  },
  {
   "cell_type": "code",
   "execution_count": 463,
   "id": "f708693f-0b29-4569-a11a-baa58e0bfb46",
   "metadata": {
    "tags": []
   },
   "outputs": [],
   "source": [
    "search_keyword = driver.find_element(By.XPATH, '//*[@id=\"gen-nav-commerce-header-v2\"]/div[3]/header/div[1]/div[2]/div/div/div[1]/div/div/button[2]')\n",
    "search_keyword.click()"
   ]
  },
  {
   "cell_type": "code",
   "execution_count": 464,
   "id": "5642040e-df61-4ca0-9700-004b702e1924",
   "metadata": {
    "tags": []
   },
   "outputs": [],
   "source": [
    "search_keyword = driver.find_element(By.XPATH, '//*[@id=\"skip-to-products\"]/div[14]/div/figure/a[2]/div')\n",
    "search_keyword.click()"
   ]
  },
  {
   "cell_type": "code",
   "execution_count": 465,
   "id": "02979092-e79b-4b7b-8894-c8afc61473d5",
   "metadata": {
    "tags": []
   },
   "outputs": [],
   "source": [
    "Count_of_sizes = []\n",
    "Type_of_colors = []\n",
    "Style_code = []"
   ]
  },
  {
   "cell_type": "code",
   "execution_count": 466,
   "id": "3000e2cf-09e7-4e54-b3a3-6010c47ffea5",
   "metadata": {
    "tags": []
   },
   "outputs": [],
   "source": [
    "title_tags=driver.find_elements(By.XPATH, '//*[@id=\"buyTools\"]/div[1]')\n",
    "for i in title_tags[0:23]:\n",
    "    title=i.text\n",
    "    Count_of_sizes.append(title)"
   ]
  },
  {
   "cell_type": "code",
   "execution_count": 467,
   "id": "549584b5-2502-41a1-af59-a58964e4d91b",
   "metadata": {
    "tags": []
   },
   "outputs": [],
   "source": [
    "title_tags=driver.find_elements(By.CLASS_NAME, 'description-preview__color-description.ncss-li')\n",
    "for i in title_tags[0:23]:\n",
    "    title=i.text\n",
    "    Type_of_colors.append(title)"
   ]
  },
  {
   "cell_type": "code",
   "execution_count": 468,
   "id": "df167df7-59ec-4962-a8ff-40dcc2f2a7b5",
   "metadata": {
    "tags": []
   },
   "outputs": [],
   "source": [
    "title_tags=driver.find_elements(By.CLASS_NAME, 'description-preview__style-color.ncss-li')\n",
    "for i in title_tags[0:23]:\n",
    "    title=i.text\n",
    "    Style_code.append(title)"
   ]
  },
  {
   "cell_type": "code",
   "execution_count": 469,
   "id": "a4b249a3-f1a0-4b42-a747-220998874520",
   "metadata": {
    "tags": []
   },
   "outputs": [
    {
     "name": "stdout",
     "output_type": "stream",
     "text": [
      "1 1 1\n"
     ]
    }
   ],
   "source": [
    "print(len(Count_of_sizes),len(Type_of_colors), len(Style_code))"
   ]
  },
  {
   "cell_type": "code",
   "execution_count": 470,
   "id": "c4e5a8be-76f5-4aeb-9d86-95ac8667eca7",
   "metadata": {
    "tags": []
   },
   "outputs": [
    {
     "data": {
      "text/html": [
       "<div>\n",
       "<style scoped>\n",
       "    .dataframe tbody tr th:only-of-type {\n",
       "        vertical-align: middle;\n",
       "    }\n",
       "\n",
       "    .dataframe tbody tr th {\n",
       "        vertical-align: top;\n",
       "    }\n",
       "\n",
       "    .dataframe thead th {\n",
       "        text-align: right;\n",
       "    }\n",
       "</style>\n",
       "<table border=\"1\" class=\"dataframe\">\n",
       "  <thead>\n",
       "    <tr style=\"text-align: right;\">\n",
       "      <th></th>\n",
       "      <th>Count_of_sizes</th>\n",
       "      <th>Type_of_colors</th>\n",
       "      <th>Style code</th>\n",
       "    </tr>\n",
       "  </thead>\n",
       "  <tbody>\n",
       "    <tr>\n",
       "      <th>0</th>\n",
       "      <td>Select Size\\nSize Guide\\nUK 3\\nUK 3.5\\nUK 4\\nU...</td>\n",
       "      <td>Colour Shown: Bordeaux/Black/Volt/Vivid Purple</td>\n",
       "      <td>Style: DV3950-601</td>\n",
       "    </tr>\n",
       "  </tbody>\n",
       "</table>\n",
       "</div>"
      ],
      "text/plain": [
       "                                      Count_of_sizes  \\\n",
       "0  Select Size\\nSize Guide\\nUK 3\\nUK 3.5\\nUK 4\\nU...   \n",
       "\n",
       "                                   Type_of_colors         Style code  \n",
       "0  Colour Shown: Bordeaux/Black/Volt/Vivid Purple  Style: DV3950-601  "
      ]
     },
     "execution_count": 470,
     "metadata": {},
     "output_type": "execute_result"
    }
   ],
   "source": [
    "import pandas as pd\n",
    "df50=pd.DataFrame({'Count_of_sizes':Count_of_sizes,'Type_of_colors':Type_of_colors,'Style code':Style_code})\n",
    "df50"
   ]
  },
  {
   "cell_type": "code",
   "execution_count": 474,
   "id": "3f49ed8e-c7b0-4da1-bdd6-53aef86eefaf",
   "metadata": {
    "tags": []
   },
   "outputs": [],
   "source": [
    "search_keyword = driver.find_element(By.XPATH, '//*[@id=\"VisualSearchInput\"]')\n",
    "search_keyword.clear()\n",
    "search_keyword.send_keys('Women Shoes')"
   ]
  },
  {
   "cell_type": "code",
   "execution_count": 475,
   "id": "33a1d08e-b2be-4275-b10b-576904e780f4",
   "metadata": {
    "tags": []
   },
   "outputs": [],
   "source": [
    "search_keyword = driver.find_element(By.XPATH, '//*[@id=\"gen-nav-commerce-header-v2\"]/div[3]/header/div[1]/div[2]/div/div/div[1]/div/div/button[2]')\n",
    "search_keyword.click()"
   ]
  },
  {
   "cell_type": "code",
   "execution_count": 476,
   "id": "6ce4733a-dab6-4a6f-8d8e-4de5aa7792e9",
   "metadata": {
    "tags": []
   },
   "outputs": [],
   "source": [
    "search_keyword = driver.find_element(By.XPATH, '//*[@id=\"skip-to-products\"]/div[15]/div/figure/a[2]/div')\n",
    "search_keyword.click()"
   ]
  },
  {
   "cell_type": "code",
   "execution_count": 477,
   "id": "cbea68c8-d041-4190-ad80-470d5728bb47",
   "metadata": {
    "tags": []
   },
   "outputs": [],
   "source": [
    "Count_of_sizes = []\n",
    "Type_of_colors = []\n",
    "Style_code = []"
   ]
  },
  {
   "cell_type": "code",
   "execution_count": 478,
   "id": "56043a24-3ed1-44fd-986b-267ccdcbe6f7",
   "metadata": {
    "tags": []
   },
   "outputs": [],
   "source": [
    "title_tags=driver.find_elements(By.XPATH, '//*[@id=\"buyTools\"]/div[1]')\n",
    "for i in title_tags[0:23]:\n",
    "    title=i.text\n",
    "    Count_of_sizes.append(title)"
   ]
  },
  {
   "cell_type": "code",
   "execution_count": 479,
   "id": "a9ca7eb3-17ed-45ea-82ba-f1957dee68f2",
   "metadata": {
    "tags": []
   },
   "outputs": [],
   "source": [
    "title_tags=driver.find_elements(By.CLASS_NAME, 'description-preview__color-description.ncss-li')\n",
    "for i in title_tags[0:23]:\n",
    "    title=i.text\n",
    "    Type_of_colors.append(title)"
   ]
  },
  {
   "cell_type": "code",
   "execution_count": 480,
   "id": "f9d8edfb-3df9-42ca-8fda-cefdeed20414",
   "metadata": {
    "tags": []
   },
   "outputs": [],
   "source": [
    "title_tags=driver.find_elements(By.CLASS_NAME, 'description-preview__style-color.ncss-li')\n",
    "for i in title_tags[0:23]:\n",
    "    title=i.text\n",
    "    Style_code.append(title)"
   ]
  },
  {
   "cell_type": "code",
   "execution_count": 481,
   "id": "8f86b3ee-1f37-4e7f-b9dc-4766f36317e1",
   "metadata": {
    "tags": []
   },
   "outputs": [
    {
     "name": "stdout",
     "output_type": "stream",
     "text": [
      "1 1 1\n"
     ]
    }
   ],
   "source": [
    "print(len(Count_of_sizes),len(Type_of_colors), len(Style_code))"
   ]
  },
  {
   "cell_type": "code",
   "execution_count": 482,
   "id": "5165c716-0031-4145-ab22-78967050faee",
   "metadata": {
    "tags": []
   },
   "outputs": [
    {
     "data": {
      "text/html": [
       "<div>\n",
       "<style scoped>\n",
       "    .dataframe tbody tr th:only-of-type {\n",
       "        vertical-align: middle;\n",
       "    }\n",
       "\n",
       "    .dataframe tbody tr th {\n",
       "        vertical-align: top;\n",
       "    }\n",
       "\n",
       "    .dataframe thead th {\n",
       "        text-align: right;\n",
       "    }\n",
       "</style>\n",
       "<table border=\"1\" class=\"dataframe\">\n",
       "  <thead>\n",
       "    <tr style=\"text-align: right;\">\n",
       "      <th></th>\n",
       "      <th>Count_of_sizes</th>\n",
       "      <th>Type_of_colors</th>\n",
       "      <th>Style code</th>\n",
       "    </tr>\n",
       "  </thead>\n",
       "  <tbody>\n",
       "    <tr>\n",
       "      <th>0</th>\n",
       "      <td>Select Size\\nSize Guide\\nUK 3\\nUK 3.5\\nUK 4\\nU...</td>\n",
       "      <td>Colour Shown: Luminous Green/Sea Glass/Lime Bl...</td>\n",
       "      <td>Style: DM1119-301</td>\n",
       "    </tr>\n",
       "  </tbody>\n",
       "</table>\n",
       "</div>"
      ],
      "text/plain": [
       "                                      Count_of_sizes  \\\n",
       "0  Select Size\\nSize Guide\\nUK 3\\nUK 3.5\\nUK 4\\nU...   \n",
       "\n",
       "                                      Type_of_colors         Style code  \n",
       "0  Colour Shown: Luminous Green/Sea Glass/Lime Bl...  Style: DM1119-301  "
      ]
     },
     "execution_count": 482,
     "metadata": {},
     "output_type": "execute_result"
    }
   ],
   "source": [
    "import pandas as pd\n",
    "df51=pd.DataFrame({'Count_of_sizes':Count_of_sizes,'Type_of_colors':Type_of_colors,'Style code':Style_code})\n",
    "df51"
   ]
  },
  {
   "cell_type": "code",
   "execution_count": 483,
   "id": "22696b40-98ae-4315-811e-3840cdd87313",
   "metadata": {
    "tags": []
   },
   "outputs": [],
   "source": [
    "search_keyword = driver.find_element(By.XPATH, '//*[@id=\"VisualSearchInput\"]')\n",
    "search_keyword.clear()\n",
    "search_keyword.send_keys('Women Shoes')"
   ]
  },
  {
   "cell_type": "code",
   "execution_count": 484,
   "id": "35b99da1-096e-4a8b-9ffb-206dcde5275d",
   "metadata": {
    "tags": []
   },
   "outputs": [],
   "source": [
    "search_keyword = driver.find_element(By.XPATH, '//*[@id=\"gen-nav-commerce-header-v2\"]/div[3]/header/div[1]/div[2]/div/div/div[1]/div/div/button[2]')\n",
    "search_keyword.click()"
   ]
  },
  {
   "cell_type": "code",
   "execution_count": 485,
   "id": "84901f06-70b2-4b52-8b75-b3af701981dc",
   "metadata": {
    "tags": []
   },
   "outputs": [],
   "source": [
    "search_keyword = driver.find_element(By.XPATH, '//*[@id=\"skip-to-products\"]/div[16]/div/figure/a[2]/div')\n",
    "search_keyword.click()"
   ]
  },
  {
   "cell_type": "code",
   "execution_count": 492,
   "id": "704a7fac-380b-4d1d-99fb-5a40e861fbf5",
   "metadata": {
    "tags": []
   },
   "outputs": [],
   "source": [
    "Type_of_colors = []\n",
    "Style_code = []"
   ]
  },
  {
   "cell_type": "code",
   "execution_count": 493,
   "id": "293f657e-fc5e-466e-882f-1450eb474a06",
   "metadata": {
    "tags": []
   },
   "outputs": [],
   "source": [
    "title_tags=driver.find_elements(By.CLASS_NAME, 'description-preview__color-description.ncss-li')\n",
    "for i in title_tags[0:23]:\n",
    "    title=i.text\n",
    "    Type_of_colors.append(title)"
   ]
  },
  {
   "cell_type": "code",
   "execution_count": 494,
   "id": "8f78c332-90ae-4235-aed2-093db948f02d",
   "metadata": {
    "tags": []
   },
   "outputs": [],
   "source": [
    "title_tags=driver.find_elements(By.CLASS_NAME, 'description-preview__style-color.ncss-li')\n",
    "for i in title_tags[0:23]:\n",
    "    title=i.text\n",
    "    Style_code.append(title)"
   ]
  },
  {
   "cell_type": "code",
   "execution_count": 495,
   "id": "94aa8123-5d7e-436d-ab14-32ce8d5a88c4",
   "metadata": {
    "tags": []
   },
   "outputs": [
    {
     "name": "stdout",
     "output_type": "stream",
     "text": [
      "1 1\n"
     ]
    }
   ],
   "source": [
    "print(len(Type_of_colors), len(Style_code))"
   ]
  },
  {
   "cell_type": "code",
   "execution_count": 497,
   "id": "007a59ee-aaa1-4359-9b31-3a16b3953972",
   "metadata": {
    "tags": []
   },
   "outputs": [
    {
     "data": {
      "text/html": [
       "<div>\n",
       "<style scoped>\n",
       "    .dataframe tbody tr th:only-of-type {\n",
       "        vertical-align: middle;\n",
       "    }\n",
       "\n",
       "    .dataframe tbody tr th {\n",
       "        vertical-align: top;\n",
       "    }\n",
       "\n",
       "    .dataframe thead th {\n",
       "        text-align: right;\n",
       "    }\n",
       "</style>\n",
       "<table border=\"1\" class=\"dataframe\">\n",
       "  <thead>\n",
       "    <tr style=\"text-align: right;\">\n",
       "      <th></th>\n",
       "      <th>Type_of_colors</th>\n",
       "      <th>Style code</th>\n",
       "    </tr>\n",
       "  </thead>\n",
       "  <tbody>\n",
       "    <tr>\n",
       "      <th>0</th>\n",
       "      <td>Colour Shown: White/Phantom/Total Orange/Black</td>\n",
       "      <td>Style: FD8357-100</td>\n",
       "    </tr>\n",
       "  </tbody>\n",
       "</table>\n",
       "</div>"
      ],
      "text/plain": [
       "                                   Type_of_colors         Style code\n",
       "0  Colour Shown: White/Phantom/Total Orange/Black  Style: FD8357-100"
      ]
     },
     "execution_count": 497,
     "metadata": {},
     "output_type": "execute_result"
    }
   ],
   "source": [
    "import pandas as pd\n",
    "df52=pd.DataFrame({'Type_of_colors':Type_of_colors,'Style code':Style_code})\n",
    "df52"
   ]
  },
  {
   "cell_type": "code",
   "execution_count": 498,
   "id": "fde97d8c-5383-4c28-9777-1296030b6ebd",
   "metadata": {
    "tags": []
   },
   "outputs": [],
   "source": [
    "search_keyword = driver.find_element(By.XPATH, '//*[@id=\"VisualSearchInput\"]')\n",
    "search_keyword.clear()\n",
    "search_keyword.send_keys('Women Shoes')"
   ]
  },
  {
   "cell_type": "code",
   "execution_count": 499,
   "id": "7e255b1d-81e2-47c7-a8bc-7655cfa0b9a7",
   "metadata": {
    "tags": []
   },
   "outputs": [],
   "source": [
    "search_keyword = driver.find_element(By.XPATH, '//*[@id=\"gen-nav-commerce-header-v2\"]/div[3]/header/div[1]/div[2]/div/div/div[1]/div/div/button[2]')\n",
    "search_keyword.click()"
   ]
  },
  {
   "cell_type": "code",
   "execution_count": 500,
   "id": "bfc40adf-fd6f-402d-b804-351e7be01ba3",
   "metadata": {
    "tags": []
   },
   "outputs": [],
   "source": [
    "search_keyword = driver.find_element(By.XPATH, '//*[@id=\"skip-to-products\"]/div[17]/div/figure/a[2]/div')\n",
    "search_keyword.click()"
   ]
  },
  {
   "cell_type": "code",
   "execution_count": 501,
   "id": "dadccd9c-314f-4c58-8fc7-bda2bb3fc27f",
   "metadata": {
    "tags": []
   },
   "outputs": [],
   "source": [
    "Count_of_sizes = []\n",
    "Type_of_colors = []\n",
    "Style_code = []"
   ]
  },
  {
   "cell_type": "code",
   "execution_count": 502,
   "id": "295980c7-671e-43e4-9ba2-9f95c91cbf2d",
   "metadata": {
    "tags": []
   },
   "outputs": [],
   "source": [
    "title_tags=driver.find_elements(By.XPATH, '//*[@id=\"buyTools\"]/div[1]')\n",
    "for i in title_tags[0:23]:\n",
    "    title=i.text\n",
    "    Count_of_sizes.append(title)"
   ]
  },
  {
   "cell_type": "code",
   "execution_count": 503,
   "id": "c5117878-af4f-4c45-864b-c7b0d6e44a4a",
   "metadata": {
    "tags": []
   },
   "outputs": [],
   "source": [
    "title_tags=driver.find_elements(By.CLASS_NAME, 'description-preview__color-description.ncss-li')\n",
    "for i in title_tags[0:23]:\n",
    "    title=i.text\n",
    "    Type_of_colors.append(title)"
   ]
  },
  {
   "cell_type": "code",
   "execution_count": 504,
   "id": "08970038-cf57-4dac-a535-4514ca49b340",
   "metadata": {
    "tags": []
   },
   "outputs": [],
   "source": [
    "title_tags=driver.find_elements(By.CLASS_NAME, 'description-preview__style-color.ncss-li')\n",
    "for i in title_tags[0:23]:\n",
    "    title=i.text\n",
    "    Style_code.append(title)"
   ]
  },
  {
   "cell_type": "code",
   "execution_count": 505,
   "id": "cac1f5a6-d3c3-4578-a17f-796dcc669269",
   "metadata": {
    "tags": []
   },
   "outputs": [
    {
     "name": "stdout",
     "output_type": "stream",
     "text": [
      "1 1 1\n"
     ]
    }
   ],
   "source": [
    "print(len(Count_of_sizes),len(Type_of_colors), len(Style_code))"
   ]
  },
  {
   "cell_type": "code",
   "execution_count": 506,
   "id": "8e65a0c6-1f58-4a1f-b0de-58ca1593c1ee",
   "metadata": {
    "tags": []
   },
   "outputs": [
    {
     "data": {
      "text/html": [
       "<div>\n",
       "<style scoped>\n",
       "    .dataframe tbody tr th:only-of-type {\n",
       "        vertical-align: middle;\n",
       "    }\n",
       "\n",
       "    .dataframe tbody tr th {\n",
       "        vertical-align: top;\n",
       "    }\n",
       "\n",
       "    .dataframe thead th {\n",
       "        text-align: right;\n",
       "    }\n",
       "</style>\n",
       "<table border=\"1\" class=\"dataframe\">\n",
       "  <thead>\n",
       "    <tr style=\"text-align: right;\">\n",
       "      <th></th>\n",
       "      <th>Count_of_sizes</th>\n",
       "      <th>Type_of_colors</th>\n",
       "      <th>Style code</th>\n",
       "    </tr>\n",
       "  </thead>\n",
       "  <tbody>\n",
       "    <tr>\n",
       "      <th>0</th>\n",
       "      <td>Select Size\\nSize Guide\\nUK 3\\nUK 3.5\\nUK 4\\nU...</td>\n",
       "      <td>Colour Shown: Black/Anthracite/Volt/Vivid Purple</td>\n",
       "      <td>Style: DH3393-007</td>\n",
       "    </tr>\n",
       "  </tbody>\n",
       "</table>\n",
       "</div>"
      ],
      "text/plain": [
       "                                      Count_of_sizes  \\\n",
       "0  Select Size\\nSize Guide\\nUK 3\\nUK 3.5\\nUK 4\\nU...   \n",
       "\n",
       "                                     Type_of_colors         Style code  \n",
       "0  Colour Shown: Black/Anthracite/Volt/Vivid Purple  Style: DH3393-007  "
      ]
     },
     "execution_count": 506,
     "metadata": {},
     "output_type": "execute_result"
    }
   ],
   "source": [
    "import pandas as pd\n",
    "df53=pd.DataFrame({'Count_of_sizes':Count_of_sizes,'Type_of_colors':Type_of_colors,'Style code':Style_code})\n",
    "df53"
   ]
  },
  {
   "cell_type": "code",
   "execution_count": 507,
   "id": "6069f9a4-361c-43e3-aebb-869eed330ad7",
   "metadata": {
    "tags": []
   },
   "outputs": [],
   "source": [
    "search_keyword = driver.find_element(By.XPATH, '//*[@id=\"VisualSearchInput\"]')\n",
    "search_keyword.clear()\n",
    "search_keyword.send_keys('Women Shoes')"
   ]
  },
  {
   "cell_type": "code",
   "execution_count": 508,
   "id": "b3f9a3f4-9e0d-4d29-9054-53efbadaf4ee",
   "metadata": {
    "tags": []
   },
   "outputs": [],
   "source": [
    "search_keyword = driver.find_element(By.XPATH, '//*[@id=\"gen-nav-commerce-header-v2\"]/div[3]/header/div[1]/div[2]/div/div/div[1]/div/div/button[2]')\n",
    "search_keyword.click()"
   ]
  },
  {
   "cell_type": "code",
   "execution_count": 509,
   "id": "cc13e3c0-aae0-4b51-a0be-845165c97a26",
   "metadata": {
    "tags": []
   },
   "outputs": [],
   "source": [
    "search_keyword = driver.find_element(By.XPATH, '//*[@id=\"skip-to-products\"]/div[18]/div/figure/a[2]/div')\n",
    "search_keyword.click()"
   ]
  },
  {
   "cell_type": "code",
   "execution_count": 510,
   "id": "f3d55f03-bb19-4367-950b-a609ec1ca16b",
   "metadata": {
    "tags": []
   },
   "outputs": [],
   "source": [
    "Count_of_sizes = []\n",
    "Type_of_colors = []\n",
    "Style_code = []"
   ]
  },
  {
   "cell_type": "code",
   "execution_count": 511,
   "id": "47b043bc-4be0-463b-9a2a-78d6c150d57c",
   "metadata": {
    "tags": []
   },
   "outputs": [],
   "source": [
    "title_tags=driver.find_elements(By.XPATH, '//*[@id=\"buyTools\"]/div[1]')\n",
    "for i in title_tags[0:23]:\n",
    "    title=i.text\n",
    "    Count_of_sizes.append(title)"
   ]
  },
  {
   "cell_type": "code",
   "execution_count": 512,
   "id": "17da892b-0685-47dd-9ca2-fd442b413418",
   "metadata": {
    "tags": []
   },
   "outputs": [],
   "source": [
    "title_tags=driver.find_elements(By.CLASS_NAME, 'description-preview__color-description.ncss-li')\n",
    "for i in title_tags[0:23]:\n",
    "    title=i.text\n",
    "    Type_of_colors.append(title)"
   ]
  },
  {
   "cell_type": "code",
   "execution_count": 513,
   "id": "5b45e32d-ec2c-4ea7-96ce-11e5242df2e1",
   "metadata": {
    "tags": []
   },
   "outputs": [],
   "source": [
    "title_tags=driver.find_elements(By.CLASS_NAME, 'description-preview__style-color.ncss-li')\n",
    "for i in title_tags[0:23]:\n",
    "    title=i.text\n",
    "    Style_code.append(title)"
   ]
  },
  {
   "cell_type": "code",
   "execution_count": 514,
   "id": "ce33b745-e649-4e3a-a31c-2242ee894b93",
   "metadata": {
    "tags": []
   },
   "outputs": [
    {
     "name": "stdout",
     "output_type": "stream",
     "text": [
      "1 1 1\n"
     ]
    }
   ],
   "source": [
    "print(len(Count_of_sizes),len(Type_of_colors), len(Style_code))"
   ]
  },
  {
   "cell_type": "code",
   "execution_count": 515,
   "id": "befe11f3-a096-41e1-9464-2413025bbe00",
   "metadata": {
    "tags": []
   },
   "outputs": [
    {
     "data": {
      "text/html": [
       "<div>\n",
       "<style scoped>\n",
       "    .dataframe tbody tr th:only-of-type {\n",
       "        vertical-align: middle;\n",
       "    }\n",
       "\n",
       "    .dataframe tbody tr th {\n",
       "        vertical-align: top;\n",
       "    }\n",
       "\n",
       "    .dataframe thead th {\n",
       "        text-align: right;\n",
       "    }\n",
       "</style>\n",
       "<table border=\"1\" class=\"dataframe\">\n",
       "  <thead>\n",
       "    <tr style=\"text-align: right;\">\n",
       "      <th></th>\n",
       "      <th>Count_of_sizes</th>\n",
       "      <th>Type_of_colors</th>\n",
       "      <th>Style code</th>\n",
       "    </tr>\n",
       "  </thead>\n",
       "  <tbody>\n",
       "    <tr>\n",
       "      <th>0</th>\n",
       "      <td>Select Size\\nSize Guide\\nUK 3\\nUK 3.5\\nUK 4\\nU...</td>\n",
       "      <td>Colour Shown: Barely Rose/Pink Oxford/White/Ro...</td>\n",
       "      <td>Style: DR2698-600</td>\n",
       "    </tr>\n",
       "  </tbody>\n",
       "</table>\n",
       "</div>"
      ],
      "text/plain": [
       "                                      Count_of_sizes  \\\n",
       "0  Select Size\\nSize Guide\\nUK 3\\nUK 3.5\\nUK 4\\nU...   \n",
       "\n",
       "                                      Type_of_colors         Style code  \n",
       "0  Colour Shown: Barely Rose/Pink Oxford/White/Ro...  Style: DR2698-600  "
      ]
     },
     "execution_count": 515,
     "metadata": {},
     "output_type": "execute_result"
    }
   ],
   "source": [
    "import pandas as pd\n",
    "df54=pd.DataFrame({'Count_of_sizes':Count_of_sizes,'Type_of_colors':Type_of_colors,'Style code':Style_code})\n",
    "df54"
   ]
  },
  {
   "cell_type": "code",
   "execution_count": 516,
   "id": "e6b417d5-91ac-4f26-aec7-3a8517fbf27d",
   "metadata": {
    "tags": []
   },
   "outputs": [],
   "source": [
    "search_keyword = driver.find_element(By.XPATH, '//*[@id=\"VisualSearchInput\"]')\n",
    "search_keyword.clear()\n",
    "search_keyword.send_keys('Women Shoes')"
   ]
  },
  {
   "cell_type": "code",
   "execution_count": 517,
   "id": "3e908ba1-5e6b-4653-9a1e-6f7a928fb68d",
   "metadata": {
    "tags": []
   },
   "outputs": [],
   "source": [
    "search_keyword = driver.find_element(By.XPATH, '//*[@id=\"gen-nav-commerce-header-v2\"]/div[3]/header/div[1]/div[2]/div/div/div[1]/div/div/button[2]')\n",
    "search_keyword.click()"
   ]
  },
  {
   "cell_type": "code",
   "execution_count": 518,
   "id": "ea8a55f5-a93e-4702-b912-ce3b448b1684",
   "metadata": {
    "tags": []
   },
   "outputs": [],
   "source": [
    "search_keyword = driver.find_element(By.XPATH, '//*[@id=\"skip-to-products\"]/div[19]/div/figure/a[2]/div')\n",
    "search_keyword.click()"
   ]
  },
  {
   "cell_type": "code",
   "execution_count": 519,
   "id": "fde3260b-c83f-444d-b02a-fb6f255c4d83",
   "metadata": {
    "tags": []
   },
   "outputs": [],
   "source": [
    "Count_of_sizes = []\n",
    "Type_of_colors = []\n",
    "Style_code = []"
   ]
  },
  {
   "cell_type": "code",
   "execution_count": 520,
   "id": "29546f0b-625d-4ad2-8600-1f33219a6ec7",
   "metadata": {
    "tags": []
   },
   "outputs": [],
   "source": [
    "title_tags=driver.find_elements(By.XPATH, '//*[@id=\"buyTools\"]/div[1]')\n",
    "for i in title_tags[0:23]:\n",
    "    title=i.text\n",
    "    Count_of_sizes.append(title)"
   ]
  },
  {
   "cell_type": "code",
   "execution_count": 521,
   "id": "d5fa2081-4f46-4012-917f-ac30d6dce39b",
   "metadata": {
    "tags": []
   },
   "outputs": [],
   "source": [
    "title_tags=driver.find_elements(By.CLASS_NAME, 'description-preview__color-description.ncss-li')\n",
    "for i in title_tags[0:23]:\n",
    "    title=i.text\n",
    "    Type_of_colors.append(title)"
   ]
  },
  {
   "cell_type": "code",
   "execution_count": 522,
   "id": "3368ddbb-b535-4ccd-b488-da8dc4c56885",
   "metadata": {
    "tags": []
   },
   "outputs": [],
   "source": [
    "title_tags=driver.find_elements(By.CLASS_NAME, 'description-preview__style-color.ncss-li')\n",
    "for i in title_tags[0:23]:\n",
    "    title=i.text\n",
    "    Style_code.append(title)"
   ]
  },
  {
   "cell_type": "code",
   "execution_count": 523,
   "id": "d863424a-72e4-43b9-855b-fc6ff79a4ae2",
   "metadata": {
    "tags": []
   },
   "outputs": [
    {
     "name": "stdout",
     "output_type": "stream",
     "text": [
      "1 1 1\n"
     ]
    }
   ],
   "source": [
    "print(len(Count_of_sizes),len(Type_of_colors), len(Style_code))"
   ]
  },
  {
   "cell_type": "code",
   "execution_count": 524,
   "id": "f79aa227-2f46-4acd-b9f1-bd0d0039846f",
   "metadata": {
    "tags": []
   },
   "outputs": [
    {
     "data": {
      "text/html": [
       "<div>\n",
       "<style scoped>\n",
       "    .dataframe tbody tr th:only-of-type {\n",
       "        vertical-align: middle;\n",
       "    }\n",
       "\n",
       "    .dataframe tbody tr th {\n",
       "        vertical-align: top;\n",
       "    }\n",
       "\n",
       "    .dataframe thead th {\n",
       "        text-align: right;\n",
       "    }\n",
       "</style>\n",
       "<table border=\"1\" class=\"dataframe\">\n",
       "  <thead>\n",
       "    <tr style=\"text-align: right;\">\n",
       "      <th></th>\n",
       "      <th>Count_of_sizes</th>\n",
       "      <th>Type_of_colors</th>\n",
       "      <th>Style code</th>\n",
       "    </tr>\n",
       "  </thead>\n",
       "  <tbody>\n",
       "    <tr>\n",
       "      <th>0</th>\n",
       "      <td>Select Size\\nSize Guide\\nUK 2.5\\nUK 3.5\\nUK 4....</td>\n",
       "      <td>Colour Shown: Brown/Brown</td>\n",
       "      <td>Style: DQ8992-200</td>\n",
       "    </tr>\n",
       "  </tbody>\n",
       "</table>\n",
       "</div>"
      ],
      "text/plain": [
       "                                      Count_of_sizes  \\\n",
       "0  Select Size\\nSize Guide\\nUK 2.5\\nUK 3.5\\nUK 4....   \n",
       "\n",
       "              Type_of_colors         Style code  \n",
       "0  Colour Shown: Brown/Brown  Style: DQ8992-200  "
      ]
     },
     "execution_count": 524,
     "metadata": {},
     "output_type": "execute_result"
    }
   ],
   "source": [
    "import pandas as pd\n",
    "df55=pd.DataFrame({'Count_of_sizes':Count_of_sizes,'Type_of_colors':Type_of_colors,'Style code':Style_code})\n",
    "df55"
   ]
  },
  {
   "cell_type": "code",
   "execution_count": 525,
   "id": "ae243861-7c7c-4f09-8322-5b5d80fe024a",
   "metadata": {
    "tags": []
   },
   "outputs": [],
   "source": [
    "search_keyword = driver.find_element(By.XPATH, '//*[@id=\"VisualSearchInput\"]')\n",
    "search_keyword.clear()\n",
    "search_keyword.send_keys('Women Shoes')"
   ]
  },
  {
   "cell_type": "code",
   "execution_count": 526,
   "id": "a57cb957-5696-4133-ba54-3f2a2ee0c7e6",
   "metadata": {
    "tags": []
   },
   "outputs": [],
   "source": [
    "search_keyword = driver.find_element(By.XPATH, '//*[@id=\"gen-nav-commerce-header-v2\"]/div[3]/header/div[1]/div[2]/div/div/div[1]/div/div/button[2]')\n",
    "search_keyword.click()"
   ]
  },
  {
   "cell_type": "code",
   "execution_count": 527,
   "id": "e734d312-a29a-4938-8f3b-6216c1ba0aae",
   "metadata": {
    "tags": []
   },
   "outputs": [],
   "source": [
    "search_keyword = driver.find_element(By.XPATH, '//*[@id=\"skip-to-products\"]/div[20]/div/figure/a[2]/div')\n",
    "search_keyword.click()"
   ]
  },
  {
   "cell_type": "code",
   "execution_count": 528,
   "id": "008adf3e-d151-4a55-9f8a-ece1a54c7061",
   "metadata": {
    "tags": []
   },
   "outputs": [],
   "source": [
    "Count_of_sizes = []\n",
    "Type_of_colors = []\n",
    "Style_code = []"
   ]
  },
  {
   "cell_type": "code",
   "execution_count": 529,
   "id": "694b0fc8-b80f-4025-b298-1d93870aca9a",
   "metadata": {
    "tags": []
   },
   "outputs": [],
   "source": [
    "title_tags=driver.find_elements(By.XPATH, '//*[@id=\"buyTools\"]/div[1]')\n",
    "for i in title_tags[0:23]:\n",
    "    title=i.text\n",
    "    Count_of_sizes.append(title)"
   ]
  },
  {
   "cell_type": "code",
   "execution_count": 530,
   "id": "f8395ce1-95ce-428f-af27-811df7633a83",
   "metadata": {
    "tags": []
   },
   "outputs": [],
   "source": [
    "title_tags=driver.find_elements(By.CLASS_NAME, 'description-preview__color-description.ncss-li')\n",
    "for i in title_tags[0:23]:\n",
    "    title=i.text\n",
    "    Type_of_colors.append(title)"
   ]
  },
  {
   "cell_type": "code",
   "execution_count": 531,
   "id": "ad58712f-7b66-49ae-8fb4-0d5e81f6214f",
   "metadata": {
    "tags": []
   },
   "outputs": [],
   "source": [
    "title_tags=driver.find_elements(By.CLASS_NAME, 'description-preview__style-color.ncss-li')\n",
    "for i in title_tags[0:23]:\n",
    "    title=i.text\n",
    "    Style_code.append(title)"
   ]
  },
  {
   "cell_type": "code",
   "execution_count": 532,
   "id": "dc104a66-978a-4be0-8372-ac24f0b1be0c",
   "metadata": {
    "tags": []
   },
   "outputs": [
    {
     "name": "stdout",
     "output_type": "stream",
     "text": [
      "1 1 1\n"
     ]
    }
   ],
   "source": [
    "print(len(Count_of_sizes),len(Type_of_colors), len(Style_code))"
   ]
  },
  {
   "cell_type": "code",
   "execution_count": 533,
   "id": "2556ea61-27e9-44bb-9400-29157f336335",
   "metadata": {
    "tags": []
   },
   "outputs": [
    {
     "data": {
      "text/html": [
       "<div>\n",
       "<style scoped>\n",
       "    .dataframe tbody tr th:only-of-type {\n",
       "        vertical-align: middle;\n",
       "    }\n",
       "\n",
       "    .dataframe tbody tr th {\n",
       "        vertical-align: top;\n",
       "    }\n",
       "\n",
       "    .dataframe thead th {\n",
       "        text-align: right;\n",
       "    }\n",
       "</style>\n",
       "<table border=\"1\" class=\"dataframe\">\n",
       "  <thead>\n",
       "    <tr style=\"text-align: right;\">\n",
       "      <th></th>\n",
       "      <th>Count_of_sizes</th>\n",
       "      <th>Type_of_colors</th>\n",
       "      <th>Style code</th>\n",
       "    </tr>\n",
       "  </thead>\n",
       "  <tbody>\n",
       "    <tr>\n",
       "      <th>0</th>\n",
       "      <td>Select Size\\nSize Guide\\nUK 6 (EU 40)\\nUK 6.5\\...</td>\n",
       "      <td>Colour Shown: White/University Red/White/Midni...</td>\n",
       "      <td>Style: FD0268-100</td>\n",
       "    </tr>\n",
       "  </tbody>\n",
       "</table>\n",
       "</div>"
      ],
      "text/plain": [
       "                                      Count_of_sizes  \\\n",
       "0  Select Size\\nSize Guide\\nUK 6 (EU 40)\\nUK 6.5\\...   \n",
       "\n",
       "                                      Type_of_colors         Style code  \n",
       "0  Colour Shown: White/University Red/White/Midni...  Style: FD0268-100  "
      ]
     },
     "execution_count": 533,
     "metadata": {},
     "output_type": "execute_result"
    }
   ],
   "source": [
    "import pandas as pd\n",
    "df56=pd.DataFrame({'Count_of_sizes':Count_of_sizes,'Type_of_colors':Type_of_colors,'Style code':Style_code})\n",
    "df56"
   ]
  },
  {
   "cell_type": "code",
   "execution_count": 536,
   "id": "94d116a1-6d1e-4495-98b3-34b167c16cd8",
   "metadata": {
    "tags": []
   },
   "outputs": [],
   "source": [
    "search_keyword = driver.find_element(By.XPATH, '//*[@id=\"VisualSearchInput\"]')\n",
    "search_keyword.clear()\n",
    "search_keyword.send_keys('Women Shoes')"
   ]
  },
  {
   "cell_type": "code",
   "execution_count": 537,
   "id": "b00f8a0b-1ea6-4a43-9e6c-70bf5f61665a",
   "metadata": {
    "tags": []
   },
   "outputs": [],
   "source": [
    "search_keyword = driver.find_element(By.XPATH, '//*[@id=\"gen-nav-commerce-header-v2\"]/div[3]/header/div[1]/div[2]/div/div/div[1]/div/div/button[2]')\n",
    "search_keyword.click()"
   ]
  },
  {
   "cell_type": "code",
   "execution_count": 538,
   "id": "7de2fd42-6248-4814-a4d6-724cbb84bab4",
   "metadata": {
    "tags": []
   },
   "outputs": [],
   "source": [
    "search_keyword = driver.find_element(By.XPATH, '//*[@id=\"skip-to-products\"]/div[21]/div/figure/a[2]/div')\n",
    "search_keyword.click()"
   ]
  },
  {
   "cell_type": "code",
   "execution_count": 539,
   "id": "1555bb20-568e-4600-b03f-793e421ba1fa",
   "metadata": {
    "tags": []
   },
   "outputs": [],
   "source": [
    "Count_of_sizes = []\n",
    "Type_of_colors = []\n",
    "Style_code = []"
   ]
  },
  {
   "cell_type": "code",
   "execution_count": 540,
   "id": "7bcf0f2b-ec3a-446a-a964-c2ef433ccd84",
   "metadata": {
    "tags": []
   },
   "outputs": [],
   "source": [
    "title_tags=driver.find_elements(By.XPATH, '//*[@id=\"buyTools\"]/div[1]')\n",
    "for i in title_tags[0:23]:\n",
    "    title=i.text\n",
    "    Count_of_sizes.append(title)"
   ]
  },
  {
   "cell_type": "code",
   "execution_count": 541,
   "id": "903a4c6d-63a6-4f77-a512-733065088e03",
   "metadata": {
    "tags": []
   },
   "outputs": [],
   "source": [
    "title_tags=driver.find_elements(By.CLASS_NAME, 'description-preview__color-description.ncss-li')\n",
    "for i in title_tags[0:23]:\n",
    "    title=i.text\n",
    "    Type_of_colors.append(title)"
   ]
  },
  {
   "cell_type": "code",
   "execution_count": 542,
   "id": "3099426e-09d4-4d67-874d-900b583c3728",
   "metadata": {
    "tags": []
   },
   "outputs": [],
   "source": [
    "title_tags=driver.find_elements(By.CLASS_NAME, 'description-preview__style-color.ncss-li')\n",
    "for i in title_tags[0:23]:\n",
    "    title=i.text\n",
    "    Style_code.append(title)"
   ]
  },
  {
   "cell_type": "code",
   "execution_count": 543,
   "id": "c1dcb1d8-4c78-42b0-93ac-6971003798a9",
   "metadata": {
    "tags": []
   },
   "outputs": [
    {
     "name": "stdout",
     "output_type": "stream",
     "text": [
      "1 1 1\n"
     ]
    }
   ],
   "source": [
    "print(len(Count_of_sizes),len(Type_of_colors), len(Style_code))"
   ]
  },
  {
   "cell_type": "code",
   "execution_count": 544,
   "id": "3f9c85b7-ac50-4828-a49e-bee33e12eea8",
   "metadata": {
    "tags": []
   },
   "outputs": [
    {
     "data": {
      "text/html": [
       "<div>\n",
       "<style scoped>\n",
       "    .dataframe tbody tr th:only-of-type {\n",
       "        vertical-align: middle;\n",
       "    }\n",
       "\n",
       "    .dataframe tbody tr th {\n",
       "        vertical-align: top;\n",
       "    }\n",
       "\n",
       "    .dataframe thead th {\n",
       "        text-align: right;\n",
       "    }\n",
       "</style>\n",
       "<table border=\"1\" class=\"dataframe\">\n",
       "  <thead>\n",
       "    <tr style=\"text-align: right;\">\n",
       "      <th></th>\n",
       "      <th>Count_of_sizes</th>\n",
       "      <th>Type_of_colors</th>\n",
       "      <th>Style code</th>\n",
       "    </tr>\n",
       "  </thead>\n",
       "  <tbody>\n",
       "    <tr>\n",
       "      <th>0</th>\n",
       "      <td>Select Size\\nSize Guide\\nUK 3\\nUK 3.5\\nUK 4\\nU...</td>\n",
       "      <td>Colour Shown: Black/Velvet Brown/Cedar/Black</td>\n",
       "      <td>Style: FB2348-001</td>\n",
       "    </tr>\n",
       "  </tbody>\n",
       "</table>\n",
       "</div>"
      ],
      "text/plain": [
       "                                      Count_of_sizes  \\\n",
       "0  Select Size\\nSize Guide\\nUK 3\\nUK 3.5\\nUK 4\\nU...   \n",
       "\n",
       "                                 Type_of_colors         Style code  \n",
       "0  Colour Shown: Black/Velvet Brown/Cedar/Black  Style: FB2348-001  "
      ]
     },
     "execution_count": 544,
     "metadata": {},
     "output_type": "execute_result"
    }
   ],
   "source": [
    "import pandas as pd\n",
    "df57=pd.DataFrame({'Count_of_sizes':Count_of_sizes,'Type_of_colors':Type_of_colors,'Style code':Style_code})\n",
    "df57"
   ]
  },
  {
   "cell_type": "code",
   "execution_count": 545,
   "id": "47779e25-8477-4de6-86a9-838b351da426",
   "metadata": {
    "tags": []
   },
   "outputs": [],
   "source": [
    "search_keyword = driver.find_element(By.XPATH, '//*[@id=\"VisualSearchInput\"]')\n",
    "search_keyword.clear()\n",
    "search_keyword.send_keys('Women Shoes')"
   ]
  },
  {
   "cell_type": "code",
   "execution_count": 546,
   "id": "98d52cd8-8b8f-4909-b8e5-71f2854c47c4",
   "metadata": {
    "tags": []
   },
   "outputs": [],
   "source": [
    "search_keyword = driver.find_element(By.XPATH, '//*[@id=\"gen-nav-commerce-header-v2\"]/div[3]/header/div[1]/div[2]/div/div/div[1]/div/div/button[2]')\n",
    "search_keyword.click()"
   ]
  },
  {
   "cell_type": "code",
   "execution_count": 547,
   "id": "0128bbaa-dea4-4be3-9127-1e7e5114544d",
   "metadata": {
    "tags": []
   },
   "outputs": [],
   "source": [
    "search_keyword = driver.find_element(By.XPATH, '//*[@id=\"skip-to-products\"]/div[22]/div/figure/a[2]/div')\n",
    "search_keyword.click()"
   ]
  },
  {
   "cell_type": "code",
   "execution_count": 548,
   "id": "25404da0-6757-4472-92c1-7733b402d154",
   "metadata": {
    "tags": []
   },
   "outputs": [],
   "source": [
    "Count_of_sizes = []\n",
    "Type_of_colors = []\n",
    "Style_code = []"
   ]
  },
  {
   "cell_type": "code",
   "execution_count": 549,
   "id": "41adc0ea-709c-48e4-ae49-5c61364c668e",
   "metadata": {
    "tags": []
   },
   "outputs": [],
   "source": [
    "title_tags=driver.find_elements(By.XPATH, '//*[@id=\"buyTools\"]/div[1]')\n",
    "for i in title_tags[0:23]:\n",
    "    title=i.text\n",
    "    Count_of_sizes.append(title)"
   ]
  },
  {
   "cell_type": "code",
   "execution_count": 550,
   "id": "58f32678-f995-4cff-806a-7f772a2b2a60",
   "metadata": {
    "tags": []
   },
   "outputs": [],
   "source": [
    "title_tags=driver.find_elements(By.CLASS_NAME, 'description-preview__color-description.ncss-li')\n",
    "for i in title_tags[0:23]:\n",
    "    title=i.text\n",
    "    Type_of_colors.append(title)"
   ]
  },
  {
   "cell_type": "code",
   "execution_count": 551,
   "id": "db5b67b5-4547-4fea-ac6d-bee4769ea396",
   "metadata": {
    "tags": []
   },
   "outputs": [],
   "source": [
    "title_tags=driver.find_elements(By.CLASS_NAME, 'description-preview__style-color.ncss-li')\n",
    "for i in title_tags[0:23]:\n",
    "    title=i.text\n",
    "    Style_code.append(title)"
   ]
  },
  {
   "cell_type": "code",
   "execution_count": 552,
   "id": "a3639c9e-80f8-4ca0-98b0-f84a887acc15",
   "metadata": {
    "tags": []
   },
   "outputs": [
    {
     "name": "stdout",
     "output_type": "stream",
     "text": [
      "1 1 1\n"
     ]
    }
   ],
   "source": [
    "print(len(Count_of_sizes),len(Type_of_colors), len(Style_code))"
   ]
  },
  {
   "cell_type": "code",
   "execution_count": 553,
   "id": "610de1f7-2040-4fb1-921f-e502a98ca2a8",
   "metadata": {
    "tags": []
   },
   "outputs": [
    {
     "data": {
      "text/html": [
       "<div>\n",
       "<style scoped>\n",
       "    .dataframe tbody tr th:only-of-type {\n",
       "        vertical-align: middle;\n",
       "    }\n",
       "\n",
       "    .dataframe tbody tr th {\n",
       "        vertical-align: top;\n",
       "    }\n",
       "\n",
       "    .dataframe thead th {\n",
       "        text-align: right;\n",
       "    }\n",
       "</style>\n",
       "<table border=\"1\" class=\"dataframe\">\n",
       "  <thead>\n",
       "    <tr style=\"text-align: right;\">\n",
       "      <th></th>\n",
       "      <th>Count_of_sizes</th>\n",
       "      <th>Type_of_colors</th>\n",
       "      <th>Style code</th>\n",
       "    </tr>\n",
       "  </thead>\n",
       "  <tbody>\n",
       "    <tr>\n",
       "      <th>0</th>\n",
       "      <td>Select Size\\nSize Guide\\nUK 2.5\\nUK 3\\nUK 3.5\\...</td>\n",
       "      <td>Colour Shown: White/White/Metallic Silver</td>\n",
       "      <td>Style: DH3158-108</td>\n",
       "    </tr>\n",
       "  </tbody>\n",
       "</table>\n",
       "</div>"
      ],
      "text/plain": [
       "                                      Count_of_sizes  \\\n",
       "0  Select Size\\nSize Guide\\nUK 2.5\\nUK 3\\nUK 3.5\\...   \n",
       "\n",
       "                              Type_of_colors         Style code  \n",
       "0  Colour Shown: White/White/Metallic Silver  Style: DH3158-108  "
      ]
     },
     "execution_count": 553,
     "metadata": {},
     "output_type": "execute_result"
    }
   ],
   "source": [
    "import pandas as pd\n",
    "df58=pd.DataFrame({'Count_of_sizes':Count_of_sizes,'Type_of_colors':Type_of_colors,'Style code':Style_code})\n",
    "df58"
   ]
  },
  {
   "cell_type": "code",
   "execution_count": 556,
   "id": "e8f434b0-71b1-4443-a9ba-b9fb2e73ec17",
   "metadata": {
    "tags": []
   },
   "outputs": [],
   "source": [
    "search_keyword = driver.find_element(By.XPATH, '//*[@id=\"VisualSearchInput\"]')\n",
    "search_keyword.clear()\n",
    "search_keyword.send_keys('Women Shoes')"
   ]
  },
  {
   "cell_type": "code",
   "execution_count": 557,
   "id": "d232c01f-7fae-4da7-b0bb-61186d0ff5b9",
   "metadata": {
    "tags": []
   },
   "outputs": [],
   "source": [
    "search_keyword = driver.find_element(By.XPATH, '//*[@id=\"gen-nav-commerce-header-v2\"]/div[3]/header/div[1]/div[2]/div/div/div[1]/div/div/button[2]')\n",
    "search_keyword.click()"
   ]
  },
  {
   "cell_type": "code",
   "execution_count": 558,
   "id": "51a4a6de-b564-4562-b9a4-fe2f0e575430",
   "metadata": {
    "tags": []
   },
   "outputs": [],
   "source": [
    "search_keyword = driver.find_element(By.XPATH, '//*[@id=\"skip-to-products\"]/div[23]/div/figure/a[2]/div')\n",
    "search_keyword.click()"
   ]
  },
  {
   "cell_type": "code",
   "execution_count": 559,
   "id": "a57f7b9b-a96b-45e2-ad53-07e4a4bf465c",
   "metadata": {
    "tags": []
   },
   "outputs": [],
   "source": [
    "Count_of_sizes = []\n",
    "Type_of_colors = []\n",
    "Style_code = []"
   ]
  },
  {
   "cell_type": "code",
   "execution_count": 560,
   "id": "6157f452-358d-447c-a4b6-604b2c872604",
   "metadata": {
    "tags": []
   },
   "outputs": [],
   "source": [
    "title_tags=driver.find_elements(By.XPATH, '//*[@id=\"buyTools\"]/div[1]')\n",
    "for i in title_tags[0:23]:\n",
    "    title=i.text\n",
    "    Count_of_sizes.append(title)"
   ]
  },
  {
   "cell_type": "code",
   "execution_count": 561,
   "id": "c4da2afd-301d-44f7-9457-1e23fc5cc1b6",
   "metadata": {
    "tags": []
   },
   "outputs": [],
   "source": [
    "title_tags=driver.find_elements(By.CLASS_NAME, 'description-preview__color-description.ncss-li')\n",
    "for i in title_tags[0:23]:\n",
    "    title=i.text\n",
    "    Type_of_colors.append(title)"
   ]
  },
  {
   "cell_type": "code",
   "execution_count": 562,
   "id": "5217c27a-b1a5-4d8a-b0aa-90912041e80d",
   "metadata": {
    "tags": []
   },
   "outputs": [],
   "source": [
    "title_tags=driver.find_elements(By.CLASS_NAME, 'description-preview__style-color.ncss-li')\n",
    "for i in title_tags[0:23]:\n",
    "    title=i.text\n",
    "    Style_code.append(title)"
   ]
  },
  {
   "cell_type": "code",
   "execution_count": 563,
   "id": "2cc58209-ca69-4c73-88fd-8ee4f7939181",
   "metadata": {
    "tags": []
   },
   "outputs": [
    {
     "name": "stdout",
     "output_type": "stream",
     "text": [
      "1 1 1\n"
     ]
    }
   ],
   "source": [
    "print(len(Count_of_sizes),len(Type_of_colors), len(Style_code))"
   ]
  },
  {
   "cell_type": "code",
   "execution_count": 564,
   "id": "54101e29-0aab-48fb-8c3e-586229b1ece7",
   "metadata": {
    "tags": []
   },
   "outputs": [
    {
     "data": {
      "text/html": [
       "<div>\n",
       "<style scoped>\n",
       "    .dataframe tbody tr th:only-of-type {\n",
       "        vertical-align: middle;\n",
       "    }\n",
       "\n",
       "    .dataframe tbody tr th {\n",
       "        vertical-align: top;\n",
       "    }\n",
       "\n",
       "    .dataframe thead th {\n",
       "        text-align: right;\n",
       "    }\n",
       "</style>\n",
       "<table border=\"1\" class=\"dataframe\">\n",
       "  <thead>\n",
       "    <tr style=\"text-align: right;\">\n",
       "      <th></th>\n",
       "      <th>Count_of_sizes</th>\n",
       "      <th>Type_of_colors</th>\n",
       "      <th>Style code</th>\n",
       "    </tr>\n",
       "  </thead>\n",
       "  <tbody>\n",
       "    <tr>\n",
       "      <th>0</th>\n",
       "      <td>Select Size\\nSize Guide\\nUK 2.5\\nUK 3\\nUK 3.5\\...</td>\n",
       "      <td>Colour Shown: Fossil Stone/Rose Whisper/White/...</td>\n",
       "      <td>Style: CW4554-201</td>\n",
       "    </tr>\n",
       "  </tbody>\n",
       "</table>\n",
       "</div>"
      ],
      "text/plain": [
       "                                      Count_of_sizes  \\\n",
       "0  Select Size\\nSize Guide\\nUK 2.5\\nUK 3\\nUK 3.5\\...   \n",
       "\n",
       "                                      Type_of_colors         Style code  \n",
       "0  Colour Shown: Fossil Stone/Rose Whisper/White/...  Style: CW4554-201  "
      ]
     },
     "execution_count": 564,
     "metadata": {},
     "output_type": "execute_result"
    }
   ],
   "source": [
    "import pandas as pd\n",
    "df59=pd.DataFrame({'Count_of_sizes':Count_of_sizes,'Type_of_colors':Type_of_colors,'Style code':Style_code})\n",
    "df59"
   ]
  },
  {
   "cell_type": "code",
   "execution_count": 565,
   "id": "bd363c36-22cb-4181-a73e-0fbd4c695d2f",
   "metadata": {
    "tags": []
   },
   "outputs": [],
   "source": [
    "search_keyword = driver.find_element(By.XPATH, '//*[@id=\"VisualSearchInput\"]')\n",
    "search_keyword.clear()\n",
    "search_keyword.send_keys('Women Shoes')"
   ]
  },
  {
   "cell_type": "code",
   "execution_count": 566,
   "id": "560930e0-41df-4c74-9d20-5b8dc9dbfb6c",
   "metadata": {
    "tags": []
   },
   "outputs": [],
   "source": [
    "search_keyword = driver.find_element(By.XPATH, '//*[@id=\"gen-nav-commerce-header-v2\"]/div[3]/header/div[1]/div[2]/div/div/div[1]/div/div/button[2]')\n",
    "search_keyword.click()"
   ]
  },
  {
   "cell_type": "code",
   "execution_count": 567,
   "id": "c6181bc5-a4b3-41c4-87f6-fa5d4b98b664",
   "metadata": {
    "tags": []
   },
   "outputs": [],
   "source": [
    "search_keyword = driver.find_element(By.XPATH, '//*[@id=\"skip-to-products\"]/div[24]/div/figure/a[2]/div')\n",
    "search_keyword.click()"
   ]
  },
  {
   "cell_type": "code",
   "execution_count": 568,
   "id": "d4c3451f-591c-4d38-8309-d9d002f184c5",
   "metadata": {
    "tags": []
   },
   "outputs": [],
   "source": [
    "Count_of_sizes = []\n",
    "Type_of_colors = []\n",
    "Style_code = []"
   ]
  },
  {
   "cell_type": "code",
   "execution_count": 569,
   "id": "cc30a239-bb45-4f91-9569-2e9328f799e7",
   "metadata": {
    "tags": []
   },
   "outputs": [],
   "source": [
    "title_tags=driver.find_elements(By.XPATH, '//*[@id=\"buyTools\"]/div[1]')\n",
    "for i in title_tags[0:23]:\n",
    "    title=i.text\n",
    "    Count_of_sizes.append(title)"
   ]
  },
  {
   "cell_type": "code",
   "execution_count": 570,
   "id": "51626c44-b49e-45b8-aef3-955a98a5202a",
   "metadata": {
    "tags": []
   },
   "outputs": [],
   "source": [
    "title_tags=driver.find_elements(By.CLASS_NAME, 'description-preview__color-description.ncss-li')\n",
    "for i in title_tags[0:23]:\n",
    "    title=i.text\n",
    "    Type_of_colors.append(title)"
   ]
  },
  {
   "cell_type": "code",
   "execution_count": 571,
   "id": "67da4ddc-b586-44d5-be8a-46d17e63caf8",
   "metadata": {
    "tags": []
   },
   "outputs": [],
   "source": [
    "title_tags=driver.find_elements(By.CLASS_NAME, 'description-preview__style-color.ncss-li')\n",
    "for i in title_tags[0:23]:\n",
    "    title=i.text\n",
    "    Style_code.append(title)"
   ]
  },
  {
   "cell_type": "code",
   "execution_count": 572,
   "id": "2f9cb871-46bd-4ab2-b9a0-b464bcd21ed1",
   "metadata": {
    "tags": []
   },
   "outputs": [
    {
     "name": "stdout",
     "output_type": "stream",
     "text": [
      "1 1 1\n"
     ]
    }
   ],
   "source": [
    "print(len(Count_of_sizes),len(Type_of_colors), len(Style_code))"
   ]
  },
  {
   "cell_type": "code",
   "execution_count": 573,
   "id": "2bed9645-17f9-45b1-bbdb-c3313f075cf3",
   "metadata": {
    "tags": []
   },
   "outputs": [
    {
     "data": {
      "text/html": [
       "<div>\n",
       "<style scoped>\n",
       "    .dataframe tbody tr th:only-of-type {\n",
       "        vertical-align: middle;\n",
       "    }\n",
       "\n",
       "    .dataframe tbody tr th {\n",
       "        vertical-align: top;\n",
       "    }\n",
       "\n",
       "    .dataframe thead th {\n",
       "        text-align: right;\n",
       "    }\n",
       "</style>\n",
       "<table border=\"1\" class=\"dataframe\">\n",
       "  <thead>\n",
       "    <tr style=\"text-align: right;\">\n",
       "      <th></th>\n",
       "      <th>Count_of_sizes</th>\n",
       "      <th>Type_of_colors</th>\n",
       "      <th>Style code</th>\n",
       "    </tr>\n",
       "  </thead>\n",
       "  <tbody>\n",
       "    <tr>\n",
       "      <th>0</th>\n",
       "      <td>Select Size\\nSize Guide\\nUK 6 (EU 40)\\nUK 6.5\\...</td>\n",
       "      <td>Colour Shown: Racer Blue/Safety Orange/White</td>\n",
       "      <td>Style: DC8749-401</td>\n",
       "    </tr>\n",
       "  </tbody>\n",
       "</table>\n",
       "</div>"
      ],
      "text/plain": [
       "                                      Count_of_sizes  \\\n",
       "0  Select Size\\nSize Guide\\nUK 6 (EU 40)\\nUK 6.5\\...   \n",
       "\n",
       "                                 Type_of_colors         Style code  \n",
       "0  Colour Shown: Racer Blue/Safety Orange/White  Style: DC8749-401  "
      ]
     },
     "execution_count": 573,
     "metadata": {},
     "output_type": "execute_result"
    }
   ],
   "source": [
    "import pandas as pd\n",
    "df60=pd.DataFrame({'Count_of_sizes':Count_of_sizes,'Type_of_colors':Type_of_colors,'Style code':Style_code})\n",
    "df60"
   ]
  },
  {
   "cell_type": "code",
   "execution_count": 574,
   "id": "bdb3bbf5-84b8-425c-bee9-246d0562aa82",
   "metadata": {
    "tags": []
   },
   "outputs": [
    {
     "name": "stdout",
     "output_type": "stream",
     "text": [
      "                                       Count_of_sizes  \\\n",
      "0   Select Size\\nSize Guide\\nUK 2.5\\nUK 3\\nUK 3.5\\...   \n",
      "1   Select Size\\nSize Guide\\nUK 2.5\\nUK 3\\nUK 3.5\\...   \n",
      "2   Select Size\\nSize Guide\\nUK 2.5\\nUK 3\\nUK 3.5\\...   \n",
      "3   Select Size\\nSize Guide\\nUK 2.5\\nUK 3\\nUK 3.5\\...   \n",
      "4   Select Size\\nSize Guide\\nUK 3\\nUK 3.5\\nUK 4\\nU...   \n",
      "5   Select Size\\nSize Guide\\nUK 3\\nUK 3.5\\nUK 4\\nU...   \n",
      "6   Select Size\\nSize Guide\\nUK 2.5\\nUK 3\\nUK 3.5\\...   \n",
      "7   Select Size\\nSize Guide\\nUK 2.5\\nUK 3\\nUK 3.5\\...   \n",
      "8   Select Size\\nSize Guide\\nUK 2.5\\nUK 3\\nUK 3.5\\...   \n",
      "9   Select Size\\nSize Guide\\nUK 3\\nUK 3.5\\nUK 4\\nU...   \n",
      "10  Select Size\\nSize Guide\\nUK 3\\nUK 3.5\\nUK 4\\nU...   \n",
      "11  Select Size\\nSize Guide\\nUK 2.5\\nUK 3\\nUK 3.5\\...   \n",
      "12  Select Size\\nSize Guide\\nUK 2.5\\nUK 3\\nUK 3.5\\...   \n",
      "13  Select Size\\nSize Guide\\nUK 3\\nUK 3.5\\nUK 4\\nU...   \n",
      "14  Select Size\\nSize Guide\\nUK 3\\nUK 3.5\\nUK 4\\nU...   \n",
      "15                                                NaN   \n",
      "16  Select Size\\nSize Guide\\nUK 3\\nUK 3.5\\nUK 4\\nU...   \n",
      "17  Select Size\\nSize Guide\\nUK 3\\nUK 3.5\\nUK 4\\nU...   \n",
      "18  Select Size\\nSize Guide\\nUK 2.5\\nUK 3.5\\nUK 4....   \n",
      "19  Select Size\\nSize Guide\\nUK 6 (EU 40)\\nUK 6.5\\...   \n",
      "20  Select Size\\nSize Guide\\nUK 3\\nUK 3.5\\nUK 4\\nU...   \n",
      "21  Select Size\\nSize Guide\\nUK 2.5\\nUK 3\\nUK 3.5\\...   \n",
      "22  Select Size\\nSize Guide\\nUK 2.5\\nUK 3\\nUK 3.5\\...   \n",
      "23  Select Size\\nSize Guide\\nUK 6 (EU 40)\\nUK 6.5\\...   \n",
      "\n",
      "                                       Type_of_colors         Style code  \n",
      "0   Colour Shown: White/Sky J Light Olive/Galactic...  Style: FB2269-103  \n",
      "1                       Colour Shown: Sail/Sail/Black  Style: FB9893-101  \n",
      "2   Colour Shown: Light Orewood Brown/Gum Light Br...  Style: FQ8147-104  \n",
      "3                     Colour Shown: Sky J Orange/Sail  Style: FN3722-801  \n",
      "4   Colour Shown: Sail/Red Stardust/Coconut Milk/C...  Style: DZ2628-103  \n",
      "5   Colour Shown: Red Stardust/Cedar/Black/Deep Ju...  Style: FB8459-600  \n",
      "6      Colour Shown: Coconut Milk/White/Vivid Sulphur  Style: DZ2794-100  \n",
      "7   Colour Shown: Sail/Pale Vanilla/Gold Suede/Dee...  Style: FQ8103-133  \n",
      "8                     Colour Shown: White/White/White  Style: CI0919-100  \n",
      "9   Colour Shown: Plum Eclipse/Pink Oxford/Earth/B...  Style: FV1166-200  \n",
      "10  Colour Shown: Khaki/Baroque Brown/Dark Russet/...  Style: FV1176-247  \n",
      "11  Colour Shown: Sail/Light Orewood Brown/Sundial...  Style: FD2370-100  \n",
      "12             Colour Shown: White/Black/Multi-Colour  Style: FD8683-100  \n",
      "13     Colour Shown: Bordeaux/Black/Volt/Vivid Purple  Style: DV3950-601  \n",
      "14  Colour Shown: Luminous Green/Sea Glass/Lime Bl...  Style: DM1119-301  \n",
      "15     Colour Shown: White/Phantom/Total Orange/Black  Style: FD8357-100  \n",
      "16   Colour Shown: Black/Anthracite/Volt/Vivid Purple  Style: DH3393-007  \n",
      "17  Colour Shown: Barely Rose/Pink Oxford/White/Ro...  Style: DR2698-600  \n",
      "18                          Colour Shown: Brown/Brown  Style: DQ8992-200  \n",
      "19  Colour Shown: White/University Red/White/Midni...  Style: FD0268-100  \n",
      "20       Colour Shown: Black/Velvet Brown/Cedar/Black  Style: FB2348-001  \n",
      "21          Colour Shown: White/White/Metallic Silver  Style: DH3158-108  \n",
      "22  Colour Shown: Fossil Stone/Rose Whisper/White/...  Style: CW4554-201  \n",
      "23       Colour Shown: Racer Blue/Safety Orange/White  Style: DC8749-401  \n"
     ]
    }
   ],
   "source": [
    "nikewomen_df = pd.concat([df37, df38, df39,df40,df41,df42,df43,df44,df45,df46,df47,df48,df49,df50,df51,df52,df53,df54,df55,df56,df57,df58,df59,df60], ignore_index=True)\n",
    "print(nikewomen_df)"
   ]
  },
  {
   "cell_type": "code",
   "execution_count": 102,
   "id": "48b66c8f-a953-49e8-b2be-1640aba32e85",
   "metadata": {
    "tags": []
   },
   "outputs": [],
   "source": [
    "driver = webdriver.Chrome(service=Service(ChromeDriverManager().install()))"
   ]
  },
  {
   "cell_type": "code",
   "execution_count": 103,
   "id": "4b807617-5f51-4968-87bd-dcb1d9a053fc",
   "metadata": {
    "tags": []
   },
   "outputs": [],
   "source": [
    "driver.get(\"https://www.adidas.com\")"
   ]
  },
  {
   "cell_type": "code",
   "execution_count": 104,
   "id": "3087bd53-c5bc-4ac9-bf90-e61ed60b8e85",
   "metadata": {
    "tags": []
   },
   "outputs": [],
   "source": [
    "search_keyword = driver.find_element(By.XPATH, '//*[@id=\"__next\"]/div[2]/div[2]/div/header/div[2]/div/div[2]/div/input')\n",
    "search_keyword.clear()\n",
    "search_keyword.send_keys('Shoes Men')"
   ]
  },
  {
   "cell_type": "code",
   "execution_count": 105,
   "id": "e606b281-e6cb-45fa-9db4-d80c92b1b5f2",
   "metadata": {
    "tags": []
   },
   "outputs": [],
   "source": [
    "search_keyword = driver.find_element(By.XPATH, '//*[@id=\"__next\"]/div[2]/div[2]/div/header/div[2]/div/div[2]/div/div[2]/div/div[1]/div[2]/a[2]/div[1]/span[2]/strong')\n",
    "search_keyword.click()"
   ]
  },
  {
   "cell_type": "code",
   "execution_count": 579,
   "id": "3583079e-fcae-484a-9220-7864609bb0d7",
   "metadata": {
    "tags": []
   },
   "outputs": [],
   "source": [
    "search_keyword = driver.find_element(By.XPATH, '//*[@id=\"main-content\"]/div/div[3]/div/div/div[2]/div[1]/div/div[1]/div/div/div/div/div/div')\n",
    "search_keyword.click()"
   ]
  },
  {
   "cell_type": "code",
   "execution_count": 591,
   "id": "de881525-e203-43fe-aeab-8b83e9715787",
   "metadata": {
    "tags": []
   },
   "outputs": [],
   "source": [
    "Count_of_sizes = []\n",
    "Type_of_colors = []\n",
    "Style_code = []"
   ]
  },
  {
   "cell_type": "code",
   "execution_count": 592,
   "id": "adedd1df-8bdd-48e7-b31f-0fd60009fe3e",
   "metadata": {
    "tags": []
   },
   "outputs": [],
   "source": [
    "title_tags=driver.find_elements(By.XPATH, '//*[@id=\"fixed-content\"]/span[2]/section/div[1]')\n",
    "for i in title_tags[0:23]:\n",
    "    title=i.text\n",
    "    Count_of_sizes.append(title)"
   ]
  },
  {
   "cell_type": "code",
   "execution_count": 593,
   "id": "2d998f36-5306-42cf-8af4-d913a39ef3dc",
   "metadata": {
    "tags": []
   },
   "outputs": [],
   "source": [
    "title_tags=driver.find_elements(By.CLASS_NAME, 'color-label--mobile___3b9C_')\n",
    "for i in title_tags[0:23]:\n",
    "    title=i.text\n",
    "    Type_of_colors.append(title)"
   ]
  },
  {
   "cell_type": "code",
   "execution_count": 594,
   "id": "c3515f85-75a6-407d-9cf6-7f2d86f9f6e3",
   "metadata": {
    "tags": []
   },
   "outputs": [],
   "source": [
    "title_tags=driver.find_elements(By.XPATH, '//*[@id=\"navigation-target-specifications\"]/div/div/div/div[1]/ul[2]/li[3]')\n",
    "for i in title_tags[0:1]:\n",
    "    title=i.text\n",
    "    Style_code.append(title)"
   ]
  },
  {
   "cell_type": "code",
   "execution_count": 595,
   "id": "1a36721b-4b7c-4ff3-929a-20c97fca3b82",
   "metadata": {
    "tags": []
   },
   "outputs": [
    {
     "name": "stdout",
     "output_type": "stream",
     "text": [
      "1 1 1\n"
     ]
    }
   ],
   "source": [
    "print(len(Count_of_sizes),len(Type_of_colors), len(Style_code))"
   ]
  },
  {
   "cell_type": "code",
   "execution_count": 596,
   "id": "684b5c14-a347-4802-a991-26622354b2bd",
   "metadata": {
    "tags": []
   },
   "outputs": [
    {
     "data": {
      "text/html": [
       "<div>\n",
       "<style scoped>\n",
       "    .dataframe tbody tr th:only-of-type {\n",
       "        vertical-align: middle;\n",
       "    }\n",
       "\n",
       "    .dataframe tbody tr th {\n",
       "        vertical-align: top;\n",
       "    }\n",
       "\n",
       "    .dataframe thead th {\n",
       "        text-align: right;\n",
       "    }\n",
       "</style>\n",
       "<table border=\"1\" class=\"dataframe\">\n",
       "  <thead>\n",
       "    <tr style=\"text-align: right;\">\n",
       "      <th></th>\n",
       "      <th>Count_of_sizes</th>\n",
       "      <th>Type_of_colors</th>\n",
       "      <th>Style code</th>\n",
       "    </tr>\n",
       "  </thead>\n",
       "  <tbody>\n",
       "    <tr>\n",
       "      <th>0</th>\n",
       "      <td>Sizes\\nFind your size\\n3\\n3.5\\n4\\n4.5\\n5\\n5.5\\...</td>\n",
       "      <td>Sand Strata / Magic Beige / Legend Ink</td>\n",
       "      <td>Product code: GW2176</td>\n",
       "    </tr>\n",
       "  </tbody>\n",
       "</table>\n",
       "</div>"
      ],
      "text/plain": [
       "                                      Count_of_sizes  \\\n",
       "0  Sizes\\nFind your size\\n3\\n3.5\\n4\\n4.5\\n5\\n5.5\\...   \n",
       "\n",
       "                           Type_of_colors            Style code  \n",
       "0  Sand Strata / Magic Beige / Legend Ink  Product code: GW2176  "
      ]
     },
     "execution_count": 596,
     "metadata": {},
     "output_type": "execute_result"
    }
   ],
   "source": [
    "import pandas as pd\n",
    "df61=pd.DataFrame({'Count_of_sizes':Count_of_sizes,'Type_of_colors':Type_of_colors,'Style code':Style_code})\n",
    "df61"
   ]
  },
  {
   "cell_type": "code",
   "execution_count": 599,
   "id": "d7cf5b83-1fb0-43bf-b618-a78db7b64d7b",
   "metadata": {
    "tags": []
   },
   "outputs": [],
   "source": [
    "search_keyword = driver.find_element(By.XPATH, '//*[@id=\"__next\"]/div[2]/div[2]/div/header/div[2]/div/div[2]/div/input')\n",
    "search_keyword.clear()\n",
    "search_keyword.send_keys('Shoes Men')"
   ]
  },
  {
   "cell_type": "code",
   "execution_count": 600,
   "id": "01dbc7f7-3829-4859-a4c0-d17a5e7ee7a9",
   "metadata": {
    "tags": []
   },
   "outputs": [],
   "source": [
    "search_keyword = driver.find_element(By.XPATH, '//*[@id=\"__next\"]/div[2]/div[2]/div/header/div[2]/div/div[2]/div/div[2]/div/div[1]/div[2]/a[2]/div[1]/span[2]/strong')\n",
    "search_keyword.click()"
   ]
  },
  {
   "cell_type": "code",
   "execution_count": 601,
   "id": "878bac8a-9fba-4a57-9bcd-71e4a27cec9b",
   "metadata": {
    "tags": []
   },
   "outputs": [],
   "source": [
    "search_keyword = driver.find_element(By.XPATH, '//*[@id=\"main-content\"]/div/div[3]/div/div/div[2]/div[1]/div/div[2]/div/div/div/div/div/div/div[1]')\n",
    "search_keyword.click()"
   ]
  },
  {
   "cell_type": "code",
   "execution_count": 624,
   "id": "c8c64e6a-0c8f-4f0e-ae92-7b8d65e548a1",
   "metadata": {
    "tags": []
   },
   "outputs": [],
   "source": [
    "Count_of_sizes = []\n",
    "Type_of_colors = []\n",
    "Style_code = []"
   ]
  },
  {
   "cell_type": "code",
   "execution_count": 625,
   "id": "f1d886ff-a7aa-4ab1-8475-c4eeb3c0903d",
   "metadata": {
    "tags": []
   },
   "outputs": [],
   "source": [
    "title_tags=driver.find_elements(By.XPATH, '//*[@id=\"fixed-content\"]/span[2]/section/div[1]')\n",
    "for i in title_tags[0:23]:\n",
    "    title=i.text\n",
    "    Count_of_sizes.append(title)"
   ]
  },
  {
   "cell_type": "code",
   "execution_count": 626,
   "id": "1cf089f5-aa22-49b6-b3bf-e63a31731631",
   "metadata": {
    "tags": []
   },
   "outputs": [],
   "source": [
    "title_tags=driver.find_elements(By.CLASS_NAME, 'color-label--mobile___3b9C_')\n",
    "for i in title_tags[0:23]:\n",
    "    title=i.text\n",
    "    Type_of_colors.append(title)"
   ]
  },
  {
   "cell_type": "code",
   "execution_count": 627,
   "id": "cc16062c-f474-42e1-bfa2-ec26ebb1513f",
   "metadata": {
    "tags": []
   },
   "outputs": [],
   "source": [
    "title_tags=driver.find_elements(By.XPATH, '//*[@id=\"navigation-target-specifications\"]/div/div/div/div[1]/ul[2]/li[3]')\n",
    "for i in title_tags[0:1]:\n",
    "    title=i.text\n",
    "    Style_code.append(title)"
   ]
  },
  {
   "cell_type": "code",
   "execution_count": 628,
   "id": "41f1bb41-29f4-4c50-af05-7195fa59ff49",
   "metadata": {
    "tags": []
   },
   "outputs": [
    {
     "name": "stdout",
     "output_type": "stream",
     "text": [
      "1 1 1\n"
     ]
    }
   ],
   "source": [
    "print(len(Count_of_sizes),len(Type_of_colors), len(Style_code))"
   ]
  },
  {
   "cell_type": "code",
   "execution_count": 629,
   "id": "afe8694c-6388-4933-9d00-bafb62b0098f",
   "metadata": {
    "tags": []
   },
   "outputs": [
    {
     "data": {
      "text/html": [
       "<div>\n",
       "<style scoped>\n",
       "    .dataframe tbody tr th:only-of-type {\n",
       "        vertical-align: middle;\n",
       "    }\n",
       "\n",
       "    .dataframe tbody tr th {\n",
       "        vertical-align: top;\n",
       "    }\n",
       "\n",
       "    .dataframe thead th {\n",
       "        text-align: right;\n",
       "    }\n",
       "</style>\n",
       "<table border=\"1\" class=\"dataframe\">\n",
       "  <thead>\n",
       "    <tr style=\"text-align: right;\">\n",
       "      <th></th>\n",
       "      <th>Count_of_sizes</th>\n",
       "      <th>Type_of_colors</th>\n",
       "      <th>Style code</th>\n",
       "    </tr>\n",
       "  </thead>\n",
       "  <tbody>\n",
       "    <tr>\n",
       "      <th>0</th>\n",
       "      <td>Sizes\\nFind your size\\n3\\n3.5\\n4\\n4.5\\n5\\n5.5\\...</td>\n",
       "      <td>Core Black / Cloud White / Core Black</td>\n",
       "      <td>Product code: EG4959</td>\n",
       "    </tr>\n",
       "  </tbody>\n",
       "</table>\n",
       "</div>"
      ],
      "text/plain": [
       "                                      Count_of_sizes  \\\n",
       "0  Sizes\\nFind your size\\n3\\n3.5\\n4\\n4.5\\n5\\n5.5\\...   \n",
       "\n",
       "                          Type_of_colors            Style code  \n",
       "0  Core Black / Cloud White / Core Black  Product code: EG4959  "
      ]
     },
     "execution_count": 629,
     "metadata": {},
     "output_type": "execute_result"
    }
   ],
   "source": [
    "import pandas as pd\n",
    "df62=pd.DataFrame({'Count_of_sizes':Count_of_sizes,'Type_of_colors':Type_of_colors,'Style code':Style_code})\n",
    "df62"
   ]
  },
  {
   "cell_type": "code",
   "execution_count": 633,
   "id": "745eb9d5-bb9b-453e-bd39-8170e2873cbb",
   "metadata": {
    "tags": []
   },
   "outputs": [],
   "source": [
    "search_keyword = driver.find_element(By.XPATH, '//*[@id=\"app\"]/div/div[1]/div[1]/div/div/div[1]/div/header/div[2]/div/div[2]/div/input')\n",
    "search_keyword.clear()\n",
    "search_keyword.send_keys('Shoes Men')"
   ]
  },
  {
   "cell_type": "code",
   "execution_count": 635,
   "id": "8a02b5c7-c08b-4423-946c-0a65aafb91e3",
   "metadata": {
    "tags": []
   },
   "outputs": [],
   "source": [
    "search_keyword = driver.find_element(By.XPATH, '//*[@id=\"app\"]/div/div[1]/div[1]/div/div/div[1]/div/header/div[2]/div/div[2]/div/div[2]/div/div[1]/div[2]/a[2]/div[1]')\n",
    "search_keyword.click()"
   ]
  },
  {
   "cell_type": "code",
   "execution_count": 637,
   "id": "cc5dd2d2-e6cf-46a8-856a-f0328418935d",
   "metadata": {
    "tags": []
   },
   "outputs": [],
   "source": [
    "search_keyword = driver.find_element(By.XPATH, '//*[@id=\"main-content\"]/div/div[3]/div/div/div[2]/div[1]/div/div[3]/div/div/div/div/div/div/div[1]')\n",
    "search_keyword.click()"
   ]
  },
  {
   "cell_type": "code",
   "execution_count": 659,
   "id": "08752cbb-df86-48dd-bde0-07f0b1087b6f",
   "metadata": {
    "tags": []
   },
   "outputs": [],
   "source": [
    "Count_of_sizes = []\n",
    "Type_of_colors = []\n",
    "Style_code = []"
   ]
  },
  {
   "cell_type": "code",
   "execution_count": 660,
   "id": "b0d1b95f-5d4c-4fde-afd1-e0ff19703c88",
   "metadata": {
    "tags": []
   },
   "outputs": [],
   "source": [
    "title_tags=driver.find_elements(By.XPATH, '//*[@id=\"fixed-content\"]/span[2]/section/div[1]')\n",
    "for i in title_tags[0:23]:\n",
    "    title=i.text\n",
    "    Count_of_sizes.append(title)"
   ]
  },
  {
   "cell_type": "code",
   "execution_count": 661,
   "id": "1dac3f87-b2ee-4219-a49c-3af40e541230",
   "metadata": {
    "tags": []
   },
   "outputs": [],
   "source": [
    "title_tags=driver.find_elements(By.CLASS_NAME, 'color-label--mobile___3b9C_')\n",
    "for i in title_tags[0:23]:\n",
    "    title=i.text\n",
    "    Type_of_colors.append(title)"
   ]
  },
  {
   "cell_type": "code",
   "execution_count": 662,
   "id": "427a5d88-3a35-45c6-8c2c-9ba5bd52ead1",
   "metadata": {
    "tags": []
   },
   "outputs": [],
   "source": [
    "title_tags=driver.find_elements(By.XPATH, '//*[@id=\"navigation-target-specifications\"]/div/div/div/div[1]/ul[2]/li[3]')\n",
    "for i in title_tags[0:1]:\n",
    "    title=i.text\n",
    "    Style_code.append(title)"
   ]
  },
  {
   "cell_type": "code",
   "execution_count": 663,
   "id": "069d47b5-8bfe-432c-ae2c-5e327e0f1122",
   "metadata": {
    "tags": []
   },
   "outputs": [
    {
     "name": "stdout",
     "output_type": "stream",
     "text": [
      "1 1 1\n"
     ]
    }
   ],
   "source": [
    "print(len(Count_of_sizes),len(Type_of_colors), len(Style_code))"
   ]
  },
  {
   "cell_type": "code",
   "execution_count": 664,
   "id": "258bcd6c-4607-4c8b-9709-b6f87a5b2219",
   "metadata": {
    "tags": []
   },
   "outputs": [
    {
     "data": {
      "text/html": [
       "<div>\n",
       "<style scoped>\n",
       "    .dataframe tbody tr th:only-of-type {\n",
       "        vertical-align: middle;\n",
       "    }\n",
       "\n",
       "    .dataframe tbody tr th {\n",
       "        vertical-align: top;\n",
       "    }\n",
       "\n",
       "    .dataframe thead th {\n",
       "        text-align: right;\n",
       "    }\n",
       "</style>\n",
       "<table border=\"1\" class=\"dataframe\">\n",
       "  <thead>\n",
       "    <tr style=\"text-align: right;\">\n",
       "      <th></th>\n",
       "      <th>Count_of_sizes</th>\n",
       "      <th>Type_of_colors</th>\n",
       "      <th>Style code</th>\n",
       "    </tr>\n",
       "  </thead>\n",
       "  <tbody>\n",
       "    <tr>\n",
       "      <th>0</th>\n",
       "      <td>Sizes\\n3\\n3.5\\n4\\n4.5\\n5\\n5.5\\n6\\n6.5\\n7\\n7.5\\...</td>\n",
       "      <td>Core Black / Cloud White / Gum</td>\n",
       "      <td>Product code: B75807</td>\n",
       "    </tr>\n",
       "  </tbody>\n",
       "</table>\n",
       "</div>"
      ],
      "text/plain": [
       "                                      Count_of_sizes  \\\n",
       "0  Sizes\\n3\\n3.5\\n4\\n4.5\\n5\\n5.5\\n6\\n6.5\\n7\\n7.5\\...   \n",
       "\n",
       "                   Type_of_colors            Style code  \n",
       "0  Core Black / Cloud White / Gum  Product code: B75807  "
      ]
     },
     "execution_count": 664,
     "metadata": {},
     "output_type": "execute_result"
    }
   ],
   "source": [
    "import pandas as pd\n",
    "df63=pd.DataFrame({'Count_of_sizes':Count_of_sizes,'Type_of_colors':Type_of_colors,'Style code':Style_code})\n",
    "df63"
   ]
  },
  {
   "cell_type": "code",
   "execution_count": 668,
   "id": "560482fc-41f7-4a69-836f-9a3bd789416e",
   "metadata": {
    "tags": []
   },
   "outputs": [],
   "source": [
    "search_keyword = driver.find_element(By.XPATH, '//*[@id=\"__next\"]/div[2]/div[2]/div/header/div[2]/div/div[2]/div/input')\n",
    "search_keyword.clear()\n",
    "search_keyword.send_keys('Shoes Men')"
   ]
  },
  {
   "cell_type": "code",
   "execution_count": 669,
   "id": "c1df3fdc-c002-44e1-8425-8d921a5f99cd",
   "metadata": {
    "tags": []
   },
   "outputs": [],
   "source": [
    "search_keyword = driver.find_element(By.XPATH, '//*[@id=\"__next\"]/div[2]/div[2]/div/header/div[2]/div/div[2]/div/div[2]/div/div[1]/div[2]/a[2]/div[1]/span[2]/strong')\n",
    "search_keyword.click()"
   ]
  },
  {
   "cell_type": "code",
   "execution_count": 670,
   "id": "514b5865-93fa-4655-aee0-31d58cea210a",
   "metadata": {
    "tags": []
   },
   "outputs": [],
   "source": [
    "search_keyword = driver.find_element(By.XPATH, '//*[@id=\"main-content\"]/div/div[3]/div/div/div[2]/div[1]/div/div[4]/div/div/div/div/div/div/div[1]')\n",
    "search_keyword.click()"
   ]
  },
  {
   "cell_type": "code",
   "execution_count": 678,
   "id": "2a27dd52-08cc-4ff0-ad6b-1624522b7173",
   "metadata": {
    "tags": []
   },
   "outputs": [],
   "source": [
    "Count_of_sizes = []\n",
    "Type_of_colors = []\n",
    "Style_code = []"
   ]
  },
  {
   "cell_type": "code",
   "execution_count": 679,
   "id": "e00636d1-5715-47d4-8b06-efaf58b8a32b",
   "metadata": {
    "tags": []
   },
   "outputs": [],
   "source": [
    "title_tags=driver.find_elements(By.XPATH, '//*[@id=\"fixed-content\"]/span[2]/section/div[1]')\n",
    "for i in title_tags[0:23]:\n",
    "    title=i.text\n",
    "    Count_of_sizes.append(title)"
   ]
  },
  {
   "cell_type": "code",
   "execution_count": 680,
   "id": "a1cec62b-b502-4034-bac5-c57e6ec061a2",
   "metadata": {
    "tags": []
   },
   "outputs": [],
   "source": [
    "title_tags=driver.find_elements(By.CLASS_NAME, 'color-label--mobile___3b9C_')\n",
    "for i in title_tags[0:23]:\n",
    "    title=i.text\n",
    "    Type_of_colors.append(title)"
   ]
  },
  {
   "cell_type": "code",
   "execution_count": 681,
   "id": "577c3263-2040-4f46-ad54-4beceed10dc7",
   "metadata": {
    "tags": []
   },
   "outputs": [],
   "source": [
    "title_tags=driver.find_elements(By.XPATH, '//*[@id=\"navigation-target-specifications\"]/div/div/div/div[1]/ul[2]/li[3]')\n",
    "for i in title_tags[0:1]:\n",
    "    title=i.text\n",
    "    Style_code.append(title)"
   ]
  },
  {
   "cell_type": "code",
   "execution_count": 682,
   "id": "702c272e-7b9b-454c-8c92-ac08cf415134",
   "metadata": {
    "tags": []
   },
   "outputs": [
    {
     "name": "stdout",
     "output_type": "stream",
     "text": [
      "1 1 1\n"
     ]
    }
   ],
   "source": [
    "print(len(Count_of_sizes),len(Type_of_colors), len(Style_code))"
   ]
  },
  {
   "cell_type": "code",
   "execution_count": 683,
   "id": "727561bd-8568-4e03-8431-aee2f991a9f3",
   "metadata": {
    "tags": []
   },
   "outputs": [
    {
     "data": {
      "text/html": [
       "<div>\n",
       "<style scoped>\n",
       "    .dataframe tbody tr th:only-of-type {\n",
       "        vertical-align: middle;\n",
       "    }\n",
       "\n",
       "    .dataframe tbody tr th {\n",
       "        vertical-align: top;\n",
       "    }\n",
       "\n",
       "    .dataframe thead th {\n",
       "        text-align: right;\n",
       "    }\n",
       "</style>\n",
       "<table border=\"1\" class=\"dataframe\">\n",
       "  <thead>\n",
       "    <tr style=\"text-align: right;\">\n",
       "      <th></th>\n",
       "      <th>Count_of_sizes</th>\n",
       "      <th>Type_of_colors</th>\n",
       "      <th>Style code</th>\n",
       "    </tr>\n",
       "  </thead>\n",
       "  <tbody>\n",
       "    <tr>\n",
       "      <th>0</th>\n",
       "      <td>Sizes\\n3\\n3.5\\n4\\n4.5\\n5\\n5.5\\n6\\n6.5\\n7\\n7.5\\...</td>\n",
       "      <td>Cloud White / Core Black / Clear Granite</td>\n",
       "      <td>Product code: B75806</td>\n",
       "    </tr>\n",
       "  </tbody>\n",
       "</table>\n",
       "</div>"
      ],
      "text/plain": [
       "                                      Count_of_sizes  \\\n",
       "0  Sizes\\n3\\n3.5\\n4\\n4.5\\n5\\n5.5\\n6\\n6.5\\n7\\n7.5\\...   \n",
       "\n",
       "                             Type_of_colors            Style code  \n",
       "0  Cloud White / Core Black / Clear Granite  Product code: B75806  "
      ]
     },
     "execution_count": 683,
     "metadata": {},
     "output_type": "execute_result"
    }
   ],
   "source": [
    "import pandas as pd\n",
    "df64=pd.DataFrame({'Count_of_sizes':Count_of_sizes,'Type_of_colors':Type_of_colors,'Style code':Style_code})\n",
    "df64"
   ]
  },
  {
   "cell_type": "code",
   "execution_count": 684,
   "id": "42d51749-c9d4-4240-802d-91a3e9572528",
   "metadata": {
    "tags": []
   },
   "outputs": [
    {
     "name": "stdout",
     "output_type": "stream",
     "text": [
      "                                      Count_of_sizes\n",
      "0  Sizes\\n3\\n3.5\\n4\\n4.5\\n5\\n5.5\\n6\\n6.5\\n7\\n7.5\\...\n"
     ]
    }
   ],
   "source": [
    "dfcount_of_sizes = pd.DataFrame({'Count_of_sizes': df64['Count_of_sizes']})\n",
    "print(dfcount_of_sizes)"
   ]
  },
  {
   "cell_type": "code",
   "execution_count": 686,
   "id": "67029682-fb1e-4441-9d74-b986fc6918e7",
   "metadata": {
    "tags": []
   },
   "outputs": [],
   "source": [
    "search_keyword = driver.find_element(By.XPATH, '//*[@id=\"app\"]/div/div[1]/div[1]/div/div/div[1]/div/header/div[2]/div/div[2]/div/input')\n",
    "search_keyword.clear()\n",
    "search_keyword.send_keys('Shoes Men')"
   ]
  },
  {
   "cell_type": "code",
   "execution_count": 687,
   "id": "21126a98-eaa6-4820-9fec-369eae3715cd",
   "metadata": {
    "tags": []
   },
   "outputs": [],
   "source": [
    "search_keyword = driver.find_element(By.XPATH, '//*[@id=\"app\"]/div/div[1]/div[1]/div/div/div[1]/div/header/div[2]/div/div[2]/div/div[2]/div/div[1]/div[2]/a[2]/div[1]')\n",
    "search_keyword.click()"
   ]
  },
  {
   "cell_type": "code",
   "execution_count": 688,
   "id": "dc90c938-b40c-4864-ad5a-cb5914e44431",
   "metadata": {
    "tags": []
   },
   "outputs": [],
   "source": [
    "search_keyword = driver.find_element(By.XPATH, '//*[@id=\"main-content\"]/div/div[3]/div/div/div[2]/div[1]/div/div[5]/div/div/div/div/div/div/div[1]')\n",
    "search_keyword.click()"
   ]
  },
  {
   "cell_type": "code",
   "execution_count": 694,
   "id": "1fcde29c-5bcc-4750-88c1-71bddbea0105",
   "metadata": {
    "tags": []
   },
   "outputs": [],
   "source": [
    "Count_of_sizes = []\n",
    "Type_of_colors = []\n",
    "Style_code = []"
   ]
  },
  {
   "cell_type": "code",
   "execution_count": 695,
   "id": "6c0ad4d2-8d3f-4ec8-8ce8-09511fd6cbea",
   "metadata": {
    "tags": []
   },
   "outputs": [],
   "source": [
    "title_tags=driver.find_elements(By.XPATH, '//*[@id=\"fixed-content\"]/span[2]/section/div[1]')\n",
    "for i in title_tags[0:23]:\n",
    "    title=i.text\n",
    "    Count_of_sizes.append(title)"
   ]
  },
  {
   "cell_type": "code",
   "execution_count": 696,
   "id": "158f7d91-cf14-47ad-86ca-435408de2299",
   "metadata": {
    "tags": []
   },
   "outputs": [],
   "source": [
    "title_tags=driver.find_elements(By.CLASS_NAME, 'color-label--mobile___3b9C_')\n",
    "for i in title_tags[0:23]:\n",
    "    title=i.text\n",
    "    Type_of_colors.append(title)"
   ]
  },
  {
   "cell_type": "code",
   "execution_count": 697,
   "id": "6bf83635-de6e-4e27-927e-a5fbc9fafb8b",
   "metadata": {
    "tags": []
   },
   "outputs": [],
   "source": [
    "title_tags=driver.find_elements(By.XPATH, '//*[@id=\"navigation-target-specifications\"]/div/div/div/div[1]/ul[2]/li[3]')\n",
    "for i in title_tags[0:1]:\n",
    "    title=i.text\n",
    "    Style_code.append(title)"
   ]
  },
  {
   "cell_type": "code",
   "execution_count": 698,
   "id": "ba76020b-0c70-49b2-a411-5e22f7deb873",
   "metadata": {
    "tags": []
   },
   "outputs": [
    {
     "name": "stdout",
     "output_type": "stream",
     "text": [
      "1 1 1\n"
     ]
    }
   ],
   "source": [
    "print(len(Count_of_sizes),len(Type_of_colors), len(Style_code))"
   ]
  },
  {
   "cell_type": "code",
   "execution_count": 699,
   "id": "9ee4ccfa-3e55-4db2-b56d-9bdf77a6d5bb",
   "metadata": {
    "tags": []
   },
   "outputs": [
    {
     "data": {
      "text/html": [
       "<div>\n",
       "<style scoped>\n",
       "    .dataframe tbody tr th:only-of-type {\n",
       "        vertical-align: middle;\n",
       "    }\n",
       "\n",
       "    .dataframe tbody tr th {\n",
       "        vertical-align: top;\n",
       "    }\n",
       "\n",
       "    .dataframe thead th {\n",
       "        text-align: right;\n",
       "    }\n",
       "</style>\n",
       "<table border=\"1\" class=\"dataframe\">\n",
       "  <thead>\n",
       "    <tr style=\"text-align: right;\">\n",
       "      <th></th>\n",
       "      <th>Count_of_sizes</th>\n",
       "      <th>Type_of_colors</th>\n",
       "      <th>Style code</th>\n",
       "    </tr>\n",
       "  </thead>\n",
       "  <tbody>\n",
       "    <tr>\n",
       "      <th>0</th>\n",
       "      <td>Sizes\\nFind your size\\n3\\n3.5\\n4\\n4.5\\n5\\n5.5\\...</td>\n",
       "      <td>Cloud White / Core Black / Cloud White</td>\n",
       "      <td>Product code: EG4958</td>\n",
       "    </tr>\n",
       "  </tbody>\n",
       "</table>\n",
       "</div>"
      ],
      "text/plain": [
       "                                      Count_of_sizes  \\\n",
       "0  Sizes\\nFind your size\\n3\\n3.5\\n4\\n4.5\\n5\\n5.5\\...   \n",
       "\n",
       "                           Type_of_colors            Style code  \n",
       "0  Cloud White / Core Black / Cloud White  Product code: EG4958  "
      ]
     },
     "execution_count": 699,
     "metadata": {},
     "output_type": "execute_result"
    }
   ],
   "source": [
    "import pandas as pd\n",
    "df65=pd.DataFrame({'Count_of_sizes':Count_of_sizes,'Type_of_colors':Type_of_colors,'Style code':Style_code})\n",
    "df65"
   ]
  },
  {
   "cell_type": "code",
   "execution_count": 700,
   "id": "06e77cc7-dda2-45ba-84f1-72775bf15f25",
   "metadata": {
    "tags": []
   },
   "outputs": [],
   "source": [
    "search_keyword = driver.find_element(By.XPATH, '//*[@id=\"app\"]/div/div[1]/div[1]/div/div/div[1]/div/header/div[2]/div/div[2]/div/input')\n",
    "search_keyword.clear()\n",
    "search_keyword.send_keys('Shoes Men')"
   ]
  },
  {
   "cell_type": "code",
   "execution_count": 701,
   "id": "88ee6fa4-ebad-41d2-a10c-79991d4117ba",
   "metadata": {
    "tags": []
   },
   "outputs": [],
   "source": [
    "search_keyword = driver.find_element(By.XPATH, '//*[@id=\"app\"]/div/div[1]/div[1]/div/div/div[1]/div/header/div[2]/div/div[2]/div/div[2]/div/div[1]/div[2]/a[2]/div[1]')\n",
    "search_keyword.click()"
   ]
  },
  {
   "cell_type": "code",
   "execution_count": 702,
   "id": "2bb10062-98ae-4f97-95c3-456badd70da9",
   "metadata": {
    "tags": []
   },
   "outputs": [],
   "source": [
    "search_keyword = driver.find_element(By.XPATH, '//*[@id=\"main-content\"]/div/div[3]/div/div/div[2]/div[1]/div/div[6]/div/div/div/div/div/div/div[1]')\n",
    "search_keyword.click()"
   ]
  },
  {
   "cell_type": "code",
   "execution_count": 719,
   "id": "635ca213-c3d7-4922-a5af-bfc10f462a24",
   "metadata": {
    "tags": []
   },
   "outputs": [],
   "source": [
    "Type_of_colors = []\n",
    "Style_code = []"
   ]
  },
  {
   "cell_type": "code",
   "execution_count": 720,
   "id": "f045a89d-19ee-4cca-b84b-93f714ad28aa",
   "metadata": {
    "tags": []
   },
   "outputs": [],
   "source": [
    "title_tags=driver.find_elements(By.CLASS_NAME, 'color-label--mobile___3b9C_')\n",
    "for i in title_tags[0:23]:\n",
    "    title=i.text\n",
    "    Type_of_colors.append(title)"
   ]
  },
  {
   "cell_type": "code",
   "execution_count": 721,
   "id": "cab96dd0-b8bc-410f-840e-31640b08ddfc",
   "metadata": {
    "tags": []
   },
   "outputs": [],
   "source": [
    "title_tags=driver.find_elements(By.XPATH, '//*[@id=\"navigation-target-specifications\"]/div/div/div/div[1]/ul[2]/li[4]')\n",
    "for i in title_tags[0:1]:\n",
    "    title=i.text\n",
    "    Style_code.append(title)"
   ]
  },
  {
   "cell_type": "code",
   "execution_count": 722,
   "id": "a9349adb-c71b-4c51-b7e8-625c5ff574c1",
   "metadata": {
    "tags": []
   },
   "outputs": [
    {
     "name": "stdout",
     "output_type": "stream",
     "text": [
      "1 1\n"
     ]
    }
   ],
   "source": [
    "print(len(Type_of_colors), len(Style_code))"
   ]
  },
  {
   "cell_type": "code",
   "execution_count": 723,
   "id": "8bbcab9d-1f45-4fa1-bfb6-f56d604ed0ac",
   "metadata": {
    "tags": []
   },
   "outputs": [
    {
     "data": {
      "text/html": [
       "<div>\n",
       "<style scoped>\n",
       "    .dataframe tbody tr th:only-of-type {\n",
       "        vertical-align: middle;\n",
       "    }\n",
       "\n",
       "    .dataframe tbody tr th {\n",
       "        vertical-align: top;\n",
       "    }\n",
       "\n",
       "    .dataframe thead th {\n",
       "        text-align: right;\n",
       "    }\n",
       "</style>\n",
       "<table border=\"1\" class=\"dataframe\">\n",
       "  <thead>\n",
       "    <tr style=\"text-align: right;\">\n",
       "      <th></th>\n",
       "      <th>Count_of_sizes</th>\n",
       "      <th>Type_of_colors</th>\n",
       "      <th>Style code</th>\n",
       "    </tr>\n",
       "  </thead>\n",
       "  <tbody>\n",
       "    <tr>\n",
       "      <th>0</th>\n",
       "      <td>Sizes\\nFind your size\\n3\\n3.5\\n4\\n4.5\\n5\\n5.5\\...</td>\n",
       "      <td>Grey Three / Core Black / Cloud White</td>\n",
       "      <td>Product code: HP6007</td>\n",
       "    </tr>\n",
       "  </tbody>\n",
       "</table>\n",
       "</div>"
      ],
      "text/plain": [
       "                                      Count_of_sizes  \\\n",
       "0  Sizes\\nFind your size\\n3\\n3.5\\n4\\n4.5\\n5\\n5.5\\...   \n",
       "\n",
       "                          Type_of_colors            Style code  \n",
       "0  Grey Three / Core Black / Cloud White  Product code: HP6007  "
      ]
     },
     "execution_count": 723,
     "metadata": {},
     "output_type": "execute_result"
    }
   ],
   "source": [
    "import pandas as pd\n",
    "df66=pd.DataFrame({'Count_of_sizes':Count_of_sizes,'Type_of_colors':Type_of_colors,'Style code':Style_code})\n",
    "df66"
   ]
  },
  {
   "cell_type": "code",
   "execution_count": 724,
   "id": "406978b8-46a3-4c20-a1cb-01e52b1406bc",
   "metadata": {
    "tags": []
   },
   "outputs": [],
   "source": [
    "search_keyword = driver.find_element(By.XPATH, '//*[@id=\"app\"]/div/div[1]/div[1]/div/div/div[1]/div/header/div[2]/div/div[2]/div/input')\n",
    "search_keyword.clear()\n",
    "search_keyword.send_keys('Shoes Men')"
   ]
  },
  {
   "cell_type": "code",
   "execution_count": 725,
   "id": "da30d178-824a-4df3-b036-69b2357ee99c",
   "metadata": {
    "tags": []
   },
   "outputs": [],
   "source": [
    "search_keyword = driver.find_element(By.XPATH, '//*[@id=\"app\"]/div/div[1]/div[1]/div/div/div[1]/div/header/div[2]/div/div[2]/div/div[2]/div/div[1]/div[2]/a[2]/div[1]')\n",
    "search_keyword.click()"
   ]
  },
  {
   "cell_type": "code",
   "execution_count": 726,
   "id": "85e97fd6-0e64-4ba0-a54e-7b52004c35bf",
   "metadata": {
    "tags": []
   },
   "outputs": [],
   "source": [
    "search_keyword = driver.find_element(By.XPATH, '//*[@id=\"main-content\"]/div/div[3]/div/div/div[2]/div[1]/div/div[7]/div/div/div/div/div/div/div[1]')\n",
    "search_keyword.click()"
   ]
  },
  {
   "cell_type": "code",
   "execution_count": 732,
   "id": "d55dec7f-878e-46c0-86de-3fdcde306b24",
   "metadata": {
    "tags": []
   },
   "outputs": [],
   "source": [
    "Type_of_colors = []\n",
    "Style_code = []"
   ]
  },
  {
   "cell_type": "code",
   "execution_count": 733,
   "id": "c51d391a-e8be-4534-b007-a8ce92a17881",
   "metadata": {
    "tags": []
   },
   "outputs": [],
   "source": [
    "title_tags=driver.find_elements(By.CLASS_NAME, 'color-label--mobile___3b9C_')\n",
    "for i in title_tags[0:23]:\n",
    "    title=i.text\n",
    "    Type_of_colors.append(title)"
   ]
  },
  {
   "cell_type": "code",
   "execution_count": 734,
   "id": "e987285c-8c53-458d-a14b-476a6bc8ba0d",
   "metadata": {
    "tags": []
   },
   "outputs": [],
   "source": [
    "title_tags=driver.find_elements(By.XPATH, '//*[@id=\"navigation-target-specifications\"]/div/div/div/div[1]/ul[2]/li[5]')\n",
    "for i in title_tags[0:1]:\n",
    "    title=i.text\n",
    "    Style_code.append(title)"
   ]
  },
  {
   "cell_type": "code",
   "execution_count": 735,
   "id": "8ec4f45f-6ebc-4078-bd21-618735df3ea0",
   "metadata": {
    "tags": []
   },
   "outputs": [
    {
     "name": "stdout",
     "output_type": "stream",
     "text": [
      "1 1\n"
     ]
    }
   ],
   "source": [
    "print(len(Type_of_colors), len(Style_code))"
   ]
  },
  {
   "cell_type": "code",
   "execution_count": 736,
   "id": "a5e9c618-d0cb-4091-b5d4-73d2cd086258",
   "metadata": {
    "tags": []
   },
   "outputs": [
    {
     "data": {
      "text/html": [
       "<div>\n",
       "<style scoped>\n",
       "    .dataframe tbody tr th:only-of-type {\n",
       "        vertical-align: middle;\n",
       "    }\n",
       "\n",
       "    .dataframe tbody tr th {\n",
       "        vertical-align: top;\n",
       "    }\n",
       "\n",
       "    .dataframe thead th {\n",
       "        text-align: right;\n",
       "    }\n",
       "</style>\n",
       "<table border=\"1\" class=\"dataframe\">\n",
       "  <thead>\n",
       "    <tr style=\"text-align: right;\">\n",
       "      <th></th>\n",
       "      <th>Count_of_sizes</th>\n",
       "      <th>Type_of_colors</th>\n",
       "      <th>Style code</th>\n",
       "    </tr>\n",
       "  </thead>\n",
       "  <tbody>\n",
       "    <tr>\n",
       "      <th>0</th>\n",
       "      <td>Sizes\\nFind your size\\n3\\n3.5\\n4\\n4.5\\n5\\n5.5\\...</td>\n",
       "      <td>Core Black / Cloud White / Core Black</td>\n",
       "      <td>Product code: GW3848</td>\n",
       "    </tr>\n",
       "  </tbody>\n",
       "</table>\n",
       "</div>"
      ],
      "text/plain": [
       "                                      Count_of_sizes  \\\n",
       "0  Sizes\\nFind your size\\n3\\n3.5\\n4\\n4.5\\n5\\n5.5\\...   \n",
       "\n",
       "                          Type_of_colors            Style code  \n",
       "0  Core Black / Cloud White / Core Black  Product code: GW3848  "
      ]
     },
     "execution_count": 736,
     "metadata": {},
     "output_type": "execute_result"
    }
   ],
   "source": [
    "import pandas as pd\n",
    "df67=pd.DataFrame({'Count_of_sizes':Count_of_sizes,'Type_of_colors':Type_of_colors,'Style code':Style_code})\n",
    "df67"
   ]
  },
  {
   "cell_type": "code",
   "execution_count": null,
   "id": "b208ff9d-851c-470c-8866-95ea8f976df7",
   "metadata": {
    "tags": []
   },
   "outputs": [],
   "source": [
    "search_keyword = driver.find_element(By.XPATH, '//*[@id=\"app\"]/div/div[1]/div[1]/div/div/div[1]/div/header/div[2]/div/div[2]/div/input')\n",
    "search_keyword.clear()\n",
    "search_keyword.send_keys('Shoes Men')"
   ]
  },
  {
   "cell_type": "code",
   "execution_count": null,
   "id": "af5e80e7-3472-4fc6-890a-0344ad6e1098",
   "metadata": {},
   "outputs": [],
   "source": [
    "search_keyword = driver.find_element(By.XPATH, '//*[@id=\"app\"]/div/div[1]/div[1]/div/div/div[1]/div/header/div[2]/div/div[2]/div/div[2]/div/div[1]/div[2]/a[2]/div[1]')\n",
    "search_keyword.click()"
   ]
  },
  {
   "cell_type": "code",
   "execution_count": 742,
   "id": "3dcd4f8f-fd2f-4f6a-90a8-de2e2255cd64",
   "metadata": {
    "tags": []
   },
   "outputs": [],
   "source": [
    "search_keyword = driver.find_element(By.XPATH, '//*[@id=\"main-content\"]/div/div[3]/div/div/div[2]/div[1]/div/div[8]/div/div/div/div/div/div')\n",
    "search_keyword.click()"
   ]
  },
  {
   "cell_type": "code",
   "execution_count": 763,
   "id": "d6853025-9b60-45b7-b876-b1e7c44544dc",
   "metadata": {
    "tags": []
   },
   "outputs": [],
   "source": [
    "Type_of_colors = []\n",
    "Style_code = []"
   ]
  },
  {
   "cell_type": "code",
   "execution_count": 764,
   "id": "5d7f9fba-f55f-42dc-9ac1-a7860b6875fa",
   "metadata": {
    "tags": []
   },
   "outputs": [],
   "source": [
    "title_tags=driver.find_elements(By.CLASS_NAME, 'single-color-label___29kFh')\n",
    "for i in title_tags[0:23]:\n",
    "    title=i.text\n",
    "    Type_of_colors.append(title)"
   ]
  },
  {
   "cell_type": "code",
   "execution_count": 765,
   "id": "a3077205-f5af-43b9-afdb-f342fb7e324e",
   "metadata": {
    "tags": []
   },
   "outputs": [],
   "source": [
    "title_tags=driver.find_elements(By.XPATH, '//*[@id=\"navigation-target-specifications\"]/div/div/div/div[1]/ul[2]/li[5]')\n",
    "for i in title_tags[0:1]:\n",
    "    title=i.text\n",
    "    Style_code.append(title)"
   ]
  },
  {
   "cell_type": "code",
   "execution_count": 766,
   "id": "942c6396-29f3-472e-a21c-8e4a985fc049",
   "metadata": {
    "tags": []
   },
   "outputs": [
    {
     "name": "stdout",
     "output_type": "stream",
     "text": [
      "1 1\n"
     ]
    }
   ],
   "source": [
    "print(len(Type_of_colors), len(Style_code))"
   ]
  },
  {
   "cell_type": "code",
   "execution_count": 767,
   "id": "553ee7f2-4fa1-432f-861b-3c4fe57a2a63",
   "metadata": {
    "tags": []
   },
   "outputs": [
    {
     "data": {
      "text/html": [
       "<div>\n",
       "<style scoped>\n",
       "    .dataframe tbody tr th:only-of-type {\n",
       "        vertical-align: middle;\n",
       "    }\n",
       "\n",
       "    .dataframe tbody tr th {\n",
       "        vertical-align: top;\n",
       "    }\n",
       "\n",
       "    .dataframe thead th {\n",
       "        text-align: right;\n",
       "    }\n",
       "</style>\n",
       "<table border=\"1\" class=\"dataframe\">\n",
       "  <thead>\n",
       "    <tr style=\"text-align: right;\">\n",
       "      <th></th>\n",
       "      <th>Count_of_sizes</th>\n",
       "      <th>Type_of_colors</th>\n",
       "      <th>Style code</th>\n",
       "    </tr>\n",
       "  </thead>\n",
       "  <tbody>\n",
       "    <tr>\n",
       "      <th>0</th>\n",
       "      <td>Sizes\\nFind your size\\n3\\n3.5\\n4\\n4.5\\n5\\n5.5\\...</td>\n",
       "      <td>Wonder Red / Cloud White / Wonder Taupe</td>\n",
       "      <td>Product code: HQ1402</td>\n",
       "    </tr>\n",
       "  </tbody>\n",
       "</table>\n",
       "</div>"
      ],
      "text/plain": [
       "                                      Count_of_sizes  \\\n",
       "0  Sizes\\nFind your size\\n3\\n3.5\\n4\\n4.5\\n5\\n5.5\\...   \n",
       "\n",
       "                            Type_of_colors            Style code  \n",
       "0  Wonder Red / Cloud White / Wonder Taupe  Product code: HQ1402  "
      ]
     },
     "execution_count": 767,
     "metadata": {},
     "output_type": "execute_result"
    }
   ],
   "source": [
    "import pandas as pd\n",
    "df68=pd.DataFrame({'Count_of_sizes':Count_of_sizes,'Type_of_colors':Type_of_colors,'Style code':Style_code})\n",
    "df68"
   ]
  },
  {
   "cell_type": "code",
   "execution_count": null,
   "id": "de5fb96b-022a-4620-a09d-55db65b1da76",
   "metadata": {
    "tags": []
   },
   "outputs": [],
   "source": [
    "search_keyword = driver.find_element(By.XPATH, '//*[@id=\"app\"]/div/div[1]/div[1]/div/div/div[1]/div/header/div[2]/div/div[2]/div/input')\n",
    "search_keyword.clear()\n",
    "search_keyword.send_keys('Shoes Men')"
   ]
  },
  {
   "cell_type": "code",
   "execution_count": null,
   "id": "59b24a2d-e9ff-454d-8408-a5287d7c051f",
   "metadata": {
    "tags": []
   },
   "outputs": [],
   "source": [
    "search_keyword = driver.find_element(By.XPATH, '//*[@id=\"app\"]/div/div[1]/div[1]/div/div/div[1]/div/header/div[2]/div/div[2]/div/div[2]/div/div[1]/div[2]/a[2]/div[1]')\n",
    "search_keyword.click()"
   ]
  },
  {
   "cell_type": "code",
   "execution_count": 776,
   "id": "7d3b3654-2d2b-4fd4-9610-dad75af2a1e4",
   "metadata": {
    "tags": []
   },
   "outputs": [],
   "source": [
    "search_keyword = driver.find_element(By.XPATH, '//*[@id=\"main-content\"]/div/div[3]/div/div/div[2]/div[1]/div/div[9]/div/div/div/div/div/div')\n",
    "search_keyword.click()"
   ]
  },
  {
   "cell_type": "code",
   "execution_count": 786,
   "id": "cbcb5db5-f3ef-45e1-9c2d-0896c453932f",
   "metadata": {
    "tags": []
   },
   "outputs": [],
   "source": [
    "Type_of_colors = []\n",
    "Style_code = []"
   ]
  },
  {
   "cell_type": "code",
   "execution_count": 787,
   "id": "701b4a10-7d8a-42a2-8154-9e140d943c37",
   "metadata": {
    "tags": []
   },
   "outputs": [],
   "source": [
    "title_tags=driver.find_elements(By.CLASS_NAME, 'color-label--mobile___3b9C_')\n",
    "for i in title_tags[0:23]:\n",
    "    title=i.text\n",
    "    Type_of_colors.append(title)"
   ]
  },
  {
   "cell_type": "code",
   "execution_count": 788,
   "id": "fc51c076-56c1-4c64-803d-68ff520958a7",
   "metadata": {
    "tags": []
   },
   "outputs": [],
   "source": [
    "title_tags=driver.find_elements(By.XPATH, '//*[@id=\"navigation-target-specifications\"]/div/div/div/div[1]/ul[2]/li[4]')\n",
    "for i in title_tags[0:1]:\n",
    "    title=i.text\n",
    "    Style_code.append(title)"
   ]
  },
  {
   "cell_type": "code",
   "execution_count": 789,
   "id": "a7b5aa1a-1295-42b4-a70e-625b995ff835",
   "metadata": {
    "tags": []
   },
   "outputs": [
    {
     "name": "stdout",
     "output_type": "stream",
     "text": [
      "1 1\n"
     ]
    }
   ],
   "source": [
    "print(len(Type_of_colors), len(Style_code))"
   ]
  },
  {
   "cell_type": "code",
   "execution_count": 790,
   "id": "f3001e4b-2616-4187-8b7d-2df742ea14d8",
   "metadata": {
    "tags": []
   },
   "outputs": [
    {
     "data": {
      "text/html": [
       "<div>\n",
       "<style scoped>\n",
       "    .dataframe tbody tr th:only-of-type {\n",
       "        vertical-align: middle;\n",
       "    }\n",
       "\n",
       "    .dataframe tbody tr th {\n",
       "        vertical-align: top;\n",
       "    }\n",
       "\n",
       "    .dataframe thead th {\n",
       "        text-align: right;\n",
       "    }\n",
       "</style>\n",
       "<table border=\"1\" class=\"dataframe\">\n",
       "  <thead>\n",
       "    <tr style=\"text-align: right;\">\n",
       "      <th></th>\n",
       "      <th>Count_of_sizes</th>\n",
       "      <th>Type_of_colors</th>\n",
       "      <th>Style code</th>\n",
       "    </tr>\n",
       "  </thead>\n",
       "  <tbody>\n",
       "    <tr>\n",
       "      <th>0</th>\n",
       "      <td>Sizes\\nFind your size\\n3\\n3.5\\n4\\n4.5\\n5\\n5.5\\...</td>\n",
       "      <td>Core Black / Core Black / Cloud White</td>\n",
       "      <td>Product code: FX3632</td>\n",
       "    </tr>\n",
       "  </tbody>\n",
       "</table>\n",
       "</div>"
      ],
      "text/plain": [
       "                                      Count_of_sizes  \\\n",
       "0  Sizes\\nFind your size\\n3\\n3.5\\n4\\n4.5\\n5\\n5.5\\...   \n",
       "\n",
       "                          Type_of_colors            Style code  \n",
       "0  Core Black / Core Black / Cloud White  Product code: FX3632  "
      ]
     },
     "execution_count": 790,
     "metadata": {},
     "output_type": "execute_result"
    }
   ],
   "source": [
    "import pandas as pd\n",
    "df69=pd.DataFrame({'Count_of_sizes':Count_of_sizes,'Type_of_colors':Type_of_colors,'Style code':Style_code})\n",
    "df69"
   ]
  },
  {
   "cell_type": "code",
   "execution_count": 791,
   "id": "b480a9c9-2461-4eb3-86a3-ce08c061e8f7",
   "metadata": {
    "tags": []
   },
   "outputs": [],
   "source": [
    "search_keyword = driver.find_element(By.XPATH, '//*[@id=\"app\"]/div/div[1]/div[1]/div/div/div[1]/div/header/div[2]/div/div[2]/div/input')\n",
    "search_keyword.clear()\n",
    "search_keyword.send_keys('Shoes Men')"
   ]
  },
  {
   "cell_type": "code",
   "execution_count": 792,
   "id": "756aaf67-eedc-4024-a6e9-050d4f12b58b",
   "metadata": {
    "tags": []
   },
   "outputs": [],
   "source": [
    "search_keyword = driver.find_element(By.XPATH, '//*[@id=\"app\"]/div/div[1]/div[1]/div/div/div[1]/div/header/div[2]/div/div[2]/div/div[2]/div/div[1]/div[2]/a[2]/div[1]')\n",
    "search_keyword.click()"
   ]
  },
  {
   "cell_type": "code",
   "execution_count": 793,
   "id": "e298f19c-07a5-463f-b69d-8e9a59430ac0",
   "metadata": {
    "tags": []
   },
   "outputs": [],
   "source": [
    "search_keyword = driver.find_element(By.XPATH, '//*[@id=\"main-content\"]/div/div[3]/div/div/div[2]/div[1]/div/div[10]/div/div/div/div/div/div')\n",
    "search_keyword.click()"
   ]
  },
  {
   "cell_type": "code",
   "execution_count": 798,
   "id": "9596f409-0a5d-4417-8f75-0fac8c4715ae",
   "metadata": {
    "tags": []
   },
   "outputs": [],
   "source": [
    "Type_of_colors = []\n",
    "Style_code = []"
   ]
  },
  {
   "cell_type": "code",
   "execution_count": 799,
   "id": "f84bccf0-fb2a-4ca8-9579-ee7c9d1135ef",
   "metadata": {
    "tags": []
   },
   "outputs": [],
   "source": [
    "title_tags=driver.find_elements(By.CLASS_NAME, 'color-label___2hXaD')\n",
    "for i in title_tags[0:23]:\n",
    "    title=i.text\n",
    "    Type_of_colors.append(title)"
   ]
  },
  {
   "cell_type": "code",
   "execution_count": 800,
   "id": "bd852f6b-8664-4397-879a-0ece99a9c970",
   "metadata": {
    "tags": []
   },
   "outputs": [],
   "source": [
    "title_tags=driver.find_elements(By.XPATH, '//*[@id=\"navigation-target-specifications\"]/div/div/div/div[1]/ul[2]/li[4]')\n",
    "for i in title_tags[0:1]:\n",
    "    title=i.text\n",
    "    Style_code.append(title)"
   ]
  },
  {
   "cell_type": "code",
   "execution_count": 801,
   "id": "52200b69-c748-455e-8284-aa4985af6304",
   "metadata": {
    "tags": []
   },
   "outputs": [
    {
     "name": "stdout",
     "output_type": "stream",
     "text": [
      "1 1\n"
     ]
    }
   ],
   "source": [
    "print(len(Type_of_colors), len(Style_code))"
   ]
  },
  {
   "cell_type": "code",
   "execution_count": 802,
   "id": "dba984fa-97bf-4e5f-9265-9bb75c53d22e",
   "metadata": {
    "tags": []
   },
   "outputs": [
    {
     "data": {
      "text/html": [
       "<div>\n",
       "<style scoped>\n",
       "    .dataframe tbody tr th:only-of-type {\n",
       "        vertical-align: middle;\n",
       "    }\n",
       "\n",
       "    .dataframe tbody tr th {\n",
       "        vertical-align: top;\n",
       "    }\n",
       "\n",
       "    .dataframe thead th {\n",
       "        text-align: right;\n",
       "    }\n",
       "</style>\n",
       "<table border=\"1\" class=\"dataframe\">\n",
       "  <thead>\n",
       "    <tr style=\"text-align: right;\">\n",
       "      <th></th>\n",
       "      <th>Count_of_sizes</th>\n",
       "      <th>Type_of_colors</th>\n",
       "      <th>Style code</th>\n",
       "    </tr>\n",
       "  </thead>\n",
       "  <tbody>\n",
       "    <tr>\n",
       "      <th>0</th>\n",
       "      <td>Sizes\\nFind your size\\n3\\n3.5\\n4\\n4.5\\n5\\n5.5\\...</td>\n",
       "      <td>Core Black / Grey Five / Carbon</td>\n",
       "      <td>Product code: HP2760</td>\n",
       "    </tr>\n",
       "  </tbody>\n",
       "</table>\n",
       "</div>"
      ],
      "text/plain": [
       "                                      Count_of_sizes  \\\n",
       "0  Sizes\\nFind your size\\n3\\n3.5\\n4\\n4.5\\n5\\n5.5\\...   \n",
       "\n",
       "                    Type_of_colors            Style code  \n",
       "0  Core Black / Grey Five / Carbon  Product code: HP2760  "
      ]
     },
     "execution_count": 802,
     "metadata": {},
     "output_type": "execute_result"
    }
   ],
   "source": [
    "import pandas as pd\n",
    "df70=pd.DataFrame({'Count_of_sizes':Count_of_sizes,'Type_of_colors':Type_of_colors,'Style code':Style_code})\n",
    "df70"
   ]
  },
  {
   "cell_type": "code",
   "execution_count": 803,
   "id": "28d01ee8-ca75-478c-84f6-5468a0fd3f4c",
   "metadata": {
    "tags": []
   },
   "outputs": [],
   "source": [
    "search_keyword = driver.find_element(By.XPATH, '//*[@id=\"app\"]/div/div[1]/div[1]/div/div/div[1]/div/header/div[2]/div/div[2]/div/input')\n",
    "search_keyword.clear()\n",
    "search_keyword.send_keys('Shoes Men')"
   ]
  },
  {
   "cell_type": "code",
   "execution_count": 804,
   "id": "e10d6184-157d-47b8-ba23-6e7dbc4b13e8",
   "metadata": {
    "tags": []
   },
   "outputs": [],
   "source": [
    "search_keyword = driver.find_element(By.XPATH, '//*[@id=\"app\"]/div/div[1]/div[1]/div/div/div[1]/div/header/div[2]/div/div[2]/div/div[2]/div/div[1]/div[2]/a[2]/div[1]')\n",
    "search_keyword.click()"
   ]
  },
  {
   "cell_type": "code",
   "execution_count": 805,
   "id": "836927c6-7a9c-4922-b4ad-421e3858be1b",
   "metadata": {
    "tags": []
   },
   "outputs": [],
   "source": [
    "search_keyword = driver.find_element(By.XPATH, '//*[@id=\"main-content\"]/div/div[3]/div/div/div[2]/div[1]/div/div[11]/div/div/div/div/div/div')\n",
    "search_keyword.click()"
   ]
  },
  {
   "cell_type": "code",
   "execution_count": 810,
   "id": "e7c5d711-e807-4221-aa3c-01a221a1247d",
   "metadata": {
    "tags": []
   },
   "outputs": [],
   "source": [
    "Type_of_colors = []\n",
    "Style_code = []"
   ]
  },
  {
   "cell_type": "code",
   "execution_count": 811,
   "id": "603a8fee-6a2d-4adc-a585-f015f4eef2e2",
   "metadata": {
    "tags": []
   },
   "outputs": [],
   "source": [
    "title_tags=driver.find_elements(By.CLASS_NAME, 'single-color-label___29kFh')\n",
    "for i in title_tags[0:23]:\n",
    "    title=i.text\n",
    "    Type_of_colors.append(title)"
   ]
  },
  {
   "cell_type": "code",
   "execution_count": 812,
   "id": "2921276b-e72d-4f8a-8134-0574db4a4fdf",
   "metadata": {
    "tags": []
   },
   "outputs": [],
   "source": [
    "title_tags=driver.find_elements(By.XPATH, '//*[@id=\"navigation-target-specifications\"]/div/div/div/div[1]/ul[2]/li[4]')\n",
    "for i in title_tags[0:1]:\n",
    "    title=i.text\n",
    "    Style_code.append(title)"
   ]
  },
  {
   "cell_type": "code",
   "execution_count": 813,
   "id": "f92334a1-d180-4402-af8d-b0d2e884a9b6",
   "metadata": {
    "tags": []
   },
   "outputs": [
    {
     "name": "stdout",
     "output_type": "stream",
     "text": [
      "1 1\n"
     ]
    }
   ],
   "source": [
    "print(len(Type_of_colors), len(Style_code))"
   ]
  },
  {
   "cell_type": "code",
   "execution_count": 814,
   "id": "418c806d-995e-433f-be97-af7649696693",
   "metadata": {
    "tags": []
   },
   "outputs": [
    {
     "data": {
      "text/html": [
       "<div>\n",
       "<style scoped>\n",
       "    .dataframe tbody tr th:only-of-type {\n",
       "        vertical-align: middle;\n",
       "    }\n",
       "\n",
       "    .dataframe tbody tr th {\n",
       "        vertical-align: top;\n",
       "    }\n",
       "\n",
       "    .dataframe thead th {\n",
       "        text-align: right;\n",
       "    }\n",
       "</style>\n",
       "<table border=\"1\" class=\"dataframe\">\n",
       "  <thead>\n",
       "    <tr style=\"text-align: right;\">\n",
       "      <th></th>\n",
       "      <th>Count_of_sizes</th>\n",
       "      <th>Type_of_colors</th>\n",
       "      <th>Style code</th>\n",
       "    </tr>\n",
       "  </thead>\n",
       "  <tbody>\n",
       "    <tr>\n",
       "      <th>0</th>\n",
       "      <td>Sizes\\nFind your size\\n3\\n3.5\\n4\\n4.5\\n5\\n5.5\\...</td>\n",
       "      <td>Crew Navy / Stone / Hazy Blue / Core Black</td>\n",
       "      <td>Product code: EX2102</td>\n",
       "    </tr>\n",
       "  </tbody>\n",
       "</table>\n",
       "</div>"
      ],
      "text/plain": [
       "                                      Count_of_sizes  \\\n",
       "0  Sizes\\nFind your size\\n3\\n3.5\\n4\\n4.5\\n5\\n5.5\\...   \n",
       "\n",
       "                               Type_of_colors            Style code  \n",
       "0  Crew Navy / Stone / Hazy Blue / Core Black  Product code: EX2102  "
      ]
     },
     "execution_count": 814,
     "metadata": {},
     "output_type": "execute_result"
    }
   ],
   "source": [
    "import pandas as pd\n",
    "df71=pd.DataFrame({'Count_of_sizes':Count_of_sizes,'Type_of_colors':Type_of_colors,'Style code':Style_code})\n",
    "df71"
   ]
  },
  {
   "cell_type": "code",
   "execution_count": 815,
   "id": "8fc937a5-9634-4a18-b67d-ae168d31692f",
   "metadata": {
    "tags": []
   },
   "outputs": [],
   "source": [
    "search_keyword = driver.find_element(By.XPATH, '//*[@id=\"app\"]/div/div[1]/div[1]/div/div/div[1]/div/header/div[2]/div/div[2]/div/input')\n",
    "search_keyword.clear()\n",
    "search_keyword.send_keys('Shoes Men')"
   ]
  },
  {
   "cell_type": "code",
   "execution_count": 816,
   "id": "58755d36-6c34-47b1-9fd1-4f672bf155a0",
   "metadata": {
    "tags": []
   },
   "outputs": [],
   "source": [
    "search_keyword = driver.find_element(By.XPATH, '//*[@id=\"app\"]/div/div[1]/div[1]/div/div/div[1]/div/header/div[2]/div/div[2]/div/div[2]/div/div[1]/div[2]/a[2]/div[1]')\n",
    "search_keyword.click()"
   ]
  },
  {
   "cell_type": "code",
   "execution_count": 817,
   "id": "809dc63a-2161-4699-8e01-7c154ae4a43e",
   "metadata": {
    "tags": []
   },
   "outputs": [],
   "source": [
    "search_keyword = driver.find_element(By.XPATH, '//*[@id=\"main-content\"]/div/div[3]/div/div/div[2]/div[1]/div/div[12]/div/div/div/div/div/div')\n",
    "search_keyword.click()"
   ]
  },
  {
   "cell_type": "code",
   "execution_count": 822,
   "id": "596016fa-d1ea-4a13-b0da-a397c85b8018",
   "metadata": {
    "tags": []
   },
   "outputs": [],
   "source": [
    "Type_of_colors = []\n",
    "Style_code = []"
   ]
  },
  {
   "cell_type": "code",
   "execution_count": 823,
   "id": "fc158995-85bd-4d8b-ab33-6ab4ea33ecec",
   "metadata": {
    "tags": []
   },
   "outputs": [],
   "source": [
    "title_tags=driver.find_elements(By.CLASS_NAME, 'single-color-label___29kFh')\n",
    "for i in title_tags[0:23]:\n",
    "    title=i.text\n",
    "    Type_of_colors.append(title)"
   ]
  },
  {
   "cell_type": "code",
   "execution_count": 824,
   "id": "82e35fd5-3670-4765-abe7-95e1135bcd49",
   "metadata": {
    "tags": []
   },
   "outputs": [],
   "source": [
    "title_tags=driver.find_elements(By.XPATH, '//*[@id=\"navigation-target-specifications\"]/div/div/div/div[1]/ul[2]/li[4]')\n",
    "for i in title_tags[0:1]:\n",
    "    title=i.text\n",
    "    Style_code.append(title)"
   ]
  },
  {
   "cell_type": "code",
   "execution_count": 825,
   "id": "fae220ca-2cb3-4e3f-9de2-afc37b0e4070",
   "metadata": {
    "tags": []
   },
   "outputs": [
    {
     "name": "stdout",
     "output_type": "stream",
     "text": [
      "1 1\n"
     ]
    }
   ],
   "source": [
    "print(len(Type_of_colors), len(Style_code))"
   ]
  },
  {
   "cell_type": "code",
   "execution_count": 826,
   "id": "09ed83f4-fe14-4fe8-9957-5af977ce8629",
   "metadata": {
    "tags": []
   },
   "outputs": [
    {
     "data": {
      "text/html": [
       "<div>\n",
       "<style scoped>\n",
       "    .dataframe tbody tr th:only-of-type {\n",
       "        vertical-align: middle;\n",
       "    }\n",
       "\n",
       "    .dataframe tbody tr th {\n",
       "        vertical-align: top;\n",
       "    }\n",
       "\n",
       "    .dataframe thead th {\n",
       "        text-align: right;\n",
       "    }\n",
       "</style>\n",
       "<table border=\"1\" class=\"dataframe\">\n",
       "  <thead>\n",
       "    <tr style=\"text-align: right;\">\n",
       "      <th></th>\n",
       "      <th>Count_of_sizes</th>\n",
       "      <th>Type_of_colors</th>\n",
       "      <th>Style code</th>\n",
       "    </tr>\n",
       "  </thead>\n",
       "  <tbody>\n",
       "    <tr>\n",
       "      <th>0</th>\n",
       "      <td>Sizes\\nFind your size\\n3\\n3.5\\n4\\n4.5\\n5\\n5.5\\...</td>\n",
       "      <td>Chalk White / Silver Green / Olive Strata</td>\n",
       "      <td>Product code: HQ6441</td>\n",
       "    </tr>\n",
       "  </tbody>\n",
       "</table>\n",
       "</div>"
      ],
      "text/plain": [
       "                                      Count_of_sizes  \\\n",
       "0  Sizes\\nFind your size\\n3\\n3.5\\n4\\n4.5\\n5\\n5.5\\...   \n",
       "\n",
       "                              Type_of_colors            Style code  \n",
       "0  Chalk White / Silver Green / Olive Strata  Product code: HQ6441  "
      ]
     },
     "execution_count": 826,
     "metadata": {},
     "output_type": "execute_result"
    }
   ],
   "source": [
    "import pandas as pd\n",
    "df72=pd.DataFrame({'Count_of_sizes':Count_of_sizes,'Type_of_colors':Type_of_colors,'Style code':Style_code})\n",
    "df72"
   ]
  },
  {
   "cell_type": "code",
   "execution_count": 827,
   "id": "06a48439-cd46-46db-950b-f2e73e3855aa",
   "metadata": {
    "tags": []
   },
   "outputs": [],
   "source": [
    "search_keyword = driver.find_element(By.XPATH, '//*[@id=\"app\"]/div/div[1]/div[1]/div/div/div[1]/div/header/div[2]/div/div[2]/div/input')\n",
    "search_keyword.clear()\n",
    "search_keyword.send_keys('Shoes Men')"
   ]
  },
  {
   "cell_type": "code",
   "execution_count": 828,
   "id": "acffd0ab-5c09-4940-a775-7c472b992598",
   "metadata": {
    "tags": []
   },
   "outputs": [],
   "source": [
    "search_keyword = driver.find_element(By.XPATH, '//*[@id=\"app\"]/div/div[1]/div[1]/div/div/div[1]/div/header/div[2]/div/div[2]/div/div[2]/div/div[1]/div[2]/a[2]/div[1]')\n",
    "search_keyword.click()"
   ]
  },
  {
   "cell_type": "code",
   "execution_count": 830,
   "id": "883c7c36-6c3c-44a3-8313-463c1d502b9d",
   "metadata": {
    "tags": []
   },
   "outputs": [],
   "source": [
    "search_keyword = driver.find_element(By.XPATH, '//*[@id=\"main-content\"]/div/div[3]/div/div/div[2]/div[1]/div/div[13]/div/div/div/div/div/div')\n",
    "search_keyword.click()"
   ]
  },
  {
   "cell_type": "code",
   "execution_count": 831,
   "id": "ec6d0450-0940-4089-b295-ee3c632ddbc6",
   "metadata": {
    "tags": []
   },
   "outputs": [],
   "source": [
    "Type_of_colors = []\n",
    "Style_code = []"
   ]
  },
  {
   "cell_type": "code",
   "execution_count": 832,
   "id": "33b6cc80-80d9-4af4-a851-3cfa18a0d04f",
   "metadata": {
    "tags": []
   },
   "outputs": [],
   "source": [
    "title_tags=driver.find_elements(By.CLASS_NAME, 'single-color-label___29kFh')\n",
    "for i in title_tags[0:23]:\n",
    "    title=i.text\n",
    "    Type_of_colors.append(title)"
   ]
  },
  {
   "cell_type": "code",
   "execution_count": 833,
   "id": "1a07ab86-9ea1-4b42-a949-6b4eb3280b14",
   "metadata": {
    "tags": []
   },
   "outputs": [],
   "source": [
    "title_tags=driver.find_elements(By.XPATH, '//*[@id=\"navigation-target-specifications\"]/div/div/div/div[1]/ul[2]/li[4]')\n",
    "for i in title_tags[0:1]:\n",
    "    title=i.text\n",
    "    Style_code.append(title)"
   ]
  },
  {
   "cell_type": "code",
   "execution_count": 834,
   "id": "27c57bc1-3683-4d5c-b992-56414ca6a9af",
   "metadata": {
    "tags": []
   },
   "outputs": [
    {
     "name": "stdout",
     "output_type": "stream",
     "text": [
      "1 1\n"
     ]
    }
   ],
   "source": [
    "print(len(Type_of_colors), len(Style_code))"
   ]
  },
  {
   "cell_type": "code",
   "execution_count": 835,
   "id": "555d584d-29ea-4b38-a5c6-2fc952389a52",
   "metadata": {
    "tags": []
   },
   "outputs": [
    {
     "data": {
      "text/html": [
       "<div>\n",
       "<style scoped>\n",
       "    .dataframe tbody tr th:only-of-type {\n",
       "        vertical-align: middle;\n",
       "    }\n",
       "\n",
       "    .dataframe tbody tr th {\n",
       "        vertical-align: top;\n",
       "    }\n",
       "\n",
       "    .dataframe thead th {\n",
       "        text-align: right;\n",
       "    }\n",
       "</style>\n",
       "<table border=\"1\" class=\"dataframe\">\n",
       "  <thead>\n",
       "    <tr style=\"text-align: right;\">\n",
       "      <th></th>\n",
       "      <th>Count_of_sizes</th>\n",
       "      <th>Type_of_colors</th>\n",
       "      <th>Style code</th>\n",
       "    </tr>\n",
       "  </thead>\n",
       "  <tbody>\n",
       "    <tr>\n",
       "      <th>0</th>\n",
       "      <td>Sizes\\nFind your size\\n3\\n3.5\\n4\\n4.5\\n5\\n5.5\\...</td>\n",
       "      <td>Dove Grey S20 / Grey Six / Orange Rush</td>\n",
       "      <td>Product code: GA0899</td>\n",
       "    </tr>\n",
       "  </tbody>\n",
       "</table>\n",
       "</div>"
      ],
      "text/plain": [
       "                                      Count_of_sizes  \\\n",
       "0  Sizes\\nFind your size\\n3\\n3.5\\n4\\n4.5\\n5\\n5.5\\...   \n",
       "\n",
       "                           Type_of_colors            Style code  \n",
       "0  Dove Grey S20 / Grey Six / Orange Rush  Product code: GA0899  "
      ]
     },
     "execution_count": 835,
     "metadata": {},
     "output_type": "execute_result"
    }
   ],
   "source": [
    "import pandas as pd\n",
    "df73=pd.DataFrame({'Count_of_sizes':Count_of_sizes,'Type_of_colors':Type_of_colors,'Style code':Style_code})\n",
    "df73"
   ]
  },
  {
   "cell_type": "code",
   "execution_count": 836,
   "id": "32af94f4-03ea-4fb1-b4cf-a5a46f595d0b",
   "metadata": {
    "tags": []
   },
   "outputs": [],
   "source": [
    "search_keyword = driver.find_element(By.XPATH, '//*[@id=\"app\"]/div/div[1]/div[1]/div/div/div[1]/div/header/div[2]/div/div[2]/div/input')\n",
    "search_keyword.clear()\n",
    "search_keyword.send_keys('Shoes Men')"
   ]
  },
  {
   "cell_type": "code",
   "execution_count": 837,
   "id": "216b2ae4-9a86-4b91-b97e-358698d844ca",
   "metadata": {
    "tags": []
   },
   "outputs": [],
   "source": [
    "search_keyword = driver.find_element(By.XPATH, '//*[@id=\"app\"]/div/div[1]/div[1]/div/div/div[1]/div/header/div[2]/div/div[2]/div/div[2]/div/div[1]/div[2]/a[2]/div[1]')\n",
    "search_keyword.click()"
   ]
  },
  {
   "cell_type": "code",
   "execution_count": 838,
   "id": "f1c391ea-86bd-4c8e-ac86-977a1e12d5cb",
   "metadata": {
    "tags": []
   },
   "outputs": [],
   "source": [
    "search_keyword = driver.find_element(By.XPATH, '//*[@id=\"main-content\"]/div/div[3]/div/div/div[2]/div[1]/div/div[14]/div/div/div/div/div/div')\n",
    "search_keyword.click()"
   ]
  },
  {
   "cell_type": "code",
   "execution_count": 839,
   "id": "c969c843-30a5-48a5-aff4-bf00cc5a2e23",
   "metadata": {
    "tags": []
   },
   "outputs": [],
   "source": [
    "Type_of_colors = []\n",
    "Style_code = []"
   ]
  },
  {
   "cell_type": "code",
   "execution_count": 840,
   "id": "8e19b3be-a8ae-4f8f-a5f2-b31de5b0ce5d",
   "metadata": {
    "tags": []
   },
   "outputs": [],
   "source": [
    "title_tags=driver.find_elements(By.CLASS_NAME, 'single-color-label___29kFh')\n",
    "for i in title_tags[0:23]:\n",
    "    title=i.text\n",
    "    Type_of_colors.append(title)"
   ]
  },
  {
   "cell_type": "code",
   "execution_count": 841,
   "id": "3e02a512-992c-4f67-9fc9-2b714c7da422",
   "metadata": {
    "tags": []
   },
   "outputs": [],
   "source": [
    "title_tags=driver.find_elements(By.XPATH, '//*[@id=\"navigation-target-specifications\"]/div/div/div/div[1]/ul[2]/li[4]')\n",
    "for i in title_tags[0:1]:\n",
    "    title=i.text\n",
    "    Style_code.append(title)"
   ]
  },
  {
   "cell_type": "code",
   "execution_count": 842,
   "id": "e8412b79-0646-4724-b133-c8c394e69272",
   "metadata": {
    "tags": []
   },
   "outputs": [
    {
     "name": "stdout",
     "output_type": "stream",
     "text": [
      "1 1\n"
     ]
    }
   ],
   "source": [
    "print(len(Type_of_colors), len(Style_code))"
   ]
  },
  {
   "cell_type": "code",
   "execution_count": 843,
   "id": "f7c2a9db-be3d-4c3a-83c6-b9ab76b7fa0c",
   "metadata": {
    "tags": []
   },
   "outputs": [
    {
     "data": {
      "text/html": [
       "<div>\n",
       "<style scoped>\n",
       "    .dataframe tbody tr th:only-of-type {\n",
       "        vertical-align: middle;\n",
       "    }\n",
       "\n",
       "    .dataframe tbody tr th {\n",
       "        vertical-align: top;\n",
       "    }\n",
       "\n",
       "    .dataframe thead th {\n",
       "        text-align: right;\n",
       "    }\n",
       "</style>\n",
       "<table border=\"1\" class=\"dataframe\">\n",
       "  <thead>\n",
       "    <tr style=\"text-align: right;\">\n",
       "      <th></th>\n",
       "      <th>Count_of_sizes</th>\n",
       "      <th>Type_of_colors</th>\n",
       "      <th>Style code</th>\n",
       "    </tr>\n",
       "  </thead>\n",
       "  <tbody>\n",
       "    <tr>\n",
       "      <th>0</th>\n",
       "      <td>Sizes\\nFind your size\\n3\\n3.5\\n4\\n4.5\\n5\\n5.5\\...</td>\n",
       "      <td>Tech Onix / Dove Grey S20 / Bright Orange</td>\n",
       "      <td>Product code: CM4822</td>\n",
       "    </tr>\n",
       "  </tbody>\n",
       "</table>\n",
       "</div>"
      ],
      "text/plain": [
       "                                      Count_of_sizes  \\\n",
       "0  Sizes\\nFind your size\\n3\\n3.5\\n4\\n4.5\\n5\\n5.5\\...   \n",
       "\n",
       "                              Type_of_colors            Style code  \n",
       "0  Tech Onix / Dove Grey S20 / Bright Orange  Product code: CM4822  "
      ]
     },
     "execution_count": 843,
     "metadata": {},
     "output_type": "execute_result"
    }
   ],
   "source": [
    "import pandas as pd\n",
    "df74=pd.DataFrame({'Count_of_sizes':Count_of_sizes,'Type_of_colors':Type_of_colors,'Style code':Style_code})\n",
    "df74"
   ]
  },
  {
   "cell_type": "code",
   "execution_count": 844,
   "id": "9cf136a6-ed5a-4035-a9a4-9554bef3858d",
   "metadata": {
    "tags": []
   },
   "outputs": [],
   "source": [
    "search_keyword = driver.find_element(By.XPATH, '//*[@id=\"app\"]/div/div[1]/div[1]/div/div/div[1]/div/header/div[2]/div/div[2]/div/input')\n",
    "search_keyword.clear()\n",
    "search_keyword.send_keys('Shoes Men')"
   ]
  },
  {
   "cell_type": "code",
   "execution_count": 845,
   "id": "830358e9-392b-4989-acd6-e14a3e013bb9",
   "metadata": {
    "tags": []
   },
   "outputs": [],
   "source": [
    "search_keyword = driver.find_element(By.XPATH, '//*[@id=\"app\"]/div/div[1]/div[1]/div/div/div[1]/div/header/div[2]/div/div[2]/div/div[2]/div/div[1]/div[2]/a[2]/div[1]')\n",
    "search_keyword.click()"
   ]
  },
  {
   "cell_type": "code",
   "execution_count": 848,
   "id": "73837244-0711-46f6-9f01-c630dabd245e",
   "metadata": {
    "tags": []
   },
   "outputs": [],
   "source": [
    "search_keyword = driver.find_element(By.XPATH, '//*[@id=\"main-content\"]/div/div[3]/div/div/div[2]/div[1]/div/div[15]/div/div/div/div/div/div')\n",
    "search_keyword.click()"
   ]
  },
  {
   "cell_type": "code",
   "execution_count": 849,
   "id": "659873fe-ff03-4694-85fb-a86c441c6305",
   "metadata": {
    "tags": []
   },
   "outputs": [],
   "source": [
    "Type_of_colors = []\n",
    "Style_code = []"
   ]
  },
  {
   "cell_type": "code",
   "execution_count": 850,
   "id": "f28a4bd5-668d-4bed-9b7f-e8a8a9fca47e",
   "metadata": {
    "tags": []
   },
   "outputs": [],
   "source": [
    "title_tags=driver.find_elements(By.CLASS_NAME, 'color-label___2hXaD')\n",
    "for i in title_tags[0:23]:\n",
    "    title=i.text\n",
    "    Type_of_colors.append(title)"
   ]
  },
  {
   "cell_type": "code",
   "execution_count": 851,
   "id": "08ebef3f-97b2-4924-aebd-b39b814368aa",
   "metadata": {
    "tags": []
   },
   "outputs": [],
   "source": [
    "title_tags=driver.find_elements(By.XPATH, '//*[@id=\"navigation-target-specifications\"]/div/div/div/div[1]/ul[2]/li[4]')\n",
    "for i in title_tags[0:1]:\n",
    "    title=i.text\n",
    "    Style_code.append(title)"
   ]
  },
  {
   "cell_type": "code",
   "execution_count": 852,
   "id": "ed9a9600-bf36-45f6-9713-f24583845015",
   "metadata": {
    "tags": []
   },
   "outputs": [
    {
     "name": "stdout",
     "output_type": "stream",
     "text": [
      "1 1\n"
     ]
    }
   ],
   "source": [
    "print(len(Type_of_colors), len(Style_code))"
   ]
  },
  {
   "cell_type": "code",
   "execution_count": 853,
   "id": "eb3271d1-f231-457f-b3da-25d6a67c8164",
   "metadata": {
    "tags": []
   },
   "outputs": [
    {
     "data": {
      "text/html": [
       "<div>\n",
       "<style scoped>\n",
       "    .dataframe tbody tr th:only-of-type {\n",
       "        vertical-align: middle;\n",
       "    }\n",
       "\n",
       "    .dataframe tbody tr th {\n",
       "        vertical-align: top;\n",
       "    }\n",
       "\n",
       "    .dataframe thead th {\n",
       "        text-align: right;\n",
       "    }\n",
       "</style>\n",
       "<table border=\"1\" class=\"dataframe\">\n",
       "  <thead>\n",
       "    <tr style=\"text-align: right;\">\n",
       "      <th></th>\n",
       "      <th>Count_of_sizes</th>\n",
       "      <th>Type_of_colors</th>\n",
       "      <th>Style code</th>\n",
       "    </tr>\n",
       "  </thead>\n",
       "  <tbody>\n",
       "    <tr>\n",
       "      <th>0</th>\n",
       "      <td>Sizes\\nFind your size\\n3\\n3.5\\n4\\n4.5\\n5\\n5.5\\...</td>\n",
       "      <td>Cloud White / Core Black / Cloud White</td>\n",
       "      <td>Product code: GW9195</td>\n",
       "    </tr>\n",
       "  </tbody>\n",
       "</table>\n",
       "</div>"
      ],
      "text/plain": [
       "                                      Count_of_sizes  \\\n",
       "0  Sizes\\nFind your size\\n3\\n3.5\\n4\\n4.5\\n5\\n5.5\\...   \n",
       "\n",
       "                           Type_of_colors            Style code  \n",
       "0  Cloud White / Core Black / Cloud White  Product code: GW9195  "
      ]
     },
     "execution_count": 853,
     "metadata": {},
     "output_type": "execute_result"
    }
   ],
   "source": [
    "import pandas as pd\n",
    "df75=pd.DataFrame({'Count_of_sizes':Count_of_sizes,'Type_of_colors':Type_of_colors,'Style code':Style_code})\n",
    "df75"
   ]
  },
  {
   "cell_type": "code",
   "execution_count": 854,
   "id": "e903aa54-9075-4a1e-855b-eedb6c07a747",
   "metadata": {
    "tags": []
   },
   "outputs": [],
   "source": [
    "search_keyword = driver.find_element(By.XPATH, '//*[@id=\"app\"]/div/div[1]/div[1]/div/div/div[1]/div/header/div[2]/div/div[2]/div/input')\n",
    "search_keyword.clear()\n",
    "search_keyword.send_keys('Shoes Men')"
   ]
  },
  {
   "cell_type": "code",
   "execution_count": 855,
   "id": "f3b2ff94-8629-4521-aa9d-78bcfc2a0abb",
   "metadata": {
    "tags": []
   },
   "outputs": [],
   "source": [
    "search_keyword = driver.find_element(By.XPATH, '//*[@id=\"app\"]/div/div[1]/div[1]/div/div/div[1]/div/header/div[2]/div/div[2]/div/div[2]/div/div[1]/div[2]/a[2]/div[1]')\n",
    "search_keyword.click()"
   ]
  },
  {
   "cell_type": "code",
   "execution_count": 856,
   "id": "8873fa8b-fd00-4e0b-aca5-a9c6793a9baa",
   "metadata": {
    "tags": []
   },
   "outputs": [],
   "source": [
    "search_keyword = driver.find_element(By.XPATH, '//*[@id=\"main-content\"]/div/div[3]/div/div/div[2]/div[1]/div/div[16]/div/div/div/div/div/div')\n",
    "search_keyword.click()"
   ]
  },
  {
   "cell_type": "code",
   "execution_count": 862,
   "id": "6871483d-4d29-41d8-8e40-36125abafba7",
   "metadata": {
    "tags": []
   },
   "outputs": [],
   "source": [
    "Type_of_colors = []\n",
    "Style_code = []"
   ]
  },
  {
   "cell_type": "code",
   "execution_count": 863,
   "id": "1c2ff6f0-8066-4765-9502-a4c5143c1f7b",
   "metadata": {
    "tags": []
   },
   "outputs": [],
   "source": [
    "title_tags=driver.find_elements(By.CLASS_NAME, 'color-label___2hXaD')\n",
    "for i in title_tags[0:23]:\n",
    "    title=i.text\n",
    "    Type_of_colors.append(title)"
   ]
  },
  {
   "cell_type": "code",
   "execution_count": 864,
   "id": "78937593-bb6a-419a-8bc2-3ace6898b2ac",
   "metadata": {
    "tags": []
   },
   "outputs": [],
   "source": [
    "title_tags=driver.find_elements(By.XPATH, '//*[@id=\"navigation-target-specifications\"]/div/div/div/div[1]/ul[2]/li[5]')\n",
    "for i in title_tags[0:1]:\n",
    "    title=i.text\n",
    "    Style_code.append(title)"
   ]
  },
  {
   "cell_type": "code",
   "execution_count": 865,
   "id": "f90cfb24-8eff-40ed-a664-785ff45d79e8",
   "metadata": {
    "tags": []
   },
   "outputs": [
    {
     "name": "stdout",
     "output_type": "stream",
     "text": [
      "1 1\n"
     ]
    }
   ],
   "source": [
    "print(len(Type_of_colors), len(Style_code))"
   ]
  },
  {
   "cell_type": "code",
   "execution_count": 866,
   "id": "afc9bc4a-3960-4c91-8d35-b13daa92bc54",
   "metadata": {
    "tags": []
   },
   "outputs": [
    {
     "data": {
      "text/html": [
       "<div>\n",
       "<style scoped>\n",
       "    .dataframe tbody tr th:only-of-type {\n",
       "        vertical-align: middle;\n",
       "    }\n",
       "\n",
       "    .dataframe tbody tr th {\n",
       "        vertical-align: top;\n",
       "    }\n",
       "\n",
       "    .dataframe thead th {\n",
       "        text-align: right;\n",
       "    }\n",
       "</style>\n",
       "<table border=\"1\" class=\"dataframe\">\n",
       "  <thead>\n",
       "    <tr style=\"text-align: right;\">\n",
       "      <th></th>\n",
       "      <th>Count_of_sizes</th>\n",
       "      <th>Type_of_colors</th>\n",
       "      <th>Style code</th>\n",
       "    </tr>\n",
       "  </thead>\n",
       "  <tbody>\n",
       "    <tr>\n",
       "      <th>0</th>\n",
       "      <td>Sizes\\nFind your size\\n3\\n3.5\\n4\\n4.5\\n5\\n5.5\\...</td>\n",
       "      <td>Core Black / Better Scarlet / Cloud White</td>\n",
       "      <td>Product code: HP9014</td>\n",
       "    </tr>\n",
       "  </tbody>\n",
       "</table>\n",
       "</div>"
      ],
      "text/plain": [
       "                                      Count_of_sizes  \\\n",
       "0  Sizes\\nFind your size\\n3\\n3.5\\n4\\n4.5\\n5\\n5.5\\...   \n",
       "\n",
       "                              Type_of_colors            Style code  \n",
       "0  Core Black / Better Scarlet / Cloud White  Product code: HP9014  "
      ]
     },
     "execution_count": 866,
     "metadata": {},
     "output_type": "execute_result"
    }
   ],
   "source": [
    "import pandas as pd\n",
    "df76=pd.DataFrame({'Count_of_sizes':Count_of_sizes,'Type_of_colors':Type_of_colors,'Style code':Style_code})\n",
    "df76"
   ]
  },
  {
   "cell_type": "code",
   "execution_count": null,
   "id": "11c5c88d-935e-4501-adb2-04382cb6f288",
   "metadata": {},
   "outputs": [],
   "source": [
    "search_keyword = driver.find_element(By.XPATH, '//*[@id=\"app\"]/div/div[1]/div[1]/div/div/div[1]/div/header/div[2]/div/div[2]/div/input')\n",
    "search_keyword.clear()\n",
    "search_keyword.send_keys('Shoes Men')"
   ]
  },
  {
   "cell_type": "code",
   "execution_count": null,
   "id": "c6b42cf5-0563-4183-a1e2-5eaecbc9e7cf",
   "metadata": {},
   "outputs": [],
   "source": [
    "search_keyword = driver.find_element(By.XPATH, '//*[@id=\"app\"]/div/div[1]/div[1]/div/div/div[1]/div/header/div[2]/div/div[2]/div/div[2]/div/div[1]/div[2]/a[2]/div[1]')\n",
    "search_keyword.click()"
   ]
  },
  {
   "cell_type": "code",
   "execution_count": 871,
   "id": "2ccac179-f335-4733-877c-eb3893552c18",
   "metadata": {
    "tags": []
   },
   "outputs": [],
   "source": [
    "search_keyword = driver.find_element(By.XPATH, '//*[@id=\"main-content\"]/div/div[3]/div/div/div[2]/div[1]/div/div[17]/div/div/div/div/div/div')\n",
    "search_keyword.click()"
   ]
  },
  {
   "cell_type": "code",
   "execution_count": 876,
   "id": "1064c840-d0fd-4750-8aa9-8870cb966b80",
   "metadata": {
    "tags": []
   },
   "outputs": [],
   "source": [
    "Type_of_colors = []\n",
    "Style_code = []"
   ]
  },
  {
   "cell_type": "code",
   "execution_count": 877,
   "id": "a8505469-f6db-4d53-9b26-4279678bc08b",
   "metadata": {
    "tags": []
   },
   "outputs": [],
   "source": [
    "title_tags=driver.find_elements(By.CLASS_NAME, 'color-label___2hXaD')\n",
    "for i in title_tags[0:23]:\n",
    "    title=i.text\n",
    "    Type_of_colors.append(title)"
   ]
  },
  {
   "cell_type": "code",
   "execution_count": 878,
   "id": "58057751-242f-4ebb-9fce-45250680da1b",
   "metadata": {
    "tags": []
   },
   "outputs": [],
   "source": [
    "title_tags=driver.find_elements(By.XPATH, '//*[@id=\"navigation-target-specifications\"]/div/div/div/div[1]/ul[2]/li[4]')\n",
    "for i in title_tags[0:1]:\n",
    "    title=i.text\n",
    "    Style_code.append(title)"
   ]
  },
  {
   "cell_type": "code",
   "execution_count": 879,
   "id": "6b526783-15e3-4393-af7c-cad9ce6f26e1",
   "metadata": {
    "tags": []
   },
   "outputs": [
    {
     "name": "stdout",
     "output_type": "stream",
     "text": [
      "1 1\n"
     ]
    }
   ],
   "source": [
    "print(len(Type_of_colors), len(Style_code))"
   ]
  },
  {
   "cell_type": "code",
   "execution_count": 880,
   "id": "d5cc51df-6f2f-4436-98fb-2b0589f37685",
   "metadata": {
    "tags": []
   },
   "outputs": [
    {
     "data": {
      "text/html": [
       "<div>\n",
       "<style scoped>\n",
       "    .dataframe tbody tr th:only-of-type {\n",
       "        vertical-align: middle;\n",
       "    }\n",
       "\n",
       "    .dataframe tbody tr th {\n",
       "        vertical-align: top;\n",
       "    }\n",
       "\n",
       "    .dataframe thead th {\n",
       "        text-align: right;\n",
       "    }\n",
       "</style>\n",
       "<table border=\"1\" class=\"dataframe\">\n",
       "  <thead>\n",
       "    <tr style=\"text-align: right;\">\n",
       "      <th></th>\n",
       "      <th>Count_of_sizes</th>\n",
       "      <th>Type_of_colors</th>\n",
       "      <th>Style code</th>\n",
       "    </tr>\n",
       "  </thead>\n",
       "  <tbody>\n",
       "    <tr>\n",
       "      <th>0</th>\n",
       "      <td>Sizes\\nFind your size\\n3\\n3.5\\n4\\n4.5\\n5\\n5.5\\...</td>\n",
       "      <td>Light Solid Grey / Light Solid Grey / Bold Gold</td>\n",
       "      <td>Product code: GY7479</td>\n",
       "    </tr>\n",
       "  </tbody>\n",
       "</table>\n",
       "</div>"
      ],
      "text/plain": [
       "                                      Count_of_sizes  \\\n",
       "0  Sizes\\nFind your size\\n3\\n3.5\\n4\\n4.5\\n5\\n5.5\\...   \n",
       "\n",
       "                                    Type_of_colors            Style code  \n",
       "0  Light Solid Grey / Light Solid Grey / Bold Gold  Product code: GY7479  "
      ]
     },
     "execution_count": 880,
     "metadata": {},
     "output_type": "execute_result"
    }
   ],
   "source": [
    "import pandas as pd\n",
    "df77=pd.DataFrame({'Count_of_sizes':Count_of_sizes,'Type_of_colors':Type_of_colors,'Style code':Style_code})\n",
    "df77"
   ]
  },
  {
   "cell_type": "code",
   "execution_count": 881,
   "id": "b22544a3-9ebb-4fbf-baf5-b35d63be7adc",
   "metadata": {
    "tags": []
   },
   "outputs": [],
   "source": [
    "search_keyword = driver.find_element(By.XPATH, '//*[@id=\"app\"]/div/div[1]/div[1]/div/div/div[1]/div/header/div[2]/div/div[2]/div/input')\n",
    "search_keyword.clear()\n",
    "search_keyword.send_keys('Shoes Men')"
   ]
  },
  {
   "cell_type": "code",
   "execution_count": 883,
   "id": "132822cf-ed3d-4ad7-929a-c30c456c1d84",
   "metadata": {
    "tags": []
   },
   "outputs": [],
   "source": [
    "search_keyword = driver.find_element(By.XPATH, '//*[@id=\"app\"]/div/div[1]/div[1]/div/div/div[1]/div/header/div[2]/div/div[2]/div/div[2]/div/div[1]/div[2]/a[2]/div[1]')\n",
    "search_keyword.click()"
   ]
  },
  {
   "cell_type": "code",
   "execution_count": 884,
   "id": "b8f58764-105a-4d8e-9edc-31dfb00d1b9c",
   "metadata": {
    "tags": []
   },
   "outputs": [],
   "source": [
    "search_keyword = driver.find_element(By.XPATH, '//*[@id=\"main-content\"]/div/div[3]/div/div/div[2]/div[1]/div/div[18]/div/div/div/div/div/div')\n",
    "search_keyword.click()"
   ]
  },
  {
   "cell_type": "code",
   "execution_count": 891,
   "id": "36bdde55-16f2-4b9d-8cf6-951ba52cc43e",
   "metadata": {
    "tags": []
   },
   "outputs": [],
   "source": [
    "Type_of_colors = []\n",
    "Style_code = []"
   ]
  },
  {
   "cell_type": "code",
   "execution_count": 892,
   "id": "9230a7ff-620b-4504-a48a-31a6ce3b2e23",
   "metadata": {
    "tags": []
   },
   "outputs": [],
   "source": [
    "title_tags=driver.find_elements(By.CLASS_NAME, 'color-label___2hXaD')\n",
    "for i in title_tags[0:23]:\n",
    "    title=i.text\n",
    "    Type_of_colors.append(title)"
   ]
  },
  {
   "cell_type": "code",
   "execution_count": 893,
   "id": "d73db780-31c3-4065-9654-0c99b53417ec",
   "metadata": {
    "tags": []
   },
   "outputs": [],
   "source": [
    "title_tags=driver.find_elements(By.XPATH, '//*[@id=\"navigation-target-specifications\"]/div/div/div/div[1]/ul[2]/li[3]')\n",
    "for i in title_tags[0:1]:\n",
    "    title=i.text\n",
    "    Style_code.append(title)"
   ]
  },
  {
   "cell_type": "code",
   "execution_count": 894,
   "id": "fce7b044-6451-4b8b-820d-ff591260402b",
   "metadata": {
    "tags": []
   },
   "outputs": [
    {
     "name": "stdout",
     "output_type": "stream",
     "text": [
      "1 1\n"
     ]
    }
   ],
   "source": [
    "print(len(Type_of_colors), len(Style_code))"
   ]
  },
  {
   "cell_type": "code",
   "execution_count": 895,
   "id": "3dbfa0bb-d094-4b5f-b889-93891913a23d",
   "metadata": {
    "tags": []
   },
   "outputs": [
    {
     "data": {
      "text/html": [
       "<div>\n",
       "<style scoped>\n",
       "    .dataframe tbody tr th:only-of-type {\n",
       "        vertical-align: middle;\n",
       "    }\n",
       "\n",
       "    .dataframe tbody tr th {\n",
       "        vertical-align: top;\n",
       "    }\n",
       "\n",
       "    .dataframe thead th {\n",
       "        text-align: right;\n",
       "    }\n",
       "</style>\n",
       "<table border=\"1\" class=\"dataframe\">\n",
       "  <thead>\n",
       "    <tr style=\"text-align: right;\">\n",
       "      <th></th>\n",
       "      <th>Count_of_sizes</th>\n",
       "      <th>Type_of_colors</th>\n",
       "      <th>Style code</th>\n",
       "    </tr>\n",
       "  </thead>\n",
       "  <tbody>\n",
       "    <tr>\n",
       "      <th>0</th>\n",
       "      <td>Sizes\\nFind your size\\n3\\n3.5\\n4\\n4.5\\n5\\n5.5\\...</td>\n",
       "      <td>Collegiate Navy / Semi Impact Orange / Cloud W...</td>\n",
       "      <td>Product code: GC0911</td>\n",
       "    </tr>\n",
       "  </tbody>\n",
       "</table>\n",
       "</div>"
      ],
      "text/plain": [
       "                                      Count_of_sizes  \\\n",
       "0  Sizes\\nFind your size\\n3\\n3.5\\n4\\n4.5\\n5\\n5.5\\...   \n",
       "\n",
       "                                      Type_of_colors            Style code  \n",
       "0  Collegiate Navy / Semi Impact Orange / Cloud W...  Product code: GC0911  "
      ]
     },
     "execution_count": 895,
     "metadata": {},
     "output_type": "execute_result"
    }
   ],
   "source": [
    "import pandas as pd\n",
    "df78=pd.DataFrame({'Count_of_sizes':Count_of_sizes,'Type_of_colors':Type_of_colors,'Style code':Style_code})\n",
    "df78"
   ]
  },
  {
   "cell_type": "code",
   "execution_count": 896,
   "id": "da62398b-2a00-4b26-a61a-9ea33119a227",
   "metadata": {
    "tags": []
   },
   "outputs": [],
   "source": [
    "search_keyword = driver.find_element(By.XPATH, '//*[@id=\"app\"]/div/div[1]/div[1]/div/div/div[1]/div/header/div[2]/div/div[2]/div/input')\n",
    "search_keyword.clear()\n",
    "search_keyword.send_keys('Shoes Men')"
   ]
  },
  {
   "cell_type": "code",
   "execution_count": 897,
   "id": "356a4cac-f3aa-47c7-8f0c-758c62869459",
   "metadata": {
    "tags": []
   },
   "outputs": [],
   "source": [
    "search_keyword = driver.find_element(By.XPATH, '//*[@id=\"app\"]/div/div[1]/div[1]/div/div/div[1]/div/header/div[2]/div/div[2]/div/div[2]/div/div[1]/div[2]/a[2]/div[1]')\n",
    "search_keyword.click()"
   ]
  },
  {
   "cell_type": "code",
   "execution_count": 898,
   "id": "c9000290-f56e-478e-b915-0640fa077538",
   "metadata": {
    "tags": []
   },
   "outputs": [],
   "source": [
    "search_keyword = driver.find_element(By.XPATH, '//*[@id=\"main-content\"]/div/div[3]/div/div/div[2]/div[1]/div/div[19]/div/div/div/div/div/div')\n",
    "search_keyword.click()"
   ]
  },
  {
   "cell_type": "code",
   "execution_count": 899,
   "id": "aa844457-2fac-4262-84bb-7009840accc7",
   "metadata": {
    "tags": []
   },
   "outputs": [],
   "source": [
    "Type_of_colors = []\n",
    "Style_code = []"
   ]
  },
  {
   "cell_type": "code",
   "execution_count": 900,
   "id": "73782e23-4370-4720-a3c0-0ad2ba3af871",
   "metadata": {
    "tags": []
   },
   "outputs": [],
   "source": [
    "title_tags=driver.find_elements(By.CLASS_NAME, 'color-label___2hXaD')\n",
    "for i in title_tags[0:23]:\n",
    "    title=i.text\n",
    "    Type_of_colors.append(title)"
   ]
  },
  {
   "cell_type": "code",
   "execution_count": 901,
   "id": "b744d63c-1f47-492a-abc6-9d674aa56a22",
   "metadata": {
    "tags": []
   },
   "outputs": [],
   "source": [
    "title_tags=driver.find_elements(By.XPATH, '//*[@id=\"navigation-target-specifications\"]/div/div/div/div[1]/ul[2]/li[5]')\n",
    "for i in title_tags[0:1]:\n",
    "    title=i.text\n",
    "    Style_code.append(title)"
   ]
  },
  {
   "cell_type": "code",
   "execution_count": 902,
   "id": "214fac4a-b3ab-4e33-9bc8-239052d0dddd",
   "metadata": {
    "tags": []
   },
   "outputs": [
    {
     "name": "stdout",
     "output_type": "stream",
     "text": [
      "1 1\n"
     ]
    }
   ],
   "source": [
    "print(len(Type_of_colors), len(Style_code))"
   ]
  },
  {
   "cell_type": "code",
   "execution_count": 903,
   "id": "fbaf752f-96de-40ad-9e89-58512eed8946",
   "metadata": {
    "tags": []
   },
   "outputs": [
    {
     "data": {
      "text/html": [
       "<div>\n",
       "<style scoped>\n",
       "    .dataframe tbody tr th:only-of-type {\n",
       "        vertical-align: middle;\n",
       "    }\n",
       "\n",
       "    .dataframe tbody tr th {\n",
       "        vertical-align: top;\n",
       "    }\n",
       "\n",
       "    .dataframe thead th {\n",
       "        text-align: right;\n",
       "    }\n",
       "</style>\n",
       "<table border=\"1\" class=\"dataframe\">\n",
       "  <thead>\n",
       "    <tr style=\"text-align: right;\">\n",
       "      <th></th>\n",
       "      <th>Count_of_sizes</th>\n",
       "      <th>Type_of_colors</th>\n",
       "      <th>Style code</th>\n",
       "    </tr>\n",
       "  </thead>\n",
       "  <tbody>\n",
       "    <tr>\n",
       "      <th>0</th>\n",
       "      <td>Sizes\\nFind your size\\n3\\n3.5\\n4\\n4.5\\n5\\n5.5\\...</td>\n",
       "      <td>Legend Ink / Legend Ink / Shadow Navy</td>\n",
       "      <td>Product code: HP2677</td>\n",
       "    </tr>\n",
       "  </tbody>\n",
       "</table>\n",
       "</div>"
      ],
      "text/plain": [
       "                                      Count_of_sizes  \\\n",
       "0  Sizes\\nFind your size\\n3\\n3.5\\n4\\n4.5\\n5\\n5.5\\...   \n",
       "\n",
       "                          Type_of_colors            Style code  \n",
       "0  Legend Ink / Legend Ink / Shadow Navy  Product code: HP2677  "
      ]
     },
     "execution_count": 903,
     "metadata": {},
     "output_type": "execute_result"
    }
   ],
   "source": [
    "import pandas as pd\n",
    "df79=pd.DataFrame({'Count_of_sizes':Count_of_sizes,'Type_of_colors':Type_of_colors,'Style code':Style_code})\n",
    "df79"
   ]
  },
  {
   "cell_type": "code",
   "execution_count": 904,
   "id": "e197f6ba-31bf-4486-9817-2f957ebd62bf",
   "metadata": {
    "tags": []
   },
   "outputs": [],
   "source": [
    "search_keyword = driver.find_element(By.XPATH, '//*[@id=\"app\"]/div/div[1]/div[1]/div/div/div[1]/div/header/div[2]/div/div[2]/div/input')\n",
    "search_keyword.clear()\n",
    "search_keyword.send_keys('Shoes Men')"
   ]
  },
  {
   "cell_type": "code",
   "execution_count": 905,
   "id": "7fe2c226-0682-46dd-8fc5-366f329b519e",
   "metadata": {
    "tags": []
   },
   "outputs": [],
   "source": [
    "search_keyword = driver.find_element(By.XPATH, '//*[@id=\"app\"]/div/div[1]/div[1]/div/div/div[1]/div/header/div[2]/div/div[2]/div/div[2]/div/div[1]/div[2]/a[2]/div[1]')\n",
    "search_keyword.click()"
   ]
  },
  {
   "cell_type": "code",
   "execution_count": 906,
   "id": "d008c627-04be-41ed-8b19-9ba7a5e3092f",
   "metadata": {
    "tags": []
   },
   "outputs": [],
   "source": [
    "search_keyword = driver.find_element(By.XPATH, '//*[@id=\"main-content\"]/div/div[3]/div/div/div[2]/div[1]/div/div[20]/div/div/div/div/div/div')\n",
    "search_keyword.click()"
   ]
  },
  {
   "cell_type": "code",
   "execution_count": 907,
   "id": "6a5edfec-d691-4847-8c98-6d12068e0301",
   "metadata": {
    "tags": []
   },
   "outputs": [],
   "source": [
    "Type_of_colors = []\n",
    "Style_code = []"
   ]
  },
  {
   "cell_type": "code",
   "execution_count": 908,
   "id": "985024ae-8d8d-4a0d-bcd7-cedf1b8d2471",
   "metadata": {
    "tags": []
   },
   "outputs": [],
   "source": [
    "title_tags=driver.find_elements(By.CLASS_NAME, 'color-label___2hXaD')\n",
    "for i in title_tags[0:23]:\n",
    "    title=i.text\n",
    "    Type_of_colors.append(title)"
   ]
  },
  {
   "cell_type": "code",
   "execution_count": 909,
   "id": "654999a1-7c95-4ded-9985-61a72e0f863e",
   "metadata": {
    "tags": []
   },
   "outputs": [],
   "source": [
    "title_tags=driver.find_elements(By.XPATH, '//*[@id=\"navigation-target-specifications\"]/div/div/div/div[1]/ul[2]/li[4]')\n",
    "for i in title_tags[0:1]:\n",
    "    title=i.text\n",
    "    Style_code.append(title)"
   ]
  },
  {
   "cell_type": "code",
   "execution_count": 912,
   "id": "64d83861-ba68-4669-a2c5-303f4535ea33",
   "metadata": {
    "tags": []
   },
   "outputs": [],
   "source": [
    "search_keyword = driver.find_element(By.XPATH, '//*[@id=\"app\"]/div/div[1]/div[1]/div/div/div[1]/div/header/div[2]/div/div[2]/div/input')\n",
    "search_keyword.clear()\n",
    "search_keyword.send_keys('Shoes Men')"
   ]
  },
  {
   "cell_type": "code",
   "execution_count": 910,
   "id": "e7539635-8d18-4f9c-aec6-761c851e56fc",
   "metadata": {
    "tags": []
   },
   "outputs": [
    {
     "name": "stdout",
     "output_type": "stream",
     "text": [
      "1 1\n"
     ]
    }
   ],
   "source": [
    "print(len(Type_of_colors), len(Style_code))"
   ]
  },
  {
   "cell_type": "code",
   "execution_count": 911,
   "id": "76cd0d8e-9787-434d-8d8c-d0046feb458a",
   "metadata": {
    "tags": []
   },
   "outputs": [
    {
     "data": {
      "text/html": [
       "<div>\n",
       "<style scoped>\n",
       "    .dataframe tbody tr th:only-of-type {\n",
       "        vertical-align: middle;\n",
       "    }\n",
       "\n",
       "    .dataframe tbody tr th {\n",
       "        vertical-align: top;\n",
       "    }\n",
       "\n",
       "    .dataframe thead th {\n",
       "        text-align: right;\n",
       "    }\n",
       "</style>\n",
       "<table border=\"1\" class=\"dataframe\">\n",
       "  <thead>\n",
       "    <tr style=\"text-align: right;\">\n",
       "      <th></th>\n",
       "      <th>Count_of_sizes</th>\n",
       "      <th>Type_of_colors</th>\n",
       "      <th>Style code</th>\n",
       "    </tr>\n",
       "  </thead>\n",
       "  <tbody>\n",
       "    <tr>\n",
       "      <th>0</th>\n",
       "      <td>Sizes\\nFind your size\\n3\\n3.5\\n4\\n4.5\\n5\\n5.5\\...</td>\n",
       "      <td>Core Black / Dove Grey S20</td>\n",
       "      <td>Product code: GC0569</td>\n",
       "    </tr>\n",
       "  </tbody>\n",
       "</table>\n",
       "</div>"
      ],
      "text/plain": [
       "                                      Count_of_sizes  \\\n",
       "0  Sizes\\nFind your size\\n3\\n3.5\\n4\\n4.5\\n5\\n5.5\\...   \n",
       "\n",
       "               Type_of_colors            Style code  \n",
       "0  Core Black / Dove Grey S20  Product code: GC0569  "
      ]
     },
     "execution_count": 911,
     "metadata": {},
     "output_type": "execute_result"
    }
   ],
   "source": [
    "import pandas as pd\n",
    "df80=pd.DataFrame({'Count_of_sizes':Count_of_sizes,'Type_of_colors':Type_of_colors,'Style code':Style_code})\n",
    "df80"
   ]
  },
  {
   "cell_type": "code",
   "execution_count": 915,
   "id": "0e70655e-3a2c-4967-9e19-3719e145658e",
   "metadata": {
    "tags": []
   },
   "outputs": [],
   "source": [
    "search_keyword = driver.find_element(By.XPATH, '//*[@id=\"app\"]/div/div[1]/div[1]/div/div/div[1]/div/header/div[2]/div/div[2]/div/input')\n",
    "search_keyword.clear()\n",
    "search_keyword.send_keys('Shoes Men')"
   ]
  },
  {
   "cell_type": "code",
   "execution_count": 914,
   "id": "de667c76-da44-47c9-ad8b-3bda14ef9f01",
   "metadata": {
    "tags": []
   },
   "outputs": [],
   "source": [
    "search_keyword = driver.find_element(By.XPATH, '//*[@id=\"app\"]/div/div[1]/div[1]/div/div/div[1]/div/header/div[2]/div/div[2]/div/div[2]/div/div[1]/div[2]/a[2]/div[1]')\n",
    "search_keyword.click()"
   ]
  },
  {
   "cell_type": "code",
   "execution_count": null,
   "id": "6c917d51-7677-4852-90ab-980e41123977",
   "metadata": {},
   "outputs": [],
   "source": [
    "search_keyword = driver.find_element(By.XPATH, '//*[@id=\"main-content\"]/div/div[3]/div/div/div[2]/div[1]/div/div[21]/div/div/div/div/div/div')\n",
    "search_keyword.click()"
   ]
  },
  {
   "cell_type": "code",
   "execution_count": 916,
   "id": "acc5a48e-360f-408e-93e1-71d8c94504ed",
   "metadata": {
    "tags": []
   },
   "outputs": [],
   "source": [
    "Type_of_colors = []\n",
    "Style_code = []"
   ]
  },
  {
   "cell_type": "code",
   "execution_count": 917,
   "id": "68d3c1f1-61d2-4559-949b-63a705c7caa5",
   "metadata": {
    "tags": []
   },
   "outputs": [],
   "source": [
    "title_tags=driver.find_elements(By.CLASS_NAME, 'color-label___2hXaD')\n",
    "for i in title_tags[0:23]:\n",
    "    title=i.text\n",
    "    Type_of_colors.append(title)"
   ]
  },
  {
   "cell_type": "code",
   "execution_count": 918,
   "id": "f92225f7-2541-4aab-82b8-fb49674fd9fd",
   "metadata": {
    "tags": []
   },
   "outputs": [],
   "source": [
    "title_tags=driver.find_elements(By.XPATH, '//*[@id=\"navigation-target-specifications\"]/div/div/div/div[1]/ul[2]/li[3]')\n",
    "for i in title_tags[0:1]:\n",
    "    title=i.text\n",
    "    Style_code.append(title)"
   ]
  },
  {
   "cell_type": "code",
   "execution_count": 919,
   "id": "631b2176-40af-4a74-9057-0a3930eddb98",
   "metadata": {
    "tags": []
   },
   "outputs": [
    {
     "name": "stdout",
     "output_type": "stream",
     "text": [
      "1 1\n"
     ]
    }
   ],
   "source": [
    "print(len(Type_of_colors), len(Style_code))"
   ]
  },
  {
   "cell_type": "code",
   "execution_count": 920,
   "id": "559f7929-5060-4f29-86b4-6da60393dccf",
   "metadata": {
    "tags": []
   },
   "outputs": [
    {
     "data": {
      "text/html": [
       "<div>\n",
       "<style scoped>\n",
       "    .dataframe tbody tr th:only-of-type {\n",
       "        vertical-align: middle;\n",
       "    }\n",
       "\n",
       "    .dataframe tbody tr th {\n",
       "        vertical-align: top;\n",
       "    }\n",
       "\n",
       "    .dataframe thead th {\n",
       "        text-align: right;\n",
       "    }\n",
       "</style>\n",
       "<table border=\"1\" class=\"dataframe\">\n",
       "  <thead>\n",
       "    <tr style=\"text-align: right;\">\n",
       "      <th></th>\n",
       "      <th>Count_of_sizes</th>\n",
       "      <th>Type_of_colors</th>\n",
       "      <th>Style code</th>\n",
       "    </tr>\n",
       "  </thead>\n",
       "  <tbody>\n",
       "    <tr>\n",
       "      <th>0</th>\n",
       "      <td>Sizes\\nFind your size\\n3\\n3.5\\n4\\n4.5\\n5\\n5.5\\...</td>\n",
       "      <td>Core Black / Cloud White / Core Black</td>\n",
       "      <td>Product code: GY1945</td>\n",
       "    </tr>\n",
       "  </tbody>\n",
       "</table>\n",
       "</div>"
      ],
      "text/plain": [
       "                                      Count_of_sizes  \\\n",
       "0  Sizes\\nFind your size\\n3\\n3.5\\n4\\n4.5\\n5\\n5.5\\...   \n",
       "\n",
       "                          Type_of_colors            Style code  \n",
       "0  Core Black / Cloud White / Core Black  Product code: GY1945  "
      ]
     },
     "execution_count": 920,
     "metadata": {},
     "output_type": "execute_result"
    }
   ],
   "source": [
    "import pandas as pd\n",
    "df81=pd.DataFrame({'Count_of_sizes':Count_of_sizes,'Type_of_colors':Type_of_colors,'Style code':Style_code})\n",
    "df81"
   ]
  },
  {
   "cell_type": "code",
   "execution_count": null,
   "id": "417743a6-39d1-4b2a-b0d6-e33be1f04339",
   "metadata": {},
   "outputs": [],
   "source": [
    "search_keyword = driver.find_element(By.XPATH, '//*[@id=\"app\"]/div/div[1]/div[1]/div/div/div[1]/div/header/div[2]/div/div[2]/div/input')\n",
    "search_keyword.clear()\n",
    "search_keyword.send_keys('Shoes Men')"
   ]
  },
  {
   "cell_type": "code",
   "execution_count": null,
   "id": "4d8bbb98-1220-41ae-9b1d-8f3934b8a8b3",
   "metadata": {},
   "outputs": [],
   "source": [
    "search_keyword = driver.find_element(By.XPATH, '//*[@id=\"app\"]/div/div[1]/div[1]/div/div/div[1]/div/header/div[2]/div/div[2]/div/div[2]/div/div[1]/div[2]/a[2]/div[1]')\n",
    "search_keyword.click()"
   ]
  },
  {
   "cell_type": "code",
   "execution_count": 925,
   "id": "f3ef841c-fa41-4cf6-a4dc-9da467345933",
   "metadata": {
    "tags": []
   },
   "outputs": [],
   "source": [
    "search_keyword = driver.find_element(By.XPATH, '//*[@id=\"main-content\"]/div/div[3]/div/div/div[2]/div[1]/div/div[22]/div/div/div/div/div/div')\n",
    "search_keyword.click()"
   ]
  },
  {
   "cell_type": "code",
   "execution_count": 926,
   "id": "bbbe571e-22d2-4bc5-9f94-5dab82f87f67",
   "metadata": {
    "tags": []
   },
   "outputs": [],
   "source": [
    "Type_of_colors = []\n",
    "Style_code = []"
   ]
  },
  {
   "cell_type": "code",
   "execution_count": 927,
   "id": "9039f2e0-15fb-46d2-847d-cab1eeba8383",
   "metadata": {
    "tags": []
   },
   "outputs": [],
   "source": [
    "title_tags=driver.find_elements(By.CLASS_NAME, 'single-color-label___29kFh')\n",
    "for i in title_tags[0:23]:\n",
    "    title=i.text\n",
    "    Type_of_colors.append(title)"
   ]
  },
  {
   "cell_type": "code",
   "execution_count": 928,
   "id": "d39d28a8-1fcd-4785-a62d-3b768998bf04",
   "metadata": {
    "tags": []
   },
   "outputs": [],
   "source": [
    "title_tags=driver.find_elements(By.XPATH, '//*[@id=\"navigation-target-specifications\"]/div/div/div/div[1]/ul[2]/li[4]')\n",
    "for i in title_tags[0:1]:\n",
    "    title=i.text\n",
    "    Style_code.append(title)"
   ]
  },
  {
   "cell_type": "code",
   "execution_count": 929,
   "id": "cc1754fb-33f8-49cb-8dc5-7a94d1e9e03b",
   "metadata": {
    "tags": []
   },
   "outputs": [
    {
     "name": "stdout",
     "output_type": "stream",
     "text": [
      "1 1\n"
     ]
    }
   ],
   "source": [
    "print(len(Type_of_colors), len(Style_code))"
   ]
  },
  {
   "cell_type": "code",
   "execution_count": 930,
   "id": "d45a29d7-b573-4a20-b0a6-e5e55d5544c9",
   "metadata": {
    "tags": []
   },
   "outputs": [
    {
     "data": {
      "text/html": [
       "<div>\n",
       "<style scoped>\n",
       "    .dataframe tbody tr th:only-of-type {\n",
       "        vertical-align: middle;\n",
       "    }\n",
       "\n",
       "    .dataframe tbody tr th {\n",
       "        vertical-align: top;\n",
       "    }\n",
       "\n",
       "    .dataframe thead th {\n",
       "        text-align: right;\n",
       "    }\n",
       "</style>\n",
       "<table border=\"1\" class=\"dataframe\">\n",
       "  <thead>\n",
       "    <tr style=\"text-align: right;\">\n",
       "      <th></th>\n",
       "      <th>Count_of_sizes</th>\n",
       "      <th>Type_of_colors</th>\n",
       "      <th>Style code</th>\n",
       "    </tr>\n",
       "  </thead>\n",
       "  <tbody>\n",
       "    <tr>\n",
       "      <th>0</th>\n",
       "      <td>Sizes\\nFind your size\\n3\\n3.5\\n4\\n4.5\\n5\\n5.5\\...</td>\n",
       "      <td>Legend Ink / Cloud White / Legend Ink</td>\n",
       "      <td>Product code: GZ5892</td>\n",
       "    </tr>\n",
       "  </tbody>\n",
       "</table>\n",
       "</div>"
      ],
      "text/plain": [
       "                                      Count_of_sizes  \\\n",
       "0  Sizes\\nFind your size\\n3\\n3.5\\n4\\n4.5\\n5\\n5.5\\...   \n",
       "\n",
       "                          Type_of_colors            Style code  \n",
       "0  Legend Ink / Cloud White / Legend Ink  Product code: GZ5892  "
      ]
     },
     "execution_count": 930,
     "metadata": {},
     "output_type": "execute_result"
    }
   ],
   "source": [
    "import pandas as pd\n",
    "df82=pd.DataFrame({'Count_of_sizes':Count_of_sizes,'Type_of_colors':Type_of_colors,'Style code':Style_code})\n",
    "df82"
   ]
  },
  {
   "cell_type": "code",
   "execution_count": 931,
   "id": "6b56ffd4-182a-4f22-8a4c-304d2845b87a",
   "metadata": {
    "tags": []
   },
   "outputs": [],
   "source": [
    "search_keyword = driver.find_element(By.XPATH, '//*[@id=\"app\"]/div/div[1]/div[1]/div/div/div[1]/div/header/div[2]/div/div[2]/div/input')\n",
    "search_keyword.clear()\n",
    "search_keyword.send_keys('Shoes Men')"
   ]
  },
  {
   "cell_type": "code",
   "execution_count": 933,
   "id": "5a0a005b-ec6c-4b7f-bde3-ae44fde1a76d",
   "metadata": {
    "tags": []
   },
   "outputs": [],
   "source": [
    "search_keyword = driver.find_element(By.XPATH, '//*[@id=\"app\"]/div/div[1]/div[1]/div/div/div[1]/div/header/div[2]/div/div[2]/div/div[2]/div/div[1]/div[2]/a[2]/div[1]')\n",
    "search_keyword.click()"
   ]
  },
  {
   "cell_type": "code",
   "execution_count": 934,
   "id": "7be929ce-ded7-4564-9e02-dd0fd1fb525d",
   "metadata": {
    "tags": []
   },
   "outputs": [],
   "source": [
    "search_keyword = driver.find_element(By.XPATH, '//*[@id=\"main-content\"]/div/div[3]/div/div/div[2]/div[1]/div/div[23]/div/div/div/div/div/div')\n",
    "search_keyword.click()"
   ]
  },
  {
   "cell_type": "code",
   "execution_count": 935,
   "id": "e36810cf-5b11-4519-b5b2-8b919832b7fd",
   "metadata": {
    "tags": []
   },
   "outputs": [],
   "source": [
    "Type_of_colors = []\n",
    "Style_code = []"
   ]
  },
  {
   "cell_type": "code",
   "execution_count": 936,
   "id": "c365ebc2-45b1-492e-a3f9-fcf125770339",
   "metadata": {
    "tags": []
   },
   "outputs": [],
   "source": [
    "title_tags=driver.find_elements(By.CLASS_NAME, 'color-label___2hXaD')\n",
    "for i in title_tags[0:23]:\n",
    "    title=i.text\n",
    "    Type_of_colors.append(title)"
   ]
  },
  {
   "cell_type": "code",
   "execution_count": 937,
   "id": "2e550b76-8462-4bdb-bcf0-670ebf370693",
   "metadata": {
    "tags": []
   },
   "outputs": [],
   "source": [
    "title_tags=driver.find_elements(By.XPATH, '//*[@id=\"navigation-target-specifications\"]/div/div/div/div[1]/ul[2]/li[5]')\n",
    "for i in title_tags[0:1]:\n",
    "    title=i.text\n",
    "    Style_code.append(title)"
   ]
  },
  {
   "cell_type": "code",
   "execution_count": 938,
   "id": "e91a0218-4721-4023-b462-3a58844e062f",
   "metadata": {
    "tags": []
   },
   "outputs": [
    {
     "name": "stdout",
     "output_type": "stream",
     "text": [
      "1 1\n"
     ]
    }
   ],
   "source": [
    "print(len(Type_of_colors), len(Style_code))"
   ]
  },
  {
   "cell_type": "code",
   "execution_count": 939,
   "id": "755f95f7-71c5-4850-ab32-26af37045d8e",
   "metadata": {
    "tags": []
   },
   "outputs": [
    {
     "data": {
      "text/html": [
       "<div>\n",
       "<style scoped>\n",
       "    .dataframe tbody tr th:only-of-type {\n",
       "        vertical-align: middle;\n",
       "    }\n",
       "\n",
       "    .dataframe tbody tr th {\n",
       "        vertical-align: top;\n",
       "    }\n",
       "\n",
       "    .dataframe thead th {\n",
       "        text-align: right;\n",
       "    }\n",
       "</style>\n",
       "<table border=\"1\" class=\"dataframe\">\n",
       "  <thead>\n",
       "    <tr style=\"text-align: right;\">\n",
       "      <th></th>\n",
       "      <th>Count_of_sizes</th>\n",
       "      <th>Type_of_colors</th>\n",
       "      <th>Style code</th>\n",
       "    </tr>\n",
       "  </thead>\n",
       "  <tbody>\n",
       "    <tr>\n",
       "      <th>0</th>\n",
       "      <td>Sizes\\nFind your size\\n3\\n3.5\\n4\\n4.5\\n5\\n5.5\\...</td>\n",
       "      <td>Solar Red / Core Black / Lucid Blue</td>\n",
       "      <td>Product code: HP7634</td>\n",
       "    </tr>\n",
       "  </tbody>\n",
       "</table>\n",
       "</div>"
      ],
      "text/plain": [
       "                                      Count_of_sizes  \\\n",
       "0  Sizes\\nFind your size\\n3\\n3.5\\n4\\n4.5\\n5\\n5.5\\...   \n",
       "\n",
       "                        Type_of_colors            Style code  \n",
       "0  Solar Red / Core Black / Lucid Blue  Product code: HP7634  "
      ]
     },
     "execution_count": 939,
     "metadata": {},
     "output_type": "execute_result"
    }
   ],
   "source": [
    "import pandas as pd\n",
    "df83=pd.DataFrame({'Count_of_sizes':Count_of_sizes,'Type_of_colors':Type_of_colors,'Style code':Style_code})\n",
    "df83"
   ]
  },
  {
   "cell_type": "code",
   "execution_count": 101,
   "id": "a3dd655f-acaf-44bd-850d-c8de9a2d18c8",
   "metadata": {
    "tags": []
   },
   "outputs": [],
   "source": [
    "search_keyword = driver.find_element(By.XPATH, '//*[@id=\"app\"]/div/div[1]/div[1]/div/div/div[1]/div/header/div[2]/div/div[2]/div/input')\n",
    "search_keyword.clear()\n",
    "search_keyword.send_keys('Shoes Men')"
   ]
  },
  {
   "cell_type": "code",
   "execution_count": 102,
   "id": "ab48a91f-a701-479b-ac89-bdda0031dde2",
   "metadata": {
    "tags": []
   },
   "outputs": [],
   "source": [
    "search_keyword = driver.find_element(By.XPATH, '//*[@id=\"app\"]/div/div[1]/div[1]/div/div/div[1]/div/header/div[2]/div/div[2]/div/div[2]/div/div[1]/div[2]/a[2]/div[1]')\n",
    "search_keyword.click()"
   ]
  },
  {
   "cell_type": "code",
   "execution_count": 942,
   "id": "530f7c2a-083a-483b-962e-af204fc7661f",
   "metadata": {
    "tags": []
   },
   "outputs": [],
   "source": [
    "search_keyword = driver.find_element(By.XPATH, '//*[@id=\"main-content\"]/div/div[3]/div/div/div[2]/div[1]/div/div[24]/div/div/div/div/div/div')\n",
    "search_keyword.click()"
   ]
  },
  {
   "cell_type": "code",
   "execution_count": 947,
   "id": "59bbc2c4-b256-477d-9c94-a3255e54670a",
   "metadata": {
    "tags": []
   },
   "outputs": [],
   "source": [
    "Type_of_colors = []\n",
    "Style_code = []"
   ]
  },
  {
   "cell_type": "code",
   "execution_count": 948,
   "id": "20231ef7-a103-4c2e-a85d-a70d0d7c346a",
   "metadata": {
    "tags": []
   },
   "outputs": [],
   "source": [
    "title_tags=driver.find_elements(By.CLASS_NAME, 'color-label___2hXaD')\n",
    "for i in title_tags[0:23]:\n",
    "    title=i.text\n",
    "    Type_of_colors.append(title)"
   ]
  },
  {
   "cell_type": "code",
   "execution_count": 949,
   "id": "f800f059-74d5-49e7-8350-f99c0c055cf2",
   "metadata": {
    "tags": []
   },
   "outputs": [],
   "source": [
    "title_tags=driver.find_elements(By.XPATH, '//*[@id=\"navigation-target-specifications\"]/div/div/div/div[1]/ul[2]/li[3]')\n",
    "for i in title_tags[0:1]:\n",
    "    title=i.text\n",
    "    Style_code.append(title)"
   ]
  },
  {
   "cell_type": "code",
   "execution_count": 950,
   "id": "f7fac7cb-0a09-4d43-a97d-723e8e985a9a",
   "metadata": {
    "tags": []
   },
   "outputs": [
    {
     "name": "stdout",
     "output_type": "stream",
     "text": [
      "1 1\n"
     ]
    }
   ],
   "source": [
    "print(len(Type_of_colors), len(Style_code))"
   ]
  },
  {
   "cell_type": "code",
   "execution_count": 951,
   "id": "31ca9cb7-35ed-4f0e-90ec-9a5dc21b1833",
   "metadata": {
    "tags": []
   },
   "outputs": [
    {
     "data": {
      "text/html": [
       "<div>\n",
       "<style scoped>\n",
       "    .dataframe tbody tr th:only-of-type {\n",
       "        vertical-align: middle;\n",
       "    }\n",
       "\n",
       "    .dataframe tbody tr th {\n",
       "        vertical-align: top;\n",
       "    }\n",
       "\n",
       "    .dataframe thead th {\n",
       "        text-align: right;\n",
       "    }\n",
       "</style>\n",
       "<table border=\"1\" class=\"dataframe\">\n",
       "  <thead>\n",
       "    <tr style=\"text-align: right;\">\n",
       "      <th></th>\n",
       "      <th>Count_of_sizes</th>\n",
       "      <th>Type_of_colors</th>\n",
       "      <th>Style code</th>\n",
       "    </tr>\n",
       "  </thead>\n",
       "  <tbody>\n",
       "    <tr>\n",
       "      <th>0</th>\n",
       "      <td>Sizes\\nFind your size\\n3\\n3.5\\n4\\n4.5\\n5\\n5.5\\...</td>\n",
       "      <td>Core Black / Cloud White / Grey Six</td>\n",
       "      <td>Product code: GA0910</td>\n",
       "    </tr>\n",
       "  </tbody>\n",
       "</table>\n",
       "</div>"
      ],
      "text/plain": [
       "                                      Count_of_sizes  \\\n",
       "0  Sizes\\nFind your size\\n3\\n3.5\\n4\\n4.5\\n5\\n5.5\\...   \n",
       "\n",
       "                        Type_of_colors            Style code  \n",
       "0  Core Black / Cloud White / Grey Six  Product code: GA0910  "
      ]
     },
     "execution_count": 951,
     "metadata": {},
     "output_type": "execute_result"
    }
   ],
   "source": [
    "import pandas as pd\n",
    "df84=pd.DataFrame({'Count_of_sizes':Count_of_sizes,'Type_of_colors':Type_of_colors,'Style code':Style_code})\n",
    "df84"
   ]
  },
  {
   "cell_type": "code",
   "execution_count": 104,
   "id": "90bbff35-a059-4dd5-84dd-5fe183e59d94",
   "metadata": {
    "tags": []
   },
   "outputs": [],
   "source": [
    "search_keyword = driver.find_element(By.XPATH, '//*[@id=\"main-content\"]/div/div[3]/div/div/div[2]/div[1]/div/div[25]/div/div/div/div/div/div')\n",
    "search_keyword.click()"
   ]
  },
  {
   "cell_type": "code",
   "execution_count": 110,
   "id": "d7212032-ecd1-45c1-9463-8bc261f1c1d2",
   "metadata": {
    "tags": []
   },
   "outputs": [],
   "source": [
    "Type_of_colors = []\n",
    "Style_code = []"
   ]
  },
  {
   "cell_type": "code",
   "execution_count": 111,
   "id": "040c8100-61e6-44b1-9a61-9b9864d13d95",
   "metadata": {
    "tags": []
   },
   "outputs": [],
   "source": [
    "title_tags=driver.find_elements(By.CLASS_NAME, 'single-color-label___29kFh')\n",
    "for i in title_tags[0:23]:\n",
    "    title=i.text\n",
    "    Type_of_colors.append(title)"
   ]
  },
  {
   "cell_type": "code",
   "execution_count": 112,
   "id": "50e55e77-b402-40b2-a82e-7447f32f4707",
   "metadata": {
    "tags": []
   },
   "outputs": [],
   "source": [
    "title_tags=driver.find_elements(By.XPATH, '//*[@id=\"navigation-target-specifications\"]/div/div/div/div[1]/ul[2]/li[2]')\n",
    "for i in title_tags[0:1]:\n",
    "    title=i.text\n",
    "    Style_code.append(title)"
   ]
  },
  {
   "cell_type": "code",
   "execution_count": 113,
   "id": "04803593-e6a4-4ac9-875b-041dd0aad023",
   "metadata": {
    "tags": []
   },
   "outputs": [
    {
     "name": "stdout",
     "output_type": "stream",
     "text": [
      "1 1\n"
     ]
    }
   ],
   "source": [
    "print(len(Type_of_colors), len(Style_code))"
   ]
  },
  {
   "cell_type": "code",
   "execution_count": 114,
   "id": "bda25dec-957e-4a6c-93b2-f52dd456f40a",
   "metadata": {
    "tags": []
   },
   "outputs": [
    {
     "data": {
      "text/html": [
       "<div>\n",
       "<style scoped>\n",
       "    .dataframe tbody tr th:only-of-type {\n",
       "        vertical-align: middle;\n",
       "    }\n",
       "\n",
       "    .dataframe tbody tr th {\n",
       "        vertical-align: top;\n",
       "    }\n",
       "\n",
       "    .dataframe thead th {\n",
       "        text-align: right;\n",
       "    }\n",
       "</style>\n",
       "<table border=\"1\" class=\"dataframe\">\n",
       "  <thead>\n",
       "    <tr style=\"text-align: right;\">\n",
       "      <th></th>\n",
       "      <th>Count_of_sizes</th>\n",
       "      <th>Type_of_colors</th>\n",
       "      <th>Style code</th>\n",
       "    </tr>\n",
       "  </thead>\n",
       "  <tbody>\n",
       "    <tr>\n",
       "      <th>0</th>\n",
       "      <td>Sizes\\nFind your size\\n4\\n5\\n6\\n7\\n8\\n9\\n10\\n1...</td>\n",
       "      <td>Core Black / Cloud White</td>\n",
       "      <td>Product code: EX2038</td>\n",
       "    </tr>\n",
       "  </tbody>\n",
       "</table>\n",
       "</div>"
      ],
      "text/plain": [
       "                                      Count_of_sizes  \\\n",
       "0  Sizes\\nFind your size\\n4\\n5\\n6\\n7\\n8\\n9\\n10\\n1...   \n",
       "\n",
       "             Type_of_colors            Style code  \n",
       "0  Core Black / Cloud White  Product code: EX2038  "
      ]
     },
     "execution_count": 114,
     "metadata": {},
     "output_type": "execute_result"
    }
   ],
   "source": [
    "import pandas as pd\n",
    "df85=pd.DataFrame({'Count_of_sizes':Count_of_sizes,'Type_of_colors':Type_of_colors,'Style code':Style_code})\n",
    "df85"
   ]
  },
  {
   "cell_type": "code",
   "execution_count": 43,
   "id": "08c1de8d-c6e2-4b1f-b481-303f617052f2",
   "metadata": {
    "tags": []
   },
   "outputs": [],
   "source": [
    "search_keyword = driver.find_element(By.XPATH, '//*[@id=\"main-content\"]/div/div[3]/div/div/div[2]/div[1]/div/div[26]/div/div/div/div/div/div')\n",
    "search_keyword.click()"
   ]
  },
  {
   "cell_type": "code",
   "execution_count": 53,
   "id": "71cef0bc-d752-443a-9e9e-e9ea67af7849",
   "metadata": {
    "tags": []
   },
   "outputs": [],
   "source": [
    "Type_of_colors = []\n",
    "Style_code = []\n",
    "Count_of_sizes = []"
   ]
  },
  {
   "cell_type": "code",
   "execution_count": 54,
   "id": "7f9fa281-0c42-4939-b6f5-b407f767333c",
   "metadata": {
    "tags": []
   },
   "outputs": [],
   "source": [
    "title_tags=driver.find_elements(By.XPATH, '//*[@id=\"main-content\"]/div[2]/div[2]/section/div[1]')\n",
    "for i in title_tags[0:23]:\n",
    "    title=i.text\n",
    "    Count_of_sizes.append(title)"
   ]
  },
  {
   "cell_type": "code",
   "execution_count": 55,
   "id": "4013f96d-5376-4e59-98b9-cf28cd9333ec",
   "metadata": {
    "tags": []
   },
   "outputs": [],
   "source": [
    "title_tags=driver.find_elements(By.CLASS_NAME, 'color-label___2hXaD')\n",
    "for i in title_tags[0:23]:\n",
    "    title=i.text\n",
    "    Type_of_colors.append(title)"
   ]
  },
  {
   "cell_type": "code",
   "execution_count": 56,
   "id": "df659ecd-5dff-4e0b-b3ec-c9ec231e3b9f",
   "metadata": {
    "tags": []
   },
   "outputs": [],
   "source": [
    "title_tags=driver.find_elements(By.XPATH, '//*[@id=\"navigation-target-specifications\"]/div/div/div/div[1]/ul[2]/li[4]')\n",
    "for i in title_tags[0:1]:\n",
    "    title=i.text\n",
    "    Style_code.append(title)"
   ]
  },
  {
   "cell_type": "code",
   "execution_count": 57,
   "id": "a4157d35-a9a3-468b-acf5-452717d746e2",
   "metadata": {
    "tags": []
   },
   "outputs": [
    {
     "name": "stdout",
     "output_type": "stream",
     "text": [
      "1 1 1\n"
     ]
    }
   ],
   "source": [
    "print(len(Type_of_colors), len(Style_code),len(Count_of_sizes))"
   ]
  },
  {
   "cell_type": "code",
   "execution_count": 58,
   "id": "93e4e680-adc6-43c2-b14c-4a54cadf0615",
   "metadata": {
    "tags": []
   },
   "outputs": [
    {
     "data": {
      "text/html": [
       "<div>\n",
       "<style scoped>\n",
       "    .dataframe tbody tr th:only-of-type {\n",
       "        vertical-align: middle;\n",
       "    }\n",
       "\n",
       "    .dataframe tbody tr th {\n",
       "        vertical-align: top;\n",
       "    }\n",
       "\n",
       "    .dataframe thead th {\n",
       "        text-align: right;\n",
       "    }\n",
       "</style>\n",
       "<table border=\"1\" class=\"dataframe\">\n",
       "  <thead>\n",
       "    <tr style=\"text-align: right;\">\n",
       "      <th></th>\n",
       "      <th>Count_of_sizes</th>\n",
       "      <th>Type_of_colors</th>\n",
       "      <th>Style code</th>\n",
       "    </tr>\n",
       "  </thead>\n",
       "  <tbody>\n",
       "    <tr>\n",
       "      <th>0</th>\n",
       "      <td>Sizes\\nFind your size\\n4\\n5\\n6\\n7\\n8\\n9\\n10\\n1...</td>\n",
       "      <td>Legend Ink / Cloud White / Legend Ink</td>\n",
       "      <td>Product code: GZ5892</td>\n",
       "    </tr>\n",
       "  </tbody>\n",
       "</table>\n",
       "</div>"
      ],
      "text/plain": [
       "                                      Count_of_sizes  \\\n",
       "0  Sizes\\nFind your size\\n4\\n5\\n6\\n7\\n8\\n9\\n10\\n1...   \n",
       "\n",
       "                          Type_of_colors            Style code  \n",
       "0  Legend Ink / Cloud White / Legend Ink  Product code: GZ5892  "
      ]
     },
     "execution_count": 58,
     "metadata": {},
     "output_type": "execute_result"
    }
   ],
   "source": [
    "import pandas as pd\n",
    "df86=pd.DataFrame({'Count_of_sizes':Count_of_sizes,'Type_of_colors':Type_of_colors,'Style code':Style_code})\n",
    "df86"
   ]
  },
  {
   "cell_type": "code",
   "execution_count": 65,
   "id": "db621165-0921-41da-9229-3587de2626b2",
   "metadata": {
    "tags": []
   },
   "outputs": [],
   "source": [
    "search_keyword = driver.find_element(By.XPATH, '//*[@id=\"main-content\"]/div/div[3]/div/div/div[2]/div[1]/div/div[27]/div/div/div/div/div/div')\n",
    "search_keyword.click()"
   ]
  },
  {
   "cell_type": "code",
   "execution_count": 71,
   "id": "e4679368-346e-4fda-8a09-45587eafc8af",
   "metadata": {
    "tags": []
   },
   "outputs": [],
   "source": [
    "Type_of_colors = []\n",
    "Style_code = []"
   ]
  },
  {
   "cell_type": "code",
   "execution_count": 72,
   "id": "3fb3114b-6d72-44c8-8a56-3918aa605c71",
   "metadata": {
    "tags": []
   },
   "outputs": [],
   "source": [
    "title_tags=driver.find_elements(By.CLASS_NAME, 'color-label___2hXaD')\n",
    "for i in title_tags[0:23]:\n",
    "    title=i.text\n",
    "    Type_of_colors.append(title)"
   ]
  },
  {
   "cell_type": "code",
   "execution_count": 73,
   "id": "ca62554d-4449-4f0e-9b3e-1c4c0c0ec463",
   "metadata": {
    "tags": []
   },
   "outputs": [],
   "source": [
    "title_tags=driver.find_elements(By.XPATH, '//*[@id=\"navigation-target-specifications\"]/div/div/div/div[1]/ul[2]/li[3]')\n",
    "for i in title_tags[0:1]:\n",
    "    title=i.text\n",
    "    Style_code.append(title)"
   ]
  },
  {
   "cell_type": "code",
   "execution_count": 74,
   "id": "5101f605-d4a8-456b-a990-1b79a5fb5deb",
   "metadata": {
    "tags": []
   },
   "outputs": [
    {
     "name": "stdout",
     "output_type": "stream",
     "text": [
      "1 1\n"
     ]
    }
   ],
   "source": [
    "print(len(Type_of_colors), len(Style_code))"
   ]
  },
  {
   "cell_type": "code",
   "execution_count": 75,
   "id": "ede457f3-f737-4b85-88f8-ff5f2ed5a0dc",
   "metadata": {
    "tags": []
   },
   "outputs": [
    {
     "data": {
      "text/html": [
       "<div>\n",
       "<style scoped>\n",
       "    .dataframe tbody tr th:only-of-type {\n",
       "        vertical-align: middle;\n",
       "    }\n",
       "\n",
       "    .dataframe tbody tr th {\n",
       "        vertical-align: top;\n",
       "    }\n",
       "\n",
       "    .dataframe thead th {\n",
       "        text-align: right;\n",
       "    }\n",
       "</style>\n",
       "<table border=\"1\" class=\"dataframe\">\n",
       "  <thead>\n",
       "    <tr style=\"text-align: right;\">\n",
       "      <th></th>\n",
       "      <th>Count_of_sizes</th>\n",
       "      <th>Type_of_colors</th>\n",
       "      <th>Style code</th>\n",
       "    </tr>\n",
       "  </thead>\n",
       "  <tbody>\n",
       "    <tr>\n",
       "      <th>0</th>\n",
       "      <td>Sizes\\nFind your size\\n4\\n5\\n6\\n7\\n8\\n9\\n10\\n1...</td>\n",
       "      <td>Core Black / Cloud White / Grey Six</td>\n",
       "      <td>Product code: GA0910</td>\n",
       "    </tr>\n",
       "  </tbody>\n",
       "</table>\n",
       "</div>"
      ],
      "text/plain": [
       "                                      Count_of_sizes  \\\n",
       "0  Sizes\\nFind your size\\n4\\n5\\n6\\n7\\n8\\n9\\n10\\n1...   \n",
       "\n",
       "                        Type_of_colors            Style code  \n",
       "0  Core Black / Cloud White / Grey Six  Product code: GA0910  "
      ]
     },
     "execution_count": 75,
     "metadata": {},
     "output_type": "execute_result"
    }
   ],
   "source": [
    "import pandas as pd\n",
    "df85=pd.DataFrame({'Count_of_sizes':Count_of_sizes,'Type_of_colors':Type_of_colors,'Style code':Style_code})\n",
    "df85"
   ]
  },
  {
   "cell_type": "code",
   "execution_count": 79,
   "id": "4088f445-0787-4034-aa6e-4a40590a7539",
   "metadata": {
    "tags": []
   },
   "outputs": [],
   "source": [
    "search_keyword = driver.find_element(By.XPATH, '//*[@id=\"main-content\"]/div/div[3]/div/div/div[2]/div[1]/div/div[29]/div/div/div/div/div/div')\n",
    "search_keyword.click()"
   ]
  },
  {
   "cell_type": "code",
   "execution_count": 80,
   "id": "5b98c726-914e-4c58-a617-5963b2352753",
   "metadata": {
    "tags": []
   },
   "outputs": [],
   "source": [
    "Type_of_colors = []\n",
    "Style_code = []"
   ]
  },
  {
   "cell_type": "code",
   "execution_count": 81,
   "id": "f1a14f76-0d92-4df4-9de1-a6c5e0b590de",
   "metadata": {
    "tags": []
   },
   "outputs": [],
   "source": [
    "title_tags=driver.find_elements(By.CLASS_NAME, 'color-label___2hXaD')\n",
    "for i in title_tags[0:23]:\n",
    "    title=i.text\n",
    "    Type_of_colors.append(title)"
   ]
  },
  {
   "cell_type": "code",
   "execution_count": 82,
   "id": "dc24278e-b493-4eae-a72b-c418ce1a3455",
   "metadata": {
    "tags": []
   },
   "outputs": [],
   "source": [
    "title_tags=driver.find_elements(By.XPATH, '//*[@id=\"navigation-target-specifications\"]/div/div/div/div[1]/ul[2]/li[4]')\n",
    "for i in title_tags[0:1]:\n",
    "    title=i.text\n",
    "    Style_code.append(title)"
   ]
  },
  {
   "cell_type": "code",
   "execution_count": 83,
   "id": "553090d0-e5f0-45ab-af8d-4926728cc329",
   "metadata": {
    "tags": []
   },
   "outputs": [
    {
     "name": "stdout",
     "output_type": "stream",
     "text": [
      "1 1\n"
     ]
    }
   ],
   "source": [
    "print(len(Type_of_colors), len(Style_code))"
   ]
  },
  {
   "cell_type": "code",
   "execution_count": 84,
   "id": "f34525d0-3eb1-45f0-893a-e33d14489d10",
   "metadata": {
    "tags": []
   },
   "outputs": [
    {
     "data": {
      "text/html": [
       "<div>\n",
       "<style scoped>\n",
       "    .dataframe tbody tr th:only-of-type {\n",
       "        vertical-align: middle;\n",
       "    }\n",
       "\n",
       "    .dataframe tbody tr th {\n",
       "        vertical-align: top;\n",
       "    }\n",
       "\n",
       "    .dataframe thead th {\n",
       "        text-align: right;\n",
       "    }\n",
       "</style>\n",
       "<table border=\"1\" class=\"dataframe\">\n",
       "  <thead>\n",
       "    <tr style=\"text-align: right;\">\n",
       "      <th></th>\n",
       "      <th>Count_of_sizes</th>\n",
       "      <th>Type_of_colors</th>\n",
       "      <th>Style code</th>\n",
       "    </tr>\n",
       "  </thead>\n",
       "  <tbody>\n",
       "    <tr>\n",
       "      <th>0</th>\n",
       "      <td>Sizes\\nFind your size\\n4\\n5\\n6\\n7\\n8\\n9\\n10\\n1...</td>\n",
       "      <td>Core Black / Core Black / Cloud White</td>\n",
       "      <td>Product code: FX3624</td>\n",
       "    </tr>\n",
       "  </tbody>\n",
       "</table>\n",
       "</div>"
      ],
      "text/plain": [
       "                                      Count_of_sizes  \\\n",
       "0  Sizes\\nFind your size\\n4\\n5\\n6\\n7\\n8\\n9\\n10\\n1...   \n",
       "\n",
       "                          Type_of_colors            Style code  \n",
       "0  Core Black / Core Black / Cloud White  Product code: FX3624  "
      ]
     },
     "execution_count": 84,
     "metadata": {},
     "output_type": "execute_result"
    }
   ],
   "source": [
    "import pandas as pd\n",
    "df87=pd.DataFrame({'Count_of_sizes':Count_of_sizes,'Type_of_colors':Type_of_colors,'Style code':Style_code})\n",
    "df87"
   ]
  },
  {
   "cell_type": "code",
   "execution_count": 85,
   "id": "ad9381c5-d616-424d-aedf-3f0c027dfe0e",
   "metadata": {
    "tags": []
   },
   "outputs": [],
   "source": [
    "search_keyword = driver.find_element(By.XPATH, '//*[@id=\"app\"]/div/div[1]/div[1]/div/div/div[1]/div/header/div[2]/div/div[2]/div/input')\n",
    "search_keyword.clear()\n",
    "search_keyword.send_keys('Shoes Men')"
   ]
  },
  {
   "cell_type": "code",
   "execution_count": 86,
   "id": "47578f9e-4f9c-4bf4-9ae8-c8948dc81d3b",
   "metadata": {
    "tags": []
   },
   "outputs": [],
   "source": [
    "search_keyword = driver.find_element(By.XPATH, '//*[@id=\"app\"]/div/div[1]/div[1]/div/div/div[1]/div/header/div[2]/div/div[2]/div/div[2]/div/div[1]/div[2]/a[2]/div[1]')\n",
    "search_keyword.click()"
   ]
  },
  {
   "cell_type": "code",
   "execution_count": 87,
   "id": "8cb43326-5e1a-46b4-90d2-740c00e433a5",
   "metadata": {
    "tags": []
   },
   "outputs": [],
   "source": [
    "search_keyword = driver.find_element(By.XPATH, '//*[@id=\"main-content\"]/div/div[3]/div/div/div[2]/div[1]/div/div[30]/div/div/div/div/div/div')\n",
    "search_keyword.click()"
   ]
  },
  {
   "cell_type": "code",
   "execution_count": 88,
   "id": "295b75e2-85af-4ba9-bb27-1121d46669c9",
   "metadata": {
    "tags": []
   },
   "outputs": [],
   "source": [
    "Type_of_colors = []\n",
    "Style_code = []"
   ]
  },
  {
   "cell_type": "code",
   "execution_count": 89,
   "id": "619ee8b7-b573-4687-a21e-ce607122f1a1",
   "metadata": {
    "tags": []
   },
   "outputs": [],
   "source": [
    "title_tags=driver.find_elements(By.CLASS_NAME, 'color-label___2hXaD')\n",
    "for i in title_tags[0:23]:\n",
    "    title=i.text\n",
    "    Type_of_colors.append(title)"
   ]
  },
  {
   "cell_type": "code",
   "execution_count": 90,
   "id": "b7dcdb07-7dfa-47dd-85ac-2af0c6756a0b",
   "metadata": {
    "tags": []
   },
   "outputs": [],
   "source": [
    "title_tags=driver.find_elements(By.XPATH, '//*[@id=\"navigation-target-specifications\"]/div/div/div/div[1]/ul[2]/li[4]')\n",
    "for i in title_tags[0:1]:\n",
    "    title=i.text\n",
    "    Style_code.append(title)"
   ]
  },
  {
   "cell_type": "code",
   "execution_count": 91,
   "id": "4390ec34-240c-451f-af12-04a5c62cc769",
   "metadata": {
    "tags": []
   },
   "outputs": [
    {
     "name": "stdout",
     "output_type": "stream",
     "text": [
      "1 1\n"
     ]
    }
   ],
   "source": [
    "print(len(Type_of_colors), len(Style_code))"
   ]
  },
  {
   "cell_type": "code",
   "execution_count": 92,
   "id": "0a88f42b-cf20-4b9e-aee1-ba4d62763a9e",
   "metadata": {
    "tags": []
   },
   "outputs": [
    {
     "data": {
      "text/html": [
       "<div>\n",
       "<style scoped>\n",
       "    .dataframe tbody tr th:only-of-type {\n",
       "        vertical-align: middle;\n",
       "    }\n",
       "\n",
       "    .dataframe tbody tr th {\n",
       "        vertical-align: top;\n",
       "    }\n",
       "\n",
       "    .dataframe thead th {\n",
       "        text-align: right;\n",
       "    }\n",
       "</style>\n",
       "<table border=\"1\" class=\"dataframe\">\n",
       "  <thead>\n",
       "    <tr style=\"text-align: right;\">\n",
       "      <th></th>\n",
       "      <th>Count_of_sizes</th>\n",
       "      <th>Type_of_colors</th>\n",
       "      <th>Style code</th>\n",
       "    </tr>\n",
       "  </thead>\n",
       "  <tbody>\n",
       "    <tr>\n",
       "      <th>0</th>\n",
       "      <td>Sizes\\nFind your size\\n4\\n5\\n6\\n7\\n8\\n9\\n10\\n1...</td>\n",
       "      <td>Tech Indigo / Impact Yellow F22</td>\n",
       "      <td>Product code: GC0728</td>\n",
       "    </tr>\n",
       "  </tbody>\n",
       "</table>\n",
       "</div>"
      ],
      "text/plain": [
       "                                      Count_of_sizes  \\\n",
       "0  Sizes\\nFind your size\\n4\\n5\\n6\\n7\\n8\\n9\\n10\\n1...   \n",
       "\n",
       "                    Type_of_colors            Style code  \n",
       "0  Tech Indigo / Impact Yellow F22  Product code: GC0728  "
      ]
     },
     "execution_count": 92,
     "metadata": {},
     "output_type": "execute_result"
    }
   ],
   "source": [
    "import pandas as pd\n",
    "df88=pd.DataFrame({'Count_of_sizes':Count_of_sizes,'Type_of_colors':Type_of_colors,'Style code':Style_code})\n",
    "df88"
   ]
  },
  {
   "cell_type": "code",
   "execution_count": null,
   "id": "d08f52be-2d73-4d1a-8b39-2e73d9d92c76",
   "metadata": {
    "tags": []
   },
   "outputs": [],
   "source": [
    "search_keyword = driver.find_element(By.XPATH, '//*[@id=\"app\"]/div/div[1]/div[1]/div/div/div[1]/div/header/div[2]/div/div[2]/div/input')\n",
    "search_keyword.clear()\n",
    "search_keyword.send_keys('Shoes Men')"
   ]
  },
  {
   "cell_type": "code",
   "execution_count": 94,
   "id": "d42eb93f-7202-4749-a4c8-807af1b9078b",
   "metadata": {
    "tags": []
   },
   "outputs": [],
   "source": [
    "search_keyword = driver.find_element(By.XPATH, '//*[@id=\"app\"]/div/div[1]/div[1]/div/div/div[1]/div/header/div[2]/div/div[2]/div/div[2]/div/div[1]/div[2]/a[2]/div[1]')\n",
    "search_keyword.click()"
   ]
  },
  {
   "cell_type": "code",
   "execution_count": 95,
   "id": "ef3541ff-79e2-49e0-bf8a-853ab57dc445",
   "metadata": {
    "tags": []
   },
   "outputs": [],
   "source": [
    "search_keyword = driver.find_element(By.XPATH, '//*[@id=\"main-content\"]/div/div[3]/div/div/div[2]/div[1]/div/div[31]/div/div/div/div/div/div')\n",
    "search_keyword.click()"
   ]
  },
  {
   "cell_type": "code",
   "execution_count": 96,
   "id": "fc5c45d1-68e2-4f4a-ac86-1860e11fa584",
   "metadata": {
    "tags": []
   },
   "outputs": [],
   "source": [
    "Type_of_colors = []\n",
    "Style_code = []"
   ]
  },
  {
   "cell_type": "code",
   "execution_count": 97,
   "id": "cfb8e49f-2240-4f18-ab86-eafa8c0a7699",
   "metadata": {
    "tags": []
   },
   "outputs": [],
   "source": [
    "title_tags=driver.find_elements(By.CLASS_NAME, 'single-color-label___29kFh')\n",
    "for i in title_tags[0:23]:\n",
    "    title=i.text\n",
    "    Type_of_colors.append(title)"
   ]
  },
  {
   "cell_type": "code",
   "execution_count": 98,
   "id": "8139f6b7-a93a-405e-9f3c-2c4ad36ce0e6",
   "metadata": {
    "tags": []
   },
   "outputs": [],
   "source": [
    "title_tags=driver.find_elements(By.XPATH, '//*[@id=\"navigation-target-specifications\"]/div/div/div/div[1]/ul[2]/li[4]')\n",
    "for i in title_tags[0:1]:\n",
    "    title=i.text\n",
    "    Style_code.append(title)"
   ]
  },
  {
   "cell_type": "code",
   "execution_count": 99,
   "id": "ba02fb71-bc8a-4e51-b13c-bec3f9614c98",
   "metadata": {
    "tags": []
   },
   "outputs": [
    {
     "name": "stdout",
     "output_type": "stream",
     "text": [
      "1 1\n"
     ]
    }
   ],
   "source": [
    "print(len(Type_of_colors), len(Style_code))"
   ]
  },
  {
   "cell_type": "code",
   "execution_count": 100,
   "id": "f8178123-f2c4-4af2-97ca-61b32415e23b",
   "metadata": {
    "tags": []
   },
   "outputs": [
    {
     "data": {
      "text/html": [
       "<div>\n",
       "<style scoped>\n",
       "    .dataframe tbody tr th:only-of-type {\n",
       "        vertical-align: middle;\n",
       "    }\n",
       "\n",
       "    .dataframe tbody tr th {\n",
       "        vertical-align: top;\n",
       "    }\n",
       "\n",
       "    .dataframe thead th {\n",
       "        text-align: right;\n",
       "    }\n",
       "</style>\n",
       "<table border=\"1\" class=\"dataframe\">\n",
       "  <thead>\n",
       "    <tr style=\"text-align: right;\">\n",
       "      <th></th>\n",
       "      <th>Count_of_sizes</th>\n",
       "      <th>Type_of_colors</th>\n",
       "      <th>Style code</th>\n",
       "    </tr>\n",
       "  </thead>\n",
       "  <tbody>\n",
       "    <tr>\n",
       "      <th>0</th>\n",
       "      <td>Sizes\\nFind your size\\n4\\n5\\n6\\n7\\n8\\n9\\n10\\n1...</td>\n",
       "      <td>Core Black / Grey Six / Dove Grey S20</td>\n",
       "      <td>Product code: FW1662</td>\n",
       "    </tr>\n",
       "  </tbody>\n",
       "</table>\n",
       "</div>"
      ],
      "text/plain": [
       "                                      Count_of_sizes  \\\n",
       "0  Sizes\\nFind your size\\n4\\n5\\n6\\n7\\n8\\n9\\n10\\n1...   \n",
       "\n",
       "                          Type_of_colors            Style code  \n",
       "0  Core Black / Grey Six / Dove Grey S20  Product code: FW1662  "
      ]
     },
     "execution_count": 100,
     "metadata": {},
     "output_type": "execute_result"
    }
   ],
   "source": [
    "import pandas as pd\n",
    "df89=pd.DataFrame({'Count_of_sizes':Count_of_sizes,'Type_of_colors':Type_of_colors,'Style code':Style_code})\n",
    "df89"
   ]
  },
  {
   "cell_type": "code",
   "execution_count": 120,
   "id": "f7e59948-ced4-4211-9349-ffd885a61b18",
   "metadata": {
    "tags": []
   },
   "outputs": [],
   "source": [
    "search_keyword = driver.find_element(By.XPATH, '//*[@id=\"main-content\"]/div/div[3]/div/div/div[2]/div[1]/div/div[32]/div/div/div/div/div/div')\n",
    "search_keyword.click()"
   ]
  },
  {
   "cell_type": "code",
   "execution_count": 137,
   "id": "3742b677-805f-455d-8967-775603a83ec4",
   "metadata": {
    "tags": []
   },
   "outputs": [],
   "source": [
    "Type_of_colors = []\n",
    "Style_code = []\n",
    "Count_of_sizes = []"
   ]
  },
  {
   "cell_type": "code",
   "execution_count": 138,
   "id": "a374f04b-258e-454f-9256-21959444682e",
   "metadata": {
    "tags": []
   },
   "outputs": [],
   "source": [
    "title_tags=driver.find_elements(By.XPATH, '//*[@id=\"main-content\"]/div[2]/div[2]/section/div[1]')\n",
    "for i in title_tags[0:23]:\n",
    "    title=i.text\n",
    "    Count_of_sizes.append(title)"
   ]
  },
  {
   "cell_type": "code",
   "execution_count": 139,
   "id": "68024bac-4855-47e5-a160-c356a0dcfc5d",
   "metadata": {
    "tags": []
   },
   "outputs": [],
   "source": [
    "title_tags=driver.find_elements(By.CLASS_NAME, 'color-label___2hXaD')\n",
    "for i in title_tags[0:1]:\n",
    "    title=i.text\n",
    "    Type_of_colors.append(title)"
   ]
  },
  {
   "cell_type": "code",
   "execution_count": 140,
   "id": "eff937a1-4e2c-41d1-9e16-83a0921e3d33",
   "metadata": {
    "tags": []
   },
   "outputs": [],
   "source": [
    "title_tags=driver.find_elements(By.XPATH, '//*[@id=\"navigation-target-specifications\"]/div/div/div/div[1]/ul[2]/li[4]')\n",
    "for i in title_tags[0:1]:\n",
    "    title=i.text\n",
    "    Style_code.append(title)"
   ]
  },
  {
   "cell_type": "code",
   "execution_count": 141,
   "id": "27845090-823b-435c-b5cc-9c16b692c17c",
   "metadata": {
    "tags": []
   },
   "outputs": [
    {
     "name": "stdout",
     "output_type": "stream",
     "text": [
      "1 1 1\n"
     ]
    }
   ],
   "source": [
    "print(len(Type_of_colors), len(Style_code),len(Count_of_sizes))"
   ]
  },
  {
   "cell_type": "code",
   "execution_count": 142,
   "id": "20c31d78-5cbd-42fa-a9a6-226685cfd527",
   "metadata": {
    "tags": []
   },
   "outputs": [
    {
     "data": {
      "text/html": [
       "<div>\n",
       "<style scoped>\n",
       "    .dataframe tbody tr th:only-of-type {\n",
       "        vertical-align: middle;\n",
       "    }\n",
       "\n",
       "    .dataframe tbody tr th {\n",
       "        vertical-align: top;\n",
       "    }\n",
       "\n",
       "    .dataframe thead th {\n",
       "        text-align: right;\n",
       "    }\n",
       "</style>\n",
       "<table border=\"1\" class=\"dataframe\">\n",
       "  <thead>\n",
       "    <tr style=\"text-align: right;\">\n",
       "      <th></th>\n",
       "      <th>Count_of_sizes</th>\n",
       "      <th>Type_of_colors</th>\n",
       "      <th>Style code</th>\n",
       "    </tr>\n",
       "  </thead>\n",
       "  <tbody>\n",
       "    <tr>\n",
       "      <th>0</th>\n",
       "      <td>Sizes\\nFind your size\\n3\\n3.5\\n4\\n4.5\\n5\\n5.5\\...</td>\n",
       "      <td>Core Black / Cloud White / Team Power Red</td>\n",
       "      <td>Product code: GX9887</td>\n",
       "    </tr>\n",
       "  </tbody>\n",
       "</table>\n",
       "</div>"
      ],
      "text/plain": [
       "                                      Count_of_sizes  \\\n",
       "0  Sizes\\nFind your size\\n3\\n3.5\\n4\\n4.5\\n5\\n5.5\\...   \n",
       "\n",
       "                              Type_of_colors            Style code  \n",
       "0  Core Black / Cloud White / Team Power Red  Product code: GX9887  "
      ]
     },
     "execution_count": 142,
     "metadata": {},
     "output_type": "execute_result"
    }
   ],
   "source": [
    "import pandas as pd\n",
    "df90=pd.DataFrame({'Count_of_sizes':Count_of_sizes,'Type_of_colors':Type_of_colors,'Style code':Style_code})\n",
    "df90"
   ]
  },
  {
   "cell_type": "code",
   "execution_count": 34,
   "id": "c0ba1db8-989a-47ab-bbc4-d4255de107e1",
   "metadata": {
    "tags": []
   },
   "outputs": [],
   "source": [
    "search_keyword = driver.find_element(By.XPATH, '//*[@id=\"app\"]/div/div[1]/div[1]/div/div/div[1]/div/header/div[2]/div/div[2]/div/input')\n",
    "search_keyword.clear()\n",
    "search_keyword.send_keys('Shoes Men')"
   ]
  },
  {
   "cell_type": "code",
   "execution_count": 35,
   "id": "388ad367-908c-471f-a4ed-14357bb9338c",
   "metadata": {
    "tags": []
   },
   "outputs": [],
   "source": [
    "search_keyword = driver.find_element(By.XPATH, '//*[@id=\"app\"]/div/div[1]/div[1]/div/div/div[1]/div/header/div[2]/div/div[2]/div/div[2]/div/div[1]/div[2]/a[2]/div[1]')\n",
    "search_keyword.click()"
   ]
  },
  {
   "cell_type": "code",
   "execution_count": 8,
   "id": "1b19bdca-b58c-4a17-a358-9b3b8076182b",
   "metadata": {
    "tags": []
   },
   "outputs": [],
   "source": [
    "search_keyword = driver.find_element(By.XPATH, '//*[@id=\"main-content\"]/div/div[3]/div/div/div[2]/div[1]/div/div[40]/div/div/div/div/div/div')\n",
    "search_keyword.click()"
   ]
  },
  {
   "cell_type": "code",
   "execution_count": 15,
   "id": "98808eb3-5b55-436e-b397-c67f3a08ce18",
   "metadata": {
    "tags": []
   },
   "outputs": [],
   "source": [
    "Type_of_colors = []\n",
    "Style_code = []\n",
    "Count_of_sizes = []"
   ]
  },
  {
   "cell_type": "code",
   "execution_count": 16,
   "id": "0a296e6a-dc27-4c0a-8b74-5e7f5b4644f8",
   "metadata": {
    "tags": []
   },
   "outputs": [],
   "source": [
    "title_tags=driver.find_elements(By.XPATH, '//*[@id=\"main-content\"]/div[2]/div[2]/section/div[1]')\n",
    "for i in title_tags[0:23]:\n",
    "    title=i.text\n",
    "    Count_of_sizes.append(title)"
   ]
  },
  {
   "cell_type": "code",
   "execution_count": 17,
   "id": "7a5d8ffc-d307-4532-9078-2f43b8ed9f36",
   "metadata": {
    "tags": []
   },
   "outputs": [],
   "source": [
    "title_tags=driver.find_elements(By.CLASS_NAME, 'color-label___2hXaD')\n",
    "for i in title_tags[0:1]:\n",
    "    title=i.text\n",
    "    Type_of_colors.append(title)"
   ]
  },
  {
   "cell_type": "code",
   "execution_count": 18,
   "id": "a7af984b-bd43-44c0-8f4d-cd60578bfb1b",
   "metadata": {
    "tags": []
   },
   "outputs": [],
   "source": [
    "title_tags=driver.find_elements(By.XPATH, '//*[@id=\"navigation-target-specifications\"]/div/div/div/div[1]/ul[2]/li[4]')\n",
    "for i in title_tags[0:1]:\n",
    "    title=i.text\n",
    "    Style_code.append(title)"
   ]
  },
  {
   "cell_type": "code",
   "execution_count": 19,
   "id": "f399a4a7-c68a-4d7f-85ae-6437a6523e5d",
   "metadata": {
    "tags": []
   },
   "outputs": [
    {
     "name": "stdout",
     "output_type": "stream",
     "text": [
      "1 1 1\n"
     ]
    }
   ],
   "source": [
    "print(len(Type_of_colors), len(Style_code),len(Count_of_sizes))"
   ]
  },
  {
   "cell_type": "code",
   "execution_count": 20,
   "id": "66b2429f-c3c6-4283-aaa7-43e0fbd045f2",
   "metadata": {
    "tags": []
   },
   "outputs": [
    {
     "data": {
      "text/html": [
       "<div>\n",
       "<style scoped>\n",
       "    .dataframe tbody tr th:only-of-type {\n",
       "        vertical-align: middle;\n",
       "    }\n",
       "\n",
       "    .dataframe tbody tr th {\n",
       "        vertical-align: top;\n",
       "    }\n",
       "\n",
       "    .dataframe thead th {\n",
       "        text-align: right;\n",
       "    }\n",
       "</style>\n",
       "<table border=\"1\" class=\"dataframe\">\n",
       "  <thead>\n",
       "    <tr style=\"text-align: right;\">\n",
       "      <th></th>\n",
       "      <th>Count_of_sizes</th>\n",
       "      <th>Type_of_colors</th>\n",
       "      <th>Style code</th>\n",
       "    </tr>\n",
       "  </thead>\n",
       "  <tbody>\n",
       "    <tr>\n",
       "      <th>0</th>\n",
       "      <td>Sizes\\nFind your size\\n6\\n6.5\\n7\\n7.5\\n8\\n8.5\\...</td>\n",
       "      <td>Cloud White / Cloud White / Grey Two</td>\n",
       "      <td>Product code: FX3631</td>\n",
       "    </tr>\n",
       "  </tbody>\n",
       "</table>\n",
       "</div>"
      ],
      "text/plain": [
       "                                      Count_of_sizes  \\\n",
       "0  Sizes\\nFind your size\\n6\\n6.5\\n7\\n7.5\\n8\\n8.5\\...   \n",
       "\n",
       "                         Type_of_colors            Style code  \n",
       "0  Cloud White / Cloud White / Grey Two  Product code: FX3631  "
      ]
     },
     "execution_count": 20,
     "metadata": {},
     "output_type": "execute_result"
    }
   ],
   "source": [
    "import pandas as pd\n",
    "df91=pd.DataFrame({'Count_of_sizes':Count_of_sizes,'Type_of_colors':Type_of_colors,'Style code':Style_code})\n",
    "df91"
   ]
  },
  {
   "cell_type": "code",
   "execution_count": 23,
   "id": "08558039-3c12-4c55-8846-f14514069167",
   "metadata": {
    "tags": []
   },
   "outputs": [],
   "source": [
    "search_keyword = driver.find_element(By.XPATH, '//*[@id=\"main-content\"]/div/div[3]/div/div/div[2]/div[1]/div/div[41]/div/div/div/div/div/div')\n",
    "search_keyword.click()"
   ]
  },
  {
   "cell_type": "code",
   "execution_count": 29,
   "id": "62716fe6-d855-4ad4-ade7-e471d8b40a99",
   "metadata": {
    "tags": []
   },
   "outputs": [],
   "source": [
    "Type_of_colors = []\n",
    "Style_code = []"
   ]
  },
  {
   "cell_type": "code",
   "execution_count": 30,
   "id": "630df37b-e5cd-4469-9568-e2963b47ea25",
   "metadata": {
    "tags": []
   },
   "outputs": [],
   "source": [
    "title_tags=driver.find_elements(By.CLASS_NAME, 'single-color-label___29kFh')\n",
    "for i in title_tags[0:1]:\n",
    "    title=i.text\n",
    "    Type_of_colors.append(title)"
   ]
  },
  {
   "cell_type": "code",
   "execution_count": 31,
   "id": "de9f11f9-3552-4235-8534-afd3dae9cd45",
   "metadata": {
    "tags": []
   },
   "outputs": [],
   "source": [
    "title_tags=driver.find_elements(By.XPATH, '//*[@id=\"navigation-target-specifications\"]/div/div/div/div[1]/ul[2]/li[5]')\n",
    "for i in title_tags[0:1]:\n",
    "    title=i.text\n",
    "    Style_code.append(title)"
   ]
  },
  {
   "cell_type": "code",
   "execution_count": 32,
   "id": "bc08b252-2c71-470f-be94-7fbaefa53337",
   "metadata": {
    "tags": []
   },
   "outputs": [
    {
     "name": "stdout",
     "output_type": "stream",
     "text": [
      "1 1\n"
     ]
    }
   ],
   "source": [
    "print(len(Type_of_colors), len(Style_code))"
   ]
  },
  {
   "cell_type": "code",
   "execution_count": 33,
   "id": "315366d3-364f-48ba-a123-3b02e7218a73",
   "metadata": {
    "tags": []
   },
   "outputs": [
    {
     "data": {
      "text/html": [
       "<div>\n",
       "<style scoped>\n",
       "    .dataframe tbody tr th:only-of-type {\n",
       "        vertical-align: middle;\n",
       "    }\n",
       "\n",
       "    .dataframe tbody tr th {\n",
       "        vertical-align: top;\n",
       "    }\n",
       "\n",
       "    .dataframe thead th {\n",
       "        text-align: right;\n",
       "    }\n",
       "</style>\n",
       "<table border=\"1\" class=\"dataframe\">\n",
       "  <thead>\n",
       "    <tr style=\"text-align: right;\">\n",
       "      <th></th>\n",
       "      <th>Count_of_sizes</th>\n",
       "      <th>Type_of_colors</th>\n",
       "      <th>Style code</th>\n",
       "    </tr>\n",
       "  </thead>\n",
       "  <tbody>\n",
       "    <tr>\n",
       "      <th>0</th>\n",
       "      <td>Sizes\\nFind your size\\n6\\n6.5\\n7\\n7.5\\n8\\n8.5\\...</td>\n",
       "      <td>Cloud White / Core Black / Blue Dawn S23</td>\n",
       "      <td>Product code: HR0085</td>\n",
       "    </tr>\n",
       "  </tbody>\n",
       "</table>\n",
       "</div>"
      ],
      "text/plain": [
       "                                      Count_of_sizes  \\\n",
       "0  Sizes\\nFind your size\\n6\\n6.5\\n7\\n7.5\\n8\\n8.5\\...   \n",
       "\n",
       "                             Type_of_colors            Style code  \n",
       "0  Cloud White / Core Black / Blue Dawn S23  Product code: HR0085  "
      ]
     },
     "execution_count": 33,
     "metadata": {},
     "output_type": "execute_result"
    }
   ],
   "source": [
    "import pandas as pd\n",
    "df92=pd.DataFrame({'Count_of_sizes':Count_of_sizes,'Type_of_colors':Type_of_colors,'Style code':Style_code})\n",
    "df92"
   ]
  },
  {
   "cell_type": "code",
   "execution_count": 37,
   "id": "c89e6b6c-1608-430d-98ee-4377e8151501",
   "metadata": {
    "tags": []
   },
   "outputs": [],
   "source": [
    "search_keyword = driver.find_element(By.XPATH, '//*[@id=\"main-content\"]/div/div[3]/div/div/div[2]/div[1]/div/div[42]/div/div/div/div/div/div')\n",
    "search_keyword.click()"
   ]
  },
  {
   "cell_type": "code",
   "execution_count": 43,
   "id": "3eb04113-0c26-48b7-a7d8-2e313641aab3",
   "metadata": {
    "tags": []
   },
   "outputs": [],
   "source": [
    "Type_of_colors = []\n",
    "Style_code = []"
   ]
  },
  {
   "cell_type": "code",
   "execution_count": 44,
   "id": "a133d761-e99e-4bb4-b7db-ce93b148423c",
   "metadata": {
    "tags": []
   },
   "outputs": [],
   "source": [
    "title_tags=driver.find_elements(By.CLASS_NAME, 'color-label___2hXaD')\n",
    "for i in title_tags[0:1]:\n",
    "    title=i.text\n",
    "    Type_of_colors.append(title)"
   ]
  },
  {
   "cell_type": "code",
   "execution_count": 45,
   "id": "31949064-cfbb-43d9-877e-6b8f879cf9f8",
   "metadata": {
    "tags": []
   },
   "outputs": [],
   "source": [
    "title_tags=driver.find_elements(By.XPATH, '//*[@id=\"navigation-target-specifications\"]/div/div/div/div[1]/ul[2]/li[4]')\n",
    "for i in title_tags[0:1]:\n",
    "    title=i.text\n",
    "    Style_code.append(title)"
   ]
  },
  {
   "cell_type": "code",
   "execution_count": 46,
   "id": "0275d076-e327-4190-a918-1d32fc4b5f1f",
   "metadata": {
    "tags": []
   },
   "outputs": [
    {
     "name": "stdout",
     "output_type": "stream",
     "text": [
      "1 1\n"
     ]
    }
   ],
   "source": [
    "print(len(Type_of_colors), len(Style_code))"
   ]
  },
  {
   "cell_type": "code",
   "execution_count": 47,
   "id": "c56de57e-3831-4cc0-9800-3c0ecdddb056",
   "metadata": {
    "tags": []
   },
   "outputs": [
    {
     "data": {
      "text/html": [
       "<div>\n",
       "<style scoped>\n",
       "    .dataframe tbody tr th:only-of-type {\n",
       "        vertical-align: middle;\n",
       "    }\n",
       "\n",
       "    .dataframe tbody tr th {\n",
       "        vertical-align: top;\n",
       "    }\n",
       "\n",
       "    .dataframe thead th {\n",
       "        text-align: right;\n",
       "    }\n",
       "</style>\n",
       "<table border=\"1\" class=\"dataframe\">\n",
       "  <thead>\n",
       "    <tr style=\"text-align: right;\">\n",
       "      <th></th>\n",
       "      <th>Count_of_sizes</th>\n",
       "      <th>Type_of_colors</th>\n",
       "      <th>Style code</th>\n",
       "    </tr>\n",
       "  </thead>\n",
       "  <tbody>\n",
       "    <tr>\n",
       "      <th>0</th>\n",
       "      <td>Sizes\\nFind your size\\n6\\n6.5\\n7\\n7.5\\n8\\n8.5\\...</td>\n",
       "      <td>Cloud White / Off White / Green</td>\n",
       "      <td>Product code: GX9885</td>\n",
       "    </tr>\n",
       "  </tbody>\n",
       "</table>\n",
       "</div>"
      ],
      "text/plain": [
       "                                      Count_of_sizes  \\\n",
       "0  Sizes\\nFind your size\\n6\\n6.5\\n7\\n7.5\\n8\\n8.5\\...   \n",
       "\n",
       "                    Type_of_colors            Style code  \n",
       "0  Cloud White / Off White / Green  Product code: GX9885  "
      ]
     },
     "execution_count": 47,
     "metadata": {},
     "output_type": "execute_result"
    }
   ],
   "source": [
    "import pandas as pd\n",
    "df93=pd.DataFrame({'Count_of_sizes':Count_of_sizes,'Type_of_colors':Type_of_colors,'Style code':Style_code})\n",
    "df93"
   ]
  },
  {
   "cell_type": "code",
   "execution_count": 48,
   "id": "b203c590-f67a-4363-b2c3-15d0c930ddde",
   "metadata": {
    "tags": []
   },
   "outputs": [],
   "source": [
    "search_keyword = driver.find_element(By.XPATH, '//*[@id=\"app\"]/div/div[1]/div[1]/div/div/div[1]/div/header/div[2]/div/div[2]/div/input')\n",
    "search_keyword.clear()\n",
    "search_keyword.send_keys('Shoes Men')"
   ]
  },
  {
   "cell_type": "code",
   "execution_count": 49,
   "id": "8acdb435-21d0-4c3d-9ed7-3d2975deaab5",
   "metadata": {
    "tags": []
   },
   "outputs": [],
   "source": [
    "search_keyword = driver.find_element(By.XPATH, '//*[@id=\"app\"]/div/div[1]/div[1]/div/div/div[1]/div/header/div[2]/div/div[2]/div/div[2]/div/div[1]/div[2]/a[2]/div[1]')\n",
    "search_keyword.click()"
   ]
  },
  {
   "cell_type": "code",
   "execution_count": 52,
   "id": "76e7de6c-c9ff-47ff-b074-8c3565bfedc1",
   "metadata": {
    "tags": []
   },
   "outputs": [],
   "source": [
    "search_keyword = driver.find_element(By.XPATH, '//*[@id=\"main-content\"]/div/div[3]/div/div/div[2]/div[1]/div/div[44]/div/div/div/div/div/div')\n",
    "search_keyword.click()"
   ]
  },
  {
   "cell_type": "code",
   "execution_count": 62,
   "id": "3d479bb1-4c15-431a-b470-d26778aa243f",
   "metadata": {
    "tags": []
   },
   "outputs": [],
   "source": [
    "Type_of_colors = []\n",
    "Style_code = []"
   ]
  },
  {
   "cell_type": "code",
   "execution_count": 63,
   "id": "32e1bf1a-53d1-42e7-b0ba-60c1b17bf616",
   "metadata": {
    "tags": []
   },
   "outputs": [],
   "source": [
    "title_tags=driver.find_elements(By.CLASS_NAME, 'color-label___2hXaD')\n",
    "for i in title_tags[0:1]:\n",
    "    title=i.text\n",
    "    Type_of_colors.append(title)"
   ]
  },
  {
   "cell_type": "code",
   "execution_count": 64,
   "id": "1cf5d48a-b2ba-4820-ae09-f2427a5c8bee",
   "metadata": {
    "tags": []
   },
   "outputs": [],
   "source": [
    "title_tags=driver.find_elements(By.XPATH, '//*[@id=\"navigation-target-specifications\"]/div/div/div/div[1]/ul[2]/li[5]')\n",
    "for i in title_tags[0:1]:\n",
    "    title=i.text\n",
    "    Style_code.append(title)"
   ]
  },
  {
   "cell_type": "code",
   "execution_count": 65,
   "id": "c1327ec3-27a3-470e-bf6a-9686f6a2e3be",
   "metadata": {
    "tags": []
   },
   "outputs": [
    {
     "name": "stdout",
     "output_type": "stream",
     "text": [
      "1 1\n"
     ]
    }
   ],
   "source": [
    "print(len(Type_of_colors), len(Style_code))"
   ]
  },
  {
   "cell_type": "code",
   "execution_count": 66,
   "id": "491c3fdb-9a55-430b-a706-c2add4160b35",
   "metadata": {
    "tags": []
   },
   "outputs": [
    {
     "data": {
      "text/html": [
       "<div>\n",
       "<style scoped>\n",
       "    .dataframe tbody tr th:only-of-type {\n",
       "        vertical-align: middle;\n",
       "    }\n",
       "\n",
       "    .dataframe tbody tr th {\n",
       "        vertical-align: top;\n",
       "    }\n",
       "\n",
       "    .dataframe thead th {\n",
       "        text-align: right;\n",
       "    }\n",
       "</style>\n",
       "<table border=\"1\" class=\"dataframe\">\n",
       "  <thead>\n",
       "    <tr style=\"text-align: right;\">\n",
       "      <th></th>\n",
       "      <th>Count_of_sizes</th>\n",
       "      <th>Type_of_colors</th>\n",
       "      <th>Style code</th>\n",
       "    </tr>\n",
       "  </thead>\n",
       "  <tbody>\n",
       "    <tr>\n",
       "      <th>0</th>\n",
       "      <td>Sizes\\nFind your size\\n6\\n6.5\\n7\\n7.5\\n8\\n8.5\\...</td>\n",
       "      <td>Core Black / Core Black / Cloud White</td>\n",
       "      <td>Product code: IG6001</td>\n",
       "    </tr>\n",
       "  </tbody>\n",
       "</table>\n",
       "</div>"
      ],
      "text/plain": [
       "                                      Count_of_sizes  \\\n",
       "0  Sizes\\nFind your size\\n6\\n6.5\\n7\\n7.5\\n8\\n8.5\\...   \n",
       "\n",
       "                          Type_of_colors            Style code  \n",
       "0  Core Black / Core Black / Cloud White  Product code: IG6001  "
      ]
     },
     "execution_count": 66,
     "metadata": {},
     "output_type": "execute_result"
    }
   ],
   "source": [
    "import pandas as pd\n",
    "df94=pd.DataFrame({'Count_of_sizes':Count_of_sizes,'Type_of_colors':Type_of_colors,'Style code':Style_code})\n",
    "df94"
   ]
  },
  {
   "cell_type": "code",
   "execution_count": 67,
   "id": "e07fb49b-a3c8-4800-871c-edb983ac9fbc",
   "metadata": {
    "tags": []
   },
   "outputs": [],
   "source": [
    "search_keyword = driver.find_element(By.XPATH, '//*[@id=\"app\"]/div/div[1]/div[1]/div/div/div[1]/div/header/div[2]/div/div[2]/div/input')\n",
    "search_keyword.clear()\n",
    "search_keyword.send_keys('Shoes Men')"
   ]
  },
  {
   "cell_type": "code",
   "execution_count": 68,
   "id": "3c8a4c15-e0be-41b5-9323-870b31704c37",
   "metadata": {
    "tags": []
   },
   "outputs": [],
   "source": [
    "search_keyword = driver.find_element(By.XPATH, '//*[@id=\"app\"]/div/div[1]/div[1]/div/div/div[1]/div/header/div[2]/div/div[2]/div/div[2]/div/div[1]/div[2]/a[2]/div[1]')\n",
    "search_keyword.click()"
   ]
  },
  {
   "cell_type": "code",
   "execution_count": 74,
   "id": "cb32c1f9-7ea8-4bb4-94f8-e0fe6fb854c8",
   "metadata": {
    "tags": []
   },
   "outputs": [],
   "source": [
    "search_keyword = driver.find_element(By.XPATH, '//*[@id=\"main-content\"]/div/div[3]/div/div/div[2]/div[1]/div/div[35]/div/div/div/div/div/div')\n",
    "search_keyword.click()"
   ]
  },
  {
   "cell_type": "code",
   "execution_count": 80,
   "id": "46ead873-f8cb-4035-b07c-09963fa08379",
   "metadata": {
    "tags": []
   },
   "outputs": [],
   "source": [
    "Type_of_colors = []\n",
    "Style_code = []"
   ]
  },
  {
   "cell_type": "code",
   "execution_count": 81,
   "id": "7dc0e108-3748-4949-89ec-b6855cbaf25e",
   "metadata": {
    "tags": []
   },
   "outputs": [],
   "source": [
    "title_tags=driver.find_elements(By.CLASS_NAME, 'single-color-label___29kFh')\n",
    "for i in title_tags[0:1]:\n",
    "    title=i.text\n",
    "    Type_of_colors.append(title)"
   ]
  },
  {
   "cell_type": "code",
   "execution_count": 82,
   "id": "196848bf-6e91-4a3e-856d-6ad0086a449c",
   "metadata": {
    "tags": []
   },
   "outputs": [],
   "source": [
    "title_tags=driver.find_elements(By.XPATH, '//*[@id=\"navigation-target-specifications\"]/div/div/div/div[1]/ul[2]/li[6]')\n",
    "for i in title_tags[0:1]:\n",
    "    title=i.text\n",
    "    Style_code.append(title)"
   ]
  },
  {
   "cell_type": "code",
   "execution_count": 83,
   "id": "0b361cd5-d681-4943-9389-a585a8bcba58",
   "metadata": {
    "tags": []
   },
   "outputs": [
    {
     "name": "stdout",
     "output_type": "stream",
     "text": [
      "1 1\n"
     ]
    }
   ],
   "source": [
    "print(len(Type_of_colors), len(Style_code))"
   ]
  },
  {
   "cell_type": "code",
   "execution_count": 84,
   "id": "29b69bf6-6835-4c92-842a-eed3483c4460",
   "metadata": {
    "tags": []
   },
   "outputs": [
    {
     "data": {
      "text/html": [
       "<div>\n",
       "<style scoped>\n",
       "    .dataframe tbody tr th:only-of-type {\n",
       "        vertical-align: middle;\n",
       "    }\n",
       "\n",
       "    .dataframe tbody tr th {\n",
       "        vertical-align: top;\n",
       "    }\n",
       "\n",
       "    .dataframe thead th {\n",
       "        text-align: right;\n",
       "    }\n",
       "</style>\n",
       "<table border=\"1\" class=\"dataframe\">\n",
       "  <thead>\n",
       "    <tr style=\"text-align: right;\">\n",
       "      <th></th>\n",
       "      <th>Count_of_sizes</th>\n",
       "      <th>Type_of_colors</th>\n",
       "      <th>Style code</th>\n",
       "    </tr>\n",
       "  </thead>\n",
       "  <tbody>\n",
       "    <tr>\n",
       "      <th>0</th>\n",
       "      <td>Sizes\\nFind your size\\n6\\n6.5\\n7\\n7.5\\n8\\n8.5\\...</td>\n",
       "      <td>Cloud White / Cloud White / Core White</td>\n",
       "      <td>Product code: HP7598</td>\n",
       "    </tr>\n",
       "  </tbody>\n",
       "</table>\n",
       "</div>"
      ],
      "text/plain": [
       "                                      Count_of_sizes  \\\n",
       "0  Sizes\\nFind your size\\n6\\n6.5\\n7\\n7.5\\n8\\n8.5\\...   \n",
       "\n",
       "                           Type_of_colors            Style code  \n",
       "0  Cloud White / Cloud White / Core White  Product code: HP7598  "
      ]
     },
     "execution_count": 84,
     "metadata": {},
     "output_type": "execute_result"
    }
   ],
   "source": [
    "import pandas as pd\n",
    "df95=pd.DataFrame({'Count_of_sizes':Count_of_sizes,'Type_of_colors':Type_of_colors,'Style code':Style_code})\n",
    "df95"
   ]
  },
  {
   "cell_type": "code",
   "execution_count": 85,
   "id": "fca4dc96-bf2d-4e30-ac4c-b67f20e15ef0",
   "metadata": {
    "tags": []
   },
   "outputs": [],
   "source": [
    "search_keyword = driver.find_element(By.XPATH, '//*[@id=\"app\"]/div/div[1]/div[1]/div/div/div[1]/div/header/div[2]/div/div[2]/div/input')\n",
    "search_keyword.clear()\n",
    "search_keyword.send_keys('Shoes Men')"
   ]
  },
  {
   "cell_type": "code",
   "execution_count": 86,
   "id": "36d8c817-a608-4883-b0e2-3be25d9f4699",
   "metadata": {
    "tags": []
   },
   "outputs": [],
   "source": [
    "search_keyword = driver.find_element(By.XPATH, '//*[@id=\"app\"]/div/div[1]/div[1]/div/div/div[1]/div/header/div[2]/div/div[2]/div/div[2]/div/div[1]/div[2]/a[2]/div[1]')\n",
    "search_keyword.click()"
   ]
  },
  {
   "cell_type": "code",
   "execution_count": 87,
   "id": "bad6bfef-ddbb-430c-a9a2-c8e01da84676",
   "metadata": {
    "tags": []
   },
   "outputs": [],
   "source": [
    "search_keyword = driver.find_element(By.XPATH, '//*[@id=\"main-content\"]/div/div[3]/div/div/div[2]/div[1]/div/div[36]/div/div/div/div/div/div')\n",
    "search_keyword.click()"
   ]
  },
  {
   "cell_type": "code",
   "execution_count": 96,
   "id": "0360a27b-c949-4d6a-aeea-f1c5b30e80bc",
   "metadata": {
    "tags": []
   },
   "outputs": [],
   "source": [
    "Type_of_colors = []\n",
    "Style_code = []"
   ]
  },
  {
   "cell_type": "code",
   "execution_count": 97,
   "id": "03fb6d5b-d27c-4422-93e3-acdba1decf57",
   "metadata": {
    "tags": []
   },
   "outputs": [],
   "source": [
    "title_tags=driver.find_elements(By.CLASS_NAME, 'color-label___2hXaD')\n",
    "for i in title_tags[0:1]:\n",
    "    title=i.text\n",
    "    Type_of_colors.append(title)"
   ]
  },
  {
   "cell_type": "code",
   "execution_count": 98,
   "id": "482473bd-f645-46b1-9fe8-4d76b75debfe",
   "metadata": {
    "tags": []
   },
   "outputs": [],
   "source": [
    "title_tags=driver.find_elements(By.XPATH, '//*[@id=\"navigation-target-specifications\"]/div/div/div/div[1]/ul[2]/li[4]')\n",
    "for i in title_tags[0:1]:\n",
    "    title=i.text\n",
    "    Style_code.append(title)"
   ]
  },
  {
   "cell_type": "code",
   "execution_count": 99,
   "id": "f85aa1ad-d2e9-4aea-9503-7a24bb90a8fa",
   "metadata": {
    "tags": []
   },
   "outputs": [
    {
     "name": "stdout",
     "output_type": "stream",
     "text": [
      "1 1\n"
     ]
    }
   ],
   "source": [
    "print(len(Type_of_colors), len(Style_code))"
   ]
  },
  {
   "cell_type": "code",
   "execution_count": 100,
   "id": "011b310c-e329-47a3-9eeb-c31a79f08898",
   "metadata": {
    "tags": []
   },
   "outputs": [
    {
     "data": {
      "text/html": [
       "<div>\n",
       "<style scoped>\n",
       "    .dataframe tbody tr th:only-of-type {\n",
       "        vertical-align: middle;\n",
       "    }\n",
       "\n",
       "    .dataframe tbody tr th {\n",
       "        vertical-align: top;\n",
       "    }\n",
       "\n",
       "    .dataframe thead th {\n",
       "        text-align: right;\n",
       "    }\n",
       "</style>\n",
       "<table border=\"1\" class=\"dataframe\">\n",
       "  <thead>\n",
       "    <tr style=\"text-align: right;\">\n",
       "      <th></th>\n",
       "      <th>Count_of_sizes</th>\n",
       "      <th>Type_of_colors</th>\n",
       "      <th>Style code</th>\n",
       "    </tr>\n",
       "  </thead>\n",
       "  <tbody>\n",
       "    <tr>\n",
       "      <th>0</th>\n",
       "      <td>Sizes\\nFind your size\\n6\\n6.5\\n7\\n7.5\\n8\\n8.5\\...</td>\n",
       "      <td>Cloud White / Cloud White / Cloud White</td>\n",
       "      <td>Product code: HP6012</td>\n",
       "    </tr>\n",
       "  </tbody>\n",
       "</table>\n",
       "</div>"
      ],
      "text/plain": [
       "                                      Count_of_sizes  \\\n",
       "0  Sizes\\nFind your size\\n6\\n6.5\\n7\\n7.5\\n8\\n8.5\\...   \n",
       "\n",
       "                            Type_of_colors            Style code  \n",
       "0  Cloud White / Cloud White / Cloud White  Product code: HP6012  "
      ]
     },
     "execution_count": 100,
     "metadata": {},
     "output_type": "execute_result"
    }
   ],
   "source": [
    "import pandas as pd\n",
    "df96=pd.DataFrame({'Count_of_sizes':Count_of_sizes,'Type_of_colors':Type_of_colors,'Style code':Style_code})\n",
    "df96"
   ]
  },
  {
   "cell_type": "code",
   "execution_count": null,
   "id": "99a8b359-950d-4e46-bdf0-3203b6732355",
   "metadata": {
    "tags": []
   },
   "outputs": [],
   "source": [
    "search_keyword = driver.find_element(By.XPATH, '//*[@id=\"app\"]/div/div[1]/div[1]/div/div/div[1]/div/header/div[2]/div/div[2]/div/input')\n",
    "search_keyword.clear()\n",
    "search_keyword.send_keys('Shoes Men')"
   ]
  },
  {
   "cell_type": "code",
   "execution_count": null,
   "id": "96917563-de72-4b10-b2bf-ed667c1e8d43",
   "metadata": {},
   "outputs": [],
   "source": [
    "search_keyword = driver.find_element(By.XPATH, '//*[@id=\"app\"]/div/div[1]/div[1]/div/div/div[1]/div/header/div[2]/div/div[2]/div/div[2]/div/div[1]/div[2]/a[2]/div[1]')\n",
    "search_keyword.click()"
   ]
  },
  {
   "cell_type": "code",
   "execution_count": null,
   "id": "87f12323-252e-440d-8987-cd680f6b93e0",
   "metadata": {
    "tags": []
   },
   "outputs": [],
   "source": [
    "search_keyword = driver.find_element(By.XPATH, '//*[@id=\"main-content\"]/div/div[3]/div/div/div[2]/div[1]/div/div[37]/div/div/div/div/div/div')\n",
    "search_keyword.click()"
   ]
  },
  {
   "cell_type": "code",
   "execution_count": 112,
   "id": "8c25f93d-7a02-4975-9e60-a6d9163925bb",
   "metadata": {
    "tags": []
   },
   "outputs": [],
   "source": [
    "Type_of_colors = []\n",
    "Style_code = []"
   ]
  },
  {
   "cell_type": "code",
   "execution_count": 113,
   "id": "055249a9-642d-43b9-8065-b636a7f47bd0",
   "metadata": {
    "tags": []
   },
   "outputs": [],
   "source": [
    "title_tags=driver.find_elements(By.CLASS_NAME, 'color-label___2hXaD')\n",
    "for i in title_tags[0:1]:\n",
    "    title=i.text\n",
    "    Type_of_colors.append(title)"
   ]
  },
  {
   "cell_type": "code",
   "execution_count": 114,
   "id": "9f8d2a4a-d17f-436d-9d16-43affb9e1433",
   "metadata": {
    "tags": []
   },
   "outputs": [],
   "source": [
    "title_tags=driver.find_elements(By.XPATH, '//*[@id=\"navigation-target-specifications\"]/div/div/div/div[1]/ul[2]/li[4]')\n",
    "for i in title_tags[0:1]:\n",
    "    title=i.text\n",
    "    Style_code.append(title)"
   ]
  },
  {
   "cell_type": "code",
   "execution_count": 115,
   "id": "a2a233fc-d4c2-408b-8f98-a03b9400df43",
   "metadata": {
    "tags": []
   },
   "outputs": [
    {
     "name": "stdout",
     "output_type": "stream",
     "text": [
      "1 1\n"
     ]
    }
   ],
   "source": [
    "print(len(Type_of_colors), len(Style_code))"
   ]
  },
  {
   "cell_type": "code",
   "execution_count": 116,
   "id": "d8240327-a6d0-468e-949d-6f4b2017cff6",
   "metadata": {
    "tags": []
   },
   "outputs": [
    {
     "data": {
      "text/html": [
       "<div>\n",
       "<style scoped>\n",
       "    .dataframe tbody tr th:only-of-type {\n",
       "        vertical-align: middle;\n",
       "    }\n",
       "\n",
       "    .dataframe tbody tr th {\n",
       "        vertical-align: top;\n",
       "    }\n",
       "\n",
       "    .dataframe thead th {\n",
       "        text-align: right;\n",
       "    }\n",
       "</style>\n",
       "<table border=\"1\" class=\"dataframe\">\n",
       "  <thead>\n",
       "    <tr style=\"text-align: right;\">\n",
       "      <th></th>\n",
       "      <th>Count_of_sizes</th>\n",
       "      <th>Type_of_colors</th>\n",
       "      <th>Style code</th>\n",
       "    </tr>\n",
       "  </thead>\n",
       "  <tbody>\n",
       "    <tr>\n",
       "      <th>0</th>\n",
       "      <td>Sizes\\nFind your size\\n6\\n6.5\\n7\\n7.5\\n8\\n8.5\\...</td>\n",
       "      <td>Cloud White / Cloud White / Core Black</td>\n",
       "      <td>Product code: GW9283</td>\n",
       "    </tr>\n",
       "  </tbody>\n",
       "</table>\n",
       "</div>"
      ],
      "text/plain": [
       "                                      Count_of_sizes  \\\n",
       "0  Sizes\\nFind your size\\n6\\n6.5\\n7\\n7.5\\n8\\n8.5\\...   \n",
       "\n",
       "                           Type_of_colors            Style code  \n",
       "0  Cloud White / Cloud White / Core Black  Product code: GW9283  "
      ]
     },
     "execution_count": 116,
     "metadata": {},
     "output_type": "execute_result"
    }
   ],
   "source": [
    "import pandas as pd\n",
    "df91=pd.DataFrame({'Count_of_sizes':Count_of_sizes,'Type_of_colors':Type_of_colors,'Style code':Style_code})\n",
    "df91"
   ]
  },
  {
   "cell_type": "code",
   "execution_count": 142,
   "id": "f48253ea-5543-4096-aef2-082bdcfb5a30",
   "metadata": {
    "tags": []
   },
   "outputs": [],
   "source": [
    "search_keyword = driver.find_element(By.XPATH, '//*[@id=\"app\"]/div/div[1]/div[1]/div/div/div[1]/div/header/div[2]/div/div[2]/div/input')\n",
    "search_keyword.clear()\n",
    "search_keyword.send_keys('Shoes Men')"
   ]
  },
  {
   "cell_type": "code",
   "execution_count": 143,
   "id": "5c560d86-5eb9-469f-b10c-bcf43aea77b5",
   "metadata": {
    "tags": []
   },
   "outputs": [],
   "source": [
    "search_keyword = driver.find_element(By.XPATH, '//*[@id=\"app\"]/div/div[1]/div[1]/div/div/div[1]/div/header/div[2]/div/div[2]/div/div[2]/div/div[1]/div[2]/a[2]/div[1]')\n",
    "search_keyword.click()"
   ]
  },
  {
   "cell_type": "code",
   "execution_count": 119,
   "id": "e66ddf83-9837-443e-a679-a17ce45d7445",
   "metadata": {
    "tags": []
   },
   "outputs": [],
   "source": [
    "search_keyword = driver.find_element(By.XPATH, '//*[@id=\"main-content\"]/div/div[3]/div/div/div[2]/div[1]/div/div[38]/div/div/div/div/div/div')\n",
    "search_keyword.click()"
   ]
  },
  {
   "cell_type": "code",
   "execution_count": 124,
   "id": "f223adce-4fa1-42b6-88ff-89d2e7f4c049",
   "metadata": {
    "tags": []
   },
   "outputs": [],
   "source": [
    "Type_of_colors = []\n",
    "Style_code = []"
   ]
  },
  {
   "cell_type": "code",
   "execution_count": 125,
   "id": "b246b49b-4aad-4a07-9490-709e8c292089",
   "metadata": {
    "tags": []
   },
   "outputs": [],
   "source": [
    "title_tags=driver.find_elements(By.CLASS_NAME, 'single-color-label___29kFh')\n",
    "for i in title_tags[0:1]:\n",
    "    title=i.text\n",
    "    Type_of_colors.append(title)"
   ]
  },
  {
   "cell_type": "code",
   "execution_count": 126,
   "id": "0fca4310-52f9-4a32-9723-50060c5df726",
   "metadata": {
    "tags": []
   },
   "outputs": [],
   "source": [
    "title_tags=driver.find_elements(By.XPATH, '//*[@id=\"navigation-target-specifications\"]/div/div/div/div[1]/ul[2]/li[3]')\n",
    "for i in title_tags[0:1]:\n",
    "    title=i.text\n",
    "    Style_code.append(title)"
   ]
  },
  {
   "cell_type": "code",
   "execution_count": 127,
   "id": "37d55ab9-efeb-4bbc-9acd-d0f774d71c9e",
   "metadata": {
    "tags": []
   },
   "outputs": [
    {
     "name": "stdout",
     "output_type": "stream",
     "text": [
      "1 1\n"
     ]
    }
   ],
   "source": [
    "print(len(Type_of_colors), len(Style_code))"
   ]
  },
  {
   "cell_type": "code",
   "execution_count": 128,
   "id": "e475ef61-b8b1-4f1e-a31f-1cc256e7b609",
   "metadata": {
    "tags": []
   },
   "outputs": [
    {
     "data": {
      "text/html": [
       "<div>\n",
       "<style scoped>\n",
       "    .dataframe tbody tr th:only-of-type {\n",
       "        vertical-align: middle;\n",
       "    }\n",
       "\n",
       "    .dataframe tbody tr th {\n",
       "        vertical-align: top;\n",
       "    }\n",
       "\n",
       "    .dataframe thead th {\n",
       "        text-align: right;\n",
       "    }\n",
       "</style>\n",
       "<table border=\"1\" class=\"dataframe\">\n",
       "  <thead>\n",
       "    <tr style=\"text-align: right;\">\n",
       "      <th></th>\n",
       "      <th>Count_of_sizes</th>\n",
       "      <th>Type_of_colors</th>\n",
       "      <th>Style code</th>\n",
       "    </tr>\n",
       "  </thead>\n",
       "  <tbody>\n",
       "    <tr>\n",
       "      <th>0</th>\n",
       "      <td>Sizes\\nFind your size\\n6\\n6.5\\n7\\n7.5\\n8\\n8.5\\...</td>\n",
       "      <td>Glory Red / Off White / Cream White</td>\n",
       "      <td>Product code: IG1062</td>\n",
       "    </tr>\n",
       "  </tbody>\n",
       "</table>\n",
       "</div>"
      ],
      "text/plain": [
       "                                      Count_of_sizes  \\\n",
       "0  Sizes\\nFind your size\\n6\\n6.5\\n7\\n7.5\\n8\\n8.5\\...   \n",
       "\n",
       "                        Type_of_colors            Style code  \n",
       "0  Glory Red / Off White / Cream White  Product code: IG1062  "
      ]
     },
     "execution_count": 128,
     "metadata": {},
     "output_type": "execute_result"
    }
   ],
   "source": [
    "import pandas as pd\n",
    "df92=pd.DataFrame({'Count_of_sizes':Count_of_sizes,'Type_of_colors':Type_of_colors,'Style code':Style_code})\n",
    "df92"
   ]
  },
  {
   "cell_type": "code",
   "execution_count": 131,
   "id": "0a0fd2dc-47c2-4f60-ae5a-d99e7e51e535",
   "metadata": {
    "tags": []
   },
   "outputs": [],
   "source": [
    "search_keyword = driver.find_element(By.XPATH, '//*[@id=\"main-content\"]/div/div[3]/div/div/div[2]/div[1]/div/div[39]/div/div/div/div/div/div')\n",
    "search_keyword.click()"
   ]
  },
  {
   "cell_type": "code",
   "execution_count": 137,
   "id": "1e7ba65e-79f5-4fc1-9564-558e90b6ed30",
   "metadata": {
    "tags": []
   },
   "outputs": [],
   "source": [
    "Type_of_colors = []\n",
    "Style_code = []"
   ]
  },
  {
   "cell_type": "code",
   "execution_count": 138,
   "id": "ef475daf-f2c1-42e4-a197-237256d03e17",
   "metadata": {
    "tags": []
   },
   "outputs": [],
   "source": [
    "title_tags=driver.find_elements(By.CLASS_NAME, 'color-label___2hXaD')\n",
    "for i in title_tags[0:1]:\n",
    "    title=i.text\n",
    "    Type_of_colors.append(title)"
   ]
  },
  {
   "cell_type": "code",
   "execution_count": 139,
   "id": "cb71cb24-8102-44d5-9454-d3810db7ea0a",
   "metadata": {
    "tags": []
   },
   "outputs": [],
   "source": [
    "title_tags=driver.find_elements(By.XPATH, '//*[@id=\"navigation-target-specifications\"]/div/div/div/div[1]/ul[2]/li[5]')\n",
    "for i in title_tags[0:1]:\n",
    "    title=i.text\n",
    "    Style_code.append(title)"
   ]
  },
  {
   "cell_type": "code",
   "execution_count": 140,
   "id": "b1638452-b89e-4100-81bd-2db207c91cd8",
   "metadata": {
    "tags": []
   },
   "outputs": [
    {
     "name": "stdout",
     "output_type": "stream",
     "text": [
      "1 1\n"
     ]
    }
   ],
   "source": [
    "print(len(Type_of_colors), len(Style_code))"
   ]
  },
  {
   "cell_type": "code",
   "execution_count": 141,
   "id": "a61abb7c-0df1-4b7f-b207-817855dcef04",
   "metadata": {
    "tags": []
   },
   "outputs": [
    {
     "data": {
      "text/html": [
       "<div>\n",
       "<style scoped>\n",
       "    .dataframe tbody tr th:only-of-type {\n",
       "        vertical-align: middle;\n",
       "    }\n",
       "\n",
       "    .dataframe tbody tr th {\n",
       "        vertical-align: top;\n",
       "    }\n",
       "\n",
       "    .dataframe thead th {\n",
       "        text-align: right;\n",
       "    }\n",
       "</style>\n",
       "<table border=\"1\" class=\"dataframe\">\n",
       "  <thead>\n",
       "    <tr style=\"text-align: right;\">\n",
       "      <th></th>\n",
       "      <th>Count_of_sizes</th>\n",
       "      <th>Type_of_colors</th>\n",
       "      <th>Style code</th>\n",
       "    </tr>\n",
       "  </thead>\n",
       "  <tbody>\n",
       "    <tr>\n",
       "      <th>0</th>\n",
       "      <td>Sizes\\nFind your size\\n6\\n6.5\\n7\\n7.5\\n8\\n8.5\\...</td>\n",
       "      <td>Core White / Carbon / Screaming Orange S21</td>\n",
       "      <td>Product code: HP7864</td>\n",
       "    </tr>\n",
       "  </tbody>\n",
       "</table>\n",
       "</div>"
      ],
      "text/plain": [
       "                                      Count_of_sizes  \\\n",
       "0  Sizes\\nFind your size\\n6\\n6.5\\n7\\n7.5\\n8\\n8.5\\...   \n",
       "\n",
       "                               Type_of_colors            Style code  \n",
       "0  Core White / Carbon / Screaming Orange S21  Product code: HP7864  "
      ]
     },
     "execution_count": 141,
     "metadata": {},
     "output_type": "execute_result"
    }
   ],
   "source": [
    "import pandas as pd\n",
    "df93=pd.DataFrame({'Count_of_sizes':Count_of_sizes,'Type_of_colors':Type_of_colors,'Style code':Style_code})\n",
    "df93"
   ]
  },
  {
   "cell_type": "code",
   "execution_count": 150,
   "id": "3e99235b-d3ba-4245-8cbf-01d65b1db712",
   "metadata": {
    "tags": []
   },
   "outputs": [],
   "source": [
    "search_keyword = driver.find_element(By.XPATH, '//*[@id=\"main-content\"]/div/div[3]/div/div/div[2]/div[1]/div/div[47]/div/div/div/div/div/div')\n",
    "search_keyword.click()"
   ]
  },
  {
   "cell_type": "code",
   "execution_count": 159,
   "id": "4e628f1b-73b3-4643-8e82-1f3e62c90804",
   "metadata": {
    "tags": []
   },
   "outputs": [],
   "source": [
    "Type_of_colors = []\n",
    "Style_code = []"
   ]
  },
  {
   "cell_type": "code",
   "execution_count": 160,
   "id": "166d71dc-ea21-4ceb-abe8-7c97a70793b0",
   "metadata": {
    "tags": []
   },
   "outputs": [],
   "source": [
    "title_tags=driver.find_elements(By.CLASS_NAME, 'color-label___2hXaD')\n",
    "for i in title_tags[0:1]:\n",
    "    title=i.text\n",
    "    Type_of_colors.append(title)"
   ]
  },
  {
   "cell_type": "code",
   "execution_count": 161,
   "id": "ba4573aa-7457-4040-a50f-21805cfe48bb",
   "metadata": {
    "tags": []
   },
   "outputs": [],
   "source": [
    "title_tags=driver.find_elements(By.XPATH, '//*[@id=\"navigation-target-specifications\"]/div/div/div/div[1]/ul[2]/li[3]')\n",
    "for i in title_tags[0:1]:\n",
    "    title=i.text\n",
    "    Style_code.append(title)"
   ]
  },
  {
   "cell_type": "code",
   "execution_count": 162,
   "id": "ffff9d44-6b9a-47f5-a493-32eadaa2fb33",
   "metadata": {
    "tags": []
   },
   "outputs": [
    {
     "name": "stdout",
     "output_type": "stream",
     "text": [
      "1 1\n"
     ]
    }
   ],
   "source": [
    "print(len(Type_of_colors), len(Style_code))"
   ]
  },
  {
   "cell_type": "code",
   "execution_count": 163,
   "id": "5e83375f-72ab-48a8-a736-3077ee2a0b01",
   "metadata": {
    "tags": []
   },
   "outputs": [
    {
     "data": {
      "text/html": [
       "<div>\n",
       "<style scoped>\n",
       "    .dataframe tbody tr th:only-of-type {\n",
       "        vertical-align: middle;\n",
       "    }\n",
       "\n",
       "    .dataframe tbody tr th {\n",
       "        vertical-align: top;\n",
       "    }\n",
       "\n",
       "    .dataframe thead th {\n",
       "        text-align: right;\n",
       "    }\n",
       "</style>\n",
       "<table border=\"1\" class=\"dataframe\">\n",
       "  <thead>\n",
       "    <tr style=\"text-align: right;\">\n",
       "      <th></th>\n",
       "      <th>Count_of_sizes</th>\n",
       "      <th>Type_of_colors</th>\n",
       "      <th>Style code</th>\n",
       "    </tr>\n",
       "  </thead>\n",
       "  <tbody>\n",
       "    <tr>\n",
       "      <th>0</th>\n",
       "      <td>Sizes\\nFind your size\\n6\\n6.5\\n7\\n7.5\\n8\\n8.5\\...</td>\n",
       "      <td>Cloud White / Cloud White / Green</td>\n",
       "      <td>Product code: FX5502</td>\n",
       "    </tr>\n",
       "  </tbody>\n",
       "</table>\n",
       "</div>"
      ],
      "text/plain": [
       "                                      Count_of_sizes  \\\n",
       "0  Sizes\\nFind your size\\n6\\n6.5\\n7\\n7.5\\n8\\n8.5\\...   \n",
       "\n",
       "                      Type_of_colors            Style code  \n",
       "0  Cloud White / Cloud White / Green  Product code: FX5502  "
      ]
     },
     "execution_count": 163,
     "metadata": {},
     "output_type": "execute_result"
    }
   ],
   "source": [
    "import pandas as pd\n",
    "df94=pd.DataFrame({'Count_of_sizes':Count_of_sizes,'Type_of_colors':Type_of_colors,'Style code':Style_code})\n",
    "df94"
   ]
  },
  {
   "cell_type": "code",
   "execution_count": 27,
   "id": "3e1a84e5-5f04-41a1-839a-b2e3c23b4b9e",
   "metadata": {
    "tags": []
   },
   "outputs": [],
   "source": [
    "driver = webdriver.Chrome(service=Service(ChromeDriverManager().install()))"
   ]
  },
  {
   "cell_type": "code",
   "execution_count": 28,
   "id": "8e17cfc4-e62f-4078-85a9-4cd974a59b5e",
   "metadata": {
    "tags": []
   },
   "outputs": [],
   "source": [
    "driver.get(\"https://www.adidas.com\")"
   ]
  },
  {
   "cell_type": "code",
   "execution_count": 30,
   "id": "c65e2afc-0b27-4222-8bb3-b5ad77270280",
   "metadata": {
    "tags": []
   },
   "outputs": [],
   "source": [
    "search_keyword = driver.find_element(By.XPATH, '//*[@id=\"__next\"]/div[2]/div[2]/div/header/div[2]/div/div[2]/div/input')\n",
    "search_keyword.clear()\n",
    "search_keyword.send_keys('Shoes Women')"
   ]
  },
  {
   "cell_type": "code",
   "execution_count": 31,
   "id": "ad44681f-f21f-4837-96bd-ae36efb3c84b",
   "metadata": {
    "tags": []
   },
   "outputs": [],
   "source": [
    "search_keyword = driver.find_element(By.XPATH, '//*[@id=\"__next\"]/div[2]/div[2]/div/header/div[2]/div/div[2]/div/div[2]/div/div[1]/div[2]/a[1]/div[1]/span[1]')\n",
    "search_keyword.click()"
   ]
  },
  {
   "cell_type": "code",
   "execution_count": 32,
   "id": "f1d7c66e-9843-4b77-9acd-ba7cabdbcb0d",
   "metadata": {
    "tags": []
   },
   "outputs": [],
   "source": [
    "search_keyword = driver.find_element(By.XPATH, '//*[@id=\"main-content\"]/div/div[2]/div/div/div[2]/div[1]/div/div[1]/div/div/div/div/div/div/div[1]')\n",
    "search_keyword.click()"
   ]
  },
  {
   "cell_type": "code",
   "execution_count": 37,
   "id": "3271fd5d-6299-4fcd-9d9b-79d1c8feb884",
   "metadata": {
    "tags": []
   },
   "outputs": [],
   "source": [
    "Type_of_colors = []\n",
    "Style_code = []\n",
    "Count_of_sizes = []"
   ]
  },
  {
   "cell_type": "code",
   "execution_count": 38,
   "id": "0416382e-271d-419c-bc4a-177888a199ea",
   "metadata": {
    "tags": []
   },
   "outputs": [],
   "source": [
    "title_tags=driver.find_elements(By.XPATH,\"//ul[@data-auto-id='color_selector']/li//span[@class='gl-label']\")\n",
    "for i in title_tags[0:50]:\n",
    "    title=i.text\n",
    "    Count_of_sizes.append(title)"
   ]
  },
  {
   "cell_type": "code",
   "execution_count": 39,
   "id": "980f7af7-f6c9-40ee-a63f-c9eb527098ee",
   "metadata": {},
   "outputs": [
    {
     "name": "stdout",
     "output_type": "stream",
     "text": [
      "0\n"
     ]
    }
   ],
   "source": [
    "print(len(Count_of_sizes))"
   ]
  },
  {
   "cell_type": "code",
   "execution_count": 36,
   "id": "42d56ce9-6b0a-40a7-adc6-dd0bc20155f7",
   "metadata": {
    "tags": []
   },
   "outputs": [
    {
     "data": {
      "text/html": [
       "<div>\n",
       "<style scoped>\n",
       "    .dataframe tbody tr th:only-of-type {\n",
       "        vertical-align: middle;\n",
       "    }\n",
       "\n",
       "    .dataframe tbody tr th {\n",
       "        vertical-align: top;\n",
       "    }\n",
       "\n",
       "    .dataframe thead th {\n",
       "        text-align: right;\n",
       "    }\n",
       "</style>\n",
       "<table border=\"1\" class=\"dataframe\">\n",
       "  <thead>\n",
       "    <tr style=\"text-align: right;\">\n",
       "      <th></th>\n",
       "      <th>Type_of_colors</th>\n",
       "    </tr>\n",
       "  </thead>\n",
       "  <tbody>\n",
       "  </tbody>\n",
       "</table>\n",
       "</div>"
      ],
      "text/plain": [
       "Empty DataFrame\n",
       "Columns: [Type_of_colors]\n",
       "Index: []"
      ]
     },
     "execution_count": 36,
     "metadata": {},
     "output_type": "execute_result"
    }
   ],
   "source": [
    "import pandas as pd\n",
    "df94=pd.DataFrame({'Type_of_colors':Type_of_colors})\n",
    "df94"
   ]
  },
  {
   "cell_type": "code",
   "execution_count": null,
   "id": "27d27488-0630-48ca-8b16-9679753ad542",
   "metadata": {},
   "outputs": [],
   "source": [
    "import requests\n",
    "from bs4 import BeautifulSoup\n",
    "def scrape_website(url):\n",
    "    try:\n",
    "        response = requests.get(url)\n",
    "        if response.status_code == 200:\n",
    "            soup = BeautifulSoup(response.content, 'html.parser')\n",
    "            count_of_sizes = soup.find('span', {'class': 'count-of-sizes'}).text.strip() if soup.find('span', {'class': 'count-of-sizes'}) else 'N/A'\n",
    "            color1 = soup.find('span', {'class': 'color1'}).text.strip() if soup.find('span', {'class': 'color1'}) else 'N/A'\n",
    "            color2 = soup.find('span', {'class': 'color2'}).text.strip() if soup.find('span', {'class': 'color2'}) else 'N/A'\n",
    "            color3 = soup.find('span', {'class': 'color3'}).text.strip() if soup.find('span', {'class': 'color3'}) else 'N/A'\n",
    "            color4 = soup.find('span', {'class': 'color4'}).text.strip() if soup.find('span', {'class': 'color4'}) else 'N/A'\n",
    "            color5 = soup.find('span', {'class': 'color5'}).text.strip() if soup.find('span', {'class': 'color5'}) else 'N/A'\n",
    "            style_code = soup.find('span', {'class': 'style-code'}).text.strip() if soup.find('span', {'class': 'style-code'}) else 'N/A'\n",
    "            return {\n",
    "                'Count of Sizes': count_of_sizes,\n",
    "                'Color1': color1,\n",
    "                'Color2': color2,\n",
    "                'Color3': color3,\n",
    "                'Color4': color4,\n",
    "                'Color5': color5,\n",
    "                'Style Code': style_code\n",
    "            }\n",
    "        else:\n",
    "            print(f\"Failed to retrieve data from {url}. Status code: {response.status_code}\")\n",
    "            return None\n",
    "    except Exception as e:\n",
    "        print(f\"An error occurred: {str(e)}\")\n",
    "        return None\n",
    "urls_to_scrape = [\n",
    "    'https://www.nike.com',\n",
    "    'https://www.adidas.com',\n",
    "    'https://us.puma.com/us/en',\n",
    "    'https://www.skechers.com',\n",
    "    'https://www.columbia.com/',\n",
    "    'https://www.woodlandworldwide.com/'\n",
    "]\n",
    "for url in urls_to_scrape:\n",
    "    scraped_data = scrape_website(url)\n",
    "    if scraped_data:\n",
    "        print(f\"Data from {url}:\\n{scraped_data}\\n\")\n"
   ]
  },
  {
   "cell_type": "code",
   "execution_count": null,
   "id": "6ee68f51-9c86-421d-a1bb-65cadbe953f4",
   "metadata": {
    "tags": []
   },
   "outputs": [],
   "source": [
    "import requests\n",
    "from bs4 import BeautifulSoup\n",
    "def scrape_website(url):\n",
    "    try:\n",
    "        response = requests.get(url)\n",
    "        if response.status_code == 200:\n",
    "            soup = BeautifulSoup(response.content, 'html.parser')\n",
    "            reviews = soup.find('span', {'class': 'reviews'}).text.strip() if soup.find('span', {'class': 'reviews'}) else 'N/A'\n",
    "            size = soup.find('span', {'class': 'size'}).text.strip() if soup.find('span', {'class': 'size'}) else 'N/A'\n",
    "            comfort = soup.find('span', {'class': 'comfort'}).text.strip() if soup.find('span', {'class': 'comfort'}) else 'N/A'\n",
    "            performance = soup.find('span', {'class': 'performance'}).text.strip() if soup.find('span', {'class': 'performance'}) else 'N/A'\n",
    "            star_rating = soup.find('span', {'class': 'star-rating'}).text.strip() if soup.find('span', {'class': 'star-rating'}) else 'N/A'\n",
    "            return {\n",
    "                'Reviews': reviews,\n",
    "                'Size': size,\n",
    "                'Comfort': comfort,\n",
    "                'Performance': performance,\n",
    "                'Star Rating': star_rating\n",
    "            }\n",
    "        else:\n",
    "            print(f\"Failed to retrieve data from {url}. Status code: {response.status_code}\")\n",
    "            return None\n",
    "    except Exception as e:\n",
    "        print(f\"An error occurred: {str(e)}\")\n",
    "        return None\n",
    "urls_to_scrape = [\n",
    "    'https://www.nike.com',\n",
    "    'https://www.adidas.com',\n",
    "    'https://us.puma.com/us/en',\n",
    "    'https://www.skechers.com',\n",
    "    'https://www.columbia.com/',\n",
    "    'https://www.woodlandworldwide.com/'\n",
    "]\n",
    "for url in urls_to_scrape:\n",
    "    scraped_data = scrape_website(url)\n",
    "    if scraped_data:\n",
    "        print(f\"Data from {url}:\\n{scraped_data}\\n\")\n"
   ]
  },
  {
   "cell_type": "code",
   "execution_count": null,
   "id": "31e46947-bc1c-4292-a713-caee61f14d60",
   "metadata": {},
   "outputs": [],
   "source": []
  }
 ],
 "metadata": {
  "kernelspec": {
   "display_name": "Python 3 (ipykernel)",
   "language": "python",
   "name": "python3"
  },
  "language_info": {
   "codemirror_mode": {
    "name": "ipython",
    "version": 3
   },
   "file_extension": ".py",
   "mimetype": "text/x-python",
   "name": "python",
   "nbconvert_exporter": "python",
   "pygments_lexer": "ipython3",
   "version": "3.11.3"
  }
 },
 "nbformat": 4,
 "nbformat_minor": 5
}

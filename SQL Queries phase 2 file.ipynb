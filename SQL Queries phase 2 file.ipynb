{
 "cells": [
  {
   "cell_type": "code",
   "execution_count": 1,
   "id": "e2ab34b8-6ced-4fd6-aa81-b9fe87013722",
   "metadata": {
    "tags": []
   },
   "outputs": [],
   "source": [
    "import numpy as np\n",
    "import pandas as pd\n",
    "import seaborn as sns\n",
    "import matplotlib.pyplot as plt\n",
    "import scipy\n",
    "from sklearn import *\n",
    "import statsmodels.api as sm\n",
    "import networkx as nx\n",
    "import requests\n",
    "from flask import Flask\n",
    "import sqlalchemy\n",
    "import pytest\n",
    "import tkinter as tk\n",
    "import openpyxl"
   ]
  },
  {
   "cell_type": "code",
   "execution_count": 3,
   "id": "bf4dfced-aee2-43ed-a0e2-6e9839250a2c",
   "metadata": {
    "tags": []
   },
   "outputs": [
    {
     "name": "stdout",
     "output_type": "stream",
     "text": [
      "Defaulting to user installation because normal site-packages is not writeable\n",
      "Requirement already satisfied: sqlalchemy in c:\\users\\achu narayan\\appdata\\roaming\\python\\python311\\site-packages (2.0.20)\n",
      "Requirement already satisfied: typing-extensions>=4.2.0 in c:\\programdata\\anaconda3\\lib\\site-packages (from sqlalchemy) (4.6.3)\n",
      "Requirement already satisfied: greenlet!=0.4.17 in c:\\programdata\\anaconda3\\lib\\site-packages (from sqlalchemy) (2.0.1)\n",
      "Note: you may need to restart the kernel to use updated packages.\n"
     ]
    }
   ],
   "source": [
    "pip install sqlalchemy"
   ]
  },
  {
   "cell_type": "markdown",
   "id": "ef20c90c-fbce-4e40-9df8-7c251b70b9f1",
   "metadata": {},
   "source": [
    "1 Write a query  to retrieve all shoe names and their corresponding prices for men's shoes:"
   ]
  },
  {
   "cell_type": "code",
   "execution_count": 5,
   "id": "aba25c82-8b7e-41bc-9f63-9ff89754ecd9",
   "metadata": {
    "tags": []
   },
   "outputs": [],
   "source": [
    "import sqlite3\n",
    "import pandas as pd\n",
    "\n",
    "conn = sqlite3.connect('Table1.db')\n",
    "csv_file_path = r'C:\\Users\\ACHU NARAYAN\\Desktop\\dt\\assignment\\flip robo ds2306\\selenium\\table 1.csv'\n",
    "df = pd.read_csv(csv_file_path)\n",
    "table_name = 'Table1.db'\n",
    "df.to_sql(table_name, conn, if_exists='replace', index=False)\n",
    "conn.commit()"
   ]
  },
  {
   "cell_type": "code",
   "execution_count": 9,
   "id": "152d4e14-6481-41d3-8d08-bc8ecb97c997",
   "metadata": {
    "tags": []
   },
   "outputs": [
    {
     "name": "stdout",
     "output_type": "stream",
     "text": [
      "                                              ShoeName      Price\n",
      "0    Bestseller\\nNike Dunk Low Retro Premium\\nMen's...   9 695.00\n",
      "1             Nike Blazer Low '77 Vintage\\nMen's Shoes   7 195.00\n",
      "2        Bestseller\\nNike Air Force 1 '07\\nMen's Shoes   7 495.00\n",
      "3    Just In\\nNike Air Force 1 '07 Pro Tech\\nMen's ...  13 995.00\n",
      "4                   Nike Court Vision Low\\nMen's Shoes   5 695.00\n",
      "..                                                 ...        ...\n",
      "107                        Woodland OLIVE hiking boots       4295\n",
      "108                                 Grey boots for men       5995\n",
      "109                                     Excursion NTAN       3221\n",
      "110                    Tan Leather Chukka Boot for Men      12995\n",
      "111                         Black Chelsea Boot for Men      13995\n",
      "\n",
      "[112 rows x 2 columns]\n"
     ]
    }
   ],
   "source": [
    "import sqlite3\n",
    "import pandas as pd\n",
    "conn = sqlite3.connect('your_database_name.db')  \n",
    "cursor = conn.cursor()\n",
    "cursor.execute('''\n",
    "    CREATE TABLE IF NOT EXISTS shoes (\n",
    "        ShoeName TEXT,\n",
    "        Price REAL,\n",
    "        category TEXT\n",
    "    );\n",
    "''')\n",
    "conn.commit()\n",
    "csv_file_path = r'C:\\Users\\ACHU NARAYAN\\Desktop\\dt\\assignment\\flip robo ds2306\\selenium\\table 1.csv'\n",
    "df = pd.read_csv(csv_file_path)\n",
    "df.to_sql('shoes', conn, if_exists='replace', index=False)\n",
    "query = \"SELECT ShoeName, Price FROM shoes WHERE category = 'Men';\"\n",
    "result_df = pd.read_sql(query, conn)\n",
    "print(result_df)"
   ]
  },
  {
   "cell_type": "markdown",
   "id": "05000374-5048-41b9-9b8d-6b2f423ab78c",
   "metadata": {},
   "source": [
    "2 Write a query to retrieve the number of different colors available for each category."
   ]
  },
  {
   "cell_type": "code",
   "execution_count": 10,
   "id": "d3c07e91-4c2c-4bb7-bdd0-546dc8ccfe1a",
   "metadata": {
    "tags": []
   },
   "outputs": [
    {
     "name": "stdout",
     "output_type": "stream",
     "text": [
      "  category  NumColors\n",
      "0     None          1\n",
      "1      Men          7\n",
      "2     Men           9\n",
      "3    Women          8\n",
      "4   Women           6\n"
     ]
    }
   ],
   "source": [
    "import sqlite3\n",
    "import pandas as pd\n",
    "conn = sqlite3.connect('your_database_name.db') \n",
    "query = '''\n",
    "    SELECT category, COUNT(DISTINCT no_of_colors) AS NumColors\n",
    "    FROM shoes\n",
    "    GROUP BY category;\n",
    "'''\n",
    "result_df = pd.read_sql(query, conn)\n",
    "print(result_df)\n",
    "conn.close()"
   ]
  },
  {
   "cell_type": "markdown",
   "id": "4bce76e9-fcb7-44bd-a125-18a03cbd052e",
   "metadata": {},
   "source": [
    "Write a query to find the most expensive men's shoe."
   ]
  },
  {
   "cell_type": "code",
   "execution_count": 11,
   "id": "e1964e4c-ed89-4ccd-8031-c3eb5a5c4239",
   "metadata": {
    "tags": []
   },
   "outputs": [
    {
     "name": "stdout",
     "output_type": "stream",
     "text": [
      "                             ShoeName  Price\n",
      "0  Columbia Men Brown Plateau Venture  9,999\n"
     ]
    }
   ],
   "source": [
    "import sqlite3\n",
    "import pandas as pd\n",
    "conn = sqlite3.connect('your_database_name.db')\n",
    "query = '''\n",
    "    SELECT ShoeName, Price\n",
    "    FROM shoes\n",
    "    WHERE category = 'Men'\n",
    "    ORDER BY Price DESC\n",
    "    LIMIT 1;\n",
    "'''\n",
    "result_df = pd.read_sql(query, conn)\n",
    "print(result_df)\n",
    "conn.close()\n"
   ]
  },
  {
   "cell_type": "markdown",
   "id": "7dd3a330-cc77-4e05-a7ee-7d8c6384f0d9",
   "metadata": {},
   "source": [
    "1 Write a query that retrieves the count of sizes for all styles."
   ]
  },
  {
   "cell_type": "code",
   "execution_count": 17,
   "id": "237c6ecc-ca6b-4469-9def-6616d461cc56",
   "metadata": {
    "tags": []
   },
   "outputs": [],
   "source": [
    "import sqlite3\n",
    "import pandas as pd\n",
    "conn = sqlite3.connect('color.db')\n",
    "cursor = conn.cursor()\n",
    "cursor.execute('''\n",
    "    CREATE TABLE IF NOT EXISTS colors_data (\n",
    "        \"Count of sizes\" TEXT,\n",
    "        ProductCode TEXT,\n",
    "        StyleCode TEXT,\n",
    "        Color1 TEXT,\n",
    "        Color2 TEXT,\n",
    "        Color3 TEXT,\n",
    "        Color4 TEXT,\n",
    "        Color5 TEXT\n",
    "    );\n",
    "''')\n",
    "conn.commit()\n",
    "csv_file_path = r'C:\\Users\\ACHU NARAYAN\\Desktop\\dt\\assignment\\flip robo ds2306\\selenium\\table 2(AutoRecovered).csv'  \n",
    "df = pd.read_csv(csv_file_path)\n",
    "df.to_sql('colors_data', conn, if_exists='replace', index=False)\n",
    "conn.close()\n",
    "\n"
   ]
  },
  {
   "cell_type": "code",
   "execution_count": 18,
   "id": "405f4fd7-2779-4a93-ab47-1c8e06ae8a5b",
   "metadata": {
    "tags": []
   },
   "outputs": [
    {
     "name": "stdout",
     "output_type": "stream",
     "text": [
      "             Style  SizeCount\n",
      "0      FN3722-801           1\n",
      "1     FQ8147-104            1\n",
      "2           IE3079          1\n",
      "3       104339-PCH          1\n",
      "4       111413-PCH          1\n",
      "..             ...        ...\n",
      "281         ID9423          1\n",
      "282         IF9995          1\n",
      "283         IG1062          1\n",
      "284         IG6001          1\n",
      "285     YM8651-010          1\n",
      "\n",
      "[286 rows x 2 columns]\n"
     ]
    }
   ],
   "source": [
    "import sqlite3\n",
    "import pandas as pd\n",
    "conn = sqlite3.connect('color.db')\n",
    "cursor = conn.cursor()\n",
    "query = '''\n",
    "    SELECT \"StyleCode\" AS Style, COUNT(DISTINCT \"Count of sizes\") AS SizeCount\n",
    "    FROM colors_data\n",
    "    GROUP BY \"StyleCode\";\n",
    "'''\n",
    "result_df = pd.read_sql(query, conn)\n",
    "print(result_df)\n",
    "conn.close()\n"
   ]
  },
  {
   "cell_type": "code",
   "execution_count": 19,
   "id": "2bb5919d-c1ee-41d5-966e-d15dd95ceb69",
   "metadata": {
    "tags": []
   },
   "outputs": [
    {
     "name": "stdout",
     "output_type": "stream",
     "text": [
      "             Style                   SizeCount\n",
      "0     FB8896-300    UK 6 (EU 40)\\UK 6.5\\...   \n",
      "1       DA6364-115  UK 6 (EU 40)\\UK 6.5\\...   \n",
      "2     CW2288-111    UK 5.5\\UK 6 (EU 39)\\...   \n",
      "3     FB8875-002    UK 5.5\\UK 6 (EU 39)\\...   \n",
      "4       FQ8075-133  UK 5.5\\UK 6 (EU 39)\\...   \n",
      "..             ...                         ...\n",
      "289  FLC0BU028831A        35\\36\\37\\38\\39\\40\\41\n",
      "290  FLC0310S2542A        35\\36\\37\\38\\39\\40\\41\n",
      "291  FLC0180R4192B        35\\36\\37\\38\\39\\40\\41\n",
      "292  FLC0180R4182B        35\\36\\37\\38\\39\\40\\41\n",
      "293  FLC0H40U6452A        35\\36\\37\\38\\39\\40\\41\n",
      "\n",
      "[294 rows x 2 columns]\n"
     ]
    }
   ],
   "source": [
    "import sqlite3\n",
    "import pandas as pd\n",
    "conn = sqlite3.connect('color.db') \n",
    "cursor = conn.cursor()\n",
    "query = '''\n",
    "    SELECT \"StyleCode\" AS Style, \"Count of sizes\" AS SizeCount\n",
    "    FROM colors_data;\n",
    "'''\n",
    "result_df = pd.read_sql(query, conn)\n",
    "print(result_df)\n",
    "conn.close()\n"
   ]
  },
  {
   "cell_type": "markdown",
   "id": "1972f550-3ad3-4f0c-8ee5-f47e2f9a8219",
   "metadata": {},
   "source": [
    "2  Write a query to list all styles with their associated colors."
   ]
  },
  {
   "cell_type": "code",
   "execution_count": 20,
   "id": "4599fad9-dc5f-4e44-8a91-87aceb735e8d",
   "metadata": {
    "tags": []
   },
   "outputs": [
    {
     "name": "stdout",
     "output_type": "stream",
     "text": [
      "          Style                    Color1               Color2  \\\n",
      "0    Style Code              Deep Jungle          Light Silver   \n",
      "1    Style Code                     White                 Sail   \n",
      "2    Style Code                     White                White   \n",
      "3    Style Code   Light Silver                           Clear   \n",
      "4    Style Code                      Sail  Light Orewood Brown   \n",
      "..          ...                       ...                  ...   \n",
      "214  Style Code             RUSSIA DBROWN                 None   \n",
      "215  Style Code               BRIGHT GREY                 None   \n",
      "216  Style Code               DROYAL BLUE                 None   \n",
      "217  Style Code                     BEIGE                 None   \n",
      "218  Style Code                 RUSTY RED                 None   \n",
      "\n",
      "             Color3         Color4 Color5  \n",
      "0       Deep Jungle          White   None  \n",
      "1             Black  Pine Green      None  \n",
      "2              None           None   None  \n",
      "3    Light Silver             None   None  \n",
      "4             White          Black   None  \n",
      "..              ...            ...    ...  \n",
      "214            None           None   None  \n",
      "215            None           None   None  \n",
      "216            None           None   None  \n",
      "217            None           None   None  \n",
      "218            None           None   None  \n",
      "\n",
      "[219 rows x 6 columns]\n"
     ]
    }
   ],
   "source": [
    "import sqlite3\n",
    "import pandas as pd\n",
    "conn = sqlite3.connect('color.db') \n",
    "cursor = conn.cursor()\n",
    "query = '''\n",
    "    SELECT DISTINCT \"Style Code\" AS Style, Color1, Color2, Color3, Color4, Color5\n",
    "    FROM colors_data;\n",
    "'''\n",
    "result_df = pd.read_sql(query, conn)\n",
    "print(result_df)\n",
    "conn.close()\n"
   ]
  },
  {
   "cell_type": "markdown",
   "id": "87af410b-79bd-466d-b882-6a773a17a0d8",
   "metadata": {},
   "source": [
    "3 Write a to find styles that have more than one color."
   ]
  },
  {
   "cell_type": "code",
   "execution_count": 23,
   "id": "7f59b4ef-f872-4edd-ad79-8b2bc0ba2b7a",
   "metadata": {
    "tags": []
   },
   "outputs": [
    {
     "name": "stdout",
     "output_type": "stream",
     "text": [
      "             Style\n",
      "0      FN3722-801 \n",
      "1     FQ8147-104  \n",
      "2           IE3079\n",
      "3        190305_10\n",
      "4        191667_02\n",
      "..             ...\n",
      "198         ID9423\n",
      "199         IF9995\n",
      "200         IG1062\n",
      "201         IG6001\n",
      "202     YM8651-010\n",
      "\n",
      "[203 rows x 1 columns]\n"
     ]
    }
   ],
   "source": [
    "import sqlite3\n",
    "import pandas as pd\n",
    "conn = sqlite3.connect('color.db') \n",
    "cursor = conn.cursor()\n",
    "query = '''\n",
    "    SELECT \"StyleCode\" AS Style\n",
    "    FROM colors_data\n",
    "    WHERE Color2 IS NOT NULL\n",
    "       OR Color3 IS NOT NULL\n",
    "       OR Color4 IS NOT NULL\n",
    "       OR Color5 IS NOT NULL\n",
    "    GROUP BY \"StyleCode\"\n",
    "    HAVING COUNT(DISTINCT Color1) + COUNT(DISTINCT Color2) + COUNT(DISTINCT Color3) + COUNT(DISTINCT Color4) + COUNT(DISTINCT Color5) > 1;\n",
    "'''\n",
    "result_df = pd.read_sql(query, conn)\n",
    "print(result_df)\n",
    "conn.close()\n"
   ]
  },
  {
   "cell_type": "markdown",
   "id": "c63f245c-9ad6-487d-9dd2-3feee3b4c6f4",
   "metadata": {},
   "source": [
    "4  Write a query to find the count of sizes available for each color for a specific style code."
   ]
  },
  {
   "cell_type": "code",
   "execution_count": 24,
   "id": "e84b5c67-2f02-4af0-a408-9117ab7e0d62",
   "metadata": {
    "tags": []
   },
   "outputs": [
    {
     "name": "stdout",
     "output_type": "stream",
     "text": [
      "             Style                 Color1  SizeCount1           Color2  \\\n",
      "0      FN3722-801            Sky J Orange           1          Sail      \n",
      "1     FQ8147-104    Light Orewood Brown             1  Gum Light Brown   \n",
      "2           IE3079                   Talc           1       Core Black   \n",
      "3       104339-PCH                   None           1             None   \n",
      "4       111413-PCH                   None           1             None   \n",
      "..             ...                    ...         ...              ...   \n",
      "288         ID9423             Core Black           1       Core Black   \n",
      "289         IF9995            Cloud White           1       Core Black   \n",
      "290         IG1062             Glory Red            1       Off White    \n",
      "291         IG6001            Core Black            1       Core Black   \n",
      "292     YM8651-010                  Black           1              Owl   \n",
      "\n",
      "     SizeCount2            Color3  SizeCount3 Color4  SizeCount4 Color5  \\\n",
      "0             1              None           1   None           1   None   \n",
      "1             1              None           1   None           1   None   \n",
      "2             1   Pulse Olive F22           1   None           1   None   \n",
      "3             1              None           1   None           1   None   \n",
      "4             1              None           1   None           1   None   \n",
      "..          ...               ...         ...    ...         ...    ...   \n",
      "288           1  Coral Fusion S23           1   None           1   None   \n",
      "289           1     Gold Metallic           1   None           1   None   \n",
      "290           1       Cream White           1   None           1   None   \n",
      "291           1       Cloud White           1   None           1   None   \n",
      "292           1              None           1   None           1   None   \n",
      "\n",
      "     SizeCount5  \n",
      "0             1  \n",
      "1             1  \n",
      "2             1  \n",
      "3             1  \n",
      "4             1  \n",
      "..          ...  \n",
      "288           1  \n",
      "289           1  \n",
      "290           1  \n",
      "291           1  \n",
      "292           1  \n",
      "\n",
      "[293 rows x 11 columns]\n"
     ]
    }
   ],
   "source": [
    "import sqlite3\n",
    "import pandas as pd\n",
    "conn = sqlite3.connect('color.db') \n",
    "cursor = conn.cursor()\n",
    "style_code = 'StyleCode' \n",
    "query = f'''\n",
    "    SELECT \"{style_code}\" AS Style,\n",
    "           Color1,\n",
    "           COUNT(DISTINCT \"Count of sizes\") AS SizeCount1,\n",
    "           Color2,\n",
    "           COUNT(DISTINCT \"Count of sizes\") AS SizeCount2,\n",
    "           Color3,\n",
    "           COUNT(DISTINCT \"Count of sizes\") AS SizeCount3,\n",
    "           Color4,\n",
    "           COUNT(DISTINCT \"Count of sizes\") AS SizeCount4,\n",
    "           Color5,\n",
    "           COUNT(DISTINCT \"Count of sizes\") AS SizeCount5\n",
    "    FROM colors_data\n",
    "    WHERE \"StyleCode\" = \"{style_code}\"\n",
    "    GROUP BY \"StyleCode\", Color1, Color2, Color3, Color4, Color5;\n",
    "'''\n",
    "result_df = pd.read_sql(query, conn)\n",
    "print(result_df)\n",
    "conn.close()\n"
   ]
  },
  {
   "cell_type": "code",
   "execution_count": 25,
   "id": "ce95ca69-e23e-4689-ac4e-60af9fa245ec",
   "metadata": {
    "tags": []
   },
   "outputs": [
    {
     "name": "stdout",
     "output_type": "stream",
     "text": [
      "             Style                    Color1                  SizeCount1  \\\n",
      "0     FB8896-300                Deep Jungle   UK 6 (EU 40)\\UK 6.5\\...      \n",
      "1       DA6364-115                     White  UK 6 (EU 40)\\UK 6.5\\...      \n",
      "2     CW2288-111                       White  UK 5.5\\UK 6 (EU 39)\\...      \n",
      "3     FB8875-002     Light Silver             UK 5.5\\UK 6 (EU 39)\\...      \n",
      "4       FQ8075-133                      Sail  UK 5.5\\UK 6 (EU 39)\\...      \n",
      "..             ...                       ...                         ...   \n",
      "289  FLC0BU028831A                     BLACK        35\\36\\37\\38\\39\\40\\41   \n",
      "290  FLC0310S2542A                     CAMEL        35\\36\\37\\38\\39\\40\\41   \n",
      "291  FLC0180R4192B                     BLACK        35\\36\\37\\38\\39\\40\\41   \n",
      "292  FLC0180R4182B                     BLACK        35\\36\\37\\38\\39\\40\\41   \n",
      "293  FLC0H40U6452A                     BLACK        35\\36\\37\\38\\39\\40\\41   \n",
      "\n",
      "                  Color2                  SizeCount2          Color3  \\\n",
      "0           Light Silver  UK 6 (EU 40)\\UK 6.5\\...        Deep Jungle   \n",
      "1                   Sail  UK 6 (EU 40)\\UK 6.5\\...              Black   \n",
      "2                  White  UK 5.5\\UK 6 (EU 39)\\...               None   \n",
      "3                  Clear  UK 5.5\\UK 6 (EU 39)\\...     Light Silver     \n",
      "4    Light Orewood Brown  UK 5.5\\UK 6 (EU 39)\\...              White   \n",
      "..                   ...                         ...             ...   \n",
      "289                 None        35\\36\\37\\38\\39\\40\\41            None   \n",
      "290                 None        35\\36\\37\\38\\39\\40\\41            None   \n",
      "291                 None        35\\36\\37\\38\\39\\40\\41            None   \n",
      "292                 None        35\\36\\37\\38\\39\\40\\41            None   \n",
      "293                 None        35\\36\\37\\38\\39\\40\\41            None   \n",
      "\n",
      "                     SizeCount3         Color4                  SizeCount4  \\\n",
      "0    UK 6 (EU 40)\\UK 6.5\\...             White  UK 6 (EU 40)\\UK 6.5\\...      \n",
      "1    UK 6 (EU 40)\\UK 6.5\\...     Pine Green     UK 6 (EU 40)\\UK 6.5\\...      \n",
      "2    UK 5.5\\UK 6 (EU 39)\\...              None  UK 5.5\\UK 6 (EU 39)\\...      \n",
      "3    UK 5.5\\UK 6 (EU 39)\\...              None  UK 5.5\\UK 6 (EU 39)\\...      \n",
      "4    UK 5.5\\UK 6 (EU 39)\\...             Black  UK 5.5\\UK 6 (EU 39)\\...      \n",
      "..                          ...            ...                         ...   \n",
      "289        35\\36\\37\\38\\39\\40\\41           None        35\\36\\37\\38\\39\\40\\41   \n",
      "290        35\\36\\37\\38\\39\\40\\41           None        35\\36\\37\\38\\39\\40\\41   \n",
      "291        35\\36\\37\\38\\39\\40\\41           None        35\\36\\37\\38\\39\\40\\41   \n",
      "292        35\\36\\37\\38\\39\\40\\41           None        35\\36\\37\\38\\39\\40\\41   \n",
      "293        35\\36\\37\\38\\39\\40\\41           None        35\\36\\37\\38\\39\\40\\41   \n",
      "\n",
      "    Color5                  SizeCount5  \n",
      "0     None  UK 6 (EU 40)\\UK 6.5\\...     \n",
      "1     None  UK 6 (EU 40)\\UK 6.5\\...     \n",
      "2     None  UK 5.5\\UK 6 (EU 39)\\...     \n",
      "3     None  UK 5.5\\UK 6 (EU 39)\\...     \n",
      "4     None  UK 5.5\\UK 6 (EU 39)\\...     \n",
      "..     ...                         ...  \n",
      "289   None        35\\36\\37\\38\\39\\40\\41  \n",
      "290   None        35\\36\\37\\38\\39\\40\\41  \n",
      "291   None        35\\36\\37\\38\\39\\40\\41  \n",
      "292   None        35\\36\\37\\38\\39\\40\\41  \n",
      "293   None        35\\36\\37\\38\\39\\40\\41  \n",
      "\n",
      "[294 rows x 11 columns]\n"
     ]
    }
   ],
   "source": [
    "import sqlite3\n",
    "import pandas as pd\n",
    "conn = sqlite3.connect('color.db') \n",
    "cursor = conn.cursor()\n",
    "style_code = 'StyleCode' \n",
    "query = f'''\n",
    "    SELECT \"{style_code}\" AS Style,\n",
    "           Color1,\n",
    "           \"Count of sizes\" AS SizeCount1,\n",
    "           Color2,\n",
    "           \"Count of sizes\" AS SizeCount2,\n",
    "           Color3,\n",
    "           \"Count of sizes\" AS SizeCount3,\n",
    "           Color4,\n",
    "           \"Count of sizes\" AS SizeCount4,\n",
    "           Color5,\n",
    "           \"Count of sizes\" AS SizeCount5\n",
    "    FROM colors_data\n",
    "    WHERE \"StyleCode\" = \"{style_code}\";\n",
    "'''\n",
    "result_df = pd.read_sql(query, conn)\n",
    "print(result_df)\n",
    "conn.close()\n"
   ]
  },
  {
   "cell_type": "markdown",
   "id": "b0d4d0ac-2404-4864-9468-4933b9c3b979",
   "metadata": {},
   "source": [
    "5  Write a query to find styles that have a specific color."
   ]
  },
  {
   "cell_type": "code",
   "execution_count": 26,
   "id": "4d9587de-a7ce-4f9c-9d20-d71c97bcfad5",
   "metadata": {
    "tags": []
   },
   "outputs": [
    {
     "name": "stdout",
     "output_type": "stream",
     "text": [
      "          Style\n",
      "0    DA6364-115\n",
      "1  CW2288-111  \n",
      "2  DH3162-100  \n",
      "3  DA6364-101  \n",
      "4  DR5540-102  \n",
      "5   FB2269-103 \n",
      "6    FB9893-101\n",
      "7    FD8683-100\n"
     ]
    }
   ],
   "source": [
    "import sqlite3\n",
    "import pandas as pd\n",
    "conn = sqlite3.connect('color.db')\n",
    "cursor = conn.cursor()\n",
    "specific_color = 'White' \n",
    "query = f'''\n",
    "    SELECT DISTINCT \"StyleCode\" AS Style\n",
    "    FROM colors_data\n",
    "    WHERE Color1 = \"White\"\n",
    "       OR Color2 = \"Sail\"\n",
    "       OR Color3 = \"Pine Green\";\n",
    "'''\n",
    "result_df = pd.read_sql(query, conn)\n",
    "print(result_df)\n",
    "conn.close()\n"
   ]
  },
  {
   "cell_type": "markdown",
   "id": "faaaca42-4bd0-4a78-acad-7272137ca6d5",
   "metadata": {},
   "source": [
    "1 Write a query calculates the average comfort rating for a specific product based on its reviews."
   ]
  },
  {
   "cell_type": "code",
   "execution_count": 27,
   "id": "7c0aaca0-235a-406e-a67f-044780a8b135",
   "metadata": {
    "tags": []
   },
   "outputs": [],
   "source": [
    "import sqlite3\n",
    "import pandas as pd\n",
    "conn = sqlite3.connect('product_ratings.db') \n",
    "cursor = conn.cursor()\n",
    "cursor.execute('''\n",
    "    CREATE TABLE IF NOT EXISTS product_ratings (\n",
    "        Reviews TEXT,\n",
    "        Size INTEGER,\n",
    "        Comfort TEXT,\n",
    "        Performance INTEGER,\n",
    "        StarRating REAL\n",
    "    );\n",
    "''')\n",
    "conn.commit()\n",
    "csv_file_path = r'C:\\Users\\ACHU NARAYAN\\Desktop\\dt\\assignment\\flip robo ds2306\\selenium\\table 3.csv'\n",
    "df = pd.read_csv(csv_file_path)\n",
    "df.to_sql('product_ratings', conn, if_exists='replace', index=False)\n",
    "conn.close()\n"
   ]
  },
  {
   "cell_type": "code",
   "execution_count": 33,
   "id": "19a47cb9-6e25-4342-bea2-281cdb718593",
   "metadata": {
    "tags": []
   },
   "outputs": [
    {
     "name": "stdout",
     "output_type": "stream",
     "text": [
      "             Comfort\n",
      "0   very comfortable\n",
      "1    not comfortable\n",
      "2        Comfortable\n",
      "3   Very Comfortable\n",
      "4        Comfortable\n",
      "5   Very Comfortable\n",
      "6        Comfortable\n",
      "7        Comfortable\n",
      "8   Very Comfortable\n",
      "9   Very Comfortable\n",
      "10  Very Comfortable\n",
      "11  Very Comfortable\n",
      "12  Very Comfortable\n",
      "13       Comfortable\n",
      "14       Comfortable\n",
      "15       Comfortable\n",
      "16  Very Comfortable\n",
      "17       Comfortable\n",
      "18       Comfortable\n",
      "19  Very Comfortable\n",
      "20       Comfortable\n",
      "21  Very Comfortable\n",
      "22  Very Comfortable\n",
      "23       Comfortable\n",
      "24  Very Comfortable\n",
      "25       Comfortable\n",
      "26  Very Comfortable\n",
      "27       Comfortable\n",
      "28       Comfortable\n",
      "29   Not Comfortable\n",
      "30   Not Comfortable\n",
      "31   Not Comfortable\n"
     ]
    }
   ],
   "source": [
    "import sqlite3\n",
    "import pandas as pd\n",
    "conn = sqlite3.connect('product_ratings.db') \n",
    "specific_product = 'Best'  \n",
    "query = f'''\n",
    "    SELECT Comfort\n",
    "    FROM product_ratings\n",
    "    WHERE Reviews LIKE '%{specific_product}%';\n",
    "'''\n",
    "result_df = pd.read_sql(query, conn)\n",
    "print(result_df)\n",
    "conn.close()\n",
    "\n",
    "\n",
    "\n"
   ]
  },
  {
   "cell_type": "markdown",
   "id": "35abe3ec-e9f7-4995-aba0-a774dd0dd8f7",
   "metadata": {},
   "source": [
    "2  Write a query to retrieve products with high star ratings (e.g., 4 stars or above)"
   ]
  },
  {
   "cell_type": "code",
   "execution_count": 34,
   "id": "9a5364dc-38c0-47de-9951-c180b9dba14f",
   "metadata": {
    "tags": []
   },
   "outputs": [
    {
     "name": "stdout",
     "output_type": "stream",
     "text": [
      "                                               Reviews  \\\n",
      "0        Good shoes great fit recommend you buy some .   \n",
      "1    Best I ever had lol n a sneaker\\nGot these bef...   \n",
      "2    Loving ❤️ it ✔️ this is fascinating eager to r...   \n",
      "3    Great Daily Trainer\\nI just purchased these sh...   \n",
      "4    The photos definitely don’t do them justice bu...   \n",
      "..                                                 ...   \n",
      "214  These shoes are the epitome of comfort, fittin...   \n",
      "215  The most comfortable ever. The fit is true to ...   \n",
      "216  A pair of shoes that's super comfy for the ent...   \n",
      "217  These shoes rank as the most comfortable Nikes...   \n",
      "218  Exceptionally comfy for the entire day. The fi...   \n",
      "\n",
      "                           Size           Comfort  performance  starrating  \n",
      "0    UK 6 (EU 40)\\UK 6.5\\...          Comfortable          5.0         5.0  \n",
      "1    UK 5.5\\UK 6 (EU 39)\\...     very comfortable          4.0         4.8  \n",
      "2    UK 6 (EU 40)\\UK 6.5\\...     Very comfortable          4.0         4.6  \n",
      "3    UK 5.5\\UK 6 (EU 39)\\...     very comfortable          5.0         4.7  \n",
      "4    UK 6 (EU 40)\\UK 6.5\\...          comfortable          3.0         4.9  \n",
      "..                          ...               ...          ...         ...  \n",
      "214        35\\36\\37\\38\\39\\40\\41  Very Comfortable          7.0         5.0  \n",
      "215        35\\36\\37\\38\\39\\40\\41  Very Comfortable          0.0         5.0  \n",
      "216        35\\36\\37\\38\\39\\40\\41       Comfortable          6.0         4.1  \n",
      "217        35\\36\\37\\38\\39\\40\\41       Comfortable          6.0         4.6  \n",
      "218        35\\36\\37\\38\\39\\40\\41       Comfortable          6.0         4.9  \n",
      "\n",
      "[219 rows x 5 columns]\n"
     ]
    }
   ],
   "source": [
    "import sqlite3\n",
    "import pandas as pd\n",
    "conn = sqlite3.connect('product_ratings.db') \n",
    "query = '''\n",
    "    SELECT *\n",
    "    FROM product_ratings\n",
    "    WHERE starrating >= 4;\n",
    "'''\n",
    "result_df = pd.read_sql(query, conn)\n",
    "print(result_df)\n",
    "conn.close()\n"
   ]
  },
  {
   "cell_type": "markdown",
   "id": "e5529afa-762e-407e-a1e4-8f139cf38d87",
   "metadata": {},
   "source": [
    "3 Write a query that counts the number of reviews for each product."
   ]
  },
  {
   "cell_type": "code",
   "execution_count": 35,
   "id": "8d1f1b84-a697-4588-a55d-287de0f2dbb8",
   "metadata": {
    "tags": []
   },
   "outputs": [
    {
     "name": "stdout",
     "output_type": "stream",
     "text": [
      "                                               Reviews  WordCount\n",
      "0        Good shoes great fit recommend you buy some .        9.0\n",
      "1                                                  nil        1.0\n",
      "2                                                  nil        1.0\n",
      "3                                                  nil        1.0\n",
      "4    Best I ever had lol n a sneaker\\nGot these bef...       93.0\n",
      "..                                                 ...        ...\n",
      "289  These shoes are the epitome of comfort, fittin...       31.0\n",
      "290  The most comfortable ever. The fit is true to ...       48.0\n",
      "291  A pair of shoes that's super comfy for the ent...       32.0\n",
      "292  These shoes rank as the most comfortable Nikes...       58.0\n",
      "293  Exceptionally comfy for the entire day. The fi...       53.0\n",
      "\n",
      "[294 rows x 2 columns]\n"
     ]
    }
   ],
   "source": [
    "import sqlite3\n",
    "import pandas as pd\n",
    "conn = sqlite3.connect('product_ratings.db') \n",
    "query = '''\n",
    "    SELECT Reviews, LENGTH(Reviews) - LENGTH(REPLACE(Reviews, ' ', '')) + 1 AS WordCount\n",
    "    FROM product_ratings;\n",
    "'''\n",
    "result_df = pd.read_sql(query, conn)\n",
    "print(result_df)\n",
    "conn.close()\n"
   ]
  },
  {
   "cell_type": "markdown",
   "id": "66f21d45-31d0-4c34-8716-f3bdc6222ef8",
   "metadata": {},
   "source": [
    "4  Write a To retrieve products that have a quantified durability/quality/performance rating above a certain threshold (e.g., above 4)."
   ]
  },
  {
   "cell_type": "code",
   "execution_count": 36,
   "id": "41b41657-3586-4046-9637-29c6a066c6fd",
   "metadata": {
    "tags": []
   },
   "outputs": [
    {
     "name": "stdout",
     "output_type": "stream",
     "text": [
      "                                               Reviews  \\\n",
      "0        Good shoes great fit recommend you buy some .   \n",
      "1                                                  nil   \n",
      "2    Great Daily Trainer\\nI just purchased these sh...   \n",
      "3    Looks over comfort\\nVery good looking shoes es...   \n",
      "4    Great product\\nThis shoes is awesome. It’s so ...   \n",
      "..                                                 ...   \n",
      "196  A shoe that's super comfy all day long. It's e...   \n",
      "197  These shoes are the epitome of comfort, fittin...   \n",
      "198  A pair of shoes that's super comfy for the ent...   \n",
      "199  These shoes rank as the most comfortable Nikes...   \n",
      "200  Exceptionally comfy for the entire day. The fi...   \n",
      "\n",
      "                           Size           Comfort  performance  starrating  \n",
      "0    UK 6 (EU 40)\\UK 6.5\\...          Comfortable          5.0         5.0  \n",
      "1    UK 5.5\\UK 6 (EU 39)\\...                  nil          6.0         0.0  \n",
      "2    UK 5.5\\UK 6 (EU 39)\\...     very comfortable          5.0         4.7  \n",
      "3    UK 6 (EU 40)\\UK 6.5\\...     Very comfortable          6.0         4.8  \n",
      "4     UK 5.5\\UK 6\\UK 6.5\\...     Very comfortable          5.0         4.4  \n",
      "..                          ...               ...          ...         ...  \n",
      "196        35\\36\\37\\38\\39\\40\\41  Very Comfortable          7.0         5.0  \n",
      "197        35\\36\\37\\38\\39\\40\\41  Very Comfortable          7.0         5.0  \n",
      "198        35\\36\\37\\38\\39\\40\\41       Comfortable          6.0         4.1  \n",
      "199        35\\36\\37\\38\\39\\40\\41       Comfortable          6.0         4.6  \n",
      "200        35\\36\\37\\38\\39\\40\\41       Comfortable          6.0         4.9  \n",
      "\n",
      "[201 rows x 5 columns]\n"
     ]
    }
   ],
   "source": [
    "import sqlite3\n",
    "import pandas as pd\n",
    "conn = sqlite3.connect('product_ratings.db') \n",
    "threshold = 4  \n",
    "query = f'''\n",
    "    SELECT *\n",
    "    FROM product_ratings\n",
    "    WHERE performance > {threshold};\n",
    "'''\n",
    "result_df = pd.read_sql(query, conn)\n",
    "print(result_df)\n",
    "conn.close()\n"
   ]
  },
  {
   "cell_type": "markdown",
   "id": "8f8df268-0627-4054-970c-ea70eb089345",
   "metadata": {},
   "source": [
    "5 Write a query that  calculates the average comfort rating for each size."
   ]
  },
  {
   "cell_type": "code",
   "execution_count": 37,
   "id": "7d4da85d-d990-4fd1-93fe-e3dd107cc58c",
   "metadata": {
    "tags": []
   },
   "outputs": [
    {
     "name": "stdout",
     "output_type": "stream",
     "text": [
      "                                                 Size AverageComfortRating\n",
      "0                                                 ...          Comfortable\n",
      "1                                35\\36\\37\\38\\39\\40\\41     Very Comfortable\n",
      "2                                39\\40\\41\\42\\43\\44\\45     Very Comfortable\n",
      "3                          39\\40\\41\\42\\43\\44\\45\\46\\47      Not Comfortable\n",
      "4                               3\\3.5\\4\\4.5\\5\\5.5\\...     Very Comfortable\n",
      "..                                                ...                  ...\n",
      "58                                UK-5\\UK-6\\UK-7\\UK-8          Comfortable\n",
      "59              UK-6\\UK-7\\UK-8\\UK-9\\UK-10\\UK-11\\UK-12      Not Comfortable\n",
      "60                         UK-7\\UK-8\\UK-9\\UK-10\\UK-11      Not Comfortable\n",
      "61       UK-7\\UK-8\\UK-9\\UK-10\\UK-11\\UK-12\\UK-13\\UK-14     Very Comfortable\n",
      "62  UK6\\UK6.5\\UK-7\\UK7.5\\UK-8\\UK8.5\\UK-9\\UK-9.5\\UK...      Not Comfortable\n",
      "\n",
      "[63 rows x 2 columns]\n"
     ]
    }
   ],
   "source": [
    "import sqlite3\n",
    "import pandas as pd\n",
    "conn = sqlite3.connect('product_ratings.db') \n",
    "query = '''\n",
    "    SELECT Size, Comfort AS AverageComfortRating\n",
    "    FROM product_ratings\n",
    "    GROUP BY Size;\n",
    "'''\n",
    "result_df = pd.read_sql(query, conn)\n",
    "print(result_df)\n",
    "conn.close()\n"
   ]
  },
  {
   "cell_type": "markdown",
   "id": "211bb25e-6c87-490e-8903-9af4cd7e5bc0",
   "metadata": {},
   "source": [
    "1 Write a query finds the top-rated men's shoes along with their sizes from \"Table1\" and \"Table3.\""
   ]
  },
  {
   "cell_type": "code",
   "execution_count": 15,
   "id": "2eb1ccf9-fff1-469d-9e01-d7f1570fc8fa",
   "metadata": {
    "tags": []
   },
   "outputs": [
    {
     "name": "stdout",
     "output_type": "stream",
     "text": [
      "  category                        Size  starrating\n",
      "0      Men  UK 6 (EU 40)\\UK 6.5\\...            5.0\n",
      "1      Men  UK 6 (EU 40)\\UK 6.5\\...            5.0\n",
      "2      Men  UK 6 (EU 40)\\UK 6.5\\...            5.0\n",
      "3      Men  UK 6 (EU 40)\\UK 6.5\\...            5.0\n",
      "4      Men  UK 6 (EU 40)\\UK 6.5\\...            5.0\n",
      "5      Men  UK 6 (EU 40)\\UK 6.5\\...            5.0\n",
      "6      Men  UK 6 (EU 40)\\UK 6.5\\...            5.0\n",
      "7      Men  UK 6 (EU 40)\\UK 6.5\\...            5.0\n",
      "8      Men  UK 6 (EU 40)\\UK 6.5\\...            5.0\n",
      "9      Men  UK 6 (EU 40)\\UK 6.5\\...            5.0\n"
     ]
    }
   ],
   "source": [
    "import sqlite3\n",
    "import pandas as pd\n",
    "conn = sqlite3.connect('top_rated_mens_shoes.db')\n",
    "\n",
    "csv_file_path_table1 = r'C:\\Users\\ACHU NARAYAN\\Desktop\\dt\\assignment\\flip robo ds2306\\selenium\\table 1.csv'\n",
    "df_table1 = pd.read_csv(csv_file_path_table1)\n",
    "df_table1.to_sql('Table1', conn, if_exists='replace', index=False)\n",
    "\n",
    "csv_file_path_table3 = r'C:\\Users\\ACHU NARAYAN\\Desktop\\dt\\assignment\\flip robo ds2306\\selenium\\table 3.csv'\n",
    "df_table3 = pd.read_csv(csv_file_path_table3)\n",
    "df_table3.to_sql('Table3', conn, if_exists='replace', index=False)\n",
    "\n",
    "query = '''\n",
    "    SELECT T1.category, T1.Size, T3.starrating\n",
    "    FROM Table1 T1\n",
    "    JOIN Table3 T3 ON T1.Size = T3.Size\n",
    "    WHERE T1.category = 'Men'  -- Assuming 'Men' is the category for men's shoes\n",
    "    ORDER BY T3.starrating DESC\n",
    "    LIMIT 10;  -- Adjust the limit as needed\n",
    "'''\n",
    "\n",
    "result_df = pd.read_sql(query, conn)\n",
    "\n",
    "print(result_df)\n",
    "\n",
    "conn.close()\n"
   ]
  },
  {
   "cell_type": "markdown",
   "id": "044c9552-454e-46fc-af89-97d781708e09",
   "metadata": {},
   "source": [
    "2  Write a  query calculates the average comfort rating for each category from \"Table1\" and \"Table3.\""
   ]
  },
  {
   "cell_type": "code",
   "execution_count": 18,
   "id": "2dcab377-3a86-4079-94a9-e34c49adb4f8",
   "metadata": {
    "tags": []
   },
   "outputs": [
    {
     "name": "stdout",
     "output_type": "stream",
     "text": [
      "  category AverageComfortRating\n",
      "0      Men                 None\n",
      "1     Men           Comfortable\n",
      "2    Women                 None\n",
      "3   Women           Comfortable\n"
     ]
    }
   ],
   "source": [
    "import sqlite3\n",
    "import pandas as pd\n",
    "\n",
    "conn = sqlite3.connect('average_comfort.db')  \n",
    "\n",
    "csv_file_path_table1 = r'C:\\Users\\ACHU NARAYAN\\Desktop\\dt\\assignment\\flip robo ds2306\\selenium\\table 1.csv'\n",
    "df_table1 = pd.read_csv(csv_file_path_table1)\n",
    "df_table1.to_sql('Table1', conn, if_exists='replace', index=False)\n",
    "\n",
    "csv_file_path_table3 = r'C:\\Users\\ACHU NARAYAN\\Desktop\\dt\\assignment\\flip robo ds2306\\selenium\\table 3.csv'\n",
    "df_table3 = pd.read_csv(csv_file_path_table3)\n",
    "df_table3.to_sql('Table3', conn, if_exists='replace', index=False)\n",
    "\n",
    "query = '''\n",
    "    SELECT\n",
    "        T1.category,\n",
    "        T3.Comfort AS AverageComfortRating\n",
    "    FROM\n",
    "        Table1 T1\n",
    "    JOIN\n",
    "        Table3 T3 ON T1.category = T3.category\n",
    "    GROUP BY\n",
    "        T1.category;\n",
    "'''\n",
    "\n",
    "result_df = pd.read_sql(query, conn)\n",
    "\n",
    "print(result_df)\n",
    "\n",
    "conn.close()\n"
   ]
  },
  {
   "cell_type": "markdown",
   "id": "83ce6119-2d06-422f-8853-17160377a286",
   "metadata": {},
   "source": [
    "3  Write a  query identifies products with a durability/quality/performance rating higher than the average from \"Table1\" and \"Table3.\""
   ]
  },
  {
   "cell_type": "code",
   "execution_count": 20,
   "id": "b465544d-80b7-4101-b118-9fac1b75cebe",
   "metadata": {
    "tags": []
   },
   "outputs": [
    {
     "name": "stdout",
     "output_type": "stream",
     "text": [
      "                                                ShoeName  Performance_Table1  \\\n",
      "0      Just In\\nNike Air Force 1 '07 Pro Tech\\nMen's ...                 6.0   \n",
      "1      Just In\\nNike Air Force 1 '07 Pro Tech\\nMen's ...                 6.0   \n",
      "2      Just In\\nNike Air Force 1 '07 Pro Tech\\nMen's ...                 6.0   \n",
      "3      Just In\\nNike Air Force 1 '07 Pro Tech\\nMen's ...                 6.0   \n",
      "4      Just In\\nNike Air Force 1 '07 Pro Tech\\nMen's ...                 6.0   \n",
      "...                                                  ...                 ...   \n",
      "44491                                 Grey boots for men                 6.0   \n",
      "44492                                 Grey boots for men                 6.0   \n",
      "44493                                 Grey boots for men                 6.0   \n",
      "44494                                 Grey boots for men                 6.0   \n",
      "44495                                 Grey boots for men                 6.0   \n",
      "\n",
      "       Performance_Table3  \n",
      "0                     5.0  \n",
      "1                     4.0  \n",
      "2                     3.0  \n",
      "3                     6.0  \n",
      "4                     4.0  \n",
      "...                   ...  \n",
      "44491                 NaN  \n",
      "44492                 NaN  \n",
      "44493                 NaN  \n",
      "44494                 NaN  \n",
      "44495                 NaN  \n",
      "\n",
      "[44496 rows x 3 columns]\n"
     ]
    }
   ],
   "source": [
    "import sqlite3\n",
    "import pandas as pd\n",
    "\n",
    "\n",
    "conn = sqlite3.connect('high_performance_products.db')  \n",
    "\n",
    "csv_file_path_table1 = r'C:\\Users\\ACHU NARAYAN\\Desktop\\dt\\assignment\\flip robo ds2306\\selenium\\table 1.csv'\n",
    "df_table1 = pd.read_csv(csv_file_path_table1)\n",
    "df_table1.to_sql('Table1', conn, if_exists='replace', index=False)\n",
    "\n",
    "csv_file_path_table3 = r'C:\\Users\\ACHU NARAYAN\\Desktop\\dt\\assignment\\flip robo ds2306\\selenium\\table 3.csv'\n",
    "df_table3 = pd.read_csv(csv_file_path_table3)\n",
    "df_table3.to_sql('Table3', conn, if_exists='replace', index=False)\n",
    "\n",
    "average_performance_query = 'SELECT AVG(performance) AS average_performance FROM Table3;'\n",
    "average_performance = pd.read_sql(average_performance_query, conn)['average_performance'].iloc[0]\n",
    "\n",
    "query = f'''\n",
    "    SELECT\n",
    "        T1.ShoeName,\n",
    "        T1.performance AS Performance_Table1,\n",
    "        T3.performance AS Performance_Table3\n",
    "    FROM\n",
    "        Table1 T1\n",
    "    JOIN\n",
    "        Table3 T3 ON T1.performance > {average_performance};\n",
    "'''\n",
    "\n",
    "result_df = pd.read_sql(query, conn)\n",
    "\n",
    "print(result_df)\n",
    "conn.close()\n"
   ]
  },
  {
   "cell_type": "code",
   "execution_count": 24,
   "id": "47f9a9e2-337a-4c73-97fb-dcccedc5b79b",
   "metadata": {
    "tags": []
   },
   "outputs": [
    {
     "name": "stdout",
     "output_type": "stream",
     "text": [
      "                                                ShoeName  Performance_Table1  \\\n",
      "0      Bestseller\\nNike Dunk Low Retro Premium\\nMen's...                 5.0   \n",
      "1      Bestseller\\nNike Dunk Low Retro Premium\\nMen's...                 5.0   \n",
      "2      Bestseller\\nNike Dunk Low Retro Premium\\nMen's...                 5.0   \n",
      "3      Bestseller\\nNike Dunk Low Retro Premium\\nMen's...                 5.0   \n",
      "4      Bestseller\\nNike Dunk Low Retro Premium\\nMen's...                 5.0   \n",
      "...                                                  ...                 ...   \n",
      "17608                                 Grey boots for men                 5.0   \n",
      "17609                                 Grey boots for men                 5.0   \n",
      "17610                                 Grey boots for men                 5.0   \n",
      "17611                                 Grey boots for men                 5.0   \n",
      "17612                                 Grey boots for men                 5.0   \n",
      "\n",
      "       Performance_Table3  \n",
      "0                       5  \n",
      "1                       5  \n",
      "2                       5  \n",
      "3                       5  \n",
      "4                       5  \n",
      "...                   ...  \n",
      "17608                   5  \n",
      "17609                   5  \n",
      "17610                   5  \n",
      "17611                   5  \n",
      "17612                   5  \n",
      "\n",
      "[17613 rows x 3 columns]\n"
     ]
    }
   ],
   "source": [
    "import sqlite3\n",
    "import pandas as pd\n",
    "\n",
    "conn = sqlite3.connect('high_performance_products.db')  \n",
    "\n",
    "csv_file_path_table1 = r'C:\\Users\\ACHU NARAYAN\\Desktop\\dt\\assignment\\flip robo ds2306\\selenium\\table 1.csv'\n",
    "df_table1 = pd.read_csv(csv_file_path_table1)\n",
    "df_table1.to_sql('Table1', conn, if_exists='replace', index=False)\n",
    "\n",
    "csv_file_path_table3 = r'C:\\Users\\ACHU NARAYAN\\Desktop\\dt\\assignment\\flip robo ds2306\\selenium\\table 3.csv'\n",
    "df_table3 = pd.read_csv(csv_file_path_table3)\n",
    "df_table3['performance'] = 5  \n",
    "df_table3.to_sql('Table3', conn, if_exists='replace', index=False)\n",
    "\n",
    "query = '''\n",
    "    SELECT\n",
    "        T1.ShoeName,\n",
    "        T1.performance AS Performance_Table1,\n",
    "        T3.performance AS Performance_Table3\n",
    "    FROM\n",
    "        Table1 T1\n",
    "    JOIN\n",
    "        Table3 T3 ON T1.performance = T3.performance;\n",
    "'''\n",
    "\n",
    "result_df = pd.read_sql(query, conn)\n",
    "\n",
    "print(result_df)\n",
    "\n",
    "conn.close()\n"
   ]
  },
  {
   "cell_type": "markdown",
   "id": "eb2dc56f-7d67-4dab-9828-e5be1493b039",
   "metadata": {},
   "source": [
    "4    Write a  subquery finds products with comfort ratings above the average comfort rating using \"Table1\" and \"Table3.\""
   ]
  },
  {
   "cell_type": "code",
   "execution_count": 27,
   "id": "be36c730-0f21-4855-bc10-f80df270c7ad",
   "metadata": {
    "tags": []
   },
   "outputs": [
    {
     "name": "stdout",
     "output_type": "stream",
     "text": [
      "                               ShoeName           Comfort\n",
      "0          Nike Dunk Low\\nWomen's Shoes  Very Comfortable\n",
      "1          Nike Dunk Low\\nWomen's Shoes  Very Comfortable\n",
      "2          Nike Dunk Low\\nWomen's Shoes  Very Comfortable\n",
      "3          Nike Dunk Low\\nWomen's Shoes  Very Comfortable\n",
      "4          Nike Dunk Low\\nWomen's Shoes  Very Comfortable\n",
      "...                                 ...               ...\n",
      "6079  Chiku/Toupe Chelsea Boots for Men  Very Comfortable\n",
      "6080  Chiku/Toupe Chelsea Boots for Men  Very Comfortable\n",
      "6081  Chiku/Toupe Chelsea Boots for Men  Very Comfortable\n",
      "6082  Chiku/Toupe Chelsea Boots for Men  Very Comfortable\n",
      "6083  Chiku/Toupe Chelsea Boots for Men  Very Comfortable\n",
      "\n",
      "[6084 rows x 2 columns]\n"
     ]
    }
   ],
   "source": [
    "import sqlite3\n",
    "import pandas as pd\n",
    "\n",
    "conn = sqlite3.connect('very_comfortable_products.db')  \n",
    "\n",
    "csv_file_path_table1 = r'C:\\Users\\ACHU NARAYAN\\Desktop\\dt\\assignment\\flip robo ds2306\\selenium\\table 1.csv'\n",
    "df_table1 = pd.read_csv(csv_file_path_table1)\n",
    "df_table1.to_sql('Table1', conn, if_exists='replace', index=False)\n",
    "\n",
    "csv_file_path_table3 = r'C:\\Users\\ACHU NARAYAN\\Desktop\\dt\\assignment\\flip robo ds2306\\selenium\\table 3.csv'\n",
    "df_table3 = pd.read_csv(csv_file_path_table3)\n",
    "df_table3.to_sql('Table3', conn, if_exists='replace', index=False)\n",
    "\n",
    "query = '''\n",
    "    SELECT Table1.ShoeName, Table1.Comfort\n",
    "    FROM Table1\n",
    "    JOIN Table3 ON Table1.Comfort = Table3.Comfort\n",
    "    WHERE Table1.Comfort = 'Very Comfortable' AND Table3.Comfort = 'Very Comfortable';\n",
    "'''\n",
    "\n",
    "result_df = pd.read_sql(query, conn)\n",
    "\n",
    "print(result_df)\n",
    "\n",
    "conn.close()\n"
   ]
  },
  {
   "cell_type": "markdown",
   "id": "e15019d4-b7e3-4c3c-942a-dc8627d6b9ad",
   "metadata": {},
   "source": [
    " 5 Write a  query joins Table 1  and Table 2  using the \"Style code/Product code\" column, allowing you to retrieve shoe information along with product details."
   ]
  },
  {
   "cell_type": "code",
   "execution_count": 32,
   "id": "98a100c2-8ac3-4b8c-910a-c328a0983eec",
   "metadata": {
    "tags": []
   },
   "outputs": [
    {
     "name": "stdout",
     "output_type": "stream",
     "text": [
      "                                              ShoeName category no_of_colors  \\\n",
      "0    Bestseller\\nNike Dunk Low Retro Premium\\nMen's...      Men     1 colour   \n",
      "1             Nike Blazer Low '77 Vintage\\nMen's Shoes      Men    3 colours   \n",
      "2        Bestseller\\nNike Air Force 1 '07\\nMen's Shoes      Men    2 colours   \n",
      "3    Just In\\nNike Air Force 1 '07 Pro Tech\\nMen's ...      Men    3 colours   \n",
      "4                   Nike Court Vision Low\\nMen's Shoes      Men     1 colour   \n",
      "..                                                 ...      ...          ...   \n",
      "303                                Mammoth OLIVE GREEN      Men    3 colours   \n",
      "304                  Chiku/Toupe Chelsea Boots for Men      Men    3 colours   \n",
      "305                   Woodland RUST BROWN hiking shoes      Men    3 colours   \n",
      "306                        Woodland OLIVE hiking boots      Men    3 colours   \n",
      "307                                 Grey boots for men      Men    3 colours   \n",
      "\n",
      "         Price                    Color1               Color2          Color3  \\\n",
      "0     9 695.00              Deep Jungle          Light Silver     Deep Jungle   \n",
      "1     7 195.00                     White                 Sail           Black   \n",
      "2     7 495.00                     White                White            None   \n",
      "3    13 995.00   Light Silver                           Clear  Light Silver     \n",
      "4     5 695.00                      Sail  Light Orewood Brown           White   \n",
      "..         ...                       ...                  ...             ...   \n",
      "303       3895                     BLACK                 None            None   \n",
      "304      12995                     CAMEL                 None            None   \n",
      "305       4197                     BLACK                 None            None   \n",
      "306       4295                     BLACK                 None            None   \n",
      "307       5995                     BLACK                 None            None   \n",
      "\n",
      "            Color4 Color5  \n",
      "0            White   None  \n",
      "1    Pine Green      None  \n",
      "2             None   None  \n",
      "3             None   None  \n",
      "4            Black   None  \n",
      "..             ...    ...  \n",
      "303           None   None  \n",
      "304           None   None  \n",
      "305           None   None  \n",
      "306           None   None  \n",
      "307           None   None  \n",
      "\n",
      "[308 rows x 9 columns]\n"
     ]
    }
   ],
   "source": [
    "import sqlite3\n",
    "import pandas as pd\n",
    "\n",
    "conn = sqlite3.connect('shoe_details.db')  \n",
    "\n",
    "csv_file_path_table1 = r'C:\\Users\\ACHU NARAYAN\\Desktop\\dt\\assignment\\flip robo ds2306\\selenium\\table 1.csv'\n",
    "df_table1 = pd.read_csv(csv_file_path_table1,encoding='latin1')\n",
    "df_table1.to_sql('Table1', conn, if_exists='replace', index=False)\n",
    "\n",
    "csv_file_path_table2 = r'C:\\Users\\ACHU NARAYAN\\Desktop\\dt\\assignment\\flip robo ds2306\\selenium\\table 2(AutoRecovered).csv'\n",
    "df_table2 = pd.read_csv(csv_file_path_table2,encoding='latin1')\n",
    "df_table2.to_sql('Table2', conn, if_exists='replace', index=False)\n",
    "\n",
    "query = '''\n",
    "    SELECT T1.ShoeName, T1.category, T1.no_of_colors, T1.Price,\n",
    "           T2.Color1, T2.Color2, T2.Color3, T2.Color4, T2.Color5\n",
    "    FROM Table1 T1\n",
    "    JOIN Table2 T2 ON T1.StyleCode = T2.StyleCode;\n",
    "'''\n",
    "\n",
    "result_df = pd.read_sql(query, conn)\n",
    "\n",
    "print(result_df)\n",
    "\n",
    "conn.close()\n"
   ]
  },
  {
   "cell_type": "markdown",
   "id": "23b524e1-1d9f-4ae9-b917-a63cbd917c8c",
   "metadata": {},
   "source": [
    "6 Write a  query that  identifies products with a star rating above the average star rating for their respective size."
   ]
  },
  {
   "cell_type": "code",
   "execution_count": 33,
   "id": "59217f00-a062-4632-8b48-f63a6a05adec",
   "metadata": {
    "tags": []
   },
   "outputs": [
    {
     "name": "stdout",
     "output_type": "stream",
     "text": [
      "     category no_of_colors      Price  \\\n",
      "0         Men     1 colour       3000   \n",
      "1         Men     1 colour   9 695.00   \n",
      "2         Men    3 colours   6 795.00   \n",
      "3       Women     1 colour       2625   \n",
      "4         Men    3 colours       4871   \n",
      "...       ...          ...        ...   \n",
      "3524   Women     4 colours  11 999.00   \n",
      "3525    Women    2 colours       3074   \n",
      "3526      Men    4 colours   5 695.00   \n",
      "3527     Men     2 colours   2 799.50   \n",
      "3528   Women     2 colours   2 999.50   \n",
      "\n",
      "                                               ShoeName  starrating  \\\n",
      "0     Axelion NXT Camo Men's Running Shoes Puma Blac...         5.0   \n",
      "1     Bestseller\\nNike Dunk Low Retro Premium\\nMen's...         5.0   \n",
      "2     Bestseller\\nNike SB Zoom Blazer Low Pro GT\\nSk...         5.0   \n",
      "3     Better Foam Prowl Slip On Women's Training Sho...         5.0   \n",
      "4                                   Brown Boots for Men         5.0   \n",
      "...                                                 ...         ...   \n",
      "3524                                     Samba OG Shoes         4.9   \n",
      "3525  Soft ride Flair Women's Running Shoes PUMA Bla...         4.9   \n",
      "3526  Sustainable Materials\\nNikeCourt Legacy\\nMen's...         4.9   \n",
      "3527                                   Ultimashow Shoes         4.9   \n",
      "3528                                   X_PLRBOOST Shoes         4.9   \n",
      "\n",
      "                            Size  \n",
      "0     UK 6 (EU 40)\\UK 6.5\\...     \n",
      "1     UK 6 (EU 40)\\UK 6.5\\...     \n",
      "2     UK 6 (EU 40)\\UK 6.5\\...     \n",
      "3     UK 6 (EU 40)\\UK 6.5\\...     \n",
      "4     UK 6 (EU 40)\\UK 6.5\\...     \n",
      "...                          ...  \n",
      "3524        35\\36\\37\\38\\39\\40\\41  \n",
      "3525        35\\36\\37\\38\\39\\40\\41  \n",
      "3526        35\\36\\37\\38\\39\\40\\41  \n",
      "3527        35\\36\\37\\38\\39\\40\\41  \n",
      "3528        35\\36\\37\\38\\39\\40\\41  \n",
      "\n",
      "[3529 rows x 6 columns]\n"
     ]
    }
   ],
   "source": [
    "import sqlite3\n",
    "import pandas as pd\n",
    "\n",
    "conn = sqlite3.connect('star_rating_analysis.db')  \n",
    "\n",
    "csv_file_path_table1 = r'C:\\Users\\ACHU NARAYAN\\Desktop\\dt\\assignment\\flip robo ds2306\\selenium\\table 1.csv'\n",
    "df_table1 = pd.read_csv(csv_file_path_table1, encoding='latin1')\n",
    "df_table1.to_sql('Table1', conn, if_exists='replace', index=False)\n",
    "\n",
    "\n",
    "csv_file_path_table3 = r'C:\\Users\\ACHU NARAYAN\\Desktop\\dt\\assignment\\flip robo ds2306\\selenium\\table 3.csv'\n",
    "df_table3 = pd.read_csv(csv_file_path_table3, encoding='latin1')\n",
    "df_table3.to_sql('Table3', conn, if_exists='replace', index=False)\n",
    "\n",
    "\n",
    "query = '''\n",
    "    SELECT T1.category, T1.no_of_colors, T1.Price, T1.ShoeName, T3.starrating, T3.Size\n",
    "    FROM Table1 T1\n",
    "    JOIN Table3 T3 ON T1.starrating = T3.starrating\n",
    "    WHERE T3.starrating > (SELECT AVG(starrating) FROM Table3 WHERE Size = T3.Size);\n",
    "'''\n",
    "\n",
    "result_df = pd.read_sql(query, conn)\n",
    "\n",
    "print(result_df)\n",
    "\n",
    "conn.close()\n"
   ]
  },
  {
   "cell_type": "markdown",
   "id": "1a3de555-3d8d-477d-8a9a-fcb59077d043",
   "metadata": {},
   "source": [
    "7  Write  a  query finds products with the highest comfort rating in each category."
   ]
  },
  {
   "cell_type": "code",
   "execution_count": 34,
   "id": "197e13bc-7e73-406a-a397-72d056b4199a",
   "metadata": {
    "tags": []
   },
   "outputs": [
    {
     "name": "stdout",
     "output_type": "stream",
     "text": [
      "     category no_of_colors     Price                            ShoeName  \\\n",
      "0         Men     1 colour  5 695.00  Nike Court Vision Low\\nMen's Shoes   \n",
      "1         Men     1 colour  5 695.00  Nike Court Vision Low\\nMen's Shoes   \n",
      "2         Men     1 colour  5 695.00  Nike Court Vision Low\\nMen's Shoes   \n",
      "3         Men     1 colour  5 695.00  Nike Court Vision Low\\nMen's Shoes   \n",
      "4         Men     1 colour  5 695.00  Nike Court Vision Low\\nMen's Shoes   \n",
      "...       ...          ...       ...                                 ...   \n",
      "6469      Men    3 colours     12995   Chiku/Toupe Chelsea Boots for Men   \n",
      "6470      Men    3 colours     12995   Chiku/Toupe Chelsea Boots for Men   \n",
      "6471      Men    3 colours     12995   Chiku/Toupe Chelsea Boots for Men   \n",
      "6472      Men    3 colours     12995   Chiku/Toupe Chelsea Boots for Men   \n",
      "6473      Men    3 colours     12995   Chiku/Toupe Chelsea Boots for Men   \n",
      "\n",
      "               Comfort                                          Size  \n",
      "0     Very Comfortable                          35\\36\\37\\38\\39\\40\\41  \n",
      "1     Very Comfortable                          35\\36\\37\\38\\39\\40\\41  \n",
      "2     Very Comfortable                          35\\36\\37\\38\\39\\40\\41  \n",
      "3     Very Comfortable                          35\\36\\37\\38\\39\\40\\41  \n",
      "4     Very Comfortable                          35\\36\\37\\38\\39\\40\\41  \n",
      "...                ...                                           ...  \n",
      "6469  Very Comfortable                      UK 3\\UK 3.5\\UK 4\\U...     \n",
      "6470  Very Comfortable                      UK 3\\UK 3.5\\UK 4\\U...     \n",
      "6471  Very Comfortable                    UK 6 (EU 40)\\UK 6.5\\...     \n",
      "6472  Very Comfortable         UK-6\\UK-7\\UK-8\\UK-9\\UK-10\\UK-11\\UK-12  \n",
      "6473  Very Comfortable  UK-7\\UK-8\\UK-9\\UK-10\\UK-11\\UK-12\\UK-13\\UK-14  \n",
      "\n",
      "[6474 rows x 6 columns]\n"
     ]
    }
   ],
   "source": [
    "import sqlite3\n",
    "import pandas as pd\n",
    "\n",
    "conn = sqlite3.connect('comfort_rating_analysis.db')  \n",
    "\n",
    "csv_file_path_table1 = r'C:\\Users\\ACHU NARAYAN\\Desktop\\dt\\assignment\\flip robo ds2306\\selenium\\table 1.csv'\n",
    "df_table1 = pd.read_csv(csv_file_path_table1, encoding='latin1')\n",
    "df_table1.to_sql('Table1', conn, if_exists='replace', index=False)\n",
    "\n",
    "csv_file_path_table3 = r'C:\\Users\\ACHU NARAYAN\\Desktop\\dt\\assignment\\flip robo ds2306\\selenium\\table 3.csv'\n",
    "df_table3 = pd.read_csv(csv_file_path_table3, encoding='latin1')\n",
    "df_table3.to_sql('Table3', conn, if_exists='replace', index=False)\n",
    "\n",
    "query = '''\n",
    "    SELECT T1.category, T1.no_of_colors, T1.Price, T1.ShoeName, T3.Comfort, T3.Size\n",
    "    FROM Table1 T1\n",
    "    JOIN Table3 T3 ON T1.Comfort = T3.Comfort\n",
    "    WHERE T3.Comfort = 'Very Comfortable';\n",
    "'''\n",
    "result_df = pd.read_sql(query, conn)\n",
    "print(result_df)\n",
    "\n",
    "conn.close()\n"
   ]
  },
  {
   "cell_type": "code",
   "execution_count": null,
   "id": "4f2ffb6b-d82d-4f12-8129-72bc37d885e9",
   "metadata": {},
   "outputs": [],
   "source": [
    "End of Project."
   ]
  }
 ],
 "metadata": {
  "kernelspec": {
   "display_name": "Python 3 (ipykernel)",
   "language": "python",
   "name": "python3"
  },
  "language_info": {
   "codemirror_mode": {
    "name": "ipython",
    "version": 3
   },
   "file_extension": ".py",
   "mimetype": "text/x-python",
   "name": "python",
   "nbconvert_exporter": "python",
   "pygments_lexer": "ipython3",
   "version": "3.11.3"
  }
 },
 "nbformat": 4,
 "nbformat_minor": 5
}
